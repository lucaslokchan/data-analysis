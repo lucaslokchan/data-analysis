{
  "nbformat": 4,
  "nbformat_minor": 0,
  "metadata": {
    "colab": {
      "name": "08.Data Wrangling Join Combine and Reshape.ipynb",
      "provenance": [],
      "collapsed_sections": [],
      "authorship_tag": "ABX9TyPjPARnq7onuiJ1bUHD9zWg"
    },
    "kernelspec": {
      "name": "python3",
      "display_name": "Python 3"
    },
    "language_info": {
      "name": "python"
    }
  },
  "cells": [
    {
      "cell_type": "markdown",
      "metadata": {
        "id": "1EYSsjZXqER2"
      },
      "source": [
        "> In many applications, data may be spread across a number of files or databases or be arranged in a form that is not easy to analyze. This chapter focuses on tools to help combine, join, and rearrange data"
      ]
    },
    {
      "cell_type": "markdown",
      "metadata": {
        "id": "LBwddQjbpxAP"
      },
      "source": [
        "# 8.1 Hierarchical Indexing"
      ]
    },
    {
      "cell_type": "markdown",
      "metadata": {
        "id": "vp1z3aBDsIwl"
      },
      "source": [
        "Hierarchical indexing is an important feature of pandas that enables you to **have multiple (two or more) index levels on an axis**\n",
        "\n",
        "Somewhat abstractly, it **provides a way for you to work with higher dimensional data in a lower dimensional form**\n",
        "\n",
        "Let’s start with a simple example; create a Series with a list of lists (or arrays) as the index:"
      ]
    },
    {
      "cell_type": "code",
      "metadata": {
        "id": "BC9Gjy3tsnMF"
      },
      "source": [
        "import pandas as pd\n",
        "import numpy as np"
      ],
      "execution_count": 140,
      "outputs": []
    },
    {
      "cell_type": "code",
      "metadata": {
        "id": "b6dHUJNIpg7B"
      },
      "source": [
        "data = pd.Series(np.random.randn(9),\n",
        "                 index=[['a', 'a', 'a', 'b', 'b', 'c', 'c', 'd', 'd'],\n",
        "                        [1, 2, 3, 1, 3, 1, 2, 2, 3]])"
      ],
      "execution_count": 141,
      "outputs": []
    },
    {
      "cell_type": "code",
      "metadata": {
        "colab": {
          "base_uri": "https://localhost:8080/"
        },
        "id": "M0XCP2-NsmPM",
        "outputId": "3b4c8930-64af-4ed3-9e78-178738068105"
      },
      "source": [
        "data"
      ],
      "execution_count": 142,
      "outputs": [
        {
          "output_type": "execute_result",
          "data": {
            "text/plain": [
              "a  1    0.230980\n",
              "   2   -1.590959\n",
              "   3   -0.879399\n",
              "b  1   -0.758886\n",
              "   3   -0.353289\n",
              "c  1    0.949128\n",
              "   2    0.151409\n",
              "d  2   -0.730713\n",
              "   3    0.712988\n",
              "dtype: float64"
            ]
          },
          "metadata": {},
          "execution_count": 142
        }
      ]
    },
    {
      "cell_type": "markdown",
      "metadata": {
        "id": "NDIrxw00s5W-"
      },
      "source": [
        "What you’re seeing is a prettified view of a Series with a MultiIndex as its index\n",
        "\n",
        "The “gaps” in the index display mean “use the label directly above”:"
      ]
    },
    {
      "cell_type": "code",
      "metadata": {
        "colab": {
          "base_uri": "https://localhost:8080/"
        },
        "id": "KXpr2uptsq5E",
        "outputId": "69313286-c398-445b-cee3-75f317fb589d"
      },
      "source": [
        "data.index"
      ],
      "execution_count": 143,
      "outputs": [
        {
          "output_type": "execute_result",
          "data": {
            "text/plain": [
              "MultiIndex([('a', 1),\n",
              "            ('a', 2),\n",
              "            ('a', 3),\n",
              "            ('b', 1),\n",
              "            ('b', 3),\n",
              "            ('c', 1),\n",
              "            ('c', 2),\n",
              "            ('d', 2),\n",
              "            ('d', 3)],\n",
              "           )"
            ]
          },
          "metadata": {},
          "execution_count": 143
        }
      ]
    },
    {
      "cell_type": "markdown",
      "metadata": {
        "id": "qH9epIietBGt"
      },
      "source": [
        "With a hierarchically indexed object, so-called **partial indexing** is possible, enabling you to concisely select subsets of the data:"
      ]
    },
    {
      "cell_type": "code",
      "metadata": {
        "colab": {
          "base_uri": "https://localhost:8080/"
        },
        "id": "PhOWF7lwtLul",
        "outputId": "86f3fabf-591f-41c0-b32d-25928ed76dec"
      },
      "source": [
        "data['b']"
      ],
      "execution_count": 144,
      "outputs": [
        {
          "output_type": "execute_result",
          "data": {
            "text/plain": [
              "1   -0.758886\n",
              "3   -0.353289\n",
              "dtype: float64"
            ]
          },
          "metadata": {},
          "execution_count": 144
        }
      ]
    },
    {
      "cell_type": "code",
      "metadata": {
        "colab": {
          "base_uri": "https://localhost:8080/"
        },
        "id": "LzCokY7ttMlq",
        "outputId": "36da4c22-c59a-4370-e2be-2598a59b131e"
      },
      "source": [
        "data['b':'c']"
      ],
      "execution_count": 145,
      "outputs": [
        {
          "output_type": "execute_result",
          "data": {
            "text/plain": [
              "b  1   -0.758886\n",
              "   3   -0.353289\n",
              "c  1    0.949128\n",
              "   2    0.151409\n",
              "dtype: float64"
            ]
          },
          "metadata": {},
          "execution_count": 145
        }
      ]
    },
    {
      "cell_type": "code",
      "metadata": {
        "colab": {
          "base_uri": "https://localhost:8080/"
        },
        "id": "H0Kw3b1dtQt2",
        "outputId": "d226d9f8-9b00-4599-ed9f-014617c34570"
      },
      "source": [
        "data.loc[['b', 'd']]"
      ],
      "execution_count": 146,
      "outputs": [
        {
          "output_type": "execute_result",
          "data": {
            "text/plain": [
              "b  1   -0.758886\n",
              "   3   -0.353289\n",
              "d  2   -0.730713\n",
              "   3    0.712988\n",
              "dtype: float64"
            ]
          },
          "metadata": {},
          "execution_count": 146
        }
      ]
    },
    {
      "cell_type": "markdown",
      "metadata": {
        "id": "7uR_POectUyF"
      },
      "source": [
        "Selection is even possible from an “inner” level:"
      ]
    },
    {
      "cell_type": "code",
      "metadata": {
        "colab": {
          "base_uri": "https://localhost:8080/"
        },
        "id": "Bz1XROBPtWr9",
        "outputId": "81a26b09-8cda-4abe-cd87-4841df7b984e"
      },
      "source": [
        "data.loc[:,2]"
      ],
      "execution_count": 147,
      "outputs": [
        {
          "output_type": "execute_result",
          "data": {
            "text/plain": [
              "a   -1.590959\n",
              "c    0.151409\n",
              "d   -0.730713\n",
              "dtype: float64"
            ]
          },
          "metadata": {},
          "execution_count": 147
        }
      ]
    },
    {
      "cell_type": "markdown",
      "metadata": {
        "id": "kj4RnX9JddFp"
      },
      "source": [
        "Hierarchical indexing plays an important role in reshaping data and group-based operations like forming a pivot table\n",
        "\n",
        "For example, **you could rearrange the data into a DataFrame using its unstack method:**"
      ]
    },
    {
      "cell_type": "code",
      "metadata": {
        "colab": {
          "base_uri": "https://localhost:8080/",
          "height": 173
        },
        "id": "36NAmnJOdm5U",
        "outputId": "c2c6932f-5303-4dd1-ef7f-d807d6ae1ee0"
      },
      "source": [
        "data.unstack()"
      ],
      "execution_count": 148,
      "outputs": [
        {
          "output_type": "execute_result",
          "data": {
            "text/html": [
              "<div>\n",
              "<style scoped>\n",
              "    .dataframe tbody tr th:only-of-type {\n",
              "        vertical-align: middle;\n",
              "    }\n",
              "\n",
              "    .dataframe tbody tr th {\n",
              "        vertical-align: top;\n",
              "    }\n",
              "\n",
              "    .dataframe thead th {\n",
              "        text-align: right;\n",
              "    }\n",
              "</style>\n",
              "<table border=\"1\" class=\"dataframe\">\n",
              "  <thead>\n",
              "    <tr style=\"text-align: right;\">\n",
              "      <th></th>\n",
              "      <th>1</th>\n",
              "      <th>2</th>\n",
              "      <th>3</th>\n",
              "    </tr>\n",
              "  </thead>\n",
              "  <tbody>\n",
              "    <tr>\n",
              "      <th>a</th>\n",
              "      <td>0.230980</td>\n",
              "      <td>-1.590959</td>\n",
              "      <td>-0.879399</td>\n",
              "    </tr>\n",
              "    <tr>\n",
              "      <th>b</th>\n",
              "      <td>-0.758886</td>\n",
              "      <td>NaN</td>\n",
              "      <td>-0.353289</td>\n",
              "    </tr>\n",
              "    <tr>\n",
              "      <th>c</th>\n",
              "      <td>0.949128</td>\n",
              "      <td>0.151409</td>\n",
              "      <td>NaN</td>\n",
              "    </tr>\n",
              "    <tr>\n",
              "      <th>d</th>\n",
              "      <td>NaN</td>\n",
              "      <td>-0.730713</td>\n",
              "      <td>0.712988</td>\n",
              "    </tr>\n",
              "  </tbody>\n",
              "</table>\n",
              "</div>"
            ],
            "text/plain": [
              "          1         2         3\n",
              "a  0.230980 -1.590959 -0.879399\n",
              "b -0.758886       NaN -0.353289\n",
              "c  0.949128  0.151409       NaN\n",
              "d       NaN -0.730713  0.712988"
            ]
          },
          "metadata": {},
          "execution_count": 148
        }
      ]
    },
    {
      "cell_type": "markdown",
      "metadata": {
        "id": "3P6yP5Ngdxcp"
      },
      "source": [
        "For example, you could rearrange the data into a DataFrame using its unstack method:"
      ]
    },
    {
      "cell_type": "code",
      "metadata": {
        "colab": {
          "base_uri": "https://localhost:8080/"
        },
        "id": "ZlyFU93pdzEN",
        "outputId": "16790a1c-bd4e-41ed-e078-47dc3661aaf7"
      },
      "source": [
        "data.unstack().stack()"
      ],
      "execution_count": 149,
      "outputs": [
        {
          "output_type": "execute_result",
          "data": {
            "text/plain": [
              "a  1    0.230980\n",
              "   2   -1.590959\n",
              "   3   -0.879399\n",
              "b  1   -0.758886\n",
              "   3   -0.353289\n",
              "c  1    0.949128\n",
              "   2    0.151409\n",
              "d  2   -0.730713\n",
              "   3    0.712988\n",
              "dtype: float64"
            ]
          },
          "metadata": {},
          "execution_count": 149
        }
      ]
    },
    {
      "cell_type": "markdown",
      "metadata": {
        "id": "LHprZm_nd44P"
      },
      "source": [
        "With a **DataFrame, either axis can have a hierarchical index:**"
      ]
    },
    {
      "cell_type": "code",
      "metadata": {
        "id": "vdOi9__cd8ZF"
      },
      "source": [
        "frame = pd.DataFrame(np.arange(12).reshape((4, 3)),\n",
        "                     index=[['a', 'a', 'b', 'b'], [1, 2, 1, 2]],\n",
        "                     columns=[['Ohio', 'Ohio', 'Colorado'],\n",
        "                              ['Green', 'Red', 'Green']])"
      ],
      "execution_count": 150,
      "outputs": []
    },
    {
      "cell_type": "code",
      "metadata": {
        "colab": {
          "base_uri": "https://localhost:8080/",
          "height": 204
        },
        "id": "0hkRCskJehfB",
        "outputId": "c7c5b4ad-44e1-41ed-dc73-2c52288256e5"
      },
      "source": [
        "frame"
      ],
      "execution_count": 151,
      "outputs": [
        {
          "output_type": "execute_result",
          "data": {
            "text/html": [
              "<div>\n",
              "<style scoped>\n",
              "    .dataframe tbody tr th:only-of-type {\n",
              "        vertical-align: middle;\n",
              "    }\n",
              "\n",
              "    .dataframe tbody tr th {\n",
              "        vertical-align: top;\n",
              "    }\n",
              "\n",
              "    .dataframe thead tr th {\n",
              "        text-align: left;\n",
              "    }\n",
              "</style>\n",
              "<table border=\"1\" class=\"dataframe\">\n",
              "  <thead>\n",
              "    <tr>\n",
              "      <th></th>\n",
              "      <th></th>\n",
              "      <th colspan=\"2\" halign=\"left\">Ohio</th>\n",
              "      <th>Colorado</th>\n",
              "    </tr>\n",
              "    <tr>\n",
              "      <th></th>\n",
              "      <th></th>\n",
              "      <th>Green</th>\n",
              "      <th>Red</th>\n",
              "      <th>Green</th>\n",
              "    </tr>\n",
              "  </thead>\n",
              "  <tbody>\n",
              "    <tr>\n",
              "      <th rowspan=\"2\" valign=\"top\">a</th>\n",
              "      <th>1</th>\n",
              "      <td>0</td>\n",
              "      <td>1</td>\n",
              "      <td>2</td>\n",
              "    </tr>\n",
              "    <tr>\n",
              "      <th>2</th>\n",
              "      <td>3</td>\n",
              "      <td>4</td>\n",
              "      <td>5</td>\n",
              "    </tr>\n",
              "    <tr>\n",
              "      <th rowspan=\"2\" valign=\"top\">b</th>\n",
              "      <th>1</th>\n",
              "      <td>6</td>\n",
              "      <td>7</td>\n",
              "      <td>8</td>\n",
              "    </tr>\n",
              "    <tr>\n",
              "      <th>2</th>\n",
              "      <td>9</td>\n",
              "      <td>10</td>\n",
              "      <td>11</td>\n",
              "    </tr>\n",
              "  </tbody>\n",
              "</table>\n",
              "</div>"
            ],
            "text/plain": [
              "     Ohio     Colorado\n",
              "    Green Red    Green\n",
              "a 1     0   1        2\n",
              "  2     3   4        5\n",
              "b 1     6   7        8\n",
              "  2     9  10       11"
            ]
          },
          "metadata": {},
          "execution_count": 151
        }
      ]
    },
    {
      "cell_type": "markdown",
      "metadata": {
        "id": "62Of6-rQe6fI"
      },
      "source": [
        "The hierarchical levels can have names (as strings or any Python objects). If so, these will show up in the console output:"
      ]
    },
    {
      "cell_type": "code",
      "metadata": {
        "id": "LOHfk0PJekgs"
      },
      "source": [
        "frame.index.names = ['key1', 'key2']"
      ],
      "execution_count": 152,
      "outputs": []
    },
    {
      "cell_type": "code",
      "metadata": {
        "id": "3UzE0awKfFny"
      },
      "source": [
        "frame.columns.names = ['state', 'color']"
      ],
      "execution_count": 153,
      "outputs": []
    },
    {
      "cell_type": "markdown",
      "metadata": {
        "id": "c8O9ehQYfZim"
      },
      "source": [
        "With partial column indexing you can similarly select groups of columns:"
      ]
    },
    {
      "cell_type": "code",
      "metadata": {
        "colab": {
          "base_uri": "https://localhost:8080/",
          "height": 204
        },
        "id": "3PxPDbtzfIGV",
        "outputId": "f794f46e-2a60-4fc0-a5a4-0e60c969f276"
      },
      "source": [
        "frame['Ohio']"
      ],
      "execution_count": 154,
      "outputs": [
        {
          "output_type": "execute_result",
          "data": {
            "text/html": [
              "<div>\n",
              "<style scoped>\n",
              "    .dataframe tbody tr th:only-of-type {\n",
              "        vertical-align: middle;\n",
              "    }\n",
              "\n",
              "    .dataframe tbody tr th {\n",
              "        vertical-align: top;\n",
              "    }\n",
              "\n",
              "    .dataframe thead th {\n",
              "        text-align: right;\n",
              "    }\n",
              "</style>\n",
              "<table border=\"1\" class=\"dataframe\">\n",
              "  <thead>\n",
              "    <tr style=\"text-align: right;\">\n",
              "      <th></th>\n",
              "      <th>color</th>\n",
              "      <th>Green</th>\n",
              "      <th>Red</th>\n",
              "    </tr>\n",
              "    <tr>\n",
              "      <th>key1</th>\n",
              "      <th>key2</th>\n",
              "      <th></th>\n",
              "      <th></th>\n",
              "    </tr>\n",
              "  </thead>\n",
              "  <tbody>\n",
              "    <tr>\n",
              "      <th rowspan=\"2\" valign=\"top\">a</th>\n",
              "      <th>1</th>\n",
              "      <td>0</td>\n",
              "      <td>1</td>\n",
              "    </tr>\n",
              "    <tr>\n",
              "      <th>2</th>\n",
              "      <td>3</td>\n",
              "      <td>4</td>\n",
              "    </tr>\n",
              "    <tr>\n",
              "      <th rowspan=\"2\" valign=\"top\">b</th>\n",
              "      <th>1</th>\n",
              "      <td>6</td>\n",
              "      <td>7</td>\n",
              "    </tr>\n",
              "    <tr>\n",
              "      <th>2</th>\n",
              "      <td>9</td>\n",
              "      <td>10</td>\n",
              "    </tr>\n",
              "  </tbody>\n",
              "</table>\n",
              "</div>"
            ],
            "text/plain": [
              "color      Green  Red\n",
              "key1 key2            \n",
              "a    1         0    1\n",
              "     2         3    4\n",
              "b    1         6    7\n",
              "     2         9   10"
            ]
          },
          "metadata": {},
          "execution_count": 154
        }
      ]
    },
    {
      "cell_type": "code",
      "metadata": {
        "colab": {
          "base_uri": "https://localhost:8080/"
        },
        "id": "tnG3ZGd0gos0",
        "outputId": "8d5f0806-0573-4946-8c2e-b5fcebadcfb5"
      },
      "source": [
        "frame['Ohio', 'Green']"
      ],
      "execution_count": 155,
      "outputs": [
        {
          "output_type": "execute_result",
          "data": {
            "text/plain": [
              "key1  key2\n",
              "a     1       0\n",
              "      2       3\n",
              "b     1       6\n",
              "      2       9\n",
              "Name: (Ohio, Green), dtype: int64"
            ]
          },
          "metadata": {},
          "execution_count": 155
        }
      ]
    },
    {
      "cell_type": "markdown",
      "metadata": {
        "id": "vd4NDnKjffrl"
      },
      "source": [
        "A MultiIndex can be created by itself and then reused; the columns in the preceding DataFrame with level names could be created like this:"
      ]
    },
    {
      "cell_type": "code",
      "metadata": {
        "colab": {
          "base_uri": "https://localhost:8080/"
        },
        "id": "Tb9n0MMNfkYT",
        "outputId": "ebfad429-b23c-4ece-9541-c702665b42ab"
      },
      "source": [
        "pd.MultiIndex.from_arrays([['Ohio', 'Ohio', 'Colorado'], ['Green', 'Red', 'Green']],\n",
        "                       names=['state', 'color'])"
      ],
      "execution_count": 156,
      "outputs": [
        {
          "output_type": "execute_result",
          "data": {
            "text/plain": [
              "MultiIndex([(    'Ohio', 'Green'),\n",
              "            (    'Ohio',   'Red'),\n",
              "            ('Colorado', 'Green')],\n",
              "           names=['state', 'color'])"
            ]
          },
          "metadata": {},
          "execution_count": 156
        }
      ]
    },
    {
      "cell_type": "markdown",
      "metadata": {
        "id": "HfyOn5LrgKRL"
      },
      "source": [
        "## Reordering and Sorting Levels"
      ]
    },
    {
      "cell_type": "markdown",
      "metadata": {
        "id": "3vFjbwKbgOXu"
      },
      "source": [
        "At times you will need to **rearrange the order of the levels on an axis or sort the data by the values in one specific level**\n",
        "\n",
        "The **swaplevel takes two level numbers or names and returns a new object with the levels interchanged **(but the data is otherwise unaltered):"
      ]
    },
    {
      "cell_type": "code",
      "metadata": {
        "colab": {
          "base_uri": "https://localhost:8080/",
          "height": 235
        },
        "id": "l5ra8VxOgfll",
        "outputId": "db25ed67-b7c2-42ab-cba0-bd729aefd768"
      },
      "source": [
        "frame.swaplevel('key1', 'key2')"
      ],
      "execution_count": 157,
      "outputs": [
        {
          "output_type": "execute_result",
          "data": {
            "text/html": [
              "<div>\n",
              "<style scoped>\n",
              "    .dataframe tbody tr th:only-of-type {\n",
              "        vertical-align: middle;\n",
              "    }\n",
              "\n",
              "    .dataframe tbody tr th {\n",
              "        vertical-align: top;\n",
              "    }\n",
              "\n",
              "    .dataframe thead tr th {\n",
              "        text-align: left;\n",
              "    }\n",
              "\n",
              "    .dataframe thead tr:last-of-type th {\n",
              "        text-align: right;\n",
              "    }\n",
              "</style>\n",
              "<table border=\"1\" class=\"dataframe\">\n",
              "  <thead>\n",
              "    <tr>\n",
              "      <th></th>\n",
              "      <th>state</th>\n",
              "      <th colspan=\"2\" halign=\"left\">Ohio</th>\n",
              "      <th>Colorado</th>\n",
              "    </tr>\n",
              "    <tr>\n",
              "      <th></th>\n",
              "      <th>color</th>\n",
              "      <th>Green</th>\n",
              "      <th>Red</th>\n",
              "      <th>Green</th>\n",
              "    </tr>\n",
              "    <tr>\n",
              "      <th>key2</th>\n",
              "      <th>key1</th>\n",
              "      <th></th>\n",
              "      <th></th>\n",
              "      <th></th>\n",
              "    </tr>\n",
              "  </thead>\n",
              "  <tbody>\n",
              "    <tr>\n",
              "      <th>1</th>\n",
              "      <th>a</th>\n",
              "      <td>0</td>\n",
              "      <td>1</td>\n",
              "      <td>2</td>\n",
              "    </tr>\n",
              "    <tr>\n",
              "      <th>2</th>\n",
              "      <th>a</th>\n",
              "      <td>3</td>\n",
              "      <td>4</td>\n",
              "      <td>5</td>\n",
              "    </tr>\n",
              "    <tr>\n",
              "      <th>1</th>\n",
              "      <th>b</th>\n",
              "      <td>6</td>\n",
              "      <td>7</td>\n",
              "      <td>8</td>\n",
              "    </tr>\n",
              "    <tr>\n",
              "      <th>2</th>\n",
              "      <th>b</th>\n",
              "      <td>9</td>\n",
              "      <td>10</td>\n",
              "      <td>11</td>\n",
              "    </tr>\n",
              "  </tbody>\n",
              "</table>\n",
              "</div>"
            ],
            "text/plain": [
              "state      Ohio     Colorado\n",
              "color     Green Red    Green\n",
              "key2 key1                   \n",
              "1    a        0   1        2\n",
              "2    a        3   4        5\n",
              "1    b        6   7        8\n",
              "2    b        9  10       11"
            ]
          },
          "metadata": {},
          "execution_count": 157
        }
      ]
    },
    {
      "cell_type": "markdown",
      "metadata": {
        "id": "-v-mORD9g2Jf"
      },
      "source": [
        "**sort_index, on the other hand, sorts the data using only the values in a single level**\n",
        "\n",
        "When swapping levels, it’s not uncommon to also use sort_index so that the result is lexicographically sorted by the indicated level:"
      ]
    },
    {
      "cell_type": "code",
      "metadata": {
        "colab": {
          "base_uri": "https://localhost:8080/",
          "height": 235
        },
        "id": "ch_U2sMRizU-",
        "outputId": "0f8e3e25-2de7-4dc9-f4fe-df451cbe6513"
      },
      "source": [
        "frame.sort_index(level=0)"
      ],
      "execution_count": 158,
      "outputs": [
        {
          "output_type": "execute_result",
          "data": {
            "text/html": [
              "<div>\n",
              "<style scoped>\n",
              "    .dataframe tbody tr th:only-of-type {\n",
              "        vertical-align: middle;\n",
              "    }\n",
              "\n",
              "    .dataframe tbody tr th {\n",
              "        vertical-align: top;\n",
              "    }\n",
              "\n",
              "    .dataframe thead tr th {\n",
              "        text-align: left;\n",
              "    }\n",
              "\n",
              "    .dataframe thead tr:last-of-type th {\n",
              "        text-align: right;\n",
              "    }\n",
              "</style>\n",
              "<table border=\"1\" class=\"dataframe\">\n",
              "  <thead>\n",
              "    <tr>\n",
              "      <th></th>\n",
              "      <th>state</th>\n",
              "      <th colspan=\"2\" halign=\"left\">Ohio</th>\n",
              "      <th>Colorado</th>\n",
              "    </tr>\n",
              "    <tr>\n",
              "      <th></th>\n",
              "      <th>color</th>\n",
              "      <th>Green</th>\n",
              "      <th>Red</th>\n",
              "      <th>Green</th>\n",
              "    </tr>\n",
              "    <tr>\n",
              "      <th>key1</th>\n",
              "      <th>key2</th>\n",
              "      <th></th>\n",
              "      <th></th>\n",
              "      <th></th>\n",
              "    </tr>\n",
              "  </thead>\n",
              "  <tbody>\n",
              "    <tr>\n",
              "      <th rowspan=\"2\" valign=\"top\">a</th>\n",
              "      <th>1</th>\n",
              "      <td>0</td>\n",
              "      <td>1</td>\n",
              "      <td>2</td>\n",
              "    </tr>\n",
              "    <tr>\n",
              "      <th>2</th>\n",
              "      <td>3</td>\n",
              "      <td>4</td>\n",
              "      <td>5</td>\n",
              "    </tr>\n",
              "    <tr>\n",
              "      <th rowspan=\"2\" valign=\"top\">b</th>\n",
              "      <th>1</th>\n",
              "      <td>6</td>\n",
              "      <td>7</td>\n",
              "      <td>8</td>\n",
              "    </tr>\n",
              "    <tr>\n",
              "      <th>2</th>\n",
              "      <td>9</td>\n",
              "      <td>10</td>\n",
              "      <td>11</td>\n",
              "    </tr>\n",
              "  </tbody>\n",
              "</table>\n",
              "</div>"
            ],
            "text/plain": [
              "state      Ohio     Colorado\n",
              "color     Green Red    Green\n",
              "key1 key2                   \n",
              "a    1        0   1        2\n",
              "     2        3   4        5\n",
              "b    1        6   7        8\n",
              "     2        9  10       11"
            ]
          },
          "metadata": {},
          "execution_count": 158
        }
      ]
    },
    {
      "cell_type": "code",
      "metadata": {
        "colab": {
          "base_uri": "https://localhost:8080/",
          "height": 235
        },
        "id": "s7KdaTbvjChe",
        "outputId": "525c5ef1-cce8-477e-e791-59c37e3ca862"
      },
      "source": [
        "frame.sort_index(level=1) # Sort By key2"
      ],
      "execution_count": 159,
      "outputs": [
        {
          "output_type": "execute_result",
          "data": {
            "text/html": [
              "<div>\n",
              "<style scoped>\n",
              "    .dataframe tbody tr th:only-of-type {\n",
              "        vertical-align: middle;\n",
              "    }\n",
              "\n",
              "    .dataframe tbody tr th {\n",
              "        vertical-align: top;\n",
              "    }\n",
              "\n",
              "    .dataframe thead tr th {\n",
              "        text-align: left;\n",
              "    }\n",
              "\n",
              "    .dataframe thead tr:last-of-type th {\n",
              "        text-align: right;\n",
              "    }\n",
              "</style>\n",
              "<table border=\"1\" class=\"dataframe\">\n",
              "  <thead>\n",
              "    <tr>\n",
              "      <th></th>\n",
              "      <th>state</th>\n",
              "      <th colspan=\"2\" halign=\"left\">Ohio</th>\n",
              "      <th>Colorado</th>\n",
              "    </tr>\n",
              "    <tr>\n",
              "      <th></th>\n",
              "      <th>color</th>\n",
              "      <th>Green</th>\n",
              "      <th>Red</th>\n",
              "      <th>Green</th>\n",
              "    </tr>\n",
              "    <tr>\n",
              "      <th>key1</th>\n",
              "      <th>key2</th>\n",
              "      <th></th>\n",
              "      <th></th>\n",
              "      <th></th>\n",
              "    </tr>\n",
              "  </thead>\n",
              "  <tbody>\n",
              "    <tr>\n",
              "      <th>a</th>\n",
              "      <th>1</th>\n",
              "      <td>0</td>\n",
              "      <td>1</td>\n",
              "      <td>2</td>\n",
              "    </tr>\n",
              "    <tr>\n",
              "      <th>b</th>\n",
              "      <th>1</th>\n",
              "      <td>6</td>\n",
              "      <td>7</td>\n",
              "      <td>8</td>\n",
              "    </tr>\n",
              "    <tr>\n",
              "      <th>a</th>\n",
              "      <th>2</th>\n",
              "      <td>3</td>\n",
              "      <td>4</td>\n",
              "      <td>5</td>\n",
              "    </tr>\n",
              "    <tr>\n",
              "      <th>b</th>\n",
              "      <th>2</th>\n",
              "      <td>9</td>\n",
              "      <td>10</td>\n",
              "      <td>11</td>\n",
              "    </tr>\n",
              "  </tbody>\n",
              "</table>\n",
              "</div>"
            ],
            "text/plain": [
              "state      Ohio     Colorado\n",
              "color     Green Red    Green\n",
              "key1 key2                   \n",
              "a    1        0   1        2\n",
              "b    1        6   7        8\n",
              "a    2        3   4        5\n",
              "b    2        9  10       11"
            ]
          },
          "metadata": {},
          "execution_count": 159
        }
      ]
    },
    {
      "cell_type": "code",
      "metadata": {
        "colab": {
          "base_uri": "https://localhost:8080/",
          "height": 235
        },
        "id": "XUa2UMssjN79",
        "outputId": "7db907ba-f864-4cb0-b51c-f8b043bfd15a"
      },
      "source": [
        "frame.swaplevel(0, 1).sort_index(level=0)"
      ],
      "execution_count": 160,
      "outputs": [
        {
          "output_type": "execute_result",
          "data": {
            "text/html": [
              "<div>\n",
              "<style scoped>\n",
              "    .dataframe tbody tr th:only-of-type {\n",
              "        vertical-align: middle;\n",
              "    }\n",
              "\n",
              "    .dataframe tbody tr th {\n",
              "        vertical-align: top;\n",
              "    }\n",
              "\n",
              "    .dataframe thead tr th {\n",
              "        text-align: left;\n",
              "    }\n",
              "\n",
              "    .dataframe thead tr:last-of-type th {\n",
              "        text-align: right;\n",
              "    }\n",
              "</style>\n",
              "<table border=\"1\" class=\"dataframe\">\n",
              "  <thead>\n",
              "    <tr>\n",
              "      <th></th>\n",
              "      <th>state</th>\n",
              "      <th colspan=\"2\" halign=\"left\">Ohio</th>\n",
              "      <th>Colorado</th>\n",
              "    </tr>\n",
              "    <tr>\n",
              "      <th></th>\n",
              "      <th>color</th>\n",
              "      <th>Green</th>\n",
              "      <th>Red</th>\n",
              "      <th>Green</th>\n",
              "    </tr>\n",
              "    <tr>\n",
              "      <th>key2</th>\n",
              "      <th>key1</th>\n",
              "      <th></th>\n",
              "      <th></th>\n",
              "      <th></th>\n",
              "    </tr>\n",
              "  </thead>\n",
              "  <tbody>\n",
              "    <tr>\n",
              "      <th rowspan=\"2\" valign=\"top\">1</th>\n",
              "      <th>a</th>\n",
              "      <td>0</td>\n",
              "      <td>1</td>\n",
              "      <td>2</td>\n",
              "    </tr>\n",
              "    <tr>\n",
              "      <th>b</th>\n",
              "      <td>6</td>\n",
              "      <td>7</td>\n",
              "      <td>8</td>\n",
              "    </tr>\n",
              "    <tr>\n",
              "      <th rowspan=\"2\" valign=\"top\">2</th>\n",
              "      <th>a</th>\n",
              "      <td>3</td>\n",
              "      <td>4</td>\n",
              "      <td>5</td>\n",
              "    </tr>\n",
              "    <tr>\n",
              "      <th>b</th>\n",
              "      <td>9</td>\n",
              "      <td>10</td>\n",
              "      <td>11</td>\n",
              "    </tr>\n",
              "  </tbody>\n",
              "</table>\n",
              "</div>"
            ],
            "text/plain": [
              "state      Ohio     Colorado\n",
              "color     Green Red    Green\n",
              "key2 key1                   \n",
              "1    a        0   1        2\n",
              "     b        6   7        8\n",
              "2    a        3   4        5\n",
              "     b        9  10       11"
            ]
          },
          "metadata": {},
          "execution_count": 160
        }
      ]
    },
    {
      "cell_type": "markdown",
      "metadata": {
        "id": "HfJ9tnYvjWzc"
      },
      "source": [
        "## Summary Statistics by Level"
      ]
    },
    {
      "cell_type": "markdown",
      "metadata": {
        "id": "z3V14tkclBV-"
      },
      "source": [
        "Many descriptive and summary statistics on DataFrame and Series have a **level option in which you can specify the level you want to aggregate by on a particular axis**\n",
        "\n",
        "Consider the above DataFrame; we can aggregate by level on either the rows or columns like so:"
      ]
    },
    {
      "cell_type": "code",
      "metadata": {
        "colab": {
          "base_uri": "https://localhost:8080/",
          "height": 173
        },
        "id": "9LJdwDUll-A2",
        "outputId": "433034f6-e929-4c12-8bb8-d0a3d3d35226"
      },
      "source": [
        "frame.sum(level='key2')"
      ],
      "execution_count": 161,
      "outputs": [
        {
          "output_type": "execute_result",
          "data": {
            "text/html": [
              "<div>\n",
              "<style scoped>\n",
              "    .dataframe tbody tr th:only-of-type {\n",
              "        vertical-align: middle;\n",
              "    }\n",
              "\n",
              "    .dataframe tbody tr th {\n",
              "        vertical-align: top;\n",
              "    }\n",
              "\n",
              "    .dataframe thead tr th {\n",
              "        text-align: left;\n",
              "    }\n",
              "\n",
              "    .dataframe thead tr:last-of-type th {\n",
              "        text-align: right;\n",
              "    }\n",
              "</style>\n",
              "<table border=\"1\" class=\"dataframe\">\n",
              "  <thead>\n",
              "    <tr>\n",
              "      <th>state</th>\n",
              "      <th colspan=\"2\" halign=\"left\">Ohio</th>\n",
              "      <th>Colorado</th>\n",
              "    </tr>\n",
              "    <tr>\n",
              "      <th>color</th>\n",
              "      <th>Green</th>\n",
              "      <th>Red</th>\n",
              "      <th>Green</th>\n",
              "    </tr>\n",
              "    <tr>\n",
              "      <th>key2</th>\n",
              "      <th></th>\n",
              "      <th></th>\n",
              "      <th></th>\n",
              "    </tr>\n",
              "  </thead>\n",
              "  <tbody>\n",
              "    <tr>\n",
              "      <th>1</th>\n",
              "      <td>6</td>\n",
              "      <td>8</td>\n",
              "      <td>10</td>\n",
              "    </tr>\n",
              "    <tr>\n",
              "      <th>2</th>\n",
              "      <td>12</td>\n",
              "      <td>14</td>\n",
              "      <td>16</td>\n",
              "    </tr>\n",
              "  </tbody>\n",
              "</table>\n",
              "</div>"
            ],
            "text/plain": [
              "state  Ohio     Colorado\n",
              "color Green Red    Green\n",
              "key2                    \n",
              "1         6   8       10\n",
              "2        12  14       16"
            ]
          },
          "metadata": {},
          "execution_count": 161
        }
      ]
    },
    {
      "cell_type": "code",
      "metadata": {
        "colab": {
          "base_uri": "https://localhost:8080/",
          "height": 204
        },
        "id": "EulaoUp1ly-G",
        "outputId": "d6be4dc4-8c82-448e-d6c5-9fb4876d118c"
      },
      "source": [
        "frame.sum(level='color', axis=1) # Ohio Green + Colorado Green"
      ],
      "execution_count": 162,
      "outputs": [
        {
          "output_type": "execute_result",
          "data": {
            "text/html": [
              "<div>\n",
              "<style scoped>\n",
              "    .dataframe tbody tr th:only-of-type {\n",
              "        vertical-align: middle;\n",
              "    }\n",
              "\n",
              "    .dataframe tbody tr th {\n",
              "        vertical-align: top;\n",
              "    }\n",
              "\n",
              "    .dataframe thead th {\n",
              "        text-align: right;\n",
              "    }\n",
              "</style>\n",
              "<table border=\"1\" class=\"dataframe\">\n",
              "  <thead>\n",
              "    <tr style=\"text-align: right;\">\n",
              "      <th></th>\n",
              "      <th>color</th>\n",
              "      <th>Green</th>\n",
              "      <th>Red</th>\n",
              "    </tr>\n",
              "    <tr>\n",
              "      <th>key1</th>\n",
              "      <th>key2</th>\n",
              "      <th></th>\n",
              "      <th></th>\n",
              "    </tr>\n",
              "  </thead>\n",
              "  <tbody>\n",
              "    <tr>\n",
              "      <th rowspan=\"2\" valign=\"top\">a</th>\n",
              "      <th>1</th>\n",
              "      <td>2</td>\n",
              "      <td>1</td>\n",
              "    </tr>\n",
              "    <tr>\n",
              "      <th>2</th>\n",
              "      <td>8</td>\n",
              "      <td>4</td>\n",
              "    </tr>\n",
              "    <tr>\n",
              "      <th rowspan=\"2\" valign=\"top\">b</th>\n",
              "      <th>1</th>\n",
              "      <td>14</td>\n",
              "      <td>7</td>\n",
              "    </tr>\n",
              "    <tr>\n",
              "      <th>2</th>\n",
              "      <td>20</td>\n",
              "      <td>10</td>\n",
              "    </tr>\n",
              "  </tbody>\n",
              "</table>\n",
              "</div>"
            ],
            "text/plain": [
              "color      Green  Red\n",
              "key1 key2            \n",
              "a    1         2    1\n",
              "     2         8    4\n",
              "b    1        14    7\n",
              "     2        20   10"
            ]
          },
          "metadata": {},
          "execution_count": 162
        }
      ]
    },
    {
      "cell_type": "markdown",
      "metadata": {
        "id": "d8p_xizdmSLY"
      },
      "source": [
        "Under the hood, this utilizes pandas’s groupby machinery"
      ]
    },
    {
      "cell_type": "markdown",
      "metadata": {
        "id": "FLdnKUpnmUf-"
      },
      "source": [
        "## Indexing with a DataFrame’s columns"
      ]
    },
    {
      "cell_type": "markdown",
      "metadata": {
        "id": "fXEHTqJ5mWfo"
      },
      "source": [
        "It’s not unusual to want to use one or more columns from a DataFrame as the row index\n",
        "\n",
        "Alternatively, **you may wish to move the row index into the DataFrame’s columns.** Here’s an example DataFrame:"
      ]
    },
    {
      "cell_type": "code",
      "metadata": {
        "id": "3lfwPBazr7rB"
      },
      "source": [
        "frame = pd.DataFrame({'a': range(7), 'b': range(7, 0, -1),\n",
        "                      'c': ['one', 'one', 'one', 'two', 'two',\n",
        "                            'two', 'two'],\n",
        "                      'd': [0, 1, 2, 0, 1, 2, 3]})"
      ],
      "execution_count": 163,
      "outputs": []
    },
    {
      "cell_type": "code",
      "metadata": {
        "colab": {
          "base_uri": "https://localhost:8080/",
          "height": 266
        },
        "id": "aVp0BOf5sKT3",
        "outputId": "8a84509b-8c65-437f-baa5-f4d48c3b1977"
      },
      "source": [
        "frame"
      ],
      "execution_count": 164,
      "outputs": [
        {
          "output_type": "execute_result",
          "data": {
            "text/html": [
              "<div>\n",
              "<style scoped>\n",
              "    .dataframe tbody tr th:only-of-type {\n",
              "        vertical-align: middle;\n",
              "    }\n",
              "\n",
              "    .dataframe tbody tr th {\n",
              "        vertical-align: top;\n",
              "    }\n",
              "\n",
              "    .dataframe thead th {\n",
              "        text-align: right;\n",
              "    }\n",
              "</style>\n",
              "<table border=\"1\" class=\"dataframe\">\n",
              "  <thead>\n",
              "    <tr style=\"text-align: right;\">\n",
              "      <th></th>\n",
              "      <th>a</th>\n",
              "      <th>b</th>\n",
              "      <th>c</th>\n",
              "      <th>d</th>\n",
              "    </tr>\n",
              "  </thead>\n",
              "  <tbody>\n",
              "    <tr>\n",
              "      <th>0</th>\n",
              "      <td>0</td>\n",
              "      <td>7</td>\n",
              "      <td>one</td>\n",
              "      <td>0</td>\n",
              "    </tr>\n",
              "    <tr>\n",
              "      <th>1</th>\n",
              "      <td>1</td>\n",
              "      <td>6</td>\n",
              "      <td>one</td>\n",
              "      <td>1</td>\n",
              "    </tr>\n",
              "    <tr>\n",
              "      <th>2</th>\n",
              "      <td>2</td>\n",
              "      <td>5</td>\n",
              "      <td>one</td>\n",
              "      <td>2</td>\n",
              "    </tr>\n",
              "    <tr>\n",
              "      <th>3</th>\n",
              "      <td>3</td>\n",
              "      <td>4</td>\n",
              "      <td>two</td>\n",
              "      <td>0</td>\n",
              "    </tr>\n",
              "    <tr>\n",
              "      <th>4</th>\n",
              "      <td>4</td>\n",
              "      <td>3</td>\n",
              "      <td>two</td>\n",
              "      <td>1</td>\n",
              "    </tr>\n",
              "    <tr>\n",
              "      <th>5</th>\n",
              "      <td>5</td>\n",
              "      <td>2</td>\n",
              "      <td>two</td>\n",
              "      <td>2</td>\n",
              "    </tr>\n",
              "    <tr>\n",
              "      <th>6</th>\n",
              "      <td>6</td>\n",
              "      <td>1</td>\n",
              "      <td>two</td>\n",
              "      <td>3</td>\n",
              "    </tr>\n",
              "  </tbody>\n",
              "</table>\n",
              "</div>"
            ],
            "text/plain": [
              "   a  b    c  d\n",
              "0  0  7  one  0\n",
              "1  1  6  one  1\n",
              "2  2  5  one  2\n",
              "3  3  4  two  0\n",
              "4  4  3  two  1\n",
              "5  5  2  two  2\n",
              "6  6  1  two  3"
            ]
          },
          "metadata": {},
          "execution_count": 164
        }
      ]
    },
    {
      "cell_type": "markdown",
      "metadata": {
        "id": "VMoIIO4ZpRtq"
      },
      "source": [
        "DataFrame’s set_index function will create a new DataFrame using one or more of its columns as the index:"
      ]
    },
    {
      "cell_type": "code",
      "metadata": {
        "id": "L_Af6dnOpdNJ"
      },
      "source": [
        "frame2 = frame.set_index(['c', 'd'])"
      ],
      "execution_count": 165,
      "outputs": []
    },
    {
      "cell_type": "code",
      "metadata": {
        "colab": {
          "base_uri": "https://localhost:8080/",
          "height": 297
        },
        "id": "BlFEKf6xpgUh",
        "outputId": "e8db5688-8e4d-49c1-e8f9-f7476f57a642"
      },
      "source": [
        "frame2"
      ],
      "execution_count": 166,
      "outputs": [
        {
          "output_type": "execute_result",
          "data": {
            "text/html": [
              "<div>\n",
              "<style scoped>\n",
              "    .dataframe tbody tr th:only-of-type {\n",
              "        vertical-align: middle;\n",
              "    }\n",
              "\n",
              "    .dataframe tbody tr th {\n",
              "        vertical-align: top;\n",
              "    }\n",
              "\n",
              "    .dataframe thead th {\n",
              "        text-align: right;\n",
              "    }\n",
              "</style>\n",
              "<table border=\"1\" class=\"dataframe\">\n",
              "  <thead>\n",
              "    <tr style=\"text-align: right;\">\n",
              "      <th></th>\n",
              "      <th></th>\n",
              "      <th>a</th>\n",
              "      <th>b</th>\n",
              "    </tr>\n",
              "    <tr>\n",
              "      <th>c</th>\n",
              "      <th>d</th>\n",
              "      <th></th>\n",
              "      <th></th>\n",
              "    </tr>\n",
              "  </thead>\n",
              "  <tbody>\n",
              "    <tr>\n",
              "      <th rowspan=\"3\" valign=\"top\">one</th>\n",
              "      <th>0</th>\n",
              "      <td>0</td>\n",
              "      <td>7</td>\n",
              "    </tr>\n",
              "    <tr>\n",
              "      <th>1</th>\n",
              "      <td>1</td>\n",
              "      <td>6</td>\n",
              "    </tr>\n",
              "    <tr>\n",
              "      <th>2</th>\n",
              "      <td>2</td>\n",
              "      <td>5</td>\n",
              "    </tr>\n",
              "    <tr>\n",
              "      <th rowspan=\"4\" valign=\"top\">two</th>\n",
              "      <th>0</th>\n",
              "      <td>3</td>\n",
              "      <td>4</td>\n",
              "    </tr>\n",
              "    <tr>\n",
              "      <th>1</th>\n",
              "      <td>4</td>\n",
              "      <td>3</td>\n",
              "    </tr>\n",
              "    <tr>\n",
              "      <th>2</th>\n",
              "      <td>5</td>\n",
              "      <td>2</td>\n",
              "    </tr>\n",
              "    <tr>\n",
              "      <th>3</th>\n",
              "      <td>6</td>\n",
              "      <td>1</td>\n",
              "    </tr>\n",
              "  </tbody>\n",
              "</table>\n",
              "</div>"
            ],
            "text/plain": [
              "       a  b\n",
              "c   d      \n",
              "one 0  0  7\n",
              "    1  1  6\n",
              "    2  2  5\n",
              "two 0  3  4\n",
              "    1  4  3\n",
              "    2  5  2\n",
              "    3  6  1"
            ]
          },
          "metadata": {},
          "execution_count": 166
        }
      ]
    },
    {
      "cell_type": "markdown",
      "metadata": {
        "id": "PSTn2Pk8pmqC"
      },
      "source": [
        "**By default the columns are removed from the DataFrame,** though you can leave them in:"
      ]
    },
    {
      "cell_type": "code",
      "metadata": {
        "colab": {
          "base_uri": "https://localhost:8080/",
          "height": 297
        },
        "id": "wOfPFRTupqMk",
        "outputId": "8aa98237-4402-40b8-a757-3cb8af829ff6"
      },
      "source": [
        "frame.set_index(['c', 'd'], drop=False)"
      ],
      "execution_count": 167,
      "outputs": [
        {
          "output_type": "execute_result",
          "data": {
            "text/html": [
              "<div>\n",
              "<style scoped>\n",
              "    .dataframe tbody tr th:only-of-type {\n",
              "        vertical-align: middle;\n",
              "    }\n",
              "\n",
              "    .dataframe tbody tr th {\n",
              "        vertical-align: top;\n",
              "    }\n",
              "\n",
              "    .dataframe thead th {\n",
              "        text-align: right;\n",
              "    }\n",
              "</style>\n",
              "<table border=\"1\" class=\"dataframe\">\n",
              "  <thead>\n",
              "    <tr style=\"text-align: right;\">\n",
              "      <th></th>\n",
              "      <th></th>\n",
              "      <th>a</th>\n",
              "      <th>b</th>\n",
              "      <th>c</th>\n",
              "      <th>d</th>\n",
              "    </tr>\n",
              "    <tr>\n",
              "      <th>c</th>\n",
              "      <th>d</th>\n",
              "      <th></th>\n",
              "      <th></th>\n",
              "      <th></th>\n",
              "      <th></th>\n",
              "    </tr>\n",
              "  </thead>\n",
              "  <tbody>\n",
              "    <tr>\n",
              "      <th rowspan=\"3\" valign=\"top\">one</th>\n",
              "      <th>0</th>\n",
              "      <td>0</td>\n",
              "      <td>7</td>\n",
              "      <td>one</td>\n",
              "      <td>0</td>\n",
              "    </tr>\n",
              "    <tr>\n",
              "      <th>1</th>\n",
              "      <td>1</td>\n",
              "      <td>6</td>\n",
              "      <td>one</td>\n",
              "      <td>1</td>\n",
              "    </tr>\n",
              "    <tr>\n",
              "      <th>2</th>\n",
              "      <td>2</td>\n",
              "      <td>5</td>\n",
              "      <td>one</td>\n",
              "      <td>2</td>\n",
              "    </tr>\n",
              "    <tr>\n",
              "      <th rowspan=\"4\" valign=\"top\">two</th>\n",
              "      <th>0</th>\n",
              "      <td>3</td>\n",
              "      <td>4</td>\n",
              "      <td>two</td>\n",
              "      <td>0</td>\n",
              "    </tr>\n",
              "    <tr>\n",
              "      <th>1</th>\n",
              "      <td>4</td>\n",
              "      <td>3</td>\n",
              "      <td>two</td>\n",
              "      <td>1</td>\n",
              "    </tr>\n",
              "    <tr>\n",
              "      <th>2</th>\n",
              "      <td>5</td>\n",
              "      <td>2</td>\n",
              "      <td>two</td>\n",
              "      <td>2</td>\n",
              "    </tr>\n",
              "    <tr>\n",
              "      <th>3</th>\n",
              "      <td>6</td>\n",
              "      <td>1</td>\n",
              "      <td>two</td>\n",
              "      <td>3</td>\n",
              "    </tr>\n",
              "  </tbody>\n",
              "</table>\n",
              "</div>"
            ],
            "text/plain": [
              "       a  b    c  d\n",
              "c   d              \n",
              "one 0  0  7  one  0\n",
              "    1  1  6  one  1\n",
              "    2  2  5  one  2\n",
              "two 0  3  4  two  0\n",
              "    1  4  3  two  1\n",
              "    2  5  2  two  2\n",
              "    3  6  1  two  3"
            ]
          },
          "metadata": {},
          "execution_count": 167
        }
      ]
    },
    {
      "cell_type": "markdown",
      "metadata": {
        "id": "GGzvy9VCpxt5"
      },
      "source": [
        "reset_index, on the other hand, does the opposite of set_index; **the hierarchical index levels are moved into the columns:**"
      ]
    },
    {
      "cell_type": "code",
      "metadata": {
        "colab": {
          "base_uri": "https://localhost:8080/",
          "height": 266
        },
        "id": "vjk768Yrp1e5",
        "outputId": "793291b4-6576-4dcd-a25a-eaac35b69277"
      },
      "source": [
        "frame2.reset_index()"
      ],
      "execution_count": 168,
      "outputs": [
        {
          "output_type": "execute_result",
          "data": {
            "text/html": [
              "<div>\n",
              "<style scoped>\n",
              "    .dataframe tbody tr th:only-of-type {\n",
              "        vertical-align: middle;\n",
              "    }\n",
              "\n",
              "    .dataframe tbody tr th {\n",
              "        vertical-align: top;\n",
              "    }\n",
              "\n",
              "    .dataframe thead th {\n",
              "        text-align: right;\n",
              "    }\n",
              "</style>\n",
              "<table border=\"1\" class=\"dataframe\">\n",
              "  <thead>\n",
              "    <tr style=\"text-align: right;\">\n",
              "      <th></th>\n",
              "      <th>c</th>\n",
              "      <th>d</th>\n",
              "      <th>a</th>\n",
              "      <th>b</th>\n",
              "    </tr>\n",
              "  </thead>\n",
              "  <tbody>\n",
              "    <tr>\n",
              "      <th>0</th>\n",
              "      <td>one</td>\n",
              "      <td>0</td>\n",
              "      <td>0</td>\n",
              "      <td>7</td>\n",
              "    </tr>\n",
              "    <tr>\n",
              "      <th>1</th>\n",
              "      <td>one</td>\n",
              "      <td>1</td>\n",
              "      <td>1</td>\n",
              "      <td>6</td>\n",
              "    </tr>\n",
              "    <tr>\n",
              "      <th>2</th>\n",
              "      <td>one</td>\n",
              "      <td>2</td>\n",
              "      <td>2</td>\n",
              "      <td>5</td>\n",
              "    </tr>\n",
              "    <tr>\n",
              "      <th>3</th>\n",
              "      <td>two</td>\n",
              "      <td>0</td>\n",
              "      <td>3</td>\n",
              "      <td>4</td>\n",
              "    </tr>\n",
              "    <tr>\n",
              "      <th>4</th>\n",
              "      <td>two</td>\n",
              "      <td>1</td>\n",
              "      <td>4</td>\n",
              "      <td>3</td>\n",
              "    </tr>\n",
              "    <tr>\n",
              "      <th>5</th>\n",
              "      <td>two</td>\n",
              "      <td>2</td>\n",
              "      <td>5</td>\n",
              "      <td>2</td>\n",
              "    </tr>\n",
              "    <tr>\n",
              "      <th>6</th>\n",
              "      <td>two</td>\n",
              "      <td>3</td>\n",
              "      <td>6</td>\n",
              "      <td>1</td>\n",
              "    </tr>\n",
              "  </tbody>\n",
              "</table>\n",
              "</div>"
            ],
            "text/plain": [
              "     c  d  a  b\n",
              "0  one  0  0  7\n",
              "1  one  1  1  6\n",
              "2  one  2  2  5\n",
              "3  two  0  3  4\n",
              "4  two  1  4  3\n",
              "5  two  2  5  2\n",
              "6  two  3  6  1"
            ]
          },
          "metadata": {},
          "execution_count": 168
        }
      ]
    },
    {
      "cell_type": "markdown",
      "metadata": {
        "id": "5zpAtbn0qHES"
      },
      "source": [
        "# 8.2 Combining and Merging Datasets"
      ]
    },
    {
      "cell_type": "markdown",
      "metadata": {
        "id": "DTLTiUE7qJlg"
      },
      "source": [
        "Data contained in pandas objects can be combined together in a number of ways:\n",
        "\n",
        "* **pandas.merge connects rows in DataFrames based on one or more keys.** This will be familiar to users of SQL or other relational databases, as it implements **database join operations**\n",
        "\n",
        "* **pandas.concat concatenates or “stacks” together objects along an axis**\n",
        "\n",
        "* The **combine_first** instance method enables **splicing** together overlapping data to **fill in missing values in one object with values from another**"
      ]
    },
    {
      "cell_type": "markdown",
      "metadata": {
        "id": "_1PZiGWwquaB"
      },
      "source": [
        "## Database-Style DataFrame Joins"
      ]
    },
    {
      "cell_type": "markdown",
      "metadata": {
        "id": "eHmXXNNIqxeA"
      },
      "source": [
        "Merge or join operations combine datasets by linking rows using one or more keys\n",
        "\n",
        "The merge function in pandas is the main entry point for using these algorithms on your data"
      ]
    },
    {
      "cell_type": "code",
      "metadata": {
        "id": "_OVgqaqYqw8W"
      },
      "source": [
        "df1 = pd.DataFrame({'key': ['b', 'b', 'a', 'c', 'a', 'a', 'b'],\n",
        "                    'data1': range(7)})"
      ],
      "execution_count": 169,
      "outputs": []
    },
    {
      "cell_type": "code",
      "metadata": {
        "id": "yAtzOCnerE7T"
      },
      "source": [
        "df2 = pd.DataFrame({'key': ['a', 'b', 'd'],\n",
        "                    'data2': range(3)})"
      ],
      "execution_count": 170,
      "outputs": []
    },
    {
      "cell_type": "code",
      "metadata": {
        "colab": {
          "base_uri": "https://localhost:8080/",
          "height": 266
        },
        "id": "vXajAKjmrMlC",
        "outputId": "44b6d1ce-1ef9-4ec4-e094-a0eedb0f4978"
      },
      "source": [
        "df1"
      ],
      "execution_count": 171,
      "outputs": [
        {
          "output_type": "execute_result",
          "data": {
            "text/html": [
              "<div>\n",
              "<style scoped>\n",
              "    .dataframe tbody tr th:only-of-type {\n",
              "        vertical-align: middle;\n",
              "    }\n",
              "\n",
              "    .dataframe tbody tr th {\n",
              "        vertical-align: top;\n",
              "    }\n",
              "\n",
              "    .dataframe thead th {\n",
              "        text-align: right;\n",
              "    }\n",
              "</style>\n",
              "<table border=\"1\" class=\"dataframe\">\n",
              "  <thead>\n",
              "    <tr style=\"text-align: right;\">\n",
              "      <th></th>\n",
              "      <th>key</th>\n",
              "      <th>data1</th>\n",
              "    </tr>\n",
              "  </thead>\n",
              "  <tbody>\n",
              "    <tr>\n",
              "      <th>0</th>\n",
              "      <td>b</td>\n",
              "      <td>0</td>\n",
              "    </tr>\n",
              "    <tr>\n",
              "      <th>1</th>\n",
              "      <td>b</td>\n",
              "      <td>1</td>\n",
              "    </tr>\n",
              "    <tr>\n",
              "      <th>2</th>\n",
              "      <td>a</td>\n",
              "      <td>2</td>\n",
              "    </tr>\n",
              "    <tr>\n",
              "      <th>3</th>\n",
              "      <td>c</td>\n",
              "      <td>3</td>\n",
              "    </tr>\n",
              "    <tr>\n",
              "      <th>4</th>\n",
              "      <td>a</td>\n",
              "      <td>4</td>\n",
              "    </tr>\n",
              "    <tr>\n",
              "      <th>5</th>\n",
              "      <td>a</td>\n",
              "      <td>5</td>\n",
              "    </tr>\n",
              "    <tr>\n",
              "      <th>6</th>\n",
              "      <td>b</td>\n",
              "      <td>6</td>\n",
              "    </tr>\n",
              "  </tbody>\n",
              "</table>\n",
              "</div>"
            ],
            "text/plain": [
              "  key  data1\n",
              "0   b      0\n",
              "1   b      1\n",
              "2   a      2\n",
              "3   c      3\n",
              "4   a      4\n",
              "5   a      5\n",
              "6   b      6"
            ]
          },
          "metadata": {},
          "execution_count": 171
        }
      ]
    },
    {
      "cell_type": "code",
      "metadata": {
        "colab": {
          "base_uri": "https://localhost:8080/",
          "height": 142
        },
        "id": "abeqnBB0rOjj",
        "outputId": "7d0c910c-6bd5-428a-9ce6-303142e6b1f2"
      },
      "source": [
        "df2"
      ],
      "execution_count": 172,
      "outputs": [
        {
          "output_type": "execute_result",
          "data": {
            "text/html": [
              "<div>\n",
              "<style scoped>\n",
              "    .dataframe tbody tr th:only-of-type {\n",
              "        vertical-align: middle;\n",
              "    }\n",
              "\n",
              "    .dataframe tbody tr th {\n",
              "        vertical-align: top;\n",
              "    }\n",
              "\n",
              "    .dataframe thead th {\n",
              "        text-align: right;\n",
              "    }\n",
              "</style>\n",
              "<table border=\"1\" class=\"dataframe\">\n",
              "  <thead>\n",
              "    <tr style=\"text-align: right;\">\n",
              "      <th></th>\n",
              "      <th>key</th>\n",
              "      <th>data2</th>\n",
              "    </tr>\n",
              "  </thead>\n",
              "  <tbody>\n",
              "    <tr>\n",
              "      <th>0</th>\n",
              "      <td>a</td>\n",
              "      <td>0</td>\n",
              "    </tr>\n",
              "    <tr>\n",
              "      <th>1</th>\n",
              "      <td>b</td>\n",
              "      <td>1</td>\n",
              "    </tr>\n",
              "    <tr>\n",
              "      <th>2</th>\n",
              "      <td>d</td>\n",
              "      <td>2</td>\n",
              "    </tr>\n",
              "  </tbody>\n",
              "</table>\n",
              "</div>"
            ],
            "text/plain": [
              "  key  data2\n",
              "0   a      0\n",
              "1   b      1\n",
              "2   d      2"
            ]
          },
          "metadata": {},
          "execution_count": 172
        }
      ]
    },
    {
      "cell_type": "markdown",
      "metadata": {
        "id": "SOrnzGuzrTaT"
      },
      "source": [
        "This is an example of a **many-to-one join**\n",
        "\n",
        "The data in **df1 has multiple rows labeled a and b**, whereas **df2 has only one row for each value in the key column**\n",
        "\n",
        "Calling merge with these objects we obtain:"
      ]
    },
    {
      "cell_type": "code",
      "metadata": {
        "colab": {
          "base_uri": "https://localhost:8080/",
          "height": 235
        },
        "id": "tDwVEj5Rrhnp",
        "outputId": "3a6ee9b4-b766-4ab6-bb1b-cf948435c0b3"
      },
      "source": [
        "pd.merge(df1, df2)"
      ],
      "execution_count": 173,
      "outputs": [
        {
          "output_type": "execute_result",
          "data": {
            "text/html": [
              "<div>\n",
              "<style scoped>\n",
              "    .dataframe tbody tr th:only-of-type {\n",
              "        vertical-align: middle;\n",
              "    }\n",
              "\n",
              "    .dataframe tbody tr th {\n",
              "        vertical-align: top;\n",
              "    }\n",
              "\n",
              "    .dataframe thead th {\n",
              "        text-align: right;\n",
              "    }\n",
              "</style>\n",
              "<table border=\"1\" class=\"dataframe\">\n",
              "  <thead>\n",
              "    <tr style=\"text-align: right;\">\n",
              "      <th></th>\n",
              "      <th>key</th>\n",
              "      <th>data1</th>\n",
              "      <th>data2</th>\n",
              "    </tr>\n",
              "  </thead>\n",
              "  <tbody>\n",
              "    <tr>\n",
              "      <th>0</th>\n",
              "      <td>b</td>\n",
              "      <td>0</td>\n",
              "      <td>1</td>\n",
              "    </tr>\n",
              "    <tr>\n",
              "      <th>1</th>\n",
              "      <td>b</td>\n",
              "      <td>1</td>\n",
              "      <td>1</td>\n",
              "    </tr>\n",
              "    <tr>\n",
              "      <th>2</th>\n",
              "      <td>b</td>\n",
              "      <td>6</td>\n",
              "      <td>1</td>\n",
              "    </tr>\n",
              "    <tr>\n",
              "      <th>3</th>\n",
              "      <td>a</td>\n",
              "      <td>2</td>\n",
              "      <td>0</td>\n",
              "    </tr>\n",
              "    <tr>\n",
              "      <th>4</th>\n",
              "      <td>a</td>\n",
              "      <td>4</td>\n",
              "      <td>0</td>\n",
              "    </tr>\n",
              "    <tr>\n",
              "      <th>5</th>\n",
              "      <td>a</td>\n",
              "      <td>5</td>\n",
              "      <td>0</td>\n",
              "    </tr>\n",
              "  </tbody>\n",
              "</table>\n",
              "</div>"
            ],
            "text/plain": [
              "  key  data1  data2\n",
              "0   b      0      1\n",
              "1   b      1      1\n",
              "2   b      6      1\n",
              "3   a      2      0\n",
              "4   a      4      0\n",
              "5   a      5      0"
            ]
          },
          "metadata": {},
          "execution_count": 173
        }
      ]
    },
    {
      "cell_type": "markdown",
      "metadata": {
        "id": "7aolT4X1rwmx"
      },
      "source": [
        "Note that I didn’t specify which column to join on. If that information is **not specified, merge uses the overlapping column names as the keys**\n",
        "\n",
        "It’s a good practice to specify explicitly, though:"
      ]
    },
    {
      "cell_type": "code",
      "metadata": {
        "colab": {
          "base_uri": "https://localhost:8080/",
          "height": 235
        },
        "id": "B2lFkFjXsNW5",
        "outputId": "3fd8da87-eccb-48c1-89dd-fa4332fec9f3"
      },
      "source": [
        "pd.merge(df1, df2, on='key')"
      ],
      "execution_count": 174,
      "outputs": [
        {
          "output_type": "execute_result",
          "data": {
            "text/html": [
              "<div>\n",
              "<style scoped>\n",
              "    .dataframe tbody tr th:only-of-type {\n",
              "        vertical-align: middle;\n",
              "    }\n",
              "\n",
              "    .dataframe tbody tr th {\n",
              "        vertical-align: top;\n",
              "    }\n",
              "\n",
              "    .dataframe thead th {\n",
              "        text-align: right;\n",
              "    }\n",
              "</style>\n",
              "<table border=\"1\" class=\"dataframe\">\n",
              "  <thead>\n",
              "    <tr style=\"text-align: right;\">\n",
              "      <th></th>\n",
              "      <th>key</th>\n",
              "      <th>data1</th>\n",
              "      <th>data2</th>\n",
              "    </tr>\n",
              "  </thead>\n",
              "  <tbody>\n",
              "    <tr>\n",
              "      <th>0</th>\n",
              "      <td>b</td>\n",
              "      <td>0</td>\n",
              "      <td>1</td>\n",
              "    </tr>\n",
              "    <tr>\n",
              "      <th>1</th>\n",
              "      <td>b</td>\n",
              "      <td>1</td>\n",
              "      <td>1</td>\n",
              "    </tr>\n",
              "    <tr>\n",
              "      <th>2</th>\n",
              "      <td>b</td>\n",
              "      <td>6</td>\n",
              "      <td>1</td>\n",
              "    </tr>\n",
              "    <tr>\n",
              "      <th>3</th>\n",
              "      <td>a</td>\n",
              "      <td>2</td>\n",
              "      <td>0</td>\n",
              "    </tr>\n",
              "    <tr>\n",
              "      <th>4</th>\n",
              "      <td>a</td>\n",
              "      <td>4</td>\n",
              "      <td>0</td>\n",
              "    </tr>\n",
              "    <tr>\n",
              "      <th>5</th>\n",
              "      <td>a</td>\n",
              "      <td>5</td>\n",
              "      <td>0</td>\n",
              "    </tr>\n",
              "  </tbody>\n",
              "</table>\n",
              "</div>"
            ],
            "text/plain": [
              "  key  data1  data2\n",
              "0   b      0      1\n",
              "1   b      1      1\n",
              "2   b      6      1\n",
              "3   a      2      0\n",
              "4   a      4      0\n",
              "5   a      5      0"
            ]
          },
          "metadata": {},
          "execution_count": 174
        }
      ]
    },
    {
      "cell_type": "markdown",
      "metadata": {
        "id": "Y7hMZVbCsYtp"
      },
      "source": [
        "If the column names are different in each object, you can specify them separately:"
      ]
    },
    {
      "cell_type": "code",
      "metadata": {
        "id": "CSkVMi77samt"
      },
      "source": [
        "df3 = pd.DataFrame({'lkey': ['b', 'b', 'a', 'c', 'a', 'a', 'b'],\n",
        "                    'data1': range(7)})"
      ],
      "execution_count": 175,
      "outputs": []
    },
    {
      "cell_type": "code",
      "metadata": {
        "id": "a4nbFZfisjmj"
      },
      "source": [
        "df4 = pd.DataFrame({'rkey': ['a', 'b', 'd'],\n",
        "                    'data2': range(3)})"
      ],
      "execution_count": 176,
      "outputs": []
    },
    {
      "cell_type": "code",
      "metadata": {
        "colab": {
          "base_uri": "https://localhost:8080/",
          "height": 266
        },
        "id": "KAWoqDrRs1kh",
        "outputId": "82cad9aa-5dc7-497c-f420-e17764db004a"
      },
      "source": [
        "df3"
      ],
      "execution_count": 177,
      "outputs": [
        {
          "output_type": "execute_result",
          "data": {
            "text/html": [
              "<div>\n",
              "<style scoped>\n",
              "    .dataframe tbody tr th:only-of-type {\n",
              "        vertical-align: middle;\n",
              "    }\n",
              "\n",
              "    .dataframe tbody tr th {\n",
              "        vertical-align: top;\n",
              "    }\n",
              "\n",
              "    .dataframe thead th {\n",
              "        text-align: right;\n",
              "    }\n",
              "</style>\n",
              "<table border=\"1\" class=\"dataframe\">\n",
              "  <thead>\n",
              "    <tr style=\"text-align: right;\">\n",
              "      <th></th>\n",
              "      <th>lkey</th>\n",
              "      <th>data1</th>\n",
              "    </tr>\n",
              "  </thead>\n",
              "  <tbody>\n",
              "    <tr>\n",
              "      <th>0</th>\n",
              "      <td>b</td>\n",
              "      <td>0</td>\n",
              "    </tr>\n",
              "    <tr>\n",
              "      <th>1</th>\n",
              "      <td>b</td>\n",
              "      <td>1</td>\n",
              "    </tr>\n",
              "    <tr>\n",
              "      <th>2</th>\n",
              "      <td>a</td>\n",
              "      <td>2</td>\n",
              "    </tr>\n",
              "    <tr>\n",
              "      <th>3</th>\n",
              "      <td>c</td>\n",
              "      <td>3</td>\n",
              "    </tr>\n",
              "    <tr>\n",
              "      <th>4</th>\n",
              "      <td>a</td>\n",
              "      <td>4</td>\n",
              "    </tr>\n",
              "    <tr>\n",
              "      <th>5</th>\n",
              "      <td>a</td>\n",
              "      <td>5</td>\n",
              "    </tr>\n",
              "    <tr>\n",
              "      <th>6</th>\n",
              "      <td>b</td>\n",
              "      <td>6</td>\n",
              "    </tr>\n",
              "  </tbody>\n",
              "</table>\n",
              "</div>"
            ],
            "text/plain": [
              "  lkey  data1\n",
              "0    b      0\n",
              "1    b      1\n",
              "2    a      2\n",
              "3    c      3\n",
              "4    a      4\n",
              "5    a      5\n",
              "6    b      6"
            ]
          },
          "metadata": {},
          "execution_count": 177
        }
      ]
    },
    {
      "cell_type": "code",
      "metadata": {
        "colab": {
          "base_uri": "https://localhost:8080/",
          "height": 142
        },
        "id": "Bp41eZggs2Xg",
        "outputId": "493e8141-193d-462b-90a9-e2d6f2b8cdc8"
      },
      "source": [
        "df4"
      ],
      "execution_count": 178,
      "outputs": [
        {
          "output_type": "execute_result",
          "data": {
            "text/html": [
              "<div>\n",
              "<style scoped>\n",
              "    .dataframe tbody tr th:only-of-type {\n",
              "        vertical-align: middle;\n",
              "    }\n",
              "\n",
              "    .dataframe tbody tr th {\n",
              "        vertical-align: top;\n",
              "    }\n",
              "\n",
              "    .dataframe thead th {\n",
              "        text-align: right;\n",
              "    }\n",
              "</style>\n",
              "<table border=\"1\" class=\"dataframe\">\n",
              "  <thead>\n",
              "    <tr style=\"text-align: right;\">\n",
              "      <th></th>\n",
              "      <th>rkey</th>\n",
              "      <th>data2</th>\n",
              "    </tr>\n",
              "  </thead>\n",
              "  <tbody>\n",
              "    <tr>\n",
              "      <th>0</th>\n",
              "      <td>a</td>\n",
              "      <td>0</td>\n",
              "    </tr>\n",
              "    <tr>\n",
              "      <th>1</th>\n",
              "      <td>b</td>\n",
              "      <td>1</td>\n",
              "    </tr>\n",
              "    <tr>\n",
              "      <th>2</th>\n",
              "      <td>d</td>\n",
              "      <td>2</td>\n",
              "    </tr>\n",
              "  </tbody>\n",
              "</table>\n",
              "</div>"
            ],
            "text/plain": [
              "  rkey  data2\n",
              "0    a      0\n",
              "1    b      1\n",
              "2    d      2"
            ]
          },
          "metadata": {},
          "execution_count": 178
        }
      ]
    },
    {
      "cell_type": "code",
      "metadata": {
        "colab": {
          "base_uri": "https://localhost:8080/",
          "height": 235
        },
        "id": "g6LKmMPXsryz",
        "outputId": "f3c7928d-b8a0-4476-b62a-760ccbd43f4b"
      },
      "source": [
        "pd.merge(df3, df4, left_on='lkey', right_on='rkey')"
      ],
      "execution_count": 179,
      "outputs": [
        {
          "output_type": "execute_result",
          "data": {
            "text/html": [
              "<div>\n",
              "<style scoped>\n",
              "    .dataframe tbody tr th:only-of-type {\n",
              "        vertical-align: middle;\n",
              "    }\n",
              "\n",
              "    .dataframe tbody tr th {\n",
              "        vertical-align: top;\n",
              "    }\n",
              "\n",
              "    .dataframe thead th {\n",
              "        text-align: right;\n",
              "    }\n",
              "</style>\n",
              "<table border=\"1\" class=\"dataframe\">\n",
              "  <thead>\n",
              "    <tr style=\"text-align: right;\">\n",
              "      <th></th>\n",
              "      <th>lkey</th>\n",
              "      <th>data1</th>\n",
              "      <th>rkey</th>\n",
              "      <th>data2</th>\n",
              "    </tr>\n",
              "  </thead>\n",
              "  <tbody>\n",
              "    <tr>\n",
              "      <th>0</th>\n",
              "      <td>b</td>\n",
              "      <td>0</td>\n",
              "      <td>b</td>\n",
              "      <td>1</td>\n",
              "    </tr>\n",
              "    <tr>\n",
              "      <th>1</th>\n",
              "      <td>b</td>\n",
              "      <td>1</td>\n",
              "      <td>b</td>\n",
              "      <td>1</td>\n",
              "    </tr>\n",
              "    <tr>\n",
              "      <th>2</th>\n",
              "      <td>b</td>\n",
              "      <td>6</td>\n",
              "      <td>b</td>\n",
              "      <td>1</td>\n",
              "    </tr>\n",
              "    <tr>\n",
              "      <th>3</th>\n",
              "      <td>a</td>\n",
              "      <td>2</td>\n",
              "      <td>a</td>\n",
              "      <td>0</td>\n",
              "    </tr>\n",
              "    <tr>\n",
              "      <th>4</th>\n",
              "      <td>a</td>\n",
              "      <td>4</td>\n",
              "      <td>a</td>\n",
              "      <td>0</td>\n",
              "    </tr>\n",
              "    <tr>\n",
              "      <th>5</th>\n",
              "      <td>a</td>\n",
              "      <td>5</td>\n",
              "      <td>a</td>\n",
              "      <td>0</td>\n",
              "    </tr>\n",
              "  </tbody>\n",
              "</table>\n",
              "</div>"
            ],
            "text/plain": [
              "  lkey  data1 rkey  data2\n",
              "0    b      0    b      1\n",
              "1    b      1    b      1\n",
              "2    b      6    b      1\n",
              "3    a      2    a      0\n",
              "4    a      4    a      0\n",
              "5    a      5    a      0"
            ]
          },
          "metadata": {},
          "execution_count": 179
        }
      ]
    },
    {
      "cell_type": "markdown",
      "metadata": {
        "id": "8lp_OLqutICS"
      },
      "source": [
        "You may notice that the **'c' and 'd' values** and associated data are **missing** from the result\n",
        "\n",
        "**By default merge does an 'inner' join;** the keys in the result are the intersection, or the common set found in both tables\n",
        "\n",
        "Other possible options are ' left', 'right', and 'outer'\n",
        "\n",
        "The outer join takes the union of the keys, combining the effect of applying both left and right joins"
      ]
    },
    {
      "cell_type": "code",
      "metadata": {
        "colab": {
          "base_uri": "https://localhost:8080/",
          "height": 297
        },
        "id": "1TozoMRdtbOw",
        "outputId": "1b546358-bfb7-4283-b2c4-ef4cfbc07068"
      },
      "source": [
        "pd.merge(df1, df2, how='outer')"
      ],
      "execution_count": 180,
      "outputs": [
        {
          "output_type": "execute_result",
          "data": {
            "text/html": [
              "<div>\n",
              "<style scoped>\n",
              "    .dataframe tbody tr th:only-of-type {\n",
              "        vertical-align: middle;\n",
              "    }\n",
              "\n",
              "    .dataframe tbody tr th {\n",
              "        vertical-align: top;\n",
              "    }\n",
              "\n",
              "    .dataframe thead th {\n",
              "        text-align: right;\n",
              "    }\n",
              "</style>\n",
              "<table border=\"1\" class=\"dataframe\">\n",
              "  <thead>\n",
              "    <tr style=\"text-align: right;\">\n",
              "      <th></th>\n",
              "      <th>key</th>\n",
              "      <th>data1</th>\n",
              "      <th>data2</th>\n",
              "    </tr>\n",
              "  </thead>\n",
              "  <tbody>\n",
              "    <tr>\n",
              "      <th>0</th>\n",
              "      <td>b</td>\n",
              "      <td>0.0</td>\n",
              "      <td>1.0</td>\n",
              "    </tr>\n",
              "    <tr>\n",
              "      <th>1</th>\n",
              "      <td>b</td>\n",
              "      <td>1.0</td>\n",
              "      <td>1.0</td>\n",
              "    </tr>\n",
              "    <tr>\n",
              "      <th>2</th>\n",
              "      <td>b</td>\n",
              "      <td>6.0</td>\n",
              "      <td>1.0</td>\n",
              "    </tr>\n",
              "    <tr>\n",
              "      <th>3</th>\n",
              "      <td>a</td>\n",
              "      <td>2.0</td>\n",
              "      <td>0.0</td>\n",
              "    </tr>\n",
              "    <tr>\n",
              "      <th>4</th>\n",
              "      <td>a</td>\n",
              "      <td>4.0</td>\n",
              "      <td>0.0</td>\n",
              "    </tr>\n",
              "    <tr>\n",
              "      <th>5</th>\n",
              "      <td>a</td>\n",
              "      <td>5.0</td>\n",
              "      <td>0.0</td>\n",
              "    </tr>\n",
              "    <tr>\n",
              "      <th>6</th>\n",
              "      <td>c</td>\n",
              "      <td>3.0</td>\n",
              "      <td>NaN</td>\n",
              "    </tr>\n",
              "    <tr>\n",
              "      <th>7</th>\n",
              "      <td>d</td>\n",
              "      <td>NaN</td>\n",
              "      <td>2.0</td>\n",
              "    </tr>\n",
              "  </tbody>\n",
              "</table>\n",
              "</div>"
            ],
            "text/plain": [
              "  key  data1  data2\n",
              "0   b    0.0    1.0\n",
              "1   b    1.0    1.0\n",
              "2   b    6.0    1.0\n",
              "3   a    2.0    0.0\n",
              "4   a    4.0    0.0\n",
              "5   a    5.0    0.0\n",
              "6   c    3.0    NaN\n",
              "7   d    NaN    2.0"
            ]
          },
          "metadata": {},
          "execution_count": 180
        }
      ]
    },
    {
      "cell_type": "markdown",
      "metadata": {
        "id": "uktKPR-DtrYW"
      },
      "source": [
        "See Table 8-1 for a summary of the options for how"
      ]
    },
    {
      "cell_type": "markdown",
      "metadata": {
        "id": "TQKzMgm4ts8b"
      },
      "source": [
        "Table 8-1. Diferent join types with how argument\n",
        "<p align='center'>\n",
        "<img src='data:image/png;base64,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'>\n",
        "</p>"
      ]
    },
    {
      "cell_type": "markdown",
      "metadata": {
        "id": "Fvz7MkdDt_0K"
      },
      "source": [
        "Many-to-many merges have well-defined, though not necessarily intuitive, behavior. Here’s an example:"
      ]
    },
    {
      "cell_type": "code",
      "metadata": {
        "id": "rhyaRqkxtr40"
      },
      "source": [
        "df1 = pd.DataFrame({'key': ['b', 'b', 'a', 'c', 'a', 'b'],\n",
        "                    'data1': range(6)})"
      ],
      "execution_count": 181,
      "outputs": []
    },
    {
      "cell_type": "code",
      "metadata": {
        "id": "sEW1m04LuVz3"
      },
      "source": [
        "df2 = pd.DataFrame({'key': ['a', 'b', 'a', 'b', 'd'],\n",
        "                    'data2': range(5)})"
      ],
      "execution_count": 182,
      "outputs": []
    },
    {
      "cell_type": "code",
      "metadata": {
        "colab": {
          "base_uri": "https://localhost:8080/",
          "height": 235
        },
        "id": "29Vrv7IQuhLj",
        "outputId": "73c04eb1-4a5e-4e5d-b246-adc63b9a88e1"
      },
      "source": [
        "df1"
      ],
      "execution_count": 183,
      "outputs": [
        {
          "output_type": "execute_result",
          "data": {
            "text/html": [
              "<div>\n",
              "<style scoped>\n",
              "    .dataframe tbody tr th:only-of-type {\n",
              "        vertical-align: middle;\n",
              "    }\n",
              "\n",
              "    .dataframe tbody tr th {\n",
              "        vertical-align: top;\n",
              "    }\n",
              "\n",
              "    .dataframe thead th {\n",
              "        text-align: right;\n",
              "    }\n",
              "</style>\n",
              "<table border=\"1\" class=\"dataframe\">\n",
              "  <thead>\n",
              "    <tr style=\"text-align: right;\">\n",
              "      <th></th>\n",
              "      <th>key</th>\n",
              "      <th>data1</th>\n",
              "    </tr>\n",
              "  </thead>\n",
              "  <tbody>\n",
              "    <tr>\n",
              "      <th>0</th>\n",
              "      <td>b</td>\n",
              "      <td>0</td>\n",
              "    </tr>\n",
              "    <tr>\n",
              "      <th>1</th>\n",
              "      <td>b</td>\n",
              "      <td>1</td>\n",
              "    </tr>\n",
              "    <tr>\n",
              "      <th>2</th>\n",
              "      <td>a</td>\n",
              "      <td>2</td>\n",
              "    </tr>\n",
              "    <tr>\n",
              "      <th>3</th>\n",
              "      <td>c</td>\n",
              "      <td>3</td>\n",
              "    </tr>\n",
              "    <tr>\n",
              "      <th>4</th>\n",
              "      <td>a</td>\n",
              "      <td>4</td>\n",
              "    </tr>\n",
              "    <tr>\n",
              "      <th>5</th>\n",
              "      <td>b</td>\n",
              "      <td>5</td>\n",
              "    </tr>\n",
              "  </tbody>\n",
              "</table>\n",
              "</div>"
            ],
            "text/plain": [
              "  key  data1\n",
              "0   b      0\n",
              "1   b      1\n",
              "2   a      2\n",
              "3   c      3\n",
              "4   a      4\n",
              "5   b      5"
            ]
          },
          "metadata": {},
          "execution_count": 183
        }
      ]
    },
    {
      "cell_type": "code",
      "metadata": {
        "colab": {
          "base_uri": "https://localhost:8080/",
          "height": 204
        },
        "id": "28yD-oA8uh2g",
        "outputId": "24496ee0-34e2-454f-e0a5-6e7e9c55348c"
      },
      "source": [
        "df2"
      ],
      "execution_count": 184,
      "outputs": [
        {
          "output_type": "execute_result",
          "data": {
            "text/html": [
              "<div>\n",
              "<style scoped>\n",
              "    .dataframe tbody tr th:only-of-type {\n",
              "        vertical-align: middle;\n",
              "    }\n",
              "\n",
              "    .dataframe tbody tr th {\n",
              "        vertical-align: top;\n",
              "    }\n",
              "\n",
              "    .dataframe thead th {\n",
              "        text-align: right;\n",
              "    }\n",
              "</style>\n",
              "<table border=\"1\" class=\"dataframe\">\n",
              "  <thead>\n",
              "    <tr style=\"text-align: right;\">\n",
              "      <th></th>\n",
              "      <th>key</th>\n",
              "      <th>data2</th>\n",
              "    </tr>\n",
              "  </thead>\n",
              "  <tbody>\n",
              "    <tr>\n",
              "      <th>0</th>\n",
              "      <td>a</td>\n",
              "      <td>0</td>\n",
              "    </tr>\n",
              "    <tr>\n",
              "      <th>1</th>\n",
              "      <td>b</td>\n",
              "      <td>1</td>\n",
              "    </tr>\n",
              "    <tr>\n",
              "      <th>2</th>\n",
              "      <td>a</td>\n",
              "      <td>2</td>\n",
              "    </tr>\n",
              "    <tr>\n",
              "      <th>3</th>\n",
              "      <td>b</td>\n",
              "      <td>3</td>\n",
              "    </tr>\n",
              "    <tr>\n",
              "      <th>4</th>\n",
              "      <td>d</td>\n",
              "      <td>4</td>\n",
              "    </tr>\n",
              "  </tbody>\n",
              "</table>\n",
              "</div>"
            ],
            "text/plain": [
              "  key  data2\n",
              "0   a      0\n",
              "1   b      1\n",
              "2   a      2\n",
              "3   b      3\n",
              "4   d      4"
            ]
          },
          "metadata": {},
          "execution_count": 184
        }
      ]
    },
    {
      "cell_type": "code",
      "metadata": {
        "colab": {
          "base_uri": "https://localhost:8080/",
          "height": 390
        },
        "id": "0kgVTAPrusSv",
        "outputId": "4045cac7-cc66-460d-c95d-00452eb3b439"
      },
      "source": [
        "pd.merge(df1, df2, on='key', how='left')"
      ],
      "execution_count": 185,
      "outputs": [
        {
          "output_type": "execute_result",
          "data": {
            "text/html": [
              "<div>\n",
              "<style scoped>\n",
              "    .dataframe tbody tr th:only-of-type {\n",
              "        vertical-align: middle;\n",
              "    }\n",
              "\n",
              "    .dataframe tbody tr th {\n",
              "        vertical-align: top;\n",
              "    }\n",
              "\n",
              "    .dataframe thead th {\n",
              "        text-align: right;\n",
              "    }\n",
              "</style>\n",
              "<table border=\"1\" class=\"dataframe\">\n",
              "  <thead>\n",
              "    <tr style=\"text-align: right;\">\n",
              "      <th></th>\n",
              "      <th>key</th>\n",
              "      <th>data1</th>\n",
              "      <th>data2</th>\n",
              "    </tr>\n",
              "  </thead>\n",
              "  <tbody>\n",
              "    <tr>\n",
              "      <th>0</th>\n",
              "      <td>b</td>\n",
              "      <td>0</td>\n",
              "      <td>1.0</td>\n",
              "    </tr>\n",
              "    <tr>\n",
              "      <th>1</th>\n",
              "      <td>b</td>\n",
              "      <td>0</td>\n",
              "      <td>3.0</td>\n",
              "    </tr>\n",
              "    <tr>\n",
              "      <th>2</th>\n",
              "      <td>b</td>\n",
              "      <td>1</td>\n",
              "      <td>1.0</td>\n",
              "    </tr>\n",
              "    <tr>\n",
              "      <th>3</th>\n",
              "      <td>b</td>\n",
              "      <td>1</td>\n",
              "      <td>3.0</td>\n",
              "    </tr>\n",
              "    <tr>\n",
              "      <th>4</th>\n",
              "      <td>a</td>\n",
              "      <td>2</td>\n",
              "      <td>0.0</td>\n",
              "    </tr>\n",
              "    <tr>\n",
              "      <th>5</th>\n",
              "      <td>a</td>\n",
              "      <td>2</td>\n",
              "      <td>2.0</td>\n",
              "    </tr>\n",
              "    <tr>\n",
              "      <th>6</th>\n",
              "      <td>c</td>\n",
              "      <td>3</td>\n",
              "      <td>NaN</td>\n",
              "    </tr>\n",
              "    <tr>\n",
              "      <th>7</th>\n",
              "      <td>a</td>\n",
              "      <td>4</td>\n",
              "      <td>0.0</td>\n",
              "    </tr>\n",
              "    <tr>\n",
              "      <th>8</th>\n",
              "      <td>a</td>\n",
              "      <td>4</td>\n",
              "      <td>2.0</td>\n",
              "    </tr>\n",
              "    <tr>\n",
              "      <th>9</th>\n",
              "      <td>b</td>\n",
              "      <td>5</td>\n",
              "      <td>1.0</td>\n",
              "    </tr>\n",
              "    <tr>\n",
              "      <th>10</th>\n",
              "      <td>b</td>\n",
              "      <td>5</td>\n",
              "      <td>3.0</td>\n",
              "    </tr>\n",
              "  </tbody>\n",
              "</table>\n",
              "</div>"
            ],
            "text/plain": [
              "   key  data1  data2\n",
              "0    b      0    1.0\n",
              "1    b      0    3.0\n",
              "2    b      1    1.0\n",
              "3    b      1    3.0\n",
              "4    a      2    0.0\n",
              "5    a      2    2.0\n",
              "6    c      3    NaN\n",
              "7    a      4    0.0\n",
              "8    a      4    2.0\n",
              "9    b      5    1.0\n",
              "10   b      5    3.0"
            ]
          },
          "metadata": {},
          "execution_count": 185
        }
      ]
    },
    {
      "cell_type": "markdown",
      "metadata": {
        "id": "tDIQCaK6u1B8"
      },
      "source": [
        "**Many-to-many joins form the Cartesian product of the rows**\n",
        "\n",
        "Since there were **three 'b' rows in the left DataFrame and two in the right one, there are six 'b' rows in the result**\n",
        "\n",
        "The join method only affects the distinct key values appearing in the result:"
      ]
    },
    {
      "cell_type": "code",
      "metadata": {
        "colab": {
          "base_uri": "https://localhost:8080/",
          "height": 359
        },
        "id": "JeuiJJUPY10H",
        "outputId": "435162eb-7d21-43af-a6d5-4253336b3116"
      },
      "source": [
        "pd.merge(df1, df2, how='inner')"
      ],
      "execution_count": 186,
      "outputs": [
        {
          "output_type": "execute_result",
          "data": {
            "text/html": [
              "<div>\n",
              "<style scoped>\n",
              "    .dataframe tbody tr th:only-of-type {\n",
              "        vertical-align: middle;\n",
              "    }\n",
              "\n",
              "    .dataframe tbody tr th {\n",
              "        vertical-align: top;\n",
              "    }\n",
              "\n",
              "    .dataframe thead th {\n",
              "        text-align: right;\n",
              "    }\n",
              "</style>\n",
              "<table border=\"1\" class=\"dataframe\">\n",
              "  <thead>\n",
              "    <tr style=\"text-align: right;\">\n",
              "      <th></th>\n",
              "      <th>key</th>\n",
              "      <th>data1</th>\n",
              "      <th>data2</th>\n",
              "    </tr>\n",
              "  </thead>\n",
              "  <tbody>\n",
              "    <tr>\n",
              "      <th>0</th>\n",
              "      <td>b</td>\n",
              "      <td>0</td>\n",
              "      <td>1</td>\n",
              "    </tr>\n",
              "    <tr>\n",
              "      <th>1</th>\n",
              "      <td>b</td>\n",
              "      <td>0</td>\n",
              "      <td>3</td>\n",
              "    </tr>\n",
              "    <tr>\n",
              "      <th>2</th>\n",
              "      <td>b</td>\n",
              "      <td>1</td>\n",
              "      <td>1</td>\n",
              "    </tr>\n",
              "    <tr>\n",
              "      <th>3</th>\n",
              "      <td>b</td>\n",
              "      <td>1</td>\n",
              "      <td>3</td>\n",
              "    </tr>\n",
              "    <tr>\n",
              "      <th>4</th>\n",
              "      <td>b</td>\n",
              "      <td>5</td>\n",
              "      <td>1</td>\n",
              "    </tr>\n",
              "    <tr>\n",
              "      <th>5</th>\n",
              "      <td>b</td>\n",
              "      <td>5</td>\n",
              "      <td>3</td>\n",
              "    </tr>\n",
              "    <tr>\n",
              "      <th>6</th>\n",
              "      <td>a</td>\n",
              "      <td>2</td>\n",
              "      <td>0</td>\n",
              "    </tr>\n",
              "    <tr>\n",
              "      <th>7</th>\n",
              "      <td>a</td>\n",
              "      <td>2</td>\n",
              "      <td>2</td>\n",
              "    </tr>\n",
              "    <tr>\n",
              "      <th>8</th>\n",
              "      <td>a</td>\n",
              "      <td>4</td>\n",
              "      <td>0</td>\n",
              "    </tr>\n",
              "    <tr>\n",
              "      <th>9</th>\n",
              "      <td>a</td>\n",
              "      <td>4</td>\n",
              "      <td>2</td>\n",
              "    </tr>\n",
              "  </tbody>\n",
              "</table>\n",
              "</div>"
            ],
            "text/plain": [
              "  key  data1  data2\n",
              "0   b      0      1\n",
              "1   b      0      3\n",
              "2   b      1      1\n",
              "3   b      1      3\n",
              "4   b      5      1\n",
              "5   b      5      3\n",
              "6   a      2      0\n",
              "7   a      2      2\n",
              "8   a      4      0\n",
              "9   a      4      2"
            ]
          },
          "metadata": {},
          "execution_count": 186
        }
      ]
    },
    {
      "cell_type": "markdown",
      "metadata": {
        "id": "3qtoDNuAZESh"
      },
      "source": [
        "To merge with multiple keys, pass a list of column names:"
      ]
    },
    {
      "cell_type": "code",
      "metadata": {
        "id": "xXcYbBCVZHNi"
      },
      "source": [
        "left = pd.DataFrame({'key1': ['foo', 'foo', 'bar'],\n",
        "                     'key2': ['one', 'two', 'one'],\n",
        "                     'lval': [1, 2, 3]})"
      ],
      "execution_count": 187,
      "outputs": []
    },
    {
      "cell_type": "code",
      "metadata": {
        "id": "_CGIub5GZSGs"
      },
      "source": [
        "right = pd.DataFrame({'key1': ['foo', 'foo', 'bar', 'bar'],\n",
        "                      'key2': ['one', 'one', 'one', 'two'],\n",
        "                      'rval': [4, 5, 6, 7]})"
      ],
      "execution_count": 188,
      "outputs": []
    },
    {
      "cell_type": "code",
      "metadata": {
        "colab": {
          "base_uri": "https://localhost:8080/",
          "height": 142
        },
        "id": "AOCIJBfoZikh",
        "outputId": "d461e036-a7a0-46bd-86d7-8f1e058a46a5"
      },
      "source": [
        "left"
      ],
      "execution_count": 189,
      "outputs": [
        {
          "output_type": "execute_result",
          "data": {
            "text/html": [
              "<div>\n",
              "<style scoped>\n",
              "    .dataframe tbody tr th:only-of-type {\n",
              "        vertical-align: middle;\n",
              "    }\n",
              "\n",
              "    .dataframe tbody tr th {\n",
              "        vertical-align: top;\n",
              "    }\n",
              "\n",
              "    .dataframe thead th {\n",
              "        text-align: right;\n",
              "    }\n",
              "</style>\n",
              "<table border=\"1\" class=\"dataframe\">\n",
              "  <thead>\n",
              "    <tr style=\"text-align: right;\">\n",
              "      <th></th>\n",
              "      <th>key1</th>\n",
              "      <th>key2</th>\n",
              "      <th>lval</th>\n",
              "    </tr>\n",
              "  </thead>\n",
              "  <tbody>\n",
              "    <tr>\n",
              "      <th>0</th>\n",
              "      <td>foo</td>\n",
              "      <td>one</td>\n",
              "      <td>1</td>\n",
              "    </tr>\n",
              "    <tr>\n",
              "      <th>1</th>\n",
              "      <td>foo</td>\n",
              "      <td>two</td>\n",
              "      <td>2</td>\n",
              "    </tr>\n",
              "    <tr>\n",
              "      <th>2</th>\n",
              "      <td>bar</td>\n",
              "      <td>one</td>\n",
              "      <td>3</td>\n",
              "    </tr>\n",
              "  </tbody>\n",
              "</table>\n",
              "</div>"
            ],
            "text/plain": [
              "  key1 key2  lval\n",
              "0  foo  one     1\n",
              "1  foo  two     2\n",
              "2  bar  one     3"
            ]
          },
          "metadata": {},
          "execution_count": 189
        }
      ]
    },
    {
      "cell_type": "code",
      "metadata": {
        "colab": {
          "base_uri": "https://localhost:8080/",
          "height": 173
        },
        "id": "_yaxtEJxZjqa",
        "outputId": "b31043c3-c1a8-4c69-823b-a236ff3b4712"
      },
      "source": [
        "right"
      ],
      "execution_count": 190,
      "outputs": [
        {
          "output_type": "execute_result",
          "data": {
            "text/html": [
              "<div>\n",
              "<style scoped>\n",
              "    .dataframe tbody tr th:only-of-type {\n",
              "        vertical-align: middle;\n",
              "    }\n",
              "\n",
              "    .dataframe tbody tr th {\n",
              "        vertical-align: top;\n",
              "    }\n",
              "\n",
              "    .dataframe thead th {\n",
              "        text-align: right;\n",
              "    }\n",
              "</style>\n",
              "<table border=\"1\" class=\"dataframe\">\n",
              "  <thead>\n",
              "    <tr style=\"text-align: right;\">\n",
              "      <th></th>\n",
              "      <th>key1</th>\n",
              "      <th>key2</th>\n",
              "      <th>rval</th>\n",
              "    </tr>\n",
              "  </thead>\n",
              "  <tbody>\n",
              "    <tr>\n",
              "      <th>0</th>\n",
              "      <td>foo</td>\n",
              "      <td>one</td>\n",
              "      <td>4</td>\n",
              "    </tr>\n",
              "    <tr>\n",
              "      <th>1</th>\n",
              "      <td>foo</td>\n",
              "      <td>one</td>\n",
              "      <td>5</td>\n",
              "    </tr>\n",
              "    <tr>\n",
              "      <th>2</th>\n",
              "      <td>bar</td>\n",
              "      <td>one</td>\n",
              "      <td>6</td>\n",
              "    </tr>\n",
              "    <tr>\n",
              "      <th>3</th>\n",
              "      <td>bar</td>\n",
              "      <td>two</td>\n",
              "      <td>7</td>\n",
              "    </tr>\n",
              "  </tbody>\n",
              "</table>\n",
              "</div>"
            ],
            "text/plain": [
              "  key1 key2  rval\n",
              "0  foo  one     4\n",
              "1  foo  one     5\n",
              "2  bar  one     6\n",
              "3  bar  two     7"
            ]
          },
          "metadata": {},
          "execution_count": 190
        }
      ]
    },
    {
      "cell_type": "code",
      "metadata": {
        "colab": {
          "base_uri": "https://localhost:8080/",
          "height": 204
        },
        "id": "m8bIzmkeZcu6",
        "outputId": "451ccedd-f880-4075-8789-84ae553a335c"
      },
      "source": [
        "pd.merge(left, right, on=['key1', 'key2'], how='outer')"
      ],
      "execution_count": 191,
      "outputs": [
        {
          "output_type": "execute_result",
          "data": {
            "text/html": [
              "<div>\n",
              "<style scoped>\n",
              "    .dataframe tbody tr th:only-of-type {\n",
              "        vertical-align: middle;\n",
              "    }\n",
              "\n",
              "    .dataframe tbody tr th {\n",
              "        vertical-align: top;\n",
              "    }\n",
              "\n",
              "    .dataframe thead th {\n",
              "        text-align: right;\n",
              "    }\n",
              "</style>\n",
              "<table border=\"1\" class=\"dataframe\">\n",
              "  <thead>\n",
              "    <tr style=\"text-align: right;\">\n",
              "      <th></th>\n",
              "      <th>key1</th>\n",
              "      <th>key2</th>\n",
              "      <th>lval</th>\n",
              "      <th>rval</th>\n",
              "    </tr>\n",
              "  </thead>\n",
              "  <tbody>\n",
              "    <tr>\n",
              "      <th>0</th>\n",
              "      <td>foo</td>\n",
              "      <td>one</td>\n",
              "      <td>1.0</td>\n",
              "      <td>4.0</td>\n",
              "    </tr>\n",
              "    <tr>\n",
              "      <th>1</th>\n",
              "      <td>foo</td>\n",
              "      <td>one</td>\n",
              "      <td>1.0</td>\n",
              "      <td>5.0</td>\n",
              "    </tr>\n",
              "    <tr>\n",
              "      <th>2</th>\n",
              "      <td>foo</td>\n",
              "      <td>two</td>\n",
              "      <td>2.0</td>\n",
              "      <td>NaN</td>\n",
              "    </tr>\n",
              "    <tr>\n",
              "      <th>3</th>\n",
              "      <td>bar</td>\n",
              "      <td>one</td>\n",
              "      <td>3.0</td>\n",
              "      <td>6.0</td>\n",
              "    </tr>\n",
              "    <tr>\n",
              "      <th>4</th>\n",
              "      <td>bar</td>\n",
              "      <td>two</td>\n",
              "      <td>NaN</td>\n",
              "      <td>7.0</td>\n",
              "    </tr>\n",
              "  </tbody>\n",
              "</table>\n",
              "</div>"
            ],
            "text/plain": [
              "  key1 key2  lval  rval\n",
              "0  foo  one   1.0   4.0\n",
              "1  foo  one   1.0   5.0\n",
              "2  foo  two   2.0   NaN\n",
              "3  bar  one   3.0   6.0\n",
              "4  bar  two   NaN   7.0"
            ]
          },
          "metadata": {},
          "execution_count": 191
        }
      ]
    },
    {
      "cell_type": "markdown",
      "metadata": {
        "id": "QaH51hn-Z0DB"
      },
      "source": [
        "To determine which key combinations will appear in the result depending on the choice of merge method, think of the multiple keys as forming an array of tuples to be used as a single join key (even though it’s not actually implemented that way)"
      ]
    },
    {
      "cell_type": "markdown",
      "metadata": {
        "id": "N8WVsftDaDcz"
      },
      "source": [
        "A last issue to consider in merge operations is the **treatment of overlapping column names**\n",
        "\n",
        "While you can address the overlap manually, **merge has a suffixes option for specifying strings to append to overlapping names** in the left and right DataFrame objects:"
      ]
    },
    {
      "cell_type": "code",
      "metadata": {
        "colab": {
          "base_uri": "https://localhost:8080/",
          "height": 235
        },
        "id": "CG4Z509XaYix",
        "outputId": "9e76d96a-18f1-45ee-8b80-c127030bfa0f"
      },
      "source": [
        "pd.merge(left, right, on='key1')"
      ],
      "execution_count": 192,
      "outputs": [
        {
          "output_type": "execute_result",
          "data": {
            "text/html": [
              "<div>\n",
              "<style scoped>\n",
              "    .dataframe tbody tr th:only-of-type {\n",
              "        vertical-align: middle;\n",
              "    }\n",
              "\n",
              "    .dataframe tbody tr th {\n",
              "        vertical-align: top;\n",
              "    }\n",
              "\n",
              "    .dataframe thead th {\n",
              "        text-align: right;\n",
              "    }\n",
              "</style>\n",
              "<table border=\"1\" class=\"dataframe\">\n",
              "  <thead>\n",
              "    <tr style=\"text-align: right;\">\n",
              "      <th></th>\n",
              "      <th>key1</th>\n",
              "      <th>key2_x</th>\n",
              "      <th>lval</th>\n",
              "      <th>key2_y</th>\n",
              "      <th>rval</th>\n",
              "    </tr>\n",
              "  </thead>\n",
              "  <tbody>\n",
              "    <tr>\n",
              "      <th>0</th>\n",
              "      <td>foo</td>\n",
              "      <td>one</td>\n",
              "      <td>1</td>\n",
              "      <td>one</td>\n",
              "      <td>4</td>\n",
              "    </tr>\n",
              "    <tr>\n",
              "      <th>1</th>\n",
              "      <td>foo</td>\n",
              "      <td>one</td>\n",
              "      <td>1</td>\n",
              "      <td>one</td>\n",
              "      <td>5</td>\n",
              "    </tr>\n",
              "    <tr>\n",
              "      <th>2</th>\n",
              "      <td>foo</td>\n",
              "      <td>two</td>\n",
              "      <td>2</td>\n",
              "      <td>one</td>\n",
              "      <td>4</td>\n",
              "    </tr>\n",
              "    <tr>\n",
              "      <th>3</th>\n",
              "      <td>foo</td>\n",
              "      <td>two</td>\n",
              "      <td>2</td>\n",
              "      <td>one</td>\n",
              "      <td>5</td>\n",
              "    </tr>\n",
              "    <tr>\n",
              "      <th>4</th>\n",
              "      <td>bar</td>\n",
              "      <td>one</td>\n",
              "      <td>3</td>\n",
              "      <td>one</td>\n",
              "      <td>6</td>\n",
              "    </tr>\n",
              "    <tr>\n",
              "      <th>5</th>\n",
              "      <td>bar</td>\n",
              "      <td>one</td>\n",
              "      <td>3</td>\n",
              "      <td>two</td>\n",
              "      <td>7</td>\n",
              "    </tr>\n",
              "  </tbody>\n",
              "</table>\n",
              "</div>"
            ],
            "text/plain": [
              "  key1 key2_x  lval key2_y  rval\n",
              "0  foo    one     1    one     4\n",
              "1  foo    one     1    one     5\n",
              "2  foo    two     2    one     4\n",
              "3  foo    two     2    one     5\n",
              "4  bar    one     3    one     6\n",
              "5  bar    one     3    two     7"
            ]
          },
          "metadata": {},
          "execution_count": 192
        }
      ]
    },
    {
      "cell_type": "code",
      "metadata": {
        "colab": {
          "base_uri": "https://localhost:8080/",
          "height": 235
        },
        "id": "8Tqh7zisakhc",
        "outputId": "53d39d57-6669-4ca6-f270-e68a936ec081"
      },
      "source": [
        "pd.merge(left, right, on='key1', suffixes=('_left', '_right'))"
      ],
      "execution_count": 193,
      "outputs": [
        {
          "output_type": "execute_result",
          "data": {
            "text/html": [
              "<div>\n",
              "<style scoped>\n",
              "    .dataframe tbody tr th:only-of-type {\n",
              "        vertical-align: middle;\n",
              "    }\n",
              "\n",
              "    .dataframe tbody tr th {\n",
              "        vertical-align: top;\n",
              "    }\n",
              "\n",
              "    .dataframe thead th {\n",
              "        text-align: right;\n",
              "    }\n",
              "</style>\n",
              "<table border=\"1\" class=\"dataframe\">\n",
              "  <thead>\n",
              "    <tr style=\"text-align: right;\">\n",
              "      <th></th>\n",
              "      <th>key1</th>\n",
              "      <th>key2_left</th>\n",
              "      <th>lval</th>\n",
              "      <th>key2_right</th>\n",
              "      <th>rval</th>\n",
              "    </tr>\n",
              "  </thead>\n",
              "  <tbody>\n",
              "    <tr>\n",
              "      <th>0</th>\n",
              "      <td>foo</td>\n",
              "      <td>one</td>\n",
              "      <td>1</td>\n",
              "      <td>one</td>\n",
              "      <td>4</td>\n",
              "    </tr>\n",
              "    <tr>\n",
              "      <th>1</th>\n",
              "      <td>foo</td>\n",
              "      <td>one</td>\n",
              "      <td>1</td>\n",
              "      <td>one</td>\n",
              "      <td>5</td>\n",
              "    </tr>\n",
              "    <tr>\n",
              "      <th>2</th>\n",
              "      <td>foo</td>\n",
              "      <td>two</td>\n",
              "      <td>2</td>\n",
              "      <td>one</td>\n",
              "      <td>4</td>\n",
              "    </tr>\n",
              "    <tr>\n",
              "      <th>3</th>\n",
              "      <td>foo</td>\n",
              "      <td>two</td>\n",
              "      <td>2</td>\n",
              "      <td>one</td>\n",
              "      <td>5</td>\n",
              "    </tr>\n",
              "    <tr>\n",
              "      <th>4</th>\n",
              "      <td>bar</td>\n",
              "      <td>one</td>\n",
              "      <td>3</td>\n",
              "      <td>one</td>\n",
              "      <td>6</td>\n",
              "    </tr>\n",
              "    <tr>\n",
              "      <th>5</th>\n",
              "      <td>bar</td>\n",
              "      <td>one</td>\n",
              "      <td>3</td>\n",
              "      <td>two</td>\n",
              "      <td>7</td>\n",
              "    </tr>\n",
              "  </tbody>\n",
              "</table>\n",
              "</div>"
            ],
            "text/plain": [
              "  key1 key2_left  lval key2_right  rval\n",
              "0  foo       one     1        one     4\n",
              "1  foo       one     1        one     5\n",
              "2  foo       two     2        one     4\n",
              "3  foo       two     2        one     5\n",
              "4  bar       one     3        one     6\n",
              "5  bar       one     3        two     7"
            ]
          },
          "metadata": {},
          "execution_count": 193
        }
      ]
    },
    {
      "cell_type": "markdown",
      "metadata": {
        "id": "m1In-ahia7PR"
      },
      "source": [
        "See Table 8-2 for an argument reference on merge"
      ]
    },
    {
      "cell_type": "markdown",
      "metadata": {
        "id": "m-wc6za6a_fQ"
      },
      "source": [
        "Table 8-2. merge function arguments\n",
        "<p align='center'>\n",
        "<img src='data:image/png;base64,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'>\n",
        "</p>"
      ]
    },
    {
      "cell_type": "markdown",
      "metadata": {
        "id": "woxMq512bPnt"
      },
      "source": [
        "## Merging on Index"
      ]
    },
    {
      "cell_type": "markdown",
      "metadata": {
        "id": "xWmkEHVPbSNy"
      },
      "source": [
        "In some cases, **the merge key(s) in a DataFrame will be found in its index**\n",
        "\n",
        "In this case, you can pass **left_index=True or right_index=True (or both) to indicate that the index should be used as the merge key:**"
      ]
    },
    {
      "cell_type": "code",
      "metadata": {
        "id": "sX7u0LFXbfBh"
      },
      "source": [
        "left1 = pd.DataFrame({'key': ['a', 'b', 'a', 'a', 'b', 'c'],\n",
        "                      'value': range(6)})"
      ],
      "execution_count": 194,
      "outputs": []
    },
    {
      "cell_type": "code",
      "metadata": {
        "id": "iipRZb_5bp5b"
      },
      "source": [
        "right1 = pd.DataFrame({'group_val': [3.5, 7]}, index=['a', 'b'])"
      ],
      "execution_count": 195,
      "outputs": []
    },
    {
      "cell_type": "code",
      "metadata": {
        "colab": {
          "base_uri": "https://localhost:8080/",
          "height": 235
        },
        "id": "zAdmDN0Wbxfa",
        "outputId": "01bcdb2a-001d-4305-f5f8-f4e4b219bc33"
      },
      "source": [
        "left1"
      ],
      "execution_count": 196,
      "outputs": [
        {
          "output_type": "execute_result",
          "data": {
            "text/html": [
              "<div>\n",
              "<style scoped>\n",
              "    .dataframe tbody tr th:only-of-type {\n",
              "        vertical-align: middle;\n",
              "    }\n",
              "\n",
              "    .dataframe tbody tr th {\n",
              "        vertical-align: top;\n",
              "    }\n",
              "\n",
              "    .dataframe thead th {\n",
              "        text-align: right;\n",
              "    }\n",
              "</style>\n",
              "<table border=\"1\" class=\"dataframe\">\n",
              "  <thead>\n",
              "    <tr style=\"text-align: right;\">\n",
              "      <th></th>\n",
              "      <th>key</th>\n",
              "      <th>value</th>\n",
              "    </tr>\n",
              "  </thead>\n",
              "  <tbody>\n",
              "    <tr>\n",
              "      <th>0</th>\n",
              "      <td>a</td>\n",
              "      <td>0</td>\n",
              "    </tr>\n",
              "    <tr>\n",
              "      <th>1</th>\n",
              "      <td>b</td>\n",
              "      <td>1</td>\n",
              "    </tr>\n",
              "    <tr>\n",
              "      <th>2</th>\n",
              "      <td>a</td>\n",
              "      <td>2</td>\n",
              "    </tr>\n",
              "    <tr>\n",
              "      <th>3</th>\n",
              "      <td>a</td>\n",
              "      <td>3</td>\n",
              "    </tr>\n",
              "    <tr>\n",
              "      <th>4</th>\n",
              "      <td>b</td>\n",
              "      <td>4</td>\n",
              "    </tr>\n",
              "    <tr>\n",
              "      <th>5</th>\n",
              "      <td>c</td>\n",
              "      <td>5</td>\n",
              "    </tr>\n",
              "  </tbody>\n",
              "</table>\n",
              "</div>"
            ],
            "text/plain": [
              "  key  value\n",
              "0   a      0\n",
              "1   b      1\n",
              "2   a      2\n",
              "3   a      3\n",
              "4   b      4\n",
              "5   c      5"
            ]
          },
          "metadata": {},
          "execution_count": 196
        }
      ]
    },
    {
      "cell_type": "code",
      "metadata": {
        "colab": {
          "base_uri": "https://localhost:8080/",
          "height": 111
        },
        "id": "nYNxj3t7byvO",
        "outputId": "c6293217-f5f1-4956-e0ee-edd41c356dfd"
      },
      "source": [
        "right1"
      ],
      "execution_count": 197,
      "outputs": [
        {
          "output_type": "execute_result",
          "data": {
            "text/html": [
              "<div>\n",
              "<style scoped>\n",
              "    .dataframe tbody tr th:only-of-type {\n",
              "        vertical-align: middle;\n",
              "    }\n",
              "\n",
              "    .dataframe tbody tr th {\n",
              "        vertical-align: top;\n",
              "    }\n",
              "\n",
              "    .dataframe thead th {\n",
              "        text-align: right;\n",
              "    }\n",
              "</style>\n",
              "<table border=\"1\" class=\"dataframe\">\n",
              "  <thead>\n",
              "    <tr style=\"text-align: right;\">\n",
              "      <th></th>\n",
              "      <th>group_val</th>\n",
              "    </tr>\n",
              "  </thead>\n",
              "  <tbody>\n",
              "    <tr>\n",
              "      <th>a</th>\n",
              "      <td>3.5</td>\n",
              "    </tr>\n",
              "    <tr>\n",
              "      <th>b</th>\n",
              "      <td>7.0</td>\n",
              "    </tr>\n",
              "  </tbody>\n",
              "</table>\n",
              "</div>"
            ],
            "text/plain": [
              "   group_val\n",
              "a        3.5\n",
              "b        7.0"
            ]
          },
          "metadata": {},
          "execution_count": 197
        }
      ]
    },
    {
      "cell_type": "code",
      "metadata": {
        "colab": {
          "base_uri": "https://localhost:8080/",
          "height": 204
        },
        "id": "-MkVcnP_cM_X",
        "outputId": "0813e7c8-6417-49cd-d36c-021dacd46013"
      },
      "source": [
        "pd.merge(left1, right1, left_on='key', right_index=True)"
      ],
      "execution_count": 198,
      "outputs": [
        {
          "output_type": "execute_result",
          "data": {
            "text/html": [
              "<div>\n",
              "<style scoped>\n",
              "    .dataframe tbody tr th:only-of-type {\n",
              "        vertical-align: middle;\n",
              "    }\n",
              "\n",
              "    .dataframe tbody tr th {\n",
              "        vertical-align: top;\n",
              "    }\n",
              "\n",
              "    .dataframe thead th {\n",
              "        text-align: right;\n",
              "    }\n",
              "</style>\n",
              "<table border=\"1\" class=\"dataframe\">\n",
              "  <thead>\n",
              "    <tr style=\"text-align: right;\">\n",
              "      <th></th>\n",
              "      <th>key</th>\n",
              "      <th>value</th>\n",
              "      <th>group_val</th>\n",
              "    </tr>\n",
              "  </thead>\n",
              "  <tbody>\n",
              "    <tr>\n",
              "      <th>0</th>\n",
              "      <td>a</td>\n",
              "      <td>0</td>\n",
              "      <td>3.5</td>\n",
              "    </tr>\n",
              "    <tr>\n",
              "      <th>2</th>\n",
              "      <td>a</td>\n",
              "      <td>2</td>\n",
              "      <td>3.5</td>\n",
              "    </tr>\n",
              "    <tr>\n",
              "      <th>3</th>\n",
              "      <td>a</td>\n",
              "      <td>3</td>\n",
              "      <td>3.5</td>\n",
              "    </tr>\n",
              "    <tr>\n",
              "      <th>1</th>\n",
              "      <td>b</td>\n",
              "      <td>1</td>\n",
              "      <td>7.0</td>\n",
              "    </tr>\n",
              "    <tr>\n",
              "      <th>4</th>\n",
              "      <td>b</td>\n",
              "      <td>4</td>\n",
              "      <td>7.0</td>\n",
              "    </tr>\n",
              "  </tbody>\n",
              "</table>\n",
              "</div>"
            ],
            "text/plain": [
              "  key  value  group_val\n",
              "0   a      0        3.5\n",
              "2   a      2        3.5\n",
              "3   a      3        3.5\n",
              "1   b      1        7.0\n",
              "4   b      4        7.0"
            ]
          },
          "metadata": {},
          "execution_count": 198
        }
      ]
    },
    {
      "cell_type": "markdown",
      "metadata": {
        "id": "XNunEB2wchtY"
      },
      "source": [
        "Since the default merge method is to intersect the join keys, you can instead form the union of them with an outer join:"
      ]
    },
    {
      "cell_type": "code",
      "metadata": {
        "colab": {
          "base_uri": "https://localhost:8080/",
          "height": 235
        },
        "id": "o1ZLEJSScj8a",
        "outputId": "2eabe1e1-1740-445e-bc8b-586f67b71550"
      },
      "source": [
        "pd.merge(left1, right1, left_on='key', right_index=True, how='outer')"
      ],
      "execution_count": 199,
      "outputs": [
        {
          "output_type": "execute_result",
          "data": {
            "text/html": [
              "<div>\n",
              "<style scoped>\n",
              "    .dataframe tbody tr th:only-of-type {\n",
              "        vertical-align: middle;\n",
              "    }\n",
              "\n",
              "    .dataframe tbody tr th {\n",
              "        vertical-align: top;\n",
              "    }\n",
              "\n",
              "    .dataframe thead th {\n",
              "        text-align: right;\n",
              "    }\n",
              "</style>\n",
              "<table border=\"1\" class=\"dataframe\">\n",
              "  <thead>\n",
              "    <tr style=\"text-align: right;\">\n",
              "      <th></th>\n",
              "      <th>key</th>\n",
              "      <th>value</th>\n",
              "      <th>group_val</th>\n",
              "    </tr>\n",
              "  </thead>\n",
              "  <tbody>\n",
              "    <tr>\n",
              "      <th>0</th>\n",
              "      <td>a</td>\n",
              "      <td>0</td>\n",
              "      <td>3.5</td>\n",
              "    </tr>\n",
              "    <tr>\n",
              "      <th>2</th>\n",
              "      <td>a</td>\n",
              "      <td>2</td>\n",
              "      <td>3.5</td>\n",
              "    </tr>\n",
              "    <tr>\n",
              "      <th>3</th>\n",
              "      <td>a</td>\n",
              "      <td>3</td>\n",
              "      <td>3.5</td>\n",
              "    </tr>\n",
              "    <tr>\n",
              "      <th>1</th>\n",
              "      <td>b</td>\n",
              "      <td>1</td>\n",
              "      <td>7.0</td>\n",
              "    </tr>\n",
              "    <tr>\n",
              "      <th>4</th>\n",
              "      <td>b</td>\n",
              "      <td>4</td>\n",
              "      <td>7.0</td>\n",
              "    </tr>\n",
              "    <tr>\n",
              "      <th>5</th>\n",
              "      <td>c</td>\n",
              "      <td>5</td>\n",
              "      <td>NaN</td>\n",
              "    </tr>\n",
              "  </tbody>\n",
              "</table>\n",
              "</div>"
            ],
            "text/plain": [
              "  key  value  group_val\n",
              "0   a      0        3.5\n",
              "2   a      2        3.5\n",
              "3   a      3        3.5\n",
              "1   b      1        7.0\n",
              "4   b      4        7.0\n",
              "5   c      5        NaN"
            ]
          },
          "metadata": {},
          "execution_count": 199
        }
      ]
    },
    {
      "cell_type": "markdown",
      "metadata": {
        "id": "eRB5va8HcuBH"
      },
      "source": [
        "With **hierarchically** indexed data, things are more complicated, as **joining on index is implicitly a multiple-key merge:**"
      ]
    },
    {
      "cell_type": "code",
      "metadata": {
        "id": "bsk1D2yHczPg"
      },
      "source": [
        "lefth = pd.DataFrame({'key1': ['Ohio', 'Ohio', 'Ohio',\n",
        "                               'Nevada', 'Nevada'],\n",
        "                      'key2': [2000, 2001, 2002, 2001, 2002],\n",
        "                      'data': np.arange(5.)})"
      ],
      "execution_count": 200,
      "outputs": []
    },
    {
      "cell_type": "code",
      "metadata": {
        "id": "TE82q6hmdJBw"
      },
      "source": [
        "righth = pd.DataFrame(np.arange(12).reshape((6, 2)),\n",
        "                      index=[['Nevada', 'Nevada', 'Ohio', 'Ohio',\n",
        "                              'Ohio', 'Ohio'],\n",
        "                             [2001, 2000, 2000, 2000, 2001, 2002]],\n",
        "                      columns=['event1', 'event2'])"
      ],
      "execution_count": 207,
      "outputs": []
    },
    {
      "cell_type": "code",
      "metadata": {
        "colab": {
          "base_uri": "https://localhost:8080/",
          "height": 204
        },
        "id": "_NbarMMyxM0b",
        "outputId": "0455db2a-6501-409b-c80d-2db96103b1b9"
      },
      "source": [
        "lefth"
      ],
      "execution_count": 203,
      "outputs": [
        {
          "output_type": "execute_result",
          "data": {
            "text/html": [
              "<div>\n",
              "<style scoped>\n",
              "    .dataframe tbody tr th:only-of-type {\n",
              "        vertical-align: middle;\n",
              "    }\n",
              "\n",
              "    .dataframe tbody tr th {\n",
              "        vertical-align: top;\n",
              "    }\n",
              "\n",
              "    .dataframe thead th {\n",
              "        text-align: right;\n",
              "    }\n",
              "</style>\n",
              "<table border=\"1\" class=\"dataframe\">\n",
              "  <thead>\n",
              "    <tr style=\"text-align: right;\">\n",
              "      <th></th>\n",
              "      <th>key1</th>\n",
              "      <th>key2</th>\n",
              "      <th>data</th>\n",
              "    </tr>\n",
              "  </thead>\n",
              "  <tbody>\n",
              "    <tr>\n",
              "      <th>0</th>\n",
              "      <td>Ohio</td>\n",
              "      <td>2000</td>\n",
              "      <td>0.0</td>\n",
              "    </tr>\n",
              "    <tr>\n",
              "      <th>1</th>\n",
              "      <td>Ohio</td>\n",
              "      <td>2001</td>\n",
              "      <td>1.0</td>\n",
              "    </tr>\n",
              "    <tr>\n",
              "      <th>2</th>\n",
              "      <td>Ohio</td>\n",
              "      <td>2002</td>\n",
              "      <td>2.0</td>\n",
              "    </tr>\n",
              "    <tr>\n",
              "      <th>3</th>\n",
              "      <td>Nevada</td>\n",
              "      <td>2001</td>\n",
              "      <td>3.0</td>\n",
              "    </tr>\n",
              "    <tr>\n",
              "      <th>4</th>\n",
              "      <td>Nevada</td>\n",
              "      <td>2002</td>\n",
              "      <td>4.0</td>\n",
              "    </tr>\n",
              "  </tbody>\n",
              "</table>\n",
              "</div>"
            ],
            "text/plain": [
              "     key1  key2  data\n",
              "0    Ohio  2000   0.0\n",
              "1    Ohio  2001   1.0\n",
              "2    Ohio  2002   2.0\n",
              "3  Nevada  2001   3.0\n",
              "4  Nevada  2002   4.0"
            ]
          },
          "metadata": {},
          "execution_count": 203
        }
      ]
    },
    {
      "cell_type": "code",
      "metadata": {
        "colab": {
          "base_uri": "https://localhost:8080/",
          "height": 235
        },
        "id": "ahkAEsgLxPpc",
        "outputId": "1367db29-1ef9-44f6-a3e0-582bad1f256e"
      },
      "source": [
        "righth"
      ],
      "execution_count": 208,
      "outputs": [
        {
          "output_type": "execute_result",
          "data": {
            "text/html": [
              "<div>\n",
              "<style scoped>\n",
              "    .dataframe tbody tr th:only-of-type {\n",
              "        vertical-align: middle;\n",
              "    }\n",
              "\n",
              "    .dataframe tbody tr th {\n",
              "        vertical-align: top;\n",
              "    }\n",
              "\n",
              "    .dataframe thead th {\n",
              "        text-align: right;\n",
              "    }\n",
              "</style>\n",
              "<table border=\"1\" class=\"dataframe\">\n",
              "  <thead>\n",
              "    <tr style=\"text-align: right;\">\n",
              "      <th></th>\n",
              "      <th></th>\n",
              "      <th>event1</th>\n",
              "      <th>event2</th>\n",
              "    </tr>\n",
              "  </thead>\n",
              "  <tbody>\n",
              "    <tr>\n",
              "      <th rowspan=\"2\" valign=\"top\">Nevada</th>\n",
              "      <th>2001</th>\n",
              "      <td>0</td>\n",
              "      <td>1</td>\n",
              "    </tr>\n",
              "    <tr>\n",
              "      <th>2000</th>\n",
              "      <td>2</td>\n",
              "      <td>3</td>\n",
              "    </tr>\n",
              "    <tr>\n",
              "      <th rowspan=\"4\" valign=\"top\">Ohio</th>\n",
              "      <th>2000</th>\n",
              "      <td>4</td>\n",
              "      <td>5</td>\n",
              "    </tr>\n",
              "    <tr>\n",
              "      <th>2000</th>\n",
              "      <td>6</td>\n",
              "      <td>7</td>\n",
              "    </tr>\n",
              "    <tr>\n",
              "      <th>2001</th>\n",
              "      <td>8</td>\n",
              "      <td>9</td>\n",
              "    </tr>\n",
              "    <tr>\n",
              "      <th>2002</th>\n",
              "      <td>10</td>\n",
              "      <td>11</td>\n",
              "    </tr>\n",
              "  </tbody>\n",
              "</table>\n",
              "</div>"
            ],
            "text/plain": [
              "             event1  event2\n",
              "Nevada 2001       0       1\n",
              "       2000       2       3\n",
              "Ohio   2000       4       5\n",
              "       2000       6       7\n",
              "       2001       8       9\n",
              "       2002      10      11"
            ]
          },
          "metadata": {},
          "execution_count": 208
        }
      ]
    },
    {
      "cell_type": "markdown",
      "metadata": {
        "id": "Qqc_Gv8PxxHE"
      },
      "source": [
        "In this case, **you have to indicate multiple columns to merge on as a list** (note the handling of duplicate index values with how='outer'):"
      ]
    },
    {
      "cell_type": "code",
      "metadata": {
        "colab": {
          "base_uri": "https://localhost:8080/",
          "height": 204
        },
        "id": "ReoftUGwyG80",
        "outputId": "823a5f67-1dec-475a-9a59-331b3694e2f5"
      },
      "source": [
        "pd.merge(lefth, righth, left_on=['key1', 'key2'], right_index=True)"
      ],
      "execution_count": 209,
      "outputs": [
        {
          "output_type": "execute_result",
          "data": {
            "text/html": [
              "<div>\n",
              "<style scoped>\n",
              "    .dataframe tbody tr th:only-of-type {\n",
              "        vertical-align: middle;\n",
              "    }\n",
              "\n",
              "    .dataframe tbody tr th {\n",
              "        vertical-align: top;\n",
              "    }\n",
              "\n",
              "    .dataframe thead th {\n",
              "        text-align: right;\n",
              "    }\n",
              "</style>\n",
              "<table border=\"1\" class=\"dataframe\">\n",
              "  <thead>\n",
              "    <tr style=\"text-align: right;\">\n",
              "      <th></th>\n",
              "      <th>key1</th>\n",
              "      <th>key2</th>\n",
              "      <th>data</th>\n",
              "      <th>event1</th>\n",
              "      <th>event2</th>\n",
              "    </tr>\n",
              "  </thead>\n",
              "  <tbody>\n",
              "    <tr>\n",
              "      <th>0</th>\n",
              "      <td>Ohio</td>\n",
              "      <td>2000</td>\n",
              "      <td>0.0</td>\n",
              "      <td>4</td>\n",
              "      <td>5</td>\n",
              "    </tr>\n",
              "    <tr>\n",
              "      <th>0</th>\n",
              "      <td>Ohio</td>\n",
              "      <td>2000</td>\n",
              "      <td>0.0</td>\n",
              "      <td>6</td>\n",
              "      <td>7</td>\n",
              "    </tr>\n",
              "    <tr>\n",
              "      <th>1</th>\n",
              "      <td>Ohio</td>\n",
              "      <td>2001</td>\n",
              "      <td>1.0</td>\n",
              "      <td>8</td>\n",
              "      <td>9</td>\n",
              "    </tr>\n",
              "    <tr>\n",
              "      <th>2</th>\n",
              "      <td>Ohio</td>\n",
              "      <td>2002</td>\n",
              "      <td>2.0</td>\n",
              "      <td>10</td>\n",
              "      <td>11</td>\n",
              "    </tr>\n",
              "    <tr>\n",
              "      <th>3</th>\n",
              "      <td>Nevada</td>\n",
              "      <td>2001</td>\n",
              "      <td>3.0</td>\n",
              "      <td>0</td>\n",
              "      <td>1</td>\n",
              "    </tr>\n",
              "  </tbody>\n",
              "</table>\n",
              "</div>"
            ],
            "text/plain": [
              "     key1  key2  data  event1  event2\n",
              "0    Ohio  2000   0.0       4       5\n",
              "0    Ohio  2000   0.0       6       7\n",
              "1    Ohio  2001   1.0       8       9\n",
              "2    Ohio  2002   2.0      10      11\n",
              "3  Nevada  2001   3.0       0       1"
            ]
          },
          "metadata": {},
          "execution_count": 209
        }
      ]
    },
    {
      "cell_type": "code",
      "metadata": {
        "colab": {
          "base_uri": "https://localhost:8080/",
          "height": 266
        },
        "id": "x5RF6lKKyaDh",
        "outputId": "6fc30c1a-d95a-4682-d82d-70019d2bf9f7"
      },
      "source": [
        "pd.merge(lefth, righth, left_on=['key1', 'key2'],\n",
        "         right_index=True, how='outer')"
      ],
      "execution_count": 210,
      "outputs": [
        {
          "output_type": "execute_result",
          "data": {
            "text/html": [
              "<div>\n",
              "<style scoped>\n",
              "    .dataframe tbody tr th:only-of-type {\n",
              "        vertical-align: middle;\n",
              "    }\n",
              "\n",
              "    .dataframe tbody tr th {\n",
              "        vertical-align: top;\n",
              "    }\n",
              "\n",
              "    .dataframe thead th {\n",
              "        text-align: right;\n",
              "    }\n",
              "</style>\n",
              "<table border=\"1\" class=\"dataframe\">\n",
              "  <thead>\n",
              "    <tr style=\"text-align: right;\">\n",
              "      <th></th>\n",
              "      <th>key1</th>\n",
              "      <th>key2</th>\n",
              "      <th>data</th>\n",
              "      <th>event1</th>\n",
              "      <th>event2</th>\n",
              "    </tr>\n",
              "  </thead>\n",
              "  <tbody>\n",
              "    <tr>\n",
              "      <th>0</th>\n",
              "      <td>Ohio</td>\n",
              "      <td>2000</td>\n",
              "      <td>0.0</td>\n",
              "      <td>4.0</td>\n",
              "      <td>5.0</td>\n",
              "    </tr>\n",
              "    <tr>\n",
              "      <th>0</th>\n",
              "      <td>Ohio</td>\n",
              "      <td>2000</td>\n",
              "      <td>0.0</td>\n",
              "      <td>6.0</td>\n",
              "      <td>7.0</td>\n",
              "    </tr>\n",
              "    <tr>\n",
              "      <th>1</th>\n",
              "      <td>Ohio</td>\n",
              "      <td>2001</td>\n",
              "      <td>1.0</td>\n",
              "      <td>8.0</td>\n",
              "      <td>9.0</td>\n",
              "    </tr>\n",
              "    <tr>\n",
              "      <th>2</th>\n",
              "      <td>Ohio</td>\n",
              "      <td>2002</td>\n",
              "      <td>2.0</td>\n",
              "      <td>10.0</td>\n",
              "      <td>11.0</td>\n",
              "    </tr>\n",
              "    <tr>\n",
              "      <th>3</th>\n",
              "      <td>Nevada</td>\n",
              "      <td>2001</td>\n",
              "      <td>3.0</td>\n",
              "      <td>0.0</td>\n",
              "      <td>1.0</td>\n",
              "    </tr>\n",
              "    <tr>\n",
              "      <th>4</th>\n",
              "      <td>Nevada</td>\n",
              "      <td>2002</td>\n",
              "      <td>4.0</td>\n",
              "      <td>NaN</td>\n",
              "      <td>NaN</td>\n",
              "    </tr>\n",
              "    <tr>\n",
              "      <th>4</th>\n",
              "      <td>Nevada</td>\n",
              "      <td>2000</td>\n",
              "      <td>NaN</td>\n",
              "      <td>2.0</td>\n",
              "      <td>3.0</td>\n",
              "    </tr>\n",
              "  </tbody>\n",
              "</table>\n",
              "</div>"
            ],
            "text/plain": [
              "     key1  key2  data  event1  event2\n",
              "0    Ohio  2000   0.0     4.0     5.0\n",
              "0    Ohio  2000   0.0     6.0     7.0\n",
              "1    Ohio  2001   1.0     8.0     9.0\n",
              "2    Ohio  2002   2.0    10.0    11.0\n",
              "3  Nevada  2001   3.0     0.0     1.0\n",
              "4  Nevada  2002   4.0     NaN     NaN\n",
              "4  Nevada  2000   NaN     2.0     3.0"
            ]
          },
          "metadata": {},
          "execution_count": 210
        }
      ]
    },
    {
      "cell_type": "markdown",
      "metadata": {
        "id": "6SRpkfnL0m4V"
      },
      "source": [
        "Using the indexes of both sides of the merge is also possible:"
      ]
    },
    {
      "cell_type": "code",
      "metadata": {
        "id": "rPZushzk0o-L"
      },
      "source": [
        "left2 = pd.DataFrame([[1., 2.], [3., 4.], [5., 6.]],\n",
        "                     index=['a', 'c', 'e'],\n",
        "                     columns=['Ohio', 'Nevada'])"
      ],
      "execution_count": 211,
      "outputs": []
    },
    {
      "cell_type": "code",
      "metadata": {
        "id": "1bHyw4-X0yaE"
      },
      "source": [
        "right2 = pd.DataFrame([[7., 8.], [9., 10.], [11., 12.], [13, 14]],\n",
        "                      index=['b', 'c', 'd', 'e'],\n",
        "                      columns=['Missouri', 'Alabama'])"
      ],
      "execution_count": 212,
      "outputs": []
    },
    {
      "cell_type": "code",
      "metadata": {
        "colab": {
          "base_uri": "https://localhost:8080/",
          "height": 142
        },
        "id": "CzdVuIqL07Zn",
        "outputId": "4c80775d-9a52-43d9-ffb3-07edf9a95b8f"
      },
      "source": [
        "left2"
      ],
      "execution_count": 213,
      "outputs": [
        {
          "output_type": "execute_result",
          "data": {
            "text/html": [
              "<div>\n",
              "<style scoped>\n",
              "    .dataframe tbody tr th:only-of-type {\n",
              "        vertical-align: middle;\n",
              "    }\n",
              "\n",
              "    .dataframe tbody tr th {\n",
              "        vertical-align: top;\n",
              "    }\n",
              "\n",
              "    .dataframe thead th {\n",
              "        text-align: right;\n",
              "    }\n",
              "</style>\n",
              "<table border=\"1\" class=\"dataframe\">\n",
              "  <thead>\n",
              "    <tr style=\"text-align: right;\">\n",
              "      <th></th>\n",
              "      <th>Ohio</th>\n",
              "      <th>Nevada</th>\n",
              "    </tr>\n",
              "  </thead>\n",
              "  <tbody>\n",
              "    <tr>\n",
              "      <th>a</th>\n",
              "      <td>1.0</td>\n",
              "      <td>2.0</td>\n",
              "    </tr>\n",
              "    <tr>\n",
              "      <th>c</th>\n",
              "      <td>3.0</td>\n",
              "      <td>4.0</td>\n",
              "    </tr>\n",
              "    <tr>\n",
              "      <th>e</th>\n",
              "      <td>5.0</td>\n",
              "      <td>6.0</td>\n",
              "    </tr>\n",
              "  </tbody>\n",
              "</table>\n",
              "</div>"
            ],
            "text/plain": [
              "   Ohio  Nevada\n",
              "a   1.0     2.0\n",
              "c   3.0     4.0\n",
              "e   5.0     6.0"
            ]
          },
          "metadata": {},
          "execution_count": 213
        }
      ]
    },
    {
      "cell_type": "code",
      "metadata": {
        "colab": {
          "base_uri": "https://localhost:8080/",
          "height": 173
        },
        "id": "n5ghjrvl09IW",
        "outputId": "d511b037-a253-4b1a-bc8b-025e57fcacaa"
      },
      "source": [
        "right2"
      ],
      "execution_count": 214,
      "outputs": [
        {
          "output_type": "execute_result",
          "data": {
            "text/html": [
              "<div>\n",
              "<style scoped>\n",
              "    .dataframe tbody tr th:only-of-type {\n",
              "        vertical-align: middle;\n",
              "    }\n",
              "\n",
              "    .dataframe tbody tr th {\n",
              "        vertical-align: top;\n",
              "    }\n",
              "\n",
              "    .dataframe thead th {\n",
              "        text-align: right;\n",
              "    }\n",
              "</style>\n",
              "<table border=\"1\" class=\"dataframe\">\n",
              "  <thead>\n",
              "    <tr style=\"text-align: right;\">\n",
              "      <th></th>\n",
              "      <th>Missouri</th>\n",
              "      <th>Alabama</th>\n",
              "    </tr>\n",
              "  </thead>\n",
              "  <tbody>\n",
              "    <tr>\n",
              "      <th>b</th>\n",
              "      <td>7.0</td>\n",
              "      <td>8.0</td>\n",
              "    </tr>\n",
              "    <tr>\n",
              "      <th>c</th>\n",
              "      <td>9.0</td>\n",
              "      <td>10.0</td>\n",
              "    </tr>\n",
              "    <tr>\n",
              "      <th>d</th>\n",
              "      <td>11.0</td>\n",
              "      <td>12.0</td>\n",
              "    </tr>\n",
              "    <tr>\n",
              "      <th>e</th>\n",
              "      <td>13.0</td>\n",
              "      <td>14.0</td>\n",
              "    </tr>\n",
              "  </tbody>\n",
              "</table>\n",
              "</div>"
            ],
            "text/plain": [
              "   Missouri  Alabama\n",
              "b       7.0      8.0\n",
              "c       9.0     10.0\n",
              "d      11.0     12.0\n",
              "e      13.0     14.0"
            ]
          },
          "metadata": {},
          "execution_count": 214
        }
      ]
    },
    {
      "cell_type": "code",
      "metadata": {
        "colab": {
          "base_uri": "https://localhost:8080/",
          "height": 204
        },
        "id": "YpjvzD_m0--d",
        "outputId": "3d12157f-e1f5-4c08-aed3-96f5d7ea1f04"
      },
      "source": [
        "pd.merge(left2, right2, how='outer', left_index=True, right_index=True)"
      ],
      "execution_count": 215,
      "outputs": [
        {
          "output_type": "execute_result",
          "data": {
            "text/html": [
              "<div>\n",
              "<style scoped>\n",
              "    .dataframe tbody tr th:only-of-type {\n",
              "        vertical-align: middle;\n",
              "    }\n",
              "\n",
              "    .dataframe tbody tr th {\n",
              "        vertical-align: top;\n",
              "    }\n",
              "\n",
              "    .dataframe thead th {\n",
              "        text-align: right;\n",
              "    }\n",
              "</style>\n",
              "<table border=\"1\" class=\"dataframe\">\n",
              "  <thead>\n",
              "    <tr style=\"text-align: right;\">\n",
              "      <th></th>\n",
              "      <th>Ohio</th>\n",
              "      <th>Nevada</th>\n",
              "      <th>Missouri</th>\n",
              "      <th>Alabama</th>\n",
              "    </tr>\n",
              "  </thead>\n",
              "  <tbody>\n",
              "    <tr>\n",
              "      <th>a</th>\n",
              "      <td>1.0</td>\n",
              "      <td>2.0</td>\n",
              "      <td>NaN</td>\n",
              "      <td>NaN</td>\n",
              "    </tr>\n",
              "    <tr>\n",
              "      <th>b</th>\n",
              "      <td>NaN</td>\n",
              "      <td>NaN</td>\n",
              "      <td>7.0</td>\n",
              "      <td>8.0</td>\n",
              "    </tr>\n",
              "    <tr>\n",
              "      <th>c</th>\n",
              "      <td>3.0</td>\n",
              "      <td>4.0</td>\n",
              "      <td>9.0</td>\n",
              "      <td>10.0</td>\n",
              "    </tr>\n",
              "    <tr>\n",
              "      <th>d</th>\n",
              "      <td>NaN</td>\n",
              "      <td>NaN</td>\n",
              "      <td>11.0</td>\n",
              "      <td>12.0</td>\n",
              "    </tr>\n",
              "    <tr>\n",
              "      <th>e</th>\n",
              "      <td>5.0</td>\n",
              "      <td>6.0</td>\n",
              "      <td>13.0</td>\n",
              "      <td>14.0</td>\n",
              "    </tr>\n",
              "  </tbody>\n",
              "</table>\n",
              "</div>"
            ],
            "text/plain": [
              "   Ohio  Nevada  Missouri  Alabama\n",
              "a   1.0     2.0       NaN      NaN\n",
              "b   NaN     NaN       7.0      8.0\n",
              "c   3.0     4.0       9.0     10.0\n",
              "d   NaN     NaN      11.0     12.0\n",
              "e   5.0     6.0      13.0     14.0"
            ]
          },
          "metadata": {},
          "execution_count": 215
        }
      ]
    },
    {
      "cell_type": "markdown",
      "metadata": {
        "id": "kuxSAAH81Z5n"
      },
      "source": [
        "DataFrame has a convenient **join** instance for **merging by index**\n",
        "\n",
        "It can also be used to **combine together many DataFrame objects having the same or similar indexes but non-overlapping columns**\n",
        "\n",
        "In the prior example, we could have written:"
      ]
    },
    {
      "cell_type": "code",
      "metadata": {
        "colab": {
          "base_uri": "https://localhost:8080/",
          "height": 204
        },
        "id": "bzHk0Ybi2NMk",
        "outputId": "ee2196cd-0a38-450b-e73b-e43797b0c962"
      },
      "source": [
        "left2.join(right2, how='outer')"
      ],
      "execution_count": 216,
      "outputs": [
        {
          "output_type": "execute_result",
          "data": {
            "text/html": [
              "<div>\n",
              "<style scoped>\n",
              "    .dataframe tbody tr th:only-of-type {\n",
              "        vertical-align: middle;\n",
              "    }\n",
              "\n",
              "    .dataframe tbody tr th {\n",
              "        vertical-align: top;\n",
              "    }\n",
              "\n",
              "    .dataframe thead th {\n",
              "        text-align: right;\n",
              "    }\n",
              "</style>\n",
              "<table border=\"1\" class=\"dataframe\">\n",
              "  <thead>\n",
              "    <tr style=\"text-align: right;\">\n",
              "      <th></th>\n",
              "      <th>Ohio</th>\n",
              "      <th>Nevada</th>\n",
              "      <th>Missouri</th>\n",
              "      <th>Alabama</th>\n",
              "    </tr>\n",
              "  </thead>\n",
              "  <tbody>\n",
              "    <tr>\n",
              "      <th>a</th>\n",
              "      <td>1.0</td>\n",
              "      <td>2.0</td>\n",
              "      <td>NaN</td>\n",
              "      <td>NaN</td>\n",
              "    </tr>\n",
              "    <tr>\n",
              "      <th>b</th>\n",
              "      <td>NaN</td>\n",
              "      <td>NaN</td>\n",
              "      <td>7.0</td>\n",
              "      <td>8.0</td>\n",
              "    </tr>\n",
              "    <tr>\n",
              "      <th>c</th>\n",
              "      <td>3.0</td>\n",
              "      <td>4.0</td>\n",
              "      <td>9.0</td>\n",
              "      <td>10.0</td>\n",
              "    </tr>\n",
              "    <tr>\n",
              "      <th>d</th>\n",
              "      <td>NaN</td>\n",
              "      <td>NaN</td>\n",
              "      <td>11.0</td>\n",
              "      <td>12.0</td>\n",
              "    </tr>\n",
              "    <tr>\n",
              "      <th>e</th>\n",
              "      <td>5.0</td>\n",
              "      <td>6.0</td>\n",
              "      <td>13.0</td>\n",
              "      <td>14.0</td>\n",
              "    </tr>\n",
              "  </tbody>\n",
              "</table>\n",
              "</div>"
            ],
            "text/plain": [
              "   Ohio  Nevada  Missouri  Alabama\n",
              "a   1.0     2.0       NaN      NaN\n",
              "b   NaN     NaN       7.0      8.0\n",
              "c   3.0     4.0       9.0     10.0\n",
              "d   NaN     NaN      11.0     12.0\n",
              "e   5.0     6.0      13.0     14.0"
            ]
          },
          "metadata": {},
          "execution_count": 216
        }
      ]
    },
    {
      "cell_type": "markdown",
      "metadata": {
        "id": "d0otnT6t2Q25"
      },
      "source": [
        "In part for legacy reasons (i.e., much earlier versions of pandas), **DataFrame’s join method performs a left join on the join keys,** exactly preserving the left frame’s row index\n",
        "\n",
        "It also **supports joining the index of the passed DataFrame on one of the columns of the calling DataFrame:**"
      ]
    },
    {
      "cell_type": "code",
      "metadata": {
        "colab": {
          "base_uri": "https://localhost:8080/",
          "height": 235
        },
        "id": "erSDJa_N2lmH",
        "outputId": "3c2bd235-ef92-4eed-8729-a2f87bb84353"
      },
      "source": [
        "left1.join(right1, on='key')"
      ],
      "execution_count": 218,
      "outputs": [
        {
          "output_type": "execute_result",
          "data": {
            "text/html": [
              "<div>\n",
              "<style scoped>\n",
              "    .dataframe tbody tr th:only-of-type {\n",
              "        vertical-align: middle;\n",
              "    }\n",
              "\n",
              "    .dataframe tbody tr th {\n",
              "        vertical-align: top;\n",
              "    }\n",
              "\n",
              "    .dataframe thead th {\n",
              "        text-align: right;\n",
              "    }\n",
              "</style>\n",
              "<table border=\"1\" class=\"dataframe\">\n",
              "  <thead>\n",
              "    <tr style=\"text-align: right;\">\n",
              "      <th></th>\n",
              "      <th>key</th>\n",
              "      <th>value</th>\n",
              "      <th>group_val</th>\n",
              "    </tr>\n",
              "  </thead>\n",
              "  <tbody>\n",
              "    <tr>\n",
              "      <th>0</th>\n",
              "      <td>a</td>\n",
              "      <td>0</td>\n",
              "      <td>3.5</td>\n",
              "    </tr>\n",
              "    <tr>\n",
              "      <th>1</th>\n",
              "      <td>b</td>\n",
              "      <td>1</td>\n",
              "      <td>7.0</td>\n",
              "    </tr>\n",
              "    <tr>\n",
              "      <th>2</th>\n",
              "      <td>a</td>\n",
              "      <td>2</td>\n",
              "      <td>3.5</td>\n",
              "    </tr>\n",
              "    <tr>\n",
              "      <th>3</th>\n",
              "      <td>a</td>\n",
              "      <td>3</td>\n",
              "      <td>3.5</td>\n",
              "    </tr>\n",
              "    <tr>\n",
              "      <th>4</th>\n",
              "      <td>b</td>\n",
              "      <td>4</td>\n",
              "      <td>7.0</td>\n",
              "    </tr>\n",
              "    <tr>\n",
              "      <th>5</th>\n",
              "      <td>c</td>\n",
              "      <td>5</td>\n",
              "      <td>NaN</td>\n",
              "    </tr>\n",
              "  </tbody>\n",
              "</table>\n",
              "</div>"
            ],
            "text/plain": [
              "  key  value  group_val\n",
              "0   a      0        3.5\n",
              "1   b      1        7.0\n",
              "2   a      2        3.5\n",
              "3   a      3        3.5\n",
              "4   b      4        7.0\n",
              "5   c      5        NaN"
            ]
          },
          "metadata": {},
          "execution_count": 218
        }
      ]
    },
    {
      "cell_type": "markdown",
      "metadata": {
        "id": "xESXaGwI27Q8"
      },
      "source": [
        "Lastly, for simple index-on-index merges, you can **pass a list of DataFrames to join as an alternative to** using the more general **concat** function:"
      ]
    },
    {
      "cell_type": "code",
      "metadata": {
        "id": "Iuhqoxa13F-z"
      },
      "source": [
        "another = pd.DataFrame([[7., 8.], [9., 10.], [11., 12.], [16., 17.]],\n",
        "                       index=['a', 'c', 'e', 'f'],\n",
        "                       columns=['New York', 'Oregon'])"
      ],
      "execution_count": 219,
      "outputs": []
    },
    {
      "cell_type": "code",
      "metadata": {
        "colab": {
          "base_uri": "https://localhost:8080/",
          "height": 173
        },
        "id": "sJxvq6_K3TUH",
        "outputId": "e30d63fc-d255-4d54-bc4d-e3c0c44bd365"
      },
      "source": [
        "another"
      ],
      "execution_count": 220,
      "outputs": [
        {
          "output_type": "execute_result",
          "data": {
            "text/html": [
              "<div>\n",
              "<style scoped>\n",
              "    .dataframe tbody tr th:only-of-type {\n",
              "        vertical-align: middle;\n",
              "    }\n",
              "\n",
              "    .dataframe tbody tr th {\n",
              "        vertical-align: top;\n",
              "    }\n",
              "\n",
              "    .dataframe thead th {\n",
              "        text-align: right;\n",
              "    }\n",
              "</style>\n",
              "<table border=\"1\" class=\"dataframe\">\n",
              "  <thead>\n",
              "    <tr style=\"text-align: right;\">\n",
              "      <th></th>\n",
              "      <th>New York</th>\n",
              "      <th>Oregon</th>\n",
              "    </tr>\n",
              "  </thead>\n",
              "  <tbody>\n",
              "    <tr>\n",
              "      <th>a</th>\n",
              "      <td>7.0</td>\n",
              "      <td>8.0</td>\n",
              "    </tr>\n",
              "    <tr>\n",
              "      <th>c</th>\n",
              "      <td>9.0</td>\n",
              "      <td>10.0</td>\n",
              "    </tr>\n",
              "    <tr>\n",
              "      <th>e</th>\n",
              "      <td>11.0</td>\n",
              "      <td>12.0</td>\n",
              "    </tr>\n",
              "    <tr>\n",
              "      <th>f</th>\n",
              "      <td>16.0</td>\n",
              "      <td>17.0</td>\n",
              "    </tr>\n",
              "  </tbody>\n",
              "</table>\n",
              "</div>"
            ],
            "text/plain": [
              "   New York  Oregon\n",
              "a       7.0     8.0\n",
              "c       9.0    10.0\n",
              "e      11.0    12.0\n",
              "f      16.0    17.0"
            ]
          },
          "metadata": {},
          "execution_count": 220
        }
      ]
    },
    {
      "cell_type": "code",
      "metadata": {
        "colab": {
          "base_uri": "https://localhost:8080/",
          "height": 142
        },
        "id": "LptiVEah3V2w",
        "outputId": "58784d41-aa9c-43ec-9718-0c4ee51adcef"
      },
      "source": [
        "left2.join([right2, another])"
      ],
      "execution_count": 223,
      "outputs": [
        {
          "output_type": "execute_result",
          "data": {
            "text/html": [
              "<div>\n",
              "<style scoped>\n",
              "    .dataframe tbody tr th:only-of-type {\n",
              "        vertical-align: middle;\n",
              "    }\n",
              "\n",
              "    .dataframe tbody tr th {\n",
              "        vertical-align: top;\n",
              "    }\n",
              "\n",
              "    .dataframe thead th {\n",
              "        text-align: right;\n",
              "    }\n",
              "</style>\n",
              "<table border=\"1\" class=\"dataframe\">\n",
              "  <thead>\n",
              "    <tr style=\"text-align: right;\">\n",
              "      <th></th>\n",
              "      <th>Ohio</th>\n",
              "      <th>Nevada</th>\n",
              "      <th>Missouri</th>\n",
              "      <th>Alabama</th>\n",
              "      <th>New York</th>\n",
              "      <th>Oregon</th>\n",
              "    </tr>\n",
              "  </thead>\n",
              "  <tbody>\n",
              "    <tr>\n",
              "      <th>a</th>\n",
              "      <td>1.0</td>\n",
              "      <td>2.0</td>\n",
              "      <td>NaN</td>\n",
              "      <td>NaN</td>\n",
              "      <td>7.0</td>\n",
              "      <td>8.0</td>\n",
              "    </tr>\n",
              "    <tr>\n",
              "      <th>c</th>\n",
              "      <td>3.0</td>\n",
              "      <td>4.0</td>\n",
              "      <td>9.0</td>\n",
              "      <td>10.0</td>\n",
              "      <td>9.0</td>\n",
              "      <td>10.0</td>\n",
              "    </tr>\n",
              "    <tr>\n",
              "      <th>e</th>\n",
              "      <td>5.0</td>\n",
              "      <td>6.0</td>\n",
              "      <td>13.0</td>\n",
              "      <td>14.0</td>\n",
              "      <td>11.0</td>\n",
              "      <td>12.0</td>\n",
              "    </tr>\n",
              "  </tbody>\n",
              "</table>\n",
              "</div>"
            ],
            "text/plain": [
              "   Ohio  Nevada  Missouri  Alabama  New York  Oregon\n",
              "a   1.0     2.0       NaN      NaN       7.0     8.0\n",
              "c   3.0     4.0       9.0     10.0       9.0    10.0\n",
              "e   5.0     6.0      13.0     14.0      11.0    12.0"
            ]
          },
          "metadata": {},
          "execution_count": 223
        }
      ]
    },
    {
      "cell_type": "code",
      "metadata": {
        "colab": {
          "base_uri": "https://localhost:8080/",
          "height": 235
        },
        "id": "9z1tINla3jzs",
        "outputId": "11e241ce-9e16-4aa4-a659-a4af2db8492b"
      },
      "source": [
        "left2.join([right2, another], how='outer')"
      ],
      "execution_count": 224,
      "outputs": [
        {
          "output_type": "execute_result",
          "data": {
            "text/html": [
              "<div>\n",
              "<style scoped>\n",
              "    .dataframe tbody tr th:only-of-type {\n",
              "        vertical-align: middle;\n",
              "    }\n",
              "\n",
              "    .dataframe tbody tr th {\n",
              "        vertical-align: top;\n",
              "    }\n",
              "\n",
              "    .dataframe thead th {\n",
              "        text-align: right;\n",
              "    }\n",
              "</style>\n",
              "<table border=\"1\" class=\"dataframe\">\n",
              "  <thead>\n",
              "    <tr style=\"text-align: right;\">\n",
              "      <th></th>\n",
              "      <th>Ohio</th>\n",
              "      <th>Nevada</th>\n",
              "      <th>Missouri</th>\n",
              "      <th>Alabama</th>\n",
              "      <th>New York</th>\n",
              "      <th>Oregon</th>\n",
              "    </tr>\n",
              "  </thead>\n",
              "  <tbody>\n",
              "    <tr>\n",
              "      <th>a</th>\n",
              "      <td>1.0</td>\n",
              "      <td>2.0</td>\n",
              "      <td>NaN</td>\n",
              "      <td>NaN</td>\n",
              "      <td>7.0</td>\n",
              "      <td>8.0</td>\n",
              "    </tr>\n",
              "    <tr>\n",
              "      <th>c</th>\n",
              "      <td>3.0</td>\n",
              "      <td>4.0</td>\n",
              "      <td>9.0</td>\n",
              "      <td>10.0</td>\n",
              "      <td>9.0</td>\n",
              "      <td>10.0</td>\n",
              "    </tr>\n",
              "    <tr>\n",
              "      <th>e</th>\n",
              "      <td>5.0</td>\n",
              "      <td>6.0</td>\n",
              "      <td>13.0</td>\n",
              "      <td>14.0</td>\n",
              "      <td>11.0</td>\n",
              "      <td>12.0</td>\n",
              "    </tr>\n",
              "    <tr>\n",
              "      <th>b</th>\n",
              "      <td>NaN</td>\n",
              "      <td>NaN</td>\n",
              "      <td>7.0</td>\n",
              "      <td>8.0</td>\n",
              "      <td>NaN</td>\n",
              "      <td>NaN</td>\n",
              "    </tr>\n",
              "    <tr>\n",
              "      <th>d</th>\n",
              "      <td>NaN</td>\n",
              "      <td>NaN</td>\n",
              "      <td>11.0</td>\n",
              "      <td>12.0</td>\n",
              "      <td>NaN</td>\n",
              "      <td>NaN</td>\n",
              "    </tr>\n",
              "    <tr>\n",
              "      <th>f</th>\n",
              "      <td>NaN</td>\n",
              "      <td>NaN</td>\n",
              "      <td>NaN</td>\n",
              "      <td>NaN</td>\n",
              "      <td>16.0</td>\n",
              "      <td>17.0</td>\n",
              "    </tr>\n",
              "  </tbody>\n",
              "</table>\n",
              "</div>"
            ],
            "text/plain": [
              "   Ohio  Nevada  Missouri  Alabama  New York  Oregon\n",
              "a   1.0     2.0       NaN      NaN       7.0     8.0\n",
              "c   3.0     4.0       9.0     10.0       9.0    10.0\n",
              "e   5.0     6.0      13.0     14.0      11.0    12.0\n",
              "b   NaN     NaN       7.0      8.0       NaN     NaN\n",
              "d   NaN     NaN      11.0     12.0       NaN     NaN\n",
              "f   NaN     NaN       NaN      NaN      16.0    17.0"
            ]
          },
          "metadata": {},
          "execution_count": 224
        }
      ]
    },
    {
      "cell_type": "markdown",
      "metadata": {
        "id": "bN4QOph-3pGe"
      },
      "source": [
        "## Concatenating Along an Axis"
      ]
    },
    {
      "cell_type": "markdown",
      "metadata": {
        "id": "YZ5-eV9B3rEX"
      },
      "source": [
        "Another kind of data combination operation is referred to interchangeably as **concatenation**, binding, or stacking\n",
        "\n",
        "NumPy’s concatenate function can do this with NumPy arrays:"
      ]
    },
    {
      "cell_type": "code",
      "metadata": {
        "id": "V52_ot_f3o0e"
      },
      "source": [
        "arr = np.arange(12).reshape((3, 4))"
      ],
      "execution_count": 225,
      "outputs": []
    },
    {
      "cell_type": "code",
      "metadata": {
        "colab": {
          "base_uri": "https://localhost:8080/"
        },
        "id": "dL9JTI3N4ZOM",
        "outputId": "90996a03-b686-437d-8e43-cdad7206c521"
      },
      "source": [
        "arr"
      ],
      "execution_count": 226,
      "outputs": [
        {
          "output_type": "execute_result",
          "data": {
            "text/plain": [
              "array([[ 0,  1,  2,  3],\n",
              "       [ 4,  5,  6,  7],\n",
              "       [ 8,  9, 10, 11]])"
            ]
          },
          "metadata": {},
          "execution_count": 226
        }
      ]
    },
    {
      "cell_type": "code",
      "metadata": {
        "colab": {
          "base_uri": "https://localhost:8080/"
        },
        "id": "4_uLtnxm4Zus",
        "outputId": "a91e0547-96fa-440a-8be5-964bc38c5d84"
      },
      "source": [
        "np.concatenate([arr, arr], axis=1)"
      ],
      "execution_count": 229,
      "outputs": [
        {
          "output_type": "execute_result",
          "data": {
            "text/plain": [
              "array([[ 0,  1,  2,  3,  0,  1,  2,  3],\n",
              "       [ 4,  5,  6,  7,  4,  5,  6,  7],\n",
              "       [ 8,  9, 10, 11,  8,  9, 10, 11]])"
            ]
          },
          "metadata": {},
          "execution_count": 229
        }
      ]
    },
    {
      "cell_type": "markdown",
      "metadata": {
        "id": "7FR7lH7B4hus"
      },
      "source": [
        "In the context of pandas objects such as Series and DataFrame, having labeled axes enable you to further generalize array concatenation\n",
        "\n",
        "In particular, you have a number of additional things to think about:\n",
        "* If the objects are indexed differently on the other axes, should we combine the distinct elements in these axes or use only the shared values (the intersection)?\n",
        "\n",
        "* Do the concatenated chunks of data need to be identifiable in the resulting object?\n",
        "\n",
        "* Does the “concatenation axis” contain data that needs to be preserved? In many cases, the default integer labels in a DataFrame are best discarded during concatenation"
      ]
    },
    {
      "cell_type": "markdown",
      "metadata": {
        "id": "36McKoGT7Y1M"
      },
      "source": [
        ""
      ]
    },
    {
      "cell_type": "code",
      "metadata": {
        "id": "kqaniMxC5Hy9"
      },
      "source": [
        ""
      ],
      "execution_count": null,
      "outputs": []
    }
  ]
}