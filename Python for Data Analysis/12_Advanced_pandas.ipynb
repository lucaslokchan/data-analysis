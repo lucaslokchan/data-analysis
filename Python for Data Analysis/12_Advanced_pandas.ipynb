{
  "nbformat": 4,
  "nbformat_minor": 0,
  "metadata": {
    "colab": {
      "name": "12.Advanced pandas.ipynb",
      "provenance": [],
      "collapsed_sections": [],
      "authorship_tag": "ABX9TyMpouKJfcm3VKNVsEWQ2PNs"
    },
    "kernelspec": {
      "name": "python3",
      "display_name": "Python 3"
    },
    "language_info": {
      "name": "python"
    }
  },
  "cells": [
    {
      "cell_type": "markdown",
      "metadata": {
        "id": "yyT2Njgf5GSU"
      },
      "source": [
        "# 12.1 Categorical Data"
      ]
    },
    {
      "cell_type": "markdown",
      "metadata": {
        "id": "PYAC47zV1xJ2"
      },
      "source": [
        "This section introduces the pandas **Categorical type** \n",
        "\n",
        "I will show how you can achieve **better performance and memory use** in some pandas operations by using it"
      ]
    },
    {
      "cell_type": "markdown",
      "metadata": {
        "id": "lLWwwrfP1gnA"
      },
      "source": [
        "## Background and Motivation"
      ]
    },
    {
      "cell_type": "markdown",
      "metadata": {
        "id": "R96Dy2SD13re"
      },
      "source": [
        "Frequently, a **column** in a table may **contain repeated instances of a smaller set of distinct values**\n",
        "\n",
        "We have already seen functions like **unique and value_counts,** which enable us to extract the distinct values from an array and compute their frequencies, respectively:"
      ]
    },
    {
      "cell_type": "code",
      "metadata": {
        "id": "p2OAXg_k5DUG"
      },
      "source": [
        "import numpy as np; import pandas as pd"
      ],
      "execution_count": null,
      "outputs": []
    },
    {
      "cell_type": "code",
      "metadata": {
        "id": "s6wvFqtf13S4"
      },
      "source": [
        "values = pd.Series(['apple', 'orange', 'apple',\n",
        "                    'apple'] * 2)"
      ],
      "execution_count": null,
      "outputs": []
    },
    {
      "cell_type": "code",
      "metadata": {
        "colab": {
          "base_uri": "https://localhost:8080/"
        },
        "id": "iMKZQpyZ2UBh",
        "outputId": "5024f189-393e-4548-c055-fbf6006a1777"
      },
      "source": [
        "values"
      ],
      "execution_count": null,
      "outputs": [
        {
          "output_type": "execute_result",
          "data": {
            "text/plain": [
              "0     apple\n",
              "1    orange\n",
              "2     apple\n",
              "3     apple\n",
              "4     apple\n",
              "5    orange\n",
              "6     apple\n",
              "7     apple\n",
              "dtype: object"
            ]
          },
          "metadata": {},
          "execution_count": 6
        }
      ]
    },
    {
      "cell_type": "code",
      "metadata": {
        "colab": {
          "base_uri": "https://localhost:8080/"
        },
        "id": "fYNAZeeJ2bGM",
        "outputId": "df459e3a-f5bd-481c-db4a-5ee2f6591048"
      },
      "source": [
        "pd.unique(values)"
      ],
      "execution_count": null,
      "outputs": [
        {
          "output_type": "execute_result",
          "data": {
            "text/plain": [
              "array(['apple', 'orange'], dtype=object)"
            ]
          },
          "metadata": {},
          "execution_count": 7
        }
      ]
    },
    {
      "cell_type": "code",
      "metadata": {
        "colab": {
          "base_uri": "https://localhost:8080/"
        },
        "id": "Dmfc-01I2eXL",
        "outputId": "c2b2c93a-d39a-4308-cded-40f08e9151be"
      },
      "source": [
        "pd.value_counts(values)"
      ],
      "execution_count": null,
      "outputs": [
        {
          "output_type": "execute_result",
          "data": {
            "text/plain": [
              "apple     6\n",
              "orange    2\n",
              "dtype: int64"
            ]
          },
          "metadata": {},
          "execution_count": 8
        }
      ]
    },
    {
      "cell_type": "markdown",
      "metadata": {
        "id": "64105n6l2hFn"
      },
      "source": [
        "Many data systems (for data warehousing, statistical computing, or other uses) have developed **specialized approaches for representing data with repeated values** for more **efficient** storage and computation\n",
        "\n",
        "In data warehousing, a best practice is to use so called **dimension tables** containing the **distinct values** and storing the **primary observations as integer keys referencing the dimension table:**"
      ]
    },
    {
      "cell_type": "code",
      "metadata": {
        "id": "2_gf_Vur3XOv"
      },
      "source": [
        "values = pd.Series([0, 1, 0, 0] * 2)"
      ],
      "execution_count": null,
      "outputs": []
    },
    {
      "cell_type": "code",
      "metadata": {
        "id": "i6T36LrY3Z2-"
      },
      "source": [
        "dim = pd.Series(['apple', 'orange'])"
      ],
      "execution_count": null,
      "outputs": []
    },
    {
      "cell_type": "code",
      "metadata": {
        "colab": {
          "base_uri": "https://localhost:8080/"
        },
        "id": "U4JYU9jb3cR2",
        "outputId": "4479dae1-1b29-4380-b111-dfc7a2569f6f"
      },
      "source": [
        "values"
      ],
      "execution_count": null,
      "outputs": [
        {
          "output_type": "execute_result",
          "data": {
            "text/plain": [
              "0    0\n",
              "1    1\n",
              "2    0\n",
              "3    0\n",
              "4    0\n",
              "5    1\n",
              "6    0\n",
              "7    0\n",
              "dtype: int64"
            ]
          },
          "metadata": {},
          "execution_count": 11
        }
      ]
    },
    {
      "cell_type": "code",
      "metadata": {
        "colab": {
          "base_uri": "https://localhost:8080/"
        },
        "id": "Bd9zv3si3dNU",
        "outputId": "664987b6-1fb3-4794-aff4-5fc4c01f3fdd"
      },
      "source": [
        "dim"
      ],
      "execution_count": null,
      "outputs": [
        {
          "output_type": "execute_result",
          "data": {
            "text/plain": [
              "0     apple\n",
              "1    orange\n",
              "dtype: object"
            ]
          },
          "metadata": {},
          "execution_count": 17
        }
      ]
    },
    {
      "cell_type": "markdown",
      "metadata": {
        "id": "FwkmU7fe3iog"
      },
      "source": [
        "We can use the take method to restore the original Series of strings:"
      ]
    },
    {
      "cell_type": "code",
      "metadata": {
        "colab": {
          "base_uri": "https://localhost:8080/"
        },
        "id": "fE8YcyXK3jCl",
        "outputId": "32cb46c1-1865-499c-967c-c1a6a48a73e0"
      },
      "source": [
        "dim.take(values)"
      ],
      "execution_count": null,
      "outputs": [
        {
          "output_type": "execute_result",
          "data": {
            "text/plain": [
              "0     apple\n",
              "1    orange\n",
              "0     apple\n",
              "0     apple\n",
              "0     apple\n",
              "1    orange\n",
              "0     apple\n",
              "0     apple\n",
              "dtype: object"
            ]
          },
          "metadata": {},
          "execution_count": 13
        }
      ]
    },
    {
      "cell_type": "markdown",
      "metadata": {
        "id": "yI5jt2Pt3rMx"
      },
      "source": [
        "This **representation as integers** is called the **categorical or dictionary-encoded representation**\n",
        "\n",
        "The array of distinct values can be called the **categories, dictionary, or levels** of the data\n",
        "\n",
        "In this book we will use the terms **categorical** and **categories**. The **integer values that reference the categories are called the category codes or simply codes**\n",
        "\n",
        "The categorical representation can yield **significant performance improvements** when you are doing analytics \n",
        "\n",
        "You can also **perform transformations on the categories while leaving the codes unmodified**. Some example transformations that can be made at relatively low cost are:\n",
        "\n",
        "* Renaming categories\n",
        "\n",
        "* Appending a new category without changing the order or position of the existing categories\n",
        "\n"
      ]
    },
    {
      "cell_type": "markdown",
      "metadata": {
        "id": "uQFzL3Ac5l-J"
      },
      "source": [
        "## Categorical Type in pandas"
      ]
    },
    {
      "cell_type": "markdown",
      "metadata": {
        "id": "O_mecBwD5oQM"
      },
      "source": [
        "pandas has a special **Categorical type** for holding data that uses the **integer-based categorical representation** or **encoding**\n",
        "\n",
        "Let’s consider the example Series from before:"
      ]
    },
    {
      "cell_type": "code",
      "metadata": {
        "id": "7ZAl6oyH52HU"
      },
      "source": [
        "fruits = ['apple', 'orange', 'apple', 'apple'] * 2"
      ],
      "execution_count": null,
      "outputs": []
    },
    {
      "cell_type": "code",
      "metadata": {
        "id": "hxt20pyV57Bt"
      },
      "source": [
        "N = len(fruits)"
      ],
      "execution_count": null,
      "outputs": []
    },
    {
      "cell_type": "code",
      "metadata": {
        "id": "MJHyMiyz6CBK"
      },
      "source": [
        "df = pd.DataFrame({'fruit': fruits,\n",
        "                   'basket_id': np.arange(N),\n",
        "                   'count': np.random.randint(3, 15, size=N),\n",
        "                   'weight': np.random.uniform(0, 4, size=N)},\n",
        "                   columns=['basket_id', 'fruit', 'count', 'weight'])"
      ],
      "execution_count": null,
      "outputs": []
    },
    {
      "cell_type": "code",
      "metadata": {
        "colab": {
          "base_uri": "https://localhost:8080/",
          "height": 294
        },
        "id": "Xei8BmHv6Ztr",
        "outputId": "119d13cd-0b9c-4140-9965-079be2f0cfc9"
      },
      "source": [
        "df"
      ],
      "execution_count": null,
      "outputs": [
        {
          "output_type": "execute_result",
          "data": {
            "text/html": [
              "<div>\n",
              "<style scoped>\n",
              "    .dataframe tbody tr th:only-of-type {\n",
              "        vertical-align: middle;\n",
              "    }\n",
              "\n",
              "    .dataframe tbody tr th {\n",
              "        vertical-align: top;\n",
              "    }\n",
              "\n",
              "    .dataframe thead th {\n",
              "        text-align: right;\n",
              "    }\n",
              "</style>\n",
              "<table border=\"1\" class=\"dataframe\">\n",
              "  <thead>\n",
              "    <tr style=\"text-align: right;\">\n",
              "      <th></th>\n",
              "      <th>basket_id</th>\n",
              "      <th>fruit</th>\n",
              "      <th>count</th>\n",
              "      <th>weight</th>\n",
              "    </tr>\n",
              "  </thead>\n",
              "  <tbody>\n",
              "    <tr>\n",
              "      <th>0</th>\n",
              "      <td>0</td>\n",
              "      <td>apple</td>\n",
              "      <td>13</td>\n",
              "      <td>3.112595</td>\n",
              "    </tr>\n",
              "    <tr>\n",
              "      <th>1</th>\n",
              "      <td>1</td>\n",
              "      <td>orange</td>\n",
              "      <td>11</td>\n",
              "      <td>3.343588</td>\n",
              "    </tr>\n",
              "    <tr>\n",
              "      <th>2</th>\n",
              "      <td>2</td>\n",
              "      <td>apple</td>\n",
              "      <td>14</td>\n",
              "      <td>3.384695</td>\n",
              "    </tr>\n",
              "    <tr>\n",
              "      <th>3</th>\n",
              "      <td>3</td>\n",
              "      <td>apple</td>\n",
              "      <td>11</td>\n",
              "      <td>1.930988</td>\n",
              "    </tr>\n",
              "    <tr>\n",
              "      <th>4</th>\n",
              "      <td>4</td>\n",
              "      <td>apple</td>\n",
              "      <td>9</td>\n",
              "      <td>1.423166</td>\n",
              "    </tr>\n",
              "    <tr>\n",
              "      <th>5</th>\n",
              "      <td>5</td>\n",
              "      <td>orange</td>\n",
              "      <td>7</td>\n",
              "      <td>3.168640</td>\n",
              "    </tr>\n",
              "    <tr>\n",
              "      <th>6</th>\n",
              "      <td>6</td>\n",
              "      <td>apple</td>\n",
              "      <td>14</td>\n",
              "      <td>2.219072</td>\n",
              "    </tr>\n",
              "    <tr>\n",
              "      <th>7</th>\n",
              "      <td>7</td>\n",
              "      <td>apple</td>\n",
              "      <td>4</td>\n",
              "      <td>0.319970</td>\n",
              "    </tr>\n",
              "  </tbody>\n",
              "</table>\n",
              "</div>"
            ],
            "text/plain": [
              "   basket_id   fruit  count    weight\n",
              "0          0   apple     13  3.112595\n",
              "1          1  orange     11  3.343588\n",
              "2          2   apple     14  3.384695\n",
              "3          3   apple     11  1.930988\n",
              "4          4   apple      9  1.423166\n",
              "5          5  orange      7  3.168640\n",
              "6          6   apple     14  2.219072\n",
              "7          7   apple      4  0.319970"
            ]
          },
          "metadata": {},
          "execution_count": 22
        }
      ]
    },
    {
      "cell_type": "markdown",
      "metadata": {
        "id": "Rb3i30UX6dgr"
      },
      "source": [
        "**Here, df['fruit'] is an array of Python string objects. We can convert it to categorical by calling:**"
      ]
    },
    {
      "cell_type": "code",
      "metadata": {
        "id": "uyRCOl6C6i1b"
      },
      "source": [
        "fruit_cat = df['fruit'].astype('category')"
      ],
      "execution_count": null,
      "outputs": []
    },
    {
      "cell_type": "code",
      "metadata": {
        "colab": {
          "base_uri": "https://localhost:8080/"
        },
        "id": "meFfy_q_6o2B",
        "outputId": "5e7cd64f-766c-4fc5-9127-3517183f2b6a"
      },
      "source": [
        "fruit_cat"
      ],
      "execution_count": null,
      "outputs": [
        {
          "output_type": "execute_result",
          "data": {
            "text/plain": [
              "0     apple\n",
              "1    orange\n",
              "2     apple\n",
              "3     apple\n",
              "4     apple\n",
              "5    orange\n",
              "6     apple\n",
              "7     apple\n",
              "Name: fruit, dtype: category\n",
              "Categories (2, object): ['apple', 'orange']"
            ]
          },
          "metadata": {},
          "execution_count": 24
        }
      ]
    },
    {
      "cell_type": "markdown",
      "metadata": {
        "id": "bs2C01rr6suf"
      },
      "source": [
        "**The values for fruit_cat are not a NumPy array, but an instance of pandas.Categorical:**"
      ]
    },
    {
      "cell_type": "code",
      "metadata": {
        "id": "dqnohZ0f6sEq"
      },
      "source": [
        "c = fruit_cat.values"
      ],
      "execution_count": null,
      "outputs": []
    },
    {
      "cell_type": "code",
      "metadata": {
        "colab": {
          "base_uri": "https://localhost:8080/"
        },
        "id": "DSiHeZ2H7S2d",
        "outputId": "be59053b-c62d-49f8-9cba-3de7a3d7ec57"
      },
      "source": [
        "type(c)"
      ],
      "execution_count": null,
      "outputs": [
        {
          "output_type": "execute_result",
          "data": {
            "text/plain": [
              "pandas.core.arrays.categorical.Categorical"
            ]
          },
          "metadata": {},
          "execution_count": 26
        }
      ]
    },
    {
      "cell_type": "markdown",
      "metadata": {
        "id": "bItWhsQD7UVP"
      },
      "source": [
        "The Categorical object has **categories and codes attributes:**"
      ]
    },
    {
      "cell_type": "code",
      "metadata": {
        "colab": {
          "base_uri": "https://localhost:8080/"
        },
        "id": "htasJHqF7YNp",
        "outputId": "287cc3dd-51dd-4255-c16a-917fdd5b2d2f"
      },
      "source": [
        "c.categories"
      ],
      "execution_count": null,
      "outputs": [
        {
          "output_type": "execute_result",
          "data": {
            "text/plain": [
              "Index(['apple', 'orange'], dtype='object')"
            ]
          },
          "metadata": {},
          "execution_count": 27
        }
      ]
    },
    {
      "cell_type": "code",
      "metadata": {
        "colab": {
          "base_uri": "https://localhost:8080/"
        },
        "id": "ttyUbTbq7ZOU",
        "outputId": "42709a7d-0386-4401-d169-ffbfa75a2689"
      },
      "source": [
        "c.codes"
      ],
      "execution_count": null,
      "outputs": [
        {
          "output_type": "execute_result",
          "data": {
            "text/plain": [
              "array([0, 1, 0, 0, 0, 1, 0, 0], dtype=int8)"
            ]
          },
          "metadata": {},
          "execution_count": 28
        }
      ]
    },
    {
      "cell_type": "markdown",
      "metadata": {
        "id": "cuBgIG2g7ev1"
      },
      "source": [
        "You can convert a **DataFrame column to categorical by assigning the converted result:**"
      ]
    },
    {
      "cell_type": "code",
      "metadata": {
        "id": "ddlGbxia7ic9"
      },
      "source": [
        "df['fruit'] = df['fruit'].astype('category')"
      ],
      "execution_count": null,
      "outputs": []
    },
    {
      "cell_type": "code",
      "metadata": {
        "colab": {
          "base_uri": "https://localhost:8080/"
        },
        "id": "NooGHeNC7rIt",
        "outputId": "14c3bf73-544d-4860-bff6-bbb583f45346"
      },
      "source": [
        "df.fruit"
      ],
      "execution_count": null,
      "outputs": [
        {
          "output_type": "execute_result",
          "data": {
            "text/plain": [
              "0     apple\n",
              "1    orange\n",
              "2     apple\n",
              "3     apple\n",
              "4     apple\n",
              "5    orange\n",
              "6     apple\n",
              "7     apple\n",
              "Name: fruit, dtype: category\n",
              "Categories (2, object): ['apple', 'orange']"
            ]
          },
          "metadata": {},
          "execution_count": 30
        }
      ]
    },
    {
      "cell_type": "markdown",
      "metadata": {
        "id": "-j_yopAY730b"
      },
      "source": [
        "**You can also create pandas.Categorical directly from other types of Python sequences:**"
      ]
    },
    {
      "cell_type": "code",
      "metadata": {
        "id": "GGJnm_ML73ad"
      },
      "source": [
        "my_categories = pd.Categorical(['foo', 'bar', 'baz', 'foo', 'bar'])"
      ],
      "execution_count": null,
      "outputs": []
    },
    {
      "cell_type": "code",
      "metadata": {
        "colab": {
          "base_uri": "https://localhost:8080/"
        },
        "id": "7dArPRrf8CcL",
        "outputId": "4b1752d7-fdd5-4f02-f1ec-db7276963ef1"
      },
      "source": [
        "my_categories"
      ],
      "execution_count": null,
      "outputs": [
        {
          "output_type": "execute_result",
          "data": {
            "text/plain": [
              "['foo', 'bar', 'baz', 'foo', 'bar']\n",
              "Categories (3, object): ['bar', 'baz', 'foo']"
            ]
          },
          "metadata": {},
          "execution_count": 35
        }
      ]
    },
    {
      "cell_type": "markdown",
      "metadata": {
        "id": "31xakul38H-D"
      },
      "source": [
        "If you have obtained** categorical encoded data from another source,** you can use the alternative **from_codes constructor:**"
      ]
    },
    {
      "cell_type": "code",
      "metadata": {
        "id": "8BqGNQe68qBi"
      },
      "source": [
        "categories = ['foo', 'bar', 'baz']"
      ],
      "execution_count": null,
      "outputs": []
    },
    {
      "cell_type": "code",
      "metadata": {
        "id": "0GyFwiNG8tb-"
      },
      "source": [
        "codes = [0, 1, 2, 0, 0, 1]"
      ],
      "execution_count": null,
      "outputs": []
    },
    {
      "cell_type": "code",
      "metadata": {
        "id": "Ey4IWRMt8v_B"
      },
      "source": [
        "my_cats_2 = pd.Categorical.from_codes(codes, categories)"
      ],
      "execution_count": null,
      "outputs": []
    },
    {
      "cell_type": "code",
      "metadata": {
        "colab": {
          "base_uri": "https://localhost:8080/"
        },
        "id": "kgE6w9iq82u8",
        "outputId": "65e479a5-6d1c-42b7-93b2-178b6441871b"
      },
      "source": [
        "my_cats_2"
      ],
      "execution_count": null,
      "outputs": [
        {
          "output_type": "execute_result",
          "data": {
            "text/plain": [
              "['foo', 'bar', 'baz', 'foo', 'foo', 'bar']\n",
              "Categories (3, object): ['foo', 'bar', 'baz']"
            ]
          },
          "metadata": {},
          "execution_count": 43
        }
      ]
    },
    {
      "cell_type": "markdown",
      "metadata": {
        "id": "goM9Bs0g89ZO"
      },
      "source": [
        "Unless explicitly specified, **categorical conversions assume no specific ordering of the categories**\n",
        "\n",
        "So the categories array may be in a different order depending on the ordering of the input data\n",
        "\n",
        "**When using from_codes or any of the other constructors, you can indicate that the categories have a meaningful ordering:**"
      ]
    },
    {
      "cell_type": "code",
      "metadata": {
        "id": "BFdf0UzOGKsd"
      },
      "source": [
        "ordered_cat = pd.Categorical.from_codes(codes, categories,\n",
        "                                      ordered=True)"
      ],
      "execution_count": null,
      "outputs": []
    },
    {
      "cell_type": "code",
      "metadata": {
        "colab": {
          "base_uri": "https://localhost:8080/"
        },
        "id": "etMqov8MGP21",
        "outputId": "78f00453-2f17-4a57-8599-94c15a96fc2f"
      },
      "source": [
        "ordered_cat"
      ],
      "execution_count": null,
      "outputs": [
        {
          "output_type": "execute_result",
          "data": {
            "text/plain": [
              "['foo', 'bar', 'baz', 'foo', 'foo', 'bar']\n",
              "Categories (3, object): ['foo' < 'bar' < 'baz']"
            ]
          },
          "metadata": {},
          "execution_count": 49
        }
      ]
    },
    {
      "cell_type": "markdown",
      "metadata": {
        "id": "5w6lxULJGT8p"
      },
      "source": [
        "The output [foo < bar < baz] indicates that 'foo' precedes 'bar' in the ordering, and so on \n",
        "\n",
        "**An unordered categorical instance can be made ordered with as_ordered:**"
      ]
    },
    {
      "cell_type": "code",
      "metadata": {
        "colab": {
          "base_uri": "https://localhost:8080/"
        },
        "id": "ydtCcigPHMml",
        "outputId": "dd8f89a1-450e-4f65-d689-1ff18506841a"
      },
      "source": [
        "my_cats_2.as_ordered()"
      ],
      "execution_count": null,
      "outputs": [
        {
          "output_type": "execute_result",
          "data": {
            "text/plain": [
              "['foo', 'bar', 'baz', 'foo', 'foo', 'bar']\n",
              "Categories (3, object): ['foo' < 'bar' < 'baz']"
            ]
          },
          "metadata": {},
          "execution_count": 51
        }
      ]
    },
    {
      "cell_type": "markdown",
      "metadata": {
        "id": "e3uUMZD9HQDl"
      },
      "source": [
        "As a last note, **categorical data need not be strings,** even though I have only showed string examples\n",
        "\n",
        "**A categorical array can consist of any immutable value type**"
      ]
    },
    {
      "cell_type": "markdown",
      "metadata": {
        "id": "l-5dyP91HWAo"
      },
      "source": [
        "## Computations with Categoricals"
      ]
    },
    {
      "cell_type": "markdown",
      "metadata": {
        "id": "-yoBD1q4H_7n"
      },
      "source": [
        "Using Categorical in pandas compared with the non-encoded version (like an array of strings) generally behaves the same way\n",
        "\n",
        "**Some parts of pandas, like the groupby function, perform better when working with categoricals**. There are also some functions that can utilize the ordered flag\n",
        "\n",
        "Let’s consider some random numeric data, and use the **pandas.qcut binning function**\n",
        "\n",
        "This return pandas.Categorical; we used pandas.cut earlier in the book but glossed over the details of how categoricals work:\n"
      ]
    },
    {
      "cell_type": "code",
      "metadata": {
        "id": "dOkaPVvVHM8I"
      },
      "source": [
        "np.random.seed(12345)"
      ],
      "execution_count": null,
      "outputs": []
    },
    {
      "cell_type": "code",
      "metadata": {
        "id": "JkRYjnmeIkUf"
      },
      "source": [
        "draws = np.random.randn(1000)"
      ],
      "execution_count": null,
      "outputs": []
    },
    {
      "cell_type": "code",
      "metadata": {
        "colab": {
          "base_uri": "https://localhost:8080/"
        },
        "id": "uNQGx_lMIl3w",
        "outputId": "81125ec7-e5f5-4c43-fe3a-76e310064439"
      },
      "source": [
        "draws[:5]"
      ],
      "execution_count": null,
      "outputs": [
        {
          "output_type": "execute_result",
          "data": {
            "text/plain": [
              "array([-0.20470766,  0.47894334, -0.51943872, -0.5557303 ,  1.96578057])"
            ]
          },
          "metadata": {},
          "execution_count": 54
        }
      ]
    },
    {
      "cell_type": "markdown",
      "metadata": {
        "id": "GoUFJTC-Io7W"
      },
      "source": [
        "Let’s compute a quartile binning of this data and extract some statistics:"
      ]
    },
    {
      "cell_type": "code",
      "metadata": {
        "id": "ygCIFdwEIval"
      },
      "source": [
        "bins = pd.qcut(draws, 4)"
      ],
      "execution_count": null,
      "outputs": []
    },
    {
      "cell_type": "code",
      "metadata": {
        "colab": {
          "base_uri": "https://localhost:8080/"
        },
        "id": "hNZnmYO2IxGP",
        "outputId": "cafb720c-a88e-4a84-c4bf-2ddda7f16102"
      },
      "source": [
        "bins"
      ],
      "execution_count": null,
      "outputs": [
        {
          "output_type": "execute_result",
          "data": {
            "text/plain": [
              "[(-0.684, -0.0101], (-0.0101, 0.63], (-0.684, -0.0101], (-0.684, -0.0101], (0.63, 3.928], ..., (-0.0101, 0.63], (-0.684, -0.0101], (-2.9499999999999997, -0.684], (-0.0101, 0.63], (0.63, 3.928]]\n",
              "Length: 1000\n",
              "Categories (4, interval[float64]): [(-2.9499999999999997, -0.684] < (-0.684, -0.0101] < (-0.0101, 0.63] <\n",
              "                                    (0.63, 3.928]]"
            ]
          },
          "metadata": {},
          "execution_count": 59
        }
      ]
    },
    {
      "cell_type": "markdown",
      "metadata": {
        "id": "FfGk4Iv2I53-"
      },
      "source": [
        "While useful, the exact sample quartiles may be less useful for producing a report than quartile names \n",
        "\n",
        "We can achieve this with the **labels argument to qcut:**"
      ]
    },
    {
      "cell_type": "code",
      "metadata": {
        "id": "q7-mvofJI_ri"
      },
      "source": [
        "bins = pd.qcut(draws, 4, labels=['Q1', 'Q2', 'Q3', 'Q4'])"
      ],
      "execution_count": null,
      "outputs": []
    },
    {
      "cell_type": "code",
      "metadata": {
        "colab": {
          "base_uri": "https://localhost:8080/"
        },
        "id": "-7lTiU0pJEBv",
        "outputId": "dda53af1-4f83-42f4-95e5-ebfe943d88e0"
      },
      "source": [
        "bins"
      ],
      "execution_count": null,
      "outputs": [
        {
          "output_type": "execute_result",
          "data": {
            "text/plain": [
              "['Q2', 'Q3', 'Q2', 'Q2', 'Q4', ..., 'Q3', 'Q2', 'Q1', 'Q3', 'Q4']\n",
              "Length: 1000\n",
              "Categories (4, object): ['Q1' < 'Q2' < 'Q3' < 'Q4']"
            ]
          },
          "metadata": {},
          "execution_count": 62
        }
      ]
    },
    {
      "cell_type": "code",
      "metadata": {
        "colab": {
          "base_uri": "https://localhost:8080/"
        },
        "id": "ixMD8Jg-JFsj",
        "outputId": "23b7f3a5-897c-4015-a1be-50770e6e3a5c"
      },
      "source": [
        "bins.codes[:10]"
      ],
      "execution_count": null,
      "outputs": [
        {
          "output_type": "execute_result",
          "data": {
            "text/plain": [
              "array([1, 2, 1, 1, 3, 3, 2, 2, 3, 3], dtype=int8)"
            ]
          },
          "metadata": {},
          "execution_count": 63
        }
      ]
    },
    {
      "cell_type": "markdown",
      "metadata": {
        "id": "gGXxfxB4JJPt"
      },
      "source": [
        "**The labeled bins categorical does not contain information about the bin edges in the data, so we can use groupby to extract some summary statistics:**"
      ]
    },
    {
      "cell_type": "code",
      "metadata": {
        "id": "63xAIRezJI3j"
      },
      "source": [
        "bins = pd.Series(bins, name='quartile')"
      ],
      "execution_count": null,
      "outputs": []
    },
    {
      "cell_type": "code",
      "metadata": {
        "id": "pctdPcnTJRXW"
      },
      "source": [
        "results = (pd.Series(draws)\n",
        "           .groupby(bins)\n",
        "           .agg(['count', 'min', 'max'])\n",
        "           .reset_index())"
      ],
      "execution_count": null,
      "outputs": []
    },
    {
      "cell_type": "code",
      "metadata": {
        "colab": {
          "base_uri": "https://localhost:8080/",
          "height": 171
        },
        "id": "oB7CVTy9JdsB",
        "outputId": "947c1e9b-1c06-4843-a2a4-efac75693676"
      },
      "source": [
        "results"
      ],
      "execution_count": null,
      "outputs": [
        {
          "output_type": "execute_result",
          "data": {
            "text/html": [
              "<div>\n",
              "<style scoped>\n",
              "    .dataframe tbody tr th:only-of-type {\n",
              "        vertical-align: middle;\n",
              "    }\n",
              "\n",
              "    .dataframe tbody tr th {\n",
              "        vertical-align: top;\n",
              "    }\n",
              "\n",
              "    .dataframe thead th {\n",
              "        text-align: right;\n",
              "    }\n",
              "</style>\n",
              "<table border=\"1\" class=\"dataframe\">\n",
              "  <thead>\n",
              "    <tr style=\"text-align: right;\">\n",
              "      <th></th>\n",
              "      <th>quartile</th>\n",
              "      <th>count</th>\n",
              "      <th>min</th>\n",
              "      <th>max</th>\n",
              "    </tr>\n",
              "  </thead>\n",
              "  <tbody>\n",
              "    <tr>\n",
              "      <th>0</th>\n",
              "      <td>Q1</td>\n",
              "      <td>250</td>\n",
              "      <td>-2.949343</td>\n",
              "      <td>-0.685484</td>\n",
              "    </tr>\n",
              "    <tr>\n",
              "      <th>1</th>\n",
              "      <td>Q2</td>\n",
              "      <td>250</td>\n",
              "      <td>-0.683066</td>\n",
              "      <td>-0.010115</td>\n",
              "    </tr>\n",
              "    <tr>\n",
              "      <th>2</th>\n",
              "      <td>Q3</td>\n",
              "      <td>250</td>\n",
              "      <td>-0.010032</td>\n",
              "      <td>0.628894</td>\n",
              "    </tr>\n",
              "    <tr>\n",
              "      <th>3</th>\n",
              "      <td>Q4</td>\n",
              "      <td>250</td>\n",
              "      <td>0.634238</td>\n",
              "      <td>3.927528</td>\n",
              "    </tr>\n",
              "  </tbody>\n",
              "</table>\n",
              "</div>"
            ],
            "text/plain": [
              "  quartile  count       min       max\n",
              "0       Q1    250 -2.949343 -0.685484\n",
              "1       Q2    250 -0.683066 -0.010115\n",
              "2       Q3    250 -0.010032  0.628894\n",
              "3       Q4    250  0.634238  3.927528"
            ]
          },
          "metadata": {},
          "execution_count": 66
        }
      ]
    },
    {
      "cell_type": "markdown",
      "metadata": {
        "id": "_MSwK4WmJh_T"
      },
      "source": [
        "The 'quartile' column in the result retains the original categorical information, including ordering, from bins:"
      ]
    },
    {
      "cell_type": "code",
      "metadata": {
        "colab": {
          "base_uri": "https://localhost:8080/"
        },
        "id": "X9S0w7F6JvVr",
        "outputId": "d7c5dee3-b0e9-4c66-fde3-63ac3b19c9de"
      },
      "source": [
        "results['quartile']"
      ],
      "execution_count": null,
      "outputs": [
        {
          "output_type": "execute_result",
          "data": {
            "text/plain": [
              "0    Q1\n",
              "1    Q2\n",
              "2    Q3\n",
              "3    Q4\n",
              "Name: quartile, dtype: category\n",
              "Categories (4, object): ['Q1' < 'Q2' < 'Q3' < 'Q4']"
            ]
          },
          "metadata": {},
          "execution_count": 67
        }
      ]
    },
    {
      "cell_type": "markdown",
      "metadata": {
        "id": "4cUcJeyFJyNS"
      },
      "source": [
        "### Better performance with categoricals"
      ]
    },
    {
      "cell_type": "markdown",
      "metadata": {
        "id": "6erB0-mCJ0Mu"
      },
      "source": [
        "If you do a lot of analytics on a particular dataset, converting to categorical can yield substantial overall performance gains\n",
        "\n",
        "**A categorical version of a DataFrame column will often use significantly less memory,** too\n",
        "\n",
        "**Let’s consider some Series with 10 million elements and a small number of distinct categories:**"
      ]
    },
    {
      "cell_type": "code",
      "metadata": {
        "id": "BbvBhFABKU1y"
      },
      "source": [
        "N = 10000000"
      ],
      "execution_count": null,
      "outputs": []
    },
    {
      "cell_type": "code",
      "metadata": {
        "id": "ZcAQTUXEKYQ0"
      },
      "source": [
        "draws = pd.Series(np.random.randn(N))"
      ],
      "execution_count": null,
      "outputs": []
    },
    {
      "cell_type": "code",
      "metadata": {
        "id": "nX7NrW1xKawz"
      },
      "source": [
        "labels = pd.Series(['foo', 'bar', 'baz', 'qux'] * (N // 3))"
      ],
      "execution_count": null,
      "outputs": []
    },
    {
      "cell_type": "markdown",
      "metadata": {
        "id": "1GMTcr9pKuq9"
      },
      "source": [
        "Now we convert labels to categorical:"
      ]
    },
    {
      "cell_type": "code",
      "metadata": {
        "id": "SqWOIqO4Kxtx"
      },
      "source": [
        "categories = labels.astype('category')"
      ],
      "execution_count": null,
      "outputs": []
    },
    {
      "cell_type": "markdown",
      "metadata": {
        "id": "5gPi7cjlK0Oh"
      },
      "source": [
        "Now we note that labels uses significantly more memory than categories:"
      ]
    },
    {
      "cell_type": "code",
      "metadata": {
        "colab": {
          "base_uri": "https://localhost:8080/"
        },
        "id": "WuqLRb9dK5vT",
        "outputId": "9190af56-6ab9-4c66-d735-8717b53a917d"
      },
      "source": [
        "labels.memory_usage()"
      ],
      "execution_count": null,
      "outputs": [
        {
          "output_type": "execute_result",
          "data": {
            "text/plain": [
              "106666784"
            ]
          },
          "metadata": {},
          "execution_count": 79
        }
      ]
    },
    {
      "cell_type": "code",
      "metadata": {
        "colab": {
          "base_uri": "https://localhost:8080/"
        },
        "id": "iG19_lA8LCCX",
        "outputId": "09e714f4-e60c-439e-dec8-b5a4672747b2"
      },
      "source": [
        "categories.memory_usage(c)"
      ],
      "execution_count": null,
      "outputs": [
        {
          "output_type": "execute_result",
          "data": {
            "text/plain": [
              "13333652"
            ]
          },
          "metadata": {},
          "execution_count": 80
        }
      ]
    },
    {
      "cell_type": "markdown",
      "metadata": {
        "id": "vH7d8iU2LE-y"
      },
      "source": [
        "The conversion to category is not free, of course, but it is a one-time cost:"
      ]
    },
    {
      "cell_type": "code",
      "metadata": {
        "colab": {
          "base_uri": "https://localhost:8080/"
        },
        "id": "vhi-6iUnLMdm",
        "outputId": "f3f27a54-660d-4ad9-8022-47fcebaa798d"
      },
      "source": [
        "%time _ = labels.astype('category')"
      ],
      "execution_count": null,
      "outputs": [
        {
          "output_type": "stream",
          "name": "stdout",
          "text": [
            "CPU times: user 632 ms, sys: 8.95 ms, total: 641 ms\n",
            "Wall time: 645 ms\n"
          ]
        }
      ]
    },
    {
      "cell_type": "markdown",
      "metadata": {
        "id": "7hH1KZlYLS3k"
      },
      "source": [
        "**GroupBy operations can be significantly faster with categoricals because the underlying algorithms use the integer-based codes array instead of an array of strings**"
      ]
    },
    {
      "cell_type": "markdown",
      "metadata": {
        "id": "o4IflLY0LS17"
      },
      "source": [
        "## Categorical Methods"
      ]
    },
    {
      "cell_type": "markdown",
      "metadata": {
        "id": "w4rm1TnrLZnG"
      },
      "source": [
        "**Series containing categorical data have several special methods similar to the Series.str specialized string methods**\n",
        "\n",
        "This also provides convenient access to the categories and codes. Consider the Series:"
      ]
    },
    {
      "cell_type": "code",
      "metadata": {
        "id": "R5pq6B0aMl1g"
      },
      "source": [
        "s = pd.Series(['a', 'b', 'c', 'd'] * 2)"
      ],
      "execution_count": null,
      "outputs": []
    },
    {
      "cell_type": "code",
      "metadata": {
        "id": "VvgxSmFjMow6"
      },
      "source": [
        "cat_s = s.astype('category')"
      ],
      "execution_count": null,
      "outputs": []
    },
    {
      "cell_type": "code",
      "metadata": {
        "colab": {
          "base_uri": "https://localhost:8080/"
        },
        "id": "fVeg2CotMq2w",
        "outputId": "cf248ae0-e03f-4d1d-ae65-c9a024cfda39"
      },
      "source": [
        "cat_s"
      ],
      "execution_count": null,
      "outputs": [
        {
          "output_type": "execute_result",
          "data": {
            "text/plain": [
              "0    a\n",
              "1    b\n",
              "2    c\n",
              "3    d\n",
              "4    a\n",
              "5    b\n",
              "6    c\n",
              "7    d\n",
              "dtype: category\n",
              "Categories (4, object): ['a', 'b', 'c', 'd']"
            ]
          },
          "metadata": {},
          "execution_count": 84
        }
      ]
    },
    {
      "cell_type": "markdown",
      "metadata": {
        "id": "EwdhLxrkM5hg"
      },
      "source": [
        "**The special attribute cat provides access to categorical methods:**"
      ]
    },
    {
      "cell_type": "code",
      "metadata": {
        "colab": {
          "base_uri": "https://localhost:8080/"
        },
        "id": "5lbzp0a6M7xM",
        "outputId": "9eb917ce-da5d-4972-ea30-5eff5bab3a7c"
      },
      "source": [
        "cat_s.cat.codes"
      ],
      "execution_count": null,
      "outputs": [
        {
          "output_type": "execute_result",
          "data": {
            "text/plain": [
              "0    0\n",
              "1    1\n",
              "2    2\n",
              "3    3\n",
              "4    0\n",
              "5    1\n",
              "6    2\n",
              "7    3\n",
              "dtype: int8"
            ]
          },
          "metadata": {},
          "execution_count": 85
        }
      ]
    },
    {
      "cell_type": "code",
      "metadata": {
        "colab": {
          "base_uri": "https://localhost:8080/"
        },
        "id": "EjxQN3w_M-Ce",
        "outputId": "3e7064e8-d4ee-48f2-aadc-f5ae6b74250e"
      },
      "source": [
        "cat_s.cat.categories"
      ],
      "execution_count": null,
      "outputs": [
        {
          "output_type": "execute_result",
          "data": {
            "text/plain": [
              "Index(['a', 'b', 'c', 'd'], dtype='object')"
            ]
          },
          "metadata": {},
          "execution_count": 86
        }
      ]
    },
    {
      "cell_type": "markdown",
      "metadata": {
        "id": "tvGEADMnNZV_"
      },
      "source": [
        "**Suppose that we know the actual set of categories for this data extends beyond the four values observed in the data**\n",
        "\n",
        "We can use the **set_categories** method to change them:"
      ]
    },
    {
      "cell_type": "code",
      "metadata": {
        "id": "PTmlWt6rNjD8"
      },
      "source": [
        "actual_categories = ['a', 'b', 'c', 'd', 'e']"
      ],
      "execution_count": null,
      "outputs": []
    },
    {
      "cell_type": "code",
      "metadata": {
        "id": "D-1Wvn7ONldx"
      },
      "source": [
        "cat_s2 = cat_s.cat.set_categories(actual_categories)"
      ],
      "execution_count": null,
      "outputs": []
    },
    {
      "cell_type": "code",
      "metadata": {
        "colab": {
          "base_uri": "https://localhost:8080/"
        },
        "id": "Ln8qMJDxNoSR",
        "outputId": "fb06c9d4-5ebd-4d92-bc21-6a855664dfbb"
      },
      "source": [
        "cat_s2"
      ],
      "execution_count": null,
      "outputs": [
        {
          "output_type": "execute_result",
          "data": {
            "text/plain": [
              "0    a\n",
              "1    b\n",
              "2    c\n",
              "3    d\n",
              "4    a\n",
              "5    b\n",
              "6    c\n",
              "7    d\n",
              "dtype: category\n",
              "Categories (5, object): ['a', 'b', 'c', 'd', 'e']"
            ]
          },
          "metadata": {},
          "execution_count": 94
        }
      ]
    },
    {
      "cell_type": "markdown",
      "metadata": {
        "id": "lfzI9IuCNie0"
      },
      "source": [
        "While it appears that the **data is unchanged,** the **new categories will be reflected in operations that use them**\n",
        "\n",
        "For example, **value_counts respects the categories,** if present:"
      ]
    },
    {
      "cell_type": "code",
      "metadata": {
        "colab": {
          "base_uri": "https://localhost:8080/"
        },
        "id": "2d6Ja00yOJ5d",
        "outputId": "97bcc638-b220-43a2-bd79-4d406f4a4f08"
      },
      "source": [
        "cat_s.value_counts()"
      ],
      "execution_count": null,
      "outputs": [
        {
          "output_type": "execute_result",
          "data": {
            "text/plain": [
              "d    2\n",
              "c    2\n",
              "b    2\n",
              "a    2\n",
              "dtype: int64"
            ]
          },
          "metadata": {},
          "execution_count": 97
        }
      ]
    },
    {
      "cell_type": "code",
      "metadata": {
        "colab": {
          "base_uri": "https://localhost:8080/"
        },
        "id": "jiv7XN-0OPUE",
        "outputId": "3578243d-d9a1-48aa-faeb-c21cc05c1904"
      },
      "source": [
        "cat_s2.value_counts()"
      ],
      "execution_count": null,
      "outputs": [
        {
          "output_type": "execute_result",
          "data": {
            "text/plain": [
              "d    2\n",
              "c    2\n",
              "b    2\n",
              "a    2\n",
              "e    0\n",
              "dtype: int64"
            ]
          },
          "metadata": {},
          "execution_count": 98
        }
      ]
    },
    {
      "cell_type": "markdown",
      "metadata": {
        "id": "FHQfdXpcOeOn"
      },
      "source": [
        "In large datasets, categoricals are often used as a convenient tool for memory savings and better performance\n",
        "\n",
        "**After you filter a large DataFrame or Series, many of the categories may not appear in the data**\n",
        "\n",
        "To help with this, we can use the **remove_unused_categories method to trim unobserved categories:**"
      ]
    },
    {
      "cell_type": "code",
      "metadata": {
        "id": "AS8OK2_QOndi"
      },
      "source": [
        "cat_s3 = cat_s[cat_s.isin(['a', 'b'])]"
      ],
      "execution_count": null,
      "outputs": []
    },
    {
      "cell_type": "code",
      "metadata": {
        "colab": {
          "base_uri": "https://localhost:8080/"
        },
        "id": "xy1JKXi-Oqv_",
        "outputId": "187f18c1-a07e-4f8c-ff73-58fa0d02f276"
      },
      "source": [
        "cat_s3"
      ],
      "execution_count": null,
      "outputs": [
        {
          "output_type": "execute_result",
          "data": {
            "text/plain": [
              "0    a\n",
              "1    b\n",
              "4    a\n",
              "5    b\n",
              "dtype: category\n",
              "Categories (4, object): ['a', 'b', 'c', 'd']"
            ]
          },
          "metadata": {},
          "execution_count": 100
        }
      ]
    },
    {
      "cell_type": "code",
      "metadata": {
        "colab": {
          "base_uri": "https://localhost:8080/"
        },
        "id": "KAODgMYDOvEV",
        "outputId": "4449efac-9a91-4076-88c1-cc1a69519c39"
      },
      "source": [
        "cat_s3.cat.remove_unused_categories()"
      ],
      "execution_count": null,
      "outputs": [
        {
          "output_type": "execute_result",
          "data": {
            "text/plain": [
              "0    a\n",
              "1    b\n",
              "4    a\n",
              "5    b\n",
              "dtype: category\n",
              "Categories (2, object): ['a', 'b']"
            ]
          },
          "metadata": {},
          "execution_count": 101
        }
      ]
    },
    {
      "cell_type": "markdown",
      "metadata": {
        "id": "_DdzxratOyqM"
      },
      "source": [
        "See Table 12-1 for a listing of available categorical methods"
      ]
    },
    {
      "cell_type": "markdown",
      "metadata": {
        "id": "z6FSD7dqO0i9"
      },
      "source": [
        "Table 12-1. Categorical methods for Series in pandas\n",
        "<p align='center'>\n",
        "<img src='data:image/png;base64,iVBORw0KGgoAAAANSUhEUgAAAroAAAEpCAYAAAB854FpAAAgAElEQVR4Aey9/1Ncx5kvfP6A88v8yA9TS+0s9XKrVNESlq2VltcX9i4qaXUvuKzLyyvbywsqa5Fu4oWs1yBnjZQbg7PxeJPAjY28yVSsWVlGXogcEdtYZiKDsowsxtGwYiIjCWSQhMRgJMiAGTFwPm/1Od1n+pz5AkKAkPSoCs05c053P/3pp7s//fTTzyigf4QAIUAIEAKEACFACBAChMAjiIDyCNaJqkQIEAKEACFACBAChAAhQAiAiC4pASFACBAChAAhQAgQAoTAI4kAEd1HslmpUoQAIUAIEAKEACFACBACRHRJBwgBQoAQIAQIAUKAECAEHkkEkhLd83/0DdAfYUA6QDpAOkA6QDpAOkA6QDrwMOmAna0T0SVST4sa0gHSAdIB0gHSAdIB0oFHQgeI6JIiPxKK/DCtLklWsoaQDpAOkA6QDpAOrI8OENEloktEl3SAdIB0gHSAdIB0gHTgkdQBIrqk2I+kYtNKeX1WyoQz4Uw6QDpAOkA6sJF1gIguEV0iuqQDpAOkA6QDpAOkA6QDj6QOrALR/VP0//NnWGA5TXbh8n8RK5u/wuAHY3r+2iUvBu5ZgbbhyumvAMxh5heV9wd+sRcziwCmu3HFlE/ISZ8beSX2WMj2102YHJ+BpveWGGI3f4+v3vpH/Ocfr7Fulr6FqduzmA+8hdBKyrrf9Pc8JqwxHiTP/Y2zhB/hRzpAOrABdWAViO6fY+AXg8YkrV3Fzf/vL3lDV+L6pbnlE92n/hm3Ph/F/O+PcFJMRPexIHkbsFOsO+5iITZ3FZO/Oo3p8F19gff1+wfQv5b4lL+DyFwMsf6fLU10//hvMfT+7/D19ACuF/+50cfvJf1a1oPypsmVdIB0gHSAdCCFDqwu0cUMpn+62wD7L/4Fd2YNGxXCH2HwT9JbY4L/1I0YgLj1l4juuhOuFEpCcqTX3fvGRxBdsePwP97C9NcacLcfI3/9zbUdvP5y2/Isx//l+/hqehFYHIwTXaYvy01PurW27Uj4Er6kA6QDpANJdWAViC53UdDuYjG6gIWz/2JYoZ7/CFFtBvNTMavLwN98Hzc/H8OCtoiFsbO49ndFECQ3LgxzV6jhrgtRzH7aiduj09DmbmHqF9VxK9c3v42RM1cRi2nQIqO4/bO/l579Pa6dHUVsbgqz536PKLkuJFWA+yZp1LHuH1c70f2jJ3H17BQgLxyT9Bu97f7mBxj/fRiL2iIWJ/4TN7793wx5WN/4ze8RjcSAueuYaPw/OlHVLn+I0V8PYn7yUwwdkheXfGGpjWLC+zH+MDGLhYnfY/x//784L0huvIPqC9KQfXGaqj/y9EbZA4hG7mIx/Dmu/13R/WNH+kcYkg6QDpAOkA6k0QFp6tIvV/CDEXyCXLyN6PhdYLQdF/+YuzPcHcPsjbtxovsn38aNoa+B+auY8HyIP0QWgNuf4krpC7j6/kXDz/fmf+Daj/4FV54p40QXQOQqJj85j2hMA2KXcaOcuUf8d1w5HQa0KfzhV8dw6/dTgHYbd35YivN/VIqrZ28DuIto/3/g9vAfjHoKi1kaQIj4rbH1krBPHJASiO5f4uJ7V3X9/fq953E+Vb/5s6cx0j8DxG5g8u3DuPbLf8PQX30T5/+4EiP9jCgz/T+NWx//El8+/QPDIrsQg6bFEBv6JS7VJyG6rKdEruL2pwNGf/vDWVz96/+JwR924A/MyqyNYfLn/wdf/lMl+i1EN01/NImyBu3meUx8ftNwddLHCtI3GnNIB0gHSAdIB9ZOB1aP6E5/hptdt4D5EK79D0Y0p4DR/8DE5bn4dqdu5dW41bcIl0/d0ifO8ef/yrTqJrouzGPu/X/EebuVS7hGzH6Gq3/xTX4gTsNi/2FcEM++/hxfsolfL5cOo1FHWruOdF/YJhBd4fe+iNjp7yOYqt/8w+sGedX7wJ/GCTR/Xxv5Jb4QLkMm2ZyD8P0VOylGnxOuQjFEPziA839Uhi8/n45blUV6yXXBkl70uWT9UaTVxsD6+nnx7nq4ZtDCKq4XhAVhQTpAOvAY6sAqEF1+6Gy6B1db+rGIKdx57XWMh+excPY9jLEDafrk+H/zQ2siioKYzA2/XsukqTeEmHjF+7Z7Tl5NYizIQvgjXKphbhOSv694RhZd6uQbsZMn6KfoG4zoNiKkH/YU/UA8Y/2mzrDoIoro2Z/hi28ysmuzBov6mmQzfmDU2uds/euPRDmc+Ir0qYhumv44+A2bf2+SvO5roSDqSJ/Uv0kHSAdIB0gHbDqwikS3G1f2tONr7S6+/ugUpu9GMP3T/2W4H+iTI9vaZOHC7P+MCdw66TLLm33itd4nvC+RBavv4TdwXnpG4cU2qFXTppiPFfFJ0E8Rmo/1DeGrnrzfnP8bN74aiwJYxMLwCQx+czvvZ4IY8/ZOQi6tfcjav86bRJdblZdIn+CvK9fpm0R0Hyt9fpz7MtWdSBbpwIbTAfvsee8+un9yAONhfuDsG8b14q1buLvILEdP8kn3K3z1T6U8ru48or89ii9/1MT/mD/uf0vjuiAmbNtEnMaCRBZdIrMPFbGQSaEe53k3t9RO4c4/l6ftN3o9/2stboSYT+4sIr/4B/7+Xej+vWLQXYKoDiQsLMmi+1DpkGhn+txwkyzpEc1HpAMPVgfun+jyCdRwIRCnxQEjpJggp4zo7sCFnzLXhgXMn26MR0fgA7PVusRAEWlTEN2/Pozpuxpg8wnUoz6IZ8JHt+ok5likM3JdoElgIxIBC9H9U/Q/fxJfs4OX7KDmn/1Z2n4jBlCj/zDr6yv4T/0HXDQsDv5bPD7usomu8Im/Rx9d0eeS9Ud72fb7jdgmJBONFaQDpAOkA4+EDqwy0f1zDPxrCIsQB87EFiwjuttw/r+6MXl7AYiN4c6xt/Dljw7j+vEmXGQHZv6ff0NknkVVuImpD49i6KkS2xasnfjyyAqWqAthfPXyf5eiLkQR/fw3+OoSO1RDRFeQIvp8sKvLBPwF0WU/GPFhL2buzOsRRKZ+/LfGIJOq3/xfz2Hk41O48dM3cf23N6CJcGR/dhDjujsDj7rQeQxD2xsS4uBaF5eif7GoC5fx1ScX4lEX9EgOf4frg7MA8wf+/GPc+N9/a9uFSdMf7cTWfk+TySMxmSToNbUrtSvpAOnABtCB+ye6fJI2D4WVezE9Noo7Py1H3M9PWGX/FP17D+MrPe4ngNgMooO/wuU/Y4doSnD5vX5E5xaB2Chufbt0CaL7DZz/Jo+Vy+Lo3rmEr3767bilmMUXHbwNLTaN2Y+P4RaL/kAWXep0G6DTJRCCv27GnWn2cynsB9FuY7bfh+v/+D+ltkrRb/7i73G9n8XQNeJIT733fVwQP+XL9D90k8eYvoSb3+ERGlIdJjN3UO4i+p8X8PVcDIvhftx8sYTL8U3854ttmA6zXzu8i7n3X7QR3TT90U5s7fcbsU1IJkn/NtjCkNqG2oZ0gHTgHnTg/onuPRSWMMFTWlJW0oENogPCoisWpURuaLwiHSAdIB0gHXj4dYCILhGtDUK0Hv7O9HAPiER0H+72o/5D7Uc6QDpAOpBMB4joEtEloks6kOTwJw2YyQZM+o70gnSAdIB04OHSASK6RHKI6JIOkA6QDpAOkA6QDpAOPJI6QESXFPuRVGxacT9cK25qL2ov0gHSAdIB0oG10AEiukR0ieiSDpAOkA6QDpAOkA6QDjySOkBElxT7kVTstVgVUp5kbSAdIB0gHSAdIB14uHSAiC4RXSK6pAOkA6QDpAOkA6QDpAOPpA4Q0SXFfiQVm1bcD9eKm9qL2ot0gHSAdIB0YC10YFlE1/4S3RMChAAhQAgQAoQAIUAIEAIPGwLKwyYwyUsIEAKEACFACBAChAAhQAgsBwEiustBid4hBAgBQoAQIAQIAUKAEHjoECCi+9A1GQlMCBAChAAhQAgQAoQAIbAcBNaH6M4No/uoB8eDd1LINIPh7ndx+HgQkRRv0NeEwKOGwEKoBfmKAmd9D2Y2QuXG2lGuuFDePvpgpZkfhHf3VlS0XkHswUpiKz2GsfYqKEoV2ke+QGvFVuz2DmLe9tbDcLs45MWTaj7qe756GMRNIqPUFmP3oiVRjPl+iGKXCkXJR4N/Kkney/kqiiHvs1Czv4ee6cXlJAAWL8H7pAvZ9d2YXl6Kh/utx62+D3drPdLSrw/RXXICHUV7uQtKeTvG1g1uDbGJQZz9zWcYntPWrdR7Kmj2czQVOaEW/gh9kWUOpvdUAL384BCYx2hrJRRFgbLNg8GN0LxL9tP1QGsR0z3fQ/aW1xGY3Wj9UiZX85gNvI4t2S/DN7lw38Asjp7Cq+VPwx1Yn6W+drsXzfu/h/ah2fuWPWkGiyPoerUChe7AGi1W5LZYPtHVxjuwz5GJ4uYAIvPTuDOz0rZbwG3/m9h/4ASG5lPoqR0DbQL+5hdwoP3yg1kc2eVJ2nCr+OWDru8qVoWyergReIyJ7soGynVt7ulu1GerULK+C9/tlQ7I6yoxFbZsBCbgq92CnIJ8ZDleQOcqkKVlF53qxQ1BdG+hszoXW5vO424qOR/Y97Yx4+55NG3Nwb6O60hBdZYtaSzghkspWDeiu2zBVvpiLAC3S4FrgxHddcV5zTG4x8bZaPLco/j0OiGwUgSI6LJtyHva+lop1CtJx6zOQ7g0EV1JYkqzkRFYuICW/FxUH3kL1Q5pC1WfjJzY8eLL2JeXAUXJQYWnHxHGpNI9g4a5wTbUFDihKE4U1v0KQ/pOhbFb4tx7AAcK+bNDpxHmzEwLf4pXi7ONNOW78URS14X0eWDuC7TVFEFVFKiFL+Pk0Ay0YS9KpLwWBz3YphTBHWCbtguY7HwBDqUSraO2jf9pH2oztqC+Z1JvPSsxsRFNnZjnYO/LNShUFSjqDhzqvgkNEQTcBVBcbgR0Y5+8Y7SAyMBRjq0CddthDNxlYEQw2FaLAj2f7ag7eRlzhgQI97iNrW61EOXPPmG4LuhjxiR66rcgo9aXfCs6dgO9LfuRx/Lk2+R3B49hj96uCtS85+EdmIJRR/YO/9PlTtWegBbph6ciB4qSgbw9e7ArI+5uwp559+UbbVHwIlpDU3E8dtSgnqVjO2f2RU2SNoQ2hQHv81x+J7a19NsWHxqS1UfjhMqsT1ICnwLvlG3KGiOWpi30xuL/yW3sREFNK0KRhUScE3YQk8ikjcNXtxWK2GHQjQ9OFLX8DiPCjWUspreJwF1Rd6El+Bud6FsxCEk7l+n7VLo2lmsKRDHW+xaquE5lNvRiOomOpWyTZO3OCmBt79mLLNan857B3l3ZMHdcZb1Qi1DTekEfnww93okX68uRpc+rw1J9WaZJ8IXcVnJ/tNaS7giB+0FgZUR34SI829mkKQbmEtQdN5RdFyZ2Hd1Nz/EBUoUrNwcuadLTO2d3Myp451RcOchlPlMJA0+aqmlTCLW/inKRB5PF9S20jxp2oIVBD7brEwyTUYVr53dxXB/0BWGQJhZRD8uAHMWYRcZdaPRdi2/DsfKPfxc7dV8vIy81twyv9YQNoW3P1bzn0NR9PZ4edxD0vozygqw4jooCR3UnJsVEbcqVjIxriI19iqaKrfqkpijZKG7swlhM2JbYcx/cZXn8OZMxA/lNvwPR5jR6tU6PtNFWlCml8Fz8HTzbslDivWxYBQVJcDyDpk968UnTM3Ao2+EOTHGiq0BJ9uxuP1q2bUJx82cYu3gE5Y5sVLaPQAMneeoO1Led5vmVoCU0C4hJPK8Orb3daK0tgGLppwKMNHlgBgMtu+AofgPnx4LwlGfDUdmOGzFG5B3IbPAjahJbJ6/nLEItJVDyWxCybVQYfstxfV+a6DJyfRBtvR+iqSyL55mG6GrDaN2djS0HuzA+ewv9gS8xBw13Bw5jm6MUzee/xEXPHjgc+9F+Yx7aZBfqsjOQV3sMvb3HUJvnkIguJ95J6gHM4oq3Eg7Hbrg/7EXg7HkMRxaghXtx/INLiEwH0FycCXV3K0Y01rQ2i27K9pyEv6EISt4/wNt92tpmvD3V4jcQnBxGR80WqCUeDM5zPJRMFLvPIMzGCAvRTd6G179sxW61CAd91zEbDiFwNdGTPFV9jEVZKotuarwNuZK1KZZoC6Gr4j2X7p4web0DNdkulHhCurtAAs5mslQy3cXdYDO2KsyfeRyTnS8iQ9eNr+P+2mOzGGndA3XL9+Ebn0a4P4irbJHJ+3Lcqi0vuNL1qTRtbMrLLjTMXzmK3Y4slLpPwh/4DIHh6ZQ6lihP8na/oS0i4v8B8pQnUOP1obe1DnlsLtLn5wVM+l5GtlqK5uBNXO94Ednq0/AMzpoLCbX4x+gNs1lGrm8KfK9/kaQ/WipJN4TAfSOwMqKrhRH84GP09AUQ6DuNd+u2Q1WfhXeIKTcf4NXtqD1yCv6+bnQ070OuOYGKzulEYe3b6PKfRU9HM6pyHVg+0Y1g0FuFLGUzyhreQZe/D4G+Hnz03mlc4v622kQQH3T2oC8QQF/3O6grdEJ90osh5gupRTDa/xk63U9BUZ6Cu/MsAoEAAoELGI2wmXcBt3tfQ6Gag3L3CfScE3U0OjQwj7GO7yBL4c/7+uBvP4gCs478uVqE6p9/CH/fabQ1Po0s9Uk0BcUxBD4IFNTB6+s1yvf/BqeCYWhslTt6AYHAWS5jfOIXLa7dPoPGwkxklb+Okz1+dL/7EgrVTHNAhz6hu+Ao/QF+1fMZAoHP0NPZjhOB8fveZhUy0OdKEVjEtO8lZDgPoWfmK90qaCxw4osw00qoWzgdyG+5gAU+cSZ7NhtwY7PyDLzDrA+y7f/NUKs6EBaTDfcDtlha9bwzsM1zEaxbGFbXuHUwXjuuq8nyiPbBvTmTE1huqVWfR0f4Jny1uVDKWjGqTSPgLtIXdIbsN9BRlZ3kEJ6GmZ5DcGY2wh81FmxWYpLMoivkj2LY+wwnoXdSW3R1DAXhFjXk8pV4McyKnexEtSMbVR2jRjuxBckgs+/OYdBTKhFdDVF/IzIzXoLPfiBpthcNmzKwxX0Oyb1geV48rbWeGqKp2jNdm+lyZ6Ks9So0cNkUtqgZN/BQ98V3r2Sim6INf3myES5TpwRWqT6t9UkkVXK6VHjf4AQ8WZveXaItRP723YIp+BvyzUWVFWeRhn2mkUmMpVU/whtVm/lhMlkXub4J/RHZLofoJutT6dpY5K1/3oG/oSBubbY8YzdLtEmKdjf7rjg7sHgRnm0ZMOZnY2wx+jWAqB8Nmcb4xHTWpWShQl9gs/JlopsC31+2we2y98eEitAXhMB9IbAyomsr0rBO8QlS35J1wFnnw5QwLsqDKrg1x/ld+KaEOUfuELbMk93yyX9LYy+mRRnJ3jO/Ewd/ZMIoD1S2wwzadXTs2wS17CiGhIV0pgf1Tk44eB0zajoxKcqX65js+fwFtBRlcIstE2w5dU4lYwzjHdVwqBXwDhkbrICxjWpayYQMVcdwRSfvJhh08cAR4H1AJ4FcN3OaEGTdwT45alfRWpZp6E3KZyfxO3awzSSI3IKn52nTM0lPDeup5DYhPbNClDoPo+/H8zCIxHY0Be8Yh+0YmY8MwluyBZVVu+FkMkWDaMrJliZEURrXd9PlwG7ptPUHi7zyszREF9xallWJ5t4bxg4Lx9iwPos2UJHT9Fv0M8uziatchjFmGPWVxxWjLsaiIRe1vglROdunNS8rAeM6YZYbb8/fhZgLSBxv2TJrtGfcz9dom82o7rxsI/6wWHRTtmF3JxryMpBV/gZ6x5baB7LWJ0GP5dqnxDuIhZRtOm3sApiY2Moz8+d9y9QhjiX3g7fibCYC0smk70i8iAx9h+0ptISYZVsu/y63gOagvPlMfFfN3l8tY37qPmXoTvI2liQGOAE1F76Wh+xGljGWMLakbPff9enE1uwPstx8XjGt1NL4NG7flZDTpcT3FM6wHQq5PybUg74gBO4PgRURXS1yGZ0/Ea4JwgWAE13LQMWFs3xn6+D6K8m+S12xhWATcuTBPuHVBUSGPsZPzG19IaM8IdkGATkPQaTr23BOt/Qya+8HcO90GoQj3IEqVVhOeEK5jvq17Tm4ZUEQGnkQkMu2XKeSkR1kyoWypR7t55hs7I9bf82DTbI/21aUv3IEH4fCkuuEpSC6WU8EtBG0V1hdVhRhOUs3OaZ85kE780k1XV24vuuTva1vSXqaMOlLz6xwLJWH6F/i0yBbBvF6Bt5zJ1DteAZHfL9AGfPL9R9DuWkllUvi+m6SlLUgupKPq7oDB7uuIcZxtePncvvgt/j6JvbHVEQ3AVtRzdgN+D11ksuTMSZZ3xeuBgLPeHv6/TYXB6nNrHnIZDaUluga6Wxl6W5cU4gMvI2KLBVq4SvoSkZ2U9QnLdFNiXcAMak+VqJmX7wktoUBMcfO1CHrewkYme1iHJ5L1AEeNUK3liumZdgqW0zyaXWi8OApg+ym7K8sutBSfSq+YJEXM0Jc/TMhf/50mW2Sst39PttBQknWhDLjz0bTEd10bS58zkV/tFSSbgiB+0dgBUTX8OtRHU+i/tgp+JlrQEcDCsW2vT5Q2UieZfDiHUO3ZokKxDvLcsKLGR1UWvGKbMSn7t/mhKP4II51MbcAPzoadkpbjuxF6wAokuqfurz2gZ/fJzvIwRLJdZSvzYw50TUH4OXUOZWMPK2d2Oj3MpnXEAsH8WvP97kvcw4qvCF+yMYUjC7WGwF9d4BZ2m4ZJesLJ279SzGR6G4IKZ/9G05aCJlcIZueSbppLBiXMaHey6QsF60vGLegruEF5Gx2IzB7Hk05T6C+4TtwmZY5OcFKXBeEq4XcV+ykyIYBKzI2is66AihsYTh+1jaxC5lmEGzaLh1qk8tgFl0ur+6CIrZ2jLTJF+OzGPQ8DZX51/qvYLCNx+Qdi9l8dO1kTcgDJOQrt6celznensu16KYkf3qxzNf/I9TlOaTdKCFP6vosh+iaVkGRHfuU6mMdo6eWaAuRyQotugl9S+THPvkOmj6+7kRTkIWAs+sCey+Ksc6Xkafwvp2Qp6yH8rW13unaWJYKC2xnROV+8OLJ8tskZbsn5CvJulKLbgIWQl7+KffHjRCBxiYe3T7cCKyA6EpKL+ouD05iyzzVtr5wXch4UQqplCRPkXeyT2FxTeW6IMujp082KInvkpz81olIBopaLiSPd6j7NqlWH0O5zGQYrKrrAndTKDqMUKoYjnbctNsIuIuNiZ0GEjs663pvWDqF3ydzCWcHt5wWP1zzRyRklxk+WSQ+CyLMohioe9A6Yg/KZetbsp7qVqq4f5zFf9eCyFJ5uLC7dTjR91u3XGcj05UJpx6ZgO9EmIcuLYXoNwY28T5pTPoiCoPNBUmui4V4cFIkCCjfNrWfAYhP9JcNn2Z+MCwulfD3FL7Psh8wI7pcHuHLGE/I/XxtY4iFJIjxJ5lFV/g6J2nPdG1meZbER9dcZFuJleGTnKIN9TqlIN5p6pOW6Aof8gS8bXJZ2jTKI3WkagsBvr3Nluujy/3ak8k0H4KnJAtbf+TBT7c5k/joSq5vMqGTr3Xx5H4kX9vqbWlHJEQwETUVvviKPA/cS5vo5SRrd+6HK3yOtcvwljhh8dEVzxJ8dOMLLat7Xhp8eYXi/XF9YknHcaSrRx2BFRDdCIJNO6GI08Rs27zTjZ3Comse1NqMssb30N1ns/gyO8jYSezPciCr7FW0dX+GQN/7aCgUzu7LgTyCgZYyqPphtCP4SD9s1Qtfext6RqOAHt/SAUepGx+yg2piW98WSsyYVOMnVns6ThjpEcEXnnI42GGyN9vg0/Pohe/EJwjpP9wwjWDTk1DV7ah79zT6Eg7c3cNhtCUiTRgybkJFyyn0+U/heMcFRFgoqS9+gTKHEwXVP0W7fpitD35fBzpD/Jd+Fq/i1z94DT9v79Kt7gH/x/BUPwFl06vwb7hA/Mtp80flHUZw9kEVJEyvlkEA1Yp2jPHJUcn+Do5fCfNTzbvQMjBj+tgle2ZEB8hEYX0HhlgopYlB9I8yX8I0EyojopXZME7pX0evexdUsx/LeKfLwwi/pBYeQsfQNLRYGKH+a3zXgFvXFEGmBVEU93IZ/JpbgUV4MYOEqciuPoJe/wk07MyM78ykJLqCFG1Btfc0/CcbsZNFYGF9TfsK/aeDCM/fwYXDz8LhqEbHeJSfJN+B+o5LiGhRTIRCGJ3ToN1oRyX/gYHJ8TNwF0vlc794c+EhV0dEtMj+Fjznb2F2YgTX/nAJrbtdcFQcx5e3Qzhatdmsi+GXmW3+GlzK9hRtVvRDdI/fQrC5NN5mS0VdSEV0RTpbG359+wJOB25hPhLE4bIsOPZ1YFw2XItDWknqI/xHWV1HxDkHEx9xcj8R79QW3dgSbWFmzqMz3GvUhVQyLRo/DKK72kwb0RUSoi5Ecbv/twiEZxG58DOUOTYZsZW5D20cA7kfydc2opuujePVNML0sQgISh72eQIIz07g6mgQ76bQsYQ2SdHuc5jHjfb9cKjFaOy+hsngGygW/Yf5K6eNupCK6Ip0tjb/eiJJf5QWDpb60g0hsDIEVkB0mY/bBRyvK4FL3jpXC1HfLYfWOoTSXBYH1Njyt4TeYlEFQv+O+lIp9JWai+LXenB7ufWI3ULg6EFLGYprF5pYGCY9//dQt5PFB427IKh530e3/MML2jj6Dos4lyw8WTEaRHiwJPmruc+jTT/VzjC4hF837DIxUF0uZMokYcnwYraBLlW9tZvoeVWUk4HcZ97BoH6GL4pw4B0bhluwp+2KfoIesxfg3b/NlE8PsVZYg7f6KOpCKqjX53tujRcWEb1Qfjqakd+pc/o2uqNgB7az0HVqPvZ55Ti6CpI+s8WjVJTNqGxnp+9temYhh2xb+hQOivi6Bw5gr1O4AshopMvD8Hk1Y4iyUH6VbRjVCRHf2tdP/huxBwwLrYinK5fBr/WDoDnSD0aICCusf4TGzngAACAASURBVO7CofoKOMWC1VIXq4UUcyF49VizKlzFtajfy+PHcrcmfVxwSSED5digbMwwQxVGMdb1ihmn98DLUvn6gnpLygNnckxbRWEH9KZNn1dFLcK3nn8KGaIu85fRtt+If2scLrLGF423p63NbLGPtfAZvF7GCDSr9w/h0/1qk1hkLdglb8PLFw5jmx6iUc5LbjMmo+HDm1AfzGKo7TtGiMlkUSlS4W2Ry9amzDUgVVvIYrF4u71NKMtiP/NrDbuY1mqYTKaREXTW5Jhh4IyFD7PUy3F0p/QQeyyOtLU8OwZXpbiy6fpU+ja2VNUiMztAGcCde2gTq45KfTd2DV0Hd/DY2E/j2SckQ5R2C72vP6PH2GV9UoTdTMTWVkeLrLyPXT6Hlm08VKmUl6WOdEMI3CcCKyK691nmI5nc2PZNd8r6kaw2VWq1EUjY7pQKSPdMeu3hvuQ/Abzhdx40zPpfxabs76HHHlpsHRvAGHeEa8c6FkxFrRsCD7yNuetC0p2LdUOBCiIEVo7AhiO6WmQU/WakAxFRQPocnNgAkQOiGP3NMRz9iMfp7XkfzVVboWTVojNM2y4rV0dKmda38bEgusz1dRDe3VvNbfwNqRWxK2it2Ird3sHkfvxrJrSGudEQQhNRaJGr8DF3Exp31gztB5PxBmjjuWvoZ1F6tAhGfG4Uq3mo6RxL9MN/MABRqYTAPSGw4Yiusf0RdzeQXQ/06yV8Wu+p9it+OYJgS5nVLUD+5bUV50sJH3sE0pHZdM8ee+AeFwDYGYli89cOxc8Iy66zjwsSj249H3Qba4gGm5EvfllUdp96dEGnmj3CCGw4ovsIY01VIwQIAUKAECAECAFCgBBYRwSI6K4j2FQUIUAIEAKEACFACBAChMD6IUBEd/2wppIIAUKAECAECAFCgBAgBNYRASK66wg2FUUIEAKEACFACBAChAAhsH4IENFdP6ypJEKAECAECAFCgBAgBAiBdUSAiO46gk1FEQKEACFACBAChAAhQAisHwJEdNcPayqJECAECAFCgBAgBAgBQmAdESCiu45gU1GEACFACBAChAAhQAgQAuuHABHd9cOaSiIECAFCgBAgBAgBQoAQWEcEiOiuI9hUFCFACBAChAAhQAgQAoTA+iHwmBBdDXPD3Th6uB3ByOL6oSuXNDeM7qMeHA/ekb+l68cSgVG0l7ugZLwE37SkjwsX0JLvgOJyIxBLA8wj/VPAUQx5n4Wa/T30yNikgWPVH421o1xxobx9dNWzBmIYa6+ColShfSxdI69B0ZQlIUAIEAKPIQKPCdHdAJPLmk6ej6HmPtRV5kRXKYI7MG3WRBv2okRRNhzRXRw9hVfLn4Y7EDFlXbuLBdz2v4n9B05gaF5bu2LS5bymfXUDjEXp6k7PCAFCgBB4xBAgorteDbqmk+d6VYLKWRUEhOVWycA2z0UYNt0FTHa+AAcjuktZ+9bZohsLuOFSCtaJ6K4KwveXyZr2VSK699c4lJoQIAQIgXtDgIjuveG18rfXdPJcuViU8gEgoBNVFwoKcqHubsWIbricRE/9VmS6MqGaRHcGg+9+G3kqI78ZyNt3FAORBUAmutoI2iuzoZZ4MKhbQCMYbKtFAUujbkfdycuYS6iihtjYb9FSlQ+VEevMRvijycsySC4rn//pbhUa5gbbUFPghKI4UVj3KwzNsUosIDLwNiqyVChqPvbsLUGGWRf27Cj25WXoaQpqWhFidUEEAXcBlB01qK/IgVLeij7L1n6KsrQpDHif59g4sa2lH3dt9dQi/fDuM+qoFryI1tAUmJRGnXbixfpyZHH5tPCneLU426hP+W48IbsuzH2BtpoiHSu18GWcHJrhbeDEjhfrUJGVxd0cUmEfQ7jHjWIXw6UQ5c8+sfRixlYXuiUECAFCgBBYGQIrI7oLF+HZziY5MfmVoO74BUTETmPsGnzuZ5GrT9DGO2p+M4JR8cJSwi4gEnoPdTvZxMMm7K2oaPoUYzGRfhGR4DuoKy+ES8jAPh0voHOSTZ5sIv8UTRVbjYlccSE312WdXGLX0d30HJ8oVbiKfwjfWDQuWCQIb105CtjkZJaxGdWdt/g7UYx1N6NCn7jZdvMuNPquwfS6s+efmwOXPHnGS6Krxw0Bnajm40D9fjiFzi5ehGdbHqqqK+EyyWEM4TMn8MHQHUwH30Cx6sLu1mFoJtE9h+nA69iibEOjfxIaNNwdOIxtjlI0n/8SFz174HDsR/uNeSvC84Pw7s6Co9SND/3ncDZwFREtRVkmMZQsunf70bJtE4qbP8PYxSMod2Sjsn0EWqQXDXlO5NUcQXfvMdTmOcw+p012oS7bheLmACavd6Am24USTwjzgugqmSh2n0E4ZrN4pihrcaQVu9UiHPRdx2w4hMDVGWsdtXH46rZCLX4DwclhdNRsMRcDgryrxT9GbzgK8HeVvDq09najtbYAitlXZzDQsguO4jdwfiwIT3k2HJXtuDEfgNvFxqZdcPfeRCwN9kbdM5BXewy9NlysQtMdIUAIEAKEwGojsDKiq4UR/OBj9PQFEOg7jXfrtkNVn4V3iBHFuxhp3QPVUYbGX3WjLxBAX89HeO9EAGHBU5eohTZ2EvuzMlFQ/a/o9J9Fd9urKMvKRFHT55jV04rJcBtqvafgDwQQCPTCd6ofE6wMPpGrhXU40tWLvp730Vy11Zx0oU2gt3En1KwKuE9241z3O6grdJoToV6EboHNQEHtEfj8fQgE+uD3nUZwglHZBdzufQ2Fag7K3SfQc05g8DQ8g0zCWVzxVsKhbkftkVPw93Wjo3kfcs3JcwkA6PGjjUC4A1VqAdwnvahSt6C+ZxLaWDsq1GdwxPcLlCVzE9CJcAYyan2YFkT3h8fQWrkJ2XVdmNT71jQC7iIoJV4Ms/vJTlQ7slHVcUPCU8Os/1VsUrbDHZiSvpcu5bISiK6GaMCNzcoz8A6z/n4LndWboVa9j0u+l5ChlMIzyGzIcxj0lPI+F+VuGZVoHWWkewr+hnwo+S0ILXCLrrqPH84Sfds4rJW8rA6M6e4UQgZJdnGp1z0TZa1X9QVA1N+ITKUELaFZbtHNQgUj5+z9aR9qM+JuJIuDHmwTfTXaB/fmTJR4L0MDdy9Rn0fH2Fmd6KoV7RhLi/0oplPiYi6LhdT0SQgQAoQAIbDKCKyM6NqE0EZbUSYmBswi1FICJWM/jl6ZNiYS2/vpb0X6F7l1lr09g1DLU5LF1joZ2vNbCLUgX8lDnS/My7e+r413YJ/DhTLvILfAapjpOQQnnwj1/NK5GmjX0bFvE9SyoxgSVuaZHtQ7HchvuYAF7oPprPNhSp8EAaTLz14Bun+0EdB1oQDuzz6DZ1sm8lv6cZuRIUb8rrMT/5L11ESCH2Arb8cYJ7qO3FxsdlShdYQ7J2hX0VqWicwGP/S9Cf09FTlNQbB9DuMfJ6D2iA/isf4plZVAdOcx2lrJ3R2YcnOimtMA7+FS6Xu5z00bY4IZTYLnoVuzpwzXBfOZnO7rFGU1IXiHWY8zkFX+BnrlnRheD2MMiONojFHGjozd59h4Nx8Nfk78pb5qpIs/M9JuR1PgtE50Xe6AMYakxP636Gfjoe4ewvCS60dE16J2dEMIEAKEwBogsCKiq0Uuo/MnYttf+O/Fw/HE/d0ykFf+Co58PIAJQQiXrASfZMtaMSpIIjQYFpntaAqyLcp0k0WyZ/J3d7mFpQj17b0I6NbgAAKdbuxUJNcEabJLEFm3ADmwpb4N50T6wAdw73TCUd2JyWRpk32XkDF98VggoOsCs0ZO6BZYteIIPnqzBM76HszozwRBYy44vfDUlsRddCSia7jUSJZZToDjrjZG3zTJmA4uJ6YmsRSIpygrgejy9KY7j3BfqoW7oUCKGCH3uTtpyOwyniWUxcKvxf2B1cJX0GUju3YyKy807c/s94nvijFOfBbA7fdZiW5K7H3wMx9kE28ZFyK6QvvokxAgBAiBtUJgBUTX8FlTHU+i/pjhNtDX0YBC06LLRY2NI/hrD14pZ36yKrIqjmJQP7CyVFWs1iTjbUF0BQFIN1mIZ2KblOUgvmPboXM8jqWYtOTPOFmXJ7sEiXUyIqeTrhkR0Z+LbVOeWv9Oyj8hU/ricUFgIdiEHN0Ply+6nDtRWpJv+H/rW+5cT+ZD8JRk6T6v/pEBtLHYuxLRzfh2I35QkgnHvg6M68ZCw2/USmztqM4g2LRdsjDy56nKSkV0TeIm8rfnK/e5lVp07SRYlCU+GTn/CHV5DmOBKb5mzkX6ro4YL4C0Fl29PeLvyn0/gQSLMjixNbG234v3wHEx8ZJxIaJrwkQXhAAhQAisEQIrILpJiGhaEreASODHKJStpWkrs1quCzmo6byZxHVhnrspPIWWkO0AiyxXujrpbgoZKGq5ANsxHyMH7rqQUdPJfSfJdUGG9nG/NsiT4YNq+OayhRL3N9UJk0F0rWRN6ncmqfLjRkc1HKrwDef+smYkh2RIizBmVv1PWVYC0RV+qnvQOiLHORD5Cr/ZKIa9z9h8dMWzJD66SYkg9+1V7WXJ9UphodYXDE7uWysWyrKPrkRsLe8CRjxjvtjgCw/9EKBcrNkG3HVB+ConYJ8OFyK6MqR0TQgQAoTAWiCwAqIbQbBpJxTHbrg/5Fv/+ra/sFZGMfLrn6Dx5+38EFcvujw1yFMK0OBf3q+CLf8wWopfF9JG0bE/F0rW02hsO42+gB8dDTvjh9HmBuApy4JaUIM327uMw2z+LpzoDMEMiZ+O6CKCLzzlcKhFqH6zzayn78QnCOm/vDaPsY7vIEvZjLLG99DdF0BSq/datCjlueERkIku+MEv42CWzirhdhl9SdMjC2SjonUQt68cQ1WGAtmiq1sTZ3vRsMmB7PpuTLPDUr6Xka3uQH3HJUS0KCZCIYzadlKMKAAOZO97G+fD05i4egN/SFUWAONwFpPjiu6PaqTPRGF9B4YiC4hNDKJ/dAbajXZUOpwoajyN8ckAmoszzT63ZNSFpEQ3hpRl3b6A04FbmI8EcbgsK27VFq2/ZNQFieiKEG16hIbr6HXvgip2qEQ+hYfQMTQNLRZGqP8a5hKIbmrsDVwyjYgT42fglnAR4tInIUAIEAKEwNogsAKiC2iRCzheJ/kNMh86tRD13WF2hBkD3hoUymG5XNtR/dZZIyLCsuqxVHixpbf/dBnrd0shzjKQW+xGz20efizch6P253v+HcPiF1nTEl1GSG4hcPQgSnNZXFDDdUHNfR5t+kl0FuFsCqHjh2zPy/BaD8OI/j2+CHDdNQ8nGZESdP9cBopMoFisWM9eZCkK1ILn8HxpNhKIrnlQk4cRs8SXZWHvvoX2UdnyygqRY9oqUHKaEIylKIu9Pn8ZbfuNeLR61Ad7emUzKttZdIMoxrpeQaEew9ceLzaGcG8TyliMXSUbxY1dPFyg3SJr79s2WXlZURZGTQ9fmCQ0IJOZdcHwGbxethmKYn0n0R2BuUCcwsFCHhf4wAHsdYqFOxvv4vF49bwq2zDKw4uZrgt6gXJsXxl7GZcdOPByBZxmCDlDVvqfECAECAFCYG0QWBHRXRtRKFdCgBB4dBDgrgvOQ+iZMU+VPjrVo5oQAoQAIUAIPBQIrDvR1SKj6DcjFbD4t7a/wYn4jy48FBCSkIQAIWAgMIPR/kFMsIgII11wF7uQVfPRsuNnE4qEACFACBAChMBqI7DuRNfYNpSiFNhDB7FT5atdS8qPECAE1h6B6O/QlC9ceaSfLF77kqkEQoAQIAQIAUIgKQLrTnSTSkFfEgKEACFACBAChAAhQAgQAquMABHdVQaUsiMECAFCgBAgBAgBQoAQ2BgIENHdGO1AUhAChAAhQAgQAoQAIUAIrDICRHRXGVDKjhAgBAgBQoAQIAQIAUJgYyBARHdjtANJQQgQAoQAIUAIEAKEACGwyggQ0V1lQCk7QoAQIAQIAUKAECAECIGNgQAR3Y3RDiQFIUAIEAKEACFACBAChMAqI0BEd5UBpewIAUKAECAECAFCgBAgBDYGAkR0N0Y7kBSEACFACBAChAAhQAgQAquMABHdVQaUsiMECAFCgBAgBAgBQoAQ2BgIENFdbjvMDaP7qAfHg3eWm2KV35vBcPe7OHw8iMgq50zZrTcCo2gvd0HJeAm+6cV44QsX0JLvgOJyIxCLf51wFQvA7VLgcgeQ7rWEdA/FF1EMeZ+Fmv099MjYbHjZYxhrr4KiVKF9bC1ahesM/UT6htcEEpAQIAQ2FgJEdJfbHmPtKFdcKG8fXW6KVX6PJrpVBvQBZsfbUimCOzBtyqENe1GiKBuO6C6OnsKr5U/DHViPJdYCbvvfxP4DJzA0r5nYbPwLIrobv41IQkKAEHgcESCiu9xWJ6K7XKTovaUQEJZbJQPbPBdh2HQXMNn5AhyM6C5lFVxni24s4IZLKVgnorsUeBv1ORHdjdoyJBchQAg83ggQ0V1u+xPRXS5S9N5SCOhE1YWCglyou1sxohsuJ9FTvxWZrkyoJtGdweC730aeyshvBvL2HcVAZAGQia42gvbKbKglHgzqFtAIBttqUcDSqNtRd/Iy5hLk0RAb+y1aqvKhMmKd2Qh/NHlZBsll5fM/3a1Cw9xgG2oKnFAUJwrrfoWhOVaJBUQG3kZFlgpFzceevSXIMOvCnh3FvrwMPU1BTStCrC6IIOAugLKjBvUVOVDKW9FncQFIUZY2hQHv8xwbJ7a19OOuXE8ZI/a9pf8aFnXn3gM4UMjrcOg0wtyArEX64d1nYKMWvIjW0BTYIwOLnXixvhxZer3mEO5xo9jF6luI8mefkBYpKeTW5XJix4t1qMjKMnaI5r5AW02R3hZq4cs4OTRj1ES7iZ5Xd8GlKFALn8azT2RAIdcFuZXpmhAgBAiBJRFYGdFduAjPdjZBiMmvBHXHLyDCJwrErsHnfha5+gRtvKPmNyMYFS+klyvRgmTbtl8YROtzhfoEYMiQgbyKZnSPRc2MtcgFHK8r4e/Yny8iEnwHdeVyHgoUxwvonGSTL5vVrqO76Tk+kapw5ebAZXFdiGKsuxkV+sTNtpt3odF3Le4zGQnCW1eOAjYJCpyUzajuvMVlZGTjUzRVbDXIhpKN4sYujMUERvb8c5DL8qKJjuP3EH/oZCcfB+r3wyl0bvEiPNvyUFVdCZdJDmMInzmBD4buYDr4BopVF3a3DkMzSdw5TAdexxZlGxr9k9Cg4e7AYWxzlKL5/Je46NkDh2M/2m/MW8GaH4R3dxYcpW586D+Hs4GriGgpyjIJnmTRvduPlm2bUNz8GcYuHkG5IxuV7SPQIr1oyHMir+YIunuPoTbPYRI/bbILddkuFDcHMHm9AzXZLpR4QpgXRFfJRLH7DMIxm2U0RVmLI63YrRbhoO86ZsMhBK5ycihqamLE/ZiTEF1F3YH6ttP4pOkZOJQStIRmAW0cvrqtUIvfQHByGB01W8xFhCD9avGP0RuOwqhTBvJqj6HXVl+kkFu0naLugrv3JmKYwUDLLjiK38D5sSA85dlwVLbjhraASd/LyFYKUNvajd7WOuSxcYT6v2hh+iQECAFCYFkIrIzoamEEP/gYPX0BBPpO49267VDVZ+EdYkTzLkZa90B1lKHxV93oCwTQ1/MR3jsRMC0mS0m2JNHlk1hGRQtO9/XB3/VzVOc5+AQBQBtFx/5cqAXfwc87e9HX/R4ayzZDLWpGcFa3zfCDI9tQ6z0FfyCAQKAXvlP9mNB55iyueCvhULej9sgp+Pu60dG8D7km0V3A7d7XUKjmoNx9Aj3nBAZPwzM4a1RPn1gzUFB7BD5/HwKBPvh9pxGcMA6qaLfPoLEwE1nlr+Nkjx/d776EQjWTT/4a5q8cxW6HE4W1b6PLfxY9Hc2oynWAJrqltOcheB7uQJVaAPdJL6rULajvmYQ21o4K9Rkc8f0CZcncBHQinIGMWh+mBYn74TG0Vm5Cdl0XJnW9nUbAXQSlxIthdj/ZiWpHNqo6bkigaJj1v4pNyna4A1PS99KlXFYC0dUQDbixWXkG3mHW32+hs3oz1Kr3ccn3EjKUUngGmQ15DoOeUk50o9wtoxKto4x0T8HfkA8lvwWhBW7RVffxQ1xWopu8rA6M6e4UQgZJdnEpMBIH9pIR3W0eDC4Chm8097/XMctEWetVfeEQ9Tcik5NgY1zKQgUj9VjEdMr6xlJg1IEwl0utaMcYa6NoH9ybM1HivQwN3H1FfR4d4Zvw1eZC4TKCtwn1f9HA9EkIEAKEwPIQWBnRteWtjbaizCSBswi1lEDJ2I+jV6b1LT/b60veLpfoxk+dizKNU+wLoRbkKzmo6bzJy9cwHzqMItOiap1MEwTiPpTOOh+mdAJh2/rUrqNj3yaoZUcxJCywMz2odzqQ33IBuk3YMrHaS4hhvKMaDrUC3iGxscy2rrfwyZ/Xx/ld+Ka4hRk2q7Y9S7p/eBDQdaMA7s8+g2dbJvJb+nGbkSZG/K6zQ4+S9dSsldT+nCw5cnOx2VGF1hGuQ9pVtJZlIrPBD31vQ39PRU5T0NBJPS9OQO0RH8xy2IVUVgLRncdoayV3d2CdgxPVnAZ4D5dK38t9bNoYE8xoEjwP3Zo9ZbgumM/kdF+nKKsJwTvMepyBrPI30Cvt5JjVWA7RFdZRqa8aY0ccf2NsM3ZirOMS76O62wfDYZlyR60RM4z889HgNxYdRhnb0fS5X4/AYbalrU3MetIFIUAIEAKEQFoEVkR0tchldP5EbOsL/714RAIt/CleLc42/ArLX8GRjwcwIQhhWnGMh9YJhX1nnXgtPop6EnmSmePWWmE94gVG/WjIFJO+/H6SUEDSxMdTW338pn2ozXBgS30bzunWYGYR/gDunU44qjsxyRIly8PMbMKw1mypR/s5lpb9nUWn+ynuPnHVCD8lJmI9nQ0DMy+6eOgQ0HWDWSMndAusWnEEH71ZAmd9D2b0Z4JoMfeWXnhqhQsO37rmJM5wiZEss5bvRb+0hyHjxNQklgK9FGUlEF2e3nTHEe5LtXA3FEgRI+Q+dicNmV3Gs4SyWPi1uD+wWvgKuuxkd4VEN2Hskfqx9ZkdxyT1TSb3nJXoGnnG28po0wK4/T5bCDnq/0JT6ZMQIAQIgXtBYAVE1/ApUx1Pov6Yse3f19GAQtOiy4uPjSP4aw9eKWc+qCqyKo5iUD+wsrR41gmFvW8b5O2TmMWaIoiuLZ6lTnTFpC9PSqmIrti+5PJKE55BYu2TE78X5FR+P6HKvD72iVC/Z3IPG0S3rBWjwqJsxyAhT/riYUFgIdiEHN0P966x/e3cidKSfMN/W98654vG+RA8JVm6z6t/ZABtLPYu0y+u/xnfbsQPSjLh2NeBcd2oaCVRyfGYQbBpu2R55W+lKisV0U0gyvZ85T62UouunQTba8TI+UeoY25LYoEpXrGPEZb+aBtPpGfLt+jy+po4yPVNI7dNrsSxjldgIYimHFWKlWyTWdSTPgkBQoAQIATSIrACoptkwJUmisTSFhAJ/BiFpttA4hv2bxYHPdhmed9Wpm2ysG4bxrBargsZNZ3c99FmodXdFDJQ1HIBtmM+8aqkxYS7KRQdRihprFDhivFi/HAcEd04tg/5lUFujIWY4ZvLFknc31TXbYPoWkmX1AdM/ffjhu4CI3zDub+sGckhGVAijNlTaAnFD3ClLCuB6Ao/0j1oHZHjHIh8hd9sFMPeZ2w+uuJZEh/dpISR+/aq9rLketktq/wZJ4q6lVx325fdqyQs2etyX9UXGk7uM6sh0UdXWNuXUd9kcpttxw/J8YWNfshQrhb3fTb9rbXL8JY4QT66FpDohhAgBAiBJRFYAdGNINi0E4pjN9wf9hrb7p1u7DQtulGM/PonaPx5Oz+E1YsuTw3ylAI0+Jf5q2L6iWUn1MKX8G73Zwj0vY+GQim0jn2ysFh0Y/dwGM1m9TXhmsdYx3eQpWxGWeN76O4LwGq1juALTzkcahGq32wz6+k78QlCEf5LV/LkaeYrLjTMffELlDmcKKj+Kdp9DEd2WK0DnSHDV08bO4n9WQ5klb2KtmQYiKzo86FDQCa65iEj/WCWzirhdhlEV9MjC2SjonUQt68cQ1WG1XVB91Gf7UXDJgey67sxzQ4zsZP6LJpAxyVEtCgmQiGM2nZSjGgBDmTvexvnw9OYuHoDf0hVFgBj4cnkuKJHFTHSZ6KwvgNDkQXEJgbRPzoD7UY7Kh1OFDWexvhkAM3FmcuPupCU6MZ4ZIMkZd2+gNOBW5iPBHG4LCtu1Ta1wSD9SnYNvL1ncLLhSajmGJWG6C4ZdUEQXfD6ZhqRJMbPwJ1Q30S5E9yuRHmFh9AxNA0tFkao/xrmMI8b7fvhUEvRHLyF8d4fo5hFsRE7RmY96YIQIAQIAUIgHQIrILqANXQX37JXC1HfHQYwjQFvDQrlsFqu7ah+6yyPaJBOHPFsAZHQe6jbyfx8ef5KFgobunGbvbIU0WUWnLThxeRtxiSuC6wMbQqh44dQmsvifhoyqLlleK2H1ZHJcAuBowdtz59Hm34S3WYlMlLY/o8iHHgH9aV5PLwYi3u6BXvarpg/IBAJ/bvteS6KX+sxMLDlRrcPCwJc98xDTEakBGF5tOg2ixXr2YssFke14Dk8X5oN2XXBOIw5g1AL8+3mYcQs8WVZ2LtvoX1UtrwynOSYtgqUnCYEYynKYq/PX0bbfiOurB71wZ5e2YzKdhalIIqxrldQqMfwtceVjSHc24QyFmPXEkrPbpG1902brLysKAujpocvVOEq/iF8dh9dsDi2R42Yvqy8Q9/FXqc4R5CG6LKuHz6D18s2Q1GseSe6Gcj13YEDL1fAaYaGSy63CC8WP0jLxqp43F69zMo2w2Updg1dB3fw+Lo1eHkvizPcjjHWJvSPECAECAFCYFkIrIjoLitneokQIAQeYwS464LzEHpmTEfzxxgPqjohQAgQehNobgAAIABJREFUAoTAg0Bg3YmuFhlFvxmpQEQckD4HJ+I/uvAgEKEyCQFCYIUIzGC0fxATLCLCSBfcxS5k1Xy07PjZKyyUkhEChAAhQAgQAikRWHeia2z/CXeEJJ+0NZeysegBIbChEYj+Dk35wtVH+sniDS00CUcIEAKEACHwKCOw7kT3UQaT6kYIEAKEACFACBAChAAhsHEQIKK7cdqCJCEECAFCgBAgBAgBQoAQWEUEiOiuIpiUFSFACBAChAAhQAgQAoTAxkGAiO7GaQuShBAgBAgBQoAQIAQIAUJgFREgoruKYFJWhAAhQAgQAoQAIUAIEAIbBwEiuhunLUgSQoAQIAQIAUKAECAECIFVRICI7iqCSVkRAoQAIUAIEAKEACFACGwcBIjobpy2IEkIAUKAECAECAFCgBAgBFYRASK6qwgmZUUIEAKEACFACBAChAAhsHEQIKK7cdqCJCEECAFCgBAgBAgBQoAQWEUEiOiuIpiUFSGwLATCHahS4z9/reY9h6bu64gtKzG9lByBKIa8z0LN/h56pheTv/LAv30YZHzgIK1MgLF2lCsulLePriy9mSqGsfYqKEoV2scelR45ivZyF5TydozhUayf2Xh0QQgkRYCIblJYVunL2AQGz3bDPzyzShmudjbTCDY9CVUthrvv9mpnTvmlQsCclEcQC3+OozVPQHHsR/uN+VQpHsLvoxjtcqO88EcIrAtfWMBt/5vYf+AEhua1B4PX4gi6Xq1AoTvAFy12DDaAjA8GmbUv1exTDwPRtevFWsNDRHetEab8NzYCRHTXsn1WbfBdKyG/Qk99PhRlC2p942tVCOVrR8CmF4uDHmxTNqO685b9zYf4PoKAuwCKy71ORHcDQBULwO1S4DKJ7mOIwYNqBlufWrkY62HxXG+9IKK7cn2glI8CAkR017IVV23wXUMhYxO4dGmCts3XEOKErO16YbnXMDfYhpoCJxTFicK6X2FoTgN0EuXEjhdfxr68DChKDiqOnME5z15kKQrUvGq8OxjhRS0gMnCUv+dEQU0rQpFZDHufgaI+j47wAoA5DHpKoTgPoWdGA+a+QFtNEVSWV+HLODmUbBdCQ2zst2ipytffUzIb4Z++iHf3bDXu1Xzs8/YjovGJXIm7ZxjkL4LBtloUMLcNdTvqTl7GnC4xk/dtVGSpUNR87NlbggyxdaxNYcD7PPL0NEWoab2ACDPYmnjUoSIrC+Xtw7Yt5+RlaZF+ePdx+dVdaBlIVk/RYjKOCtRthzFwlxWeJG9OchWpzvZrl9uPUXNbfM6Q11mBlw/s4Lg3ojvMzd+s3mbbPoO9u7JhbD0L2fjn3WT4A9B1Kgd7X65BoY7dDhzqvglNuwxviRNqVQfCLAt+76zvgQWJBHyZpTRJvcHbesd38IqOq4qsirdx7pzHbM99717k7QzI+KsFL6I1NJUo0+JFeLZlwJApRX9gooc/xavF2UY/Kd+NJxJcF6JpdD6CwXe/beiVkoG8fUcxEGH9wkp0YwE3XEoB3AHWt6zPkuNhraOSoGMp+kYqPbc0t0FYnXsP4EAhHx8OnUbY7A/SIssyphDRtcBIN48dAisjupEgvHXlKHCpiA/mskUqirHuZlToE7ICxbULjb5rnEyF0V1faEyMihMFe/ehlE1wbOL2sEmStcECIqH3ULeTDWJsUtyKiqZPMRZjD+9ipHUPVKUUnkFjmtRbbaYH9U4Vmxp6Mcu+iF1Hd9NzfCBT4Sr+IXxj0XtoYCbDCTSU80lcn8A2o7L9KgwRL8KznQ02fDJ3laDuOJ+ExeAvnkmfcWsPIw2foqlC5J+N4sYuXsckGLA81FwUv9YDw8kgHUYs/SIiwXdQV14Il1S+4ngBnZMLMAZwQURS+LYthWHsGnzuZ5Er+5vmNyMY1RG6B6wfs1ctk5CGWf+r2KSUoCU0C9ztR8u2TShu/gxjF4+g3JGNyvYRaIJIZT2Hlq7TaK0tgKIwUvEmunqPoTbPAUd1JyYZAZjsQl22C8XNAUxe70BNtgslnhDmQi3IV/LR4J8CcAud1Zt5mhkMtOyCo/gNnB8LwlOeDUdlO27Ym3F+EN7dWXCUuvGh/xzOBq4iot3EmeOnMBT5CsHmUqjqHrSO3NVJkdWiq+HuwGFsc5Si+fyXuOjZA4dw14j0oiHPibyaI+jmdTF8JKOY9L2MbLUUzcGbuN7xIrLVp+EZnOVEl/WJXXD33kTMRkKSlzVjjB1bvg/f+DTC/UFcZYuIVP+0YbTuzsaWg10Yn72F/sCXmEOaevA2ivdxu+VOJkqc6LLFTP176P2kCWUOB/JbLmCB9V3/D5CnPIEarw+9rXXIY31Y97G0CZsKf13H2KLlINp6P0RTWRaU/BaEFmYRaimJL3CmfajNyEZVxw1rxkLfTHxT1fu2Ybln43dLZ1xWWU/5mANtHL66rVCL30BwchgdNVuglngwOM9lYgsnNnZMdqLaweeTVP2B56Xk1aG1t5v3h8RxbCGlzscQPnMCHwzdwXTwDRSrLuxuHYZm06N0RHflOmbXi4XUem5pFU5Y1R2obzuNT5qegUOMG3bds4wxRHQtMNLNY4fAyoiu3okyUFB7BD5/HwKBPvh9pxGcYNaIBdzufQ2Fag7K3SfQc+403q3bDlVMUOCr0movzn7agnKHC6VNH6HXW4NsPklqYyexPysTBdX/ik7/WXS3vYqyrEwUNX2uk1hjq9eJEu9lg3RCQzTgxmZlC+p7JgFtAr2NO6FmVcB9shvnut9BXaGTD6ppJjaz+ZkV4SgqshzIKmvAu129CAQ+Q89H78N3iVvNtDCCH3yMnr4AAn2ijs/CO8TI9AIioxcQ6HRjp+LETvcHCAQC+l//aESXWbt9Bo2Fmcgqfx0ne/zofvclFKqZOiFhnpoGBg7+/DME/P+O+oIMiMluKYzi1odtqPWegl8vvxe+U/2Y0JjVYRT97DtdxsQJYmkM+YLDUYbGX3WjLxBAX89HeO9EwLAwmFjSRQIC5iR0FZHhU3CXZiOrslX3LTX0+Bl4h5keGWRUt77xiUxYuaL+RmQKfcckeuq3QMlpQnBhAZOdL8ChVKJ1lGnSFPwN+QbJmWaLQd5vFoJoysk0+lC0D+7N/Bo8vWn5FdILQr4d7gAjyon/jH6Zi1rfRBKiO42AuwhKiRfDrAvqZIYRrFFM+15Chrlw5ZZm3aJ7XSfjSlkrRlmaqB8NmZwMcjzUinaM6V1aJpGTKcr6wiBlQobEKli/0cuQxxn2OFU9bpjk+96ILl+wc8uq0b8n4KvNhbLNg0F2ro5bOEXftwoZv7Pgz8fobZ6LWAS3bOqYzmOm5xCcHG8jjc1owLJMwDdVvTmmYmdAbyPFtMYaZW1HU3CGt3kmylqZsUCDocNsgTfDZTL0fiHYhBzFuE7ZH3SCngGjfoBRjyTjmG4ASaLzcdhMfDNqfZheNtG9Hx2zE12jnyfVc1lOPncKvdCGvSgRVmzeXqbumWMMs8QT0bXASDePHQL3QXSTDCoMPu06OvZtglp2FEO6BRaAPtgIa4XR6fQOqXdOno/eMdkW0bhhcch4Ubc8Gi0yg1DLUxDWSDHwq7tbMaJPchEEm3ZCyXgJvulFaOMd2Odwocw7yK3IGh9IudVsyWbmE82WH8I/zbazlv6njbaiTAw64nXLYCO+ZJ8xjHdUw6FWwDskrNKcrMhWFwsG8mDFLSCW5zaMbAO2XLrlOoWMS2MoZNiPo1em+YLDkjPdpEJAx1xY0xXpINo8RlsrobsE6FZxPiEyAhu1+n9aLU3yxMnbxfSN5XnqVrVhtFdkgU3oU7q+FsEdmIahu8LSyzgO267l5MSsAyegvI+ZX8sXFl2SZWLjwlW0lmUis8EPfV9F7/sqcpp6EWIuFMKaJ+vttfNoyXfEfV55Hrrl2j6xy+nGLqUo63Pc0S2lOShvPiPtnsiVkK8n4W8ogpJViebeG8ZYkrIeQSwkyGTDwCKjsOiK0/1S/+bE1sTKQlRk+WzXMv7ytaXcmGQxvWEsikzspfzsdUlZ726clX2xbelkPTWsq8INAFzvDMutNtaOCpUtkm4YfWCzG4Ho3ZT94fN+eXdCuGokmZO0kaQ6L9U0LRGU5Y8bD1ib3Y+O2fRi4UJqPbcIKukI+15uYxvulmcW/ZEXhOtyStRSA7ohBB4EAqtPdPWVtgNb6ttwjlsxA4EP4N7p5NukSxHdkBEKRVhxdFTE6l9MvnzSdVSjYzwG3D2Ppq0Z3G1hkVuIilDfziyxhiXVsFzK7hVp4NatXWp8Uk7yqha5jM6fCNcIQVpsA608EFnyEES6Hu3nuHyBs+h0CzI/io6qbJgrfD2tPMjx67QYLXNASyrj8jCM+8hlIK/8FRz5eAATYnFjqS/dWBAwMb+KyNAJ1OZlILu+G9OpXF4YaZ1bLtG1TaIWkhMx/HLz38DZ04fg5KTVmMyFDovPOCExZLfnK2oUxZj/bdQKNyNzsWd7n0/EpqsPd6dxuX3wy0RJlnfUbzvcJfUB+8SeJF1iWQHETN9XJwoPnlqS7DKfUk9FDhR1Bw52XUMsZT0C5jPTqiba01x0yH0yDdFNqJtUbwG7+ZkCf1PHmEVPLjfG/XIzkdN0BoGm7abLi5klu7DLkLLetvazpZOJonytlyXLqJP7TOS3nMbp+i36Yixdf/D7Zd9ZG+mzVITPFTadB3NSGOuFp7Yk7tqVJPyWVWYJR66bK9Ox5H0jrjep2tv2vYyfDXciuhYloJvHHIHVJ7p65xOTpe1TH0iMzpraosuJrsUfTRDd+OS7OOTFk+om7Ou4htnA69iiiC1VMRjZytYnVhsRTdX4fNCIW1TsLxo+jarjSdQfM9wC+joaUGhO8vx9eSCyZMEHLNl31rxm1oJhKe6hSCgPcvK1eG7HSOAgLEbiPdtnUhlF2mVgGBtH8NcevKL7MjOf0aMYTOf3aCv+sby1YC5bStn2cIpIBbaJzDoByxNnOovuguHio1ag4ZVdENv+1rxStcgMgk3bJcsre0/D/KAHJSrzJe3FyOB7UixTWaYkxMksxp6v0L0qtK/UoptAkM3C+EUUY50vI2+5kS5io+isKzB2lMbP2si3lLetjdhhJWt7SnUbS0N0Exbayfo7KzcN/hYdk8tlVjyuI2Xfh3tvjrn9L9UkJdGNkzHxtq2ONgxk3Upn0RUuIepzh/BKSQ4qmF96An6iTMBwb4jPB1ZiF3+PYaS7P9h0HvMheEqydL9w/8gA2lLEmZXltywY7kvHbJiRRVduMLomBFYdgdUnurqbQgaKWi4geVRQY9BOGDD1gZkNXMtwXWAwsC2pSnZopgXHvl8ApegwQnr8TOGm8JTu+7UyxITFNZXrQpKJxzKx8FL174RPmiwJd1MwZZafsWvuDyf83vTHcpnCbSCNe4fdimMvQtwnkxsrwXABkcCPUbhc8iDKfxw/LZiLBQpzq4kYW8nmgS4JnDQEwkqohI+u8POVfHSZF46+4+KEy5UZJzi6v6w4jCOVabkU+cr9ykaqLfWyTebC39h0NxKZi3yFvLI/KffRFT61SXx04+OITOaMdHHXJlGW9GnDU3qS9DJOeC7rfsNJ807I046BLGMaosuxMv2ZLf67snhp8Le0hVwuI7pix4YtZA33FTlX/TqhLtxfPKH9bHW0pYvjFuEuE8LnWdZ7dnyYy5TpgksVPsPCX1wccJSk1HVW5AVY/FWl1/TLJDpvJd3y2GrFyiDU/OwHuBuQ5D+eVA9E+TYsxNfW/sq+5T66yfQ8nsjmYmGzYvPFkYieYXWlS10/S/Z0Qwg8ogisPtFFBF94yuFQi1D9Zhs/rNYL34lPEIqwkxVGp4tPUBxZfWA2VuhLH7RiafhJVd0Syk+mi0aaG4CnLAtqQQ3ebO8yDmL5u3CiMwQRgEm8mvxTw9zAWyhWVWSVvQLvRz3o0w/cncA7PaPsTLThE+zYDfeH3D0i2aEuvlI3Tqn3oa+nA8f09BrmvvgFyhxOFFT/FO0+lgc70NeBzhA76KNhNtiMIpWFl3oH3X2foaejGVW5DogDKUtjZB2wk9eTwWj4h2VUtOB0Xy+6jn+IftZOS2IYxcivf4LGn7ebbdzlqUGeUoAG/52UxdED2wTFWlv3l+W+inrEhEwU1ndgKLKA2MQg+kdnEixsFgJhs3ylirqgLzwFaTIPsjEB+Gn4wkPoGJqGFgsj1H/NDAkl2szI14HsfW/jfHgaE1eHMfDuHqiOKrR+OY4rR/cjw9zVEO5FVWgdYX7o4mT5DtR3XEJEi2IiFMLonAbtRjsqHU4UNZ7G+GQAzcWZ/Jeplo66EB9HZH0X6exlxXC7/7cIhGcRufAzlDnYjtB1aIuX4H0yE459HRjXff55jbWv0H86iPD8HVw4/CwcuqtUqrw181CTo+I4RnQXHjsGsozpiO48brTvh0MtRmP3NUzqUQGSRV0QB0KT4J+W6LLDrswnlvmHG1FYRBubnwkkLVX7/cFqtbals+ip0LOEqAsG6AZZVeIRIZhqpuoP3NBhRHC4jl73Lqim7pm1MC6S6Lw20ordajYqWgdx+8oxVGUIfOU2Ev7MKrKrj6DXfwINO+26uUwds4hk1wuBbZLoIpZ0MmG1jyOcLGfXwNt7BicbnpTwkNPZ6mfJn24IgUcTgTUgumyb8hYCRw+iNJfF+zS2v9Xc59GmnyRfmujqUQtShheTGmL+AlqKMqBseR2BWcsMhVi4D0frd0uhrzKQu+ffMbzsXweNIhx4B/WleTwUGqtHFrY19emRH7TIBRyvk/y7WD3VQtR369EpuZAxTPT9DFUizJqShcKGbh4eLEn+6hbsabsCXURtGkO/bkSxCOGmZsKVqUIQ3aUxWu6AFkO4x22Wo+buw7t62DZtCQynMeCtQaGQj9XftR3Vb53VozpIrUSXdgQsJCS+2DCsMdbYrYrCQ9qlIxA2osu2WMO9TSjTw/bZw9ZxK6CN4MjxTVnYMldlmxHpwCK7TTZ2SO4O92FloQK/tR+lGcI9SMP8UBv267rPIzHIsUJ1ffkW2kdZKLIoxrpe4fFeC1H+7BPxn2DVbqH39Wf0WMGWMIU2PCzbyuynW5OWNamHUWOxghVFwkW3+HHSK9dXD23FQwjKIRKT5s3qMYuhtu8YIQ11/+cFGwY3pVi/6YguG0OvoeugiK/7NJ59Ih5xRRbR9CG242/RsSRjAT/wJtxX5Dz16wR8GeuUYhqb7ceiD0juNrZ0FqLLsgifwetlm/XQeAkhH4VhgIfJM2Sy6ZzoD7qP7SkcFPFkDxzAXqfQPXttkug8q4uIU1zwHJ4vFXGK7VhFMOitMvXvUH0FnMliPEt4sFB9CTpmESlZ30ih55Z0MmG1E10RKYiF6sxG8aHvSnjI6ez1sxRAN4TAI4nAyojuIwnFBq8Ut0oYIXA2uKwkHiGwYgS464LFbWfFmS0jIffhtEQwWUay9XyF932xLb0qRc/2omFTFo8duyo5UiaEACFACGxIBB4/oqtFMNovIh0k+7y0ISIHLI6exttHP+BxervR0bwPuUoeajrHKJTXhuxKJNTKEZjBaP8gJmILiIx0wV3sQlbNR+sUj5m5IZVgi/uc8UMzK6/E6qacu4b+UBgxLYIRnxvF6mr2/TmMtFZxVwwKMbW6DUe5EQKEwEZD4PEjunxrTbhUJH4uEaVgXVpQQzTYgu0WtwD5l9fWRQgqhBBYHwSiv0NTvnBzkn+OdT2Kv4upO7MbbPHI+n8z8sUvDpo/rbwaeEQR7vtXVEg/wLMauVIehAAhQAhsVAQeP6K7UVuC5CIECAFCYM0RmELAXbKsGMJrLgoVQAgQAoTAOiBARHcdQKYiCAFCgBDYGAhoiE1NYUY+u7sxBCMpCAFCgBBYEwSI6K4JrJQpIUAIEAKEACFACBAChMCDRoCI7oNuASqfECAECAFCgBAgBAgBQmBNECCiuyawUqaEACFACBAChAAhQAgQAg8aASK6/z977//TxpXuj88fML/4R/9gCcmyxA+Roijih1Sogh+IEkWCqhFCaSoEUSOIeiPYWxXaVUmuWpLVrnt3F3S7dO+udRt/0sTpwie7oV9oCptCVnYSvFujYKUkgRQ3oQFKEq7h4mAyr7fOmXPGZ8YztkOAkOQgJR57Zs55ntfznOc855nnPPO0JSD7lwhIBCQCEgGJgERAIiARWBcEpKO7LrDKRiUCEgGJgERAIiARkAhIBJ42AtLRfdoSkP1LBCQCEgGJgERAIiARkAisCwLS0V0XWGWjEgGJgERAIiARkAhIBCQCTxsB6eg+bQnI/iUCEgGJgERAIiARkAhIBNYFAenorgusT6PRBUwMnsbHZ2JIPo3uZZ+FIzDTiwb+eldFgVryBjoGbyNdeAvyymcegTSmehqgKJvgleNTPahVvKjtSVhQTWE8+DrU4v/A0Pwjyzn+NYGeWi+U2h5M8Z8K+XTss5CbX6BrHl1H8BUvitsGMf8kbK853quU+5PwIO+VCKwSAenorhK4zXfbUzI86VmMXRpEZGJh80FCKFr8JzoqPFDLf4vhpNNkvcGkG5POJNIz/8TJ5pehuA6h587yBhPybHb3KHEex2tfgz/6LC/pngVHdwX3In/AoXfOYnzZ6VVqq7Q7xhiwOtdrr5PPtL5os4h0voV3em7gcaxDFs9rjndhcs+iY+3FK1uUCORFQDq6eSF6Vi4ozPCsOTdrbkDXmML5QbQVq1B8v8TAvZU1bnyVzVkwezQWwE5lK5r67q6ywRfrtnTUD69SJh3dtRK7RR8fr9lV2p0n6vPxKHw+9OUJeV5zvAuT+4uI/eNJSl69EQhIR3cjUN6QPgozPGtOypob0LWmUEN6dhzXZ1Nr3fDq27NiZvquYWmsG81lHiiKB+Wtf8P4kgako/B7Pdj99ntoLHFDUbah7sRFXAkchI+mPzTh9BiPcK4gOXqSXedBWXMI8eQiJoL7oaiH0TtDHP4ljAWqoXiOYmhBA5a+R3dzBVTSVvl7ODduE6F/eA2nD7xEr1HUUjQGR5AkgT5K/zYcfK8Z5SQlQ92No4M/QdNuIFjlgdrQixmCFvvuaRtCVuvpOwh3HUIJTekoRXvkAR6OncIByitJ7ziM4OgD6BOnAkVh/7x+REnOhwP9WnIEgbptUBQ3Sg4cwF535hE9ORdsLNV5LnsbofgDEHb0Pvbg7bZaii3pKzcPqRzYJjF2+t8YX26UNJ7EaJLgL0Z07yPqL4PCeYF1LCcx1t2CMortLrSeu4ElAqdAv6LuRdeogCrD2kgpeHQNgZ0ebPUPg46EuT40uYpQE7oFjcrPjZdr61HpVTPyM9FIQNaQnvoHuhp0zJSiY4ikJvXUhZf3o6GyWNfZoxcwYxMA1ma+xXF+Te0+vCykS4i8qIIsTIPMSc/oRXY6v+KsL0bDCw7ySeoy2f0LfEB1RIWv7hNddnZjMcDGAmnXVhc1W33WwPtpRhvR06wUEFEXmM546vDeO7vZWD2GwRlz0pPtGEmQ9BQ7GROCHWyOgRE70H7C0PG98FIb8Rpef9nN6LXH0JaORQcbYu1LfpcIrCECq3N0kzEEW2tRRowin3BMEakUpgY7UccmKcW7F8cGfmQ5iDMYbCvXJ0vFg7KDjaj2kXa2oc4wFitIxj9D6x5iOMnE+RLqOr7FVFoDtAmE9nmh7AxgzHgSrWFh6Cg8ShnaI/d1eNK3MdjxBptgVHgrf42BqUKdHWZ8jImHT+Z8klzCWKjJxL85zzLf/YTEFKYGPkTNduK0sElbrURHjDsrZFL5Fh11zLFQilF5rF/HgHJoxXgbthN5ZBlKHQ7b/7UHiPccRy2XE6HD+yZ6Eg/p5StjAewycklVePf8EmeYMwBuoDntwqfXH2WyttIo6gGxrw8QP/NL7BH0SN1eg98MUbcIQA49oBTeRyz4HmrLfBkMFQWupj7MZdHnkAuZU0+IDAbgrylh+krk5EZpx790Z8EW1AJ+tDi2i5Hj2KJUoSu+CDwcQdfOLajsvIypaydQ6ypGfc8kNDq5KlB8b6Cr/wJCLWVQFDL5/gH94VNoKXExvgFtrh+txV5UdkYxd7sXzcVeVAXiWIp3oVTRnUjgLvqatrJ7FjDatReuyo/w3VQMgdpiuOp7cMfqrGg/4eKZ8xhP/oxYZzVU9QBCkw+Zo0sc5CPoDn+JjhoflNIuxFcWEe+qyjjT8wNocRejofeOBaRF3AzWw+XaB/+XYUQvfYeJ5Aq0mTDOfHEdyfkoOiuLoO4LYZL6/NaIrhP9c4i0V0Ap+XcEBzlmbAxr0xhofQlq5UeIzU2gt3kH1KoAxpY1wzlSK3+H8My9gnhYccQ2jZmLZ/HF+H3Mxz5CperFvtAEcRmFHN1cjq6Gh6MfY6erGp3f/YBrgQNw0TSXBUyGDkDd8T4GpucxMxLDLbIgMv4Y9tQZ1QDq2CpQqoKY0ACdXqZzVB/t5CfSmAaWxxDc54Or2o8vI1dwKXoLSY05YuputHVfwDcd++HiumzQQsa6jrdS0opQeJDpb35ZiE3oCyo7Op11njzu1x0upycATvJhNlzxoabjK1z5pgM1Lhd2+K9gkY9F1350fBNmPO+CP/oAgJMuwkGfeT9FqPRfxAyZ40x/No4uWQC3fYYwo6m06yqsz6qyeHaUMZxtjomOFcwNvIdipQwtoUGEQ60oITafzjdOGNpg72RDTH3JLxKBtUVgdY4uHTRulLWcwEBkGNHoMCIDFxCbJSvLFdwL/wbl6jbU+s9i6MoFnG7dBVV9DYGxRYBFKzxNQVz6tgu1Li+qO75CONiMYjZxalPncMhXhLKm/0Zf5BIGu4+jxleEio5/YpFHopT9CE5wx3UeUX9FZkLVZhE+tgeqrw7+c4O4MvgpWss9xkSWH8J8jio77z6ArguXEY18jUCTmGeZ735Amwxhn+pD9bFuDA1HER0eQt9nnyPKVufavYs4Vl4EX+2HODcUweAV5FdnAAAgAElEQVTpd1GuFlGHZRkalm+exD6XB+Utn6A/cglDvZ1o2O5C4Y5uEmPBBviUrahp/xT9RI7DQ/jqswu4ziZMbTaGL/qGMByNYphj+EoQ43SBsYJk4iqifX7sUTzY4/8C0WiU/htJJKHl1YNlTPX+Aj6F6cnwMCI9R1AmRnly6gGRIpsEyloRHAjr/Uf+jvOxGdo/pS96CX3+V+03/eTTE7aoclX/Cn8buoxo9DKG+npwNjpNI3/59cjhCsPRvYXkxHn4q4vhqw/RPMhU1I+thm7rziiNJrLJVY+GakhFjqFI2YG2oTkAcxhq2wFlWwdiKyuY63sLLqUeoQSZ5h8g0l6qO57zQ2jzeFAVvAFtJYaObUX6cWoY/q3sGOx+I/Jrz4OebrEdLQOzzNF1Y2fgGh6BRTfpJqtltgCtRmBsCfo9+rGp1cUw2re4dSfCdIJ/YdFn97sYmH+U7bg40X/9a7S4OV1g/TPnSoxoguOpO366k+BDHVlggC+i8/Cw4IAtZ4F80qiqG+6WAcwX7Ogy28YcVN1hJYuF7/WII/9d7IceP8L8wLtwUz14CF2vFCgUw2XM9B6GyqP5VB+ZXnD5UfmnBGd8GfqCjDt0vEM2Bhkd2kQQVYrNYoYuch5fFrwX+snmnWw9Sznr/IqNs2VqVPhikg+38brOAbMYaNmuj6MUebqiMDkCoLy5QB1OJ12kT1F4X6I+E/mWQVEb0TNljszqV9s5umwMWaP2vHk7595RxmmmG3w+FWyO0J7BPw8wMayy5hsThrmxN9kQU1/yi0RgbRF4AkeXRzctBGm30du4BWrNSYzz1SmdBJghYM4JjfrRyZu1QwciWXVP6xEU99vom+Pr1AXEu16F4nqL/qYPEB4ZISvS79DxksswPNp0LxpdXtQEx1hkkU9WLIJhITn7az5HNfu8HiFhEz+PJjpGhHlEZSsaTl7TH/+aiEhjurcJLrUOwXHykJL8MWfGFCn7JQYecIxEg8huyfXBjPOOY2HMW4MItvctIxGqz3YYqdxsdCGfHqxcRVepC+7mPszx/k1tsYhUDj0wHN2cUWxLVErgLa+ecBobTuEmfdws3Pwkh5RP4fG7sRGNYcyjcFyPiAPLJlceLTdHbER9ZLgZusfapGNnAj11PjpOHiRCqFEq4I/OQ6PHPNLLJ6dd6IgJj8Kt/IqyEo9NDlyaRRJJ/vEd3RkxeMs0mH/CM8vQzDsc6f/P4IfYaUSwzU9l9PGaifLpGOh50tb2decyNw/QJm2xzXBJjsQxKvKUI6Kr3UKopghF7RH9KQK1mSq2dfwT9yO/QglZKHZeFJ70ZHrUeSKLoSmaWuGub8ABD5HrNGIdu6DW9WCKjD1H+S0Jjm5ST3Vhi41MLyJP1rYyV5kj3ubrcski04L5HnPqx7w+Z9jqPE9fyMja1Kbpi8iLOKbIRcI4mr5EHV0+FsFkRJ8kFTSWcsneRFAOnSFOsUiv+b4sHXaU8f/pdt0Yl4xvumgW2mS20NBDx77NNGXRITRp1jvxhDyWCKwtAmvv6HIHqq0bV1iELxr9Av49HvaYVB8Izo5uXM/5qgkhwR0gI+LCJl+2anQ19mJa0/Aw1omXjLQFHsmoQFsPi/IROmjksdANP1YjZzWyT3qePMoT8p1K6vDBifOIG3mkLHqwow09V/QoaZRHJqnDcsumpI/ZwORTk5VYB7aJTkDWDStIjn+N3xupE9wxs6QAmAyo0Eg+PaAltliOIL/N1BbjJ5ceOBpb3iD5FCcVMWJSiJ6kMTPkZ3mLL6H2gxP4Oj7z5GXADD5vITl+Fi0lblY+iOmVkAZC01rIBL6kR5H45GqeQER9FI+t/DNnpfQjXLpwFB5ThJTLl3/aOQYpTEU+QQtPKeLRd4MfsoPegjeNOhVhW8dFRDt2GekVJgk5bS5L30Ek0Cqktui6Z+adO+acbv5ZhnZ/i3nTmkCntQ1x0s06VwAPRs6zBVs9rzWMQEsVzW2k8mSPezPlxXI4uvwxuUUnqB5oDzBKc7Q9KD9yPtvZpc6JF1XBb/Fl0w5UnfgCp2q2oib0d3TXbmEReKttE+UnOrpWGrkELXZHwJhfQbXQKmPhuiy8hXNiG6KMzHpmpU3kIZ39BMDUKElPspNPjnGUiJgdXcEOJSifXAf5JxtLtvpspd1EnMWZNfO1No4u69+iX5l8cUYP00Nuf8x9O2HIx6ZoSxxsiJVt+V0isIYIrL2jS40UH+CWT2rgC3R0TVE6/miRDxhW39HVhN7pnxH174Ky40NEF4lnzI2BpW86kG0ij7ZgWo2cdTJ40vO80xRmYl8g8EGdnkvsa0CQbihik4fV+NDvZLKfsFkMWCYc3oXDpz65ZKJ4WZfRXFEPXJVHcKqfLBgi6G3fU3hEN58e2E1mpt/s+LHqgd01Vk64Plgc9IL1REN6JobPA++zXOZtqAvG6WYga08FfzfxafMY04hMCS1aJhqzcyDqY66I7or+mFKtQ/sHe42InrktoU/ToYblsQCq1JfRHAxjcuyzTO1VEz9WvBk9Ne/Df3BbxrkS2rZfdC1iLPAaVJJfG7mJse5MzVkrvdbvvOmsdgU6c0URs9vLzwNxaGl6gAVbLMcRqPKhpPkEIpOj6DZqzoo4WZ0dQa8tcue8ZT5TmOp7DyWmPRL8rL5g9rR+gKPbdsIfnaKR3KK2dhzxCmNfwCVjP8l4ER3dB/RefQOaEYGwOGJWO8npAHRZcPttvi6XLDItmO8x0/kEEV1H+YhjilDB5EVSOqYsEV3m6JIUoymrQ28w4KTPVtkbN7ADQRc4DUbtZfGc+b4sHXaUcb7+Wbs01UmFraPriKHV0c1hQ8zky28SgTVFYO0dXZqm4EZF11WHun/64MwMGMYPHYjEEOZPXSB3aHd6UE826nzyCd7f4hH642kKr6IrnuPRa04YmfPBUiXopSZDYTWCViOc7/7szrXkZfjL3SzixdIUKj5G3LZ+JZt4TY/1nY1edm+ZvDLH1AUTv6QFcWIWIqP0OktkllyeTw9oLpsK0w58U592PJpTWMxRBVsunek2ci8fQ0+0e4j6K40UGqce8/5u4pM77yStJqk/3uebvMSGLA6PeSIT9ZHn6PKcOyFHl2S50Ei7B15vUcbppPmqQiqQ2K9xzOTBnXCRB/E4S0945JwsPPVUCaNJfkD7t9gM9qhUtxNm3TPzTrJ6SAUBG/rp7zz3lOxjJfmjbLFrOifKYNEmAlgAD4QXG2zNTpw4RkWemBPJc2bZo3A9/5HlTLKNeBwy06dFNzLnSB+NUIu88HpIrmma5e0qZh12lJ/o6PI8WOt4EXmy2sEMJbqMHl8WQgs5Uiw4bfY6n6UvQqPO8mFjistETB1jaUSG7RJT85x00VGf8zmaIr6izqxV6gLDzs7mCDjxzat8MyOvoEJ09Ee6EZMvYkR6rY5uDhti6kt+kQisLQJr7+giie8DtXCpFWj6QzfbrBbGwNlvEKcF+/WB4OzoJpF7MxoDgO/iJVFOI8eRnVsaRaDGB7WsGX/o6UeEpC5E+nG2L17gW8PYTmeVlHf6FIPDUQz3tqOcT5I8d5JP+qRb02SR737g0eQX+NWxP6GHbqIaRqT/z2gqcWNLexiLpNzL9/+DGpcHZU3/lblmoBd9cbKzFwwjF3w1x9E9eBnR4b+ivZyXe2E45PxIYrSrBirdjHYCX9HNVmEM9HRjKJEy8p71HdZkw6HDpi5mwPl1w0O9ODWUwKO8ejCPWMcrUNVdaD19AcPDg+jtbMR2A2POo9OmRMKc2ag6satPZltQ13Uew5HzONN7VdeDfHry6BY+/9Vv8GdDh9imwy3HEaFPD5x6zPO7SVd4jqmeVqNXTChCeVsvxpMrSM+OYSSxQGYM0+NS8+QtOrq5d6AbE5SxkS2zI14tP4re8Xlo6RnER360RK0f6rv8XQ0I/TCNmycPwc1lZeLHOhkTOfagjlTvEBeOIkR8LBe/icB3d7E4O4kf//c6ra7iqjuDH+7FcbJhq/E0Qc/pLUZd6KaeRsIrKFjpJ3mz9cVQK36Nwem7eqUITjO/x7HqAp+4dULz8kAu45uDBGz1TaeE1jHcu3kKDe7MTvVM6gJ31HagKXgBkXPHsIfgRZ9qsd3upKpB73UktRRm43EkltK4N/IPRGcWkbz6J9S4tqCx93bWJkld9zPVFnRnP/OdcucoP9HRTbNqHi4UN36C72bmMXvrTqbqAn8CZ2pLx47+z2VB8b6NsH8v1AJkIbRgsbFmPXOqNEK2Y2bpi9Cos3zYmFJ2oOnMNdyj1UuKsLNrBA/ZWFSKf4EzN2dwu/dtFPPyblyvsnRRrxaUrc/r4+hm8WySix12NjZHwInkKN/pOQSXWo3O2F1Mh3+HSqajd+jGajsdt2Kfw4aY+pJfJAJri8A6OLokiHYX0ZNHUC2UzlK3H0Y3rZKQ39HNX1aKgKBhOf4xKhRW8sWEC3ncPIyTbfuwnQxG+sjfje0H/oIJoySZ6YbsLzalrxRvJdpp6SuzY0FvNhkSQl526azM/RoWR0/iULlYFsuH8qYAhmnlCtJiCjPRT9FWLZS2UnfgQPdN6CyQ0lt/sZzfjsrfDOFeNjf2v9jIiZSC66BlciylvVgahVryPgZNL15IY3b4T2gwSpT5UN4+qNNg035GD0gd0Ov4vF2vy0hkpHq9KOKTH6XYQoNYZo6eL8zRFfOhSXmw7fs/xRjdw5dHTxavInhoZya3UlHhLW/GH4fXquoCeysUWyzoESKxHijR3a2o77lllBfjC8Rcji6Jvs+EO1BDy/ZZy9KxqIrF6RTrmJKyZd76biFHXlcfco1ek9aDsjcPoZrXpDXpvnkSpXeynHpj85PenOl/c/8kF38eydFPUEd4UCvw5uFX4eaPbJdvoPuQXstVr2BgqSlr0E9yB8/jSDmrSWyt3TpzER/WEAfaXH7QjC0jswAeABtsjTxaBWrZGzhcXQzdgbXgtBRHkNb7JbS0oO2gUFOVtBE8zEol8hKAc7QkHKl7rGSVHhSgFaON5Gf6CNqVqadLfnOUn9nRpXbZqM+ssCofljFoakugg9bgFWTxzjs46MmkkmkOshBbcKaTRDdz6LyNvhjtOsqH2XhXKfbsImUuhRrIzNF1le3GLlp3WKgpTUy/WN/Y0EUyru30eX0cXVh5NsnFonukjKMoV25zDJDYQfpH9B/h9Xub8R7XUUcMyR4+81h94GRDrH3J7xKBNURgdY7uGhIgm5IIcAT0aBOvXMF/lZ/PPAK0fJiP1Y99etzo+sVLsj0mHZuEh8ekWl6+agRsghm8LcvTFf6z/JQISAQ2JwIvnqOrJZEY4ZUM7D6vY5aXRducMstP1TPBYwqJv5/Cya9Ynd6hv6Kz4SUovhb0Wd70k59hecXmRWAJk6EGuOjGUSG3e0MI1rCUiNNqJlryFgbI4/JV6dfT5GFDgJKdZCEgHd0sSOQPEoFnFIEXz9Hl+VXsUbye1sDTG8indXf+MyjZZ4LHJGJdNea0ANOb155B3CXJFgRSmBn+b9QZL3uxnF73r0nEOiqNt9rx1wiLNQPyk/C0echPobxiPRCQju56oCrblAg8DQRePEf3aaAs+5QIvJAIPEDUX2Vf4/WZweN54OGZAVsSKhGQCEgE1hwB6eiuOaSyQYmAREBHQEP6wQMsPF4IdZOB9zzwsMkgleRIBCQCEoENREA6uhsItuxKIiARkAhIBCQCEgGJgERg4xCQju7GYS17kghIBCQCEgGJgERAIiAR2EAEpKO7gWDLriQCEgGJgERAIiARkAhIBDYOAenobhzWsieJgERAIiARkAhIBCQCEoENREA6uhsItuxKIiARkAhIBCQCEgGJgERg4xCQju7GYS17kghIBCQCEgGJgERAIiAR2EAEpKO7gWDLriQCEgGJgERAIiARkAhIBDYOAenobhzWsieJgERAIiARkAhIBCQCEoENREA6uhsItuxKIkARmOlFg5p57bRa8gY6Bm8jvVp4pnpQq3hR25NYbQvP9H2PxoN4RS1F29DP68/Ho+sIvuJFcdsg5u16K1QW+dqxa5v8Jra/2jac2i7kd7H/Qq5f82s0pKf6cayyGOT17UXtEaTWvA/ZoETgCRB46mMkH+1pTPU0QFEa0DO16lknXyeb6rx0dNdTHOlZjF0aRGRiYT17eYK25xHreAWqWgn/8L0naEfe+lgIGIZwEumZf+Jk88tQXIfQc2f5sZoxLjba2xyO7qPEeRyvfQ3+aNIgcT0PtHthdB76D/SML65nN3rb2iwinW/hnZ4bINLK4rVQWVjaKZhwsf3VtmFHd6EEiP0Xeo/NdVm42Vxj+5N2G72NW6BWfoRYcgkP7i9is794b9W82gIgf9xQBB5Nov94Hcr90cIDEWs0RtaOzxQS/X7Ulv8WUerXSkd37bCVLZmjL5sSj58x1FYKRdmBloHpTUnhc0mUxRA+Ggtgp7IVTX13V8eupb3VNbJ2d6WjfniVsg1zdNeO8sdvKYvX9ZbFGrWfRXehrD/t/tNR+L0KvI/jeBTK2zpdt2qs14ke2exjILAafVujMfIYVOa5NImovwyK1y8d3TxIydOrQWDTKbwNE+lZXL8+W/hq1aYJ+dNjImDVC9N3DUtj3Wgu80BRPChv/RvGlzSAGlwPdr/9HhpL3FCUbagLjCBJwlmm+xcwdvrfUEJTI9woaTyJ0eQKIzCFqfAf0UDv5499kxjrbkEZuV7dhdZzN7Bkx076DsJdh1i7pWiP3LHtR5/UM2kZunF14AmAlhxBoG4bFMWNkgMHsNedScEg54KNpVAVBWrZ2wjFH0ADM9q7m9FG7qvtwZSJfwBL36O7uUK/r/w9nBtfALQHGA0eZvR7sLNrBA8FPrWJIKqE9A998VEBf5QkKKxgru8tuJR6hBI30VPrpf0mqENv4TVB0kjceLm2HpVeFYq6G0cHf7KJOiaMdqagH3sOvoN3ypncj17ADAtVajPf4jh9VO9Bee0+vGzQKbYBIEtGD/Bw7BQOMHmrJYcRHH0Aexk54EZk5Ni/ACBWkBw9yXRTgbrzY4w+JAxk61fSDjfLE1Rb2TOng6Qs6P+sj15z4Wing0uYCO4XHuEuYSxQDWWrH9EUof0u+pq2QqkJIcFkYXC8Xlg/9nggpoEsLPfg7bZa+Bg2akMvZgix2g0EqzzwtA3B/FwxF1ZONoSPvV/gAzouVfjqPsGVKwHU+Yiul6Lx9LWM/VjFODTwNQ5Iqso/0NWg2wGl6BgiKSf6WKTSU4f33tnNxv8xDM4Q5crFr26HsmxNlr7ZLd5tbCq1R3Y2QLMdj1S16D3bcPC9ZpRTWyzaDTK2PjEwPnCwCm4j7cBOr0VlZTIzxgxZJEaQoKkLL6O2oRJeYl/LOU4E+OwxazsnGDLa/AerS11IxhBsrUUZMeQGgGJEKoWpwU7UMQOrePfi2MCPhjO1MnYab5T5MveqL6Gu41tMpbmAiMGpoYqqt1+MPa2fIU4n7BXcG3yfTVhkAqzH4eqtUBR90BmTevo2BjveYNep8Fb+GgNTj5PNtYJk/Czaa18S6NiK+p5b+qS1cg2BXWRSYkbXW4XWM1d1x4NPxvyc8JmJRJAB/C066nj7xag81i9gQPr/DK179Fw02o+6HZW/GYKeZGA5n4XhIyRjn6K1tpwqskGn6y30za1YJruMc2FS2XwYpn/EgP91bBfzTUs7EaOThKkl+UVEwOSYaViMHMcWpQpd8UXg4Qi6dm5BZedlTF07gVpXMep7JqFxo+vaj45vwvimYz9cyi74ow8sjm4aMxfP4ovx+5iPfYRK1Yt9oQlo0LB88yT2uXyo9p9DJHoZ0YkHSI1+jJ2uanR+9wOuBQ7AZZtCsYibwXq4XPvg/zKM6KXvMJFMOfTDJ15hUnDiCXOItFdAKfl3BAcvINRSBoU7cdo0Blpf0h9Rz02gt3kH1KoAxpa54S5Cpf8iZojNMOG5gNGuvXBVfoTvpmII1BbDVd+D2z+EsE+twJGB21iciSN6yzztY+UqukpdLOeTO7YeVAVvQMMi4l1VUEq7EF8xO5dZ0TpKC5k4jqA7/CU6anzsPlEByLHYDjtWd6Ot+wKTLdMHhoNS0opQeNCMkakNOxmtQJsJ48wX15Gcj6KzsgjqvhAm6brJGnW3x+3OI10O9v0LPGkTCO0rxo4j/ZhevIuR6A9YgoaHDvqVhZvQFBxlzxd8ThHdHDg66GA63oVShSzcHmQcW2U/ghMp6DrhQWnXVfClok7mOmGtrWY8aIYtVyt/h/DMPV1XPUcxtKAB8wNocRejofeOiHBG/+x0Dk42hI+9bajr6kM41IoSMrf53kBXPxu/bH4B7PXJfhzqKXSu8t9iOPnITOfyGIL7fHBV+/Fl5AouRW8hqTnRxx/Je1De9hnC33SgxuVi8suhG6vWNzubOg8thw1wGo+6DXOwG8kw2ks8KGk+gcHwKbSUuDKLMwe95p6UDiaTW1ZE1w4n5zFrFsyz9W11ji4VpBtlLScwEBlGNDqMyMAFxGbJymkF98K/Qbm6DbX+sxi6cgGnW3dBVV9DYEzPodON3BbUdZ3HcDSM/kAzShQ2oVP80piNfYO+ocuIRi9j8PS7KFeL8ErwOh6Br9qaELz0Dbpqi6FWd6A/fAJNxT59UtdmET62B6qvDv5zg7gy+Clayz1sojSrgL24yCrpJOp8Lvhq2nG6P0zpGPrqrxi4zvIOtRnEvvgaQ8NRRIc5j68jOE6c6RUkE1cR7fNjj+LBHv8XiEaj9N9IIkkdZe3eRRwrL4Kv9kOcG4oYPFYF4jT3T5s6h0Okf3r+MqKRv6CtzA0awSILdXq+CGVN/42+yCUMdh9Hja8IFR3/BEOZJZzvREvwPCK0/zAGzo9gViMr2ARGyG+URhtHNy+GDzEZOgDVVYNjfxvEcDSK4aGv8NnZqBGJssdW/ppxzG4hOXEe/upi+OpDGF/WkIr6sZVPtCyiRKMzzNF1twzom6DoBMaMuMnRE/B9dA2BnW7o99xHpL0Myo4PEV3kY2AeUX8FlKogJshPc31octlMiothtG9xY4f/CtMtoQ9yaOrH6ujm4Iny4MbOwDWQ6U2PojJdpLQUoSZEFpYaUpFjKKKLgWn9MZzamNlIIfKfGoZ/axFzUJnDqh7G/3/uGLwGrhb66ddZDLRsZ9E7houiMOzuoLehmEXFRAfVyiuPrnMHOaVHDNXD6J0xu0q2ju7OAMYeAaboci6MREc3n4zAopXudzEw/4g5R8JixAG33utfo8XtICMRRqqfnG9+wlm/cjq6jrJfJIDnSF1gssnCcdJ5XFF8mZ5RDEjwZjtaBmYBuml0B9qG5jhD+ufTwDoHJjqWPtSRBTE0LAwdhUepRmBsiY0p/djMhBNWljx/09hmDhN3olMRtBcpbFzwfnehI7YAOOiT/Ti8h2F/JbIdXR4EYAt6MwP6NxN93NFl/LJotj5n5uA3B7a59c3OphZqA8zjUZ8T+DhjdoNGbR9ifuBduJk8wccxi+g6zhcmrJwcXbagYzjpTwGcx6ypyWfsyxM4ujbOEWGebxaoOYlxHqFdGEKbh6+sbCYHFk0xJnEriNothGqKoCssU2a6OmECJI8vmdGnEdPpXjS6vKgJjrEoMh+ELEpibT/rO5v0dvwakXnrBJV1Mf1BS4RQw6NR/BJxAua/0c80pnub4FLrEBznDwXmMNS2g0V/WATJ/TaNvuq3ihOs3fkFxLtehWKsqPmgtz7eMxFiiYZlzml5MeQ0HMLJm/M2j2YzbckjCwJUL/jjV0XYiLaMRKge+uM54nky/d7WgVjKMsGzMeFq6sOco54JOmOaEBg9rA1j5zp1IlRs64iZIli6A8omfwsr+lehH/IE3ZSj68zTv+IkN5lH0/gEoduVFRppyzhi+vgiT41uWPLNzPfp12Xa1GnZhY7BPrSXuOGr/Qhh2yc7jE4yiSfHEKzagfqGffBQ7GPo2FbMHIlcvJppAV+UG48ZRfDEdsRjcxs6Dhl+Mosk4pBk7rtN87xzychsD8wyApxw+zBwXIh4mmkTuQGPzvvq0Rm+o9vdHPpFJminPG5n2d8tzNGl84FI603ncZXW5xbyaD9J0lfcNWg4sJ2OgVSsA9vEBRVjOP94WB3W/xn8cBXj4a5lvPEFKxkrd/SUG/q4ny9uudQyujNFfirEhnB7xCODlkWHqFNO+pR/HHL6yKfFGRRPGcciH2bcxfHB/QMeKBL5XbW+2dlUQpcJSytNnHDL7473JPV0GkOG4n3/56zXJrfFydHlvoGAYY4xa2qSs/GMfK69o8siTTvaunGFRTGj0S/g3+MBnZSzJkKClAA0+arNY7zv95nUB/7onxowJmhHR/cy5ugKqAJtPSQSq0dS9cilmF6RQ0IrZGJTc5au0ZI30Pd7nhrBnRaL829SXrE/7ki3oecKoy96CX1+7qgmaATJnBsmYsSOTbljPOrFVtQ5J1mBFlsaH7FVZG4MM7l7bpTUfoATX49ili9uhC7koQUBA/NbSI6fRUuJm5WrYgaJ6zv/JLq+ZHF0xTFjtEecH5ISE0agpSqTskLGjWVSohSx34y0FtZfJr1Gp1ucwDKcOPSTNb6deYpELM6OwEdWn8a5eE5HV7+Pj0f+SRzmB0aem1r+AfptnF19wtuP4JWzaHLtx4mB/0ENycuNnEKtEVERx6HVqS90kiMoiu2Ix+Y2nHEwO7p6vnBmYWDIKX0HkUAr9hhpZvrkZm3XCbd2f4vZITXkYIn8Ec3j+aXqbhzp/xHpHPq1lMPRtdJmchzs9Nhg1glHpjN8PPFPOoewBXvV/+DKl2/BVfUnDJyqh1ITRKS7AQqLDhtdZOm3cGYdsc6FSdY5GqErwraOi4h27DLmXYFSi/6Zdc7RhjyGo+ukT4WMwwydVgeNn3GyPaITmMnLNUV0sxZBieyFgqjjufTN6Zx4v3UedtARk3CDXT4AACAASURBVI6b7rlvsXcij+wc12f+yRciHC6r3EztW3DKMWbJlc/q39o7ulTIfIKxfDIlyxqYJqPPckRULyrbTqKfpEYM/xXt5fyxfT5HlydaW/qmSmBxRJ2kxoRtRLqyrtPzj1TXK2g7pacFDPe2o7zgiC4zyFwxTZ9kIpoQNqrwzkUjLh7z89zR5ZOdOCByqKhpUPK2+L0FYJieRuzzAD6gucwkT/okxsjmKfnnjIAJczFqQR4bibtjhSayjKquA/Rxk9jechyBKh/N54pMjqKbbZyaslu8ZbUp9CccrpDIlhh5Jeec+slyBJwmKyCrXYEP5yhL7ohutm0RGKGLgK/QWuKyn/zpIn0HWtvfwjayIWnxO3Rsexlt7b+A14iomMdeVn8CD2sS0aXY8zFtdUgytCTsZIRFjAVeg0pyoCM3MUYcNxZdttJt/c5R02Xk1D+/SvhMJ9DXWqY/WZq+5Jhm4NQfaclZ9quN6NosjgyS2aLe829oP7oTW/3DWCRYFjWj/cjLtsGOLL2lba0V1vbR+1yYZGPJnPea9+E/uM1IDTJYpgcZ3cmK6DqObctYttgPkQ7x2Nwv+UYc1Rzj0LhhAbGOXcITLnbCkT4+b9lEKk0+hnkc5cI2Z+qCnU0lJDragHnH8eh8zwMLBiKPVifYAM5yYJFbAY6uNdhhafCZ+7r2ji5NU3CjousqzTW1QyR7EIiDThQkd9BszmetWvRrvP4reEBzlF5FV9yy4cSOGNvfeMTVKXVBpIc1YFJu8TeeZyh2xNIUKj5GfNnOKWR5MjwXit4q9snTBsTUhrVMXeCpHo+D4QqS0d+h/EnKZIkQPc/HJl3hCxSSVpPUHzWqBxCaFGsCUO+ROg3G7mkxHUhoz2y0RZ1hO8hNOqf/xjcoOUJOc9jMY9q5H2uUk+fJ2vBE283kdZpyU03nRIxYjq44/gX+9TxjvgHPjiOr0Reu0SbRU1eMIm8RPDQXmtkBRREcYxFTK6+5Jjluy3h/YjvisaUNEw6W/F1x8raREd9gp09aZruaZYPp/Ta45eyf82L+zLR9g1YtsNOvzDU2tZZNfYqyLzBHNytqd8t5XBG3a6oHdaoHXi8pszjLNnCRRb7DE8CngXUOTLKx5E/kCA+8cohZRuYnCmadcx7blrGTw9F9onFokMo3hZrnIWf6zDpu5rHQMfY4+mZnU81Ymha7P35HN7zajUdnRzfFKr6wfFqI+bvsnN18YWBIDixyy+Xo8n0hbNOqqZln+MvaO7pI4vtALVxqBZr+0M02q4UxcPYbxNmOyuyBKSqhhoexTryk8N3h5NG+nvqQnaMrIq+3QZVoaRSBGh/Usmb8oadf34gV6cfZvjhszKrYCDvWsDT6R1SqKnw1HyD41RCG6Ya7s/h0KIFHSCLWsQcK34XutKmL5R7rO0aHMTzUi1P0fg1L3/8PalwelDX9F3oGSIoF2dDXi7442f2rYTHWiQqVlJf6FIPDlzHU24mG7S7wHKPCN6Px1a0Nm+Qnnh9d14ULw2H0n/kSI0ROeTFMYfLz3+PYn3sMGeubCsvQHrnv0Jn8mSIgOmZE2jS/W59Utbl+tBYXobytF+PJFaRnxzCSWDByE5XiX+DMzRnc7n0bxepedI0umCII2iSpLlCMutAY7t08hQa3Al1nVjA38B6KlRI0BqKYWZzFrR/v67+Rnde915HUUpiNx5GwRuT5zv/iNxH47i4WZyeRGD3p0A/fVEZouElzNR15Io5lfTHUil9jcPouYp3VUPlTEced0FajbZlY+H3lR9E7Pg8tPYP4yI/4v3tXcSF6F8vJGD6u8cHV2IvprDUmW0Aq3Pnmkwr/TqQn2qpsXp0nrFU6uhwj8oKEudsI+/dmMBJpsZHRj/97HaF9XrjqzuCHe3GcbCDVaXR7oOeZZmRkVDqw4LaUs39hPGs/Y+RCDDPL93H149fhcjWhdzrlqF9Z/QtNGbRQnsWKGwVWXchydBNw1EHSL7OBCt+syDcx8e8ibeR4vbF+rPHAqy4IUXfDeSf5/3qVHSsLVj0W9dbZhljGXi5H97HGIYvcbjmOiLFRVqdYl5sLxY2f4LuZeczeuoP/dbRxq3R0Oa12+sbycMkYmsxKy7OzqUlWdYE/PRZoujPmOB5F/E3O8VQa2p0e1Ls8qDh2AdNzevUUPo5z6rUhdPbU0NWA0CTZEyTQRN+MJto0xlO+OcFo+9k4WAdHl+B4F9GTR1C9ndT71B9/q9sPo5uUbMl6tEl+EYEmo/QB4md+KeSVkTbcKGm7gHtcSGJEh7YqOLrk0cjMME627RNKX7mx/cBfMGGpXkJvtf0vhZnop2irLhHKi/mws2OY7jzXkldxplXIgyR8quVoG6TVC1mLacwO/8moW6ooPpS3D7LyYDbtqztwoPsm3YFO85Q/P6bX4qRtF8FbpII7urSyg1h+LKu8mFWZbZmkSj8z5Df6Ubc34vQYGQz5MJzHaLAZ5UbunwLFuwtNf7xEqzo49SZ/tzhmBBA20erRWnM9UhJVoiXt2KTiKtuNXbQ+aykagzZ1dEm92MBBWk9TLXsDh6uLYeiMqZYs23Rm+o3I8E30JCzRZKINQk1bRSF54Led+1m+ge5Det1LfYOpA0/0EeZ5HOG1Y001Ykn91ov4sEYvHZgpD2iZbAl+1oWDiVYV3vpu3Lj6MXbSMni5Sg3yJxmZTav6Y2oxKmaxVVZeTbTkGoNiO+KxlR/ymFfA6J13cNDDJ1HzfdkymjfykhW1Am8efjVTf9NKd5aMddwSWq7+hdFMyxyxcotiOUkn/bLpX2jNQfZ08nBMh8iaR0yycNJB0qu4EZh8Z46XUU9XpEw/3hCsCxoPNk8VCInMQVPrejCVtaAjF5h1xzSGHG2IZezlcnQd9Ml2HLInKVvawzZVXSxyI5tD0042zjreRB7FY+sYc7I1BKdFjHf/Qi9TyiqW6BrA/jfpN7OpJr0TaUo5j0fHe8gCOYWp/g9Yfd1y1L7+srFgpX6AUL/amC/MRGJ5vBuHaLlXsmH1J8srgC3YmHhynhNMXWzyL6tzdDc5U88leSzK4FiZ4rlkWjJlIGCZVIzfn6MDPXXBppzTc8SjZEUiUCgCTzQeaAk0Vm6z0A6f1nU0Nz5HCbGnRdem7Jc9ZTKlNW5KQjcVUS+eo6slkRjhlQ7sPq9visoBjxIX8MnJL1id3kH0djZiu1KC5r4pWcprUw2hDSLmuXR0NSwl4ojPpqAlb2GAPJb3taCPvslog3CV3UgENg0CazUeljAZamDpI9aUmU3DLCNEr5W7lb4Mxjb0vNkIfgr0LCAxMobZ9AqSk/3wV3rha/5K1qt/DEm8eI4ucxh4SkX2Z56c1scAd/WXakjFuvRH1Lwig+nNa6tvWd75jCLwXDq6JNe90kgN4q+oldPdM6qjkuwnRGAtxkMKM8P/jTrTy4OekKx1vV1D+sEDkJe4yT8HBFL/QkcpTwO1vtbd4R75swmBF8/RNbEvv0gEJAISAYmAROB5QeABov4qlB85L7xO/nnhTfIhEVgdAtLRXR1u8i6JgERAIiARkAhsMgRkhHSTCUSSswkQkI7uJhCCJEEiIBGQCEgEJAISAYmARGDtEZCO7tpjKluUCEgEJAISAYmAREAiIBHYBAhIR3cTCEGSIBGQCEgEJAISAYmAREAisPYISEd37TGVLUoEni4CG16hIYWpgV+zl46Uoj1C3u73LPylMB58HWrxf2BovuA3yTwLjEkaJQISAYmARIAhIB1dqQoSgecNgQ12dLXpXjS6ilDZGUVyeR73F1ZWiWgKiX4/ast/i+iGlP9cwb3IH3DonbMYX5b1jVYpNHmbREAiIBHY1AhIR3dTi0cSJxFYBQIb7Oimo354lTL4o8lVECveYnnFqHhKHksEJAISAYmARGAVCEhHdxWgyVskAk+EAH2v+TYcfK+Zvb98N44O/kTfeGd2GsX3pN9H1F8GZfcv8EFjKVRFha/uE1y5EkCdT4WilqLx9DUsEcKYo+uuPoQ3yzxQlGJU+sO4x4OWS9+ju7mCvqhBLX8P58YX2D0e7H67FXU+H2p7EhYWxXfOe1DWHEI8uQKdXgXGi1dqezBlujOFqfAf0UDfs66gqD2C1MNrOH3gJf1FEYTu4AiSGnNy+QtSFAVefxRpJDHW3YIyVYGi7kLruRs6jyD0fGLwfuBgFdwKe9mL+K52tQLNoatIEt4pLiKPE5Z3vtv3pSVHEKSYExr2omt0wcSh/CIRkAhIBCQCmxcB6ehuXtlIyp5XBKijq0AtP4Lu8JfoqPFBKe1CfIX4YmJ01MbRVbahrqsP4VArSohT6HsDXf0XEGopg+J6C31ztBH4vQoU1z74vxzCNx374VL4u+QXMNq1F67Kj/DdVAyB2mK46ntwZzmq36PuhT/8E6yZA9pcP1qLvTQ9Ye52L5qLvagKxLFM/UeRZlFoGpZvnsQ+lw/V/nOIRC8jOjEPTfsJF8+cx3jyZ8Q6q6GqBxCafAjAGtHV8HD0Y+x0VaPzux9wLXAALtch9NxZBpJhtJd4UNJ8AoPhU2gpcUGhjm4KcwPvoVitRmfsJ9zufRvF6msIjC0aCwDirOo8ivimHfpawGToANQd72Ngeh4zIzHcWuIrBpFXeSwRkAhIBCQCmxEB6ehuRqlImp5vBKij68bOwDU8QgoTwf3MSUvnd3Q9RzFE3peZiqC9SIGnbQgL0LAwdBQeZRc6Yjw6q8DdMoB5guT8AFrcLpR2XcVKahj+rUWoCt6AhhXM9b0Fl3oYvVOXqKOr1vVgKsuPY9cp9QgliGv7AJH2UgfnXBTdfUTay6Ds+BDRxaxG6YWPxgLYqWxHy8CsjaM7j6i/AkpVEBPk9rk+NLmK0dCbwPzAu3Ar1QiMkRj2EsYC1QzD2+hr2gqlJoQEuYfixHhnke4Mj6KjO+fQ1/d6JJ3TILInjyUCEgGJgERg0yMgHd1NLyJJ4HOHAHV0vSw9QHS2CnB0vX59o5YlD9cUCbacg3YLoZoiqA29mE6EUKNkKiPo9+1CR/QCdXT1dAEr4ouId1VB4X1jGYlQvRFBNvUt3vroGgI73RmHWzzHj01YWCK6jG6a7kCup3yp2NYRRpw4tkXHEEkRb1bA8Mfv0FXqYmkPAOfd1dSHOSsu4n1T1ylG2X39E/cjv0KJsg21nRfla1W53OSnREAiIBF4RhCQju4zIihJ5nOEgMm5E5y0qXVydJFAT60XSm0PEjQ1QsippTmxZfBHBnI4uhYH1OQgWmkW5JTlWPJzKUxFPkHLnmKW28udfks/7H4j/5fl73r9A4iQfGXD8RYwTEQsfGR4n8qiJ/u+7L6iSJOc38BB+BQPyo+cl84uF6P8lAhIBCQCzwAC0tF9BoQkSXzOEHhKji6Jak6bcoAFXLOcQOEcVhnRXYmhY5uqb0AzmtOwPBZAlfoymoNhTI59hlolt6ObHWVeQKxj19pGdLMcZINgdpDCVN97KFG2oqnvrvWk/C4RkAhIBCQCmxQB6ehuUsFIsp5jBHI4uiuxDmxTdqBtaA7gKQJ0kxWrusCjmBbH1JQ+wM4ZOboLQ2jzsDxVmufqxb7QBK3yYKBsac/4nR7wHN39CE6kHiNH966eL1vxMeJGnVqL02zCwhLRhX6/ui+ESVOKr5UeMc+Z5ejynFqbHN2M4yxEdKf0+7L7EpDIiZFwnTyUCEgEJAISgU2DgHR0N40oJCEvDAIm5050ttJsw5WK4qYTCEfOon1PEdtk9fiOruI6gMD30+bKA9o0Blpfglp+FL3j89DSM4iP/IilPE7c6qourOgVEJQSNAaimFmcxa0ff9arGLgaEPphGjdPHoLbiOiyTWXk3CTZZMbuV3ejrfc6kloKs/E4EksatDs9qHd5UHHsAqbnouis5Djlr7pg7+jy+6x9pXFv5B+IziwiefVPqHFtQWPvbfMi4YVRXMmoREAiIBF49hCQju6zJzNJ8bOOQC5Hl9SNDTbAR/JRvXtxtK0OnlVFdIuwu6FBfy2vUatWB85UF1ZR4a3vRoKVF8s4gVaQ05gJd6CG1OwldXmP9Ru5qqZosvU2saatQjaSxZBOjiBQtw2K4kHZm4dQ7eapCxqWx7txiNbcZZUYTPcTTN5ET4KUIkthqv8DVoe4HLWvv2xUroB2F+EP9xsYHhv4US+XluXMWxYZtn3N0XJsKs0PNvNtZVV+lwhIBCQCEoHNh4B0dDefTCRFEgGJwGMhwFIXeOm1x7pXXiwRkAhIBCQCzzMC0tF9nqUreZMIPLcILCAxMobZ9AqSk/3wV3rha/4KM6Zc3ueWecmYREAiIBGQCBSIgHR0CwRKXiYRkAhsIgRS/0JHqZuVJ3OjpPEkRpMrm4hASYpEQCIgEZAIbAYEpKO7GaQgaZAISAQkAhIBiYBEQCIgEVhzBKSju+aQygYlAhIBiYBEQCIgEZAISAQ2AwLS0d0MUpA0SAQkAhIBiYBEQCIgEZAIrDkC0tFdc0hlgxIBiYBEQCIgEZAISAQkApsBAenobgYpSBokAhIBiYBEQCIgEZAISATWHAHp6K45pLJBiYBEQCIgEZAISAQkAhKBzYCAdHQ3gxQkDRIBiYBEQCIgEZAISAQkAmuOgHR01xxS2aBEQCIgEZAISAQkAhIBicBmQEA6uptBCpIGiYBEQCIgEZAISAQkAhKBNUdAOrprDqlsUCIgEZAISAQkAhIBiYBEYDMg8Jw4uhqWJgZx8uMexJKPNgOukgaJgDMCM71oUBX2+loFaskb6Bi8jbTzHQAS6Kn1QqntwVTO69b55FQPahUvansSwKPrCL7iRXHbIObTUfi9Crz+aB4+1pk+2fwLikASUX8ZFK8f0dwDaXPjI46vNad0k9iQXHytK/+5Oi7g3EbQthF9FMBqYZessz6tIRbPiaObxlRPAxSlAT1Tz5KVS2F27DL+HrmFpcI0a4Ovmkes4xWoaiX8w/c2uO/nuDthAGvJm+hrJxi/juB4KgfT62xUcvRsOiXQDm0Wkc638E7PDSxLR9cE0/p90ZCeHcOlv1/GxJK2ft08ScuL/0RHhQdq+W8xvGGBh9U6uikk+v2oLf/t5nCQxfH1JDKwvXeT2BCBtkeJ8zhe+xr80aT+67ryL3S8mkMTbbn1JouvQvsz9VHoTU/runXWpzXEQjq6T0tHaL/rrChPzNvPGGorhaLsQMvA9BO3JhtgCFgGsJYIoUYpRkPvnRwQbRJdsdBuECwdXQOK9T14Bhb184NoK1ah+H6JgXsr6wuH0fpqHd3V3md0vLYHTuNrTXrZJDZE4CUd9cOrlD2Djm5uvcniS+A55+G6yj9nz6s4uc76tIZYSEd3FeJdu1vWWVHWgtD0LK5fn5WPo9cCS96GZQA/Ggtgp7IdLQOzADQsjXWjucwDRfGgvPVvGKeRO6YrL+9HQ2Wxfu7oBczQoN4Cxk7/G0poOoQbJY0nMZpcgTYRRJXgQOv97EDb0Byw9D26myugKgrU8vdwbnwBwAqSoyfRWOKmaRXqzo8x+tASNTTRLuiv6Ohqk+ipL4ZaFcDYsubQFwdDfj4eAs+AowsSdR7H9dlcTygej+v8VzPHw/0qDr9J9FqFt/J3iBBHW9RN0pChw3E93UHJpBFlp95oSE/9A10NpXSsKEXHEJm/htMHXtK/q6VoDI4gSYeJPh48B9/BO+Vs/BpjVORAw8OxUzjAx1nJYQRHH4A2YdCWgJYcQbCR9avuRdeodYx6UNYcQjxpt5iwoTs1qac/2dmQh6vjidAYqNsGRXGj5MAB7HWztCbCrq2NyeCgO4MZ7GnaSYKkRrnxcm09Kr0qFHU3jg7+pGPjaBszbQJMD3Y3o43QRVO97G2qHb5mB9Uy1gzZ5NYbW77SMMlTLXsboTiTuUg+7cOBf1sZpTAR3A9FPYzeGaIHSxgLVEPxHMXQQoG2V3uA0eBhff5QK9AcuqrrMx03Hux+uxV1Pp+erqb9hKHje+Gl88ZreP1lN8PYSd6Fy4PAoM18i+N8fqvdh5d5mpyI0SqOV+foJmMIttaijCiiYSS2oqnvLiMhhanBTtSxgax49+LYwI+Cs7SCZPwztO4hE7YCRX0JdR3fYirNJ9X7iAXfQ22ZT2hfgaupD3O0BzKIv0VHHTM2ihfbt3vNqQvp2xjseINN/sTo/RoDU9zwPkIy9ilaa8upwAweXG+hb87OaNghS3g4i/ZaTgMZsFtR33NLH5Qr1xDYRYwdG8jeKrSeYQoEYnvJSlYY5PzYyDGz8liMymP9AkYWDCmO21H5myHwJAMteRVnWqtYP26U1HVisEAMzPQJxssERR45p3/EgP91bBfzUUs7EUtxOZsae3G+GAbzFpKTg+iq2w5f3UmMEYf24Qi6dm5BZedlTF07gVpXMep7JqHxHF11N9q6L+Cbjv1wKVXoii8SbcLMxbP4Yvw+5mMfoVL1Yl9oAtrKVXSVulDUHkEKK5jrewsuquPzGO3aC1flR/huKoZAbTFc9T2482gCoX3F2HGkH9OLdzES/SE7pcagPWHOGzaciSuYj36IHcpOHIvMQcOCfV9ZKlDAmMw5ppcwFmoy2aSs3OdcY/LeBbRxe6WW4+DhvfCRMeU7iAB3QogDZ7I71jGZX4W15Ch62uuYXSLjX4W3vhsJhsfKWAC7jPGiwrvnlzjDJ0SGsWFTuM0QI2LIMya1B4if+SX2CLZb3V6D3wzN6MRbzmdhiFy2mU1qBl12qWT5MCTnB+CvKdEdSdqWG6Ud/wK33vYo8759qPafQ/ibDtS4XNjhv4JFQzdZ/rhJh9l9ht21tL48huA+H1zVfnwZuYJL0VtIaj/h4pnzGE/+jFhnNVT1AEKTDzPjwXaMmtvVZsI488V1JOej6KwsgrovhEmiAwZtNzAZOgB1x/sYmJ7HzEgMt5Y0aHP9aC32orIzirnbvWgu9qIqEMeyuXnAlm62MLWjb1U8zSHSXgGl5N8RHLyAUEsZFMMxKWzcmx1Lzj9ZfB9Bd/hLdNT4oJR2IU6mZUfbKDLP9aAIlf6LmCE+he191/GDDb5mepwcXWL7cuuNuR3iwU1joPUlqJUfITY3gd7mHZlAgEg+lb8D/w4yWol3oVQpRXvkAYC76GvaynylQmSwgrmB91CsVqMz9hNu976NYvU1BMYWjQWiou6FP/wT0mQOIdcqZWgJDSIcakUJGZ90MeHUV6HymITGMFJKWhEKD1r0SQTp8Y9X5+hSYbhR1nICA5FhRKPDiAxcQGyW5Meu4F74NyhXt6HWfxZDVy7gdOsuqBw8IvOpczjkK0JZ03+jL3IJg93HUeMrQkXHP0GmbWPjTVkrggNhRKNRRCN/x/nYjO5EskGslrfiRH8Yw0N/RWfDSxlHV5tF+NgeqL46+M8N4srgp2gt9wiKxRV4J1qC5xEh7UfDGDg/gtmsCdgOVLJCPIk6nwu+mnac7ic0XsbQV3/FwHWWa6TNIPbF1xgajiI6zDHI5GFqyQRGol/Av8cDZY8ffZSGKKIjCbqa0u5dxLHyIvhqP8S5oQgGT7+LcrXIMGo6hi52/jKikb+grUxYXWkJ9B7aDrXsF/hzXxjDg5/hWM1WqBWdiC0SJnNjoNMXRbTPjz2G8RKxyCfnh7qhdtXg2N8GMRyNYnjoK3x2NsqikGJbL9gxM2aGw6JWwT9MnEINqagfW5X9CE6QaV03WmpDL2a4o1sVxISGrGitgeCjawjsdMPdMoB5zGGobQcUes8CYh279OOlYfi3FqEqeAMad4BJRGDqEvxeD/vdaNF8YEzEDo7ur08hVL8Fxa39mCNqlnLoi0YfxKZz6yPJB849pplBdR9A1wUyHr5GoOllKK5D6LnD3IBcY5LytR1NwW/xbVc9XOpr6Oj/O4JNOwwnJN+YFLmxPV6KI0iiTL7X0H5atzvDQ1/is4EbxoJCm43hi74hfbxwu/VKEONkj62WRGLkMvr8r0JRXoW/75JuG6NXkaBRvXxjchlTvb+AT2G2eXgYkZ4jKDPGNzuvVqDpz18iMnwB3cdeg099BR2xecYSc5ZsbfMKkomriEYvMRqzHd28GGpkseWFq/pX+NvQZd2u9vXgbHSaRfVskc04Hu53MTBPwJrFQMt23UlKWTZKmnQ4l8OiYTFyHFuUXfBHiROR/Wd+GsOw2RnA2CM+Rp2CBLwtFoHjdBu0saghG+/61WyxqtQjlCA6/QCR9tKMI8ibhBPdjL48NqRgnuYH0OJ2Y2fgGgji+n2M3wLHfZZDSPnnNkiMVqZz2EaD8YweqI1sv46TTf3/cI5sXjThywNQPJWC2ySmx4ZsVuHozvWhyVWEmhAJhGlIRY6hyAhUCPQ78m8OwJlktDCENg/DbCWGjm3MthckA32OUWpC+mI7FUF7kQulXVexwhaIal0PpqhfxMYU02+wuYY6uo59PdCfmuSVRy9mcumTANFqDp/A0XUYwNpt9DZugVpzEuM8QksFwcDDIuJdVVDcbwvR0wXEu16FYkRU2YB02GGur2BK0DrAHF/DadMVUpvuRaPLi5rgGIsia1gYOgqPoVgWBX5s5JjAd/wakXmzAjo1pedhWjFz4jON6d4muNQ6BMf5NjXmtNDVrR2G5rZ0jLahuS/z2Gc5/jEqFB55LxAD0+AWuCtYzodw8uZ8nklKaPdFODQwJRHdiL4Q9B1CaPwBEqF60MejNOrNJuFtHYitmOWbifwQoyv+idcRGTdCJZPog5sI1Xix1T+MFM0J5hEAbtx3oSOW0CM0vnp0hu8IT2CE9g3a7R1d1/bt2OpqQGhS11td7+36Io9hxb/c+ph/TGc7LPoY4CkhYl/6sWlMUr70CU6ffIktWdI3udJoX74xmd2++ZdHmB94F24j0m0+a/9tWdcH0ybbHDjlG5Mswu9u7tMXIaRTUZ5255evoqvCLTxNE/XLnurMItrq6BaAIaeh4RRu2j6Sd+rTKn+GnbGAEyqCCic33AAAIABJREFUiDznjMxZnFC7rk1tWbAxnbO7mfxmkadxzy0kI79CCVmUdF5kT/KY3Teiz4xHY97kfTjRXSB9Bg2WMU6aF87pzlZmbIvnCh339o4unydFbP4vh23kfJNPBz0gKScmm/qfGLxoxZfbwrV3dHVbxNsFdHz4XCzQL+CbpRvCZSLWIKlidT4a3HhAbXsF/NF51kdGPjrWxM4LtpeNNyNlR7uFUE2RPt6tT0LYtfoTQkKMoE+Oc8pdSzUUprNZ8ujAP0fEyLRZ10TWV3O89o4u9cpd2NHWjSs8Sskil3rqAQOHryAo1XyFw4UgAJjFlaj8vMKC+NtDNqFUoK2HRYMJHTQyyRVLvJ63kdWR8w901aSyR8L2l2nJG+j7PU+d4CkKfADze5z45I50G3qukGgz+ceiJNSoJdDbUAxjFUabE9vi/PGVP+uPrtZUbOuIYcVqYDlJ1k/TwBNO5pWzmG/jRkntBzjx9Shm+eJHaOqFO7RiuhhG+xYXtvr7cZFEGYxHvzzthZRMEuVrNQLkcW8YgRaepsIfJ/EoSxW6Ln2JNo/u9OkGj+sk/9SNsJFzp+7GkX4x3YhJyUS7QJPpsXomAparL7Pcuc5anSNyFXcSc41p6wRnxYgERHOMScpXLkc335jMt+BlEXXDwJu517+tIDn+NX5vpGRx2YiY5MAp35ikZe14VIn1L8qTHlvO86ghXWyRewSZ27FAf3OisRAM05gZ8rP8zJdQ+8EJfB2fsV90mfq3yl+gIRExl74Tec5yjMRGrW3ycylMRT5BC0+9MyLiFmxM/fB72Wf6DiKBViGFhMlYvIfkTgYOwkdy9Y+cx1TaSo/Ao6nakPU63ncu+h6fp1xOaqHjPlcbZkfvflY+NbWThtPPebTyzr7b2lQrvhpLKeQOqQVfUTY59cbqMGd/NzmqnHTyaerD0j9JS7LVO7awKf0Ily4chYc9HShIBlZnVhzf1nPW78K1CdtUTILjTxZH11kekYh/3TYmrr2jSwXFDbTlk0ZoLYONCpk7ulzB7K7h2sCFLzpx/DdiLFgUxqrY9Dt3NMXrV+HoMoFnVjacNv6p56uorlfQdoo9ouxtR7lhEPl1Tnyy3215IDxO2NRUFdty4I86ujyy4XANJ41/mgYe/5EPSIt8Ob1iJD49jdjnAXxAc5nVTC6q0NQLd5iFKZddAD2OtUD5NayOrtjGchyBKh9Kmk8gMjmKbrHeLn2ktAVvtP8SVezxUdbkYhVAOoG+1jLhCYtwgdivYOim2Jhw/9sx/KqqCK7GXkxrNgZeaMp8mEsf+Tk7feNj2jrBcR3l5/OMScpXLkc335jMZ0cYfbkcXZpL6IGr8ghO0XSoCHrb92RSsihgHAvR+WVIUh7sMGILH5PsxHsYRnbnuaNrOBQWPTQLkX1zorFQDDWkZ2L4PPA+amne9DbUBeNGeodtl1mOB6OBBAamSUoOt3tWvbDRG6MDu8WJhuWxAKrUl9EcDGNy7LNMXWlxPJA2bPEkJxYxFngNKsltjdzEWLdQGjPrnhSm+t5DCX0SN6E/DTVk4RTRtaOb9GuRndHX5Kp4Wol1YJuRG2rmN6+NYRhnXWfQRKLJoh4xR9fgnTWQ9WGVp/W79QYR37vr5uiuRUTXWe9YeoZah/YP9oKnGmRha2WdfH+siC5Ji1CFWukZfdIdXe6/iR1Z8bd+z1yr65PQhkkXMtet5mjtHV2apuBGRdfV7AR5SqHdY/fVpC6Ij+XFAbHM0hReRVdcCNGb0BGvzzdBmW5kX3hkwil1IaMARnF/W6Gx60zRbdIFS1Oo+Bhxsms9628eUX9FZmclPW/uc91TF/LK2Ur0CpLR36HcSJ2wnn+Bvlt14eF36HjJBU/bBSTIhjFjc4uIiVm+4iRqNqKW62iuYgmKvEVQeW4VzRdjG9bELoRjRyNpol3oy1jtR3CHpt2wDQ0F9KV3m2tM8tSjXGPaxoA60cr5FM/TY8HI0msYTXRyzTcmeaNOnzwqzTfp2Vwn0iP2b5u6IC70WVv5xiRd9KjwtA3BsIxinzxtQExtWNPUhVVgqN1D1F9pv+gyQcjkz3NduQ0lqV4P9Qma821KWclykMVGeU6sqHeW9AERP0dH0pJeZHIuLHpvao/RYoytS5gm9sHI4XfK0bWjm7QljFfy1ejrmtmBNn7PnboAOrZ5Pq0lJ7nAcZ9lZ0x9i9ik9M20trZRlJnVDjAsct1n4BtFijrvrDIN2EKCjz8TbdZ+RBpsFvgmrHhgj28mFu419SHyP59DRgDo0xwPvN4iI2dal09uO8/3gRi5yjY5ukZaA9szYlyr3UCwygOao+sobytOOeRhwsiiTwJEqzlce0cXSXwfqIWLbGj4QzfbrBbGwNlvEGfFwwvejCZGBkXu2EYrsqnjWPcFDEctkY+lUQRqfFDLmvGHnn59s1mkH2f74tC3iokKtBpHV8PS6B9Rqarw1XyA4Fdk8wjZkHcWnw4l8AhJxDr2QHHtg/9Llj5hu6mLGU1+3fAgek9dROKRhqXv/wc1Lg/Kmv4LPXRDHmm/F31xsilCw2KsExUqKT/1KQaHL2OotxMN21260hGsCt6MZhMZErHmk19dFy4Mh9F/5kuMUDnmk3MKk5//Hsf+3GPoQH+gGSVKGdoj98UeXrxjw5hNIj07ir6OevjYhhd9V3URytt6MZ5coS8HGEkQt8RpkkpAmwxhn1qMutAY7t08hQZ3JnUBYBs6FCXj4PAdwOVH0Ts+Dy09g/jIj1jSfsbIhRhmlu/j6sevw+VqQu+0ZXwYtFsmQWGySLNUDPrGNKe+sqSeZ0zmHdNWgypO5ITWPGOS8pXL0c03JrMYyv5haQRdlUX6ZrTgF/pG1Ug/ej4lY57sKtcXPPoOf7LJ135Tl76w0asLRMgm2N6zGEqQzYv5xiR/AcwutJ6+gGFibzobsd140vQYm9GcbDPjWqdxC+q6zmM4ch5neq8iScpD5bRrJEvlFj7/1W/wZ8Nus02FW44jQjbR0rfxZZ4YZEBm8leKURu4inumigRsw01xM4LhizhHXtBi8Mwe+wp55Zk2waocuFDc+Am+m5nH7K0JjJ4+AJVc/8M0bp48BLfRlvMYFdsE33BXdwY/3IvjZMPWTNTeGF8TuDfyD0RnFpG8+ifUuLagsfd2wVUXdDsi0n0HSc2JPlbh4XF54mUEK36Nwem7egUKjkWB417P8yW266aenmLwT8as2SY420YR3Ww7YH/fvAO+ZNOYiuKmEwhHzqJ9T5GNbAhtufUmiy+OR0FVF/hTKJH/Rba5207vyHzPnE6FO+nkN1bpwWrnRbh4JYUcVRcyju4y7vQcgoteexfT4d+hklSIIbbAsa9C5bEAmmtMylJSjG4j7N8rjFMT0Y/9ZR0cXaKfdxE9eQTV2/V6nCSXRt1+GN10Jzmh0VIaK6u8mGVA2rBFS2e17RNKV7mxvdKPIVqgnDz6GsZJ6/kDf8EEmVAsA8im+QJ+SmEm+inaqsUyOD7s7BimlSPMpb3Y40S1HG2DrIwP60GbvYSPeY1GUmqo/FeMB5v21R040H2T7nCFNo/xz4/puWwkZUAtgrdIhV7qQ2/cTIO1vJg4iCzOjIl7IWeOyrERp8fYBrmccp7HaLAZ5UIZI8W7C01/vFRgZQsTEc/XF5tXAP++7warxWmuZZspWWcZE+KEYOTyKVDL3sDh6mKIeqA7HTw/XYfSVEOSl7hKkdJmrCReVklAJgKxX9H5Fh1d8Cc0esUD276yHlTk08d8YzrboGYiVmRiIjm6Yrk9y5ikfOVydEkLecYkg8j5w44HFd6dnYjSSigWu8hSgdSS9zEovnhBm8bwx4cyJcq8lWjn5cFyjkmCwXV83q7XwaR22etFEXdOKEjm8mPZ5cUseujErFBvk9RY3b7/U4zRNOY8GC5eRfDQTqH0IrGJzfjjMKu6QCNXzOkz9a3LX939Bg7TOpyZetJ6bWpSJYeUwyxG5dFf4qCHOxMalse7cYimSNhtXLSMR5KrfJ/XjvWg7M1DqDZqx1qwMY0VkVjS5ic6PWoF3jz8KtxZUcM4LctH6lxTmo3SkmnMhDtQw3kxfhfbJ8c2dOfY0Grk5iuPwxPZG3AeR3jNYEvd04LG/fINdB/SawXTSjEmzKw2wcKTWM7TYN/GDlixoPddxdUu4khZ8U1iLNiglxb07sXRtjp4smRD7EkevbHyRe6YuYgPa8iixlru1CBeiLLbOPpGzWKrjMj9PGhmLpFakAy0uwh/uN/g2SgFa7LpjMb0j+g/spvippY3472DvFYxsS1C3Wc+p2iFykOvRmHSp3feEcapgNEqDlfn6K6iI3nLOiPAVnR6Wal17ks2LxGQCDwXCOgvFbFz8DYjeywX0VSxZzPS+WLSpOuSEFF8MWGQXG9CBKSjmyUUXguSVzuwfn6HsQ19408WgfSHR4kL+OQke/xpPIIsQXPflCzlZQ+Z/FUisG4IGHWnjUozFrsxthneLphC4u+ncJKmWpG61qz+uK8FfTO5nuqsG2yP2TBJP6nSXwLxmHfKy9cDAQ1LiTjisyloyVsYII+anxldWg88ZJubFQHp6GZJhoXa2WPDrFJP4mO+rHs36gcNqVgXdpnSAsxvXtsoSmQ/EgGJAN98wtIh7GxHnpzWjcEwiVhXjTktQHzz2sYQ8QS9PMSD+4tyIf8ECK7trWThUWm8wU4VX2W8th3J1iQCT4SAdHSfCD55s0RAIiARkAhIBCQCEgGJwGZFQDq6m1Uyki6JgERAIiARkAhIBCQCEoEnQkA6uk8En7xZIiARkAhIBCQCEgGJgERgsyIgHd3NKhlJl0RAIiARkAhIBCQCEgGJwBMhIB3dJ4JP3iwRkAhIBCQCEgGJgERAIrBZEZCO7maVjKRLIiARkAhIBCQCEgGJgETgiRCQju4TwSdvlgg8bwikMB58HWrxf2Bonr5G8HljUPIjEZAISAQkAi8QAtLRfYGELVl9FhFIIdHvR235bxHdkJr+K7gX+QMOvXMW48tZ7+l9FgGUNEsEJAISAYnAC4yAdHRfYOFL1p8FBOzeFf4s0C1plAhIBCQCEgGJwNNHQDq6T18GkoIXDgEN6al/oKuhVH+rUNExROav4fSBl/TvaikagyNIatlv6fP6o0gjibHuFpSpChR1F1rP3cASxXAFydFPUOdToailOHCwCm6lAT1TJBRMzp1EY4kbiuJBWXMI8eQKeaUX/F4Pdr/dijqfD7U9E5jqaYBi3KdhaawbzWUeel95698wvqRBS44g2MjoV/eia3ThhZOiZFgiIBGQCEgENj8C0tHd/DKSFD5vCCyPIbjPB1e1H19GruBS9BaS2k+4eOY8xpM/I9ZZDVU9gNDkQwDWiK6Gh6MfY6erGp3f/YBrgQNwuQ6h584ykAyjvcSDkuYTGAyfQkuJy3BYtbl+tBZ7UdkZxdztXjQXe1EViGOZOrrEYd4Lf/gnpJE2O7oPR9C1cwsqOy9j6toJ1LqKUd9zHT+EDkDd8T4GpucxMxLDrSWZ5vC8qankRyIgEZAIPA8ISEf3eZCi5OEZQkDDYuQ4tii74I8+sKX70VgAO5XtaBmYtXF05xH1V0CpCmKC+JZzfWhyFaOhN4H5gXfhVqoRGCPx3SWMBaqZo5vCXN//a+/8f9q48r0/f8D84h/5wXqQLCR+iB6EIn5IhSL4IVGiSFA1QihNhSDaClCfKOxTLbSrkN5nS1rteu/uBT27dHXXuo1vNnEqrNwt/cJmoVnICqfFtwEF36zTAMVNnABLAtewcTCZ99WZOWd8PB47jhO++hMp8uCZOV9enzNn3vOZz/n4bTiUJvgiawCWEOiqhFLZi1CceXQVqI1+RHWtmip040E3ypTj8E7HATzAwKkyqM3/jk/dVck22PaCviQCRIAIEAEisPUESOhuvQ2oBQVFgAvQoncxlCmrQdSPBsWFBn8kXehqM/DVF6O4KwAmPY3QAxXl3aMIMWHLwiDiTLHKgnUZod5aKC43X9C2hoivCYrjbQzMXdeFrhESoRcoeXT/YRxnlsm9y+X/jOFrH6JCKUdDzzVEE+TNLaghTJ0lAkSACOwgAiR0d5CxqKm7gYA1FEH0KY5o4GO0HymFoihQMgldEWqgH8OOM/673EMIMC+rKWZlofsIwUz7IoEsQpefZ6nLqGMJk543UaI4UX3mColdYUb6JAJEgAgQgW1FgITutjIHNWb3E1jBePchyfPKeqxhLexBrbofbd5RzIY/yezR5UI36YEVxKzlykI3X4+uVSCLusRnHNGB06hQynBq4IH4kj6JABEgAkSACGwbAiR0t40pqCGFQWCdx8u+ht6QyFSwmhpakC10QcTJHvNhNiViQJQr4mnjmPYet8Toin3pMbpJ4SwLZB7bay6Ms7FQRuFtcyx9RQSIABEgAkRgkwmQ0N1k4FQdETAyIDhQ2vIxbswvY2FmGpMXT0B1NMP3/RzunG9FkRm6wGN62b5ZtshsHYtDp1GqHkZn/23EtDgWQiFEWMqve340OZw4cPYq5haD6Kkpzjnrgr3QTcBoazGqO/sxFVtHYiGMicgyHk78FcH5VcRu/ivqHXvQ0n8XKbqbzEwEiAARIAJEYBsQIKG7DYxATSg0AnJOWwVKeTfGH03A01hu5Lh9qxV1RWIxmoa1qT606vlveSYGbQmT3pOoYHl0Wfys6y34IywVWRzRwfdRrefXrUbDG/tNocsWp82PdqOe5dhVSlFzdtCIq03zyMoeXWv+XVZfGZr8N3Gz96iR81cuq9DMSP0lAkSACBCBbU+AhO62NxE1kAjkQ4CHLjjfw8gK+VrzIUjnEAEiQASIwM4nQEJ359uQekAEOIEVRCbCWEisIzY7CHeNCyVtX2KedC6NECJABIgAEShQAiR0C9Tw1O1dSCD+Lbor2U/8shCDIlS0nMck+5lf+kcEiAARIAJEoEAJkNAtUMNTt4kAESACRIAIEAEisNsJkNDd7Ram/hEBIkAEiAARIAJEoEAJkNAtUMNTt4kAESACRIAIEAEisNsJkNDd7Ram/hEBIkAEiAARIAJEoEAJkNAtUMNTt4kAESACRIAIEAEisNsJkNDd7Ram/hEBIkAEiAARIAJEoEAJkNAtUMNTt4kAESACRIAIEAEisNsJkNDd7Ram/hEBIkAEiAARIAJEoEAJkNAtUMNTt4kAESACRIAIEAEisNsJkNDd7Ram/m0/AvP9aFbZr5cZ/9WKH6F7+C4S+bY06keD4kKDP5JvCc95XgJRfzMUpRn+aN6tfs46N/fwp1NevKpWonPk7xtf8dPb8L7qQmnnMJbTansR1hH4G1xQGvyIppWb2xf5cUhtc35l5NY++6NS67c/ZqO/jSM69HPUuFQoSiW6AksbXeGOK3/zx8VGI8p2vWXbt9HtovJJ6NIYIAKbTcAUprNIzP8nzrfth+Johf/eWn4tMcvbKKEbR2TQjYbqXyGo69rNFxJPI1fwQcPrcAdj+TF6zrO0h6Poaf0n+KdWn/PMPA7XFhDoeRvv+L/DGl6A9dNZDH7QiGp3kD80vfjNNT8OqeMjvzIMjvnZPbX+PCzCT7HaIveStLl+tDiKUdMTRGxtGY9Wtv9PcefHOncm1iNfZFxYy9oef2e73rLt2x6t382t2EKhG8dC+Gt8FZjB4y0hrCGxEMb1r77G9GNtS1rwzEpX/xPdB5xQq3+FsdjTZx5OB+wQAhZh+jTswUGlDKcGHuTXAUt5+RWS7awYgu4qKC73lgndRNANl1K1aUI3G42N3fcCrBNBuF0KXC9R6ObX15clNIH87P6y6rfaInca+bU79/I34sid2OaN4JB/mdnEbLZ9+ddIZ+ZGYAuF7lYb/mVNhrmBzuuo5WF0lqpQSn6KoYfb3yOQVx8L8SSrME35W8PjcB/aqpxQFCeqO/6IKfYgposYJw7/5DRaKoqgKOVo9Ewgxp7RUs5fQfji/0GFHhpRhIqW85iMibETR3T0d2jWz1dQ3BVAHDGE+9pRxY5XD6Hj0+8sD578Zs/DLFi4hcsdQEQPXdiPhuYauBQFavVZDM+LMIZnlcmMriER/St6myuhsrKLzyIQt2+7cQNOhnoYgjsDJ1ZybAKexnIoShEqTpzA0SIR1rGO2OR5zs+JqjYfQjob3sfDbehk57FX/SlMM9SlLWHSe5KzduJg7wSeSONZm/aiVgopMR5oDsAdZAEK61gceBsOpQm+yB0eYuCBnz1QPBdrXiEXuclz2UNByCh3/3E015Qa4+m9q5gXz/WP/4a+tgM6f7X6ND6dWpFazzdlDvp2Od483YZqfbwcxnvD92EUl8D8iNt4Va9Wo+GN/cnQFrmMDbN7lvrlXmWyWRqL+8bDXYothKdcFGg/ntLGqzV0JCtHm7G2ehveWifMEJSnt+A56ESZewxx1pTFAZxyFKPeN8NtIdq3UdcY6/fHaCxRoaiVOPFmLYrMMCZ7JsDGXGOip8lPmznuyS1cPPGKMc+olWjx8nkThgZxvvkO3qnm8618fZiFangSvoATfN5UK07CO7lksNbuY+SDo3wOfB1v7C+Caads+8yy2YQlzSPqAbT5bhrzujnnd6CxpCQtNM0YZ0fwk84GlOj813K/d5y7hm88b6KEzd0Vp3AxLN6U2dvPmMtK0dx/T2+5MZftQ+fIIphts99D5M5uzTYJXfMC3RoDZK+VeZ2ncHtBn86yH0p7dw4By41/NfAB9ii16A2tAk8m0HtwD2p6vkb01jk0OErR5J+FJoSM4zi6/zyKP3cfh0M5BHdwySJ0E5i/dhmfTz3C8vhvUKO6cMw3DQ0a1u6cxzFHCercnyIQ/BrB6SXEJz/CQUcdem58j1ueE3DYhlBYPVviIdGJ6s5PMPrnbtQ7HKjsvYl1aHiSS5lrYXiPlcBR58YXgW9wPTiDmJap7TaevUycsIhA1wEoFf8X3uGr8LUz4WgIXW1xEB2lLv118uLdfrSVulDrCWFN3ISVYtS4r2E+oaUyzVDX01kfjqkHcGboLlbnQwjOWITi+k30Vjr4A4UQtk7Uer+DhlWEemuhVPYitC4/9D8Pa8uQ52MkzaOrHkZn31U+Zvg4wwome4/CUfMb3IiOw9NQCkeTH/eECBZFy2NV32YPNWfQN/oFuutLePsBg20RKtovYHT0AtorHPZCd4Ps/lS3bYb6RV+YprC1WSYWVltIBbGyMo4nm/Eqn5qFo/31/1+4ycaK/jCocWGrQKn1YloD1kO9qBTzh1zPBrHWYqPoqnCiou0chi22zsyEs3wp19gyxrtfhSPtTafdHLcMTbuPa5euYCr2d4z31EFVT8A3yx5J+XVne33IIAFtfhSXPr+N2HIQPTXFUI/5MKutY3HoNEqVKrT7hjHq60AFezDSH2yy7ZPL5sepdegZv4+7/T9Bqfo6POFV7txgDoijcI/eT1vDIR6o1JpfY3Q+/ux7R8mP0Dso5kQVJY2/xSC3n+PUAJhkzWg/u7nM8TYGFtdzm+/lLm/Bdn5CN/EDhtxvYK+8oKayB+NxMUvGER3uQSN/AlJcR3F26AfTUMJASe8D99aYr0ZzIKEtIeT/AA2iDjbAXG/BHzF8KuthDw6Z7VPhOvJTXArxpzAhGqSndaMt8qvR7H1gT2GhSz/FEX2xAV9UtLcevxiZNxpv2Z++4OgRxr2n0VBVkuLBMQacmBSEF8tu0Q97Wv8Luhv5k6pSipqzg4iym7T+j+0fgru+wniS1ftahMrubw0vAD+KPraAgCkeZhCbvgJ3XSlKmnyYWtMQD7pRphyHd5o93DzAwKkyqM39mOdjtqh9yFiwtDyE9iIuLs3yLDG6uuenCMY5jxDoqoKy75cIrooxsoyg+4B5wzQ8Q8mn9iQZ6w1fCF3eTu073eOktxO5lKnBEPdcqCcrSm6ltN0qHLJw0rkU4aDnFliwj+F5YEJ3RvKgsljoJQS6KrlQ4/1TW5KL60ymsxltEtXDKYStkk1Pbi1gqH0vlHofIhrnoijcHvfQ31wKZ+cIVsQNV79BPg/rZE36ViahywVRilcmPgZ3WTEX3VyEqyfRPy+8/7xsk0OEi3/BNo5p73EuZp9geehdFCl18IRZINpjhD11NkJ3doPs/h+4na1+CZNx77HYLCOLJUvIjlRQikfeOp6s41U+T7yBseOYyDDWRP+Y9/8JP0aBUvQuhpbXMN9/EqrzPYysiOua1bdR15hoi52t45t0jT3EmLvGRujazXGp7I35YC/ahxaSQvegB+GngPUNTOqZ4i8+tnX2c8b1zc8Hn7MMocuvfdt9oiz2aczxxhwBIB5AVzGf1/n1rDb6EZVNy083xnIJGpkjBFnmRF6OMddoiAfOolgR3thFjHTug1LejfF18TDOxpl1TPPj9LlkBePdh/h9I5f5Xu7v1mznIXSfYNZ3AqqjHmf/OIyxYBBjI1/ik8tB/kpsHQ9Hf4FqtRwN7ssY+eYqLnYcgiqeUtglGItgIvg53EecUI64MRAMIsj+T0QMl/0zWcQQ9jajRClDfdcfMBgYQ3BsBF9+chW3ebyttjCOzwdGjPYN/wEd1U6or3oxxe5+WgyRia8x4H4NivIa3APXjfqDNxHRX2U+qw9riPb/GCUK7+PYGAL+M6gyX1Py/eoBnPr9FwiMXUXf2ddRor6K7nGxrpo/TVZ1wDs0atQf+ApXxuehYR2xyE0Eg9d5G9OFrvbwGs5WF6Ok4Zf4dCSA4Yvvolot5h4q1sdp+I654Kj7EH8c+RrB4NcYGfDjcnDO8nrrmbDpgJdNQBcP4iFGkRairSHia0p6boSnkU1CcUv8pTYDX30x9AcjWYyktFXyFFqEo34YL8MIYQD3IKgo7x5HqtzJJL7EuJTqyalM+WaRKfZcKlNvmhyjm5nTtyEW7yytcjfZ3DI8qObDNC9D90rYCBrzvDuZbfKIebaKUNLwG4xG7d668DqYCImF4a37OneJAAAUP0lEQVTdh6bmY3Dq9hxHd3kpv0nJfX0O1im2FvbLEqNr9ikCLeJDvcTJuGkeQve4xSstnZMaIiMedtgYWDbYCo8j5H0JyTseNgSwLhJept3/Hzw9ksfTWr/MSfdGptosM4sHWYQu98jbjqf17LHFMtOUtv4j81ibZvZi4iSqP2AUNTXjhJPZa04XHeliaKOusS54P6qT5ijZ1nwc2DLZqGtMMq7dHCft1jdT2MvXnXgAEWFO1hPF31J/f7ghvbFh+6XyUjygln2iKPbJjzPfwsjzetqDq3yi9WEq85xovXcY17pw6snzTbYxHUfU3wKVXbtLd+CrdxmhMznN96nt3oq/8hC6HEZRK87fWU4XTdpd9LfsgVp/HlPCu7gygk6neLUpuikNCvFVrp/cm7Xv7CiWbZ500ovhgyAlTEEasNYUSc/qAx+cRW0DWBT1yxeQ3f61m+g9UGQIE72BufQ/UxsTmOs/BYfaCO+UWMrHn7j0V6HJC6io+QLumDGa6WTomy0gYI6VGcSmLqO9ooinluKTjvVNA7txPLYIXXlSNctjHl3myR+Fp71WjxvT31QwT6HdpMm/s75ZMSddE408GbIvreNSGss5lWktT1SUoe1pQjczp0BAFsTyzStkES1yHx5Z9tmcZ2eTRDJWUa1+H4M2Ytd4rXwc3m8u45TjOM4N/RvqWVxu4AIaTA+oxE883JhiQW4ni4GWjxXc+GeajS3HSuPEuNlJD1t6/8TNTypXOiez0LXys7TZLMNqA1HPi9q9HW72tiIjM1EP+0y3WWYWPE7XLFcuxzqGU/ucKibk8+Sxxa5X+TzO0W6sxVkYjAu13r/gi1P7UHvuc1yoL0O97yv0Newx32Aka7K2T+zZSNbZxoF1n8yBjwu7fudwjYmeGesY5Ac9sSeOaOBjtB9hcepszAsxm/n6EGean4l7CHg6pDe4zfBHApkXfz7rWhQFZzsubZ84yfhMHWOZ50TrvcP2PH2MW8eMPDYT/O1YLXqvf4FOJ/eK8zY++x6S2vbN/isPocviVf6CD/TFDUWoaHgf5/40iQUhaoUI7ezDN8JTy723Ig7E6KRlkD1Hz9fHu1EueSPST11HbOpP+Bfztb6Y0IUHip2RasSUMp7VBz0PqiX435zMxSs+y37xqlR/RcBqy6X/mdrIX4vs64T/G+4NF95fHjfD+pdcHPIKGt4/hz+F5s3wkZT+0h+bS0AeK+I1r+7lYq+B5Bu21Ky0Sc8YP3q4gFzeWgie2hI9fi4wO4k+kUd1nXkQVR4vystNK1OqL2Uz+wSYMpZzKpO/+jI9gLyyTG3PJHRtBEja3GCyydejm0mcCUBMOHyJjgqH9BAr9gHQ55J96Oh6G+VlbgRXb6C7fD86u34Ml9l/eS54DtZSNfpmGnu5XFlYRLJ7HOVyTX5iXhMiQZ6bloxXmaY95H2yR/e/jOPMfvOKXtjufDxlql/uj76darO5jBk9rLaQC8rm/crXo2sjBs0qjTnf2fE+3is/CHcwqrMs7uzCGZf0BsM8fqOuMWu5sq3z9ei+4DUm+mw3x7G1CWEPatX9aPOOYjb8iZRzPPP1IYo0PlcR9rwOlcX9B+4g3MdziEfG9Dk16RiQyuNtsd0nF/7SPLpZxqplXsgsdLOPaeghPnvwo66folaEeVnKlru2nbbzErp6BxJzGP/Mg/cbWIwoC2w+jzALG9AnRiEsLZ8pq0+lQfGcRAxD2V3cvCB98YgTjpozuDDIwgIC6O86kowZMzqQOen9s/ogT/6i7fJ38rbYL4SuORnn0n95EhEr2lmB/FzrE7D+tyzmNSTmx/GZ52c8lrkcjd6QZVW92UDa2CwCKeNDxEyxRUIxI8bNXCwhNYhPKEacFQD5LYlUnuFBFJ45eYzxWLADHyG0Jl5D8BhgfWGFVFfapnUStY7L9HqMxRppBfEvRCzYa+gNJV+VZ2679TWdiCkVi0qkevQV6GLBlxx3J2J0RXymTYyueW3KopCfZ2cTs1orH3MHW/0Ef2Mpil3FcOrx1fwhVVEkYSzzs5aVjbVUD9tMu+nI5cp9ivAFTWKhoqUc+U9pbGX26IrYTMFWjt+Vha6wwcu2uxhPGeqX+2NuS5znWNYCOxbSMfL0q5dhrVMeT9bxalZqbMhMUxwunKPtWGPjoAVqsQsuJ4vNTfC4aBb6ZCwKSq1FtG8zWVvHgczEhqXJ4QWvMbPjdnOcRbyZdTJvepbrwywz+XbUEK3y9XhXX0MhFgWCr1UwYnR5W3h8fOo+uXDLcTYxukmxLJ9nHWNZ5kTLvJBZ6IoxI64j2X6sbjZ3VehzmSpij8U6kmfeQ1Lbvtl/5S90zZauIxb8NapFHlD9BlyEA703kT39PR9k+kINs7DcNoTHNVPoQspgZkXKg1PMWOI7EXgtVf2sPuhPNipfSMLPk+vc8NAFHqaQIlqk9tttag8RdNdkmBTtTqDvNoyAPFZYsIEeL2nk0TVWvRajurMfU7F1PdfzRGTFFDFK6Y9x6c48X517FL2TK1IMZISvKi9Foy+Mh3cuoLnIugq4Ai2eIOZXFzDzwyNj1TBbddx/GzEtjoVQCJG0vNI83s/RDN8sC5UR1454qJJvGGIVcfYyjX46UNryMW7ML2Nh5h7+W18Rb9d2saiM7bujv5XIyIkJy6ZSqAd+juG5B8Yq61yzLtgK3QhfiZxuE+3hTVwNPsBabBwf1ZfA0dKPOfEMYQ4efqNVhPgWIlD8zQ6U+T0Pa7MSY4PHKDoaL2FWf8Mml2sRutochjpegVr9HvqnlqEl5hGa+CH9IVgeq/K2ZQxo9/xo4j+QsDh3De6a4qRjQTpvo+yetX4Jk73NMrGw2kIqiF23L5R1wc4znsg41ljNxoNgMtuCsXgq+Xdq60T7Xv41ZrB24sDZq5hbNLIQiF9JzMwkm9B93muMe5X3fICAubBWJ8SzIMhz3N/5mqJm+L6fw53zrSh63tAFsd6l8RK+fxjC+eYyPrb/gXv+Vjj0jAkPMDf6a9SwBfC6Q28tyz7ZUmK+zJx1ITehK+ydPk9ZH4AzC11Rhl1mGtZmMXcpkvYR7c8+38s93ortPIRuHLOf/QvO/t6PIbYILDiKQU8bKpQqdAUe6TnV/uZpgIMtxPptn3nM0OU/I5Tyowf8BuA4BvcXowiODaP/wjVEMq1RSKETw2RvPVR9Mdo5fKkvthrFkL8PIxGWZuMGul9x8NRFrI32i7qMiSOZbmmk/7JxPmLI3gcjvYnK8o5evIox1vaeFuw1L6DnWIyW4uVO6aT+h9HGPWjsvYKxwBVc6r+JGDQ8/tu/od7hRNWp/w+/vphtDIGhfgyE+E9NPp3BZx/+Ar/3DyLAQkgCf4Ln1H4oaZNDep30zQYTkG78hpGNNFSGt1bOY8jeiJShyT9jphdzVB3GIZbpQ84HKZfHcjKK/IhVP8LJulIYEy+7M0v5GhW+6Czlu9TMJUkKGtam+tCqZzhhsVn3LW9DLIIqpzIt/WQhPYksbV/7Dn2tRs5dI4uE5XzBSY9RvoIzIi9mwzHsN6/LBOZHu1HP8n+mZCnJfhM24jpF/t2kTfTUbHpmFxWump9jyCZGl8VMr4y8B6eU/skIrxD5dBllmd9zsk4aCcAqpvp+bOT11UNhZlJ/AlgeJ2w4xCbgbeF5jBUVrqY+RKxCXT5H3rYIXXYTjA6+b+bXfed0I5xiTUTKeRa7vTS7Z6nfZMRT39nYzJ6F1RZspb78L9N4snrb5HMsDxxpHC18zHFteYvDitRfjzuS+XQt1aSN2w1hbcmZzELmNvoa429J9nSNIu13C1PmHmOOS5h5tZ2oeqsVdWZebfm6s9pFhslsIvIGH8BbJ19L5g1O/IDBM4d5Luo2nH6T5+Fmp2fbJxevPcDoL4/rOW1TMlRZPLHyKXrxaSE3GcaOpZxsQlcPebS1n1G7oUcsP26UwjzTPcTa+s39Ow+hu4xJbxuqpbRaiusQTv3uOhbEJJl4gOD5M6jbyxLbsxuDAnXvSfTpKZOSHdQWruMjkTCeTbTVH2Ik1x9GsKmDDZJulleULTgIfYIOM/ict6HiZxiWy9fmMPZRK0/4zgxUgy6RHsymfLkPWuw2PusyEkXr/XO5UGzeUA1RIacfS08vZrnIklhSt6Sk0ywB/t7jf0BYXxIfx3zwD+isk9KHqftwou+OnlYJqzfhbT2YXJCk823D78Yo60Iq4B3yl2Wy2iGt3vJmGl4vkUpny5tDDSACu4wA9/KlpTfbwG7qb3SzpCbcwKqp6J1JIA+huzM7utGtNm6oIj/fRtdG5RccARK6OZpcw+NICKGFOLTYDIbcR6GWtGPA/NW2HIuhw4gAEchAYAWRiTAWWEaE2UG4a1woafsy+Yt7Gc56OV8b+YHLaj0Im2sNXk7JVMruJbDthK6RY1dkErD5DC9sg8wBcUS+uoDzX/I8vSP/gZ7mV6DQDXX3Xilb3TMSujlaIIbx7hrzR1JSfq4zxxLoMCJABLIQiH+L7krxttb6M+NZznspuzQklpaQ8tsYL6VcKmQ3E9h2QteIHzFCDUTYQ8rnM2JaN8dYMYz31qeGBci/vLY5jaBaiAARIAJEgAgQASJABLIQ2HZCN0tbaRcRIAJEgAgQASJABIgAEciZAAndnFHRgUSACBABIkAEiAARIAI7iQAJ3Z1kLWorESACRIAIEAEiQASIQM4ESOjmjIoOJAJEgAgQASJABIgAEdhJBEjo7iRrUVuJABEgAkSACBABIkAEciZAQjdnVHQgESgEAnFMed+AWvpPGFnO6WcKCwEK9ZEIEAEiQAR2KAESujvUcNTsQiEQR2TQjYbqXyGY2Iw+r+Nh4Ldofecypigh+2YApzqIABEgAkRgAwmQ0N1AuFQ0EXhxAjEE3VVQXO5NErov3mIqgQgQASJABIjAdiFAQne7WILaUUAENCSif0Vvc6XxC17FZxFYvoWLJ14x/lYr0eKdQEzjIldJ/oCKyx1EAjGE+9pRpSpQ1EPo+PQ7PNbprSM2+TEaS1QoaiVOvFmLIqUZ/ihzBbN959FSwX7RyImqNh9CsXVA/8U1Jw7/pAONJSVo8E8j6m+GYp6n4XG4D21VTv286o4/YuqxBi02AW8Lb796FL2TKwVkP+oqESACRIAI7BQCJHR3iqWonbuHwFoY3mMlcNS58UXgG1wPziCm3ce1S1cwFfs7xnvqoKon4Jt9AsDq0dXwZPIjHHTUoefG97jlOQGHoxX+e2tAbBRdFU5UtJ3D8OgFtFc4TMGqLQ6io9SFmp4gFu/2o63UhVpPCGv8p4UV9Sjco/eRQCJV6D6ZQO/BPajp+RrRW+fQ4ChFk/82vvedgLrvZxiaW8b8xDhmHmu7xz7UEyJABIgAEdg1BEjo7hpTUkd2BgENq4EPsEc5BHdwybbJT8MeHFT2on1owUboLiPoPgCl1otppi0XB3DKUYrm/giWh95FkVIHT5j5dx8j7KnjQjeOxYG34VCa4IusAVhCoKsSSmUvQvEg3C4FaqMfUV2rpgrdeNCNMuU4vNNxAA8wcKoMavO/41MWTiHaYNsL+pIIEAEiQASIwNYTIKG79TagFhQUAS5Ai97FUKasBlE/GhQXGvyRdKGrzcBXX4zirgCY9DRCD1SUd48ixIQtC4OIM8UqC9ZlhHprpTjfNUR8TVAcb2Ng7roudI2QCL1AyaP7D+M4s0zuXS7/Zwxf+xAVSjkaeq4hmiBvbkENYeosESACRGAHESChu4OMRU3dDQSsoQiiT3FEAx+j/UgpFD0mN4PQFaEGUtwuO97lHkIgZdGaLHQfWRa0SfsigSxCl59nqctYGLeESc+bKFGcqD5zhcSuMCN9EgEiQASIwLYiQEJ3W5mDGrP7CaxgvPuQ5HllPdawFvagVt2PNu8oZsOfZPbocqGb9MAKYtZyJTEbzdejaxXIoi7xGUd04DQqlDKcGnggvqRPIkAEiAARIALbhgAJ3W1jCmpIYRBY5/Gyr6E3JDIVrKaGFmQLXRBxssd8mE2JGBDlinjaOKa9xy0xumJfeoxuUjjLApnH9poL42wslFF42xxLXxEBIkAEiAAR2GQCJHQ3GThVRwSMDAgOlLZ8jBvzy1iYmcbkxRNQHc3wfT+HO+dbUWTG6PKYXrZvli0yW8fi0GmUqofR2X8bMS2OhVAIEZby654fTQ4nDpy9irnFIHpqinPOumAvdBMw2lqM6s5+TMXWkVgIYyKyjIcTf0VwfhWxm/+KescetPTfRYruJjMTASJABIgAEdgGBEjobgMjUBMKjYCc01aBUt6N8UcT8DSWGzlu32pFXZGI0dWwNtWHVj3/Lc/EoC1h0nsSFSyPLoufdb0Ff4SlIosjOvg+qvX8utVoeGO/KXTZ4rT50W7Usxy7Silqzg4acbVpHlnZo2vNv8vqK0OT/yZu9h41cv7KZRWaGam/RIAIEAEisO0JkNDd9iaiBhKBfAjw0AXnexhZIV9rPgTpHCJABIgAEdj5BEjo7nwbUg+IACewgshEGAuJdcRmB+GucaGk7UvMk86lEUIEiAARIAIFSoCEboEanrq9CwnEv0V3JfuJXxZiUISKlvOYZD/zS/+IABEgAkSACBQoARK6BWp46jYRIAJEgAgQASJABHY7ARK6u93C1D8iQASIABEgAkSACBQoARK6BWp46jYRIAJEgAgQASJABHY7ARK6u93C1D8iQASIABEgAkSACBQoAVuh++Dyp7jxv/43/ScGNAZoDNAYoDFAY4DGAI0BGgM7Ygys3P4uTc7bCt20o+gLIkAEiAARIAJEgAgQASKwwwiQ0N1hBqPmEgEiQASIABEgAkSACORGgIRubpzoKCJABIgAESACRIAIEIEdRoCE7g4zGDWXCBABIkAEiAARIAJEIDcCJHRz40RHEQEiQASIABEgAkSACOwwAv8DU4+CqXJuK5EAAAAASUVORK5CYII='>\n",
        "</p>"
      ]
    },
    {
      "cell_type": "markdown",
      "metadata": {
        "id": "k6RwLF7KPFeu"
      },
      "source": [
        "### Creating dummy variables for modeling"
      ]
    },
    {
      "cell_type": "markdown",
      "metadata": {
        "id": "SP5TAtSOPJzV"
      },
      "source": [
        "When you’re using statistics or machine learning tools, you’ll often transform categorical data into dummy variables, also known as **one-hot encoding**\n",
        "\n",
        "This involves **creating a DataFrame with a column for each distinct category;** these columns contain 1s for occurrences of a given category and 0 otherwise\n",
        "\n",
        "Consider the previous example:"
      ]
    },
    {
      "cell_type": "code",
      "metadata": {
        "id": "bpMDtnoXOxtc"
      },
      "source": [
        "cat_s = pd.Series(['a', 'b', 'c', 'd'] * 2, dtype='category')"
      ],
      "execution_count": null,
      "outputs": []
    },
    {
      "cell_type": "markdown",
      "metadata": {
        "id": "Yn6RzYoyY-GO"
      },
      "source": [
        "As mentioned previously in Chapter 7, the **pandas.get_dummies** function converts this one-dimensional categorical data into a DataFrame containing the dummy variable:"
      ]
    },
    {
      "cell_type": "code",
      "metadata": {
        "colab": {
          "base_uri": "https://localhost:8080/",
          "height": 294
        },
        "id": "nHvhQsbLY86r",
        "outputId": "3dee1abd-e181-41fb-c9cf-e65f7e2469e5"
      },
      "source": [
        "pd.get_dummies(cat_s)"
      ],
      "execution_count": null,
      "outputs": [
        {
          "output_type": "execute_result",
          "data": {
            "text/html": [
              "<div>\n",
              "<style scoped>\n",
              "    .dataframe tbody tr th:only-of-type {\n",
              "        vertical-align: middle;\n",
              "    }\n",
              "\n",
              "    .dataframe tbody tr th {\n",
              "        vertical-align: top;\n",
              "    }\n",
              "\n",
              "    .dataframe thead th {\n",
              "        text-align: right;\n",
              "    }\n",
              "</style>\n",
              "<table border=\"1\" class=\"dataframe\">\n",
              "  <thead>\n",
              "    <tr style=\"text-align: right;\">\n",
              "      <th></th>\n",
              "      <th>a</th>\n",
              "      <th>b</th>\n",
              "      <th>c</th>\n",
              "      <th>d</th>\n",
              "    </tr>\n",
              "  </thead>\n",
              "  <tbody>\n",
              "    <tr>\n",
              "      <th>0</th>\n",
              "      <td>1</td>\n",
              "      <td>0</td>\n",
              "      <td>0</td>\n",
              "      <td>0</td>\n",
              "    </tr>\n",
              "    <tr>\n",
              "      <th>1</th>\n",
              "      <td>0</td>\n",
              "      <td>1</td>\n",
              "      <td>0</td>\n",
              "      <td>0</td>\n",
              "    </tr>\n",
              "    <tr>\n",
              "      <th>2</th>\n",
              "      <td>0</td>\n",
              "      <td>0</td>\n",
              "      <td>1</td>\n",
              "      <td>0</td>\n",
              "    </tr>\n",
              "    <tr>\n",
              "      <th>3</th>\n",
              "      <td>0</td>\n",
              "      <td>0</td>\n",
              "      <td>0</td>\n",
              "      <td>1</td>\n",
              "    </tr>\n",
              "    <tr>\n",
              "      <th>4</th>\n",
              "      <td>1</td>\n",
              "      <td>0</td>\n",
              "      <td>0</td>\n",
              "      <td>0</td>\n",
              "    </tr>\n",
              "    <tr>\n",
              "      <th>5</th>\n",
              "      <td>0</td>\n",
              "      <td>1</td>\n",
              "      <td>0</td>\n",
              "      <td>0</td>\n",
              "    </tr>\n",
              "    <tr>\n",
              "      <th>6</th>\n",
              "      <td>0</td>\n",
              "      <td>0</td>\n",
              "      <td>1</td>\n",
              "      <td>0</td>\n",
              "    </tr>\n",
              "    <tr>\n",
              "      <th>7</th>\n",
              "      <td>0</td>\n",
              "      <td>0</td>\n",
              "      <td>0</td>\n",
              "      <td>1</td>\n",
              "    </tr>\n",
              "  </tbody>\n",
              "</table>\n",
              "</div>"
            ],
            "text/plain": [
              "   a  b  c  d\n",
              "0  1  0  0  0\n",
              "1  0  1  0  0\n",
              "2  0  0  1  0\n",
              "3  0  0  0  1\n",
              "4  1  0  0  0\n",
              "5  0  1  0  0\n",
              "6  0  0  1  0\n",
              "7  0  0  0  1"
            ]
          },
          "metadata": {},
          "execution_count": 105
        }
      ]
    },
    {
      "cell_type": "markdown",
      "metadata": {
        "id": "PEtta9bKZG_B"
      },
      "source": [
        "# 12.2 Advanced GroupBy Use"
      ]
    },
    {
      "cell_type": "markdown",
      "metadata": {
        "id": "BC50EFJaZLCO"
      },
      "source": [
        "## Group Transforms and “Unwrapped” GroupBys"
      ]
    },
    {
      "cell_type": "markdown",
      "metadata": {
        "id": "n-OAMpvtZOfk"
      },
      "source": [
        "There is another built-in method called **transform,** which is **similar to apply but imposes more constraints on the kind of function you can use:**\n",
        "\n",
        "* **It can produce a scalar value to be broadcast to the shape of the group**\n",
        "\n",
        "* **It can produce an object of the same shape as the input group**\n",
        "\n",
        "* **It must not mutate its input**\n",
        "\n",
        "Let’s consider a simple example for illustration:"
      ]
    },
    {
      "cell_type": "code",
      "metadata": {
        "id": "r2xA3BNLbBhb"
      },
      "source": [
        "df = pd.DataFrame({'key': ['a', 'b', 'c'] * 4,\n",
        "                   'value': np.arange(12.)})"
      ],
      "execution_count": null,
      "outputs": []
    },
    {
      "cell_type": "code",
      "metadata": {
        "colab": {
          "base_uri": "https://localhost:8080/",
          "height": 416
        },
        "id": "1EITWHZqbIbI",
        "outputId": "7d958a0b-42ca-4724-e49a-d26272d3777e"
      },
      "source": [
        "df"
      ],
      "execution_count": null,
      "outputs": [
        {
          "output_type": "execute_result",
          "data": {
            "text/html": [
              "<div>\n",
              "<style scoped>\n",
              "    .dataframe tbody tr th:only-of-type {\n",
              "        vertical-align: middle;\n",
              "    }\n",
              "\n",
              "    .dataframe tbody tr th {\n",
              "        vertical-align: top;\n",
              "    }\n",
              "\n",
              "    .dataframe thead th {\n",
              "        text-align: right;\n",
              "    }\n",
              "</style>\n",
              "<table border=\"1\" class=\"dataframe\">\n",
              "  <thead>\n",
              "    <tr style=\"text-align: right;\">\n",
              "      <th></th>\n",
              "      <th>key</th>\n",
              "      <th>value</th>\n",
              "    </tr>\n",
              "  </thead>\n",
              "  <tbody>\n",
              "    <tr>\n",
              "      <th>0</th>\n",
              "      <td>a</td>\n",
              "      <td>0.0</td>\n",
              "    </tr>\n",
              "    <tr>\n",
              "      <th>1</th>\n",
              "      <td>b</td>\n",
              "      <td>1.0</td>\n",
              "    </tr>\n",
              "    <tr>\n",
              "      <th>2</th>\n",
              "      <td>c</td>\n",
              "      <td>2.0</td>\n",
              "    </tr>\n",
              "    <tr>\n",
              "      <th>3</th>\n",
              "      <td>a</td>\n",
              "      <td>3.0</td>\n",
              "    </tr>\n",
              "    <tr>\n",
              "      <th>4</th>\n",
              "      <td>b</td>\n",
              "      <td>4.0</td>\n",
              "    </tr>\n",
              "    <tr>\n",
              "      <th>5</th>\n",
              "      <td>c</td>\n",
              "      <td>5.0</td>\n",
              "    </tr>\n",
              "    <tr>\n",
              "      <th>6</th>\n",
              "      <td>a</td>\n",
              "      <td>6.0</td>\n",
              "    </tr>\n",
              "    <tr>\n",
              "      <th>7</th>\n",
              "      <td>b</td>\n",
              "      <td>7.0</td>\n",
              "    </tr>\n",
              "    <tr>\n",
              "      <th>8</th>\n",
              "      <td>c</td>\n",
              "      <td>8.0</td>\n",
              "    </tr>\n",
              "    <tr>\n",
              "      <th>9</th>\n",
              "      <td>a</td>\n",
              "      <td>9.0</td>\n",
              "    </tr>\n",
              "    <tr>\n",
              "      <th>10</th>\n",
              "      <td>b</td>\n",
              "      <td>10.0</td>\n",
              "    </tr>\n",
              "    <tr>\n",
              "      <th>11</th>\n",
              "      <td>c</td>\n",
              "      <td>11.0</td>\n",
              "    </tr>\n",
              "  </tbody>\n",
              "</table>\n",
              "</div>"
            ],
            "text/plain": [
              "   key  value\n",
              "0    a    0.0\n",
              "1    b    1.0\n",
              "2    c    2.0\n",
              "3    a    3.0\n",
              "4    b    4.0\n",
              "5    c    5.0\n",
              "6    a    6.0\n",
              "7    b    7.0\n",
              "8    c    8.0\n",
              "9    a    9.0\n",
              "10   b   10.0\n",
              "11   c   11.0"
            ]
          },
          "metadata": {},
          "execution_count": 107
        }
      ]
    },
    {
      "cell_type": "markdown",
      "metadata": {
        "id": "er91MU4obc5J"
      },
      "source": [
        "Here are the group means by key:"
      ]
    },
    {
      "cell_type": "code",
      "metadata": {
        "id": "KG3gmlDTbepe"
      },
      "source": [
        "g = df.groupby('key').value"
      ],
      "execution_count": null,
      "outputs": []
    },
    {
      "cell_type": "code",
      "metadata": {
        "colab": {
          "base_uri": "https://localhost:8080/"
        },
        "id": "qkd9JVWabiF2",
        "outputId": "3b5b45d8-e960-48e5-82cc-f0261ea96515"
      },
      "source": [
        "g.mean()"
      ],
      "execution_count": null,
      "outputs": [
        {
          "output_type": "execute_result",
          "data": {
            "text/plain": [
              "key\n",
              "a    4.5\n",
              "b    5.5\n",
              "c    6.5\n",
              "Name: value, dtype: float64"
            ]
          },
          "metadata": {},
          "execution_count": 109
        }
      ]
    },
    {
      "cell_type": "markdown",
      "metadata": {
        "id": "GYBysO7sbkOW"
      },
      "source": [
        "Suppose instead we wanted to **produce a Series of the same shape as df['value'] but with values replaced by the average grouped by 'key'**\n",
        "\n",
        "**We can pass the function lambda x: x.mean() to transform:**"
      ]
    },
    {
      "cell_type": "code",
      "metadata": {
        "colab": {
          "base_uri": "https://localhost:8080/"
        },
        "id": "WM8FMNegb0qR",
        "outputId": "dfe92639-01d3-467a-cef9-21b273318f81"
      },
      "source": [
        "g.transform(lambda x: x.mean())"
      ],
      "execution_count": null,
      "outputs": [
        {
          "output_type": "execute_result",
          "data": {
            "text/plain": [
              "0     4.5\n",
              "1     5.5\n",
              "2     6.5\n",
              "3     4.5\n",
              "4     5.5\n",
              "5     6.5\n",
              "6     4.5\n",
              "7     5.5\n",
              "8     6.5\n",
              "9     4.5\n",
              "10    5.5\n",
              "11    6.5\n",
              "Name: value, dtype: float64"
            ]
          },
          "metadata": {},
          "execution_count": 110
        }
      ]
    },
    {
      "cell_type": "markdown",
      "metadata": {
        "id": "kGe1zV9xb4hP"
      },
      "source": [
        "For **built-in aggregation functions,** we can pass a **string alias** as with the GroupBy agg method:"
      ]
    },
    {
      "cell_type": "code",
      "metadata": {
        "id": "rS_Pu7lYc6dG",
        "colab": {
          "base_uri": "https://localhost:8080/"
        },
        "outputId": "e31c97c3-a2fa-4b70-fb85-81b8b80dc3c6"
      },
      "source": [
        "g.transform('mean')"
      ],
      "execution_count": 115,
      "outputs": [
        {
          "output_type": "execute_result",
          "data": {
            "text/plain": [
              "0     4.5\n",
              "1     5.5\n",
              "2     6.5\n",
              "3     4.5\n",
              "4     5.5\n",
              "5     6.5\n",
              "6     4.5\n",
              "7     5.5\n",
              "8     6.5\n",
              "9     4.5\n",
              "10    5.5\n",
              "11    6.5\n",
              "Name: value, dtype: float64"
            ]
          },
          "metadata": {},
          "execution_count": 115
        }
      ]
    },
    {
      "cell_type": "markdown",
      "metadata": {
        "id": "Xcr930P3dpTc"
      },
      "source": [
        "Like apply, **transform works with functions that return Series,** but the **result must be the same size as the input** \n",
        "\n",
        "**For example, we can multiply each group by 2 using a lambda function:**"
      ]
    },
    {
      "cell_type": "code",
      "metadata": {
        "colab": {
          "base_uri": "https://localhost:8080/"
        },
        "id": "h6CpXnjGd5TZ",
        "outputId": "b7680766-1ddd-405d-9e1d-d6569599befc"
      },
      "source": [
        "g.transform(lambda x: x * 2)"
      ],
      "execution_count": 117,
      "outputs": [
        {
          "output_type": "execute_result",
          "data": {
            "text/plain": [
              "0      0.0\n",
              "1      2.0\n",
              "2      4.0\n",
              "3      6.0\n",
              "4      8.0\n",
              "5     10.0\n",
              "6     12.0\n",
              "7     14.0\n",
              "8     16.0\n",
              "9     18.0\n",
              "10    20.0\n",
              "11    22.0\n",
              "Name: value, dtype: float64"
            ]
          },
          "metadata": {},
          "execution_count": 117
        }
      ]
    },
    {
      "cell_type": "markdown",
      "metadata": {
        "id": "oPzoE8lOd9ST"
      },
      "source": [
        "As a more complicated example, we can compute the ranks in descending order for each group:"
      ]
    },
    {
      "cell_type": "code",
      "metadata": {
        "colab": {
          "base_uri": "https://localhost:8080/"
        },
        "id": "MIu0K0H2d_iC",
        "outputId": "05be261d-fa11-4e8b-fe19-1c0d13901ab8"
      },
      "source": [
        "g.transform(lambda x: x.rank(ascending=False))"
      ],
      "execution_count": 118,
      "outputs": [
        {
          "output_type": "execute_result",
          "data": {
            "text/plain": [
              "0     4.0\n",
              "1     4.0\n",
              "2     4.0\n",
              "3     3.0\n",
              "4     3.0\n",
              "5     3.0\n",
              "6     2.0\n",
              "7     2.0\n",
              "8     2.0\n",
              "9     1.0\n",
              "10    1.0\n",
              "11    1.0\n",
              "Name: value, dtype: float64"
            ]
          },
          "metadata": {},
          "execution_count": 118
        }
      ]
    },
    {
      "cell_type": "markdown",
      "metadata": {
        "id": "JDnEbwoSeFiE"
      },
      "source": [
        "Consider a group transformation function composed from simple aggregations:"
      ]
    },
    {
      "cell_type": "code",
      "metadata": {
        "id": "_zeWdsupeHIv"
      },
      "source": [
        "def normalize(x):\n",
        "  return (x - x.mean()) / x.std()"
      ],
      "execution_count": 119,
      "outputs": []
    },
    {
      "cell_type": "markdown",
      "metadata": {
        "id": "8AUlXNuDeN_o"
      },
      "source": [
        "We can obtain equivalent results in this case either using transform or apply:"
      ]
    },
    {
      "cell_type": "code",
      "metadata": {
        "colab": {
          "base_uri": "https://localhost:8080/"
        },
        "id": "PVcDCd_geWHs",
        "outputId": "e14f496b-455a-4804-a7fc-35f9a3ff67ba"
      },
      "source": [
        "g.transform(normalize)"
      ],
      "execution_count": 120,
      "outputs": [
        {
          "output_type": "execute_result",
          "data": {
            "text/plain": [
              "0    -1.161895\n",
              "1    -1.161895\n",
              "2    -1.161895\n",
              "3    -0.387298\n",
              "4    -0.387298\n",
              "5    -0.387298\n",
              "6     0.387298\n",
              "7     0.387298\n",
              "8     0.387298\n",
              "9     1.161895\n",
              "10    1.161895\n",
              "11    1.161895\n",
              "Name: value, dtype: float64"
            ]
          },
          "metadata": {},
          "execution_count": 120
        }
      ]
    },
    {
      "cell_type": "code",
      "metadata": {
        "colab": {
          "base_uri": "https://localhost:8080/"
        },
        "id": "W2dmMH-ieXpe",
        "outputId": "44c49f33-ab1f-4c30-adfd-fec8d6a392e7"
      },
      "source": [
        "g.apply(normalize)"
      ],
      "execution_count": 121,
      "outputs": [
        {
          "output_type": "execute_result",
          "data": {
            "text/plain": [
              "0    -1.161895\n",
              "1    -1.161895\n",
              "2    -1.161895\n",
              "3    -0.387298\n",
              "4    -0.387298\n",
              "5    -0.387298\n",
              "6     0.387298\n",
              "7     0.387298\n",
              "8     0.387298\n",
              "9     1.161895\n",
              "10    1.161895\n",
              "11    1.161895\n",
              "Name: value, dtype: float64"
            ]
          },
          "metadata": {},
          "execution_count": 121
        }
      ]
    },
    {
      "cell_type": "markdown",
      "metadata": {
        "id": "n_iDnnFOebRT"
      },
      "source": [
        "**Built-in aggregate functions like 'mean' or 'sum' are often much faster than a general apply function**\n",
        "\n",
        "These also have a “fast past” when used with transform. This allows us to perform a so-called unwrapped group operation:"
      ]
    },
    {
      "cell_type": "code",
      "metadata": {
        "colab": {
          "base_uri": "https://localhost:8080/"
        },
        "id": "ZpxQbEdZerQL",
        "outputId": "a0f1019a-0593-4db5-9971-f079a35b97c6"
      },
      "source": [
        "g.transform('mean')"
      ],
      "execution_count": 122,
      "outputs": [
        {
          "output_type": "execute_result",
          "data": {
            "text/plain": [
              "0     4.5\n",
              "1     5.5\n",
              "2     6.5\n",
              "3     4.5\n",
              "4     5.5\n",
              "5     6.5\n",
              "6     4.5\n",
              "7     5.5\n",
              "8     6.5\n",
              "9     4.5\n",
              "10    5.5\n",
              "11    6.5\n",
              "Name: value, dtype: float64"
            ]
          },
          "metadata": {},
          "execution_count": 122
        }
      ]
    },
    {
      "cell_type": "code",
      "metadata": {
        "id": "XbDb8hOMeseR"
      },
      "source": [
        ""
      ],
      "execution_count": null,
      "outputs": []
    }
  ]
}