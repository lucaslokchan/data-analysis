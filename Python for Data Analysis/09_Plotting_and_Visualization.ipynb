{
  "nbformat": 4,
  "nbformat_minor": 0,
  "metadata": {
    "colab": {
      "name": "09.Plotting and Visualization.ipynb",
      "provenance": [],
      "collapsed_sections": [],
      "authorship_tag": "ABX9TyPLm1ZPq/RAFGdf7nOpse36"
    },
    "kernelspec": {
      "name": "python3",
      "display_name": "Python 3"
    },
    "language_info": {
      "name": "python"
    }
  },
  "cells": [
    {
      "cell_type": "markdown",
      "metadata": {
        "id": "1UhRTnV2AOdc"
      },
      "source": [
        "# 9.1 A Brief matplotlib API Primer"
      ]
    },
    {
      "cell_type": "markdown",
      "metadata": {
        "id": "G7z6BklcBBe9"
      },
      "source": [
        "With matplotlib, we use the following import convention:"
      ]
    },
    {
      "cell_type": "code",
      "metadata": {
        "id": "3gMH5_Q8ANt9"
      },
      "source": [
        "import matplotlib.pyplot as plt"
      ],
      "execution_count": 1,
      "outputs": []
    },
    {
      "cell_type": "markdown",
      "metadata": {
        "id": "TXWjgcwuBHSs"
      },
      "source": [
        "After running %matplotlib notebook in Jupyter (or simply %matplotlib in IPython), we can try creating a simple plot\n",
        "\n",
        "If everything is set up right, a line plot like Figure 9-1 should appear:\n"
      ]
    },
    {
      "cell_type": "code",
      "metadata": {
        "id": "fv1pO9CeBM04"
      },
      "source": [
        "import numpy as np"
      ],
      "execution_count": 2,
      "outputs": []
    },
    {
      "cell_type": "code",
      "metadata": {
        "id": "Z4JaFVTmBOHv"
      },
      "source": [
        "data = np.arange(10)"
      ],
      "execution_count": 3,
      "outputs": []
    },
    {
      "cell_type": "code",
      "metadata": {
        "colab": {
          "base_uri": "https://localhost:8080/"
        },
        "id": "K2XCGXLhBQl8",
        "outputId": "4e075817-9f38-4289-b5ba-50386d79ad61"
      },
      "source": [
        "data"
      ],
      "execution_count": 4,
      "outputs": [
        {
          "output_type": "execute_result",
          "data": {
            "text/plain": [
              "array([0, 1, 2, 3, 4, 5, 6, 7, 8, 9])"
            ]
          },
          "metadata": {},
          "execution_count": 4
        }
      ]
    },
    {
      "cell_type": "code",
      "metadata": {
        "colab": {
          "base_uri": "https://localhost:8080/",
          "height": 282
        },
        "id": "i1kJHJggBQ_s",
        "outputId": "96251d9f-bd7a-4f55-97b2-36ea3c9ee9b3"
      },
      "source": [
        "plt.plot(data)"
      ],
      "execution_count": 5,
      "outputs": [
        {
          "output_type": "execute_result",
          "data": {
            "text/plain": [
              "[<matplotlib.lines.Line2D at 0x7f77cd989790>]"
            ]
          },
          "metadata": {},
          "execution_count": 5
        },
        {
          "output_type": "display_data",
          "data": {
            "image/png": "[encoded data removed]",
            "text/plain": [
              "<Figure size 432x288 with 1 Axes>"
            ]
          },
          "metadata": {
            "needs_background": "light"
          }
        }
      ]
    },
    {
      "cell_type": "markdown",
      "metadata": {
        "id": "0G_5i1rzC6g9"
      },
      "source": [
        "Figure 9-1. Simple line plot"
      ]
    },
    {
      "cell_type": "markdown",
      "metadata": {
        "id": "8o1yQNaSDM10"
      },
      "source": [
        "## Figures and Subplots"
      ]
    },
    {
      "cell_type": "markdown",
      "metadata": {
        "id": "MpljL8vODOdU"
      },
      "source": [
        "Plots in matplotlib reside within a Figure object. You can create a new figure with plt.figure:"
      ]
    },
    {
      "cell_type": "code",
      "metadata": {
        "colab": {
          "base_uri": "https://localhost:8080/",
          "height": 34
        },
        "id": "0YFnfq0eDSEm",
        "outputId": "a068674d-53c1-497d-f411-3fded0f6bfa0"
      },
      "source": [
        "fig = plt.figure()"
      ],
      "execution_count": 6,
      "outputs": [
        {
          "output_type": "display_data",
          "data": {
            "text/plain": [
              "<Figure size 432x288 with 0 Axes>"
            ]
          },
          "metadata": {}
        }
      ]
    },
    {
      "cell_type": "markdown",
      "metadata": {
        "id": "tB7u6byrDV58"
      },
      "source": [
        "In IPython, an empty plot window will appear, but in Jupyter nothing will be shown until we use a few more commands\n",
        "\n",
        "You can’t make a plot with a blank figure. You have to **create one or more subplots using add_subplot:**"
      ]
    },
    {
      "cell_type": "code",
      "metadata": {
        "id": "irEUPBlmDlMc"
      },
      "source": [
        "ax1 = fig.add_subplot(2, 2, 1)"
      ],
      "execution_count": 7,
      "outputs": []
    },
    {
      "cell_type": "markdown",
      "metadata": {
        "id": "x2YWHC0lDqn1"
      },
      "source": [
        "This means that the figure should be 2 × 2 (so up to four plots in total), and we’re selecting the first of four subplots (numbered from 1)\n",
        "\n",
        "If you create the next two sub plots, you’ll end up with a visualization that looks like Figure 9-2:"
      ]
    },
    {
      "cell_type": "code",
      "metadata": {
        "id": "CzSNijTRDzRc"
      },
      "source": [
        "ax2 = fig.add_subplot(2, 2, 2)"
      ],
      "execution_count": 8,
      "outputs": []
    },
    {
      "cell_type": "code",
      "metadata": {
        "id": "P439YYw-D10i"
      },
      "source": [
        "ax3 = fig.add_subplot(2, 2, 3)"
      ],
      "execution_count": 9,
      "outputs": []
    },
    {
      "cell_type": "code",
      "metadata": {
        "colab": {
          "base_uri": "https://localhost:8080/",
          "height": 269
        },
        "id": "tLqSTzpeD6CP",
        "outputId": "945c1ed5-1ac6-4518-ec40-4c6bbe950a88"
      },
      "source": [
        "fig"
      ],
      "execution_count": 10,
      "outputs": [
        {
          "output_type": "execute_result",
          "data": {
            "image/png": "[encoded data removed]",
            "text/plain": [
              "<Figure size 432x288 with 3 Axes>"
            ]
          },
          "metadata": {},
          "execution_count": 10
        }
      ]
    },
    {
      "cell_type": "markdown",
      "metadata": {
        "id": "s9QN07tqD_wG"
      },
      "source": [
        "Figure 9-2. An empty matplotlib igure with three subplots"
      ]
    },
    {
      "cell_type": "markdown",
      "metadata": {
        "id": "yo7vyCCaEKUk"
      },
      "source": [
        "One nuance of using **Jupyter notebooks is that plots are reset after each cell is evaluated,** so **for more complex plots you must put all of the plotting commands in a single notebook cell**"
      ]
    },
    {
      "cell_type": "markdown",
      "metadata": {
        "id": "QIS6VKujEBGD"
      },
      "source": [
        "Here we run all of these commands in the same cell:"
      ]
    },
    {
      "cell_type": "code",
      "metadata": {
        "colab": {
          "base_uri": "https://localhost:8080/",
          "height": 269
        },
        "id": "QB2b1q5yEDpk",
        "outputId": "564da404-970c-4a02-9d20-317e95038877"
      },
      "source": [
        "fig = plt.figure()\n",
        "ax1 = fig.add_subplot(2, 2, 1)\n",
        "ax2 = fig.add_subplot(2, 2, 2)\n",
        "ax3 = fig.add_subplot(2, 2, 3)"
      ],
      "execution_count": 11,
      "outputs": [
        {
          "output_type": "display_data",
          "data": {
            "image/png": "[encoded data removed]",
            "text/plain": [
              "<Figure size 432x288 with 3 Axes>"
            ]
          },
          "metadata": {
            "needs_background": "light"
          }
        }
      ]
    },
    {
      "cell_type": "markdown",
      "metadata": {
        "id": "zMKZ2MbOER5U"
      },
      "source": [
        "When you issue a plotting command like plt.plot([1.5, 3.5, -2, 1.6]), **matplotlib draws on the last figure and subplot** used (creating one if necessary), thus hiding the figure and subplot creation\n",
        "\n",
        "So if we add the following command, you’ll get something like Figure 9-3:"
      ]
    },
    {
      "cell_type": "code",
      "metadata": {
        "colab": {
          "base_uri": "https://localhost:8080/",
          "height": 286
        },
        "id": "_VulSwtfEex0",
        "outputId": "d31d32b8-c03f-4c5f-e937-ea9a286de70a"
      },
      "source": [
        "fig = plt.figure()\n",
        "ax1 = fig.add_subplot(2, 2, 1)\n",
        "ax2 = fig.add_subplot(2, 2, 2)\n",
        "ax3 = fig.add_subplot(2, 2, 3)\n",
        "plt.plot(np.random.randn(50).cumsum(), 'k--')"
      ],
      "execution_count": 12,
      "outputs": [
        {
          "output_type": "execute_result",
          "data": {
            "text/plain": [
              "[<matplotlib.lines.Line2D at 0x7f77cd21a3d0>]"
            ]
          },
          "metadata": {},
          "execution_count": 12
        },
        {
          "output_type": "display_data",
          "data": {
            "image/png": "[encoded data removed]",
            "text/plain": [
              "<Figure size 432x288 with 3 Axes>"
            ]
          },
          "metadata": {
            "needs_background": "light"
          }
        }
      ]
    },
    {
      "cell_type": "markdown",
      "metadata": {
        "id": "U6XpqdBVE2o8"
      },
      "source": [
        "Figure 9-3. Data visualization ater single plot"
      ]
    },
    {
      "cell_type": "markdown",
      "metadata": {
        "id": "P1GY83UFEoQc"
      },
      "source": [
        "The 'k--' is a style option instructing matplotlib to plot a black dashed line\n",
        "\n",
        "The objects returned by fig.add_subplot here are AxesSubplot objects, on which you can directly plot on the other empty subplots by calling each one’s instance method (see Figure 9-4):"
      ]
    },
    {
      "cell_type": "code",
      "metadata": {
        "colab": {
          "base_uri": "https://localhost:8080/",
          "height": 282
        },
        "id": "WbNMzIhgE60s",
        "outputId": "f60583b4-7963-42c9-a576-915bfb8940bc"
      },
      "source": [
        "fig = plt.figure()\n",
        "ax1 = fig.add_subplot(2, 2, 1)\n",
        "ax2 = fig.add_subplot(2, 2, 2)\n",
        "ax3 = fig.add_subplot(2, 2, 3)\n",
        "plt.plot(np.random.randn(50).cumsum(), 'k--')\n",
        "_ = ax1.hist(np.random.randn(100), bins=20, color='k', alpha=0.3)\n",
        "ax2.scatter(np.arange(30), np.arange(30) + 3 * np.random.randn(30))"
      ],
      "execution_count": 13,
      "outputs": [
        {
          "output_type": "execute_result",
          "data": {
            "text/plain": [
              "<matplotlib.collections.PathCollection at 0x7f77cd0a6ad0>"
            ]
          },
          "metadata": {},
          "execution_count": 13
        },
        {
          "output_type": "display_data",
          "data": {
            "image/png": "[encoded data removed]",
            "text/plain": [
              "<Figure size 432x288 with 3 Axes>"
            ]
          },
          "metadata": {
            "needs_background": "light"
          }
        }
      ]
    },
    {
      "cell_type": "markdown",
      "metadata": {
        "id": "shf9e4hNFQLk"
      },
      "source": [
        "Figure 9-4. Data visualization ater additional plots"
      ]
    },
    {
      "cell_type": "markdown",
      "metadata": {
        "id": "CnxEBxnVFVgs"
      },
      "source": [
        "Creating a figure with a grid of subplots is a very common task, so matplotlib includes a convenience method **plt.subplots, that creates a new figure and returns a NumPy array containing the created subplot objects:**"
      ]
    },
    {
      "cell_type": "code",
      "metadata": {
        "colab": {
          "base_uri": "https://localhost:8080/",
          "height": 269
        },
        "id": "fcm7tWijKyqd",
        "outputId": "78b17a3e-7f3e-4588-e9e0-d7d53eda1b30"
      },
      "source": [
        "fig, axes = plt.subplots(2, 3)"
      ],
      "execution_count": 14,
      "outputs": [
        {
          "output_type": "display_data",
          "data": {
            "image/png": "[encoded data removed]",
            "text/plain": [
              "<Figure size 432x288 with 6 Axes>"
            ]
          },
          "metadata": {
            "needs_background": "light"
          }
        }
      ]
    },
    {
      "cell_type": "code",
      "metadata": {
        "colab": {
          "base_uri": "https://localhost:8080/"
        },
        "id": "flmd09TmK22-",
        "outputId": "35bc3b20-a4ae-4e66-d335-f71f6c364ece"
      },
      "source": [
        "axes"
      ],
      "execution_count": 15,
      "outputs": [
        {
          "output_type": "execute_result",
          "data": {
            "text/plain": [
              "array([[<matplotlib.axes._subplots.AxesSubplot object at 0x7f77cd174b90>,\n",
              "        <matplotlib.axes._subplots.AxesSubplot object at 0x7f77ccffcd90>,\n",
              "        <matplotlib.axes._subplots.AxesSubplot object at 0x7f77ccfba410>],\n",
              "       [<matplotlib.axes._subplots.AxesSubplot object at 0x7f77ccf6ea50>,\n",
              "        <matplotlib.axes._subplots.AxesSubplot object at 0x7f77ccf300d0>,\n",
              "        <matplotlib.axes._subplots.AxesSubplot object at 0x7f77ccee0d50>]],\n",
              "      dtype=object)"
            ]
          },
          "metadata": {},
          "execution_count": 15
        }
      ]
    },
    {
      "cell_type": "markdown",
      "metadata": {
        "id": "_tZN2Fg-y89U"
      },
      "source": [
        "This is very useful, as the axes array can be easily indexed like a two-dimensional array; for example, axes[0, 1]\n",
        "\n"
      ]
    }
  ]
}