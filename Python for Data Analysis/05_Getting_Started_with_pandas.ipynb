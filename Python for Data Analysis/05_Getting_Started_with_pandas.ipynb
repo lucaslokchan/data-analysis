{
  "nbformat": 4,
  "nbformat_minor": 0,
  "metadata": {
    "colab": {
      "name": "5.Getting Started with pandas.ipynb",
      "provenance": [],
      "collapsed_sections": [],
      "authorship_tag": "ABX9TyMg+rQd+6O2jV7QFT1WsFoS"
    },
    "kernelspec": {
      "name": "python3",
      "display_name": "Python 3"
    },
    "language_info": {
      "name": "python"
    }
  },
  "cells": [
    {
      "cell_type": "markdown",
      "metadata": {
        "id": "ve_r0B-Pmkjx"
      },
      "source": [
        "# 5.1 Introduction to pandas Data Structures"
      ]
    },
    {
      "cell_type": "markdown",
      "metadata": {
        "id": "C-2psSVPm_RA"
      },
      "source": [
        "## Series"
      ]
    },
    {
      "cell_type": "markdown",
      "metadata": {
        "id": "k1sX71aknAhP"
      },
      "source": [
        "A Series is a **one-dimensional array-like object containing a sequence of values (of similar types to NumPy types) and an associated array of data labels, called its index**\n",
        "\n",
        "The simplest Series is formed from only an array of data:"
      ]
    },
    {
      "cell_type": "code",
      "metadata": {
        "id": "sAc9V5nooNw5"
      },
      "source": [
        "import pandas as pd"
      ],
      "execution_count": 2,
      "outputs": []
    },
    {
      "cell_type": "code",
      "metadata": {
        "id": "uGFadLcQmAXN"
      },
      "source": [
        "obj = pd.Series([4, 7, -5, 3])"
      ],
      "execution_count": 3,
      "outputs": []
    },
    {
      "cell_type": "code",
      "metadata": {
        "colab": {
          "base_uri": "https://localhost:8080/"
        },
        "id": "vHCa63iioanI",
        "outputId": "b764c6c9-7a36-45a9-eef7-105c5b756f0e"
      },
      "source": [
        "obj"
      ],
      "execution_count": 4,
      "outputs": [
        {
          "output_type": "execute_result",
          "data": {
            "text/plain": [
              "0    4\n",
              "1    7\n",
              "2   -5\n",
              "3    3\n",
              "dtype: int64"
            ]
          },
          "metadata": {},
          "execution_count": 4
        }
      ]
    },
    {
      "cell_type": "markdown",
      "metadata": {
        "id": "edLA9Tt1oSRA"
      },
      "source": [
        "The string representation of a Series displayed interactively shows the **index on the left and the values on the right**\n",
        "\n",
        "Since we did not specify an index for the data, a default one consisting of the integers 0 through N - 1\n",
        "\n",
        "You can get the array representation and index object of the Series via its values and index attributes, respectively:"
      ]
    },
    {
      "cell_type": "code",
      "metadata": {
        "colab": {
          "base_uri": "https://localhost:8080/"
        },
        "id": "Qwy8RVmkKIsU",
        "outputId": "fa12f335-714d-44bc-f5e0-aafccfde6bf9"
      },
      "source": [
        "obj.values"
      ],
      "execution_count": 5,
      "outputs": [
        {
          "output_type": "execute_result",
          "data": {
            "text/plain": [
              "array([ 4,  7, -5,  3])"
            ]
          },
          "metadata": {},
          "execution_count": 5
        }
      ]
    },
    {
      "cell_type": "code",
      "metadata": {
        "colab": {
          "base_uri": "https://localhost:8080/"
        },
        "id": "AhqTW8MAKKvD",
        "outputId": "65693d8a-2ea5-42f0-f14b-dcdc2e2995f5"
      },
      "source": [
        "obj.index"
      ],
      "execution_count": 6,
      "outputs": [
        {
          "output_type": "execute_result",
          "data": {
            "text/plain": [
              "RangeIndex(start=0, stop=4, step=1)"
            ]
          },
          "metadata": {},
          "execution_count": 6
        }
      ]
    },
    {
      "cell_type": "markdown",
      "metadata": {
        "id": "cAsGBa7dKNSM"
      },
      "source": [
        "Often it will be desirable to create a Series with an index identifying each data point with a label:"
      ]
    },
    {
      "cell_type": "code",
      "metadata": {
        "id": "eqo2CqZoKQS7"
      },
      "source": [
        "obj2 = pd.Series([4, 7, -5, 3], index=['d', 'b', 'a', 'c'])"
      ],
      "execution_count": 7,
      "outputs": []
    },
    {
      "cell_type": "code",
      "metadata": {
        "colab": {
          "base_uri": "https://localhost:8080/"
        },
        "id": "Lh4OYRVnKZKk",
        "outputId": "78cf830d-e583-4e52-f2fe-6271cce78460"
      },
      "source": [
        "obj2"
      ],
      "execution_count": 8,
      "outputs": [
        {
          "output_type": "execute_result",
          "data": {
            "text/plain": [
              "d    4\n",
              "b    7\n",
              "a   -5\n",
              "c    3\n",
              "dtype: int64"
            ]
          },
          "metadata": {},
          "execution_count": 8
        }
      ]
    },
    {
      "cell_type": "code",
      "metadata": {
        "colab": {
          "base_uri": "https://localhost:8080/"
        },
        "id": "VQPSPxjqKcK0",
        "outputId": "2af19576-3634-407e-b952-8a8958afdf2e"
      },
      "source": [
        "obj2.index"
      ],
      "execution_count": 9,
      "outputs": [
        {
          "output_type": "execute_result",
          "data": {
            "text/plain": [
              "Index(['d', 'b', 'a', 'c'], dtype='object')"
            ]
          },
          "metadata": {},
          "execution_count": 9
        }
      ]
    },
    {
      "cell_type": "markdown",
      "metadata": {
        "id": "UTP2J-OVKkWr"
      },
      "source": [
        "Compared with NumPy arrays, **you can use labels in the index when selecting single values or a set of values**:"
      ]
    },
    {
      "cell_type": "code",
      "metadata": {
        "colab": {
          "base_uri": "https://localhost:8080/"
        },
        "id": "8l6OFcj7KpFr",
        "outputId": "54746c47-8f06-43f4-d6b8-6c539c38d778"
      },
      "source": [
        "obj2['a']"
      ],
      "execution_count": 10,
      "outputs": [
        {
          "output_type": "execute_result",
          "data": {
            "text/plain": [
              "-5"
            ]
          },
          "metadata": {},
          "execution_count": 10
        }
      ]
    },
    {
      "cell_type": "code",
      "metadata": {
        "colab": {
          "base_uri": "https://localhost:8080/"
        },
        "id": "qMdJwEPpKtWz",
        "outputId": "a60f215b-d7f7-4599-a966-23d806d9a20c"
      },
      "source": [
        "obj2['d']"
      ],
      "execution_count": 11,
      "outputs": [
        {
          "output_type": "execute_result",
          "data": {
            "text/plain": [
              "4"
            ]
          },
          "metadata": {},
          "execution_count": 11
        }
      ]
    },
    {
      "cell_type": "code",
      "metadata": {
        "colab": {
          "base_uri": "https://localhost:8080/"
        },
        "id": "fRvnNfxHLPLL",
        "outputId": "3e96122a-cef7-47b5-d8b0-0198b9edf54d"
      },
      "source": [
        "obj2[['c', 'a', 'd']]"
      ],
      "execution_count": 12,
      "outputs": [
        {
          "output_type": "execute_result",
          "data": {
            "text/plain": [
              "c    3\n",
              "a   -5\n",
              "d    4\n",
              "dtype: int64"
            ]
          },
          "metadata": {},
          "execution_count": 12
        }
      ]
    },
    {
      "cell_type": "markdown",
      "metadata": {
        "id": "jo_zdkJjLYus"
      },
      "source": [
        "Here ['c', 'a', 'd'] is interpreted as a list of indices, even though it contains strings instead of integers\n",
        "\n",
        "Using NumPy functions or NumPy-like operations, such as filtering with a boolean array, scalar multiplication, or applying math functions, will preserve the index-value link:"
      ]
    },
    {
      "cell_type": "code",
      "metadata": {
        "colab": {
          "base_uri": "https://localhost:8080/"
        },
        "id": "ZDZUpp-uLnjD",
        "outputId": "ee393375-fd5f-4ae0-9376-57eba69c81dd"
      },
      "source": [
        "obj2[obj2 > 0]"
      ],
      "execution_count": 13,
      "outputs": [
        {
          "output_type": "execute_result",
          "data": {
            "text/plain": [
              "d    4\n",
              "b    7\n",
              "c    3\n",
              "dtype: int64"
            ]
          },
          "metadata": {},
          "execution_count": 13
        }
      ]
    },
    {
      "cell_type": "code",
      "metadata": {
        "colab": {
          "base_uri": "https://localhost:8080/"
        },
        "id": "yBHkKtsSLr2k",
        "outputId": "f0538fe4-d582-4da1-a939-3124b9c4baa2"
      },
      "source": [
        "obj2 * 2"
      ],
      "execution_count": 14,
      "outputs": [
        {
          "output_type": "execute_result",
          "data": {
            "text/plain": [
              "d     8\n",
              "b    14\n",
              "a   -10\n",
              "c     6\n",
              "dtype: int64"
            ]
          },
          "metadata": {},
          "execution_count": 14
        }
      ]
    },
    {
      "cell_type": "code",
      "metadata": {
        "colab": {
          "base_uri": "https://localhost:8080/"
        },
        "id": "SoBWYxJ4LuoG",
        "outputId": "495ce73b-fef9-460a-de36-9c8d95394d7d"
      },
      "source": [
        "import numpy as np\n",
        "np.exp(obj2)"
      ],
      "execution_count": 15,
      "outputs": [
        {
          "output_type": "execute_result",
          "data": {
            "text/plain": [
              "d      54.598150\n",
              "b    1096.633158\n",
              "a       0.006738\n",
              "c      20.085537\n",
              "dtype: float64"
            ]
          },
          "metadata": {},
          "execution_count": 15
        }
      ]
    },
    {
      "cell_type": "markdown",
      "metadata": {
        "id": "1n5PaggSNN7-"
      },
      "source": [
        "Another way to think about a Series is as a fixed-length, ordered dict, as it is a mapping of index values to data values\n",
        "\n",
        "It can be used in many contexts where you might use a dict:"
      ]
    },
    {
      "cell_type": "code",
      "metadata": {
        "colab": {
          "base_uri": "https://localhost:8080/"
        },
        "id": "WKFJGuvxLx-D",
        "outputId": "371d5578-0662-4137-cbab-aa688d32c15a"
      },
      "source": [
        "'b' in obj2"
      ],
      "execution_count": 16,
      "outputs": [
        {
          "output_type": "execute_result",
          "data": {
            "text/plain": [
              "True"
            ]
          },
          "metadata": {},
          "execution_count": 16
        }
      ]
    },
    {
      "cell_type": "code",
      "metadata": {
        "colab": {
          "base_uri": "https://localhost:8080/"
        },
        "id": "30uxwyGvNWL8",
        "outputId": "b542e15d-bee7-41cf-d9e0-6e7138477daf"
      },
      "source": [
        "'e' in obj2"
      ],
      "execution_count": 17,
      "outputs": [
        {
          "output_type": "execute_result",
          "data": {
            "text/plain": [
              "False"
            ]
          },
          "metadata": {},
          "execution_count": 17
        }
      ]
    },
    {
      "cell_type": "markdown",
      "metadata": {
        "id": "pEkLs3vVNYfz"
      },
      "source": [
        "Should you have data contained in a Python dict, you can **create a Series from it by passing the dict**:"
      ]
    },
    {
      "cell_type": "code",
      "metadata": {
        "id": "GsGbzubiNd8D"
      },
      "source": [
        "sdata = {'Ohio': 35000, 'Texas': 71000, 'Oregon': 16000, 'Utah': 5000}"
      ],
      "execution_count": 18,
      "outputs": []
    },
    {
      "cell_type": "code",
      "metadata": {
        "id": "hOo3bLtLNgfz"
      },
      "source": [
        "obj3 = pd.Series(sdata)"
      ],
      "execution_count": 19,
      "outputs": []
    },
    {
      "cell_type": "code",
      "metadata": {
        "id": "lxXz9SXPNieU",
        "colab": {
          "base_uri": "https://localhost:8080/"
        },
        "outputId": "6892a3cd-8b65-48fd-820e-5b2f333e4d54"
      },
      "source": [
        "obj3"
      ],
      "execution_count": 20,
      "outputs": [
        {
          "output_type": "execute_result",
          "data": {
            "text/plain": [
              "Ohio      35000\n",
              "Texas     71000\n",
              "Oregon    16000\n",
              "Utah       5000\n",
              "dtype: int64"
            ]
          },
          "metadata": {},
          "execution_count": 20
        }
      ]
    },
    {
      "cell_type": "markdown",
      "metadata": {
        "id": "uYGSPJhYodMV"
      },
      "source": [
        "When you are only passing a dict, the index in the resulting Series will have the dict’s keys in sorted order\n",
        "\n",
        "You can override this by passing the dict keys in the order you want them to appear in the resulting Series:"
      ]
    },
    {
      "cell_type": "code",
      "metadata": {
        "id": "74Gm7k-SomwN"
      },
      "source": [
        "states = ['California', 'Ohio', 'Oregon', 'Texas']"
      ],
      "execution_count": 21,
      "outputs": []
    },
    {
      "cell_type": "code",
      "metadata": {
        "id": "rc-cbdl7osRV"
      },
      "source": [
        "obj4 = pd.Series(sdata, index=states)"
      ],
      "execution_count": 22,
      "outputs": []
    },
    {
      "cell_type": "code",
      "metadata": {
        "colab": {
          "base_uri": "https://localhost:8080/"
        },
        "id": "j0wsYKOuo0v2",
        "outputId": "7851e4ca-2f19-44ce-e8cf-a6a6fd8cdb91"
      },
      "source": [
        "obj4"
      ],
      "execution_count": 23,
      "outputs": [
        {
          "output_type": "execute_result",
          "data": {
            "text/plain": [
              "California        NaN\n",
              "Ohio          35000.0\n",
              "Oregon        16000.0\n",
              "Texas         71000.0\n",
              "dtype: float64"
            ]
          },
          "metadata": {},
          "execution_count": 23
        }
      ]
    },
    {
      "cell_type": "markdown",
      "metadata": {
        "id": "1fuLeDLVuNld"
      },
      "source": [
        "Here, three values found in sdata were placed in the appropriate locations, but since no value for 'California' was found, it appears as NaN (not a number), which is considered in pandas to mark missing or NA values\n",
        "\n",
        "Since 'Utah' was not included in states, it is excluded from the resulting object\n",
        "\n",
        "**The isnull and notnull functions in pandas should be used to detect missing data:**"
      ]
    },
    {
      "cell_type": "code",
      "metadata": {
        "colab": {
          "base_uri": "https://localhost:8080/"
        },
        "id": "CIF0acNGxHEl",
        "outputId": "76c27808-2678-4d2c-d773-8a842c359771"
      },
      "source": [
        "pd.isnull(obj4)"
      ],
      "execution_count": 24,
      "outputs": [
        {
          "output_type": "execute_result",
          "data": {
            "text/plain": [
              "California     True\n",
              "Ohio          False\n",
              "Oregon        False\n",
              "Texas         False\n",
              "dtype: bool"
            ]
          },
          "metadata": {},
          "execution_count": 24
        }
      ]
    },
    {
      "cell_type": "code",
      "metadata": {
        "colab": {
          "base_uri": "https://localhost:8080/"
        },
        "id": "y-2a8EqJxOOG",
        "outputId": "013a0ff1-1ace-41d8-a4b1-7411be81a3d4"
      },
      "source": [
        "pd.notnull(obj4)"
      ],
      "execution_count": 25,
      "outputs": [
        {
          "output_type": "execute_result",
          "data": {
            "text/plain": [
              "California    False\n",
              "Ohio           True\n",
              "Oregon         True\n",
              "Texas          True\n",
              "dtype: bool"
            ]
          },
          "metadata": {},
          "execution_count": 25
        }
      ]
    },
    {
      "cell_type": "markdown",
      "metadata": {
        "id": "nxE7MPBxxTfl"
      },
      "source": [
        "Series also has these as instance methods:"
      ]
    },
    {
      "cell_type": "code",
      "metadata": {
        "colab": {
          "base_uri": "https://localhost:8080/"
        },
        "id": "sBOX_fGfxT5N",
        "outputId": "2b2df9a3-9267-42cf-909f-1cac246c45c9"
      },
      "source": [
        "obj4.isnull()"
      ],
      "execution_count": 26,
      "outputs": [
        {
          "output_type": "execute_result",
          "data": {
            "text/plain": [
              "California     True\n",
              "Ohio          False\n",
              "Oregon        False\n",
              "Texas         False\n",
              "dtype: bool"
            ]
          },
          "metadata": {},
          "execution_count": 26
        }
      ]
    },
    {
      "cell_type": "markdown",
      "metadata": {
        "id": "FKxX7JFox_-d"
      },
      "source": [
        "A useful Series feature for many applications is that it automatically aligns by index label in arithmetic operations:"
      ]
    },
    {
      "cell_type": "code",
      "metadata": {
        "colab": {
          "base_uri": "https://localhost:8080/"
        },
        "id": "Lx29cgAfyC3O",
        "outputId": "8df20eb0-5f95-4014-fe97-1431777d85a3"
      },
      "source": [
        "obj3"
      ],
      "execution_count": 27,
      "outputs": [
        {
          "output_type": "execute_result",
          "data": {
            "text/plain": [
              "Ohio      35000\n",
              "Texas     71000\n",
              "Oregon    16000\n",
              "Utah       5000\n",
              "dtype: int64"
            ]
          },
          "metadata": {},
          "execution_count": 27
        }
      ]
    },
    {
      "cell_type": "code",
      "metadata": {
        "colab": {
          "base_uri": "https://localhost:8080/"
        },
        "id": "qG5i47O_yFaV",
        "outputId": "90c89120-186f-42bd-b319-2006cc9e101a"
      },
      "source": [
        "obj4"
      ],
      "execution_count": 28,
      "outputs": [
        {
          "output_type": "execute_result",
          "data": {
            "text/plain": [
              "California        NaN\n",
              "Ohio          35000.0\n",
              "Oregon        16000.0\n",
              "Texas         71000.0\n",
              "dtype: float64"
            ]
          },
          "metadata": {},
          "execution_count": 28
        }
      ]
    },
    {
      "cell_type": "code",
      "metadata": {
        "colab": {
          "base_uri": "https://localhost:8080/"
        },
        "id": "PYap5yKZyJyF",
        "outputId": "8ce4d169-5371-4e10-c28a-3d62f78145f9"
      },
      "source": [
        "obj3 + obj4"
      ],
      "execution_count": 29,
      "outputs": [
        {
          "output_type": "execute_result",
          "data": {
            "text/plain": [
              "California         NaN\n",
              "Ohio           70000.0\n",
              "Oregon         32000.0\n",
              "Texas         142000.0\n",
              "Utah               NaN\n",
              "dtype: float64"
            ]
          },
          "metadata": {},
          "execution_count": 29
        }
      ]
    },
    {
      "cell_type": "markdown",
      "metadata": {
        "id": "oc7dGu2WyUnS"
      },
      "source": [
        "Both the Series object itself and its index have a name attribute, which integrates with other key areas of pandas functionality:"
      ]
    },
    {
      "cell_type": "code",
      "metadata": {
        "id": "9p7ysXp5yYO3"
      },
      "source": [
        "obj4.name = 'population'"
      ],
      "execution_count": 30,
      "outputs": []
    },
    {
      "cell_type": "code",
      "metadata": {
        "id": "O9riVHA0ybO2"
      },
      "source": [
        "obj4.index.name = 'state'"
      ],
      "execution_count": 31,
      "outputs": []
    },
    {
      "cell_type": "code",
      "metadata": {
        "colab": {
          "base_uri": "https://localhost:8080/"
        },
        "id": "5mUWumcUyfHV",
        "outputId": "50dd943a-2974-4677-a8ac-fe1089fc0215"
      },
      "source": [
        "obj4"
      ],
      "execution_count": 32,
      "outputs": [
        {
          "output_type": "execute_result",
          "data": {
            "text/plain": [
              "state\n",
              "California        NaN\n",
              "Ohio          35000.0\n",
              "Oregon        16000.0\n",
              "Texas         71000.0\n",
              "Name: population, dtype: float64"
            ]
          },
          "metadata": {},
          "execution_count": 32
        }
      ]
    },
    {
      "cell_type": "markdown",
      "metadata": {
        "id": "BJ-w_d3myjE9"
      },
      "source": [
        "A Series’s index can be altered in-place by assignment:"
      ]
    },
    {
      "cell_type": "code",
      "metadata": {
        "colab": {
          "base_uri": "https://localhost:8080/"
        },
        "id": "SWdXjNaNyrs2",
        "outputId": "161c5364-d103-43fa-9638-a2d00a0e3fa1"
      },
      "source": [
        "obj"
      ],
      "execution_count": 33,
      "outputs": [
        {
          "output_type": "execute_result",
          "data": {
            "text/plain": [
              "0    4\n",
              "1    7\n",
              "2   -5\n",
              "3    3\n",
              "dtype: int64"
            ]
          },
          "metadata": {},
          "execution_count": 33
        }
      ]
    },
    {
      "cell_type": "code",
      "metadata": {
        "id": "awlmvgHNyuJG"
      },
      "source": [
        "obj.index = ['Bob', 'Steve', 'Jeff', 'Ryan']"
      ],
      "execution_count": 34,
      "outputs": []
    },
    {
      "cell_type": "code",
      "metadata": {
        "colab": {
          "base_uri": "https://localhost:8080/"
        },
        "id": "2Tp0FRa-yzLl",
        "outputId": "87df37cf-0cc2-4e9d-b4a4-579c669570d3"
      },
      "source": [
        "obj"
      ],
      "execution_count": 35,
      "outputs": [
        {
          "output_type": "execute_result",
          "data": {
            "text/plain": [
              "Bob      4\n",
              "Steve    7\n",
              "Jeff    -5\n",
              "Ryan     3\n",
              "dtype: int64"
            ]
          },
          "metadata": {},
          "execution_count": 35
        }
      ]
    },
    {
      "cell_type": "markdown",
      "metadata": {
        "id": "05H1EmE3y6Mz"
      },
      "source": [
        "## DataFrame"
      ]
    },
    {
      "cell_type": "markdown",
      "metadata": {
        "id": "PTbREeU6y8Dd"
      },
      "source": [
        "A DataFrame represents a rectangular table of data and contains an ordered collection of columns, each of which can be a different value type\n",
        "\n",
        "The DataFrame has both a row and column index; it can be thought of as a dict of Series all sharing the same index\n",
        "\n",
        "Under the hood, **the data is stored as one or more two-dimensional blocks** rather than a list, dict, or some other collection of one-dimensional arrays\n",
        "\n",
        "There are many ways to construct a DataFrame, though one of the most common is **from a dict of equal-length lists or NumPy arrays**:"
      ]
    },
    {
      "cell_type": "code",
      "metadata": {
        "id": "BUfpe6CszEQd"
      },
      "source": [
        "data = {'state': ['Ohio', 'Ohio', 'Ohio', 'Nevada', 'Nevada', 'Nevada'],\n",
        "'year': [2000, 2001, 2002, 2001, 2002, 2003],\n",
        "'pop': [1.5, 1.7, 3.6, 2.4, 2.9, 3.2]}"
      ],
      "execution_count": 36,
      "outputs": []
    },
    {
      "cell_type": "code",
      "metadata": {
        "id": "EUpOTU2Sz8pW"
      },
      "source": [
        "frame = pd.DataFrame(data)"
      ],
      "execution_count": 37,
      "outputs": []
    },
    {
      "cell_type": "markdown",
      "metadata": {
        "id": "k0jrj1T_0C2n"
      },
      "source": [
        "The resulting DataFrame will have its index assigned automatically as with Series, and the columns are placed in sorted order:"
      ]
    },
    {
      "cell_type": "code",
      "metadata": {
        "colab": {
          "base_uri": "https://localhost:8080/",
          "height": 235
        },
        "id": "phJIoHNQz-7V",
        "outputId": "af8743bb-0239-46f8-ea03-141b9be4c17a"
      },
      "source": [
        "frame"
      ],
      "execution_count": 38,
      "outputs": [
        {
          "output_type": "execute_result",
          "data": {
            "text/html": [
              "<div>\n",
              "<style scoped>\n",
              "    .dataframe tbody tr th:only-of-type {\n",
              "        vertical-align: middle;\n",
              "    }\n",
              "\n",
              "    .dataframe tbody tr th {\n",
              "        vertical-align: top;\n",
              "    }\n",
              "\n",
              "    .dataframe thead th {\n",
              "        text-align: right;\n",
              "    }\n",
              "</style>\n",
              "<table border=\"1\" class=\"dataframe\">\n",
              "  <thead>\n",
              "    <tr style=\"text-align: right;\">\n",
              "      <th></th>\n",
              "      <th>state</th>\n",
              "      <th>year</th>\n",
              "      <th>pop</th>\n",
              "    </tr>\n",
              "  </thead>\n",
              "  <tbody>\n",
              "    <tr>\n",
              "      <th>0</th>\n",
              "      <td>Ohio</td>\n",
              "      <td>2000</td>\n",
              "      <td>1.5</td>\n",
              "    </tr>\n",
              "    <tr>\n",
              "      <th>1</th>\n",
              "      <td>Ohio</td>\n",
              "      <td>2001</td>\n",
              "      <td>1.7</td>\n",
              "    </tr>\n",
              "    <tr>\n",
              "      <th>2</th>\n",
              "      <td>Ohio</td>\n",
              "      <td>2002</td>\n",
              "      <td>3.6</td>\n",
              "    </tr>\n",
              "    <tr>\n",
              "      <th>3</th>\n",
              "      <td>Nevada</td>\n",
              "      <td>2001</td>\n",
              "      <td>2.4</td>\n",
              "    </tr>\n",
              "    <tr>\n",
              "      <th>4</th>\n",
              "      <td>Nevada</td>\n",
              "      <td>2002</td>\n",
              "      <td>2.9</td>\n",
              "    </tr>\n",
              "    <tr>\n",
              "      <th>5</th>\n",
              "      <td>Nevada</td>\n",
              "      <td>2003</td>\n",
              "      <td>3.2</td>\n",
              "    </tr>\n",
              "  </tbody>\n",
              "</table>\n",
              "</div>"
            ],
            "text/plain": [
              "    state  year  pop\n",
              "0    Ohio  2000  1.5\n",
              "1    Ohio  2001  1.7\n",
              "2    Ohio  2002  3.6\n",
              "3  Nevada  2001  2.4\n",
              "4  Nevada  2002  2.9\n",
              "5  Nevada  2003  3.2"
            ]
          },
          "metadata": {},
          "execution_count": 38
        }
      ]
    },
    {
      "cell_type": "markdown",
      "metadata": {
        "id": "cbjWEMT20Lru"
      },
      "source": [
        "For large DataFrames, the head method selects only the first five rows:"
      ]
    },
    {
      "cell_type": "code",
      "metadata": {
        "colab": {
          "base_uri": "https://localhost:8080/",
          "height": 204
        },
        "id": "Q1Wvou680QLN",
        "outputId": "4bc9d6c2-c900-4109-cfb4-3bc2efc3e17b"
      },
      "source": [
        "frame.head()"
      ],
      "execution_count": 39,
      "outputs": [
        {
          "output_type": "execute_result",
          "data": {
            "text/html": [
              "<div>\n",
              "<style scoped>\n",
              "    .dataframe tbody tr th:only-of-type {\n",
              "        vertical-align: middle;\n",
              "    }\n",
              "\n",
              "    .dataframe tbody tr th {\n",
              "        vertical-align: top;\n",
              "    }\n",
              "\n",
              "    .dataframe thead th {\n",
              "        text-align: right;\n",
              "    }\n",
              "</style>\n",
              "<table border=\"1\" class=\"dataframe\">\n",
              "  <thead>\n",
              "    <tr style=\"text-align: right;\">\n",
              "      <th></th>\n",
              "      <th>state</th>\n",
              "      <th>year</th>\n",
              "      <th>pop</th>\n",
              "    </tr>\n",
              "  </thead>\n",
              "  <tbody>\n",
              "    <tr>\n",
              "      <th>0</th>\n",
              "      <td>Ohio</td>\n",
              "      <td>2000</td>\n",
              "      <td>1.5</td>\n",
              "    </tr>\n",
              "    <tr>\n",
              "      <th>1</th>\n",
              "      <td>Ohio</td>\n",
              "      <td>2001</td>\n",
              "      <td>1.7</td>\n",
              "    </tr>\n",
              "    <tr>\n",
              "      <th>2</th>\n",
              "      <td>Ohio</td>\n",
              "      <td>2002</td>\n",
              "      <td>3.6</td>\n",
              "    </tr>\n",
              "    <tr>\n",
              "      <th>3</th>\n",
              "      <td>Nevada</td>\n",
              "      <td>2001</td>\n",
              "      <td>2.4</td>\n",
              "    </tr>\n",
              "    <tr>\n",
              "      <th>4</th>\n",
              "      <td>Nevada</td>\n",
              "      <td>2002</td>\n",
              "      <td>2.9</td>\n",
              "    </tr>\n",
              "  </tbody>\n",
              "</table>\n",
              "</div>"
            ],
            "text/plain": [
              "    state  year  pop\n",
              "0    Ohio  2000  1.5\n",
              "1    Ohio  2001  1.7\n",
              "2    Ohio  2002  3.6\n",
              "3  Nevada  2001  2.4\n",
              "4  Nevada  2002  2.9"
            ]
          },
          "metadata": {},
          "execution_count": 39
        }
      ]
    },
    {
      "cell_type": "markdown",
      "metadata": {
        "id": "0G2miH1v0Sxt"
      },
      "source": [
        "If you specify a sequence of columns, the DataFrame’s columns will be arranged in that order:"
      ]
    },
    {
      "cell_type": "code",
      "metadata": {
        "colab": {
          "base_uri": "https://localhost:8080/",
          "height": 235
        },
        "id": "7Qr2RX270R1n",
        "outputId": "361b5a3c-0d79-428c-942a-d71323a98f1c"
      },
      "source": [
        "pd.DataFrame(data, columns=['year', 'state', 'pop'])"
      ],
      "execution_count": 40,
      "outputs": [
        {
          "output_type": "execute_result",
          "data": {
            "text/html": [
              "<div>\n",
              "<style scoped>\n",
              "    .dataframe tbody tr th:only-of-type {\n",
              "        vertical-align: middle;\n",
              "    }\n",
              "\n",
              "    .dataframe tbody tr th {\n",
              "        vertical-align: top;\n",
              "    }\n",
              "\n",
              "    .dataframe thead th {\n",
              "        text-align: right;\n",
              "    }\n",
              "</style>\n",
              "<table border=\"1\" class=\"dataframe\">\n",
              "  <thead>\n",
              "    <tr style=\"text-align: right;\">\n",
              "      <th></th>\n",
              "      <th>year</th>\n",
              "      <th>state</th>\n",
              "      <th>pop</th>\n",
              "    </tr>\n",
              "  </thead>\n",
              "  <tbody>\n",
              "    <tr>\n",
              "      <th>0</th>\n",
              "      <td>2000</td>\n",
              "      <td>Ohio</td>\n",
              "      <td>1.5</td>\n",
              "    </tr>\n",
              "    <tr>\n",
              "      <th>1</th>\n",
              "      <td>2001</td>\n",
              "      <td>Ohio</td>\n",
              "      <td>1.7</td>\n",
              "    </tr>\n",
              "    <tr>\n",
              "      <th>2</th>\n",
              "      <td>2002</td>\n",
              "      <td>Ohio</td>\n",
              "      <td>3.6</td>\n",
              "    </tr>\n",
              "    <tr>\n",
              "      <th>3</th>\n",
              "      <td>2001</td>\n",
              "      <td>Nevada</td>\n",
              "      <td>2.4</td>\n",
              "    </tr>\n",
              "    <tr>\n",
              "      <th>4</th>\n",
              "      <td>2002</td>\n",
              "      <td>Nevada</td>\n",
              "      <td>2.9</td>\n",
              "    </tr>\n",
              "    <tr>\n",
              "      <th>5</th>\n",
              "      <td>2003</td>\n",
              "      <td>Nevada</td>\n",
              "      <td>3.2</td>\n",
              "    </tr>\n",
              "  </tbody>\n",
              "</table>\n",
              "</div>"
            ],
            "text/plain": [
              "   year   state  pop\n",
              "0  2000    Ohio  1.5\n",
              "1  2001    Ohio  1.7\n",
              "2  2002    Ohio  3.6\n",
              "3  2001  Nevada  2.4\n",
              "4  2002  Nevada  2.9\n",
              "5  2003  Nevada  3.2"
            ]
          },
          "metadata": {},
          "execution_count": 40
        }
      ]
    },
    {
      "cell_type": "markdown",
      "metadata": {
        "id": "slSB1_g40idv"
      },
      "source": [
        "If you pass a column that isn’t contained in the dict, it will appear with missing values in the result:"
      ]
    },
    {
      "cell_type": "code",
      "metadata": {
        "id": "SfMt62mM0l1d"
      },
      "source": [
        "frame2 = pd.DataFrame(data, columns=['year', 'state', 'pop', 'debt'],\n",
        "                      index=['one', 'two', 'three', 'four',\n",
        "                      'five', 'six'])"
      ],
      "execution_count": 41,
      "outputs": []
    },
    {
      "cell_type": "code",
      "metadata": {
        "colab": {
          "base_uri": "https://localhost:8080/",
          "height": 235
        },
        "id": "0MjLYxgT0w5M",
        "outputId": "50051d05-e2fe-430e-8daa-b374ef9ee2b9"
      },
      "source": [
        "frame2"
      ],
      "execution_count": 42,
      "outputs": [
        {
          "output_type": "execute_result",
          "data": {
            "text/html": [
              "<div>\n",
              "<style scoped>\n",
              "    .dataframe tbody tr th:only-of-type {\n",
              "        vertical-align: middle;\n",
              "    }\n",
              "\n",
              "    .dataframe tbody tr th {\n",
              "        vertical-align: top;\n",
              "    }\n",
              "\n",
              "    .dataframe thead th {\n",
              "        text-align: right;\n",
              "    }\n",
              "</style>\n",
              "<table border=\"1\" class=\"dataframe\">\n",
              "  <thead>\n",
              "    <tr style=\"text-align: right;\">\n",
              "      <th></th>\n",
              "      <th>year</th>\n",
              "      <th>state</th>\n",
              "      <th>pop</th>\n",
              "      <th>debt</th>\n",
              "    </tr>\n",
              "  </thead>\n",
              "  <tbody>\n",
              "    <tr>\n",
              "      <th>one</th>\n",
              "      <td>2000</td>\n",
              "      <td>Ohio</td>\n",
              "      <td>1.5</td>\n",
              "      <td>NaN</td>\n",
              "    </tr>\n",
              "    <tr>\n",
              "      <th>two</th>\n",
              "      <td>2001</td>\n",
              "      <td>Ohio</td>\n",
              "      <td>1.7</td>\n",
              "      <td>NaN</td>\n",
              "    </tr>\n",
              "    <tr>\n",
              "      <th>three</th>\n",
              "      <td>2002</td>\n",
              "      <td>Ohio</td>\n",
              "      <td>3.6</td>\n",
              "      <td>NaN</td>\n",
              "    </tr>\n",
              "    <tr>\n",
              "      <th>four</th>\n",
              "      <td>2001</td>\n",
              "      <td>Nevada</td>\n",
              "      <td>2.4</td>\n",
              "      <td>NaN</td>\n",
              "    </tr>\n",
              "    <tr>\n",
              "      <th>five</th>\n",
              "      <td>2002</td>\n",
              "      <td>Nevada</td>\n",
              "      <td>2.9</td>\n",
              "      <td>NaN</td>\n",
              "    </tr>\n",
              "    <tr>\n",
              "      <th>six</th>\n",
              "      <td>2003</td>\n",
              "      <td>Nevada</td>\n",
              "      <td>3.2</td>\n",
              "      <td>NaN</td>\n",
              "    </tr>\n",
              "  </tbody>\n",
              "</table>\n",
              "</div>"
            ],
            "text/plain": [
              "       year   state  pop debt\n",
              "one    2000    Ohio  1.5  NaN\n",
              "two    2001    Ohio  1.7  NaN\n",
              "three  2002    Ohio  3.6  NaN\n",
              "four   2001  Nevada  2.4  NaN\n",
              "five   2002  Nevada  2.9  NaN\n",
              "six    2003  Nevada  3.2  NaN"
            ]
          },
          "metadata": {},
          "execution_count": 42
        }
      ]
    },
    {
      "cell_type": "code",
      "metadata": {
        "colab": {
          "base_uri": "https://localhost:8080/"
        },
        "id": "e_xpJvhF026W",
        "outputId": "06b77b43-9986-46ee-801c-adf3b6d4617d"
      },
      "source": [
        "frame2.columns"
      ],
      "execution_count": 43,
      "outputs": [
        {
          "output_type": "execute_result",
          "data": {
            "text/plain": [
              "Index(['year', 'state', 'pop', 'debt'], dtype='object')"
            ]
          },
          "metadata": {},
          "execution_count": 43
        }
      ]
    },
    {
      "cell_type": "markdown",
      "metadata": {
        "id": "kdJipE1K05iD"
      },
      "source": [
        "A column in a DataFrame can be retrieved as a Series either by dict-like notation or by attribute:"
      ]
    },
    {
      "cell_type": "code",
      "metadata": {
        "colab": {
          "base_uri": "https://localhost:8080/"
        },
        "id": "fhAyqptv0-xz",
        "outputId": "069be896-52f4-4d7b-818b-af95cf4aeef0"
      },
      "source": [
        "frame2['state']"
      ],
      "execution_count": 44,
      "outputs": [
        {
          "output_type": "execute_result",
          "data": {
            "text/plain": [
              "one        Ohio\n",
              "two        Ohio\n",
              "three      Ohio\n",
              "four     Nevada\n",
              "five     Nevada\n",
              "six      Nevada\n",
              "Name: state, dtype: object"
            ]
          },
          "metadata": {},
          "execution_count": 44
        }
      ]
    },
    {
      "cell_type": "code",
      "metadata": {
        "colab": {
          "base_uri": "https://localhost:8080/"
        },
        "id": "2OtRWKjL1E87",
        "outputId": "5ea71599-9e6b-4721-9fa3-30cc1763cc1a"
      },
      "source": [
        "frame2.year"
      ],
      "execution_count": 45,
      "outputs": [
        {
          "output_type": "execute_result",
          "data": {
            "text/plain": [
              "one      2000\n",
              "two      2001\n",
              "three    2002\n",
              "four     2001\n",
              "five     2002\n",
              "six      2003\n",
              "Name: year, dtype: int64"
            ]
          },
          "metadata": {},
          "execution_count": 45
        }
      ]
    },
    {
      "cell_type": "markdown",
      "metadata": {
        "id": "zpndPgKr1PQ1"
      },
      "source": [
        "Note that the returned Series have the same index as the DataFrame, and their name attribute has been appropriately set\n",
        "\n",
        "Rows can also be retrieved by position or name with the special loc attribute:"
      ]
    },
    {
      "cell_type": "code",
      "metadata": {
        "colab": {
          "base_uri": "https://localhost:8080/"
        },
        "id": "1LSP5rBw1glt",
        "outputId": "810a575d-6444-47dc-8155-72b7367a172f"
      },
      "source": [
        "frame2.loc['three']"
      ],
      "execution_count": 46,
      "outputs": [
        {
          "output_type": "execute_result",
          "data": {
            "text/plain": [
              "year     2002\n",
              "state    Ohio\n",
              "pop       3.6\n",
              "debt      NaN\n",
              "Name: three, dtype: object"
            ]
          },
          "metadata": {},
          "execution_count": 46
        }
      ]
    },
    {
      "cell_type": "markdown",
      "metadata": {
        "id": "2lPP6AiW1qW-"
      },
      "source": [
        "Columns can be modified by assignment. For example, the empty 'debt' column could be assigned a scalar value or an array of values:"
      ]
    },
    {
      "cell_type": "code",
      "metadata": {
        "id": "W4CroutF1tIF"
      },
      "source": [
        "frame2['debt'] = 16.5"
      ],
      "execution_count": 47,
      "outputs": []
    },
    {
      "cell_type": "code",
      "metadata": {
        "colab": {
          "base_uri": "https://localhost:8080/",
          "height": 235
        },
        "id": "2HrPSgEd1vBn",
        "outputId": "9d2e6fca-ac5c-4867-b9ea-c995ba8d3402"
      },
      "source": [
        "frame2"
      ],
      "execution_count": 48,
      "outputs": [
        {
          "output_type": "execute_result",
          "data": {
            "text/html": [
              "<div>\n",
              "<style scoped>\n",
              "    .dataframe tbody tr th:only-of-type {\n",
              "        vertical-align: middle;\n",
              "    }\n",
              "\n",
              "    .dataframe tbody tr th {\n",
              "        vertical-align: top;\n",
              "    }\n",
              "\n",
              "    .dataframe thead th {\n",
              "        text-align: right;\n",
              "    }\n",
              "</style>\n",
              "<table border=\"1\" class=\"dataframe\">\n",
              "  <thead>\n",
              "    <tr style=\"text-align: right;\">\n",
              "      <th></th>\n",
              "      <th>year</th>\n",
              "      <th>state</th>\n",
              "      <th>pop</th>\n",
              "      <th>debt</th>\n",
              "    </tr>\n",
              "  </thead>\n",
              "  <tbody>\n",
              "    <tr>\n",
              "      <th>one</th>\n",
              "      <td>2000</td>\n",
              "      <td>Ohio</td>\n",
              "      <td>1.5</td>\n",
              "      <td>16.5</td>\n",
              "    </tr>\n",
              "    <tr>\n",
              "      <th>two</th>\n",
              "      <td>2001</td>\n",
              "      <td>Ohio</td>\n",
              "      <td>1.7</td>\n",
              "      <td>16.5</td>\n",
              "    </tr>\n",
              "    <tr>\n",
              "      <th>three</th>\n",
              "      <td>2002</td>\n",
              "      <td>Ohio</td>\n",
              "      <td>3.6</td>\n",
              "      <td>16.5</td>\n",
              "    </tr>\n",
              "    <tr>\n",
              "      <th>four</th>\n",
              "      <td>2001</td>\n",
              "      <td>Nevada</td>\n",
              "      <td>2.4</td>\n",
              "      <td>16.5</td>\n",
              "    </tr>\n",
              "    <tr>\n",
              "      <th>five</th>\n",
              "      <td>2002</td>\n",
              "      <td>Nevada</td>\n",
              "      <td>2.9</td>\n",
              "      <td>16.5</td>\n",
              "    </tr>\n",
              "    <tr>\n",
              "      <th>six</th>\n",
              "      <td>2003</td>\n",
              "      <td>Nevada</td>\n",
              "      <td>3.2</td>\n",
              "      <td>16.5</td>\n",
              "    </tr>\n",
              "  </tbody>\n",
              "</table>\n",
              "</div>"
            ],
            "text/plain": [
              "       year   state  pop  debt\n",
              "one    2000    Ohio  1.5  16.5\n",
              "two    2001    Ohio  1.7  16.5\n",
              "three  2002    Ohio  3.6  16.5\n",
              "four   2001  Nevada  2.4  16.5\n",
              "five   2002  Nevada  2.9  16.5\n",
              "six    2003  Nevada  3.2  16.5"
            ]
          },
          "metadata": {},
          "execution_count": 48
        }
      ]
    },
    {
      "cell_type": "code",
      "metadata": {
        "id": "Epn8Ye_T13rp"
      },
      "source": [
        "frame2['debt'] = np.arange(6.)"
      ],
      "execution_count": 49,
      "outputs": []
    },
    {
      "cell_type": "code",
      "metadata": {
        "colab": {
          "base_uri": "https://localhost:8080/",
          "height": 235
        },
        "id": "BB4LYG0G182l",
        "outputId": "0096474b-7dd2-493e-b14c-08f05753dee9"
      },
      "source": [
        "frame2"
      ],
      "execution_count": 50,
      "outputs": [
        {
          "output_type": "execute_result",
          "data": {
            "text/html": [
              "<div>\n",
              "<style scoped>\n",
              "    .dataframe tbody tr th:only-of-type {\n",
              "        vertical-align: middle;\n",
              "    }\n",
              "\n",
              "    .dataframe tbody tr th {\n",
              "        vertical-align: top;\n",
              "    }\n",
              "\n",
              "    .dataframe thead th {\n",
              "        text-align: right;\n",
              "    }\n",
              "</style>\n",
              "<table border=\"1\" class=\"dataframe\">\n",
              "  <thead>\n",
              "    <tr style=\"text-align: right;\">\n",
              "      <th></th>\n",
              "      <th>year</th>\n",
              "      <th>state</th>\n",
              "      <th>pop</th>\n",
              "      <th>debt</th>\n",
              "    </tr>\n",
              "  </thead>\n",
              "  <tbody>\n",
              "    <tr>\n",
              "      <th>one</th>\n",
              "      <td>2000</td>\n",
              "      <td>Ohio</td>\n",
              "      <td>1.5</td>\n",
              "      <td>0.0</td>\n",
              "    </tr>\n",
              "    <tr>\n",
              "      <th>two</th>\n",
              "      <td>2001</td>\n",
              "      <td>Ohio</td>\n",
              "      <td>1.7</td>\n",
              "      <td>1.0</td>\n",
              "    </tr>\n",
              "    <tr>\n",
              "      <th>three</th>\n",
              "      <td>2002</td>\n",
              "      <td>Ohio</td>\n",
              "      <td>3.6</td>\n",
              "      <td>2.0</td>\n",
              "    </tr>\n",
              "    <tr>\n",
              "      <th>four</th>\n",
              "      <td>2001</td>\n",
              "      <td>Nevada</td>\n",
              "      <td>2.4</td>\n",
              "      <td>3.0</td>\n",
              "    </tr>\n",
              "    <tr>\n",
              "      <th>five</th>\n",
              "      <td>2002</td>\n",
              "      <td>Nevada</td>\n",
              "      <td>2.9</td>\n",
              "      <td>4.0</td>\n",
              "    </tr>\n",
              "    <tr>\n",
              "      <th>six</th>\n",
              "      <td>2003</td>\n",
              "      <td>Nevada</td>\n",
              "      <td>3.2</td>\n",
              "      <td>5.0</td>\n",
              "    </tr>\n",
              "  </tbody>\n",
              "</table>\n",
              "</div>"
            ],
            "text/plain": [
              "       year   state  pop  debt\n",
              "one    2000    Ohio  1.5   0.0\n",
              "two    2001    Ohio  1.7   1.0\n",
              "three  2002    Ohio  3.6   2.0\n",
              "four   2001  Nevada  2.4   3.0\n",
              "five   2002  Nevada  2.9   4.0\n",
              "six    2003  Nevada  3.2   5.0"
            ]
          },
          "metadata": {},
          "execution_count": 50
        }
      ]
    },
    {
      "cell_type": "markdown",
      "metadata": {
        "id": "9LUoonn72MUY"
      },
      "source": [
        "When you are assigning lists or arrays to a column, the value’s length must match the length of the DataFrame\n",
        "\n",
        "If you assign a Series, its labels will be realigned exactly to the DataFrame’s index, inserting missing values in any holes:"
      ]
    },
    {
      "cell_type": "code",
      "metadata": {
        "id": "H8QtXpy-2Hn0"
      },
      "source": [
        "val = pd.Series([-1.2, -1.5, -1.7], index=['two', 'four', 'five'])"
      ],
      "execution_count": 51,
      "outputs": []
    },
    {
      "cell_type": "code",
      "metadata": {
        "id": "0KNNJC0o2EPN"
      },
      "source": [
        "frame2['debt'] = val"
      ],
      "execution_count": 52,
      "outputs": []
    },
    {
      "cell_type": "code",
      "metadata": {
        "colab": {
          "base_uri": "https://localhost:8080/",
          "height": 235
        },
        "id": "n6ZFEUNE2Jpx",
        "outputId": "8403a3e7-d21d-42e3-ddab-a460ca2b5ba5"
      },
      "source": [
        "frame2"
      ],
      "execution_count": 53,
      "outputs": [
        {
          "output_type": "execute_result",
          "data": {
            "text/html": [
              "<div>\n",
              "<style scoped>\n",
              "    .dataframe tbody tr th:only-of-type {\n",
              "        vertical-align: middle;\n",
              "    }\n",
              "\n",
              "    .dataframe tbody tr th {\n",
              "        vertical-align: top;\n",
              "    }\n",
              "\n",
              "    .dataframe thead th {\n",
              "        text-align: right;\n",
              "    }\n",
              "</style>\n",
              "<table border=\"1\" class=\"dataframe\">\n",
              "  <thead>\n",
              "    <tr style=\"text-align: right;\">\n",
              "      <th></th>\n",
              "      <th>year</th>\n",
              "      <th>state</th>\n",
              "      <th>pop</th>\n",
              "      <th>debt</th>\n",
              "    </tr>\n",
              "  </thead>\n",
              "  <tbody>\n",
              "    <tr>\n",
              "      <th>one</th>\n",
              "      <td>2000</td>\n",
              "      <td>Ohio</td>\n",
              "      <td>1.5</td>\n",
              "      <td>NaN</td>\n",
              "    </tr>\n",
              "    <tr>\n",
              "      <th>two</th>\n",
              "      <td>2001</td>\n",
              "      <td>Ohio</td>\n",
              "      <td>1.7</td>\n",
              "      <td>-1.2</td>\n",
              "    </tr>\n",
              "    <tr>\n",
              "      <th>three</th>\n",
              "      <td>2002</td>\n",
              "      <td>Ohio</td>\n",
              "      <td>3.6</td>\n",
              "      <td>NaN</td>\n",
              "    </tr>\n",
              "    <tr>\n",
              "      <th>four</th>\n",
              "      <td>2001</td>\n",
              "      <td>Nevada</td>\n",
              "      <td>2.4</td>\n",
              "      <td>-1.5</td>\n",
              "    </tr>\n",
              "    <tr>\n",
              "      <th>five</th>\n",
              "      <td>2002</td>\n",
              "      <td>Nevada</td>\n",
              "      <td>2.9</td>\n",
              "      <td>-1.7</td>\n",
              "    </tr>\n",
              "    <tr>\n",
              "      <th>six</th>\n",
              "      <td>2003</td>\n",
              "      <td>Nevada</td>\n",
              "      <td>3.2</td>\n",
              "      <td>NaN</td>\n",
              "    </tr>\n",
              "  </tbody>\n",
              "</table>\n",
              "</div>"
            ],
            "text/plain": [
              "       year   state  pop  debt\n",
              "one    2000    Ohio  1.5   NaN\n",
              "two    2001    Ohio  1.7  -1.2\n",
              "three  2002    Ohio  3.6   NaN\n",
              "four   2001  Nevada  2.4  -1.5\n",
              "five   2002  Nevada  2.9  -1.7\n",
              "six    2003  Nevada  3.2   NaN"
            ]
          },
          "metadata": {},
          "execution_count": 53
        }
      ]
    },
    {
      "cell_type": "markdown",
      "metadata": {
        "id": "huzQUSCF6YeX"
      },
      "source": [
        "Assigning a column that doesn’t exist will create a new column. The del keyword will delete columns as with a dict\n",
        "\n",
        "As an example of del, I first add a new column of boolean values where the state column equals ' Ohio':"
      ]
    },
    {
      "cell_type": "code",
      "metadata": {
        "id": "w06mhh5x62gn"
      },
      "source": [
        "frame2['eastern'] = frame2.state == 'Ohio'"
      ],
      "execution_count": 54,
      "outputs": []
    },
    {
      "cell_type": "code",
      "metadata": {
        "colab": {
          "base_uri": "https://localhost:8080/",
          "height": 235
        },
        "id": "d53JrpIO66xk",
        "outputId": "8f874682-c8e8-4458-ef61-6af29c8e7bee"
      },
      "source": [
        "frame2"
      ],
      "execution_count": 55,
      "outputs": [
        {
          "output_type": "execute_result",
          "data": {
            "text/html": [
              "<div>\n",
              "<style scoped>\n",
              "    .dataframe tbody tr th:only-of-type {\n",
              "        vertical-align: middle;\n",
              "    }\n",
              "\n",
              "    .dataframe tbody tr th {\n",
              "        vertical-align: top;\n",
              "    }\n",
              "\n",
              "    .dataframe thead th {\n",
              "        text-align: right;\n",
              "    }\n",
              "</style>\n",
              "<table border=\"1\" class=\"dataframe\">\n",
              "  <thead>\n",
              "    <tr style=\"text-align: right;\">\n",
              "      <th></th>\n",
              "      <th>year</th>\n",
              "      <th>state</th>\n",
              "      <th>pop</th>\n",
              "      <th>debt</th>\n",
              "      <th>eastern</th>\n",
              "    </tr>\n",
              "  </thead>\n",
              "  <tbody>\n",
              "    <tr>\n",
              "      <th>one</th>\n",
              "      <td>2000</td>\n",
              "      <td>Ohio</td>\n",
              "      <td>1.5</td>\n",
              "      <td>NaN</td>\n",
              "      <td>True</td>\n",
              "    </tr>\n",
              "    <tr>\n",
              "      <th>two</th>\n",
              "      <td>2001</td>\n",
              "      <td>Ohio</td>\n",
              "      <td>1.7</td>\n",
              "      <td>-1.2</td>\n",
              "      <td>True</td>\n",
              "    </tr>\n",
              "    <tr>\n",
              "      <th>three</th>\n",
              "      <td>2002</td>\n",
              "      <td>Ohio</td>\n",
              "      <td>3.6</td>\n",
              "      <td>NaN</td>\n",
              "      <td>True</td>\n",
              "    </tr>\n",
              "    <tr>\n",
              "      <th>four</th>\n",
              "      <td>2001</td>\n",
              "      <td>Nevada</td>\n",
              "      <td>2.4</td>\n",
              "      <td>-1.5</td>\n",
              "      <td>False</td>\n",
              "    </tr>\n",
              "    <tr>\n",
              "      <th>five</th>\n",
              "      <td>2002</td>\n",
              "      <td>Nevada</td>\n",
              "      <td>2.9</td>\n",
              "      <td>-1.7</td>\n",
              "      <td>False</td>\n",
              "    </tr>\n",
              "    <tr>\n",
              "      <th>six</th>\n",
              "      <td>2003</td>\n",
              "      <td>Nevada</td>\n",
              "      <td>3.2</td>\n",
              "      <td>NaN</td>\n",
              "      <td>False</td>\n",
              "    </tr>\n",
              "  </tbody>\n",
              "</table>\n",
              "</div>"
            ],
            "text/plain": [
              "       year   state  pop  debt  eastern\n",
              "one    2000    Ohio  1.5   NaN     True\n",
              "two    2001    Ohio  1.7  -1.2     True\n",
              "three  2002    Ohio  3.6   NaN     True\n",
              "four   2001  Nevada  2.4  -1.5    False\n",
              "five   2002  Nevada  2.9  -1.7    False\n",
              "six    2003  Nevada  3.2   NaN    False"
            ]
          },
          "metadata": {},
          "execution_count": 55
        }
      ]
    },
    {
      "cell_type": "markdown",
      "metadata": {
        "id": "G_EAr1s37B1t"
      },
      "source": [
        "The del method can then be used to remove this column:"
      ]
    },
    {
      "cell_type": "code",
      "metadata": {
        "id": "cb0VOGmk7D3X"
      },
      "source": [
        "del frame2['eastern']"
      ],
      "execution_count": 56,
      "outputs": []
    },
    {
      "cell_type": "code",
      "metadata": {
        "colab": {
          "base_uri": "https://localhost:8080/"
        },
        "id": "aG8Xutc67GOt",
        "outputId": "262982b7-263c-441d-b516-743a28f1fa08"
      },
      "source": [
        "frame2.columns"
      ],
      "execution_count": 57,
      "outputs": [
        {
          "output_type": "execute_result",
          "data": {
            "text/plain": [
              "Index(['year', 'state', 'pop', 'debt'], dtype='object')"
            ]
          },
          "metadata": {},
          "execution_count": 57
        }
      ]
    },
    {
      "cell_type": "markdown",
      "metadata": {
        "id": "ZcEdAqtH7L_m"
      },
      "source": [
        "Another common form of data is a nested dict of dicts:"
      ]
    },
    {
      "cell_type": "code",
      "metadata": {
        "id": "y2SRWmnh7Qn0"
      },
      "source": [
        "pop = {'Nevada': {2001: 2.4, 2002: 2.9},\n",
        "       'Ohio': {2000: 1.5, 2001: 1.7, 2002: 3.6}}"
      ],
      "execution_count": 58,
      "outputs": []
    },
    {
      "cell_type": "markdown",
      "metadata": {
        "id": "Yg9cLpkh7XD9"
      },
      "source": [
        "If the nested dict is passed to the DataFrame, pandas will interpret the outer dict keys as the columns and the inner keys as the row indices:"
      ]
    },
    {
      "cell_type": "code",
      "metadata": {
        "id": "h7ORIM_07hml"
      },
      "source": [
        "frame3 = pd.DataFrame(pop)"
      ],
      "execution_count": 59,
      "outputs": []
    },
    {
      "cell_type": "code",
      "metadata": {
        "colab": {
          "base_uri": "https://localhost:8080/",
          "height": 142
        },
        "id": "qZV0eZ0D7kZ2",
        "outputId": "92d715cf-1054-4994-c0ea-df6922ca4a36"
      },
      "source": [
        "frame3"
      ],
      "execution_count": 60,
      "outputs": [
        {
          "output_type": "execute_result",
          "data": {
            "text/html": [
              "<div>\n",
              "<style scoped>\n",
              "    .dataframe tbody tr th:only-of-type {\n",
              "        vertical-align: middle;\n",
              "    }\n",
              "\n",
              "    .dataframe tbody tr th {\n",
              "        vertical-align: top;\n",
              "    }\n",
              "\n",
              "    .dataframe thead th {\n",
              "        text-align: right;\n",
              "    }\n",
              "</style>\n",
              "<table border=\"1\" class=\"dataframe\">\n",
              "  <thead>\n",
              "    <tr style=\"text-align: right;\">\n",
              "      <th></th>\n",
              "      <th>Nevada</th>\n",
              "      <th>Ohio</th>\n",
              "    </tr>\n",
              "  </thead>\n",
              "  <tbody>\n",
              "    <tr>\n",
              "      <th>2001</th>\n",
              "      <td>2.4</td>\n",
              "      <td>1.7</td>\n",
              "    </tr>\n",
              "    <tr>\n",
              "      <th>2002</th>\n",
              "      <td>2.9</td>\n",
              "      <td>3.6</td>\n",
              "    </tr>\n",
              "    <tr>\n",
              "      <th>2000</th>\n",
              "      <td>NaN</td>\n",
              "      <td>1.5</td>\n",
              "    </tr>\n",
              "  </tbody>\n",
              "</table>\n",
              "</div>"
            ],
            "text/plain": [
              "      Nevada  Ohio\n",
              "2001     2.4   1.7\n",
              "2002     2.9   3.6\n",
              "2000     NaN   1.5"
            ]
          },
          "metadata": {},
          "execution_count": 60
        }
      ]
    },
    {
      "cell_type": "markdown",
      "metadata": {
        "id": "dAvGGtds7oxZ"
      },
      "source": [
        "You can transpose the DataFrame (swap rows and columns) with similar syntax to a NumPy array:"
      ]
    },
    {
      "cell_type": "code",
      "metadata": {
        "colab": {
          "base_uri": "https://localhost:8080/",
          "height": 111
        },
        "id": "-7v__ixM7pOl",
        "outputId": "6b970024-8f01-4fc9-b17f-8071cbcb5d05"
      },
      "source": [
        "frame3.T"
      ],
      "execution_count": 61,
      "outputs": [
        {
          "output_type": "execute_result",
          "data": {
            "text/html": [
              "<div>\n",
              "<style scoped>\n",
              "    .dataframe tbody tr th:only-of-type {\n",
              "        vertical-align: middle;\n",
              "    }\n",
              "\n",
              "    .dataframe tbody tr th {\n",
              "        vertical-align: top;\n",
              "    }\n",
              "\n",
              "    .dataframe thead th {\n",
              "        text-align: right;\n",
              "    }\n",
              "</style>\n",
              "<table border=\"1\" class=\"dataframe\">\n",
              "  <thead>\n",
              "    <tr style=\"text-align: right;\">\n",
              "      <th></th>\n",
              "      <th>2001</th>\n",
              "      <th>2002</th>\n",
              "      <th>2000</th>\n",
              "    </tr>\n",
              "  </thead>\n",
              "  <tbody>\n",
              "    <tr>\n",
              "      <th>Nevada</th>\n",
              "      <td>2.4</td>\n",
              "      <td>2.9</td>\n",
              "      <td>NaN</td>\n",
              "    </tr>\n",
              "    <tr>\n",
              "      <th>Ohio</th>\n",
              "      <td>1.7</td>\n",
              "      <td>3.6</td>\n",
              "      <td>1.5</td>\n",
              "    </tr>\n",
              "  </tbody>\n",
              "</table>\n",
              "</div>"
            ],
            "text/plain": [
              "        2001  2002  2000\n",
              "Nevada   2.4   2.9   NaN\n",
              "Ohio     1.7   3.6   1.5"
            ]
          },
          "metadata": {},
          "execution_count": 61
        }
      ]
    },
    {
      "cell_type": "markdown",
      "metadata": {
        "id": "pEylcG7I8Bml"
      },
      "source": [
        "The keys in the inner dicts are combined and sorted to form the index in the result. This isn’t true if an explicit index is specified:"
      ]
    },
    {
      "cell_type": "code",
      "metadata": {
        "colab": {
          "base_uri": "https://localhost:8080/",
          "height": 142
        },
        "id": "-JY2TMy88Fb1",
        "outputId": "a0caa67b-6868-49b4-e8a9-1aab6c6406ef"
      },
      "source": [
        "pd.DataFrame(pop, index=[2001, 2002, 2003])"
      ],
      "execution_count": 62,
      "outputs": [
        {
          "output_type": "execute_result",
          "data": {
            "text/html": [
              "<div>\n",
              "<style scoped>\n",
              "    .dataframe tbody tr th:only-of-type {\n",
              "        vertical-align: middle;\n",
              "    }\n",
              "\n",
              "    .dataframe tbody tr th {\n",
              "        vertical-align: top;\n",
              "    }\n",
              "\n",
              "    .dataframe thead th {\n",
              "        text-align: right;\n",
              "    }\n",
              "</style>\n",
              "<table border=\"1\" class=\"dataframe\">\n",
              "  <thead>\n",
              "    <tr style=\"text-align: right;\">\n",
              "      <th></th>\n",
              "      <th>Nevada</th>\n",
              "      <th>Ohio</th>\n",
              "    </tr>\n",
              "  </thead>\n",
              "  <tbody>\n",
              "    <tr>\n",
              "      <th>2001</th>\n",
              "      <td>2.4</td>\n",
              "      <td>1.7</td>\n",
              "    </tr>\n",
              "    <tr>\n",
              "      <th>2002</th>\n",
              "      <td>2.9</td>\n",
              "      <td>3.6</td>\n",
              "    </tr>\n",
              "    <tr>\n",
              "      <th>2003</th>\n",
              "      <td>NaN</td>\n",
              "      <td>NaN</td>\n",
              "    </tr>\n",
              "  </tbody>\n",
              "</table>\n",
              "</div>"
            ],
            "text/plain": [
              "      Nevada  Ohio\n",
              "2001     2.4   1.7\n",
              "2002     2.9   3.6\n",
              "2003     NaN   NaN"
            ]
          },
          "metadata": {},
          "execution_count": 62
        }
      ]
    },
    {
      "cell_type": "markdown",
      "metadata": {
        "id": "JwElCvdK8Pjl"
      },
      "source": [
        "Dicts of Series are treated in much the same way:"
      ]
    },
    {
      "cell_type": "code",
      "metadata": {
        "id": "5fHcqalF8RJF"
      },
      "source": [
        "pdata = {'Ohio': frame3['Ohio'][:-1],\n",
        "         'Nevada': frame3['Nevada'][:2]}"
      ],
      "execution_count": 63,
      "outputs": []
    },
    {
      "cell_type": "code",
      "metadata": {
        "colab": {
          "base_uri": "https://localhost:8080/",
          "height": 111
        },
        "id": "gUgklsdA8fJL",
        "outputId": "bb4903f0-7151-401b-a2e3-213a3de049ad"
      },
      "source": [
        "pd.DataFrame(pdata)"
      ],
      "execution_count": 64,
      "outputs": [
        {
          "output_type": "execute_result",
          "data": {
            "text/html": [
              "<div>\n",
              "<style scoped>\n",
              "    .dataframe tbody tr th:only-of-type {\n",
              "        vertical-align: middle;\n",
              "    }\n",
              "\n",
              "    .dataframe tbody tr th {\n",
              "        vertical-align: top;\n",
              "    }\n",
              "\n",
              "    .dataframe thead th {\n",
              "        text-align: right;\n",
              "    }\n",
              "</style>\n",
              "<table border=\"1\" class=\"dataframe\">\n",
              "  <thead>\n",
              "    <tr style=\"text-align: right;\">\n",
              "      <th></th>\n",
              "      <th>Ohio</th>\n",
              "      <th>Nevada</th>\n",
              "    </tr>\n",
              "  </thead>\n",
              "  <tbody>\n",
              "    <tr>\n",
              "      <th>2001</th>\n",
              "      <td>1.7</td>\n",
              "      <td>2.4</td>\n",
              "    </tr>\n",
              "    <tr>\n",
              "      <th>2002</th>\n",
              "      <td>3.6</td>\n",
              "      <td>2.9</td>\n",
              "    </tr>\n",
              "  </tbody>\n",
              "</table>\n",
              "</div>"
            ],
            "text/plain": [
              "      Ohio  Nevada\n",
              "2001   1.7     2.4\n",
              "2002   3.6     2.9"
            ]
          },
          "metadata": {},
          "execution_count": 64
        }
      ]
    },
    {
      "cell_type": "markdown",
      "metadata": {
        "id": "yDALAzrr9FOF"
      },
      "source": [
        "If a DataFrame’s index and columns have their name attributes set, these will also be displayed:"
      ]
    },
    {
      "cell_type": "code",
      "metadata": {
        "id": "00I8IVAy9JFN"
      },
      "source": [
        "frame3.index.name = 'year' ; frame3.columns.name = 'state'"
      ],
      "execution_count": 65,
      "outputs": []
    },
    {
      "cell_type": "code",
      "metadata": {
        "colab": {
          "base_uri": "https://localhost:8080/",
          "height": 173
        },
        "id": "Ytd6rLLv9Qrn",
        "outputId": "913328f1-117b-40cc-acce-d0c966b86108"
      },
      "source": [
        "frame3"
      ],
      "execution_count": 66,
      "outputs": [
        {
          "output_type": "execute_result",
          "data": {
            "text/html": [
              "<div>\n",
              "<style scoped>\n",
              "    .dataframe tbody tr th:only-of-type {\n",
              "        vertical-align: middle;\n",
              "    }\n",
              "\n",
              "    .dataframe tbody tr th {\n",
              "        vertical-align: top;\n",
              "    }\n",
              "\n",
              "    .dataframe thead th {\n",
              "        text-align: right;\n",
              "    }\n",
              "</style>\n",
              "<table border=\"1\" class=\"dataframe\">\n",
              "  <thead>\n",
              "    <tr style=\"text-align: right;\">\n",
              "      <th>state</th>\n",
              "      <th>Nevada</th>\n",
              "      <th>Ohio</th>\n",
              "    </tr>\n",
              "    <tr>\n",
              "      <th>year</th>\n",
              "      <th></th>\n",
              "      <th></th>\n",
              "    </tr>\n",
              "  </thead>\n",
              "  <tbody>\n",
              "    <tr>\n",
              "      <th>2001</th>\n",
              "      <td>2.4</td>\n",
              "      <td>1.7</td>\n",
              "    </tr>\n",
              "    <tr>\n",
              "      <th>2002</th>\n",
              "      <td>2.9</td>\n",
              "      <td>3.6</td>\n",
              "    </tr>\n",
              "    <tr>\n",
              "      <th>2000</th>\n",
              "      <td>NaN</td>\n",
              "      <td>1.5</td>\n",
              "    </tr>\n",
              "  </tbody>\n",
              "</table>\n",
              "</div>"
            ],
            "text/plain": [
              "state  Nevada  Ohio\n",
              "year               \n",
              "2001      2.4   1.7\n",
              "2002      2.9   3.6\n",
              "2000      NaN   1.5"
            ]
          },
          "metadata": {},
          "execution_count": 66
        }
      ]
    },
    {
      "cell_type": "markdown",
      "metadata": {
        "id": "c2PNTJ0U9gNm"
      },
      "source": [
        "As with Series, the values attribute returns the data contained in the DataFrame as a two-dimensional ndarray:"
      ]
    },
    {
      "cell_type": "code",
      "metadata": {
        "colab": {
          "base_uri": "https://localhost:8080/"
        },
        "id": "YIGbJ3b89jKn",
        "outputId": "7f608063-610e-4eea-8340-808c7ac0f17a"
      },
      "source": [
        "frame3.values"
      ],
      "execution_count": 67,
      "outputs": [
        {
          "output_type": "execute_result",
          "data": {
            "text/plain": [
              "array([[2.4, 1.7],\n",
              "       [2.9, 3.6],\n",
              "       [nan, 1.5]])"
            ]
          },
          "metadata": {},
          "execution_count": 67
        }
      ]
    },
    {
      "cell_type": "markdown",
      "metadata": {
        "id": "3Zui7thJ9yQu"
      },
      "source": [
        "If the DataFrame’s columns are different dtypes, the dtype of the values array will be chosen to accommodate all of the columns:"
      ]
    },
    {
      "cell_type": "code",
      "metadata": {
        "colab": {
          "base_uri": "https://localhost:8080/"
        },
        "id": "cSagr5pd91Ye",
        "outputId": "ad190aaf-53cd-4b63-a370-263b12d01044"
      },
      "source": [
        "frame2.values"
      ],
      "execution_count": 68,
      "outputs": [
        {
          "output_type": "execute_result",
          "data": {
            "text/plain": [
              "array([[2000, 'Ohio', 1.5, nan],\n",
              "       [2001, 'Ohio', 1.7, -1.2],\n",
              "       [2002, 'Ohio', 3.6, nan],\n",
              "       [2001, 'Nevada', 2.4, -1.5],\n",
              "       [2002, 'Nevada', 2.9, -1.7],\n",
              "       [2003, 'Nevada', 3.2, nan]], dtype=object)"
            ]
          },
          "metadata": {},
          "execution_count": 68
        }
      ]
    },
    {
      "cell_type": "markdown",
      "metadata": {
        "id": "GbbWj1e18_B1"
      },
      "source": [
        "For a complete list of things you can pass the DataFrame constructor, see Table 5-1"
      ]
    },
    {
      "cell_type": "markdown",
      "metadata": {
        "id": "jovvwkAo9-Bt"
      },
      "source": [
        "Table 5-1. Possible data inputs to DataFrame constructor\n",
        "<p align='center'>\n",
        "<img src='data:image/png;base64,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'>\n",
        "</p>"
      ]
    },
    {
      "cell_type": "markdown",
      "metadata": {
        "id": "RpkGG1G6-J0t"
      },
      "source": [
        "## Index Objects"
      ]
    },
    {
      "cell_type": "markdown",
      "metadata": {
        "id": "AmOrPZb7-LZu"
      },
      "source": [
        "pandas’s Index objects are **responsible for holding the axis labels and other metadata** (like the axis name or names)\n",
        "\n",
        "Any array or other sequence of labels you use when constructing a Series or DataFrame is internally converted to an Index:"
      ]
    },
    {
      "cell_type": "code",
      "metadata": {
        "id": "0ItGrFSm-69l"
      },
      "source": [
        "obj = pd.Series(range(3), index=['a', 'b', 'c'])"
      ],
      "execution_count": 69,
      "outputs": []
    },
    {
      "cell_type": "code",
      "metadata": {
        "id": "7TCFxOlT_Bu3"
      },
      "source": [
        "index = obj.index"
      ],
      "execution_count": 70,
      "outputs": []
    },
    {
      "cell_type": "code",
      "metadata": {
        "colab": {
          "base_uri": "https://localhost:8080/"
        },
        "id": "fV__RHJI_Dom",
        "outputId": "14cde53f-6723-4be3-eec5-49dce4b049b0"
      },
      "source": [
        "index"
      ],
      "execution_count": 71,
      "outputs": [
        {
          "output_type": "execute_result",
          "data": {
            "text/plain": [
              "Index(['a', 'b', 'c'], dtype='object')"
            ]
          },
          "metadata": {},
          "execution_count": 71
        }
      ]
    },
    {
      "cell_type": "code",
      "metadata": {
        "colab": {
          "base_uri": "https://localhost:8080/"
        },
        "id": "aAiXEzlz_Jh3",
        "outputId": "ae7ea084-6368-400e-ae20-a3676112b27f"
      },
      "source": [
        "index[1:]"
      ],
      "execution_count": 72,
      "outputs": [
        {
          "output_type": "execute_result",
          "data": {
            "text/plain": [
              "Index(['b', 'c'], dtype='object')"
            ]
          },
          "metadata": {},
          "execution_count": 72
        }
      ]
    },
    {
      "cell_type": "markdown",
      "metadata": {
        "id": "mquTQ3nw_RGJ"
      },
      "source": [
        "Index objects are immutable and thus can’t be modified by the user:"
      ]
    },
    {
      "cell_type": "code",
      "metadata": {
        "colab": {
          "base_uri": "https://localhost:8080/"
        },
        "id": "sws5X4LM_VL-",
        "outputId": "50e2f56c-6d3a-4b48-9569-e05b28149fa7"
      },
      "source": [
        "try:\n",
        "  index[1] = 'd'\n",
        "except TypeError:\n",
        "  print('TypeError')"
      ],
      "execution_count": 73,
      "outputs": [
        {
          "output_type": "stream",
          "name": "stdout",
          "text": [
            "TypeError\n"
          ]
        }
      ]
    },
    {
      "cell_type": "markdown",
      "metadata": {
        "id": "yMvF6mf1_hxe"
      },
      "source": [
        "Immutability makes it safer to share Index objects among data structures:"
      ]
    },
    {
      "cell_type": "code",
      "metadata": {
        "id": "LbnZg4cV_jal"
      },
      "source": [
        "labels = pd.Index(np.arange(3))"
      ],
      "execution_count": 74,
      "outputs": []
    },
    {
      "cell_type": "code",
      "metadata": {
        "colab": {
          "base_uri": "https://localhost:8080/"
        },
        "id": "MLkWQDNX_nE4",
        "outputId": "81ee4362-4e69-4a66-bbb7-493ccd24a1dd"
      },
      "source": [
        "labels"
      ],
      "execution_count": 75,
      "outputs": [
        {
          "output_type": "execute_result",
          "data": {
            "text/plain": [
              "Int64Index([0, 1, 2], dtype='int64')"
            ]
          },
          "metadata": {},
          "execution_count": 75
        }
      ]
    },
    {
      "cell_type": "code",
      "metadata": {
        "id": "DoHmTqbN_wNu"
      },
      "source": [
        "obj2 = pd.Series([1.5, -2.5, 0], index=labels)"
      ],
      "execution_count": 76,
      "outputs": []
    },
    {
      "cell_type": "code",
      "metadata": {
        "colab": {
          "base_uri": "https://localhost:8080/"
        },
        "id": "UIZbppMi_1NH",
        "outputId": "55cf0468-5a6a-4803-b233-67dd26fc34a3"
      },
      "source": [
        "obj2"
      ],
      "execution_count": 77,
      "outputs": [
        {
          "output_type": "execute_result",
          "data": {
            "text/plain": [
              "0    1.5\n",
              "1   -2.5\n",
              "2    0.0\n",
              "dtype: float64"
            ]
          },
          "metadata": {},
          "execution_count": 77
        }
      ]
    },
    {
      "cell_type": "markdown",
      "metadata": {
        "id": "kOkhJdby_6kG"
      },
      "source": [
        "In addition to being array-like, an Index also behaves like a fixed-size set:"
      ]
    },
    {
      "cell_type": "code",
      "metadata": {
        "colab": {
          "base_uri": "https://localhost:8080/",
          "height": 173
        },
        "id": "UFEJOuKF_8Uv",
        "outputId": "6553c2ac-4811-439e-98df-1a390ae09025"
      },
      "source": [
        "frame3"
      ],
      "execution_count": 78,
      "outputs": [
        {
          "output_type": "execute_result",
          "data": {
            "text/html": [
              "<div>\n",
              "<style scoped>\n",
              "    .dataframe tbody tr th:only-of-type {\n",
              "        vertical-align: middle;\n",
              "    }\n",
              "\n",
              "    .dataframe tbody tr th {\n",
              "        vertical-align: top;\n",
              "    }\n",
              "\n",
              "    .dataframe thead th {\n",
              "        text-align: right;\n",
              "    }\n",
              "</style>\n",
              "<table border=\"1\" class=\"dataframe\">\n",
              "  <thead>\n",
              "    <tr style=\"text-align: right;\">\n",
              "      <th>state</th>\n",
              "      <th>Nevada</th>\n",
              "      <th>Ohio</th>\n",
              "    </tr>\n",
              "    <tr>\n",
              "      <th>year</th>\n",
              "      <th></th>\n",
              "      <th></th>\n",
              "    </tr>\n",
              "  </thead>\n",
              "  <tbody>\n",
              "    <tr>\n",
              "      <th>2001</th>\n",
              "      <td>2.4</td>\n",
              "      <td>1.7</td>\n",
              "    </tr>\n",
              "    <tr>\n",
              "      <th>2002</th>\n",
              "      <td>2.9</td>\n",
              "      <td>3.6</td>\n",
              "    </tr>\n",
              "    <tr>\n",
              "      <th>2000</th>\n",
              "      <td>NaN</td>\n",
              "      <td>1.5</td>\n",
              "    </tr>\n",
              "  </tbody>\n",
              "</table>\n",
              "</div>"
            ],
            "text/plain": [
              "state  Nevada  Ohio\n",
              "year               \n",
              "2001      2.4   1.7\n",
              "2002      2.9   3.6\n",
              "2000      NaN   1.5"
            ]
          },
          "metadata": {},
          "execution_count": 78
        }
      ]
    },
    {
      "cell_type": "code",
      "metadata": {
        "colab": {
          "base_uri": "https://localhost:8080/"
        },
        "id": "tQLOLeSg_-Ku",
        "outputId": "34fa2532-236f-438f-ad57-4f070bba0ff0"
      },
      "source": [
        "frame3.columns"
      ],
      "execution_count": 79,
      "outputs": [
        {
          "output_type": "execute_result",
          "data": {
            "text/plain": [
              "Index(['Nevada', 'Ohio'], dtype='object', name='state')"
            ]
          },
          "metadata": {},
          "execution_count": 79
        }
      ]
    },
    {
      "cell_type": "code",
      "metadata": {
        "colab": {
          "base_uri": "https://localhost:8080/"
        },
        "id": "AAMrp5ZRAHQH",
        "outputId": "5b39b055-2624-411e-9a97-e4d598fe4e90"
      },
      "source": [
        "'Ohio' in frame3.columns"
      ],
      "execution_count": 80,
      "outputs": [
        {
          "output_type": "execute_result",
          "data": {
            "text/plain": [
              "True"
            ]
          },
          "metadata": {},
          "execution_count": 80
        }
      ]
    },
    {
      "cell_type": "code",
      "metadata": {
        "colab": {
          "base_uri": "https://localhost:8080/"
        },
        "id": "kq30N1INALkd",
        "outputId": "64b28d21-61c1-4c97-ee29-bb6abf08efd8"
      },
      "source": [
        "2003 in frame3.index"
      ],
      "execution_count": 81,
      "outputs": [
        {
          "output_type": "execute_result",
          "data": {
            "text/plain": [
              "False"
            ]
          },
          "metadata": {},
          "execution_count": 81
        }
      ]
    },
    {
      "cell_type": "markdown",
      "metadata": {
        "id": "ZU4dkyIhAPQn"
      },
      "source": [
        "Unlike Python sets, a pandas Index can contain duplicate labels:"
      ]
    },
    {
      "cell_type": "code",
      "metadata": {
        "id": "AyagpbixAQ5d"
      },
      "source": [
        "dup_labels = pd.Index(['foo', 'foo', 'bar', 'bar'])"
      ],
      "execution_count": 82,
      "outputs": []
    },
    {
      "cell_type": "code",
      "metadata": {
        "colab": {
          "base_uri": "https://localhost:8080/"
        },
        "id": "P8Q_MQJuAWjX",
        "outputId": "11de0eb4-1b84-4efc-b548-41fde4c1057b"
      },
      "source": [
        "dup_labels"
      ],
      "execution_count": 83,
      "outputs": [
        {
          "output_type": "execute_result",
          "data": {
            "text/plain": [
              "Index(['foo', 'foo', 'bar', 'bar'], dtype='object')"
            ]
          },
          "metadata": {},
          "execution_count": 83
        }
      ]
    },
    {
      "cell_type": "markdown",
      "metadata": {
        "id": "AjX6ARNCAwOl"
      },
      "source": [
        "Selections with duplicate labels will select all occurrences of that label\n",
        "\n",
        "Each Index has a number of methods and properties for set logic, which answer other common questions about the data it contains. Some useful ones are summarized in Table 5-2"
      ]
    },
    {
      "cell_type": "markdown",
      "metadata": {
        "id": "7mPUq6wCA3Y-"
      },
      "source": [
        "Table 5-2. Some Index methods and properties\n",
        "<p align='center'>\n",
        "<img src='data:image/png;base64,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'>\n",
        "</p>"
      ]
    },
    {
      "cell_type": "markdown",
      "metadata": {
        "id": "E9R84ovjBKad"
      },
      "source": [
        "# 5.2 Essential Functionality"
      ]
    },
    {
      "cell_type": "markdown",
      "metadata": {
        "id": "X5UP_2kamM1J"
      },
      "source": [
        "##Reindexing"
      ]
    },
    {
      "cell_type": "markdown",
      "metadata": {
        "id": "NtGORtxnmfG9"
      },
      "source": [
        "An important method on pandas objects is reindex, which means to **create a new object with the data conformed to a new index**. Consider an example:"
      ]
    },
    {
      "cell_type": "code",
      "metadata": {
        "id": "EBMSzphNA27d"
      },
      "source": [
        "obj = pd.Series([4.5, 7.3, -5.3, 3.6], index=['d', 'b', 'a', 'c'])"
      ],
      "execution_count": 84,
      "outputs": []
    },
    {
      "cell_type": "code",
      "metadata": {
        "colab": {
          "base_uri": "https://localhost:8080/"
        },
        "id": "_8PsBHW8nF2L",
        "outputId": "35e5b4a6-a07a-49d3-c9f4-7fc2bd448544"
      },
      "source": [
        "obj"
      ],
      "execution_count": 85,
      "outputs": [
        {
          "output_type": "execute_result",
          "data": {
            "text/plain": [
              "d    4.5\n",
              "b    7.3\n",
              "a   -5.3\n",
              "c    3.6\n",
              "dtype: float64"
            ]
          },
          "metadata": {},
          "execution_count": 85
        }
      ]
    },
    {
      "cell_type": "markdown",
      "metadata": {
        "id": "HxkaqKQ9nHOf"
      },
      "source": [
        "Calling reindex on this Series rearranges the data according to the new index, introducing missing values if any index values were not already present:"
      ]
    },
    {
      "cell_type": "code",
      "metadata": {
        "id": "Rgo7qbaKnMbe"
      },
      "source": [
        "obj2 = obj.reindex(['a', 'b', 'c', 'd', 'e'])"
      ],
      "execution_count": 86,
      "outputs": []
    },
    {
      "cell_type": "code",
      "metadata": {
        "colab": {
          "base_uri": "https://localhost:8080/"
        },
        "id": "O1w3IYeGnPtF",
        "outputId": "57955266-5ed3-49d6-b55d-8c8714a907f4"
      },
      "source": [
        "obj2"
      ],
      "execution_count": 87,
      "outputs": [
        {
          "output_type": "execute_result",
          "data": {
            "text/plain": [
              "a   -5.3\n",
              "b    7.3\n",
              "c    3.6\n",
              "d    4.5\n",
              "e    NaN\n",
              "dtype: float64"
            ]
          },
          "metadata": {},
          "execution_count": 87
        }
      ]
    },
    {
      "cell_type": "markdown",
      "metadata": {
        "id": "jhD2Dv-LnX8F"
      },
      "source": [
        "For ordered data like time series, it may be desirable to do some interpolation or filling of values when reindexing\n",
        "\n",
        "The method option allows us to do this, using a method such as ffill, which forward-fills the values:"
      ]
    },
    {
      "cell_type": "code",
      "metadata": {
        "id": "iIYy-SyVnplp"
      },
      "source": [
        "obj3 = pd.Series(['blue', 'purple', 'yellow'], index=[0, 2, 4])"
      ],
      "execution_count": 88,
      "outputs": []
    },
    {
      "cell_type": "code",
      "metadata": {
        "colab": {
          "base_uri": "https://localhost:8080/"
        },
        "id": "eZLr8AWRnx1C",
        "outputId": "a9c46ac4-5150-49f8-9980-a5f448860af9"
      },
      "source": [
        "obj3"
      ],
      "execution_count": 89,
      "outputs": [
        {
          "output_type": "execute_result",
          "data": {
            "text/plain": [
              "0      blue\n",
              "2    purple\n",
              "4    yellow\n",
              "dtype: object"
            ]
          },
          "metadata": {},
          "execution_count": 89
        }
      ]
    },
    {
      "cell_type": "code",
      "metadata": {
        "colab": {
          "base_uri": "https://localhost:8080/"
        },
        "id": "utEv1oCunzSb",
        "outputId": "bfcd8552-10d7-4126-f68c-ccf794b6a058"
      },
      "source": [
        "obj3.reindex(range(6), method='ffill')"
      ],
      "execution_count": 90,
      "outputs": [
        {
          "output_type": "execute_result",
          "data": {
            "text/plain": [
              "0      blue\n",
              "1      blue\n",
              "2    purple\n",
              "3    purple\n",
              "4    yellow\n",
              "5    yellow\n",
              "dtype: object"
            ]
          },
          "metadata": {},
          "execution_count": 90
        }
      ]
    },
    {
      "cell_type": "markdown",
      "metadata": {
        "id": "VL4HowjQoD2e"
      },
      "source": [
        "**With DataFrame, reindex can alter either the (row) index, columns, or both**\n",
        "\n",
        "When passed only a sequence, it reindexes the rows in the result:"
      ]
    },
    {
      "cell_type": "code",
      "metadata": {
        "id": "q5Qc9T3HoJ2m"
      },
      "source": [
        "frame = pd.DataFrame(np.arange(9).reshape((3, 3)),\n",
        "                     index=['a', 'c', 'd'],\n",
        "                     columns=['Ohio', 'Texas', 'California'])"
      ],
      "execution_count": 91,
      "outputs": []
    },
    {
      "cell_type": "code",
      "metadata": {
        "colab": {
          "base_uri": "https://localhost:8080/",
          "height": 142
        },
        "id": "lY2Uqrd1oXKl",
        "outputId": "a99de250-78b4-42a0-a4f1-d8cc96496663"
      },
      "source": [
        "frame"
      ],
      "execution_count": 92,
      "outputs": [
        {
          "output_type": "execute_result",
          "data": {
            "text/html": [
              "<div>\n",
              "<style scoped>\n",
              "    .dataframe tbody tr th:only-of-type {\n",
              "        vertical-align: middle;\n",
              "    }\n",
              "\n",
              "    .dataframe tbody tr th {\n",
              "        vertical-align: top;\n",
              "    }\n",
              "\n",
              "    .dataframe thead th {\n",
              "        text-align: right;\n",
              "    }\n",
              "</style>\n",
              "<table border=\"1\" class=\"dataframe\">\n",
              "  <thead>\n",
              "    <tr style=\"text-align: right;\">\n",
              "      <th></th>\n",
              "      <th>Ohio</th>\n",
              "      <th>Texas</th>\n",
              "      <th>California</th>\n",
              "    </tr>\n",
              "  </thead>\n",
              "  <tbody>\n",
              "    <tr>\n",
              "      <th>a</th>\n",
              "      <td>0</td>\n",
              "      <td>1</td>\n",
              "      <td>2</td>\n",
              "    </tr>\n",
              "    <tr>\n",
              "      <th>c</th>\n",
              "      <td>3</td>\n",
              "      <td>4</td>\n",
              "      <td>5</td>\n",
              "    </tr>\n",
              "    <tr>\n",
              "      <th>d</th>\n",
              "      <td>6</td>\n",
              "      <td>7</td>\n",
              "      <td>8</td>\n",
              "    </tr>\n",
              "  </tbody>\n",
              "</table>\n",
              "</div>"
            ],
            "text/plain": [
              "   Ohio  Texas  California\n",
              "a     0      1           2\n",
              "c     3      4           5\n",
              "d     6      7           8"
            ]
          },
          "metadata": {},
          "execution_count": 92
        }
      ]
    },
    {
      "cell_type": "code",
      "metadata": {
        "id": "4LE5M4I8oe45"
      },
      "source": [
        "frame2 = frame.reindex(['a', 'b', 'c', 'd'])"
      ],
      "execution_count": 93,
      "outputs": []
    },
    {
      "cell_type": "code",
      "metadata": {
        "colab": {
          "base_uri": "https://localhost:8080/",
          "height": 173
        },
        "id": "NsrIBQQ3oiuc",
        "outputId": "c67b55e9-c308-461d-c6e9-d08b5524cf74"
      },
      "source": [
        "frame2"
      ],
      "execution_count": 94,
      "outputs": [
        {
          "output_type": "execute_result",
          "data": {
            "text/html": [
              "<div>\n",
              "<style scoped>\n",
              "    .dataframe tbody tr th:only-of-type {\n",
              "        vertical-align: middle;\n",
              "    }\n",
              "\n",
              "    .dataframe tbody tr th {\n",
              "        vertical-align: top;\n",
              "    }\n",
              "\n",
              "    .dataframe thead th {\n",
              "        text-align: right;\n",
              "    }\n",
              "</style>\n",
              "<table border=\"1\" class=\"dataframe\">\n",
              "  <thead>\n",
              "    <tr style=\"text-align: right;\">\n",
              "      <th></th>\n",
              "      <th>Ohio</th>\n",
              "      <th>Texas</th>\n",
              "      <th>California</th>\n",
              "    </tr>\n",
              "  </thead>\n",
              "  <tbody>\n",
              "    <tr>\n",
              "      <th>a</th>\n",
              "      <td>0.0</td>\n",
              "      <td>1.0</td>\n",
              "      <td>2.0</td>\n",
              "    </tr>\n",
              "    <tr>\n",
              "      <th>b</th>\n",
              "      <td>NaN</td>\n",
              "      <td>NaN</td>\n",
              "      <td>NaN</td>\n",
              "    </tr>\n",
              "    <tr>\n",
              "      <th>c</th>\n",
              "      <td>3.0</td>\n",
              "      <td>4.0</td>\n",
              "      <td>5.0</td>\n",
              "    </tr>\n",
              "    <tr>\n",
              "      <th>d</th>\n",
              "      <td>6.0</td>\n",
              "      <td>7.0</td>\n",
              "      <td>8.0</td>\n",
              "    </tr>\n",
              "  </tbody>\n",
              "</table>\n",
              "</div>"
            ],
            "text/plain": [
              "   Ohio  Texas  California\n",
              "a   0.0    1.0         2.0\n",
              "b   NaN    NaN         NaN\n",
              "c   3.0    4.0         5.0\n",
              "d   6.0    7.0         8.0"
            ]
          },
          "metadata": {},
          "execution_count": 94
        }
      ]
    },
    {
      "cell_type": "markdown",
      "metadata": {
        "id": "UhN1PgRlommB"
      },
      "source": [
        "The columns can be reindexed with the columns keyword:"
      ]
    },
    {
      "cell_type": "code",
      "metadata": {
        "id": "OfWVrnKSoohn"
      },
      "source": [
        "states = ['Texas', 'Utah', 'California']"
      ],
      "execution_count": 95,
      "outputs": []
    },
    {
      "cell_type": "code",
      "metadata": {
        "colab": {
          "base_uri": "https://localhost:8080/",
          "height": 142
        },
        "id": "pEgCBq5Lorsv",
        "outputId": "5d536f6f-9da3-4a6e-afed-3d3ef2d87667"
      },
      "source": [
        "frame.reindex(columns=states)"
      ],
      "execution_count": 96,
      "outputs": [
        {
          "output_type": "execute_result",
          "data": {
            "text/html": [
              "<div>\n",
              "<style scoped>\n",
              "    .dataframe tbody tr th:only-of-type {\n",
              "        vertical-align: middle;\n",
              "    }\n",
              "\n",
              "    .dataframe tbody tr th {\n",
              "        vertical-align: top;\n",
              "    }\n",
              "\n",
              "    .dataframe thead th {\n",
              "        text-align: right;\n",
              "    }\n",
              "</style>\n",
              "<table border=\"1\" class=\"dataframe\">\n",
              "  <thead>\n",
              "    <tr style=\"text-align: right;\">\n",
              "      <th></th>\n",
              "      <th>Texas</th>\n",
              "      <th>Utah</th>\n",
              "      <th>California</th>\n",
              "    </tr>\n",
              "  </thead>\n",
              "  <tbody>\n",
              "    <tr>\n",
              "      <th>a</th>\n",
              "      <td>1</td>\n",
              "      <td>NaN</td>\n",
              "      <td>2</td>\n",
              "    </tr>\n",
              "    <tr>\n",
              "      <th>c</th>\n",
              "      <td>4</td>\n",
              "      <td>NaN</td>\n",
              "      <td>5</td>\n",
              "    </tr>\n",
              "    <tr>\n",
              "      <th>d</th>\n",
              "      <td>7</td>\n",
              "      <td>NaN</td>\n",
              "      <td>8</td>\n",
              "    </tr>\n",
              "  </tbody>\n",
              "</table>\n",
              "</div>"
            ],
            "text/plain": [
              "   Texas  Utah  California\n",
              "a      1   NaN           2\n",
              "c      4   NaN           5\n",
              "d      7   NaN           8"
            ]
          },
          "metadata": {},
          "execution_count": 96
        }
      ]
    },
    {
      "cell_type": "markdown",
      "metadata": {
        "id": "Df5WDci5o_WY"
      },
      "source": [
        "See Table 5-3 for more about the arguments to reindex."
      ]
    },
    {
      "cell_type": "markdown",
      "metadata": {
        "id": "HaJNDHm1pcdz"
      },
      "source": [
        "Table 5-3. reindex function arguments\n",
        "<p align='center'>\n",
        "<img src='data:image/png;base64,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'>\n",
        "</p>"
      ]
    },
    {
      "cell_type": "markdown",
      "metadata": {
        "id": "y2ztacwYpq_H"
      },
      "source": [
        "## Dropping Entries from an Axis"
      ]
    },
    {
      "cell_type": "markdown",
      "metadata": {
        "id": "C1djLU1PptPM"
      },
      "source": [
        "The drop method will return a new object with the indicated value or values deleted from an axis:"
      ]
    },
    {
      "cell_type": "code",
      "metadata": {
        "id": "sNkNrDXbp9Wc"
      },
      "source": [
        "obj = pd.Series(np.arange(5.), index=['a', 'b', 'c', 'd', 'e'])"
      ],
      "execution_count": 97,
      "outputs": []
    },
    {
      "cell_type": "code",
      "metadata": {
        "colab": {
          "base_uri": "https://localhost:8080/"
        },
        "id": "Ss3qtVr7qDeQ",
        "outputId": "df311b3f-b1ca-49a4-b917-2a959971565c"
      },
      "source": [
        "obj"
      ],
      "execution_count": 98,
      "outputs": [
        {
          "output_type": "execute_result",
          "data": {
            "text/plain": [
              "a    0.0\n",
              "b    1.0\n",
              "c    2.0\n",
              "d    3.0\n",
              "e    4.0\n",
              "dtype: float64"
            ]
          },
          "metadata": {},
          "execution_count": 98
        }
      ]
    },
    {
      "cell_type": "code",
      "metadata": {
        "id": "to959B-pqFkK"
      },
      "source": [
        "new_obj = obj.drop('c')"
      ],
      "execution_count": 99,
      "outputs": []
    },
    {
      "cell_type": "code",
      "metadata": {
        "colab": {
          "base_uri": "https://localhost:8080/"
        },
        "id": "bJeArFtPqIIA",
        "outputId": "31f387fb-5280-48e0-8d77-53da3cca7de1"
      },
      "source": [
        "new_obj"
      ],
      "execution_count": 100,
      "outputs": [
        {
          "output_type": "execute_result",
          "data": {
            "text/plain": [
              "a    0.0\n",
              "b    1.0\n",
              "d    3.0\n",
              "e    4.0\n",
              "dtype: float64"
            ]
          },
          "metadata": {},
          "execution_count": 100
        }
      ]
    },
    {
      "cell_type": "code",
      "metadata": {
        "colab": {
          "base_uri": "https://localhost:8080/"
        },
        "id": "ORBsEdPJqNX9",
        "outputId": "72818231-eb61-4492-a5cd-8ddcc2203c95"
      },
      "source": [
        "obj.drop(['d', 'c'])"
      ],
      "execution_count": 101,
      "outputs": [
        {
          "output_type": "execute_result",
          "data": {
            "text/plain": [
              "a    0.0\n",
              "b    1.0\n",
              "e    4.0\n",
              "dtype: float64"
            ]
          },
          "metadata": {},
          "execution_count": 101
        }
      ]
    },
    {
      "cell_type": "markdown",
      "metadata": {
        "id": "2-Ldqh0GqQcI"
      },
      "source": [
        "With DataFrame, index values can be deleted from either axis. To illustrate this, we first create an example DataFrame:"
      ]
    },
    {
      "cell_type": "code",
      "metadata": {
        "id": "xRcRAaLJqURY"
      },
      "source": [
        "data = pd.DataFrame(np.arange(16).reshape(4, 4),\n",
        "                    index=['Ohio', 'Colorado', 'Utah', 'New York',],\n",
        "                    columns=['one', 'two', 'three', 'four'])"
      ],
      "execution_count": 102,
      "outputs": []
    },
    {
      "cell_type": "code",
      "metadata": {
        "colab": {
          "base_uri": "https://localhost:8080/",
          "height": 173
        },
        "id": "NN8rYq47qlcQ",
        "outputId": "9a43c179-0d05-4a45-f3e2-501e3e424afb"
      },
      "source": [
        "data"
      ],
      "execution_count": 103,
      "outputs": [
        {
          "output_type": "execute_result",
          "data": {
            "text/html": [
              "<div>\n",
              "<style scoped>\n",
              "    .dataframe tbody tr th:only-of-type {\n",
              "        vertical-align: middle;\n",
              "    }\n",
              "\n",
              "    .dataframe tbody tr th {\n",
              "        vertical-align: top;\n",
              "    }\n",
              "\n",
              "    .dataframe thead th {\n",
              "        text-align: right;\n",
              "    }\n",
              "</style>\n",
              "<table border=\"1\" class=\"dataframe\">\n",
              "  <thead>\n",
              "    <tr style=\"text-align: right;\">\n",
              "      <th></th>\n",
              "      <th>one</th>\n",
              "      <th>two</th>\n",
              "      <th>three</th>\n",
              "      <th>four</th>\n",
              "    </tr>\n",
              "  </thead>\n",
              "  <tbody>\n",
              "    <tr>\n",
              "      <th>Ohio</th>\n",
              "      <td>0</td>\n",
              "      <td>1</td>\n",
              "      <td>2</td>\n",
              "      <td>3</td>\n",
              "    </tr>\n",
              "    <tr>\n",
              "      <th>Colorado</th>\n",
              "      <td>4</td>\n",
              "      <td>5</td>\n",
              "      <td>6</td>\n",
              "      <td>7</td>\n",
              "    </tr>\n",
              "    <tr>\n",
              "      <th>Utah</th>\n",
              "      <td>8</td>\n",
              "      <td>9</td>\n",
              "      <td>10</td>\n",
              "      <td>11</td>\n",
              "    </tr>\n",
              "    <tr>\n",
              "      <th>New York</th>\n",
              "      <td>12</td>\n",
              "      <td>13</td>\n",
              "      <td>14</td>\n",
              "      <td>15</td>\n",
              "    </tr>\n",
              "  </tbody>\n",
              "</table>\n",
              "</div>"
            ],
            "text/plain": [
              "          one  two  three  four\n",
              "Ohio        0    1      2     3\n",
              "Colorado    4    5      6     7\n",
              "Utah        8    9     10    11\n",
              "New York   12   13     14    15"
            ]
          },
          "metadata": {},
          "execution_count": 103
        }
      ]
    },
    {
      "cell_type": "markdown",
      "metadata": {
        "id": "7TY6dhPxqpTP"
      },
      "source": [
        "Calling drop with a sequence of labels will drop values from the row labels (axis 0):"
      ]
    },
    {
      "cell_type": "code",
      "metadata": {
        "colab": {
          "base_uri": "https://localhost:8080/",
          "height": 111
        },
        "id": "rG6UISaIqs_o",
        "outputId": "61b252fd-d692-48d0-d9b0-36b3f82dbfcb"
      },
      "source": [
        "data.drop(['Colorado', 'Ohio'])"
      ],
      "execution_count": 104,
      "outputs": [
        {
          "output_type": "execute_result",
          "data": {
            "text/html": [
              "<div>\n",
              "<style scoped>\n",
              "    .dataframe tbody tr th:only-of-type {\n",
              "        vertical-align: middle;\n",
              "    }\n",
              "\n",
              "    .dataframe tbody tr th {\n",
              "        vertical-align: top;\n",
              "    }\n",
              "\n",
              "    .dataframe thead th {\n",
              "        text-align: right;\n",
              "    }\n",
              "</style>\n",
              "<table border=\"1\" class=\"dataframe\">\n",
              "  <thead>\n",
              "    <tr style=\"text-align: right;\">\n",
              "      <th></th>\n",
              "      <th>one</th>\n",
              "      <th>two</th>\n",
              "      <th>three</th>\n",
              "      <th>four</th>\n",
              "    </tr>\n",
              "  </thead>\n",
              "  <tbody>\n",
              "    <tr>\n",
              "      <th>Utah</th>\n",
              "      <td>8</td>\n",
              "      <td>9</td>\n",
              "      <td>10</td>\n",
              "      <td>11</td>\n",
              "    </tr>\n",
              "    <tr>\n",
              "      <th>New York</th>\n",
              "      <td>12</td>\n",
              "      <td>13</td>\n",
              "      <td>14</td>\n",
              "      <td>15</td>\n",
              "    </tr>\n",
              "  </tbody>\n",
              "</table>\n",
              "</div>"
            ],
            "text/plain": [
              "          one  two  three  four\n",
              "Utah        8    9     10    11\n",
              "New York   12   13     14    15"
            ]
          },
          "metadata": {},
          "execution_count": 104
        }
      ]
    },
    {
      "cell_type": "markdown",
      "metadata": {
        "id": "_eWwTq7lqzba"
      },
      "source": [
        "You can drop values from the columns by passing axis=1 or axis= 'columns':"
      ]
    },
    {
      "cell_type": "code",
      "metadata": {
        "colab": {
          "base_uri": "https://localhost:8080/",
          "height": 173
        },
        "id": "S93EEJMNq3tE",
        "outputId": "ffa0d6c0-0f11-4b24-b7a5-fe3d75561884"
      },
      "source": [
        "data.drop('two', axis=1)"
      ],
      "execution_count": 105,
      "outputs": [
        {
          "output_type": "execute_result",
          "data": {
            "text/html": [
              "<div>\n",
              "<style scoped>\n",
              "    .dataframe tbody tr th:only-of-type {\n",
              "        vertical-align: middle;\n",
              "    }\n",
              "\n",
              "    .dataframe tbody tr th {\n",
              "        vertical-align: top;\n",
              "    }\n",
              "\n",
              "    .dataframe thead th {\n",
              "        text-align: right;\n",
              "    }\n",
              "</style>\n",
              "<table border=\"1\" class=\"dataframe\">\n",
              "  <thead>\n",
              "    <tr style=\"text-align: right;\">\n",
              "      <th></th>\n",
              "      <th>one</th>\n",
              "      <th>three</th>\n",
              "      <th>four</th>\n",
              "    </tr>\n",
              "  </thead>\n",
              "  <tbody>\n",
              "    <tr>\n",
              "      <th>Ohio</th>\n",
              "      <td>0</td>\n",
              "      <td>2</td>\n",
              "      <td>3</td>\n",
              "    </tr>\n",
              "    <tr>\n",
              "      <th>Colorado</th>\n",
              "      <td>4</td>\n",
              "      <td>6</td>\n",
              "      <td>7</td>\n",
              "    </tr>\n",
              "    <tr>\n",
              "      <th>Utah</th>\n",
              "      <td>8</td>\n",
              "      <td>10</td>\n",
              "      <td>11</td>\n",
              "    </tr>\n",
              "    <tr>\n",
              "      <th>New York</th>\n",
              "      <td>12</td>\n",
              "      <td>14</td>\n",
              "      <td>15</td>\n",
              "    </tr>\n",
              "  </tbody>\n",
              "</table>\n",
              "</div>"
            ],
            "text/plain": [
              "          one  three  four\n",
              "Ohio        0      2     3\n",
              "Colorado    4      6     7\n",
              "Utah        8     10    11\n",
              "New York   12     14    15"
            ]
          },
          "metadata": {},
          "execution_count": 105
        }
      ]
    },
    {
      "cell_type": "code",
      "metadata": {
        "colab": {
          "base_uri": "https://localhost:8080/",
          "height": 173
        },
        "id": "qox6U70Xq9IK",
        "outputId": "e4056e36-9d99-4a5c-c3a4-dd7e72288b94"
      },
      "source": [
        "data.drop(['two', 'four'], axis='columns')"
      ],
      "execution_count": 106,
      "outputs": [
        {
          "output_type": "execute_result",
          "data": {
            "text/html": [
              "<div>\n",
              "<style scoped>\n",
              "    .dataframe tbody tr th:only-of-type {\n",
              "        vertical-align: middle;\n",
              "    }\n",
              "\n",
              "    .dataframe tbody tr th {\n",
              "        vertical-align: top;\n",
              "    }\n",
              "\n",
              "    .dataframe thead th {\n",
              "        text-align: right;\n",
              "    }\n",
              "</style>\n",
              "<table border=\"1\" class=\"dataframe\">\n",
              "  <thead>\n",
              "    <tr style=\"text-align: right;\">\n",
              "      <th></th>\n",
              "      <th>one</th>\n",
              "      <th>three</th>\n",
              "    </tr>\n",
              "  </thead>\n",
              "  <tbody>\n",
              "    <tr>\n",
              "      <th>Ohio</th>\n",
              "      <td>0</td>\n",
              "      <td>2</td>\n",
              "    </tr>\n",
              "    <tr>\n",
              "      <th>Colorado</th>\n",
              "      <td>4</td>\n",
              "      <td>6</td>\n",
              "    </tr>\n",
              "    <tr>\n",
              "      <th>Utah</th>\n",
              "      <td>8</td>\n",
              "      <td>10</td>\n",
              "    </tr>\n",
              "    <tr>\n",
              "      <th>New York</th>\n",
              "      <td>12</td>\n",
              "      <td>14</td>\n",
              "    </tr>\n",
              "  </tbody>\n",
              "</table>\n",
              "</div>"
            ],
            "text/plain": [
              "          one  three\n",
              "Ohio        0      2\n",
              "Colorado    4      6\n",
              "Utah        8     10\n",
              "New York   12     14"
            ]
          },
          "metadata": {},
          "execution_count": 106
        }
      ]
    },
    {
      "cell_type": "markdown",
      "metadata": {
        "id": "aor5l_Z8rM45"
      },
      "source": [
        "Many functions, like drop, which modify the size or shape of a Series or DataFrame, **can manipulate an object in-place without returning a new object**:\n",
        "\n",
        "Be careful with the inplace, as it destroys any data that is dropped"
      ]
    },
    {
      "cell_type": "code",
      "metadata": {
        "id": "DUOQk5lgzxdy"
      },
      "source": [
        "obj.drop('c', inplace=True)"
      ],
      "execution_count": 107,
      "outputs": []
    },
    {
      "cell_type": "code",
      "metadata": {
        "colab": {
          "base_uri": "https://localhost:8080/"
        },
        "id": "BITzQx97zzy9",
        "outputId": "d698117e-f446-403b-f92e-b586549b13bb"
      },
      "source": [
        "obj"
      ],
      "execution_count": 108,
      "outputs": [
        {
          "output_type": "execute_result",
          "data": {
            "text/plain": [
              "a    0.0\n",
              "b    1.0\n",
              "d    3.0\n",
              "e    4.0\n",
              "dtype: float64"
            ]
          },
          "metadata": {},
          "execution_count": 108
        }
      ]
    },
    {
      "cell_type": "markdown",
      "metadata": {
        "id": "gn_l9Y0-z12I"
      },
      "source": [
        "## Indexing, Selection, and Filtering"
      ]
    },
    {
      "cell_type": "markdown",
      "metadata": {
        "id": "L_DOSrqs0ADT"
      },
      "source": [
        "Series indexing (obj[...]) works analogously to NumPy array indexing, except **you can use the Series’s index values instead of only integers:**\n",
        "\n"
      ]
    },
    {
      "cell_type": "code",
      "metadata": {
        "id": "K7mZ7uQF0Ppc"
      },
      "source": [
        "obj = pd.Series(np.arange(4.), index=['a', 'b', 'c', 'd'])"
      ],
      "execution_count": 109,
      "outputs": []
    },
    {
      "cell_type": "code",
      "metadata": {
        "colab": {
          "base_uri": "https://localhost:8080/"
        },
        "id": "slLBNA3m0UWv",
        "outputId": "54747500-610a-4b15-fb56-6fa7f9b77119"
      },
      "source": [
        "obj"
      ],
      "execution_count": 110,
      "outputs": [
        {
          "output_type": "execute_result",
          "data": {
            "text/plain": [
              "a    0.0\n",
              "b    1.0\n",
              "c    2.0\n",
              "d    3.0\n",
              "dtype: float64"
            ]
          },
          "metadata": {},
          "execution_count": 110
        }
      ]
    },
    {
      "cell_type": "code",
      "metadata": {
        "colab": {
          "base_uri": "https://localhost:8080/"
        },
        "id": "ITft4LST0V_w",
        "outputId": "639d9bbc-250e-4aab-d832-93cfdd61c744"
      },
      "source": [
        "obj['b']"
      ],
      "execution_count": 111,
      "outputs": [
        {
          "output_type": "execute_result",
          "data": {
            "text/plain": [
              "1.0"
            ]
          },
          "metadata": {},
          "execution_count": 111
        }
      ]
    },
    {
      "cell_type": "code",
      "metadata": {
        "colab": {
          "base_uri": "https://localhost:8080/"
        },
        "id": "Y4-Dv9RC0Xo8",
        "outputId": "1017ed53-6c07-46aa-f946-a6a9790d6bb0"
      },
      "source": [
        "obj[1]"
      ],
      "execution_count": 112,
      "outputs": [
        {
          "output_type": "execute_result",
          "data": {
            "text/plain": [
              "1.0"
            ]
          },
          "metadata": {},
          "execution_count": 112
        }
      ]
    },
    {
      "cell_type": "code",
      "metadata": {
        "colab": {
          "base_uri": "https://localhost:8080/"
        },
        "id": "3WGugz_f0ZJq",
        "outputId": "3df485ba-27d9-49b9-a784-15477f87c1a7"
      },
      "source": [
        "obj[2:4]"
      ],
      "execution_count": 113,
      "outputs": [
        {
          "output_type": "execute_result",
          "data": {
            "text/plain": [
              "c    2.0\n",
              "d    3.0\n",
              "dtype: float64"
            ]
          },
          "metadata": {},
          "execution_count": 113
        }
      ]
    },
    {
      "cell_type": "code",
      "metadata": {
        "colab": {
          "base_uri": "https://localhost:8080/"
        },
        "id": "ygmFT8Mn0jsC",
        "outputId": "b7ee6181-a093-4ec5-d570-6c51982c4704"
      },
      "source": [
        "obj[['b', 'a', 'd']]"
      ],
      "execution_count": 114,
      "outputs": [
        {
          "output_type": "execute_result",
          "data": {
            "text/plain": [
              "b    1.0\n",
              "a    0.0\n",
              "d    3.0\n",
              "dtype: float64"
            ]
          },
          "metadata": {},
          "execution_count": 114
        }
      ]
    },
    {
      "cell_type": "code",
      "metadata": {
        "colab": {
          "base_uri": "https://localhost:8080/"
        },
        "id": "pvVng82y0oA4",
        "outputId": "b4fe3d4a-f920-47c8-9751-1ba3d30b76ff"
      },
      "source": [
        "obj[[1, 3]]"
      ],
      "execution_count": 115,
      "outputs": [
        {
          "output_type": "execute_result",
          "data": {
            "text/plain": [
              "b    1.0\n",
              "d    3.0\n",
              "dtype: float64"
            ]
          },
          "metadata": {},
          "execution_count": 115
        }
      ]
    },
    {
      "cell_type": "code",
      "metadata": {
        "colab": {
          "base_uri": "https://localhost:8080/"
        },
        "id": "Xb0rQJwt0rHL",
        "outputId": "2664f763-b8e4-4d80-e289-1fb26797662b"
      },
      "source": [
        "obj[obj < 2]"
      ],
      "execution_count": 116,
      "outputs": [
        {
          "output_type": "execute_result",
          "data": {
            "text/plain": [
              "a    0.0\n",
              "b    1.0\n",
              "dtype: float64"
            ]
          },
          "metadata": {},
          "execution_count": 116
        }
      ]
    },
    {
      "cell_type": "markdown",
      "metadata": {
        "id": "uY7kl5kd0tb2"
      },
      "source": [
        "Slicing with labels behaves differently than normal Python slicing in that **the end point is inclusive:**"
      ]
    },
    {
      "cell_type": "code",
      "metadata": {
        "colab": {
          "base_uri": "https://localhost:8080/"
        },
        "id": "xww29qGb0zpv",
        "outputId": "5d34f936-60e9-459b-8508-7f44bdffaead"
      },
      "source": [
        "obj['b':'c']"
      ],
      "execution_count": 117,
      "outputs": [
        {
          "output_type": "execute_result",
          "data": {
            "text/plain": [
              "b    1.0\n",
              "c    2.0\n",
              "dtype: float64"
            ]
          },
          "metadata": {},
          "execution_count": 117
        }
      ]
    },
    {
      "cell_type": "markdown",
      "metadata": {
        "id": "u-eIZtX805zy"
      },
      "source": [
        "Setting using these methods modifies the corresponding section of the Series:"
      ]
    },
    {
      "cell_type": "code",
      "metadata": {
        "id": "j-_pM2k308Um"
      },
      "source": [
        "obj['b':'c'] = 5"
      ],
      "execution_count": 118,
      "outputs": []
    },
    {
      "cell_type": "code",
      "metadata": {
        "colab": {
          "base_uri": "https://localhost:8080/"
        },
        "id": "DrttFWfT0-Nw",
        "outputId": "62007100-482a-40f8-d329-932937d925f2"
      },
      "source": [
        "obj"
      ],
      "execution_count": 119,
      "outputs": [
        {
          "output_type": "execute_result",
          "data": {
            "text/plain": [
              "a    0.0\n",
              "b    5.0\n",
              "c    5.0\n",
              "d    3.0\n",
              "dtype: float64"
            ]
          },
          "metadata": {},
          "execution_count": 119
        }
      ]
    },
    {
      "cell_type": "markdown",
      "metadata": {
        "id": "3kMM8fuX1BGz"
      },
      "source": [
        "Indexing into a DataFrame is for retrieving one or more columns either with a single value or sequence:"
      ]
    },
    {
      "cell_type": "code",
      "metadata": {
        "id": "HFTHwnOdOmOW"
      },
      "source": [
        "data = pd.DataFrame(np.arange(16).reshape(4, 4),\n",
        "                    index=['Ohio', 'Colorado', 'Utah', 'New York'],\n",
        "                    columns=['one', 'two', 'three', 'four'])"
      ],
      "execution_count": 120,
      "outputs": []
    },
    {
      "cell_type": "code",
      "metadata": {
        "colab": {
          "base_uri": "https://localhost:8080/",
          "height": 173
        },
        "id": "ErN8EGLMOy79",
        "outputId": "aebc0270-2ce7-42fe-f8eb-0de64d8eb343"
      },
      "source": [
        "data"
      ],
      "execution_count": 121,
      "outputs": [
        {
          "output_type": "execute_result",
          "data": {
            "text/html": [
              "<div>\n",
              "<style scoped>\n",
              "    .dataframe tbody tr th:only-of-type {\n",
              "        vertical-align: middle;\n",
              "    }\n",
              "\n",
              "    .dataframe tbody tr th {\n",
              "        vertical-align: top;\n",
              "    }\n",
              "\n",
              "    .dataframe thead th {\n",
              "        text-align: right;\n",
              "    }\n",
              "</style>\n",
              "<table border=\"1\" class=\"dataframe\">\n",
              "  <thead>\n",
              "    <tr style=\"text-align: right;\">\n",
              "      <th></th>\n",
              "      <th>one</th>\n",
              "      <th>two</th>\n",
              "      <th>three</th>\n",
              "      <th>four</th>\n",
              "    </tr>\n",
              "  </thead>\n",
              "  <tbody>\n",
              "    <tr>\n",
              "      <th>Ohio</th>\n",
              "      <td>0</td>\n",
              "      <td>1</td>\n",
              "      <td>2</td>\n",
              "      <td>3</td>\n",
              "    </tr>\n",
              "    <tr>\n",
              "      <th>Colorado</th>\n",
              "      <td>4</td>\n",
              "      <td>5</td>\n",
              "      <td>6</td>\n",
              "      <td>7</td>\n",
              "    </tr>\n",
              "    <tr>\n",
              "      <th>Utah</th>\n",
              "      <td>8</td>\n",
              "      <td>9</td>\n",
              "      <td>10</td>\n",
              "      <td>11</td>\n",
              "    </tr>\n",
              "    <tr>\n",
              "      <th>New York</th>\n",
              "      <td>12</td>\n",
              "      <td>13</td>\n",
              "      <td>14</td>\n",
              "      <td>15</td>\n",
              "    </tr>\n",
              "  </tbody>\n",
              "</table>\n",
              "</div>"
            ],
            "text/plain": [
              "          one  two  three  four\n",
              "Ohio        0    1      2     3\n",
              "Colorado    4    5      6     7\n",
              "Utah        8    9     10    11\n",
              "New York   12   13     14    15"
            ]
          },
          "metadata": {},
          "execution_count": 121
        }
      ]
    },
    {
      "cell_type": "code",
      "metadata": {
        "colab": {
          "base_uri": "https://localhost:8080/"
        },
        "id": "ZWVjYojtPEbH",
        "outputId": "ecd46318-1ca3-42c3-dcfc-b505dbb0fc25"
      },
      "source": [
        "data['two']"
      ],
      "execution_count": 122,
      "outputs": [
        {
          "output_type": "execute_result",
          "data": {
            "text/plain": [
              "Ohio         1\n",
              "Colorado     5\n",
              "Utah         9\n",
              "New York    13\n",
              "Name: two, dtype: int64"
            ]
          },
          "metadata": {},
          "execution_count": 122
        }
      ]
    },
    {
      "cell_type": "code",
      "metadata": {
        "colab": {
          "base_uri": "https://localhost:8080/",
          "height": 173
        },
        "id": "q0o7Pb1OPF8S",
        "outputId": "15ac8166-e6d3-4287-ef53-ed4e472c3ac7"
      },
      "source": [
        "data[['three', 'one']]"
      ],
      "execution_count": 123,
      "outputs": [
        {
          "output_type": "execute_result",
          "data": {
            "text/html": [
              "<div>\n",
              "<style scoped>\n",
              "    .dataframe tbody tr th:only-of-type {\n",
              "        vertical-align: middle;\n",
              "    }\n",
              "\n",
              "    .dataframe tbody tr th {\n",
              "        vertical-align: top;\n",
              "    }\n",
              "\n",
              "    .dataframe thead th {\n",
              "        text-align: right;\n",
              "    }\n",
              "</style>\n",
              "<table border=\"1\" class=\"dataframe\">\n",
              "  <thead>\n",
              "    <tr style=\"text-align: right;\">\n",
              "      <th></th>\n",
              "      <th>three</th>\n",
              "      <th>one</th>\n",
              "    </tr>\n",
              "  </thead>\n",
              "  <tbody>\n",
              "    <tr>\n",
              "      <th>Ohio</th>\n",
              "      <td>2</td>\n",
              "      <td>0</td>\n",
              "    </tr>\n",
              "    <tr>\n",
              "      <th>Colorado</th>\n",
              "      <td>6</td>\n",
              "      <td>4</td>\n",
              "    </tr>\n",
              "    <tr>\n",
              "      <th>Utah</th>\n",
              "      <td>10</td>\n",
              "      <td>8</td>\n",
              "    </tr>\n",
              "    <tr>\n",
              "      <th>New York</th>\n",
              "      <td>14</td>\n",
              "      <td>12</td>\n",
              "    </tr>\n",
              "  </tbody>\n",
              "</table>\n",
              "</div>"
            ],
            "text/plain": [
              "          three  one\n",
              "Ohio          2    0\n",
              "Colorado      6    4\n",
              "Utah         10    8\n",
              "New York     14   12"
            ]
          },
          "metadata": {},
          "execution_count": 123
        }
      ]
    },
    {
      "cell_type": "markdown",
      "metadata": {
        "id": "hVhm5FF9PMJt"
      },
      "source": [
        "Indexing like this has a few special cases. First, slicing or selecting data with a boolean array:"
      ]
    },
    {
      "cell_type": "code",
      "metadata": {
        "colab": {
          "base_uri": "https://localhost:8080/",
          "height": 111
        },
        "id": "imGrAuRQPQ6f",
        "outputId": "7687cc13-ab3c-428b-f6ef-cad592deb201"
      },
      "source": [
        "data[:2]"
      ],
      "execution_count": 124,
      "outputs": [
        {
          "output_type": "execute_result",
          "data": {
            "text/html": [
              "<div>\n",
              "<style scoped>\n",
              "    .dataframe tbody tr th:only-of-type {\n",
              "        vertical-align: middle;\n",
              "    }\n",
              "\n",
              "    .dataframe tbody tr th {\n",
              "        vertical-align: top;\n",
              "    }\n",
              "\n",
              "    .dataframe thead th {\n",
              "        text-align: right;\n",
              "    }\n",
              "</style>\n",
              "<table border=\"1\" class=\"dataframe\">\n",
              "  <thead>\n",
              "    <tr style=\"text-align: right;\">\n",
              "      <th></th>\n",
              "      <th>one</th>\n",
              "      <th>two</th>\n",
              "      <th>three</th>\n",
              "      <th>four</th>\n",
              "    </tr>\n",
              "  </thead>\n",
              "  <tbody>\n",
              "    <tr>\n",
              "      <th>Ohio</th>\n",
              "      <td>0</td>\n",
              "      <td>1</td>\n",
              "      <td>2</td>\n",
              "      <td>3</td>\n",
              "    </tr>\n",
              "    <tr>\n",
              "      <th>Colorado</th>\n",
              "      <td>4</td>\n",
              "      <td>5</td>\n",
              "      <td>6</td>\n",
              "      <td>7</td>\n",
              "    </tr>\n",
              "  </tbody>\n",
              "</table>\n",
              "</div>"
            ],
            "text/plain": [
              "          one  two  three  four\n",
              "Ohio        0    1      2     3\n",
              "Colorado    4    5      6     7"
            ]
          },
          "metadata": {},
          "execution_count": 124
        }
      ]
    },
    {
      "cell_type": "code",
      "metadata": {
        "colab": {
          "base_uri": "https://localhost:8080/",
          "height": 142
        },
        "id": "pBdkuXJVPSg1",
        "outputId": "0991f2a7-4926-4947-de4a-92e847b5f528"
      },
      "source": [
        "data[data['three'] > 5]"
      ],
      "execution_count": 125,
      "outputs": [
        {
          "output_type": "execute_result",
          "data": {
            "text/html": [
              "<div>\n",
              "<style scoped>\n",
              "    .dataframe tbody tr th:only-of-type {\n",
              "        vertical-align: middle;\n",
              "    }\n",
              "\n",
              "    .dataframe tbody tr th {\n",
              "        vertical-align: top;\n",
              "    }\n",
              "\n",
              "    .dataframe thead th {\n",
              "        text-align: right;\n",
              "    }\n",
              "</style>\n",
              "<table border=\"1\" class=\"dataframe\">\n",
              "  <thead>\n",
              "    <tr style=\"text-align: right;\">\n",
              "      <th></th>\n",
              "      <th>one</th>\n",
              "      <th>two</th>\n",
              "      <th>three</th>\n",
              "      <th>four</th>\n",
              "    </tr>\n",
              "  </thead>\n",
              "  <tbody>\n",
              "    <tr>\n",
              "      <th>Colorado</th>\n",
              "      <td>4</td>\n",
              "      <td>5</td>\n",
              "      <td>6</td>\n",
              "      <td>7</td>\n",
              "    </tr>\n",
              "    <tr>\n",
              "      <th>Utah</th>\n",
              "      <td>8</td>\n",
              "      <td>9</td>\n",
              "      <td>10</td>\n",
              "      <td>11</td>\n",
              "    </tr>\n",
              "    <tr>\n",
              "      <th>New York</th>\n",
              "      <td>12</td>\n",
              "      <td>13</td>\n",
              "      <td>14</td>\n",
              "      <td>15</td>\n",
              "    </tr>\n",
              "  </tbody>\n",
              "</table>\n",
              "</div>"
            ],
            "text/plain": [
              "          one  two  three  four\n",
              "Colorado    4    5      6     7\n",
              "Utah        8    9     10    11\n",
              "New York   12   13     14    15"
            ]
          },
          "metadata": {},
          "execution_count": 125
        }
      ]
    },
    {
      "cell_type": "markdown",
      "metadata": {
        "id": "WNkgvWw3PcNJ"
      },
      "source": [
        "Another use case is in indexing with a boolean DataFrame, such as one produced by a scalar comparison:"
      ]
    },
    {
      "cell_type": "code",
      "metadata": {
        "colab": {
          "base_uri": "https://localhost:8080/",
          "height": 173
        },
        "id": "WkvuFgesPoh3",
        "outputId": "aa97c259-8e24-4ce1-a139-5f8f0340b8fd"
      },
      "source": [
        "data < 5"
      ],
      "execution_count": 126,
      "outputs": [
        {
          "output_type": "execute_result",
          "data": {
            "text/html": [
              "<div>\n",
              "<style scoped>\n",
              "    .dataframe tbody tr th:only-of-type {\n",
              "        vertical-align: middle;\n",
              "    }\n",
              "\n",
              "    .dataframe tbody tr th {\n",
              "        vertical-align: top;\n",
              "    }\n",
              "\n",
              "    .dataframe thead th {\n",
              "        text-align: right;\n",
              "    }\n",
              "</style>\n",
              "<table border=\"1\" class=\"dataframe\">\n",
              "  <thead>\n",
              "    <tr style=\"text-align: right;\">\n",
              "      <th></th>\n",
              "      <th>one</th>\n",
              "      <th>two</th>\n",
              "      <th>three</th>\n",
              "      <th>four</th>\n",
              "    </tr>\n",
              "  </thead>\n",
              "  <tbody>\n",
              "    <tr>\n",
              "      <th>Ohio</th>\n",
              "      <td>True</td>\n",
              "      <td>True</td>\n",
              "      <td>True</td>\n",
              "      <td>True</td>\n",
              "    </tr>\n",
              "    <tr>\n",
              "      <th>Colorado</th>\n",
              "      <td>True</td>\n",
              "      <td>False</td>\n",
              "      <td>False</td>\n",
              "      <td>False</td>\n",
              "    </tr>\n",
              "    <tr>\n",
              "      <th>Utah</th>\n",
              "      <td>False</td>\n",
              "      <td>False</td>\n",
              "      <td>False</td>\n",
              "      <td>False</td>\n",
              "    </tr>\n",
              "    <tr>\n",
              "      <th>New York</th>\n",
              "      <td>False</td>\n",
              "      <td>False</td>\n",
              "      <td>False</td>\n",
              "      <td>False</td>\n",
              "    </tr>\n",
              "  </tbody>\n",
              "</table>\n",
              "</div>"
            ],
            "text/plain": [
              "            one    two  three   four\n",
              "Ohio       True   True   True   True\n",
              "Colorado   True  False  False  False\n",
              "Utah      False  False  False  False\n",
              "New York  False  False  False  False"
            ]
          },
          "metadata": {},
          "execution_count": 126
        }
      ]
    },
    {
      "cell_type": "code",
      "metadata": {
        "id": "CkK7kkgcPuuC"
      },
      "source": [
        "data[data < 5] = 0"
      ],
      "execution_count": 127,
      "outputs": []
    },
    {
      "cell_type": "code",
      "metadata": {
        "colab": {
          "base_uri": "https://localhost:8080/",
          "height": 173
        },
        "id": "RZwncRSzP0XO",
        "outputId": "7b691c5a-4825-4307-86a5-84b493f91b44"
      },
      "source": [
        "data"
      ],
      "execution_count": 128,
      "outputs": [
        {
          "output_type": "execute_result",
          "data": {
            "text/html": [
              "<div>\n",
              "<style scoped>\n",
              "    .dataframe tbody tr th:only-of-type {\n",
              "        vertical-align: middle;\n",
              "    }\n",
              "\n",
              "    .dataframe tbody tr th {\n",
              "        vertical-align: top;\n",
              "    }\n",
              "\n",
              "    .dataframe thead th {\n",
              "        text-align: right;\n",
              "    }\n",
              "</style>\n",
              "<table border=\"1\" class=\"dataframe\">\n",
              "  <thead>\n",
              "    <tr style=\"text-align: right;\">\n",
              "      <th></th>\n",
              "      <th>one</th>\n",
              "      <th>two</th>\n",
              "      <th>three</th>\n",
              "      <th>four</th>\n",
              "    </tr>\n",
              "  </thead>\n",
              "  <tbody>\n",
              "    <tr>\n",
              "      <th>Ohio</th>\n",
              "      <td>0</td>\n",
              "      <td>0</td>\n",
              "      <td>0</td>\n",
              "      <td>0</td>\n",
              "    </tr>\n",
              "    <tr>\n",
              "      <th>Colorado</th>\n",
              "      <td>0</td>\n",
              "      <td>5</td>\n",
              "      <td>6</td>\n",
              "      <td>7</td>\n",
              "    </tr>\n",
              "    <tr>\n",
              "      <th>Utah</th>\n",
              "      <td>8</td>\n",
              "      <td>9</td>\n",
              "      <td>10</td>\n",
              "      <td>11</td>\n",
              "    </tr>\n",
              "    <tr>\n",
              "      <th>New York</th>\n",
              "      <td>12</td>\n",
              "      <td>13</td>\n",
              "      <td>14</td>\n",
              "      <td>15</td>\n",
              "    </tr>\n",
              "  </tbody>\n",
              "</table>\n",
              "</div>"
            ],
            "text/plain": [
              "          one  two  three  four\n",
              "Ohio        0    0      0     0\n",
              "Colorado    0    5      6     7\n",
              "Utah        8    9     10    11\n",
              "New York   12   13     14    15"
            ]
          },
          "metadata": {},
          "execution_count": 128
        }
      ]
    },
    {
      "cell_type": "markdown",
      "metadata": {
        "id": "-qQdv7fMP16p"
      },
      "source": [
        "This makes DataFrame syntactically more like a two-dimensional NumPy array in this particular case"
      ]
    },
    {
      "cell_type": "markdown",
      "metadata": {
        "id": "wTKbwbZGP5sH"
      },
      "source": [
        "### Selection with loc and iloc"
      ]
    },
    {
      "cell_type": "markdown",
      "metadata": {
        "id": "exEhgElGQDVE"
      },
      "source": [
        "For DataFrame label-indexing on the rows, I introduce the special indexing operators loc and iloc\n",
        "\n",
        "They enable you to **select a subset of the rows and columns from a DataFrame with NumPy-like notation** using either **axis labels (loc)** or **integers (iloc)**"
      ]
    },
    {
      "cell_type": "code",
      "metadata": {
        "colab": {
          "base_uri": "https://localhost:8080/"
        },
        "id": "pGBc-cjnP3mM",
        "outputId": "feae69f1-b49c-4ccb-aeae-f96e6c2510a0"
      },
      "source": [
        "data.loc['Colorado', ['two', 'three']]"
      ],
      "execution_count": 129,
      "outputs": [
        {
          "output_type": "execute_result",
          "data": {
            "text/plain": [
              "two      5\n",
              "three    6\n",
              "Name: Colorado, dtype: int64"
            ]
          },
          "metadata": {},
          "execution_count": 129
        }
      ]
    },
    {
      "cell_type": "markdown",
      "metadata": {
        "id": "sal87xKpQZHs"
      },
      "source": [
        "We’ll then perform some similar selections with integers using iloc:"
      ]
    },
    {
      "cell_type": "code",
      "metadata": {
        "colab": {
          "base_uri": "https://localhost:8080/"
        },
        "id": "7Ueig05UQa1U",
        "outputId": "6840d1ea-275d-44e5-e5f4-7b62e8191b1e"
      },
      "source": [
        "data.iloc[2, [3, 0, 1]]"
      ],
      "execution_count": 130,
      "outputs": [
        {
          "output_type": "execute_result",
          "data": {
            "text/plain": [
              "four    11\n",
              "one      8\n",
              "two      9\n",
              "Name: Utah, dtype: int64"
            ]
          },
          "metadata": {},
          "execution_count": 130
        }
      ]
    },
    {
      "cell_type": "code",
      "metadata": {
        "colab": {
          "base_uri": "https://localhost:8080/"
        },
        "id": "zMY2wY2bQeiM",
        "outputId": "2127093f-2f6d-4c51-b604-13d6fe401956"
      },
      "source": [
        "data.iloc[2]"
      ],
      "execution_count": 131,
      "outputs": [
        {
          "output_type": "execute_result",
          "data": {
            "text/plain": [
              "one       8\n",
              "two       9\n",
              "three    10\n",
              "four     11\n",
              "Name: Utah, dtype: int64"
            ]
          },
          "metadata": {},
          "execution_count": 131
        }
      ]
    },
    {
      "cell_type": "code",
      "metadata": {
        "colab": {
          "base_uri": "https://localhost:8080/",
          "height": 111
        },
        "id": "TqpTMdzJQiyc",
        "outputId": "7886f1bc-d33f-4440-bae3-c97473f7ea17"
      },
      "source": [
        "data.iloc[[1, 2], [3, 0, 1]]"
      ],
      "execution_count": 132,
      "outputs": [
        {
          "output_type": "execute_result",
          "data": {
            "text/html": [
              "<div>\n",
              "<style scoped>\n",
              "    .dataframe tbody tr th:only-of-type {\n",
              "        vertical-align: middle;\n",
              "    }\n",
              "\n",
              "    .dataframe tbody tr th {\n",
              "        vertical-align: top;\n",
              "    }\n",
              "\n",
              "    .dataframe thead th {\n",
              "        text-align: right;\n",
              "    }\n",
              "</style>\n",
              "<table border=\"1\" class=\"dataframe\">\n",
              "  <thead>\n",
              "    <tr style=\"text-align: right;\">\n",
              "      <th></th>\n",
              "      <th>four</th>\n",
              "      <th>one</th>\n",
              "      <th>two</th>\n",
              "    </tr>\n",
              "  </thead>\n",
              "  <tbody>\n",
              "    <tr>\n",
              "      <th>Colorado</th>\n",
              "      <td>7</td>\n",
              "      <td>0</td>\n",
              "      <td>5</td>\n",
              "    </tr>\n",
              "    <tr>\n",
              "      <th>Utah</th>\n",
              "      <td>11</td>\n",
              "      <td>8</td>\n",
              "      <td>9</td>\n",
              "    </tr>\n",
              "  </tbody>\n",
              "</table>\n",
              "</div>"
            ],
            "text/plain": [
              "          four  one  two\n",
              "Colorado     7    0    5\n",
              "Utah        11    8    9"
            ]
          },
          "metadata": {},
          "execution_count": 132
        }
      ]
    },
    {
      "cell_type": "markdown",
      "metadata": {
        "id": "QQDwcGk6Q7Ld"
      },
      "source": [
        "Both indexing functions work with slices in addition to single labels or lists of labels:"
      ]
    },
    {
      "cell_type": "code",
      "metadata": {
        "colab": {
          "base_uri": "https://localhost:8080/"
        },
        "id": "S9_QJKYQQ97A",
        "outputId": "117edbe4-ab1d-4828-e15b-e30109018fd9"
      },
      "source": [
        "data.loc[: 'Utah', 'two']"
      ],
      "execution_count": 133,
      "outputs": [
        {
          "output_type": "execute_result",
          "data": {
            "text/plain": [
              "Ohio        0\n",
              "Colorado    5\n",
              "Utah        9\n",
              "Name: two, dtype: int64"
            ]
          },
          "metadata": {},
          "execution_count": 133
        }
      ]
    },
    {
      "cell_type": "code",
      "metadata": {
        "colab": {
          "base_uri": "https://localhost:8080/",
          "height": 142
        },
        "id": "auVLwMhORHPQ",
        "outputId": "d5716d25-c73a-455a-9437-b3ca03741f2c"
      },
      "source": [
        "data.iloc[:, :3][data.three > 5]"
      ],
      "execution_count": 134,
      "outputs": [
        {
          "output_type": "execute_result",
          "data": {
            "text/html": [
              "<div>\n",
              "<style scoped>\n",
              "    .dataframe tbody tr th:only-of-type {\n",
              "        vertical-align: middle;\n",
              "    }\n",
              "\n",
              "    .dataframe tbody tr th {\n",
              "        vertical-align: top;\n",
              "    }\n",
              "\n",
              "    .dataframe thead th {\n",
              "        text-align: right;\n",
              "    }\n",
              "</style>\n",
              "<table border=\"1\" class=\"dataframe\">\n",
              "  <thead>\n",
              "    <tr style=\"text-align: right;\">\n",
              "      <th></th>\n",
              "      <th>one</th>\n",
              "      <th>two</th>\n",
              "      <th>three</th>\n",
              "    </tr>\n",
              "  </thead>\n",
              "  <tbody>\n",
              "    <tr>\n",
              "      <th>Colorado</th>\n",
              "      <td>0</td>\n",
              "      <td>5</td>\n",
              "      <td>6</td>\n",
              "    </tr>\n",
              "    <tr>\n",
              "      <th>Utah</th>\n",
              "      <td>8</td>\n",
              "      <td>9</td>\n",
              "      <td>10</td>\n",
              "    </tr>\n",
              "    <tr>\n",
              "      <th>New York</th>\n",
              "      <td>12</td>\n",
              "      <td>13</td>\n",
              "      <td>14</td>\n",
              "    </tr>\n",
              "  </tbody>\n",
              "</table>\n",
              "</div>"
            ],
            "text/plain": [
              "          one  two  three\n",
              "Colorado    0    5      6\n",
              "Utah        8    9     10\n",
              "New York   12   13     14"
            ]
          },
          "metadata": {},
          "execution_count": 134
        }
      ]
    },
    {
      "cell_type": "markdown",
      "metadata": {
        "id": "clYZr0GMRUzJ"
      },
      "source": [
        "So there are many ways to select and rearrange the data contained in a pandas object. For DataFrame, Table 5-4 provides a short summary of many of them"
      ]
    },
    {
      "cell_type": "markdown",
      "metadata": {
        "id": "MEEl4vzqRYkl"
      },
      "source": [
        "Table 5-4. Indexing options with DataFrame\n",
        "<p align='center'>\n",
        "<img src='data:image/png;base64,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'>\n",
        "</p>"
      ]
    },
    {
      "cell_type": "markdown",
      "metadata": {
        "id": "RQ7uwDWyR00Q"
      },
      "source": [
        "## Integer Indexes"
      ]
    },
    {
      "cell_type": "markdown",
      "metadata": {
        "id": "LHw-b0H-R9Zs"
      },
      "source": [
        "Working with pandas objects indexed by integers is something that often trips up new users due to some differences with indexing semantics on built-in Python data structures like lists and tuples\n",
        "\n",
        "For example, you might not expect the following code to generate an error:"
      ]
    },
    {
      "cell_type": "code",
      "metadata": {
        "id": "u2O0tdPwSeFx"
      },
      "source": [
        "ser = pd.Series(np.arange(3.))"
      ],
      "execution_count": 135,
      "outputs": []
    },
    {
      "cell_type": "code",
      "metadata": {
        "colab": {
          "base_uri": "https://localhost:8080/"
        },
        "id": "Wm4FctTOSj2G",
        "outputId": "541ce118-5abf-401a-c2d3-a2b20943c107"
      },
      "source": [
        "ser"
      ],
      "execution_count": 136,
      "outputs": [
        {
          "output_type": "execute_result",
          "data": {
            "text/plain": [
              "0    0.0\n",
              "1    1.0\n",
              "2    2.0\n",
              "dtype: float64"
            ]
          },
          "metadata": {},
          "execution_count": 136
        }
      ]
    },
    {
      "cell_type": "code",
      "metadata": {
        "colab": {
          "base_uri": "https://localhost:8080/"
        },
        "id": "EN4p2WN8ShrB",
        "outputId": "8214dd8c-7c3a-48aa-8d3a-d0af767623cc"
      },
      "source": [
        "try:\n",
        "  ser[-1]\n",
        "except (ValueError, KeyError):\n",
        "  print('ValueError', 'KeyError')"
      ],
      "execution_count": 137,
      "outputs": [
        {
          "output_type": "stream",
          "name": "stdout",
          "text": [
            "ValueError KeyError\n"
          ]
        }
      ]
    },
    {
      "cell_type": "markdown",
      "metadata": {
        "id": "j1GgcDuoTczR"
      },
      "source": [
        "In this case, pandas could “fall back” on integer indexing, but it’s difficult to do this in general without introducing subtle bugs\n",
        "\n",
        "Here we have an index containing 0, 1, 2, but inferring what the user wants (label-based indexing or position-based) is difficult:"
      ]
    },
    {
      "cell_type": "code",
      "metadata": {
        "colab": {
          "base_uri": "https://localhost:8080/"
        },
        "id": "X1NTi0lPTpmM",
        "outputId": "7268a319-784a-429a-8af6-b5b6a7224352"
      },
      "source": [
        "ser"
      ],
      "execution_count": 138,
      "outputs": [
        {
          "output_type": "execute_result",
          "data": {
            "text/plain": [
              "0    0.0\n",
              "1    1.0\n",
              "2    2.0\n",
              "dtype: float64"
            ]
          },
          "metadata": {},
          "execution_count": 138
        }
      ]
    },
    {
      "cell_type": "markdown",
      "metadata": {
        "id": "94aTr-MRTwJv"
      },
      "source": [
        "On the other hand, with a non-integer index, there is no potential for ambiguity:"
      ]
    },
    {
      "cell_type": "code",
      "metadata": {
        "id": "sg6ZWwixTvbn"
      },
      "source": [
        "ser2 = pd.Series(np.arange(3.), index=['a', 'b', 'c'])"
      ],
      "execution_count": 139,
      "outputs": []
    },
    {
      "cell_type": "code",
      "metadata": {
        "colab": {
          "base_uri": "https://localhost:8080/"
        },
        "id": "HICFBP_hT3Qe",
        "outputId": "a81e4f5d-b09e-4ba8-e5d2-2f8e9053e4ae"
      },
      "source": [
        "ser2[-1]"
      ],
      "execution_count": 140,
      "outputs": [
        {
          "output_type": "execute_result",
          "data": {
            "text/plain": [
              "2.0"
            ]
          },
          "metadata": {},
          "execution_count": 140
        }
      ]
    },
    {
      "cell_type": "markdown",
      "metadata": {
        "id": "d8pQNbcKT412"
      },
      "source": [
        "To keep things consistent, **if you have an axis index containing integers, data selection will always be label-oriented**\n",
        "\n",
        "For more precise handling, use loc (for labels) or iloc (for integers):"
      ]
    },
    {
      "cell_type": "code",
      "metadata": {
        "colab": {
          "base_uri": "https://localhost:8080/"
        },
        "id": "MOxyq7H-UNCm",
        "outputId": "78275b11-b2d0-4b4d-ce19-5e5fdafe4489"
      },
      "source": [
        "ser[:1]"
      ],
      "execution_count": 141,
      "outputs": [
        {
          "output_type": "execute_result",
          "data": {
            "text/plain": [
              "0    0.0\n",
              "dtype: float64"
            ]
          },
          "metadata": {},
          "execution_count": 141
        }
      ]
    },
    {
      "cell_type": "code",
      "metadata": {
        "colab": {
          "base_uri": "https://localhost:8080/"
        },
        "id": "rX18_7F2URFQ",
        "outputId": "bc442f6d-8b56-460d-8744-8f8aa28eb609"
      },
      "source": [
        "ser.loc[:1]"
      ],
      "execution_count": 142,
      "outputs": [
        {
          "output_type": "execute_result",
          "data": {
            "text/plain": [
              "0    0.0\n",
              "1    1.0\n",
              "dtype: float64"
            ]
          },
          "metadata": {},
          "execution_count": 142
        }
      ]
    },
    {
      "cell_type": "code",
      "metadata": {
        "colab": {
          "base_uri": "https://localhost:8080/"
        },
        "id": "PdLR5y14UWct",
        "outputId": "87b88811-9fde-4cd7-b4c7-8580adeb36ba"
      },
      "source": [
        "ser.iloc[:1]"
      ],
      "execution_count": 143,
      "outputs": [
        {
          "output_type": "execute_result",
          "data": {
            "text/plain": [
              "0    0.0\n",
              "dtype: float64"
            ]
          },
          "metadata": {},
          "execution_count": 143
        }
      ]
    },
    {
      "cell_type": "markdown",
      "metadata": {
        "id": "tRFhyy2iUkZR"
      },
      "source": [
        "## Arithmetic and Data Alignment"
      ]
    },
    {
      "cell_type": "markdown",
      "metadata": {
        "id": "6mTmdgHxUmYa"
      },
      "source": [
        "An important pandas feature for some applications is the behavior of arithmetic between objects with different indexes\n",
        "\n",
        "**When you are adding together objects, if any index pairs are not the same, the respective index in the result will be the union of the index pairs**\n",
        "\n",
        "For users with database experience, this is similar to an automatic outer join on the index labels. Let’s look at an example:"
      ]
    },
    {
      "cell_type": "code",
      "metadata": {
        "id": "s91M6GDVUmEx"
      },
      "source": [
        "s1 = pd.Series([7.3, -2.5, 3.4, 1.5], index=['a', 'c', 'd', 'e'])"
      ],
      "execution_count": 144,
      "outputs": []
    },
    {
      "cell_type": "code",
      "metadata": {
        "id": "FFchT3bnVsKU"
      },
      "source": [
        "s2 = pd.Series([-2.1, 3.6, -1.5, 4, 3.1], index=['a', 'c', 'e', 'f', 'g'])"
      ],
      "execution_count": 145,
      "outputs": []
    },
    {
      "cell_type": "code",
      "metadata": {
        "colab": {
          "base_uri": "https://localhost:8080/"
        },
        "id": "81bpoEBqV1U3",
        "outputId": "10bdb9c5-cc25-4680-d6a0-faf77596b030"
      },
      "source": [
        "s1"
      ],
      "execution_count": 146,
      "outputs": [
        {
          "output_type": "execute_result",
          "data": {
            "text/plain": [
              "a    7.3\n",
              "c   -2.5\n",
              "d    3.4\n",
              "e    1.5\n",
              "dtype: float64"
            ]
          },
          "metadata": {},
          "execution_count": 146
        }
      ]
    },
    {
      "cell_type": "code",
      "metadata": {
        "colab": {
          "base_uri": "https://localhost:8080/"
        },
        "id": "ASZl9L-5V13k",
        "outputId": "ad3e9758-482d-4815-fba3-1e2b96ede251"
      },
      "source": [
        "s2"
      ],
      "execution_count": 147,
      "outputs": [
        {
          "output_type": "execute_result",
          "data": {
            "text/plain": [
              "a   -2.1\n",
              "c    3.6\n",
              "e   -1.5\n",
              "f    4.0\n",
              "g    3.1\n",
              "dtype: float64"
            ]
          },
          "metadata": {},
          "execution_count": 147
        }
      ]
    },
    {
      "cell_type": "markdown",
      "metadata": {
        "id": "DovmFMo8V5Xe"
      },
      "source": [
        "Adding these together yields:"
      ]
    },
    {
      "cell_type": "code",
      "metadata": {
        "colab": {
          "base_uri": "https://localhost:8080/"
        },
        "id": "gzh5KZzEV5yk",
        "outputId": "d9c7688c-beb9-4786-b6e8-920bb06ac2ce"
      },
      "source": [
        "s1 + s2"
      ],
      "execution_count": 148,
      "outputs": [
        {
          "output_type": "execute_result",
          "data": {
            "text/plain": [
              "a    5.2\n",
              "c    1.1\n",
              "d    NaN\n",
              "e    0.0\n",
              "f    NaN\n",
              "g    NaN\n",
              "dtype: float64"
            ]
          },
          "metadata": {},
          "execution_count": 148
        }
      ]
    },
    {
      "cell_type": "markdown",
      "metadata": {
        "id": "nx1bzNsjWMqT"
      },
      "source": [
        "The internal data alignment introduces missing values in the label locations that don’t overlap\n",
        "\n",
        "Missing values will then propagate in further arithmetic computations\n",
        "\n",
        "In the case of DataFrame, alignment is performed on both the rows and the columns:"
      ]
    },
    {
      "cell_type": "code",
      "metadata": {
        "id": "0gb4o0v2WMMW"
      },
      "source": [
        "df1 = pd.DataFrame(np.arange(9.).reshape((3, 3)), columns=list('bcd'),\n",
        "                   index=['Ohio', 'Texas', 'Colorado'])"
      ],
      "execution_count": 149,
      "outputs": []
    },
    {
      "cell_type": "code",
      "metadata": {
        "id": "597zDAw8Yb82"
      },
      "source": [
        "df2 = pd.DataFrame(np.arange(12.).reshape((4, 3)), columns=list('bde'),\n",
        "                   index=['Utah', 'Ohio', 'Texas', 'Oregon'])"
      ],
      "execution_count": 150,
      "outputs": []
    },
    {
      "cell_type": "code",
      "metadata": {
        "colab": {
          "base_uri": "https://localhost:8080/",
          "height": 142
        },
        "id": "hNSzHKCtY2MM",
        "outputId": "d7ebc4c8-eb6b-4f4e-952b-da6241248c05"
      },
      "source": [
        "df1"
      ],
      "execution_count": 151,
      "outputs": [
        {
          "output_type": "execute_result",
          "data": {
            "text/html": [
              "<div>\n",
              "<style scoped>\n",
              "    .dataframe tbody tr th:only-of-type {\n",
              "        vertical-align: middle;\n",
              "    }\n",
              "\n",
              "    .dataframe tbody tr th {\n",
              "        vertical-align: top;\n",
              "    }\n",
              "\n",
              "    .dataframe thead th {\n",
              "        text-align: right;\n",
              "    }\n",
              "</style>\n",
              "<table border=\"1\" class=\"dataframe\">\n",
              "  <thead>\n",
              "    <tr style=\"text-align: right;\">\n",
              "      <th></th>\n",
              "      <th>b</th>\n",
              "      <th>c</th>\n",
              "      <th>d</th>\n",
              "    </tr>\n",
              "  </thead>\n",
              "  <tbody>\n",
              "    <tr>\n",
              "      <th>Ohio</th>\n",
              "      <td>0.0</td>\n",
              "      <td>1.0</td>\n",
              "      <td>2.0</td>\n",
              "    </tr>\n",
              "    <tr>\n",
              "      <th>Texas</th>\n",
              "      <td>3.0</td>\n",
              "      <td>4.0</td>\n",
              "      <td>5.0</td>\n",
              "    </tr>\n",
              "    <tr>\n",
              "      <th>Colorado</th>\n",
              "      <td>6.0</td>\n",
              "      <td>7.0</td>\n",
              "      <td>8.0</td>\n",
              "    </tr>\n",
              "  </tbody>\n",
              "</table>\n",
              "</div>"
            ],
            "text/plain": [
              "            b    c    d\n",
              "Ohio      0.0  1.0  2.0\n",
              "Texas     3.0  4.0  5.0\n",
              "Colorado  6.0  7.0  8.0"
            ]
          },
          "metadata": {},
          "execution_count": 151
        }
      ]
    },
    {
      "cell_type": "code",
      "metadata": {
        "colab": {
          "base_uri": "https://localhost:8080/",
          "height": 173
        },
        "id": "ItxY4-XNY3N2",
        "outputId": "a09da744-9dfd-45f9-c4ae-6fb053634576"
      },
      "source": [
        "df2"
      ],
      "execution_count": 152,
      "outputs": [
        {
          "output_type": "execute_result",
          "data": {
            "text/html": [
              "<div>\n",
              "<style scoped>\n",
              "    .dataframe tbody tr th:only-of-type {\n",
              "        vertical-align: middle;\n",
              "    }\n",
              "\n",
              "    .dataframe tbody tr th {\n",
              "        vertical-align: top;\n",
              "    }\n",
              "\n",
              "    .dataframe thead th {\n",
              "        text-align: right;\n",
              "    }\n",
              "</style>\n",
              "<table border=\"1\" class=\"dataframe\">\n",
              "  <thead>\n",
              "    <tr style=\"text-align: right;\">\n",
              "      <th></th>\n",
              "      <th>b</th>\n",
              "      <th>d</th>\n",
              "      <th>e</th>\n",
              "    </tr>\n",
              "  </thead>\n",
              "  <tbody>\n",
              "    <tr>\n",
              "      <th>Utah</th>\n",
              "      <td>0.0</td>\n",
              "      <td>1.0</td>\n",
              "      <td>2.0</td>\n",
              "    </tr>\n",
              "    <tr>\n",
              "      <th>Ohio</th>\n",
              "      <td>3.0</td>\n",
              "      <td>4.0</td>\n",
              "      <td>5.0</td>\n",
              "    </tr>\n",
              "    <tr>\n",
              "      <th>Texas</th>\n",
              "      <td>6.0</td>\n",
              "      <td>7.0</td>\n",
              "      <td>8.0</td>\n",
              "    </tr>\n",
              "    <tr>\n",
              "      <th>Oregon</th>\n",
              "      <td>9.0</td>\n",
              "      <td>10.0</td>\n",
              "      <td>11.0</td>\n",
              "    </tr>\n",
              "  </tbody>\n",
              "</table>\n",
              "</div>"
            ],
            "text/plain": [
              "          b     d     e\n",
              "Utah    0.0   1.0   2.0\n",
              "Ohio    3.0   4.0   5.0\n",
              "Texas   6.0   7.0   8.0\n",
              "Oregon  9.0  10.0  11.0"
            ]
          },
          "metadata": {},
          "execution_count": 152
        }
      ]
    },
    {
      "cell_type": "markdown",
      "metadata": {
        "id": "tLcrZ3pMY92I"
      },
      "source": [
        "Adding these together returns a DataFrame whose index and columns are the unions of the ones in each DataFrame:"
      ]
    },
    {
      "cell_type": "code",
      "metadata": {
        "colab": {
          "base_uri": "https://localhost:8080/",
          "height": 204
        },
        "id": "hN6GRgz-ZAzj",
        "outputId": "e5c3e399-ad44-453d-f39d-d6d17104ccf2"
      },
      "source": [
        "df1 + df2"
      ],
      "execution_count": 153,
      "outputs": [
        {
          "output_type": "execute_result",
          "data": {
            "text/html": [
              "<div>\n",
              "<style scoped>\n",
              "    .dataframe tbody tr th:only-of-type {\n",
              "        vertical-align: middle;\n",
              "    }\n",
              "\n",
              "    .dataframe tbody tr th {\n",
              "        vertical-align: top;\n",
              "    }\n",
              "\n",
              "    .dataframe thead th {\n",
              "        text-align: right;\n",
              "    }\n",
              "</style>\n",
              "<table border=\"1\" class=\"dataframe\">\n",
              "  <thead>\n",
              "    <tr style=\"text-align: right;\">\n",
              "      <th></th>\n",
              "      <th>b</th>\n",
              "      <th>c</th>\n",
              "      <th>d</th>\n",
              "      <th>e</th>\n",
              "    </tr>\n",
              "  </thead>\n",
              "  <tbody>\n",
              "    <tr>\n",
              "      <th>Colorado</th>\n",
              "      <td>NaN</td>\n",
              "      <td>NaN</td>\n",
              "      <td>NaN</td>\n",
              "      <td>NaN</td>\n",
              "    </tr>\n",
              "    <tr>\n",
              "      <th>Ohio</th>\n",
              "      <td>3.0</td>\n",
              "      <td>NaN</td>\n",
              "      <td>6.0</td>\n",
              "      <td>NaN</td>\n",
              "    </tr>\n",
              "    <tr>\n",
              "      <th>Oregon</th>\n",
              "      <td>NaN</td>\n",
              "      <td>NaN</td>\n",
              "      <td>NaN</td>\n",
              "      <td>NaN</td>\n",
              "    </tr>\n",
              "    <tr>\n",
              "      <th>Texas</th>\n",
              "      <td>9.0</td>\n",
              "      <td>NaN</td>\n",
              "      <td>12.0</td>\n",
              "      <td>NaN</td>\n",
              "    </tr>\n",
              "    <tr>\n",
              "      <th>Utah</th>\n",
              "      <td>NaN</td>\n",
              "      <td>NaN</td>\n",
              "      <td>NaN</td>\n",
              "      <td>NaN</td>\n",
              "    </tr>\n",
              "  </tbody>\n",
              "</table>\n",
              "</div>"
            ],
            "text/plain": [
              "            b   c     d   e\n",
              "Colorado  NaN NaN   NaN NaN\n",
              "Ohio      3.0 NaN   6.0 NaN\n",
              "Oregon    NaN NaN   NaN NaN\n",
              "Texas     9.0 NaN  12.0 NaN\n",
              "Utah      NaN NaN   NaN NaN"
            ]
          },
          "metadata": {},
          "execution_count": 153
        }
      ]
    },
    {
      "cell_type": "markdown",
      "metadata": {
        "id": "2J1eyLOrZIBU"
      },
      "source": [
        "**Since the 'c' and 'e' columns are not found in both DataFrame objects, they appear as all missing in the result**. The same holds for the rows whose labels are not common to both objects\n",
        "\n",
        "If you add DataFrame objects with no column or row labels in common, the result will contain all nulls:\n"
      ]
    },
    {
      "cell_type": "code",
      "metadata": {
        "id": "LjM4Qx15ZjzT"
      },
      "source": [
        "df1 = pd.DataFrame({'A': [1, 2]})"
      ],
      "execution_count": 154,
      "outputs": []
    },
    {
      "cell_type": "code",
      "metadata": {
        "id": "srjeVrG0ZoFX"
      },
      "source": [
        "df2 = pd.DataFrame({'B': [3, 4]})"
      ],
      "execution_count": 155,
      "outputs": []
    },
    {
      "cell_type": "code",
      "metadata": {
        "colab": {
          "base_uri": "https://localhost:8080/",
          "height": 111
        },
        "id": "HE71NcNYZrYH",
        "outputId": "9d5aa9a2-18d3-4837-c453-e1ade5d58563"
      },
      "source": [
        "df1"
      ],
      "execution_count": 156,
      "outputs": [
        {
          "output_type": "execute_result",
          "data": {
            "text/html": [
              "<div>\n",
              "<style scoped>\n",
              "    .dataframe tbody tr th:only-of-type {\n",
              "        vertical-align: middle;\n",
              "    }\n",
              "\n",
              "    .dataframe tbody tr th {\n",
              "        vertical-align: top;\n",
              "    }\n",
              "\n",
              "    .dataframe thead th {\n",
              "        text-align: right;\n",
              "    }\n",
              "</style>\n",
              "<table border=\"1\" class=\"dataframe\">\n",
              "  <thead>\n",
              "    <tr style=\"text-align: right;\">\n",
              "      <th></th>\n",
              "      <th>A</th>\n",
              "    </tr>\n",
              "  </thead>\n",
              "  <tbody>\n",
              "    <tr>\n",
              "      <th>0</th>\n",
              "      <td>1</td>\n",
              "    </tr>\n",
              "    <tr>\n",
              "      <th>1</th>\n",
              "      <td>2</td>\n",
              "    </tr>\n",
              "  </tbody>\n",
              "</table>\n",
              "</div>"
            ],
            "text/plain": [
              "   A\n",
              "0  1\n",
              "1  2"
            ]
          },
          "metadata": {},
          "execution_count": 156
        }
      ]
    },
    {
      "cell_type": "code",
      "metadata": {
        "colab": {
          "base_uri": "https://localhost:8080/",
          "height": 111
        },
        "id": "1ephVu9zZr81",
        "outputId": "93f075cc-9cc8-4cd3-f670-2ff587b04416"
      },
      "source": [
        "df2"
      ],
      "execution_count": 157,
      "outputs": [
        {
          "output_type": "execute_result",
          "data": {
            "text/html": [
              "<div>\n",
              "<style scoped>\n",
              "    .dataframe tbody tr th:only-of-type {\n",
              "        vertical-align: middle;\n",
              "    }\n",
              "\n",
              "    .dataframe tbody tr th {\n",
              "        vertical-align: top;\n",
              "    }\n",
              "\n",
              "    .dataframe thead th {\n",
              "        text-align: right;\n",
              "    }\n",
              "</style>\n",
              "<table border=\"1\" class=\"dataframe\">\n",
              "  <thead>\n",
              "    <tr style=\"text-align: right;\">\n",
              "      <th></th>\n",
              "      <th>B</th>\n",
              "    </tr>\n",
              "  </thead>\n",
              "  <tbody>\n",
              "    <tr>\n",
              "      <th>0</th>\n",
              "      <td>3</td>\n",
              "    </tr>\n",
              "    <tr>\n",
              "      <th>1</th>\n",
              "      <td>4</td>\n",
              "    </tr>\n",
              "  </tbody>\n",
              "</table>\n",
              "</div>"
            ],
            "text/plain": [
              "   B\n",
              "0  3\n",
              "1  4"
            ]
          },
          "metadata": {},
          "execution_count": 157
        }
      ]
    },
    {
      "cell_type": "code",
      "metadata": {
        "colab": {
          "base_uri": "https://localhost:8080/",
          "height": 111
        },
        "id": "i27-l0sAZ2nE",
        "outputId": "a61d05cd-086b-4c5d-a916-42110c75575c"
      },
      "source": [
        "df1 + df2"
      ],
      "execution_count": 158,
      "outputs": [
        {
          "output_type": "execute_result",
          "data": {
            "text/html": [
              "<div>\n",
              "<style scoped>\n",
              "    .dataframe tbody tr th:only-of-type {\n",
              "        vertical-align: middle;\n",
              "    }\n",
              "\n",
              "    .dataframe tbody tr th {\n",
              "        vertical-align: top;\n",
              "    }\n",
              "\n",
              "    .dataframe thead th {\n",
              "        text-align: right;\n",
              "    }\n",
              "</style>\n",
              "<table border=\"1\" class=\"dataframe\">\n",
              "  <thead>\n",
              "    <tr style=\"text-align: right;\">\n",
              "      <th></th>\n",
              "      <th>A</th>\n",
              "      <th>B</th>\n",
              "    </tr>\n",
              "  </thead>\n",
              "  <tbody>\n",
              "    <tr>\n",
              "      <th>0</th>\n",
              "      <td>NaN</td>\n",
              "      <td>NaN</td>\n",
              "    </tr>\n",
              "    <tr>\n",
              "      <th>1</th>\n",
              "      <td>NaN</td>\n",
              "      <td>NaN</td>\n",
              "    </tr>\n",
              "  </tbody>\n",
              "</table>\n",
              "</div>"
            ],
            "text/plain": [
              "    A   B\n",
              "0 NaN NaN\n",
              "1 NaN NaN"
            ]
          },
          "metadata": {},
          "execution_count": 158
        }
      ]
    },
    {
      "cell_type": "markdown",
      "metadata": {
        "id": "vD5TT_alZ7IT"
      },
      "source": [
        "### Arithmetic methods with fill values"
      ]
    },
    {
      "cell_type": "markdown",
      "metadata": {
        "id": "eiLnnTfEaTGU"
      },
      "source": [
        "In arithmetic operations between differently indexed objects, you might want to fill with a special value, like 0, when an axis label is found in one object but not the other:"
      ]
    },
    {
      "cell_type": "code",
      "metadata": {
        "id": "xdXNQxhsZ9Hs"
      },
      "source": [
        "df1 = pd.DataFrame(np.arange(12.).reshape((3, 4)),\n",
        "                   columns=list('abcd'))"
      ],
      "execution_count": 159,
      "outputs": []
    },
    {
      "cell_type": "code",
      "metadata": {
        "id": "jJN-eN68ag-E"
      },
      "source": [
        "df2 = pd.DataFrame(np.arange(20.).reshape((4, 5)),\n",
        "                   columns=list('abcde'))"
      ],
      "execution_count": 160,
      "outputs": []
    },
    {
      "cell_type": "code",
      "metadata": {
        "id": "k9atUAjaay4E"
      },
      "source": [
        "df2.loc[1, 'b'] = np.nan"
      ],
      "execution_count": 161,
      "outputs": []
    },
    {
      "cell_type": "code",
      "metadata": {
        "colab": {
          "base_uri": "https://localhost:8080/",
          "height": 142
        },
        "id": "mbKlgfb5aosz",
        "outputId": "58d099a5-af28-4d06-d4b2-ff9de7cb5d8d"
      },
      "source": [
        "df1"
      ],
      "execution_count": 162,
      "outputs": [
        {
          "output_type": "execute_result",
          "data": {
            "text/html": [
              "<div>\n",
              "<style scoped>\n",
              "    .dataframe tbody tr th:only-of-type {\n",
              "        vertical-align: middle;\n",
              "    }\n",
              "\n",
              "    .dataframe tbody tr th {\n",
              "        vertical-align: top;\n",
              "    }\n",
              "\n",
              "    .dataframe thead th {\n",
              "        text-align: right;\n",
              "    }\n",
              "</style>\n",
              "<table border=\"1\" class=\"dataframe\">\n",
              "  <thead>\n",
              "    <tr style=\"text-align: right;\">\n",
              "      <th></th>\n",
              "      <th>a</th>\n",
              "      <th>b</th>\n",
              "      <th>c</th>\n",
              "      <th>d</th>\n",
              "    </tr>\n",
              "  </thead>\n",
              "  <tbody>\n",
              "    <tr>\n",
              "      <th>0</th>\n",
              "      <td>0.0</td>\n",
              "      <td>1.0</td>\n",
              "      <td>2.0</td>\n",
              "      <td>3.0</td>\n",
              "    </tr>\n",
              "    <tr>\n",
              "      <th>1</th>\n",
              "      <td>4.0</td>\n",
              "      <td>5.0</td>\n",
              "      <td>6.0</td>\n",
              "      <td>7.0</td>\n",
              "    </tr>\n",
              "    <tr>\n",
              "      <th>2</th>\n",
              "      <td>8.0</td>\n",
              "      <td>9.0</td>\n",
              "      <td>10.0</td>\n",
              "      <td>11.0</td>\n",
              "    </tr>\n",
              "  </tbody>\n",
              "</table>\n",
              "</div>"
            ],
            "text/plain": [
              "     a    b     c     d\n",
              "0  0.0  1.0   2.0   3.0\n",
              "1  4.0  5.0   6.0   7.0\n",
              "2  8.0  9.0  10.0  11.0"
            ]
          },
          "metadata": {},
          "execution_count": 162
        }
      ]
    },
    {
      "cell_type": "code",
      "metadata": {
        "colab": {
          "base_uri": "https://localhost:8080/",
          "height": 173
        },
        "id": "BqHeeFxWapOx",
        "outputId": "fbebbfb2-d2a1-4279-d31f-d0a0a3df0a7f"
      },
      "source": [
        "df2"
      ],
      "execution_count": 163,
      "outputs": [
        {
          "output_type": "execute_result",
          "data": {
            "text/html": [
              "<div>\n",
              "<style scoped>\n",
              "    .dataframe tbody tr th:only-of-type {\n",
              "        vertical-align: middle;\n",
              "    }\n",
              "\n",
              "    .dataframe tbody tr th {\n",
              "        vertical-align: top;\n",
              "    }\n",
              "\n",
              "    .dataframe thead th {\n",
              "        text-align: right;\n",
              "    }\n",
              "</style>\n",
              "<table border=\"1\" class=\"dataframe\">\n",
              "  <thead>\n",
              "    <tr style=\"text-align: right;\">\n",
              "      <th></th>\n",
              "      <th>a</th>\n",
              "      <th>b</th>\n",
              "      <th>c</th>\n",
              "      <th>d</th>\n",
              "      <th>e</th>\n",
              "    </tr>\n",
              "  </thead>\n",
              "  <tbody>\n",
              "    <tr>\n",
              "      <th>0</th>\n",
              "      <td>0.0</td>\n",
              "      <td>1.0</td>\n",
              "      <td>2.0</td>\n",
              "      <td>3.0</td>\n",
              "      <td>4.0</td>\n",
              "    </tr>\n",
              "    <tr>\n",
              "      <th>1</th>\n",
              "      <td>5.0</td>\n",
              "      <td>NaN</td>\n",
              "      <td>7.0</td>\n",
              "      <td>8.0</td>\n",
              "      <td>9.0</td>\n",
              "    </tr>\n",
              "    <tr>\n",
              "      <th>2</th>\n",
              "      <td>10.0</td>\n",
              "      <td>11.0</td>\n",
              "      <td>12.0</td>\n",
              "      <td>13.0</td>\n",
              "      <td>14.0</td>\n",
              "    </tr>\n",
              "    <tr>\n",
              "      <th>3</th>\n",
              "      <td>15.0</td>\n",
              "      <td>16.0</td>\n",
              "      <td>17.0</td>\n",
              "      <td>18.0</td>\n",
              "      <td>19.0</td>\n",
              "    </tr>\n",
              "  </tbody>\n",
              "</table>\n",
              "</div>"
            ],
            "text/plain": [
              "      a     b     c     d     e\n",
              "0   0.0   1.0   2.0   3.0   4.0\n",
              "1   5.0   NaN   7.0   8.0   9.0\n",
              "2  10.0  11.0  12.0  13.0  14.0\n",
              "3  15.0  16.0  17.0  18.0  19.0"
            ]
          },
          "metadata": {},
          "execution_count": 163
        }
      ]
    },
    {
      "cell_type": "markdown",
      "metadata": {
        "id": "zm7ONyQ3bCsU"
      },
      "source": [
        "Adding these together results in NA values in the locations that don’t overlap:"
      ]
    },
    {
      "cell_type": "code",
      "metadata": {
        "colab": {
          "base_uri": "https://localhost:8080/",
          "height": 173
        },
        "id": "K2zeKJcUatcU",
        "outputId": "1c0f669b-205f-425b-c79d-3a6589101a6d"
      },
      "source": [
        "df1 + df2"
      ],
      "execution_count": 164,
      "outputs": [
        {
          "output_type": "execute_result",
          "data": {
            "text/html": [
              "<div>\n",
              "<style scoped>\n",
              "    .dataframe tbody tr th:only-of-type {\n",
              "        vertical-align: middle;\n",
              "    }\n",
              "\n",
              "    .dataframe tbody tr th {\n",
              "        vertical-align: top;\n",
              "    }\n",
              "\n",
              "    .dataframe thead th {\n",
              "        text-align: right;\n",
              "    }\n",
              "</style>\n",
              "<table border=\"1\" class=\"dataframe\">\n",
              "  <thead>\n",
              "    <tr style=\"text-align: right;\">\n",
              "      <th></th>\n",
              "      <th>a</th>\n",
              "      <th>b</th>\n",
              "      <th>c</th>\n",
              "      <th>d</th>\n",
              "      <th>e</th>\n",
              "    </tr>\n",
              "  </thead>\n",
              "  <tbody>\n",
              "    <tr>\n",
              "      <th>0</th>\n",
              "      <td>0.0</td>\n",
              "      <td>2.0</td>\n",
              "      <td>4.0</td>\n",
              "      <td>6.0</td>\n",
              "      <td>NaN</td>\n",
              "    </tr>\n",
              "    <tr>\n",
              "      <th>1</th>\n",
              "      <td>9.0</td>\n",
              "      <td>NaN</td>\n",
              "      <td>13.0</td>\n",
              "      <td>15.0</td>\n",
              "      <td>NaN</td>\n",
              "    </tr>\n",
              "    <tr>\n",
              "      <th>2</th>\n",
              "      <td>18.0</td>\n",
              "      <td>20.0</td>\n",
              "      <td>22.0</td>\n",
              "      <td>24.0</td>\n",
              "      <td>NaN</td>\n",
              "    </tr>\n",
              "    <tr>\n",
              "      <th>3</th>\n",
              "      <td>NaN</td>\n",
              "      <td>NaN</td>\n",
              "      <td>NaN</td>\n",
              "      <td>NaN</td>\n",
              "      <td>NaN</td>\n",
              "    </tr>\n",
              "  </tbody>\n",
              "</table>\n",
              "</div>"
            ],
            "text/plain": [
              "      a     b     c     d   e\n",
              "0   0.0   2.0   4.0   6.0 NaN\n",
              "1   9.0   NaN  13.0  15.0 NaN\n",
              "2  18.0  20.0  22.0  24.0 NaN\n",
              "3   NaN   NaN   NaN   NaN NaN"
            ]
          },
          "metadata": {},
          "execution_count": 164
        }
      ]
    },
    {
      "cell_type": "markdown",
      "metadata": {
        "id": "B41IKWjhbHqT"
      },
      "source": [
        "Using the add method on df1, I pass df2 and an argument to fill_value:"
      ]
    },
    {
      "cell_type": "code",
      "metadata": {
        "colab": {
          "base_uri": "https://localhost:8080/",
          "height": 173
        },
        "id": "_GlKa5G7bMK2",
        "outputId": "400a32d9-8605-4e70-8a83-dea5f649d89a"
      },
      "source": [
        "df1.add(df2, fill_value=0)"
      ],
      "execution_count": 165,
      "outputs": [
        {
          "output_type": "execute_result",
          "data": {
            "text/html": [
              "<div>\n",
              "<style scoped>\n",
              "    .dataframe tbody tr th:only-of-type {\n",
              "        vertical-align: middle;\n",
              "    }\n",
              "\n",
              "    .dataframe tbody tr th {\n",
              "        vertical-align: top;\n",
              "    }\n",
              "\n",
              "    .dataframe thead th {\n",
              "        text-align: right;\n",
              "    }\n",
              "</style>\n",
              "<table border=\"1\" class=\"dataframe\">\n",
              "  <thead>\n",
              "    <tr style=\"text-align: right;\">\n",
              "      <th></th>\n",
              "      <th>a</th>\n",
              "      <th>b</th>\n",
              "      <th>c</th>\n",
              "      <th>d</th>\n",
              "      <th>e</th>\n",
              "    </tr>\n",
              "  </thead>\n",
              "  <tbody>\n",
              "    <tr>\n",
              "      <th>0</th>\n",
              "      <td>0.0</td>\n",
              "      <td>2.0</td>\n",
              "      <td>4.0</td>\n",
              "      <td>6.0</td>\n",
              "      <td>4.0</td>\n",
              "    </tr>\n",
              "    <tr>\n",
              "      <th>1</th>\n",
              "      <td>9.0</td>\n",
              "      <td>5.0</td>\n",
              "      <td>13.0</td>\n",
              "      <td>15.0</td>\n",
              "      <td>9.0</td>\n",
              "    </tr>\n",
              "    <tr>\n",
              "      <th>2</th>\n",
              "      <td>18.0</td>\n",
              "      <td>20.0</td>\n",
              "      <td>22.0</td>\n",
              "      <td>24.0</td>\n",
              "      <td>14.0</td>\n",
              "    </tr>\n",
              "    <tr>\n",
              "      <th>3</th>\n",
              "      <td>15.0</td>\n",
              "      <td>16.0</td>\n",
              "      <td>17.0</td>\n",
              "      <td>18.0</td>\n",
              "      <td>19.0</td>\n",
              "    </tr>\n",
              "  </tbody>\n",
              "</table>\n",
              "</div>"
            ],
            "text/plain": [
              "      a     b     c     d     e\n",
              "0   0.0   2.0   4.0   6.0   4.0\n",
              "1   9.0   5.0  13.0  15.0   9.0\n",
              "2  18.0  20.0  22.0  24.0  14.0\n",
              "3  15.0  16.0  17.0  18.0  19.0"
            ]
          },
          "metadata": {},
          "execution_count": 165
        }
      ]
    },
    {
      "cell_type": "markdown",
      "metadata": {
        "id": "3m_qL3_tbT3k"
      },
      "source": [
        "See Table 5-5 for a listing of Series and DataFrame methods for arithmetic\n",
        "\n",
        "Each of them has a counterpart, starting with the letter r, that has arguments flipped. So these two statements are equivalent:"
      ]
    },
    {
      "cell_type": "markdown",
      "metadata": {
        "id": "gyDv3VQ7cEmE"
      },
      "source": [
        "Table 5-5. Flexible arithmetic methods\n",
        "<p align='center'>\n",
        "<img src='data:image/png;base64,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'>\n",
        "</p>"
      ]
    },
    {
      "cell_type": "code",
      "metadata": {
        "colab": {
          "base_uri": "https://localhost:8080/",
          "height": 142
        },
        "id": "TW-ku0fgcCJs",
        "outputId": "e29b651c-7e36-4a9e-ee95-03441eab6da2"
      },
      "source": [
        "1 / df1"
      ],
      "execution_count": 166,
      "outputs": [
        {
          "output_type": "execute_result",
          "data": {
            "text/html": [
              "<div>\n",
              "<style scoped>\n",
              "    .dataframe tbody tr th:only-of-type {\n",
              "        vertical-align: middle;\n",
              "    }\n",
              "\n",
              "    .dataframe tbody tr th {\n",
              "        vertical-align: top;\n",
              "    }\n",
              "\n",
              "    .dataframe thead th {\n",
              "        text-align: right;\n",
              "    }\n",
              "</style>\n",
              "<table border=\"1\" class=\"dataframe\">\n",
              "  <thead>\n",
              "    <tr style=\"text-align: right;\">\n",
              "      <th></th>\n",
              "      <th>a</th>\n",
              "      <th>b</th>\n",
              "      <th>c</th>\n",
              "      <th>d</th>\n",
              "    </tr>\n",
              "  </thead>\n",
              "  <tbody>\n",
              "    <tr>\n",
              "      <th>0</th>\n",
              "      <td>inf</td>\n",
              "      <td>1.000000</td>\n",
              "      <td>0.500000</td>\n",
              "      <td>0.333333</td>\n",
              "    </tr>\n",
              "    <tr>\n",
              "      <th>1</th>\n",
              "      <td>0.250</td>\n",
              "      <td>0.200000</td>\n",
              "      <td>0.166667</td>\n",
              "      <td>0.142857</td>\n",
              "    </tr>\n",
              "    <tr>\n",
              "      <th>2</th>\n",
              "      <td>0.125</td>\n",
              "      <td>0.111111</td>\n",
              "      <td>0.100000</td>\n",
              "      <td>0.090909</td>\n",
              "    </tr>\n",
              "  </tbody>\n",
              "</table>\n",
              "</div>"
            ],
            "text/plain": [
              "       a         b         c         d\n",
              "0    inf  1.000000  0.500000  0.333333\n",
              "1  0.250  0.200000  0.166667  0.142857\n",
              "2  0.125  0.111111  0.100000  0.090909"
            ]
          },
          "metadata": {},
          "execution_count": 166
        }
      ]
    },
    {
      "cell_type": "code",
      "metadata": {
        "colab": {
          "base_uri": "https://localhost:8080/",
          "height": 142
        },
        "id": "fQdg9Y_WcSdo",
        "outputId": "ed8ec70e-9a5e-4623-a301-85199c0600d3"
      },
      "source": [
        "df1.rdiv(1)"
      ],
      "execution_count": 167,
      "outputs": [
        {
          "output_type": "execute_result",
          "data": {
            "text/html": [
              "<div>\n",
              "<style scoped>\n",
              "    .dataframe tbody tr th:only-of-type {\n",
              "        vertical-align: middle;\n",
              "    }\n",
              "\n",
              "    .dataframe tbody tr th {\n",
              "        vertical-align: top;\n",
              "    }\n",
              "\n",
              "    .dataframe thead th {\n",
              "        text-align: right;\n",
              "    }\n",
              "</style>\n",
              "<table border=\"1\" class=\"dataframe\">\n",
              "  <thead>\n",
              "    <tr style=\"text-align: right;\">\n",
              "      <th></th>\n",
              "      <th>a</th>\n",
              "      <th>b</th>\n",
              "      <th>c</th>\n",
              "      <th>d</th>\n",
              "    </tr>\n",
              "  </thead>\n",
              "  <tbody>\n",
              "    <tr>\n",
              "      <th>0</th>\n",
              "      <td>inf</td>\n",
              "      <td>1.000000</td>\n",
              "      <td>0.500000</td>\n",
              "      <td>0.333333</td>\n",
              "    </tr>\n",
              "    <tr>\n",
              "      <th>1</th>\n",
              "      <td>0.250</td>\n",
              "      <td>0.200000</td>\n",
              "      <td>0.166667</td>\n",
              "      <td>0.142857</td>\n",
              "    </tr>\n",
              "    <tr>\n",
              "      <th>2</th>\n",
              "      <td>0.125</td>\n",
              "      <td>0.111111</td>\n",
              "      <td>0.100000</td>\n",
              "      <td>0.090909</td>\n",
              "    </tr>\n",
              "  </tbody>\n",
              "</table>\n",
              "</div>"
            ],
            "text/plain": [
              "       a         b         c         d\n",
              "0    inf  1.000000  0.500000  0.333333\n",
              "1  0.250  0.200000  0.166667  0.142857\n",
              "2  0.125  0.111111  0.100000  0.090909"
            ]
          },
          "metadata": {},
          "execution_count": 167
        }
      ]
    },
    {
      "cell_type": "markdown",
      "metadata": {
        "id": "8KuASJj9ca_U"
      },
      "source": [
        "Relatedly, when reindexing a Series or DataFrame, you can also specify a different fill value:"
      ]
    },
    {
      "cell_type": "code",
      "metadata": {
        "colab": {
          "base_uri": "https://localhost:8080/",
          "height": 142
        },
        "id": "mQM79g7_caeo",
        "outputId": "24b1097f-2ac4-4342-a91a-4708f8fb76c3"
      },
      "source": [
        "df1.reindex(columns=df2.columns, fill_value=0)"
      ],
      "execution_count": 168,
      "outputs": [
        {
          "output_type": "execute_result",
          "data": {
            "text/html": [
              "<div>\n",
              "<style scoped>\n",
              "    .dataframe tbody tr th:only-of-type {\n",
              "        vertical-align: middle;\n",
              "    }\n",
              "\n",
              "    .dataframe tbody tr th {\n",
              "        vertical-align: top;\n",
              "    }\n",
              "\n",
              "    .dataframe thead th {\n",
              "        text-align: right;\n",
              "    }\n",
              "</style>\n",
              "<table border=\"1\" class=\"dataframe\">\n",
              "  <thead>\n",
              "    <tr style=\"text-align: right;\">\n",
              "      <th></th>\n",
              "      <th>a</th>\n",
              "      <th>b</th>\n",
              "      <th>c</th>\n",
              "      <th>d</th>\n",
              "      <th>e</th>\n",
              "    </tr>\n",
              "  </thead>\n",
              "  <tbody>\n",
              "    <tr>\n",
              "      <th>0</th>\n",
              "      <td>0.0</td>\n",
              "      <td>1.0</td>\n",
              "      <td>2.0</td>\n",
              "      <td>3.0</td>\n",
              "      <td>0</td>\n",
              "    </tr>\n",
              "    <tr>\n",
              "      <th>1</th>\n",
              "      <td>4.0</td>\n",
              "      <td>5.0</td>\n",
              "      <td>6.0</td>\n",
              "      <td>7.0</td>\n",
              "      <td>0</td>\n",
              "    </tr>\n",
              "    <tr>\n",
              "      <th>2</th>\n",
              "      <td>8.0</td>\n",
              "      <td>9.0</td>\n",
              "      <td>10.0</td>\n",
              "      <td>11.0</td>\n",
              "      <td>0</td>\n",
              "    </tr>\n",
              "  </tbody>\n",
              "</table>\n",
              "</div>"
            ],
            "text/plain": [
              "     a    b     c     d  e\n",
              "0  0.0  1.0   2.0   3.0  0\n",
              "1  4.0  5.0   6.0   7.0  0\n",
              "2  8.0  9.0  10.0  11.0  0"
            ]
          },
          "metadata": {},
          "execution_count": 168
        }
      ]
    },
    {
      "cell_type": "markdown",
      "metadata": {
        "id": "JSUxWyJoc1cW"
      },
      "source": [
        "### Operations between DataFrame and Series"
      ]
    },
    {
      "cell_type": "markdown",
      "metadata": {
        "id": "7OAe5Ph5c3En"
      },
      "source": [
        "As with NumPy arrays of different dimensions, arithmetic between DataFrame and Series is also defined\n",
        "\n",
        "First, as a motivating example, consider the difference between a two-dimensional array and one of its rows:"
      ]
    },
    {
      "cell_type": "code",
      "metadata": {
        "id": "6wIenZFodeBt"
      },
      "source": [
        "arr = np.arange(12.).reshape((3, 4))"
      ],
      "execution_count": 169,
      "outputs": []
    },
    {
      "cell_type": "code",
      "metadata": {
        "colab": {
          "base_uri": "https://localhost:8080/"
        },
        "id": "pJYs6jqHdhVm",
        "outputId": "f4a3ebe9-3c80-4a8d-9b6c-e38d9c97d51d"
      },
      "source": [
        "arr"
      ],
      "execution_count": 170,
      "outputs": [
        {
          "output_type": "execute_result",
          "data": {
            "text/plain": [
              "array([[ 0.,  1.,  2.,  3.],\n",
              "       [ 4.,  5.,  6.,  7.],\n",
              "       [ 8.,  9., 10., 11.]])"
            ]
          },
          "metadata": {},
          "execution_count": 170
        }
      ]
    },
    {
      "cell_type": "code",
      "metadata": {
        "colab": {
          "base_uri": "https://localhost:8080/"
        },
        "id": "TDiIex5Hedh5",
        "outputId": "d635828a-ad80-41bb-abbb-8c61cf8efeeb"
      },
      "source": [
        "arr[0]"
      ],
      "execution_count": 171,
      "outputs": [
        {
          "output_type": "execute_result",
          "data": {
            "text/plain": [
              "array([0., 1., 2., 3.])"
            ]
          },
          "metadata": {},
          "execution_count": 171
        }
      ]
    },
    {
      "cell_type": "code",
      "metadata": {
        "colab": {
          "base_uri": "https://localhost:8080/"
        },
        "id": "jnORxQLRegcn",
        "outputId": "d166fe7c-3108-4d55-f6cf-ed95b7df0098"
      },
      "source": [
        "arr - arr[0]"
      ],
      "execution_count": 172,
      "outputs": [
        {
          "output_type": "execute_result",
          "data": {
            "text/plain": [
              "array([[0., 0., 0., 0.],\n",
              "       [4., 4., 4., 4.],\n",
              "       [8., 8., 8., 8.]])"
            ]
          },
          "metadata": {},
          "execution_count": 172
        }
      ]
    },
    {
      "cell_type": "markdown",
      "metadata": {
        "id": "9b9kl37-elp8"
      },
      "source": [
        "When we subtract arr[0] from arr, the subtraction is performed once for each row. This is referred to as broadcasting\n",
        "\n",
        "Operations between a DataFrame and a Series are similar:\n",
        "\n"
      ]
    },
    {
      "cell_type": "code",
      "metadata": {
        "id": "YMM8uyaGfy18"
      },
      "source": [
        "frame = pd.DataFrame(np.arange(12.).reshape((4, 3)),\n",
        "                     columns=list('bde'),\n",
        "                     index=['Utah', 'Ohio', 'Texas', 'Oregon'])"
      ],
      "execution_count": 173,
      "outputs": []
    },
    {
      "cell_type": "code",
      "metadata": {
        "id": "dWGwTUIjgBdH"
      },
      "source": [
        "series = frame.iloc[0]"
      ],
      "execution_count": 174,
      "outputs": []
    },
    {
      "cell_type": "code",
      "metadata": {
        "colab": {
          "base_uri": "https://localhost:8080/",
          "height": 173
        },
        "id": "-a7X7s8ogCn2",
        "outputId": "5f20a4ed-d219-46aa-fb4a-fe717dc498b0"
      },
      "source": [
        "frame"
      ],
      "execution_count": 175,
      "outputs": [
        {
          "output_type": "execute_result",
          "data": {
            "text/html": [
              "<div>\n",
              "<style scoped>\n",
              "    .dataframe tbody tr th:only-of-type {\n",
              "        vertical-align: middle;\n",
              "    }\n",
              "\n",
              "    .dataframe tbody tr th {\n",
              "        vertical-align: top;\n",
              "    }\n",
              "\n",
              "    .dataframe thead th {\n",
              "        text-align: right;\n",
              "    }\n",
              "</style>\n",
              "<table border=\"1\" class=\"dataframe\">\n",
              "  <thead>\n",
              "    <tr style=\"text-align: right;\">\n",
              "      <th></th>\n",
              "      <th>b</th>\n",
              "      <th>d</th>\n",
              "      <th>e</th>\n",
              "    </tr>\n",
              "  </thead>\n",
              "  <tbody>\n",
              "    <tr>\n",
              "      <th>Utah</th>\n",
              "      <td>0.0</td>\n",
              "      <td>1.0</td>\n",
              "      <td>2.0</td>\n",
              "    </tr>\n",
              "    <tr>\n",
              "      <th>Ohio</th>\n",
              "      <td>3.0</td>\n",
              "      <td>4.0</td>\n",
              "      <td>5.0</td>\n",
              "    </tr>\n",
              "    <tr>\n",
              "      <th>Texas</th>\n",
              "      <td>6.0</td>\n",
              "      <td>7.0</td>\n",
              "      <td>8.0</td>\n",
              "    </tr>\n",
              "    <tr>\n",
              "      <th>Oregon</th>\n",
              "      <td>9.0</td>\n",
              "      <td>10.0</td>\n",
              "      <td>11.0</td>\n",
              "    </tr>\n",
              "  </tbody>\n",
              "</table>\n",
              "</div>"
            ],
            "text/plain": [
              "          b     d     e\n",
              "Utah    0.0   1.0   2.0\n",
              "Ohio    3.0   4.0   5.0\n",
              "Texas   6.0   7.0   8.0\n",
              "Oregon  9.0  10.0  11.0"
            ]
          },
          "metadata": {},
          "execution_count": 175
        }
      ]
    },
    {
      "cell_type": "code",
      "metadata": {
        "colab": {
          "base_uri": "https://localhost:8080/"
        },
        "id": "JPGAkEjcgJu9",
        "outputId": "68d048fe-7b6a-4cad-e3c1-bbef073f9f0c"
      },
      "source": [
        "series"
      ],
      "execution_count": 176,
      "outputs": [
        {
          "output_type": "execute_result",
          "data": {
            "text/plain": [
              "b    0.0\n",
              "d    1.0\n",
              "e    2.0\n",
              "Name: Utah, dtype: float64"
            ]
          },
          "metadata": {},
          "execution_count": 176
        }
      ]
    },
    {
      "cell_type": "markdown",
      "metadata": {
        "id": "6QP0qfFdgLTz"
      },
      "source": [
        "By default, **arithmetic between DataFrame and Series matches the index of the Series on the DataFrame’s columns, broadcasting down the rows:**"
      ]
    },
    {
      "cell_type": "code",
      "metadata": {
        "colab": {
          "base_uri": "https://localhost:8080/",
          "height": 173
        },
        "id": "R-XWFuUcgavA",
        "outputId": "3c57d9e9-fce1-4b15-fb26-66da42ed87fe"
      },
      "source": [
        "frame - series"
      ],
      "execution_count": 177,
      "outputs": [
        {
          "output_type": "execute_result",
          "data": {
            "text/html": [
              "<div>\n",
              "<style scoped>\n",
              "    .dataframe tbody tr th:only-of-type {\n",
              "        vertical-align: middle;\n",
              "    }\n",
              "\n",
              "    .dataframe tbody tr th {\n",
              "        vertical-align: top;\n",
              "    }\n",
              "\n",
              "    .dataframe thead th {\n",
              "        text-align: right;\n",
              "    }\n",
              "</style>\n",
              "<table border=\"1\" class=\"dataframe\">\n",
              "  <thead>\n",
              "    <tr style=\"text-align: right;\">\n",
              "      <th></th>\n",
              "      <th>b</th>\n",
              "      <th>d</th>\n",
              "      <th>e</th>\n",
              "    </tr>\n",
              "  </thead>\n",
              "  <tbody>\n",
              "    <tr>\n",
              "      <th>Utah</th>\n",
              "      <td>0.0</td>\n",
              "      <td>0.0</td>\n",
              "      <td>0.0</td>\n",
              "    </tr>\n",
              "    <tr>\n",
              "      <th>Ohio</th>\n",
              "      <td>3.0</td>\n",
              "      <td>3.0</td>\n",
              "      <td>3.0</td>\n",
              "    </tr>\n",
              "    <tr>\n",
              "      <th>Texas</th>\n",
              "      <td>6.0</td>\n",
              "      <td>6.0</td>\n",
              "      <td>6.0</td>\n",
              "    </tr>\n",
              "    <tr>\n",
              "      <th>Oregon</th>\n",
              "      <td>9.0</td>\n",
              "      <td>9.0</td>\n",
              "      <td>9.0</td>\n",
              "    </tr>\n",
              "  </tbody>\n",
              "</table>\n",
              "</div>"
            ],
            "text/plain": [
              "          b    d    e\n",
              "Utah    0.0  0.0  0.0\n",
              "Ohio    3.0  3.0  3.0\n",
              "Texas   6.0  6.0  6.0\n",
              "Oregon  9.0  9.0  9.0"
            ]
          },
          "metadata": {},
          "execution_count": 177
        }
      ]
    },
    {
      "cell_type": "markdown",
      "metadata": {
        "id": "r3fBwg9qgJZw"
      },
      "source": [
        "If an index value is not found in either the DataFrame’s columns or the Series’s index, the objects will be reindexed to form the union:"
      ]
    },
    {
      "cell_type": "code",
      "metadata": {
        "id": "bGBUbl3qglDk"
      },
      "source": [
        "series2 = pd.Series(range(3), index=['b', 'e', 'f'])"
      ],
      "execution_count": 178,
      "outputs": []
    },
    {
      "cell_type": "code",
      "metadata": {
        "colab": {
          "base_uri": "https://localhost:8080/",
          "height": 173
        },
        "id": "dxLOKTcZhS0N",
        "outputId": "465f6a58-396e-4448-aa27-672d02711221"
      },
      "source": [
        "frame + series2"
      ],
      "execution_count": 179,
      "outputs": [
        {
          "output_type": "execute_result",
          "data": {
            "text/html": [
              "<div>\n",
              "<style scoped>\n",
              "    .dataframe tbody tr th:only-of-type {\n",
              "        vertical-align: middle;\n",
              "    }\n",
              "\n",
              "    .dataframe tbody tr th {\n",
              "        vertical-align: top;\n",
              "    }\n",
              "\n",
              "    .dataframe thead th {\n",
              "        text-align: right;\n",
              "    }\n",
              "</style>\n",
              "<table border=\"1\" class=\"dataframe\">\n",
              "  <thead>\n",
              "    <tr style=\"text-align: right;\">\n",
              "      <th></th>\n",
              "      <th>b</th>\n",
              "      <th>d</th>\n",
              "      <th>e</th>\n",
              "      <th>f</th>\n",
              "    </tr>\n",
              "  </thead>\n",
              "  <tbody>\n",
              "    <tr>\n",
              "      <th>Utah</th>\n",
              "      <td>0.0</td>\n",
              "      <td>NaN</td>\n",
              "      <td>3.0</td>\n",
              "      <td>NaN</td>\n",
              "    </tr>\n",
              "    <tr>\n",
              "      <th>Ohio</th>\n",
              "      <td>3.0</td>\n",
              "      <td>NaN</td>\n",
              "      <td>6.0</td>\n",
              "      <td>NaN</td>\n",
              "    </tr>\n",
              "    <tr>\n",
              "      <th>Texas</th>\n",
              "      <td>6.0</td>\n",
              "      <td>NaN</td>\n",
              "      <td>9.0</td>\n",
              "      <td>NaN</td>\n",
              "    </tr>\n",
              "    <tr>\n",
              "      <th>Oregon</th>\n",
              "      <td>9.0</td>\n",
              "      <td>NaN</td>\n",
              "      <td>12.0</td>\n",
              "      <td>NaN</td>\n",
              "    </tr>\n",
              "  </tbody>\n",
              "</table>\n",
              "</div>"
            ],
            "text/plain": [
              "          b   d     e   f\n",
              "Utah    0.0 NaN   3.0 NaN\n",
              "Ohio    3.0 NaN   6.0 NaN\n",
              "Texas   6.0 NaN   9.0 NaN\n",
              "Oregon  9.0 NaN  12.0 NaN"
            ]
          },
          "metadata": {},
          "execution_count": 179
        }
      ]
    },
    {
      "cell_type": "markdown",
      "metadata": {
        "id": "9VArj4p1hgLF"
      },
      "source": [
        "**If you want to instead broadcast over the columns, matching on the rows, you have to use one of the arithmetic methods.** For example:"
      ]
    },
    {
      "cell_type": "code",
      "metadata": {
        "id": "5Nozm7dthlA7"
      },
      "source": [
        "series3 = frame['d']"
      ],
      "execution_count": 180,
      "outputs": []
    },
    {
      "cell_type": "code",
      "metadata": {
        "colab": {
          "base_uri": "https://localhost:8080/",
          "height": 173
        },
        "id": "ooaO-K0phnRL",
        "outputId": "3860ac48-1cd1-4d76-d1f0-bb86352cc79d"
      },
      "source": [
        "frame"
      ],
      "execution_count": 181,
      "outputs": [
        {
          "output_type": "execute_result",
          "data": {
            "text/html": [
              "<div>\n",
              "<style scoped>\n",
              "    .dataframe tbody tr th:only-of-type {\n",
              "        vertical-align: middle;\n",
              "    }\n",
              "\n",
              "    .dataframe tbody tr th {\n",
              "        vertical-align: top;\n",
              "    }\n",
              "\n",
              "    .dataframe thead th {\n",
              "        text-align: right;\n",
              "    }\n",
              "</style>\n",
              "<table border=\"1\" class=\"dataframe\">\n",
              "  <thead>\n",
              "    <tr style=\"text-align: right;\">\n",
              "      <th></th>\n",
              "      <th>b</th>\n",
              "      <th>d</th>\n",
              "      <th>e</th>\n",
              "    </tr>\n",
              "  </thead>\n",
              "  <tbody>\n",
              "    <tr>\n",
              "      <th>Utah</th>\n",
              "      <td>0.0</td>\n",
              "      <td>1.0</td>\n",
              "      <td>2.0</td>\n",
              "    </tr>\n",
              "    <tr>\n",
              "      <th>Ohio</th>\n",
              "      <td>3.0</td>\n",
              "      <td>4.0</td>\n",
              "      <td>5.0</td>\n",
              "    </tr>\n",
              "    <tr>\n",
              "      <th>Texas</th>\n",
              "      <td>6.0</td>\n",
              "      <td>7.0</td>\n",
              "      <td>8.0</td>\n",
              "    </tr>\n",
              "    <tr>\n",
              "      <th>Oregon</th>\n",
              "      <td>9.0</td>\n",
              "      <td>10.0</td>\n",
              "      <td>11.0</td>\n",
              "    </tr>\n",
              "  </tbody>\n",
              "</table>\n",
              "</div>"
            ],
            "text/plain": [
              "          b     d     e\n",
              "Utah    0.0   1.0   2.0\n",
              "Ohio    3.0   4.0   5.0\n",
              "Texas   6.0   7.0   8.0\n",
              "Oregon  9.0  10.0  11.0"
            ]
          },
          "metadata": {},
          "execution_count": 181
        }
      ]
    },
    {
      "cell_type": "code",
      "metadata": {
        "colab": {
          "base_uri": "https://localhost:8080/"
        },
        "id": "-zFkH7UUh8B3",
        "outputId": "641e1781-bd24-4664-e99a-51faf97cfded"
      },
      "source": [
        "series3"
      ],
      "execution_count": 182,
      "outputs": [
        {
          "output_type": "execute_result",
          "data": {
            "text/plain": [
              "Utah       1.0\n",
              "Ohio       4.0\n",
              "Texas      7.0\n",
              "Oregon    10.0\n",
              "Name: d, dtype: float64"
            ]
          },
          "metadata": {},
          "execution_count": 182
        }
      ]
    },
    {
      "cell_type": "code",
      "metadata": {
        "colab": {
          "base_uri": "https://localhost:8080/",
          "height": 173
        },
        "id": "az2SAny3h87k",
        "outputId": "b61698d5-e37f-4922-bc73-b9cc0d28dc83"
      },
      "source": [
        "frame.sub(series3, axis='index')"
      ],
      "execution_count": 183,
      "outputs": [
        {
          "output_type": "execute_result",
          "data": {
            "text/html": [
              "<div>\n",
              "<style scoped>\n",
              "    .dataframe tbody tr th:only-of-type {\n",
              "        vertical-align: middle;\n",
              "    }\n",
              "\n",
              "    .dataframe tbody tr th {\n",
              "        vertical-align: top;\n",
              "    }\n",
              "\n",
              "    .dataframe thead th {\n",
              "        text-align: right;\n",
              "    }\n",
              "</style>\n",
              "<table border=\"1\" class=\"dataframe\">\n",
              "  <thead>\n",
              "    <tr style=\"text-align: right;\">\n",
              "      <th></th>\n",
              "      <th>b</th>\n",
              "      <th>d</th>\n",
              "      <th>e</th>\n",
              "    </tr>\n",
              "  </thead>\n",
              "  <tbody>\n",
              "    <tr>\n",
              "      <th>Utah</th>\n",
              "      <td>-1.0</td>\n",
              "      <td>0.0</td>\n",
              "      <td>1.0</td>\n",
              "    </tr>\n",
              "    <tr>\n",
              "      <th>Ohio</th>\n",
              "      <td>-1.0</td>\n",
              "      <td>0.0</td>\n",
              "      <td>1.0</td>\n",
              "    </tr>\n",
              "    <tr>\n",
              "      <th>Texas</th>\n",
              "      <td>-1.0</td>\n",
              "      <td>0.0</td>\n",
              "      <td>1.0</td>\n",
              "    </tr>\n",
              "    <tr>\n",
              "      <th>Oregon</th>\n",
              "      <td>-1.0</td>\n",
              "      <td>0.0</td>\n",
              "      <td>1.0</td>\n",
              "    </tr>\n",
              "  </tbody>\n",
              "</table>\n",
              "</div>"
            ],
            "text/plain": [
              "          b    d    e\n",
              "Utah   -1.0  0.0  1.0\n",
              "Ohio   -1.0  0.0  1.0\n",
              "Texas  -1.0  0.0  1.0\n",
              "Oregon -1.0  0.0  1.0"
            ]
          },
          "metadata": {},
          "execution_count": 183
        }
      ]
    },
    {
      "cell_type": "markdown",
      "metadata": {
        "id": "NPtVM1D2iVdV"
      },
      "source": [
        "The axis number that you pass is the axis to match on. In this case we mean to match on the DataFrame’s row index (axis='index' or axis= 0) and broadcast across"
      ]
    },
    {
      "cell_type": "markdown",
      "metadata": {
        "id": "4NUF7ymBinQd"
      },
      "source": [
        "## Function Application and Mapping"
      ]
    },
    {
      "cell_type": "markdown",
      "metadata": {
        "id": "9wu2-U2Fe83f"
      },
      "source": [
        "NumPy ufuncs (element-wise array methods) also work with pandas objects:"
      ]
    },
    {
      "cell_type": "code",
      "metadata": {
        "id": "5lD_NiL9e6GU"
      },
      "source": [
        "frame = pd.DataFrame(np.random.randn(4, 3), columns=list('bde'),\n",
        "                     index=['Utah', 'Ohio', 'Texas', 'Oregon'])"
      ],
      "execution_count": 184,
      "outputs": []
    },
    {
      "cell_type": "code",
      "metadata": {
        "colab": {
          "base_uri": "https://localhost:8080/",
          "height": 173
        },
        "id": "SdI-NMdQfMJU",
        "outputId": "fcfe88d0-0974-4d88-e93e-f41502fae301"
      },
      "source": [
        "frame"
      ],
      "execution_count": 185,
      "outputs": [
        {
          "output_type": "execute_result",
          "data": {
            "text/html": [
              "<div>\n",
              "<style scoped>\n",
              "    .dataframe tbody tr th:only-of-type {\n",
              "        vertical-align: middle;\n",
              "    }\n",
              "\n",
              "    .dataframe tbody tr th {\n",
              "        vertical-align: top;\n",
              "    }\n",
              "\n",
              "    .dataframe thead th {\n",
              "        text-align: right;\n",
              "    }\n",
              "</style>\n",
              "<table border=\"1\" class=\"dataframe\">\n",
              "  <thead>\n",
              "    <tr style=\"text-align: right;\">\n",
              "      <th></th>\n",
              "      <th>b</th>\n",
              "      <th>d</th>\n",
              "      <th>e</th>\n",
              "    </tr>\n",
              "  </thead>\n",
              "  <tbody>\n",
              "    <tr>\n",
              "      <th>Utah</th>\n",
              "      <td>-1.180385</td>\n",
              "      <td>-1.225518</td>\n",
              "      <td>0.629109</td>\n",
              "    </tr>\n",
              "    <tr>\n",
              "      <th>Ohio</th>\n",
              "      <td>0.195879</td>\n",
              "      <td>-0.755781</td>\n",
              "      <td>0.391928</td>\n",
              "    </tr>\n",
              "    <tr>\n",
              "      <th>Texas</th>\n",
              "      <td>0.338212</td>\n",
              "      <td>0.285092</td>\n",
              "      <td>0.662945</td>\n",
              "    </tr>\n",
              "    <tr>\n",
              "      <th>Oregon</th>\n",
              "      <td>-0.571896</td>\n",
              "      <td>-1.410809</td>\n",
              "      <td>-0.179497</td>\n",
              "    </tr>\n",
              "  </tbody>\n",
              "</table>\n",
              "</div>"
            ],
            "text/plain": [
              "               b         d         e\n",
              "Utah   -1.180385 -1.225518  0.629109\n",
              "Ohio    0.195879 -0.755781  0.391928\n",
              "Texas   0.338212  0.285092  0.662945\n",
              "Oregon -0.571896 -1.410809 -0.179497"
            ]
          },
          "metadata": {},
          "execution_count": 185
        }
      ]
    },
    {
      "cell_type": "code",
      "metadata": {
        "colab": {
          "base_uri": "https://localhost:8080/",
          "height": 173
        },
        "id": "pcKudu3MfT5j",
        "outputId": "9f73b8de-2941-4079-a1ce-aa205fb113b9"
      },
      "source": [
        "np.abs(frame)"
      ],
      "execution_count": 186,
      "outputs": [
        {
          "output_type": "execute_result",
          "data": {
            "text/html": [
              "<div>\n",
              "<style scoped>\n",
              "    .dataframe tbody tr th:only-of-type {\n",
              "        vertical-align: middle;\n",
              "    }\n",
              "\n",
              "    .dataframe tbody tr th {\n",
              "        vertical-align: top;\n",
              "    }\n",
              "\n",
              "    .dataframe thead th {\n",
              "        text-align: right;\n",
              "    }\n",
              "</style>\n",
              "<table border=\"1\" class=\"dataframe\">\n",
              "  <thead>\n",
              "    <tr style=\"text-align: right;\">\n",
              "      <th></th>\n",
              "      <th>b</th>\n",
              "      <th>d</th>\n",
              "      <th>e</th>\n",
              "    </tr>\n",
              "  </thead>\n",
              "  <tbody>\n",
              "    <tr>\n",
              "      <th>Utah</th>\n",
              "      <td>1.180385</td>\n",
              "      <td>1.225518</td>\n",
              "      <td>0.629109</td>\n",
              "    </tr>\n",
              "    <tr>\n",
              "      <th>Ohio</th>\n",
              "      <td>0.195879</td>\n",
              "      <td>0.755781</td>\n",
              "      <td>0.391928</td>\n",
              "    </tr>\n",
              "    <tr>\n",
              "      <th>Texas</th>\n",
              "      <td>0.338212</td>\n",
              "      <td>0.285092</td>\n",
              "      <td>0.662945</td>\n",
              "    </tr>\n",
              "    <tr>\n",
              "      <th>Oregon</th>\n",
              "      <td>0.571896</td>\n",
              "      <td>1.410809</td>\n",
              "      <td>0.179497</td>\n",
              "    </tr>\n",
              "  </tbody>\n",
              "</table>\n",
              "</div>"
            ],
            "text/plain": [
              "               b         d         e\n",
              "Utah    1.180385  1.225518  0.629109\n",
              "Ohio    0.195879  0.755781  0.391928\n",
              "Texas   0.338212  0.285092  0.662945\n",
              "Oregon  0.571896  1.410809  0.179497"
            ]
          },
          "metadata": {},
          "execution_count": 186
        }
      ]
    },
    {
      "cell_type": "markdown",
      "metadata": {
        "id": "hnj3q0mbfV-z"
      },
      "source": [
        "Another frequent operation is **applying a function on one-dimensional arrays to each column or row.** DataFrame’ apply method does exactly this:"
      ]
    },
    {
      "cell_type": "code",
      "metadata": {
        "id": "-3xjPymYfa9M"
      },
      "source": [
        "f = lambda x: x.max() - x.min()"
      ],
      "execution_count": 187,
      "outputs": []
    },
    {
      "cell_type": "code",
      "metadata": {
        "colab": {
          "base_uri": "https://localhost:8080/"
        },
        "id": "eNCPVVUGfhC2",
        "outputId": "8ea9ce00-4d98-46a4-8570-2930a9ac5d87"
      },
      "source": [
        "frame.apply(f)"
      ],
      "execution_count": 188,
      "outputs": [
        {
          "output_type": "execute_result",
          "data": {
            "text/plain": [
              "b    1.518598\n",
              "d    1.695901\n",
              "e    0.842442\n",
              "dtype: float64"
            ]
          },
          "metadata": {},
          "execution_count": 188
        }
      ]
    },
    {
      "cell_type": "markdown",
      "metadata": {
        "id": "XV4upq7jfqEc"
      },
      "source": [
        "Here the function f, which computes the difference between the maximum and minimum of a Series, is invoked once on each column in frame\n",
        "\n",
        "The result is a Series having the columns of frame as its index\n",
        "\n",
        "If you pass axis='columns' to apply, the function will be invoked once per row instead:"
      ]
    },
    {
      "cell_type": "code",
      "metadata": {
        "colab": {
          "base_uri": "https://localhost:8080/"
        },
        "id": "S6DjoSIVf4Ih",
        "outputId": "db4ff485-d1df-4c50-9411-9f99f3386cc6"
      },
      "source": [
        "frame.apply(f, axis='columns')"
      ],
      "execution_count": 189,
      "outputs": [
        {
          "output_type": "execute_result",
          "data": {
            "text/plain": [
              "Utah      1.854626\n",
              "Ohio      1.147710\n",
              "Texas     0.377853\n",
              "Oregon    1.231311\n",
              "dtype: float64"
            ]
          },
          "metadata": {},
          "execution_count": 189
        }
      ]
    },
    {
      "cell_type": "markdown",
      "metadata": {
        "id": "D8h7s2ssf8Sf"
      },
      "source": [
        "Many of the most common array statistics (like sum and mean) are DataFrame methods, so using apply is not necessary\n",
        "\n",
        "The function passed to apply need not return a scalar value; it can also return a Series with multiple values:"
      ]
    },
    {
      "cell_type": "code",
      "metadata": {
        "id": "HFPUnpCmgETx"
      },
      "source": [
        "def f(x):\n",
        "  return pd.Series([x.min(), x.max()], index=['min', 'max'])"
      ],
      "execution_count": 190,
      "outputs": []
    },
    {
      "cell_type": "code",
      "metadata": {
        "colab": {
          "base_uri": "https://localhost:8080/",
          "height": 111
        },
        "id": "uIloRFLFgJWv",
        "outputId": "14b9c444-f5df-453c-af08-06a96da33a86"
      },
      "source": [
        "frame.apply(f)"
      ],
      "execution_count": 191,
      "outputs": [
        {
          "output_type": "execute_result",
          "data": {
            "text/html": [
              "<div>\n",
              "<style scoped>\n",
              "    .dataframe tbody tr th:only-of-type {\n",
              "        vertical-align: middle;\n",
              "    }\n",
              "\n",
              "    .dataframe tbody tr th {\n",
              "        vertical-align: top;\n",
              "    }\n",
              "\n",
              "    .dataframe thead th {\n",
              "        text-align: right;\n",
              "    }\n",
              "</style>\n",
              "<table border=\"1\" class=\"dataframe\">\n",
              "  <thead>\n",
              "    <tr style=\"text-align: right;\">\n",
              "      <th></th>\n",
              "      <th>b</th>\n",
              "      <th>d</th>\n",
              "      <th>e</th>\n",
              "    </tr>\n",
              "  </thead>\n",
              "  <tbody>\n",
              "    <tr>\n",
              "      <th>min</th>\n",
              "      <td>-1.180385</td>\n",
              "      <td>-1.410809</td>\n",
              "      <td>-0.179497</td>\n",
              "    </tr>\n",
              "    <tr>\n",
              "      <th>max</th>\n",
              "      <td>0.338212</td>\n",
              "      <td>0.285092</td>\n",
              "      <td>0.662945</td>\n",
              "    </tr>\n",
              "  </tbody>\n",
              "</table>\n",
              "</div>"
            ],
            "text/plain": [
              "            b         d         e\n",
              "min -1.180385 -1.410809 -0.179497\n",
              "max  0.338212  0.285092  0.662945"
            ]
          },
          "metadata": {},
          "execution_count": 191
        }
      ]
    },
    {
      "cell_type": "markdown",
      "metadata": {
        "id": "v4E6nI16gogV"
      },
      "source": [
        "Element-wise Python functions can be used, too. Suppose you wanted to **compute a formatted string from each floating-point value in frame**\n",
        "\n",
        "You can do this with apply map:\n",
        "\n",
        "\n"
      ]
    },
    {
      "cell_type": "code",
      "metadata": {
        "id": "qH_oebrtgzTH"
      },
      "source": [
        "format = lambda x: '%.2f' % x"
      ],
      "execution_count": 192,
      "outputs": []
    },
    {
      "cell_type": "code",
      "metadata": {
        "colab": {
          "base_uri": "https://localhost:8080/",
          "height": 173
        },
        "id": "4E3ROYMFg3F9",
        "outputId": "1410001e-d16e-445e-9f11-755314ea1bf8"
      },
      "source": [
        "frame.applymap(format)"
      ],
      "execution_count": 193,
      "outputs": [
        {
          "output_type": "execute_result",
          "data": {
            "text/html": [
              "<div>\n",
              "<style scoped>\n",
              "    .dataframe tbody tr th:only-of-type {\n",
              "        vertical-align: middle;\n",
              "    }\n",
              "\n",
              "    .dataframe tbody tr th {\n",
              "        vertical-align: top;\n",
              "    }\n",
              "\n",
              "    .dataframe thead th {\n",
              "        text-align: right;\n",
              "    }\n",
              "</style>\n",
              "<table border=\"1\" class=\"dataframe\">\n",
              "  <thead>\n",
              "    <tr style=\"text-align: right;\">\n",
              "      <th></th>\n",
              "      <th>b</th>\n",
              "      <th>d</th>\n",
              "      <th>e</th>\n",
              "    </tr>\n",
              "  </thead>\n",
              "  <tbody>\n",
              "    <tr>\n",
              "      <th>Utah</th>\n",
              "      <td>-1.18</td>\n",
              "      <td>-1.23</td>\n",
              "      <td>0.63</td>\n",
              "    </tr>\n",
              "    <tr>\n",
              "      <th>Ohio</th>\n",
              "      <td>0.20</td>\n",
              "      <td>-0.76</td>\n",
              "      <td>0.39</td>\n",
              "    </tr>\n",
              "    <tr>\n",
              "      <th>Texas</th>\n",
              "      <td>0.34</td>\n",
              "      <td>0.29</td>\n",
              "      <td>0.66</td>\n",
              "    </tr>\n",
              "    <tr>\n",
              "      <th>Oregon</th>\n",
              "      <td>-0.57</td>\n",
              "      <td>-1.41</td>\n",
              "      <td>-0.18</td>\n",
              "    </tr>\n",
              "  </tbody>\n",
              "</table>\n",
              "</div>"
            ],
            "text/plain": [
              "            b      d      e\n",
              "Utah    -1.18  -1.23   0.63\n",
              "Ohio     0.20  -0.76   0.39\n",
              "Texas    0.34   0.29   0.66\n",
              "Oregon  -0.57  -1.41  -0.18"
            ]
          },
          "metadata": {},
          "execution_count": 193
        }
      ]
    },
    {
      "cell_type": "markdown",
      "metadata": {
        "id": "YD2QuSh4g_5o"
      },
      "source": [
        "The reason for the name applymap is that **Series has a map method for applying an element-wise function:**"
      ]
    },
    {
      "cell_type": "code",
      "metadata": {
        "colab": {
          "base_uri": "https://localhost:8080/"
        },
        "id": "DSJkSEROhCsW",
        "outputId": "9c4c1208-7998-486f-9c0f-c31fe1ac5288"
      },
      "source": [
        "frame['e'].map(format)"
      ],
      "execution_count": 194,
      "outputs": [
        {
          "output_type": "execute_result",
          "data": {
            "text/plain": [
              "Utah       0.63\n",
              "Ohio       0.39\n",
              "Texas      0.66\n",
              "Oregon    -0.18\n",
              "Name: e, dtype: object"
            ]
          },
          "metadata": {},
          "execution_count": 194
        }
      ]
    },
    {
      "cell_type": "markdown",
      "metadata": {
        "id": "VCDVe7eShItj"
      },
      "source": [
        "## Sorting and Ranking"
      ]
    },
    {
      "cell_type": "markdown",
      "metadata": {
        "id": "-fpFx5IwhKgf"
      },
      "source": [
        "Sorting a dataset by some criterion is another important built-in operation\n",
        "\n",
        "**To sort lexicographically by row or column index, use the sort_index method, which returns a new, sorted object:**"
      ]
    },
    {
      "cell_type": "code",
      "metadata": {
        "id": "8ADhmBrzhl6D"
      },
      "source": [
        "obj = pd.Series(range(4), index=['d', 'a', 'b', 'c'])"
      ],
      "execution_count": 195,
      "outputs": []
    },
    {
      "cell_type": "code",
      "metadata": {
        "colab": {
          "base_uri": "https://localhost:8080/"
        },
        "id": "cKij5T97hq4P",
        "outputId": "250b9a6e-7efd-4dd7-c81b-65e9ec902ca2"
      },
      "source": [
        "obj"
      ],
      "execution_count": 196,
      "outputs": [
        {
          "output_type": "execute_result",
          "data": {
            "text/plain": [
              "d    0\n",
              "a    1\n",
              "b    2\n",
              "c    3\n",
              "dtype: int64"
            ]
          },
          "metadata": {},
          "execution_count": 196
        }
      ]
    },
    {
      "cell_type": "code",
      "metadata": {
        "colab": {
          "base_uri": "https://localhost:8080/"
        },
        "id": "P5B89TpihpcQ",
        "outputId": "c6141640-952f-4c0c-d9c5-0569405564eb"
      },
      "source": [
        "obj.sort_index()"
      ],
      "execution_count": 197,
      "outputs": [
        {
          "output_type": "execute_result",
          "data": {
            "text/plain": [
              "a    1\n",
              "b    2\n",
              "c    3\n",
              "d    0\n",
              "dtype: int64"
            ]
          },
          "metadata": {},
          "execution_count": 197
        }
      ]
    },
    {
      "cell_type": "markdown",
      "metadata": {
        "id": "7pjH-bZ9h9aA"
      },
      "source": [
        "With a DataFrame, you can sort by index on either axis:"
      ]
    },
    {
      "cell_type": "code",
      "metadata": {
        "id": "o7QcJQJfh_Aq"
      },
      "source": [
        "frame = pd.DataFrame(np.arange(8).reshape((2, 4)),\n",
        "                     index=['three', 'one'],\n",
        "                     columns=['d', 'a', 'b', 'c'])"
      ],
      "execution_count": 198,
      "outputs": []
    },
    {
      "cell_type": "code",
      "metadata": {
        "colab": {
          "base_uri": "https://localhost:8080/",
          "height": 111
        },
        "id": "mYhaMSNHiHoW",
        "outputId": "90028d7b-2317-4bae-d2fa-ab7434a40655"
      },
      "source": [
        "frame.sort_index()"
      ],
      "execution_count": 199,
      "outputs": [
        {
          "output_type": "execute_result",
          "data": {
            "text/html": [
              "<div>\n",
              "<style scoped>\n",
              "    .dataframe tbody tr th:only-of-type {\n",
              "        vertical-align: middle;\n",
              "    }\n",
              "\n",
              "    .dataframe tbody tr th {\n",
              "        vertical-align: top;\n",
              "    }\n",
              "\n",
              "    .dataframe thead th {\n",
              "        text-align: right;\n",
              "    }\n",
              "</style>\n",
              "<table border=\"1\" class=\"dataframe\">\n",
              "  <thead>\n",
              "    <tr style=\"text-align: right;\">\n",
              "      <th></th>\n",
              "      <th>d</th>\n",
              "      <th>a</th>\n",
              "      <th>b</th>\n",
              "      <th>c</th>\n",
              "    </tr>\n",
              "  </thead>\n",
              "  <tbody>\n",
              "    <tr>\n",
              "      <th>one</th>\n",
              "      <td>4</td>\n",
              "      <td>5</td>\n",
              "      <td>6</td>\n",
              "      <td>7</td>\n",
              "    </tr>\n",
              "    <tr>\n",
              "      <th>three</th>\n",
              "      <td>0</td>\n",
              "      <td>1</td>\n",
              "      <td>2</td>\n",
              "      <td>3</td>\n",
              "    </tr>\n",
              "  </tbody>\n",
              "</table>\n",
              "</div>"
            ],
            "text/plain": [
              "       d  a  b  c\n",
              "one    4  5  6  7\n",
              "three  0  1  2  3"
            ]
          },
          "metadata": {},
          "execution_count": 199
        }
      ]
    },
    {
      "cell_type": "code",
      "metadata": {
        "colab": {
          "base_uri": "https://localhost:8080/",
          "height": 111
        },
        "id": "pQgjoTPQiKG3",
        "outputId": "c500e50c-d07d-4feb-daae-3cc15b9adca9"
      },
      "source": [
        "frame.sort_index(axis=1)"
      ],
      "execution_count": 200,
      "outputs": [
        {
          "output_type": "execute_result",
          "data": {
            "text/html": [
              "<div>\n",
              "<style scoped>\n",
              "    .dataframe tbody tr th:only-of-type {\n",
              "        vertical-align: middle;\n",
              "    }\n",
              "\n",
              "    .dataframe tbody tr th {\n",
              "        vertical-align: top;\n",
              "    }\n",
              "\n",
              "    .dataframe thead th {\n",
              "        text-align: right;\n",
              "    }\n",
              "</style>\n",
              "<table border=\"1\" class=\"dataframe\">\n",
              "  <thead>\n",
              "    <tr style=\"text-align: right;\">\n",
              "      <th></th>\n",
              "      <th>a</th>\n",
              "      <th>b</th>\n",
              "      <th>c</th>\n",
              "      <th>d</th>\n",
              "    </tr>\n",
              "  </thead>\n",
              "  <tbody>\n",
              "    <tr>\n",
              "      <th>three</th>\n",
              "      <td>1</td>\n",
              "      <td>2</td>\n",
              "      <td>3</td>\n",
              "      <td>0</td>\n",
              "    </tr>\n",
              "    <tr>\n",
              "      <th>one</th>\n",
              "      <td>5</td>\n",
              "      <td>6</td>\n",
              "      <td>7</td>\n",
              "      <td>4</td>\n",
              "    </tr>\n",
              "  </tbody>\n",
              "</table>\n",
              "</div>"
            ],
            "text/plain": [
              "       a  b  c  d\n",
              "three  1  2  3  0\n",
              "one    5  6  7  4"
            ]
          },
          "metadata": {},
          "execution_count": 200
        }
      ]
    },
    {
      "cell_type": "markdown",
      "metadata": {
        "id": "SAYhA82jiUyr"
      },
      "source": [
        "The data is sorted in ascending order by default, but can be sorted in descending order, too:"
      ]
    },
    {
      "cell_type": "code",
      "metadata": {
        "colab": {
          "base_uri": "https://localhost:8080/",
          "height": 111
        },
        "id": "In-tVYjYimQE",
        "outputId": "77a0ba1c-9f3d-4d16-ed3e-1ef54a97dab7"
      },
      "source": [
        "frame.sort_index(axis=1, ascending=False)"
      ],
      "execution_count": 201,
      "outputs": [
        {
          "output_type": "execute_result",
          "data": {
            "text/html": [
              "<div>\n",
              "<style scoped>\n",
              "    .dataframe tbody tr th:only-of-type {\n",
              "        vertical-align: middle;\n",
              "    }\n",
              "\n",
              "    .dataframe tbody tr th {\n",
              "        vertical-align: top;\n",
              "    }\n",
              "\n",
              "    .dataframe thead th {\n",
              "        text-align: right;\n",
              "    }\n",
              "</style>\n",
              "<table border=\"1\" class=\"dataframe\">\n",
              "  <thead>\n",
              "    <tr style=\"text-align: right;\">\n",
              "      <th></th>\n",
              "      <th>d</th>\n",
              "      <th>c</th>\n",
              "      <th>b</th>\n",
              "      <th>a</th>\n",
              "    </tr>\n",
              "  </thead>\n",
              "  <tbody>\n",
              "    <tr>\n",
              "      <th>three</th>\n",
              "      <td>0</td>\n",
              "      <td>3</td>\n",
              "      <td>2</td>\n",
              "      <td>1</td>\n",
              "    </tr>\n",
              "    <tr>\n",
              "      <th>one</th>\n",
              "      <td>4</td>\n",
              "      <td>7</td>\n",
              "      <td>6</td>\n",
              "      <td>5</td>\n",
              "    </tr>\n",
              "  </tbody>\n",
              "</table>\n",
              "</div>"
            ],
            "text/plain": [
              "       d  c  b  a\n",
              "three  0  3  2  1\n",
              "one    4  7  6  5"
            ]
          },
          "metadata": {},
          "execution_count": 201
        }
      ]
    },
    {
      "cell_type": "markdown",
      "metadata": {
        "id": "TGu3SXf6irYo"
      },
      "source": [
        "To sort a Series by its values, use its sort_values method:"
      ]
    },
    {
      "cell_type": "code",
      "metadata": {
        "id": "4Oevg9bMip8k"
      },
      "source": [
        "obj = pd.Series([4, 7, -3, 2])"
      ],
      "execution_count": 202,
      "outputs": []
    },
    {
      "cell_type": "code",
      "metadata": {
        "colab": {
          "base_uri": "https://localhost:8080/"
        },
        "id": "Dgm3Le0iitFb",
        "outputId": "193f64fc-d3e8-4c88-c2fb-3bfca56367fd"
      },
      "source": [
        "obj.sort_values()"
      ],
      "execution_count": 203,
      "outputs": [
        {
          "output_type": "execute_result",
          "data": {
            "text/plain": [
              "2   -3\n",
              "3    2\n",
              "0    4\n",
              "1    7\n",
              "dtype: int64"
            ]
          },
          "metadata": {},
          "execution_count": 203
        }
      ]
    },
    {
      "cell_type": "markdown",
      "metadata": {
        "id": "iWS-QbRKi2v4"
      },
      "source": [
        "**Any missing values are sorted to the end of the Series by default:**"
      ]
    },
    {
      "cell_type": "code",
      "metadata": {
        "id": "757kICpGi4tw"
      },
      "source": [
        "obj = pd.Series([4, np.nan, 7, np.nan, -3, 2])"
      ],
      "execution_count": 204,
      "outputs": []
    },
    {
      "cell_type": "code",
      "metadata": {
        "colab": {
          "base_uri": "https://localhost:8080/"
        },
        "id": "zVHUPGXxi8e7",
        "outputId": "bd352451-4808-4847-cf0f-b1776e7d9ffc"
      },
      "source": [
        "obj.sort_values()"
      ],
      "execution_count": 205,
      "outputs": [
        {
          "output_type": "execute_result",
          "data": {
            "text/plain": [
              "4   -3.0\n",
              "5    2.0\n",
              "0    4.0\n",
              "2    7.0\n",
              "1    NaN\n",
              "3    NaN\n",
              "dtype: float64"
            ]
          },
          "metadata": {},
          "execution_count": 205
        }
      ]
    },
    {
      "cell_type": "markdown",
      "metadata": {
        "id": "eshJS7Pni_GI"
      },
      "source": [
        "**When sorting a DataFrame, you can use the data in one or more columns as the sort keys**\n",
        "\n",
        "To do so, **pass one or more column names to the by option of sort_values:**"
      ]
    },
    {
      "cell_type": "code",
      "metadata": {
        "id": "DeGjsF9ujZu2"
      },
      "source": [
        "frame = pd.DataFrame({'b': [4, 7, -3, 2], 'a': [0, 1, 0, 1]})"
      ],
      "execution_count": 206,
      "outputs": []
    },
    {
      "cell_type": "code",
      "metadata": {
        "colab": {
          "base_uri": "https://localhost:8080/",
          "height": 173
        },
        "id": "Ax8MWq--jfW_",
        "outputId": "dbf2ce25-983a-4ac0-da6c-3a89478b195c"
      },
      "source": [
        "frame"
      ],
      "execution_count": 207,
      "outputs": [
        {
          "output_type": "execute_result",
          "data": {
            "text/html": [
              "<div>\n",
              "<style scoped>\n",
              "    .dataframe tbody tr th:only-of-type {\n",
              "        vertical-align: middle;\n",
              "    }\n",
              "\n",
              "    .dataframe tbody tr th {\n",
              "        vertical-align: top;\n",
              "    }\n",
              "\n",
              "    .dataframe thead th {\n",
              "        text-align: right;\n",
              "    }\n",
              "</style>\n",
              "<table border=\"1\" class=\"dataframe\">\n",
              "  <thead>\n",
              "    <tr style=\"text-align: right;\">\n",
              "      <th></th>\n",
              "      <th>b</th>\n",
              "      <th>a</th>\n",
              "    </tr>\n",
              "  </thead>\n",
              "  <tbody>\n",
              "    <tr>\n",
              "      <th>0</th>\n",
              "      <td>4</td>\n",
              "      <td>0</td>\n",
              "    </tr>\n",
              "    <tr>\n",
              "      <th>1</th>\n",
              "      <td>7</td>\n",
              "      <td>1</td>\n",
              "    </tr>\n",
              "    <tr>\n",
              "      <th>2</th>\n",
              "      <td>-3</td>\n",
              "      <td>0</td>\n",
              "    </tr>\n",
              "    <tr>\n",
              "      <th>3</th>\n",
              "      <td>2</td>\n",
              "      <td>1</td>\n",
              "    </tr>\n",
              "  </tbody>\n",
              "</table>\n",
              "</div>"
            ],
            "text/plain": [
              "   b  a\n",
              "0  4  0\n",
              "1  7  1\n",
              "2 -3  0\n",
              "3  2  1"
            ]
          },
          "metadata": {},
          "execution_count": 207
        }
      ]
    },
    {
      "cell_type": "code",
      "metadata": {
        "colab": {
          "base_uri": "https://localhost:8080/",
          "height": 173
        },
        "id": "QUnl_HqPjhQw",
        "outputId": "26ccb2e0-ef40-4f27-826e-7a1f3385ae64"
      },
      "source": [
        "frame.sort_values(by='b')"
      ],
      "execution_count": 208,
      "outputs": [
        {
          "output_type": "execute_result",
          "data": {
            "text/html": [
              "<div>\n",
              "<style scoped>\n",
              "    .dataframe tbody tr th:only-of-type {\n",
              "        vertical-align: middle;\n",
              "    }\n",
              "\n",
              "    .dataframe tbody tr th {\n",
              "        vertical-align: top;\n",
              "    }\n",
              "\n",
              "    .dataframe thead th {\n",
              "        text-align: right;\n",
              "    }\n",
              "</style>\n",
              "<table border=\"1\" class=\"dataframe\">\n",
              "  <thead>\n",
              "    <tr style=\"text-align: right;\">\n",
              "      <th></th>\n",
              "      <th>b</th>\n",
              "      <th>a</th>\n",
              "    </tr>\n",
              "  </thead>\n",
              "  <tbody>\n",
              "    <tr>\n",
              "      <th>2</th>\n",
              "      <td>-3</td>\n",
              "      <td>0</td>\n",
              "    </tr>\n",
              "    <tr>\n",
              "      <th>3</th>\n",
              "      <td>2</td>\n",
              "      <td>1</td>\n",
              "    </tr>\n",
              "    <tr>\n",
              "      <th>0</th>\n",
              "      <td>4</td>\n",
              "      <td>0</td>\n",
              "    </tr>\n",
              "    <tr>\n",
              "      <th>1</th>\n",
              "      <td>7</td>\n",
              "      <td>1</td>\n",
              "    </tr>\n",
              "  </tbody>\n",
              "</table>\n",
              "</div>"
            ],
            "text/plain": [
              "   b  a\n",
              "2 -3  0\n",
              "3  2  1\n",
              "0  4  0\n",
              "1  7  1"
            ]
          },
          "metadata": {},
          "execution_count": 208
        }
      ]
    },
    {
      "cell_type": "markdown",
      "metadata": {
        "id": "bFqscFtejnbR"
      },
      "source": [
        "To sort by multiple columns, pass a list of names:"
      ]
    },
    {
      "cell_type": "code",
      "metadata": {
        "colab": {
          "base_uri": "https://localhost:8080/",
          "height": 173
        },
        "id": "aYtyEczSjnPX",
        "outputId": "2aa214ad-eb43-40d2-d423-2231ff86fdd0"
      },
      "source": [
        "frame.sort_values(by=['b', 'a'])"
      ],
      "execution_count": 209,
      "outputs": [
        {
          "output_type": "execute_result",
          "data": {
            "text/html": [
              "<div>\n",
              "<style scoped>\n",
              "    .dataframe tbody tr th:only-of-type {\n",
              "        vertical-align: middle;\n",
              "    }\n",
              "\n",
              "    .dataframe tbody tr th {\n",
              "        vertical-align: top;\n",
              "    }\n",
              "\n",
              "    .dataframe thead th {\n",
              "        text-align: right;\n",
              "    }\n",
              "</style>\n",
              "<table border=\"1\" class=\"dataframe\">\n",
              "  <thead>\n",
              "    <tr style=\"text-align: right;\">\n",
              "      <th></th>\n",
              "      <th>b</th>\n",
              "      <th>a</th>\n",
              "    </tr>\n",
              "  </thead>\n",
              "  <tbody>\n",
              "    <tr>\n",
              "      <th>2</th>\n",
              "      <td>-3</td>\n",
              "      <td>0</td>\n",
              "    </tr>\n",
              "    <tr>\n",
              "      <th>3</th>\n",
              "      <td>2</td>\n",
              "      <td>1</td>\n",
              "    </tr>\n",
              "    <tr>\n",
              "      <th>0</th>\n",
              "      <td>4</td>\n",
              "      <td>0</td>\n",
              "    </tr>\n",
              "    <tr>\n",
              "      <th>1</th>\n",
              "      <td>7</td>\n",
              "      <td>1</td>\n",
              "    </tr>\n",
              "  </tbody>\n",
              "</table>\n",
              "</div>"
            ],
            "text/plain": [
              "   b  a\n",
              "2 -3  0\n",
              "3  2  1\n",
              "0  4  0\n",
              "1  7  1"
            ]
          },
          "metadata": {},
          "execution_count": 209
        }
      ]
    },
    {
      "cell_type": "markdown",
      "metadata": {
        "id": "Lt038AWCkK_O"
      },
      "source": [
        "**Ranking assigns ranks from one through the number of valid data points in an array**\n",
        "\n",
        "The rank methods for Series and DataFrame are the place to look; **by default rank breaks ties by assigning each group the mean rank:**"
      ]
    },
    {
      "cell_type": "code",
      "metadata": {
        "id": "xDWdMFEHMgOl"
      },
      "source": [
        "obj = pd.Series([7, -5, 7, 4, 2, 0, 4])"
      ],
      "execution_count": 210,
      "outputs": []
    },
    {
      "cell_type": "code",
      "metadata": {
        "colab": {
          "base_uri": "https://localhost:8080/"
        },
        "id": "0UxizuVqPjU_",
        "outputId": "b372e4f4-158e-4032-9169-4c831a29fc3e"
      },
      "source": [
        "obj.sort_values()"
      ],
      "execution_count": 211,
      "outputs": [
        {
          "output_type": "execute_result",
          "data": {
            "text/plain": [
              "1   -5\n",
              "5    0\n",
              "4    2\n",
              "3    4\n",
              "6    4\n",
              "0    7\n",
              "2    7\n",
              "dtype: int64"
            ]
          },
          "metadata": {},
          "execution_count": 211
        }
      ]
    },
    {
      "cell_type": "code",
      "metadata": {
        "colab": {
          "base_uri": "https://localhost:8080/"
        },
        "id": "6SR2lt_4MmxH",
        "outputId": "2cf482eb-8d98-4240-ec65-521c5541da65"
      },
      "source": [
        "obj.rank() # Number 7 (Index 0 and 2) = 6 + 7 / 2 = Rank 6.5 "
      ],
      "execution_count": 212,
      "outputs": [
        {
          "output_type": "execute_result",
          "data": {
            "text/plain": [
              "0    6.5\n",
              "1    1.0\n",
              "2    6.5\n",
              "3    4.5\n",
              "4    3.0\n",
              "5    2.0\n",
              "6    4.5\n",
              "dtype: float64"
            ]
          },
          "metadata": {},
          "execution_count": 212
        }
      ]
    },
    {
      "cell_type": "markdown",
      "metadata": {
        "id": "wm4CM2XoO0Zc"
      },
      "source": [
        "Ranks can also be assigned according to the order in which they’re observed in the data:"
      ]
    },
    {
      "cell_type": "code",
      "metadata": {
        "colab": {
          "base_uri": "https://localhost:8080/"
        },
        "id": "Uy7AuwkuO0ES",
        "outputId": "d894659e-44e1-4cd4-f0f9-ced1ce97dddc"
      },
      "source": [
        "obj.rank(method='first')"
      ],
      "execution_count": 213,
      "outputs": [
        {
          "output_type": "execute_result",
          "data": {
            "text/plain": [
              "0    6.0\n",
              "1    1.0\n",
              "2    7.0\n",
              "3    4.0\n",
              "4    3.0\n",
              "5    2.0\n",
              "6    5.0\n",
              "dtype: float64"
            ]
          },
          "metadata": {},
          "execution_count": 213
        }
      ]
    },
    {
      "cell_type": "markdown",
      "metadata": {
        "id": "igfjhjIYPCTn"
      },
      "source": [
        "Here, **instead of using the average rank 6.5 for the entries 0 and 2, they instead have been set to 6 and 7 because label 0 precedes label 2 in the data**\n",
        "\n",
        "You can rank in descending order, too:"
      ]
    },
    {
      "cell_type": "code",
      "metadata": {
        "colab": {
          "base_uri": "https://localhost:8080/"
        },
        "id": "YQ1bXEIVPOl1",
        "outputId": "9e1df530-bf05-4271-9980-a6d9bf01f6d7"
      },
      "source": [
        "obj.rank(ascending=False, method='max')"
      ],
      "execution_count": 214,
      "outputs": [
        {
          "output_type": "execute_result",
          "data": {
            "text/plain": [
              "0    2.0\n",
              "1    7.0\n",
              "2    2.0\n",
              "3    4.0\n",
              "4    5.0\n",
              "5    6.0\n",
              "6    4.0\n",
              "dtype: float64"
            ]
          },
          "metadata": {},
          "execution_count": 214
        }
      ]
    },
    {
      "cell_type": "markdown",
      "metadata": {
        "id": "_fDiz7q2PTy2"
      },
      "source": [
        "DataFrame can compute ranks over the rows or the columns:"
      ]
    },
    {
      "cell_type": "code",
      "metadata": {
        "id": "bSTq1M2eRVQ1"
      },
      "source": [
        "frame = pd.DataFrame({'b': [4.3, 7, -3, 2], 'a': [0, 1, 0, 1],\n",
        "                      'c': [-2, 5, 7, -2.5]})"
      ],
      "execution_count": 215,
      "outputs": []
    },
    {
      "cell_type": "code",
      "metadata": {
        "colab": {
          "base_uri": "https://localhost:8080/",
          "height": 173
        },
        "id": "NoszCPTbR18l",
        "outputId": "557c686d-9b9d-4d12-e184-7d46ff8dfb18"
      },
      "source": [
        "frame"
      ],
      "execution_count": 216,
      "outputs": [
        {
          "output_type": "execute_result",
          "data": {
            "text/html": [
              "<div>\n",
              "<style scoped>\n",
              "    .dataframe tbody tr th:only-of-type {\n",
              "        vertical-align: middle;\n",
              "    }\n",
              "\n",
              "    .dataframe tbody tr th {\n",
              "        vertical-align: top;\n",
              "    }\n",
              "\n",
              "    .dataframe thead th {\n",
              "        text-align: right;\n",
              "    }\n",
              "</style>\n",
              "<table border=\"1\" class=\"dataframe\">\n",
              "  <thead>\n",
              "    <tr style=\"text-align: right;\">\n",
              "      <th></th>\n",
              "      <th>b</th>\n",
              "      <th>a</th>\n",
              "      <th>c</th>\n",
              "    </tr>\n",
              "  </thead>\n",
              "  <tbody>\n",
              "    <tr>\n",
              "      <th>0</th>\n",
              "      <td>4.3</td>\n",
              "      <td>0</td>\n",
              "      <td>-2.0</td>\n",
              "    </tr>\n",
              "    <tr>\n",
              "      <th>1</th>\n",
              "      <td>7.0</td>\n",
              "      <td>1</td>\n",
              "      <td>5.0</td>\n",
              "    </tr>\n",
              "    <tr>\n",
              "      <th>2</th>\n",
              "      <td>-3.0</td>\n",
              "      <td>0</td>\n",
              "      <td>7.0</td>\n",
              "    </tr>\n",
              "    <tr>\n",
              "      <th>3</th>\n",
              "      <td>2.0</td>\n",
              "      <td>1</td>\n",
              "      <td>-2.5</td>\n",
              "    </tr>\n",
              "  </tbody>\n",
              "</table>\n",
              "</div>"
            ],
            "text/plain": [
              "     b  a    c\n",
              "0  4.3  0 -2.0\n",
              "1  7.0  1  5.0\n",
              "2 -3.0  0  7.0\n",
              "3  2.0  1 -2.5"
            ]
          },
          "metadata": {},
          "execution_count": 216
        }
      ]
    },
    {
      "cell_type": "code",
      "metadata": {
        "colab": {
          "base_uri": "https://localhost:8080/",
          "height": 173
        },
        "id": "kjtlddzkR4HW",
        "outputId": "d3ffdafe-6229-48e5-fd52-43b290c62659"
      },
      "source": [
        "frame.rank(axis='columns')"
      ],
      "execution_count": 217,
      "outputs": [
        {
          "output_type": "execute_result",
          "data": {
            "text/html": [
              "<div>\n",
              "<style scoped>\n",
              "    .dataframe tbody tr th:only-of-type {\n",
              "        vertical-align: middle;\n",
              "    }\n",
              "\n",
              "    .dataframe tbody tr th {\n",
              "        vertical-align: top;\n",
              "    }\n",
              "\n",
              "    .dataframe thead th {\n",
              "        text-align: right;\n",
              "    }\n",
              "</style>\n",
              "<table border=\"1\" class=\"dataframe\">\n",
              "  <thead>\n",
              "    <tr style=\"text-align: right;\">\n",
              "      <th></th>\n",
              "      <th>b</th>\n",
              "      <th>a</th>\n",
              "      <th>c</th>\n",
              "    </tr>\n",
              "  </thead>\n",
              "  <tbody>\n",
              "    <tr>\n",
              "      <th>0</th>\n",
              "      <td>3.0</td>\n",
              "      <td>2.0</td>\n",
              "      <td>1.0</td>\n",
              "    </tr>\n",
              "    <tr>\n",
              "      <th>1</th>\n",
              "      <td>3.0</td>\n",
              "      <td>1.0</td>\n",
              "      <td>2.0</td>\n",
              "    </tr>\n",
              "    <tr>\n",
              "      <th>2</th>\n",
              "      <td>1.0</td>\n",
              "      <td>2.0</td>\n",
              "      <td>3.0</td>\n",
              "    </tr>\n",
              "    <tr>\n",
              "      <th>3</th>\n",
              "      <td>3.0</td>\n",
              "      <td>2.0</td>\n",
              "      <td>1.0</td>\n",
              "    </tr>\n",
              "  </tbody>\n",
              "</table>\n",
              "</div>"
            ],
            "text/plain": [
              "     b    a    c\n",
              "0  3.0  2.0  1.0\n",
              "1  3.0  1.0  2.0\n",
              "2  1.0  2.0  3.0\n",
              "3  3.0  2.0  1.0"
            ]
          },
          "metadata": {},
          "execution_count": 217
        }
      ]
    },
    {
      "cell_type": "markdown",
      "metadata": {
        "id": "yCCfxZCiSTE_"
      },
      "source": [
        "See Table 5-6 for a list of tie-breaking methods available"
      ]
    },
    {
      "cell_type": "markdown",
      "metadata": {
        "id": "IGwdvEo0SOgg"
      },
      "source": [
        "Table 5-6. Tie-breaking methods with rank\n",
        "<p align='center'>\n",
        "<img src='data:image/png;base64,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'>\n",
        "</p>"
      ]
    },
    {
      "cell_type": "markdown",
      "metadata": {
        "id": "fwMjLH_fSv5_"
      },
      "source": [
        "## Axis Indexes with Duplicate Labels"
      ]
    },
    {
      "cell_type": "markdown",
      "metadata": {
        "id": "a_RrQbRBSyjN"
      },
      "source": [
        "Up until now all of the examples we’ve looked at have had unique axis labels (index values)\n",
        "\n",
        "While many pandas functions (like reindex) require that the labels be unique, it’s not mandatory\n",
        "\n",
        "Let's consider a small Series with duplicate indices:"
      ]
    },
    {
      "cell_type": "code",
      "metadata": {
        "id": "IGva-93rTBIA"
      },
      "source": [
        "obj = pd.Series(range(5), index=['a', 'a', 'b', 'b', 'c'])"
      ],
      "execution_count": 218,
      "outputs": []
    },
    {
      "cell_type": "code",
      "metadata": {
        "colab": {
          "base_uri": "https://localhost:8080/"
        },
        "id": "C9iaf1WETHT2",
        "outputId": "9391c0a9-17c2-4fe6-9d36-a2262392854d"
      },
      "source": [
        "obj"
      ],
      "execution_count": 219,
      "outputs": [
        {
          "output_type": "execute_result",
          "data": {
            "text/plain": [
              "a    0\n",
              "a    1\n",
              "b    2\n",
              "b    3\n",
              "c    4\n",
              "dtype: int64"
            ]
          },
          "metadata": {},
          "execution_count": 219
        }
      ]
    },
    {
      "cell_type": "markdown",
      "metadata": {
        "id": "Svj5Vp5ETOGH"
      },
      "source": [
        "The index’ is_unique property can tell you whether its labels are unique or not:"
      ]
    },
    {
      "cell_type": "code",
      "metadata": {
        "colab": {
          "base_uri": "https://localhost:8080/"
        },
        "id": "3QfDWtZaTSSG",
        "outputId": "46f8f0d8-62af-49d6-e1d4-0ea8ec5bee4f"
      },
      "source": [
        "obj.index.is_unique"
      ],
      "execution_count": 220,
      "outputs": [
        {
          "output_type": "execute_result",
          "data": {
            "text/plain": [
              "False"
            ]
          },
          "metadata": {},
          "execution_count": 220
        }
      ]
    },
    {
      "cell_type": "markdown",
      "metadata": {
        "id": "1STD2hAUTVaE"
      },
      "source": [
        "Data selection is one of the main things that behaves differently with duplicates. Indexing a label with multiple entries returns a Series, while single entries return a scalar value:"
      ]
    },
    {
      "cell_type": "code",
      "metadata": {
        "colab": {
          "base_uri": "https://localhost:8080/"
        },
        "id": "VfOcJ9gMTUyE",
        "outputId": "550e7330-de89-471c-d6f7-a7710103ad06"
      },
      "source": [
        "obj['a']"
      ],
      "execution_count": 221,
      "outputs": [
        {
          "output_type": "execute_result",
          "data": {
            "text/plain": [
              "a    0\n",
              "a    1\n",
              "dtype: int64"
            ]
          },
          "metadata": {},
          "execution_count": 221
        }
      ]
    },
    {
      "cell_type": "code",
      "metadata": {
        "colab": {
          "base_uri": "https://localhost:8080/"
        },
        "id": "Z2N0zq3pTaPd",
        "outputId": "f28d4ede-bff7-4147-ae46-f90cc9d619dd"
      },
      "source": [
        "obj['c']"
      ],
      "execution_count": 222,
      "outputs": [
        {
          "output_type": "execute_result",
          "data": {
            "text/plain": [
              "4"
            ]
          },
          "metadata": {},
          "execution_count": 222
        }
      ]
    },
    {
      "cell_type": "markdown",
      "metadata": {
        "id": "HIqoTQvpTcUO"
      },
      "source": [
        "This can make your code more complicated, as the output type from indexing can vary based on whether a label is repeated or not\n",
        "\n",
        "The same logic extends to indexing rows in a DataFrame:"
      ]
    },
    {
      "cell_type": "code",
      "metadata": {
        "id": "yEBCPcRuTbvQ"
      },
      "source": [
        "df = pd.DataFrame(np.random.randn(4, 3), index=['a', 'a', 'b', 'b'])"
      ],
      "execution_count": 223,
      "outputs": []
    },
    {
      "cell_type": "code",
      "metadata": {
        "colab": {
          "base_uri": "https://localhost:8080/",
          "height": 173
        },
        "id": "byUBFRwYTpzl",
        "outputId": "2d520f0c-80be-4ec8-ac81-f1feec63325a"
      },
      "source": [
        "df"
      ],
      "execution_count": 224,
      "outputs": [
        {
          "output_type": "execute_result",
          "data": {
            "text/html": [
              "<div>\n",
              "<style scoped>\n",
              "    .dataframe tbody tr th:only-of-type {\n",
              "        vertical-align: middle;\n",
              "    }\n",
              "\n",
              "    .dataframe tbody tr th {\n",
              "        vertical-align: top;\n",
              "    }\n",
              "\n",
              "    .dataframe thead th {\n",
              "        text-align: right;\n",
              "    }\n",
              "</style>\n",
              "<table border=\"1\" class=\"dataframe\">\n",
              "  <thead>\n",
              "    <tr style=\"text-align: right;\">\n",
              "      <th></th>\n",
              "      <th>0</th>\n",
              "      <th>1</th>\n",
              "      <th>2</th>\n",
              "    </tr>\n",
              "  </thead>\n",
              "  <tbody>\n",
              "    <tr>\n",
              "      <th>a</th>\n",
              "      <td>0.363197</td>\n",
              "      <td>0.713520</td>\n",
              "      <td>0.997550</td>\n",
              "    </tr>\n",
              "    <tr>\n",
              "      <th>a</th>\n",
              "      <td>0.697521</td>\n",
              "      <td>1.544480</td>\n",
              "      <td>0.323171</td>\n",
              "    </tr>\n",
              "    <tr>\n",
              "      <th>b</th>\n",
              "      <td>-0.349299</td>\n",
              "      <td>-0.115164</td>\n",
              "      <td>-0.503092</td>\n",
              "    </tr>\n",
              "    <tr>\n",
              "      <th>b</th>\n",
              "      <td>-0.869821</td>\n",
              "      <td>0.344043</td>\n",
              "      <td>0.595767</td>\n",
              "    </tr>\n",
              "  </tbody>\n",
              "</table>\n",
              "</div>"
            ],
            "text/plain": [
              "          0         1         2\n",
              "a  0.363197  0.713520  0.997550\n",
              "a  0.697521  1.544480  0.323171\n",
              "b -0.349299 -0.115164 -0.503092\n",
              "b -0.869821  0.344043  0.595767"
            ]
          },
          "metadata": {},
          "execution_count": 224
        }
      ]
    },
    {
      "cell_type": "code",
      "metadata": {
        "colab": {
          "base_uri": "https://localhost:8080/",
          "height": 111
        },
        "id": "mHIN1As-TtDI",
        "outputId": "f7145be7-df6c-4bee-ccb1-a0e12ff0b0d8"
      },
      "source": [
        "df.loc['b']"
      ],
      "execution_count": 225,
      "outputs": [
        {
          "output_type": "execute_result",
          "data": {
            "text/html": [
              "<div>\n",
              "<style scoped>\n",
              "    .dataframe tbody tr th:only-of-type {\n",
              "        vertical-align: middle;\n",
              "    }\n",
              "\n",
              "    .dataframe tbody tr th {\n",
              "        vertical-align: top;\n",
              "    }\n",
              "\n",
              "    .dataframe thead th {\n",
              "        text-align: right;\n",
              "    }\n",
              "</style>\n",
              "<table border=\"1\" class=\"dataframe\">\n",
              "  <thead>\n",
              "    <tr style=\"text-align: right;\">\n",
              "      <th></th>\n",
              "      <th>0</th>\n",
              "      <th>1</th>\n",
              "      <th>2</th>\n",
              "    </tr>\n",
              "  </thead>\n",
              "  <tbody>\n",
              "    <tr>\n",
              "      <th>b</th>\n",
              "      <td>-0.349299</td>\n",
              "      <td>-0.115164</td>\n",
              "      <td>-0.503092</td>\n",
              "    </tr>\n",
              "    <tr>\n",
              "      <th>b</th>\n",
              "      <td>-0.869821</td>\n",
              "      <td>0.344043</td>\n",
              "      <td>0.595767</td>\n",
              "    </tr>\n",
              "  </tbody>\n",
              "</table>\n",
              "</div>"
            ],
            "text/plain": [
              "          0         1         2\n",
              "b -0.349299 -0.115164 -0.503092\n",
              "b -0.869821  0.344043  0.595767"
            ]
          },
          "metadata": {},
          "execution_count": 225
        }
      ]
    },
    {
      "cell_type": "markdown",
      "metadata": {
        "id": "06ccZtmTUHNx"
      },
      "source": [
        "# 5.3 Summarizing and Computing Descriptive Statistics"
      ]
    },
    {
      "cell_type": "markdown",
      "metadata": {
        "id": "izs9jmBNqXlC"
      },
      "source": [
        "pandas objects are equipped with a set of common mathematical and statistical methods\n",
        "\n",
        "Most of these fall into the category of reductions or summary statistics, methods that extract a single value (like the sum or mean) from a Series or a Series of values from the rows or columns of a DataFrame\n",
        "\n",
        "Compared with the similar methods found on NumPy arrays, they have **built-in handling for missing data.** Consider a small DataFrame:"
      ]
    },
    {
      "cell_type": "code",
      "metadata": {
        "id": "mbUYQ_axq1Lc"
      },
      "source": [
        "df = pd.DataFrame([[1.4, np.nan], [7.1, -4.5],\n",
        "                   [np.nan, np.nan], [0.75, -1.3]],\n",
        "                  index=['a', 'b', 'c', 'd'],\n",
        "                  columns=['one', 'two'])"
      ],
      "execution_count": 226,
      "outputs": []
    },
    {
      "cell_type": "code",
      "metadata": {
        "colab": {
          "base_uri": "https://localhost:8080/",
          "height": 173
        },
        "id": "7RRL8hIZrD3r",
        "outputId": "324fdbe8-9b23-46d8-e044-956a5b77cafb"
      },
      "source": [
        "df"
      ],
      "execution_count": 227,
      "outputs": [
        {
          "output_type": "execute_result",
          "data": {
            "text/html": [
              "<div>\n",
              "<style scoped>\n",
              "    .dataframe tbody tr th:only-of-type {\n",
              "        vertical-align: middle;\n",
              "    }\n",
              "\n",
              "    .dataframe tbody tr th {\n",
              "        vertical-align: top;\n",
              "    }\n",
              "\n",
              "    .dataframe thead th {\n",
              "        text-align: right;\n",
              "    }\n",
              "</style>\n",
              "<table border=\"1\" class=\"dataframe\">\n",
              "  <thead>\n",
              "    <tr style=\"text-align: right;\">\n",
              "      <th></th>\n",
              "      <th>one</th>\n",
              "      <th>two</th>\n",
              "    </tr>\n",
              "  </thead>\n",
              "  <tbody>\n",
              "    <tr>\n",
              "      <th>a</th>\n",
              "      <td>1.40</td>\n",
              "      <td>NaN</td>\n",
              "    </tr>\n",
              "    <tr>\n",
              "      <th>b</th>\n",
              "      <td>7.10</td>\n",
              "      <td>-4.5</td>\n",
              "    </tr>\n",
              "    <tr>\n",
              "      <th>c</th>\n",
              "      <td>NaN</td>\n",
              "      <td>NaN</td>\n",
              "    </tr>\n",
              "    <tr>\n",
              "      <th>d</th>\n",
              "      <td>0.75</td>\n",
              "      <td>-1.3</td>\n",
              "    </tr>\n",
              "  </tbody>\n",
              "</table>\n",
              "</div>"
            ],
            "text/plain": [
              "    one  two\n",
              "a  1.40  NaN\n",
              "b  7.10 -4.5\n",
              "c   NaN  NaN\n",
              "d  0.75 -1.3"
            ]
          },
          "metadata": {},
          "execution_count": 227
        }
      ]
    },
    {
      "cell_type": "markdown",
      "metadata": {
        "id": "riSGPPtPrFs0"
      },
      "source": [
        "Calling DataFrame’s sum method returns a Series containing column sums:"
      ]
    },
    {
      "cell_type": "code",
      "metadata": {
        "colab": {
          "base_uri": "https://localhost:8080/"
        },
        "id": "eN3duSK_rIw4",
        "outputId": "d1e1e40c-0bea-4adb-a403-ba11b4e19020"
      },
      "source": [
        "df.sum()"
      ],
      "execution_count": 228,
      "outputs": [
        {
          "output_type": "execute_result",
          "data": {
            "text/plain": [
              "one    9.25\n",
              "two   -5.80\n",
              "dtype: float64"
            ]
          },
          "metadata": {},
          "execution_count": 228
        }
      ]
    },
    {
      "cell_type": "markdown",
      "metadata": {
        "id": "sc14dO2vrN9b"
      },
      "source": [
        "Passing axis='columns' or axis=1 sums across the columns instead:"
      ]
    },
    {
      "cell_type": "code",
      "metadata": {
        "colab": {
          "base_uri": "https://localhost:8080/"
        },
        "id": "b_WduOw1rNnB",
        "outputId": "02eb8168-cf9c-4474-8e01-c8d3fce6cd64"
      },
      "source": [
        "df.sum(axis='columns')"
      ],
      "execution_count": 229,
      "outputs": [
        {
          "output_type": "execute_result",
          "data": {
            "text/plain": [
              "a    1.40\n",
              "b    2.60\n",
              "c    0.00\n",
              "d   -0.55\n",
              "dtype: float64"
            ]
          },
          "metadata": {},
          "execution_count": 229
        }
      ]
    },
    {
      "cell_type": "markdown",
      "metadata": {
        "id": "KxZEtw6-rZX-"
      },
      "source": [
        "NA values are excluded unless the entire slice (row or column in this case) is NA\n",
        "\n",
        "This can be disabled with the skipna option:"
      ]
    },
    {
      "cell_type": "code",
      "metadata": {
        "colab": {
          "base_uri": "https://localhost:8080/"
        },
        "id": "cuNp6uZ9rZC1",
        "outputId": "675cea50-cb7c-4c3a-81ef-992cf6fd3c17"
      },
      "source": [
        "df.mean(axis='columns', skipna=False)"
      ],
      "execution_count": 230,
      "outputs": [
        {
          "output_type": "execute_result",
          "data": {
            "text/plain": [
              "a      NaN\n",
              "b    1.300\n",
              "c      NaN\n",
              "d   -0.275\n",
              "dtype: float64"
            ]
          },
          "metadata": {},
          "execution_count": 230
        }
      ]
    },
    {
      "cell_type": "markdown",
      "metadata": {
        "id": "5wnkbtSKrnkp"
      },
      "source": [
        "See Table 5-7 for a list of common options for each reduction method\n",
        "<p align='center'>\n",
        "<img src='data:image/png;base64,iVBORw0KGgoAAAANSUhEUgAAAbwAAABtCAYAAADapdThAAAgAElEQVR4Ae1971Ncx5nu+QPOl/nIB8pUJlM1W6UywbpsBYXoit1CJa/qgsqslpXQZUEVLbhsLXYcS/FeI3tj8I0zThTYeFHspWJz7WiUeK6cYF9jRzgGZ0GyxtbICEtIAsSvESAhMR5GIGY4z63u0z3T58yZYRgEEtBUSXPOnP7x9tNvv0/32++ZViD/JAISAYmAREAisAEQUDZAG2UTJQISAYmAREAiAEl4UgkkAhIBiYBEYEMgIAlvQ3SzbKREQCIgEZAISMKTOiARkAhIBCQCGwIBSXgboptlIyUCEgGJgEQgIeGde+hhyH8SA6kDUgekDkgdWKs6YKZ4SXiS2OXERuqA1AGpA+tSByThScVel4q9VmegUm65epI6sHI6IAlPEp4kPKkDUgekDmwIHZCEJxV9Qyi6nDWv3KxZYiuxXSs6IAlPEp4kPKkDUgekDmwIHZCEJxV9Qyj6WpmBSjnlaknqwMrpwL0hvAN/xBwpSbuG6+V5zIBWYvTyLIAw5t774RKN6i5c+2IGwAymf7FriXk5WN/DpfdG0qyfl2H+fBLXR+ZjmIVvYeaTY7j0yHfSlNFcvvn+b9H33hC08BDGD/7t0ur4q0MYH5uFNtaKvr8ylyvvpVGROiB1YOPpQMx461fpvZbACQ938M3r/1M3zFsaMT2nERbEwulX4Uu2kvr2AVz7qAdzt7sx+DDphAeV8H6I8ethAAHMfNqBaX8IQATh07/EV8nal/azJRBeWSMmv/JjnmMtCW9pE4S0+2jjGQ1JFLLP16oO3BPC8/30cyzQkjRE/vK/dXL70SnwtZD2RUNywvtOA6YJj4S/xLXvrAXCG8H4ge/h3N/8O6bvaMBCH0aL/vq+GljfL74EnV4shrU07Pe1n9aqoZByS5JbDzpwbwiPGVta2OSH6PvWd9H7Tn+07Cjhfesf0f9+H+bDxDTfxZz3TVz674062UVTExdoPXNpzuPu6AQiJHl4BDeeZ+7NR57E0F+G9e95OdSt+B2c/9FJhIIRAPMIB+/eY5cmX+Exwnvo73Hti28E1+t30fNvHyB4m1C9Bm3yLEb+uRDnHirEpd+cY+1eQOT867hAiOeRf8GId4ISFRBC4PXfUiy00fO4NRwCrndgXHDt6qQWxt2BIb0sbRrfvFmDr0T8KY4jGH+yyTiJSIQZm2xo45fxzSTBS4Pm/wT9f/ddSQxyciB1QOrAutKBKM2wizRcmt/BV7/6iphJaOEIW+38o04EoRmEydLv+h9x6aE89P7mIhbInt7pdzF2egLALEK//Tf0/exPCBGOigziRuPPcbXsnxjhAQiOIHD5pk4KA8fR+9BWXPrdADSEcfeLP8BPy5nH7Hs/wrlv/wjjfkI2d3H3yiDuUmJNZw8x0WzOTHimfcJ/+D8IzmvA5OcYa/kcc5oGbeAELlb/EbOEtMn3b3gw+foP4XtoNwZP39JdoiNfY/r8Zxg9+OsY+WuzmP/CA38c4RFOCuLOpVHQ5s33YqTqWQx+PKiv8AZOYejnR/A1n0jQVXMSzPjqmrhmR/owc4OQ3l2E3qlaV4q+Hmansg2JxqX8XupGajpwDwiPG/0buH36GjQEcPtnP8eNWxFoX/fgG+KqJIT3rWcw7g/H3H9PfkgDXbTLLbjAjW6cS5PtCRY24xtCiPQ5CxzhATLlHhCvIvx/xKV/Ytdklfntv8XljwmprhbhPceCZGYx85tKnPvWIUxM6hOAsabTIOJrw3+IBbgUtWCGTAa++S/0/zcW9MJxwC3c/unfx+1lRt2WXzej56E9GDpPAntCCPyqFNFn3KXJy1oMs0eYOznyNUYK/5pNXoDoqlzOcCXxSx2QOrBOdOAeEt4Ixn91CnOIYP7zLzCzcBeh372nr1gIAXHDaq6RkKHBOBOmNgWtiM+/b9rvE54N/Urcx+JEvJKEx0mVrIiej61KDW0cwfi/1GPCT+JYFxAZ/hN1F/J9T+18UyzgRWiL1V6mkdSM7TM+exjnxLKSYHbN9CyunHWi6HIGnNoMWOIkcVrPOmAwzUDiE88Tg7AT/X8hrrkRjD/+c0yFNGB2FguYwI1nf6KvcsgqgxtW6rZswLVfsH//qxLnReNsFbQiPufl8NWg8Gz1CY+/enELU/92gBHeLEIfN8faR9yLZH/x717CeF9A3yMb+r/o+6VIzmyQCW2RhCcNT+IxJ7GR2EgdSEcH7gHh8dUYCeQ4gJGv7+hlhv4L/ZvYnpfBrebHxMG/MboIFjH0htXKI8w1qvVj7B++i3PcpTniwUXmJqXuzW/x1dcKrvD+6QRCZM/uzhe49jffx9e/u6a7UD/4sbF9fJX0yEu4eSuiv69Y9wfdFWvl0uRkblrpRldf1KXJA2YCuP3T/5HcpZkEs69N2Efr4K5RLrv8tO5TiYvERerAmtGBe0B4pRg6HwIiX2Hoe3nR6EyNGmVGeHR/aBsuvnMZC+S9vJEujP3q1xh9/z0MlX8f5779PN3zA+5g7uvPMPokD1phL54bjPJWXHpvmBJLLGhlFnd+90Oc+6sjuDFFCCWIO199jTs0WnMlCI/IeZGVz+omSs8JcHYYU++8jqE3WzHx71Xwlb+Bm50nMfIfbZgh0SuhMxj83jO4PkRezCfBIiRopQMj/2yKrExAeAjfxMyXV/WgHEq2j+Acfw1kdhzfdLWg77ui6zcJZgZsH44nTjmY18xgTmfGK/PIldJG0oF7QHjiKu5hnDv4Iea0O5j5zQGce4i7/FgYP3kt4aN+hGl4IfHuTWP66D/i3EPfx9dvfKVHHZKgl59WMfegFeGZwvm1EO785XUWDPJd9PzkE8yS8sn3Xw8jfE+DVky/tDI7htvvPI+eb/FBQ+r/CKEgidQhfwuIfPEf6P3pf7FXEkhg6jXc+Alp88M493c/ww3y+gH9C+D2L94yvkqQiPBmZtirGuO4dbRCL+vb1Ri5MK0XNfc5Br8nEl4SzCThSUKTkxqpAxtEB5ixjX6k8VoCN/byc6VnStLdKHVspXVMli91bD3rQJTp2IUkvAd4piMJTxqj9WyMZNukfq+0DkjCe4AJztz5kvCkQTDrhLyXOiF1IHUdkIS3hghPKnbqii2xklhJHZA6YNYBSXiS8OSGvdQBqQNSBzaEDkjCk4q+IRTdPNOT93L2L3Vg4+mAJDxJeJLwpA5IHZA6sCF0QBKeVPQNoehyNr/xZvOyz2Wfm3UgZcIzJ5T3EgGJgERAIiARWMsIJHwPby03SsouEZAISAQkAhIBMwKS8MyIyHuJgERAIiARWJcISMJbl90qGyURSIaAhvCNIYzQH1tPlk4+kwisLwQk4aXSn4F2HMpQoFa1YjJp+pvorM2HuqsF/eR08wflz+9BubINLm/wQZFoWXJowfNoqc6HqmQgt/o4+siJFHF/QfQdr0GuqkDJfAGdM1Zp4jIJX4yhtcoJRVHoP3VzGepOXkRwqcUIJcYuw/B7qqJl0zrKPfDHEqzoVdjrgt1Wg9YJ/qPnK1rdKhU+DE+5HXaXF3GtCo/D+/Zz2GlXrZ9TCZerL0tpZhBe1zYoq9jnS5FuPaeVhJdC70Z8Dcghhm9RwzkHf/sxvHyiJwXDGMZk93/i6bqPFyHRFARcLMm6IrxpeF07YCt9HV9e/QhH8rJR6RmCmYe0iVZU27biSOfNuGeLwaU/FwwoMZjNT2KzUoAjnZNJy9Mmu/Drp11om4wkqYYRnt0Fb5x1TpLtnjyaw0BLGWzVrZgwg3ZPyr9fhQj9ZRDhNrrrCmAvqkT51oyEhLd8fTFUusiNJLxFAFqxx/eH8DQ/2p7KheJ4Ep6huRVr3L0pmBmIrduQr+5Gcx850+5e/K2i0q8nwps7C1d2DmraxgGE0NtUDKXUjWGT8aarGKUKHn+6jGIyoNp1tD2VA1tNG6aSdH9q9d5PwhtHW00xajtvJmnFWnxk6q9oE8K4efkKJsNDiVeA5LRNsupdlr5EK0zhYhXHfgrSbKQkkvAW7W1iIDYjv/F1vJqzCVWtY/QQ16n25+FUHkNT7wwQ+hyuPAeKm0+jK+qqiCB44W1U52ZAUTKQ3/AlYtTOFJ65yxTubgyP4NSRR6GS7+0leLnzetxqgg7MjMdw8IlCqHSFMAf/qZdQQFx3Sg4qms/rq8vZizhO3X6ZKCjfg62sDuPANhkJbRoXWg7qbkClEC5vAGH/xzhSkAlFUeGoeBMX4vZ9NEMae5ELnZNhaAMtKFY241D7DXp4r99TDZWukGct5Y1r153LcFfuQEVLLwxTDErexWjqJecKRjDV9gxsppWS3kbdFakodpR7hixlRNgLl92J3Qd/gG2q2eVrwgbzGHZXQqF1aQj5jqHYruruzoKXcMo/x4wmr1eB3fU5AhbpAGvCi8MgcA5Nxcytqj6KI6dGqLtOT1eMA/uJW1eBWlCL3x5/CUVUnhxUui9jnuq1hW7M+dBcexL982SGkExHKQvE4SPqg7Gv81DbSaYC+gRRyW9CL1nkznWjLisTxS2XEEg4HoiwAfia9sJOx0QmCo58DD8555L1UcmBMl0v1Xw8/u4V1r6YG1It2It9SVZwgLk/YwM/ZX2BPm4zdj+OJ7Zlxq8WLcYPLMe0SHjiNQBxchrX9kdR+9u3UFdEdEKFo9Kt92NcOo7RIv0bg2DDXN0fwltL8EZXFOfQVpONzNpOzBD553vRXOxAnus0xjtfhJPuidyO+eYXLqNllxMFrjMIzk9gYITmElpuUnTMY8zzOGx5P0H7xCQuNe+HzfkiOgPGzUB9cNqQe+gk+oMRaGMeVNqK4PLeRKD7FeSp++EeCqC/ZR/U3B/j5KU+dLlKoC5KeBFQErftw7GeaWgz05i+ew2eyhzahkCgC/V5TuxxDxhJWBuCpzIbeUdOYeJWD5rLN8FZ24FApAdN+ZnIb+ohtITO2jy6OrppKe9dRhaxdiF4Gq4Cgt9piDuPevtjKzfzPQfY8H0iGamhUKAQnPoDxnZZGEixTO3GRZwZCEALnoGrIAtbGs7hrsVKwTpdEsJTBAy0G+g9M4CgdgteVxGULY3w3dUYVk6UN/cgOHUKh50qlLxX0B24qafLdsE7pyXQDSIl+1tMR834JMKR9nUWtjdfxAJuoP3QZihKJdzD89CG3ShVitH01blFxkMYN3p9GAjOI+g9igJlJxp8QUZ4Cmylb6DH1L6F/hbsUrfh0Mnz6O86iiKVTDIs9vBocxMTHnks9i0StZMRHpmgHjrZZ9q2sBg/4bsJxnQgZid4mXw/L47wFNjK38KloB/th7dAUbajvnsSAYqRPinVJwUWGN3pWwRzrggb5zNNwptA+6G82Ka7vQT17frsUwuchqvQjtzDH+ozNO02fI27oea+hM5bEdMs2DyrBrRgD04cLmYzPTJbNq+OVrdz9JUKcWXeRl/zbijbm9FHOYgRlHMvqspykOf6HCFReZkRoIRncrfpLTARnjYId6kdOQ0+0N2fyVZUqfmo62anmrNm6wOTu1YjmGw9CJXLRA1UNmraTsNT7kC26yxdVepGR8faMLANRp2sZAVCJ/VRGXhdurxml55e9g40+AihM3my6tE9p5OcWuGBP3IRzdsdKG65iAlLeceZXvC6EvexUX6ToRKyiekSyjhzFi57BjPUQmZ6GW8gxTJjqY39aJ2GpBbTMcKLrvB1Qz1L3WrWGIjl6tc6oZhXLrF0cwl0g7iC2d9iOkr1KYZPQhznJinJUd2gE0Sy8iWr+wnMdL6ATLKyD3yFpvwsfQJoOR64UHxlSVbmw4zwslDqHqQTklj7ZvXAH0buoOMn654QXuJ2sj7k400QGbAYPwnH9OgSCI+33TRJon2zCEYj51LH3NCW9XuTJuHNYNDbDd9wEFpwEB0NZbDZnkHbFDHVGub73ah0bEZFSw8mzh5Foa0YrrNThhm0rrhmwmN7MgX1+GgoCE0LYtjXhdOXpw15V687mMuMuuIiCLQ/hwz1IFp5QAJ1Zdqg2B6HZ4w4kYxGbbKjHgVqNkpdf9bJ3yC4mNY0yEk6UaGFfLEBT/amWBmC4aQuPLcbLjsbDCSvMGs05heMukV9etqYi84qmtBYnkhAc7q7kWA3+AdUqcQNOaEPdLO8nmHjDFtor/kycX3GvToxnXhNyoveD3cbcTJUJmBDv9cw112PLK7n4VF0ND6BAubW5BF30bL53qFlOpPxYvXG5cUc/B2vobrAwSaX+srWmM4oZ+wZ8zZYYB1rZhhJddSkE7Gydaxj94R8qqHmNODc5RYUZx1E3ZHtyG/6HBebd7N9z0XqAnGNf4rG6u1ssisa85gux+oUvCm0QUYcYm3kV8mfx8oNx/SD9WHsmblOXnaC8WrCLzame5dAeLztJp0RyxavRf32zybvX0H8jXKZJuEZ4dFnRCJ5zWGs9Vk41SzYs+woajpv3IeJdoqYh5TJVk2Ovag7/gl6b8R2vYw1rtbdNLrr8mMrWWo8+F4F2XboQC1xJ6n70NJPZDWRGDFYXa+h3JGFwoYvQHadYn+mtCaljQ2O4ViWKG7cpWcqg6c0l7UswuN18cKNnzFjYDaCYWh+DyrUEjQ2HUYWnYknkDeuXcY6DHe0Lcn38Eh6US7x2vBsSYTH9qZyGuCLBOBr2IWM3S582Nsv7Nsa66X7UpbpTMaLNdAoJ9knbERhxh64PrwAf9fPokEVxnRGQx57lsQ4GwBNoqMmPYqVHd/XC33N2K5W443/PIjMmg9wheytlrrQ9Gw+iluusAlrkrpCX6ChMAe7XR+g1/9ZbCKSUAZz+4w4GJpIb5I/F9smXpOssXtznUItJjnpE/N30fvVIjzST0kwF8TfKJfpEd7sFbTWlWEzDZTgKwAjeWl0z8cGRS1F0wVxF0aHVlciYx5dSSbg87hQQYM9HCioeQNd/vtEfAvEFZcZdQ3qG/DcxcPIuaAKNSXOeJdmVINEQxn9Mp4cE7o/rFyanISYC5G7dXjxtCwH2z8D20fRsY4NXjIYBCPA6uduUFoUdWmyfQJetukzsftHAyh+Dmze7ETGoXYEuMvTLK/BqOjG1FRN7Da6p0pcc7PUzUzdpiY3mdjOhDJSlyafQceq0K8EbMgXdM/WzvYnfWjIsTM3m5HExXoRSZQuFcKbga9hRzQCVSxXvDb0oQFH5tK0wNrc0migCSVz4WnUQOuTroQ4zmksOMWOzZuzKcFFSNCSLRubs0lglzjVsx4P+qs/zE0r1iteG9p3Rw8i4sExVH9XyaXJ99sEqHSXqj1mK8izhGN6KS5Nrp8mnRFxEa8NGPGxZI25KP5GuU6D8Ob0gAhbGRo6BunGbdwKT/Oj/cfboBbV4pfPboNaeBRnA8b3kvRBa0F4UeTncKP3QzSU50AtbIQvZLJo0XQreDHVhhobjzQk9eh+evoCOnVnkiCOSxglwSbmoBUtgIHz16IBB+oeN4YMTWDu28Jj6KURcwxXGrQyjSF3FWx5r8JrarfR2IEFJuSh5sQlBLUIgoNDuKnpRKAHMkyh59g+2FjQir7qyka1ZxCh0ZOozuAb/XMYcv8ANscBNF8Qg1Y2wVnze1wlATLBEQze5IOI4U4DHxx60EroKtwV2Yz8yXOyOV8IRXGggr0rpwfZmOUVZ9GsfLLvtyPLaEBolam9h2fAKZGMJkPBWsQ+BMILXkV7QyUcfPJGiTwLefVdCAS8aCzKAndpRnqbkM+jdxOmMxkvVqNBZkbmPBiF7oOzsHljOkFOk7FLhHW0nYvpqBmfRDjSAvWxoZAAFUJwfC8v4zm0k8CrReqiK0QekOF7DUUqM/QmGcS2G/L0vIFSG9flaAuFCyNOwgN6KZaLhO00Tm6MZViMn/CsbivjxvQ3gkuT6EI11IyD8IxOY9RzEBnRqG0SRbwcwptaxAYZW7AR7laA8GYx5KmBw/E43P0hRINYjnyKW4LB1w2vA6UNH+KstwsftV9EEHMY/uQ43Ke+xHAwgvCNXrxftxMKHzSr2iOavuGuVgvvcrGZUuZzePfkv7LIzDA0GilnN76WEDoD1xbySoICNfcgWgiJGOTXMNv3NiocxCXK9gVnL+Hdpwr11xI48RjyWBADcVm0v8JC0hUoLLKT/BpJc0UODfrJ3b8fJRlscqFdR8cL+qsPam4ZDpQ4Yxv94RG015ewPRQ9ECXsP4V6GgZNVvL5Fu9vkXa8i6e2Wb26sKDveypiIIa1vAaDQ9pMV5fbUNd924QACWzibXOiqP6Uxf6oGacEMpqMqbEi8ZdWVNh3Poe3vePsVzzCmOx06Zjbi1BVvhWc8DDbixaKuxNVrdcSpEuF8ABt8lO8TLF3oqiqDFuXSHjUnWWhG9F2LqajcfgkwJEWyMZGdKzq0ZrR1fdidWnX0fky0T2VvSS+SQha4Ubf1K/kNYDmA3DQMWbS5Wgj+cUSCA+J2pmM8MhsI378wHJMG8vRJv+MF+irPxkwjFUD/iadEZ+J1+Kk58pfFrFBHJuN85kG4RGDcxEnzS5NewVa+u4gPORBtSMX1Z4BZhwiuNX5EnLp7E0IXDG8s6LC/thb6IvMoLflSWzjgQBE+QueQGPHaPzPBW2cPtqALWWTDYsV7gYEQzZZIiARuEcIpEV496huWYxEIAECQfgaSlDc3MteME6QTH4tEZAISASWgIAkvCWAJZOuFgJ3MX07ZHIBr1bdsh6JgERgvSIgCW+99qxsl0RAIiARkAgYEJCEZ4BD3kgEJAISAYnAekVAEt567VnZLomAREAiIBEwICAJzwCHvJEISAQkAhKB9YqAJLz12rOyXRIBiYBEQCJgQEASngEOeSMRkAhIBCQC6xUBSXjrtWdluyQCEgGJgETAgIAkPAMc8kYiIBGQCEgE1isCkvDWa8/KdkkEJAISAYmAAQFJeAY45I1EQCIgEZAIrFcEVoDwZjDQeRJvt/Yg/hS8tQaj/gvr9KRvevhr7FfbU2qJ6VfMU8ojnlGXWobUUtHDau3Y1XIZCynluInO2nyou1rQn1qGlEpNJVHcyQmpZFqzaYy/nL+8ZiQ/ESBa9uxFHK/Op6dyZNZ2Yib6IIWLtHQ6hXJlEonAKiCwAoTHSMLqkETeIM2PtqdyoTiehGfoPh3uymVJ+pmiAUlURlrGYZl1JpRlBO2NR3Gi13xMUaIM5BifY3j5RA898zBRqpX4ftUIj56ezg8wFj+XOLFZFgirTXhhTLTWwLbpJ+g0nVGZUjMMOh3GZPd/4um6jzGZUmaZSCJwfxGQhJcU/2WSj8E4JK1IeLjMOoWS1urlqhFeFCBGOnYXvKbzbaNJVuxitQlvmfUZdHqZZa0YprJgiYA1AveH8KxleQC/tSAfbQLth7dAoSeVLyDkfRV56l4094XowaQtzFWkZLvgnTkbO7HYYChMhzkiiL7jNchVFagFe7FvawY7lFVD2P8xjtDDIVU4Kt7EhaDx5HjQcp0oOVBG8yvqo6j97VuooweHqnBUutFPTlQX6xfPIlSL0OALGmRX8xvhmxOMWVwd+Xj83Svs6J45+E+9hAIiu/lAWdaj2kALihV+cjw74TnzBXROfommYic9JJfIfeTUCD33UCQ88Rpmd294BKeO6IfZKvzAXIu2Yf4y3JU7UNHSi1lLLWNtvZ+Et7UMVbTPslHaeBq3tLsYcu+HGj1QVT+QNt4FuRTdIafFb9Pxpi76Kniufm7RB0LfE7zoSpgdIBzVo15TWey5Jb7yS4nAg4FAeoSnTaP3xL9iZ/SgVgW6kSRneuskET0BmhklW8FLOOWfg27AuPvIPEgm0VlXxE7cJmkykFvRiA4/c3ve6kBdgUMYsE4UHWlF/yw/S3wC7YfyYs/tJahv141oenBbEB40zPc1o1jdAZf3Kt3nslW3YoIRoa30DfQE5zFzO4Bw1DgMGwkHRsJb6G/BLnUbDp08j/6uoyhSFZ3wtCF4KnNQ4DqDQKAL9XlO7HEPGI/NoXUosJW/hUtBv07G9LDdSQS8R1GgFMLlDRjq1+srgss7hfnr1zAyO4v+ln1QC47CGwzh+oAfsxCMHq+DtC1wE15XESihz2nQxjyotOWh5kQv/D1voNTGZBcBj/SgKT8T+U09iGAKnbV5sNW0YUq7gd4zAwhqt/QytzTCd1djOlJFT5pPTHjzGPM8DhuROTCJ7vrtUPe4MXiVYCm2TQOCp+EqcKLAdTrBvnIiwltA0PcODu3O1U+hpyShQCl1Y1hjfchOISfN1WXlOq0hPHkWbx8uZvqciW1PudFrnrBwnNUSuLoGMdT2PHKVYjT1hrDQ14ztvP9mOlGbmY2atnERWSxdd4R+JSVZ9oEpjSXhDQNc9mTbFwZp5Y1E4P4ikBbhRXqbkK/sRN1HxFhFEBw+j89OX2V7PQLhBc+juWIzHOWvoYuTFmuv0ThwEFjenS60eb042+HGkSI71OJm9JFVCh14mdjp+gBe71l0/7EeO9UsIRBjBoPebviGyYplEB0NZbDZnkHblGlVxKtb9JPJww2dwowZJaJNcO4/gLIMQnzTwFQbamx5qO2cipWaEuExw0lWhHMaoA3CXZqlE95kK6rU3WjuI+sS3QhRoojVwIgsC6XuQWgmIjWs6gRZ9P4jpHCLkWcIvU3FUCjhcawEo0fz8jq4YSeENIfJ1oNQrWQXZWQkp1Z44I9cRPN2B4pbrhiIWyS2RNd8MmV3eREGWfHkYHvzRRqEQ/PYnsEHnzYiXxHbZhAkwQ1ra9wKj5PaDtR6PoPX64XX+zlO944jzLFORHh0VUl0vxHtA7cR7G9FbUEWnLUdCBikYHVTEgUwdxaubLven3SiYKdYRQj5qdV0EhDLno7uCP0aK4hexXC/ra/eOJFJwjMhJW/XKgJpEZ4+q89Gad07aO+dpG6oGACMJKiLZnOCWS03mnw2zHMLZEm/0nDX14gtfJZLB54QUMDIQa1qtdw014bdKOUkxatY0qcuj25gxYya7spUFNgqPRijHkMX7ILxo6kFkhk+xccAABnTSURBVDGQDzeW1MCaDVCszlkvKZOvhtknN0JcHLEOQ7l0yWHtUtWuo+OFR6E6yuDqGKX9p03+GS8UZMFRepStqAW5DHXwviOEZzKMZpcjl5Gs69qegY24MQf/gCpVX8EAc/B3vIbq6Ko9flUXM8Jkcy2Gjb56NmFD8B8biWtbVIyEF6ytCQlPl8uYnZNh7Jkuq67T+qTiMTT18hjIeQy7K6EQDGa4R4KUKOBMKxDaiNvortsGW80HuELw296MPkPEbOK8iXXHnMeqD0z9KgnP2PXybs0ikBbhEUM16TsJV8UWqIoKe8FTONY1xohPH7B6KH8OKprPW0b5icYhhh7LKxp1keTEa5rJlH72ClrryrBZFQ2hmVRjtS1+JRofMfUCAp0vwqko0bB9o2FmaUWiEK8NxGQ2QLE6daMVM6iiBNHrhOUmITySOTyGrsZKONRdaPCRNQfZL/wMjeU5UAsb4Qt9E5vlG+pIh/AAze9BhVqCxqbDyKIrwgWEfI0ozNgD14cX4O/6WXTCIGIpXscTnjD5iQJi1TbxodU164N7Rni34fdUxVzrhkmLuT8T938YCwi0P4eMrIOoO1KIbNdZGGOaE+dNrDtiHi1BH0jCs9IS+d3aRyBNwuMN1xC+cQFtDaLh5CT0Ns7SYAZr0kuN8PgKj7kKkxLenL4PZStDQ8cgJdkVW+HxvbWDT6CE7uVNQ6+L7ZdxeESiEK8NhMdm/vlN6CXexDiXpqlMXjb/TFjuIoRH8mtX0FKchZwGH7gjUw8w2YEG33gKhHdHX7Vw2cUVGJePfy7orszNm53IONSOAGbga9jB9sNEEg2nuIdHXJqbLEiAVWjRNi5K/Gc6hMdWrUoZWgZ0Gorp9DeY6XwBmQp3R8fXGPuG1c1dmtSN6US5h+yRAdpEK6ptZALHg35iOYF0dEckvER9IAlPRFlerx8E0iK8heE/4033n+Ale2XhG+h7vw4F0QHJCc8DPyII+l5DkRpPevqM34HShg9x1tuFj9ovIsgDXnJ/iJaOM/B2v4+G6IqD7+GJs3qxrtUiPObOVPfDfe0yPJVO0KCVSD/ce50sktIiaIWQZIUDGdUnMRoahKc6GwpbUejBCdtR3z2JgBj4wfcKa36Pq8EItOAIBm+a4ubTIDyyv3l+MAAteAaugk3Y476MwMBFDAbnESSBLqRtQ1MpEF6YBU0U4kj7KEJDJ1BhFbRCx0sAXlchFMWBCs8QNMyir3k3lLxX0B24CV/jbqjMJSyu6nQ9yUa1ZxCh0ZOozuBBMSxoxfk0TlwNQNMCGBycwkJc2wagkX3DHVmJyZG7FZe0wgML2MnCzrqT6PZ6cbqlBpnchR76Ag2FxEVch+OnuvT9v+4OdA9wFyc3IoyAbPtwrGcKge5XkKfuQ0s/W8tpA3DvsUOx1aB1wtT3AAtsWYruiISXqA9m4fdUQ804CM/oNEY9B5HB22XQN7b3SyOWRTctb5v8lAg8WAikQXga7va2YP82R8xlY9+O6sZP4Q9bRGmSfRoaebYNP273xwIVxPBx4hZ97C30RRiBZdlhp25JFfaiF3Gyj70snXSFB2jBizhpdmnaK9BCgz7SAZ7JI7qk9v0czYe36CSnRTDV/jyc9LWEGYT9p1BPQ8sVKDkN8M15Y3toCGOyo56G7ytqPvYfKEYGN7AEi+YDcBAXqSG0n7gZhTKVfNR23jQ2xGCA2L4SL1d8Fr0eQujsq9hC8c1AbvXbuBCcwlkXC+9X81HdQtzQgmGM5tVXHSIhwSD7DjyaY2OvVBjFBHfPCasebfJTvEzxcqKoqgxbLQgPfL8xDhuygh1Be30J2+dU4az9FNfj2hYBaPDPNtR13zYLxe5ZWzlu0VTx+3TRR/SCvJz/CorEaOXN1ThO9Y30XReaD/EoTbJK24S97qumX7rR684o2Ye9DhWKYp4csqhWGglsrJ3eGfAvw4ESp/BKi5XuCP1KVpAJ+kDf083UI6X370dJBtsaMOiChtm+t1FB5FYPonWS+wks5JRfSQQeAATSILyVlFpcsa1kPbLsFUGAumOd0cjJFaljyYVqunsx71V4Q2tvFaJNfIinnfk43D4RmywuGQOZQSIgESAISMKTerA8BLSbuHxxAmHivqbu2GQrqeVVlV7uIHwNJShu7mUvyqdXyurnIu/xncaxihzY9ryNq+S1HPknEZAILAsBSXjLgk9mBv1RauKKU0Bctbo79EHC5S6mb4fW4OqI7BX/AoVFr6Dd9A7rg4SulEUisJYQeMAIby1BJ2WVCEgEJAISgbWEgCS8tdRbUlaJgERAIiARSBsBSXhpQyczSgQkAhIBicBaQkAS3lrqLSmrREAiIBGQCKSNgCS8tKGTGSUCEgGJgERgLSEgCW8t9ZaUVSIgEZAISATSRkASXtrQyYwSAYmAREAisJYQkIS3lnpLyioRkAhIBCQCaSMgCS9t6GRGiYBEQCIgEVhLCEjCS9pb5Agap/Aj2cU4fKLH8nw/y2Loj10v5zw+y1If/C8Ttdvww8NLbMZy8lpWZfwR5VgSdtZh9MQC8gPJx1GdmwFFMZ1oH8tkcZCr4eE9vrmJztr86FmMSQunv4Rjx66Wy6YfrY7PZfhRcMPjJdRnyJfezT2XQ9Qd8ToV8ZaAX7S4RPofTbCcC9MPxJuL0ibQfriQ/ZQe+21iw8HB/FirfNR1T5tzG+4T9wOg/8IS1yu9nviDsg3FmW7SyUPPyxLaZyoyhds0CI8ZCn6CQNwvzKdQa5pJ9A7gh7uuBpEInRKeRM/bT8EZNYQpNGJFFT+F+u9XkkTtXqqxEeVfTl6xnOh1IsIjpxx8gsaX30VvMAJoo2itzsamIx0ImH7OUpvswq+fdqGNnhKQqLxohffwgpzScAwvpzL5IidKNB7FiV524kgSKRIbuCXUl6T8VB/dczlE3RGvUxFoCfhFi0uk/9EEy7lITngL/S3Ytel5tE9FgIgPDTnkJItqePz8aCn99A1FEY9Zs5bH0A/aOLp//Tzq2vx6YgMugp20Lsri23TykGI0zPc1o3jTi+gMLFiUm/yrNAiPF8gG+CoSHq9Z74hVJjxS+Vw36rIWVxQuJ1ZU8aO1PHgXidq9VGMjtmw5ecVyotcpElSSeg0GgZ+pV07OgVybf8b23L823HM5xD4Ur1eqiYn0/57Ul4zw9PMN9QOW+QHQZIGQjZq2cb12esCwDUsmvKS4pUNe6eRhANLDpHNjbVoCrpLwkoJl6pRAOw5l8JOn5+CnJ7oThRLOMJu9iOPV+VCVTBSU78FWdnCmcRCbyjWcDaifcB72f4wjBeQ8MpUdKms+a4ysRFgaw/l6uiHP2P04ntiWqZ+NFh7BqSPsvDt7CV7uvE5/TDmhTFS5c3Dg+af08/scB9B8ga8QltZuA7y03AxsLa/Uz5Bz7EPj2ZtYGHJjj8pxjWCy9SDUzBfQOSMsqQwDTmh7FJ8QBlrKoGQ8h3Yy82MH7mbWdmKGnMkY11eJCS+Ky3A3XHbuUVCgCGSmp4k9s7va0e3aBmXrHpTzfqt0o5+ecmAlr7k/A/A17WVn+2Wi4MjH8M+Po/3wFij0gNUFhLyvIo+evTgRO5yXnFJx4W3mcs1AfsOXYEfH6tCLuIl6phahwRc0dY8LdmUr9pUXQCUeHMfjcPeH4t21oj5x3aD1OLH74A+wTSWT0dH49pDzMuPSBaEFz6OFjhkFSrYL3Z/9LDU5xPYoZNxMI+Q7hmJ2PqFa8BJOkR/eFjEQrrWl6h2TveRAGXLJeZJqPh5/94p+CkeCcQ9L3SNuR6t+DdEzHqNjlWNLjkvmbnW1AOX7tkYPjzZ0IMgWTD6qWseEvndi8+ZM6OMA0IbdKLVlY3O2A6XuQWjmiZpA1gnHAVnkzIpnfQr2LBlGCKLveA3FTi3Yi31bM4SzG8327q5+1qjyGJp6Z4DQ53DlOZirdga+hh3Iqus26roRDMu7lSG88Di8bz+HnVzxtj0LN3WpkNlJNVR6ovZdJlAYE601sPFld8K8Mfn1jljlFV7wKk659iCj8CjOBiLstOsiuLw32SnV5JTwAPpb9kHN/TFOXupDl6sE6qKExw6RpSdeT0Obmcb03WvwVOagwHUGgUAX6vOc2OMeMP7iv3gaut+LY6UONgiYIVe24dDJPgQ1djJ43k/QPjGJS837YXPq7oCoQlN3h1lpFahFR9HVfx4nD22DwvYBtDEPKm2ptzvWa7EZJy137AraDm+Dkt+E3vmLaN6eyU4kZwee1rRhSswsGCpKZhb4hHubkK8Uo6k3BMx0ojZTn9layyyc6C7WQ8Ukhr9KdwOJ9SZLxw0HP7mcnBxPjXBAJ18LeQU6J7XiRq8PA/zUeWUnJSTqvlF3wOW9SvftbPQgWIGsFy6jZZeT6kpwfgIDI6YT1QX5qbtLJX03hfnr1zAya5LAS9rtQOkxHwKBM3AV8D4R6gPTp4Kj8AYm0V2/HeoeN4bmiQFUoBDd7w9AS9AenXyEdHTPaQtspW+gJziPmdsBzKYkh8W4CWvQblzEmYEAtCCRPwtbGs7hroCBgfzoSoG3MQW9o+UouqyBm/C6iihBe+dmE457a92b091ycf2aANsI6WMHcg+dxKX+T+EqyrImPCrfDjT4mA5Q8qrALxsOQCXjLLKAQPtzyCg+hNoyOyMbsW8B0StlsA8ihmQcGO7jbQftTwNGGnT9I3bpPPq7jqJIVXQZqC2zsHfzvWgudiDPdRrjnS/CaatB6wRxzbJJsTABNQ3NhLcrQHgh9Lsfh8NRiYb2qwgGL6O19lGozMjqs6pNqG4d1Q24dh1tT+Xog0ZLnpe3YrUJjx59Q4+/2YUGXyAGON8Mpp1PjOtpeModzHCz2dSihDeOtprs6AyMtpGe0L0bzfTkbF0hbWYCoGn01SAwj2F3pZHwuGz0UFY7chp8oGsKmk/fsDYoNMxKm8VmgBrmvC5kK5VwD8/qqy9edgrt5n1GP2l6q3Kn0dtUDKW4BQMRQn7ZqPAMGQleHGCJ8KEk56B5I33N2K6UoWUglEDmK8IqySAlDLiI9RqTGdNxwit1Y5jwiJgvkbym8qK3Yl4+sdl/AGUZhPhIoIFgpKiLKksnPCN/6cUJZUXohIAQ3i0jtqxivd2kn+eNdYj10VVETvSQX5rH9gzaJk7DZc+Ifh9tC7kQZNCvhXRTbaixGYOBUpPDYtwYKhUwiqufb0uElqZ3tByuv6RZfGI0kGDcTyfQvXE2CdoEp6FfyQrNAtueEyjnkyfDWDc0GKB6xiZq5BElvCr8vr2JjYUb8Lp2IL/pT/j40OYVJDwrjGbh91SxCYIGULuUpcuQcHywCYBzL6rKcpDn+hzE30D+KPZpbKfde8JjA7CwqSd64CZdRvMIN20A7j126DNVQJtoRbXNiUpi4BbLKzaWEQn7aoU+OAmcxexkNxpLHbBVejCmscHEA3fopx3lbjdcdj6YuMLpK9HY4CAzFF6uF2FxMBraF3OXUcI1zWaM5Yl+fWGgk/LM5Qv3xjKSyBR1c1zXSWIJ7TZ0jFA3/T5a7jcIdb+MTcRwXvkANTZO9kJuIa8utxU+3Ah+gkHiFqWz2gR95eldGcLj/ZSSvEL7yJrI/ykaq7cztybXI3Iu3qvIUxSmeySP2MdhTHbUo0DNRqnrz/ATt6H4J8gB7To6XngUqqMMro5R8DAGntyoD2IdwjUtz4Q9WQ1T9y+XmZSYoD2iPNxw8dU0EyR1OcT6eOZRdDQ+gQLmXaJuaLFO8RrakvTOPJaicprbHtXrBOPFM0zxievXBNi6PXUxjwPEsc57jn0yguMBKrrdrYJnsAuu7BzU/L9P0VK8DbWdQ1T3dZeg0LekmKjsQYHQw0ntSDJ7FsXIf9s03mL2Rl/Rm3SKjyPqyrRBsT0OzxiZiOl/tNwHgvAoYCbhOSHQjmYuTNqAGYx5Hoct41m0kaiiRfMKjV1VwvMiDA0znS8gkxjlqWlT50V74R4SnjBTY8WLHzFFImZLHAQmBTYMcCMBGsuIKWAcCUcHARvAXBm5QOY6oumNe0RmgyEOLtD90S34cd0PkZ3tgncuseE2ys2FIJ/MZb79ZTS9uJWttE14RJMn+l6cuVsM9Gh+UzoDCSXDWShAvAx9gYbCHOx2fYBe/2eCHrHXJBRFeA3BLPsc/F2vodyRhcKGL6KzYFq8uW/CY+hqrIRD5d6KmBBGXMU6hGtzeTy7+ftE7TGlM9apF2b8TqhbxNhUjp4zAF/DLmTsduHD3n50kT1VoqtiWvGaZFqC3pn1NyrnYoRnHi9UWIt+NcumN8pIPIaxzhLwDzruYnaDyqceROvkdbQfykXOM8+iOtNsv0R87yfhxeTmzaGf/IBpU3Q8bdsDQXjUrSS4LAzSsxvaCAf2vPM+3tpFfLRsqZpKXmpLiCthlffwyJyMbPgqxEce0F0VZsNMl+kO5Df1UPehnn6RFR5zOWa7zsY2YOkSn7srrQDksrD9KsMgMCnwsl2agO4KE1yaS2i3QXo6oGPuDr1cpug0/H8TfecxGmUmZhaNQRJ8Fogrk27K5+FQ+42Y+9kss2g8xXqi+sXkEutNls5cnpgviby8yIivATnUbTxvnE3z/Y2DT6CE7vmYXJq8AMzpQTs5DfCJ8TCiHDytdgUtxVkxNzf7PmrA6Z6uqEfiNXG7bYq67XmRZjJI2B6TPPoYMep6SnJYjRsahm+PD8YQ6xSvifBL0TtT3picl+EutRr3zKUZp3uk3iF9n97Qr9bY6hjxsS5uX0TR1y+ofLE9vBgpsIkgWXiQbQPuoaJELPbtShLeHX3bhXpdSPsH4S4VXZpGHdAbxPc0q1BT4ozxxP3Zw2Mbh2oJXB+ehrf7FD7wkug/fZalOvai7vjH6PZ64fV24ZPuQcxG+4eskHboL3TTqDPumU0lL5ivOgtFrvdx1tuFUx94cd20IIhWtawLYdVDyqGvJThpFJS+GZ2HmhOXENQiCA4O4aamhwUrea+gOzCFnmP7YGPErPk9qFCzUe0ZRGj0JKoz2IYt5jDk/gFsPCIrGrSyCc6a3+NqMAItOILBmyYHFA1WcCDvyClMhK7CXeE07uFFZ5Vz+oY6DVqZxpC7Cra8V+ENaUgoEx04Cmzlb+FSkAUm7GpBPwl+pEErqbfbAD8vlwQo8IAHVi5wF0Pu/VAVYX9XzCwaG76vZYXP3Fm4so3vHlnLbBroQl0xQ5Z8hacTNosiS0Z4yeRl9VKiVrajvnsSAd9rKFKJu26IRWbuh/vaZXgqnWwrQJBdC2Dg/DUEtVs0iIIGkIhjQcBNCw7i/CAP6NgUFwhlaLehPUJ9PGjF+TROXA1A0wIYHJyCJtRDmmTdnmEjmdOE/XDvdbJIZDFohc/4xbrFa4txM0f2f7OQV9+FQMCLRhLcsdgKbyl6Z2pjDK8g+pp3w3LcW44X5qYmwXuGfuV7ViZsaXANb5dPCFBjysM/6EQmj4XrM48UWwVpAy0oVmxsMs48QpT8GBlmHIRndBqjnoPIYDYr1r4wYN5uMmAh2EnD90YviEEnet5AqU0MWrGwd9SdSQL2LmGUeAKjQSv63usqR2nCGE6sOPFYyyU9MCI8hu7mw9EoTRJab997HAPCe4K6EVLhPHwKU4YBunheGMKRVdgfewt94qyWK8CyP4WOpGWJMzDyMu4reng9mTnxoJzgeTRX5EBRMpC7fz9KMthKlO+fENdUbhkOlDjZpjFZUoygvb6E7d3oM7Sw/xTqi/ivvOSjtvOmqTUkHP1NVDiIcc/FzkdzEhAegNlLePepQhZqLrxikEgmqrQ25GzLh4O0jZMxlWCJ7RalpuU6UVL+mEW53GXMI7HEjEYXob4/lAifG2g/tDkaVaqXYiVzwNotvYQVHmZ70UL7mkyCLhnLMwx8sp+VSF7WTu06Ol8mOqDCXlSJ8q2bUP7uGRq+ru93s6hE82sJoTNwbSG/AkP06iBaoq+PsHKjcgwhdPZVbCHh9EQ3q9/GBfJivfBnMHAJCc+sryqctR0IROsh+1NkBm/RHrKlYU5H9/oEbHIa4D3Ng0HIJE8kOfHaLAcZN9OY7HTpY9JehKryrVic8JagdybZRbzIqxWW4568lhBnJ/wJ+lV/LSFmCxi29NUTPtbzsf9AMTIs3XmECHZhU10XQgavD3F09KApn9gREvvMCI+T4eSf8QJ9lcZos8T2kX7oa6mi41atasWkAQvBThq+NxIetdvNB/QyDDbQanxM6K8lMJLTpk7hsNOuv5ZA40DyV/s9PF2v5f8PAgLMzcGjJ5crkklpl1tcSvm1MbQ9vSV+ApRSZplIIpAmAutK7zTc9TViy6aX0R0SVxFpYvOAZqOR/hkJJsaLyLyMKM1FSpaPVxiBMG5evoJJ8u5RkLg5nGxmdw+qXW3CC4/j7LEfwGGrRMtV7t6+B+2QRUgEkiGwHvWOus/z9aj3ZG1fs8/IdthOYT9vaQ2RhLc0vB6g1PoP+urvCFq7qNIWdrUJj/jqC0tR3z4SFyqfdhtkRonAYgisS73TEL5xGV/03VifY0kLYvj8BQyb3PGLdTV/LgmPIyE/JQISAYmARGBdIyAJb113r2ycREAiIBGQCHAEJOFxJOSnREAiIBGQCKxrBCThrevulY2TCEgEJAISAY6AJDyOhPyUCEgEJAISgXWNQELCO/fQw5D/JAZSB6QOSB2QOrAWdWD85B/jyDsh4cWllF9IBCQCEgGJgERgDSMgCW8Nd54UXSIgEZAISARSR0ASXupYyZQSAYmAREAisIYRkIS3hjtPii4RkAhIBCQCqSMgCS91rGRKiYBEQCIgEVjDCEjCW8OdJ0WXCEgEJAISgdQR+P+C2V0cfbxtQwAAAABJRU5ErkJggg=='>\n",
        "</p>"
      ]
    },
    {
      "cell_type": "markdown",
      "metadata": {
        "id": "PFwdL4dDr0pU"
      },
      "source": [
        "Some methods, like idxmin and idxmax, return indirect statistics like the index value where the minimum or maximum values are attained:"
      ]
    },
    {
      "cell_type": "code",
      "metadata": {
        "colab": {
          "base_uri": "https://localhost:8080/"
        },
        "id": "kIc2WCdsr-ZB",
        "outputId": "324f38b1-c333-4cea-baae-b13b76c939c9"
      },
      "source": [
        "df.idxmax()"
      ],
      "execution_count": 231,
      "outputs": [
        {
          "output_type": "execute_result",
          "data": {
            "text/plain": [
              "one    b\n",
              "two    d\n",
              "dtype: object"
            ]
          },
          "metadata": {},
          "execution_count": 231
        }
      ]
    },
    {
      "cell_type": "markdown",
      "metadata": {
        "id": "iN3Hkc1tsAe1"
      },
      "source": [
        "Other methods are accumulations:"
      ]
    },
    {
      "cell_type": "code",
      "metadata": {
        "colab": {
          "base_uri": "https://localhost:8080/",
          "height": 173
        },
        "id": "70Yoasz_sCAt",
        "outputId": "dedb68d8-ef08-4145-dca6-b06010c81eb0"
      },
      "source": [
        "df.cumsum()"
      ],
      "execution_count": 232,
      "outputs": [
        {
          "output_type": "execute_result",
          "data": {
            "text/html": [
              "<div>\n",
              "<style scoped>\n",
              "    .dataframe tbody tr th:only-of-type {\n",
              "        vertical-align: middle;\n",
              "    }\n",
              "\n",
              "    .dataframe tbody tr th {\n",
              "        vertical-align: top;\n",
              "    }\n",
              "\n",
              "    .dataframe thead th {\n",
              "        text-align: right;\n",
              "    }\n",
              "</style>\n",
              "<table border=\"1\" class=\"dataframe\">\n",
              "  <thead>\n",
              "    <tr style=\"text-align: right;\">\n",
              "      <th></th>\n",
              "      <th>one</th>\n",
              "      <th>two</th>\n",
              "    </tr>\n",
              "  </thead>\n",
              "  <tbody>\n",
              "    <tr>\n",
              "      <th>a</th>\n",
              "      <td>1.40</td>\n",
              "      <td>NaN</td>\n",
              "    </tr>\n",
              "    <tr>\n",
              "      <th>b</th>\n",
              "      <td>8.50</td>\n",
              "      <td>-4.5</td>\n",
              "    </tr>\n",
              "    <tr>\n",
              "      <th>c</th>\n",
              "      <td>NaN</td>\n",
              "      <td>NaN</td>\n",
              "    </tr>\n",
              "    <tr>\n",
              "      <th>d</th>\n",
              "      <td>9.25</td>\n",
              "      <td>-5.8</td>\n",
              "    </tr>\n",
              "  </tbody>\n",
              "</table>\n",
              "</div>"
            ],
            "text/plain": [
              "    one  two\n",
              "a  1.40  NaN\n",
              "b  8.50 -4.5\n",
              "c   NaN  NaN\n",
              "d  9.25 -5.8"
            ]
          },
          "metadata": {},
          "execution_count": 232
        }
      ]
    },
    {
      "cell_type": "markdown",
      "metadata": {
        "id": "7N3d8N1-sF1y"
      },
      "source": [
        "Another type of method is neither a reduction nor an accumulation. describe is one such example, producing multiple summary statistics in one shot:"
      ]
    },
    {
      "cell_type": "code",
      "metadata": {
        "colab": {
          "base_uri": "https://localhost:8080/",
          "height": 297
        },
        "id": "WYRqvTiasJdz",
        "outputId": "08c7de88-9407-4dc9-d967-a4205fca084e"
      },
      "source": [
        "df.describe()"
      ],
      "execution_count": 233,
      "outputs": [
        {
          "output_type": "execute_result",
          "data": {
            "text/html": [
              "<div>\n",
              "<style scoped>\n",
              "    .dataframe tbody tr th:only-of-type {\n",
              "        vertical-align: middle;\n",
              "    }\n",
              "\n",
              "    .dataframe tbody tr th {\n",
              "        vertical-align: top;\n",
              "    }\n",
              "\n",
              "    .dataframe thead th {\n",
              "        text-align: right;\n",
              "    }\n",
              "</style>\n",
              "<table border=\"1\" class=\"dataframe\">\n",
              "  <thead>\n",
              "    <tr style=\"text-align: right;\">\n",
              "      <th></th>\n",
              "      <th>one</th>\n",
              "      <th>two</th>\n",
              "    </tr>\n",
              "  </thead>\n",
              "  <tbody>\n",
              "    <tr>\n",
              "      <th>count</th>\n",
              "      <td>3.000000</td>\n",
              "      <td>2.000000</td>\n",
              "    </tr>\n",
              "    <tr>\n",
              "      <th>mean</th>\n",
              "      <td>3.083333</td>\n",
              "      <td>-2.900000</td>\n",
              "    </tr>\n",
              "    <tr>\n",
              "      <th>std</th>\n",
              "      <td>3.493685</td>\n",
              "      <td>2.262742</td>\n",
              "    </tr>\n",
              "    <tr>\n",
              "      <th>min</th>\n",
              "      <td>0.750000</td>\n",
              "      <td>-4.500000</td>\n",
              "    </tr>\n",
              "    <tr>\n",
              "      <th>25%</th>\n",
              "      <td>1.075000</td>\n",
              "      <td>-3.700000</td>\n",
              "    </tr>\n",
              "    <tr>\n",
              "      <th>50%</th>\n",
              "      <td>1.400000</td>\n",
              "      <td>-2.900000</td>\n",
              "    </tr>\n",
              "    <tr>\n",
              "      <th>75%</th>\n",
              "      <td>4.250000</td>\n",
              "      <td>-2.100000</td>\n",
              "    </tr>\n",
              "    <tr>\n",
              "      <th>max</th>\n",
              "      <td>7.100000</td>\n",
              "      <td>-1.300000</td>\n",
              "    </tr>\n",
              "  </tbody>\n",
              "</table>\n",
              "</div>"
            ],
            "text/plain": [
              "            one       two\n",
              "count  3.000000  2.000000\n",
              "mean   3.083333 -2.900000\n",
              "std    3.493685  2.262742\n",
              "min    0.750000 -4.500000\n",
              "25%    1.075000 -3.700000\n",
              "50%    1.400000 -2.900000\n",
              "75%    4.250000 -2.100000\n",
              "max    7.100000 -1.300000"
            ]
          },
          "metadata": {},
          "execution_count": 233
        }
      ]
    },
    {
      "cell_type": "markdown",
      "metadata": {
        "id": "7XZOHL42sK6e"
      },
      "source": [
        "On non-numeric data, describe produces alternative summary statistics:"
      ]
    },
    {
      "cell_type": "code",
      "metadata": {
        "id": "O_DwtClNsNf2"
      },
      "source": [
        "obj = pd.Series(['a', 'a', 'b', 'c'] * 4)"
      ],
      "execution_count": 234,
      "outputs": []
    },
    {
      "cell_type": "code",
      "metadata": {
        "colab": {
          "base_uri": "https://localhost:8080/"
        },
        "id": "t6zjRRausQno",
        "outputId": "624ea5eb-6622-4727-b12e-8cbcddc524dd"
      },
      "source": [
        "obj.describe()"
      ],
      "execution_count": 235,
      "outputs": [
        {
          "output_type": "execute_result",
          "data": {
            "text/plain": [
              "count     16\n",
              "unique     3\n",
              "top        a\n",
              "freq       8\n",
              "dtype: object"
            ]
          },
          "metadata": {},
          "execution_count": 235
        }
      ]
    },
    {
      "cell_type": "markdown",
      "metadata": {
        "id": "rzrP4dIFsWIq"
      },
      "source": [
        "See Table 5-8 for a full list of summary statistics and related methods"
      ]
    },
    {
      "cell_type": "markdown",
      "metadata": {
        "id": "pN_7PwZLsXel"
      },
      "source": [
        "Table 5-8. Descriptive and summary statistics\n",
        "<p align='center'>\n",
        "<img src='data:image/png;base64,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'>\n",
        "</p>\n"
      ]
    },
    {
      "cell_type": "markdown",
      "metadata": {
        "id": "DsMElrRptV4v"
      },
      "source": [
        "## Correlation and Covariance"
      ]
    },
    {
      "cell_type": "markdown",
      "metadata": {
        "id": "MCofDPWEtYsD"
      },
      "source": [
        "Some summary statistics, like correlation and covariance, are computed from pairs of\n",
        "arguments\n",
        "\n",
        "Let’s consider some DataFrames of stock prices and volumes obtained from Yahoo! Finance using the add-on pandas-datareader package"
      ]
    },
    {
      "cell_type": "code",
      "metadata": {
        "id": "6lwG6BhMsnPb"
      },
      "source": [
        "import pandas_datareader.data as web\n",
        "all_data = {ticker: web.get_data_yahoo(ticker)\n",
        "            for ticker in ['AAPL', 'IBM', 'MSFT', 'GOOG']}\n",
        "price = pd.DataFrame({ticker: data['Adj Close']\n",
        "                      for ticker, data in all_data.items()})\n",
        "volume = pd.DataFrame({ticker: data['Volume']\n",
        "                       for ticker, data in all_data.items()})"
      ],
      "execution_count": 236,
      "outputs": []
    },
    {
      "cell_type": "code",
      "metadata": {
        "colab": {
          "base_uri": "https://localhost:8080/",
          "height": 450
        },
        "id": "t0yomGwiusiu",
        "outputId": "743274ce-71b2-446c-8a22-ac6fc1e53a48"
      },
      "source": [
        "price"
      ],
      "execution_count": 239,
      "outputs": [
        {
          "output_type": "execute_result",
          "data": {
            "text/html": [
              "<div>\n",
              "<style scoped>\n",
              "    .dataframe tbody tr th:only-of-type {\n",
              "        vertical-align: middle;\n",
              "    }\n",
              "\n",
              "    .dataframe tbody tr th {\n",
              "        vertical-align: top;\n",
              "    }\n",
              "\n",
              "    .dataframe thead th {\n",
              "        text-align: right;\n",
              "    }\n",
              "</style>\n",
              "<table border=\"1\" class=\"dataframe\">\n",
              "  <thead>\n",
              "    <tr style=\"text-align: right;\">\n",
              "      <th></th>\n",
              "      <th>AAPL</th>\n",
              "      <th>IBM</th>\n",
              "      <th>MSFT</th>\n",
              "      <th>GOOG</th>\n",
              "    </tr>\n",
              "    <tr>\n",
              "      <th>Date</th>\n",
              "      <th></th>\n",
              "      <th></th>\n",
              "      <th></th>\n",
              "      <th></th>\n",
              "    </tr>\n",
              "  </thead>\n",
              "  <tbody>\n",
              "    <tr>\n",
              "      <th>2016-09-26</th>\n",
              "      <td>26.465858</td>\n",
              "      <td>122.940903</td>\n",
              "      <td>52.645519</td>\n",
              "      <td>774.210022</td>\n",
              "    </tr>\n",
              "    <tr>\n",
              "      <th>2016-09-27</th>\n",
              "      <td>26.515097</td>\n",
              "      <td>125.168533</td>\n",
              "      <td>53.617004</td>\n",
              "      <td>783.010010</td>\n",
              "    </tr>\n",
              "    <tr>\n",
              "      <th>2016-09-28</th>\n",
              "      <td>26.716732</td>\n",
              "      <td>126.382088</td>\n",
              "      <td>53.691029</td>\n",
              "      <td>781.559998</td>\n",
              "    </tr>\n",
              "    <tr>\n",
              "      <th>2016-09-29</th>\n",
              "      <td>26.301737</td>\n",
              "      <td>126.238419</td>\n",
              "      <td>53.108139</td>\n",
              "      <td>775.010010</td>\n",
              "    </tr>\n",
              "    <tr>\n",
              "      <th>2016-09-30</th>\n",
              "      <td>26.505720</td>\n",
              "      <td>126.829239</td>\n",
              "      <td>53.293175</td>\n",
              "      <td>777.289978</td>\n",
              "    </tr>\n",
              "    <tr>\n",
              "      <th>...</th>\n",
              "      <td>...</td>\n",
              "      <td>...</td>\n",
              "      <td>...</td>\n",
              "      <td>...</td>\n",
              "    </tr>\n",
              "    <tr>\n",
              "      <th>2021-09-16</th>\n",
              "      <td>148.789993</td>\n",
              "      <td>136.429993</td>\n",
              "      <td>305.220001</td>\n",
              "      <td>2887.469971</td>\n",
              "    </tr>\n",
              "    <tr>\n",
              "      <th>2021-09-17</th>\n",
              "      <td>146.059998</td>\n",
              "      <td>135.229996</td>\n",
              "      <td>299.869995</td>\n",
              "      <td>2829.270020</td>\n",
              "    </tr>\n",
              "    <tr>\n",
              "      <th>2021-09-20</th>\n",
              "      <td>142.940002</td>\n",
              "      <td>134.309998</td>\n",
              "      <td>294.299988</td>\n",
              "      <td>2780.340088</td>\n",
              "    </tr>\n",
              "    <tr>\n",
              "      <th>2021-09-21</th>\n",
              "      <td>143.429993</td>\n",
              "      <td>132.970001</td>\n",
              "      <td>294.799988</td>\n",
              "      <td>2792.929932</td>\n",
              "    </tr>\n",
              "    <tr>\n",
              "      <th>2021-09-22</th>\n",
              "      <td>145.850006</td>\n",
              "      <td>134.630005</td>\n",
              "      <td>298.579987</td>\n",
              "      <td>2818.770020</td>\n",
              "    </tr>\n",
              "  </tbody>\n",
              "</table>\n",
              "<p>1257 rows × 4 columns</p>\n",
              "</div>"
            ],
            "text/plain": [
              "                  AAPL         IBM        MSFT         GOOG\n",
              "Date                                                       \n",
              "2016-09-26   26.465858  122.940903   52.645519   774.210022\n",
              "2016-09-27   26.515097  125.168533   53.617004   783.010010\n",
              "2016-09-28   26.716732  126.382088   53.691029   781.559998\n",
              "2016-09-29   26.301737  126.238419   53.108139   775.010010\n",
              "2016-09-30   26.505720  126.829239   53.293175   777.289978\n",
              "...                ...         ...         ...          ...\n",
              "2021-09-16  148.789993  136.429993  305.220001  2887.469971\n",
              "2021-09-17  146.059998  135.229996  299.869995  2829.270020\n",
              "2021-09-20  142.940002  134.309998  294.299988  2780.340088\n",
              "2021-09-21  143.429993  132.970001  294.799988  2792.929932\n",
              "2021-09-22  145.850006  134.630005  298.579987  2818.770020\n",
              "\n",
              "[1257 rows x 4 columns]"
            ]
          },
          "metadata": {},
          "execution_count": 239
        }
      ]
    },
    {
      "cell_type": "markdown",
      "metadata": {
        "id": "v0GR1kM0vDtw"
      },
      "source": [
        "I now compute percent changes of the prices"
      ]
    },
    {
      "cell_type": "code",
      "metadata": {
        "id": "WTuy77k7uzTH"
      },
      "source": [
        "returns = price.pct_change()"
      ],
      "execution_count": 244,
      "outputs": []
    },
    {
      "cell_type": "code",
      "metadata": {
        "colab": {
          "base_uri": "https://localhost:8080/",
          "height": 235
        },
        "id": "jJtt8sDVvJc5",
        "outputId": "5d2d70d5-83e6-4511-bbec-ba68963ab8db"
      },
      "source": [
        "returns.tail()"
      ],
      "execution_count": 245,
      "outputs": [
        {
          "output_type": "execute_result",
          "data": {
            "text/html": [
              "<div>\n",
              "<style scoped>\n",
              "    .dataframe tbody tr th:only-of-type {\n",
              "        vertical-align: middle;\n",
              "    }\n",
              "\n",
              "    .dataframe tbody tr th {\n",
              "        vertical-align: top;\n",
              "    }\n",
              "\n",
              "    .dataframe thead th {\n",
              "        text-align: right;\n",
              "    }\n",
              "</style>\n",
              "<table border=\"1\" class=\"dataframe\">\n",
              "  <thead>\n",
              "    <tr style=\"text-align: right;\">\n",
              "      <th></th>\n",
              "      <th>AAPL</th>\n",
              "      <th>IBM</th>\n",
              "      <th>MSFT</th>\n",
              "      <th>GOOG</th>\n",
              "    </tr>\n",
              "    <tr>\n",
              "      <th>Date</th>\n",
              "      <th></th>\n",
              "      <th></th>\n",
              "      <th></th>\n",
              "      <th></th>\n",
              "    </tr>\n",
              "  </thead>\n",
              "  <tbody>\n",
              "    <tr>\n",
              "      <th>2021-09-16</th>\n",
              "      <td>-0.001610</td>\n",
              "      <td>-0.005612</td>\n",
              "      <td>0.001312</td>\n",
              "      <td>-0.005733</td>\n",
              "    </tr>\n",
              "    <tr>\n",
              "      <th>2021-09-17</th>\n",
              "      <td>-0.018348</td>\n",
              "      <td>-0.008796</td>\n",
              "      <td>-0.017528</td>\n",
              "      <td>-0.020156</td>\n",
              "    </tr>\n",
              "    <tr>\n",
              "      <th>2021-09-20</th>\n",
              "      <td>-0.021361</td>\n",
              "      <td>-0.006803</td>\n",
              "      <td>-0.018575</td>\n",
              "      <td>-0.017294</td>\n",
              "    </tr>\n",
              "    <tr>\n",
              "      <th>2021-09-21</th>\n",
              "      <td>0.003428</td>\n",
              "      <td>-0.009977</td>\n",
              "      <td>0.001699</td>\n",
              "      <td>0.004528</td>\n",
              "    </tr>\n",
              "    <tr>\n",
              "      <th>2021-09-22</th>\n",
              "      <td>0.016872</td>\n",
              "      <td>0.012484</td>\n",
              "      <td>0.012822</td>\n",
              "      <td>0.009252</td>\n",
              "    </tr>\n",
              "  </tbody>\n",
              "</table>\n",
              "</div>"
            ],
            "text/plain": [
              "                AAPL       IBM      MSFT      GOOG\n",
              "Date                                              \n",
              "2021-09-16 -0.001610 -0.005612  0.001312 -0.005733\n",
              "2021-09-17 -0.018348 -0.008796 -0.017528 -0.020156\n",
              "2021-09-20 -0.021361 -0.006803 -0.018575 -0.017294\n",
              "2021-09-21  0.003428 -0.009977  0.001699  0.004528\n",
              "2021-09-22  0.016872  0.012484  0.012822  0.009252"
            ]
          },
          "metadata": {},
          "execution_count": 245
        }
      ]
    },
    {
      "cell_type": "markdown",
      "metadata": {
        "id": "iEUz91O-vMLb"
      },
      "source": [
        "The corr method of Series computes the correlation of the overlapping, non-NA, aligned-by-index values in two Series \n",
        "\n",
        "Relatedly, cov computes the covariance:"
      ]
    },
    {
      "cell_type": "code",
      "metadata": {
        "colab": {
          "base_uri": "https://localhost:8080/"
        },
        "id": "aPp3KessvTr8",
        "outputId": "d3e8fe5a-2677-49ed-e770-972303db50d7"
      },
      "source": [
        "returns['MSFT'].corr(returns['IBM'])"
      ],
      "execution_count": 253,
      "outputs": [
        {
          "output_type": "execute_result",
          "data": {
            "text/plain": [
              "0.5150960143755831"
            ]
          },
          "metadata": {},
          "execution_count": 253
        }
      ]
    },
    {
      "cell_type": "code",
      "metadata": {
        "colab": {
          "base_uri": "https://localhost:8080/"
        },
        "id": "CZgglZPyv-HU",
        "outputId": "f0d92a9e-e021-4ccd-b12e-9cd913e96ff9"
      },
      "source": [
        "returns['MSFT'].cov(returns['IBM'])"
      ],
      "execution_count": 254,
      "outputs": [
        {
          "output_type": "execute_result",
          "data": {
            "text/plain": [
              "0.0001449159997221258"
            ]
          },
          "metadata": {},
          "execution_count": 254
        }
      ]
    },
    {
      "cell_type": "markdown",
      "metadata": {
        "id": "iOohV5MLwQw6"
      },
      "source": [
        "Since MSFT is a valid Python attribute, we can also select these columns using more concise syntax:"
      ]
    },
    {
      "cell_type": "code",
      "metadata": {
        "colab": {
          "base_uri": "https://localhost:8080/"
        },
        "id": "x_wtgKFxwTgS",
        "outputId": "4a722799-8023-4126-f393-3906e5c5455f"
      },
      "source": [
        "returns.MSFT.corr(returns.IBM)"
      ],
      "execution_count": 256,
      "outputs": [
        {
          "output_type": "execute_result",
          "data": {
            "text/plain": [
              "0.5150960143755831"
            ]
          },
          "metadata": {},
          "execution_count": 256
        }
      ]
    },
    {
      "cell_type": "markdown",
      "metadata": {
        "id": "ssPWfrV1wXVS"
      },
      "source": [
        "DataFrame’ corr and cov methods, on the other hand, return a full correlation or covariance matrix as a DataFrame, respectively:"
      ]
    },
    {
      "cell_type": "code",
      "metadata": {
        "colab": {
          "base_uri": "https://localhost:8080/",
          "height": 173
        },
        "id": "NaWs6IQGwZ62",
        "outputId": "a8b4edb5-8e52-4929-e1c8-3742bbacbf7e"
      },
      "source": [
        "returns.corr()"
      ],
      "execution_count": 257,
      "outputs": [
        {
          "output_type": "execute_result",
          "data": {
            "text/html": [
              "<div>\n",
              "<style scoped>\n",
              "    .dataframe tbody tr th:only-of-type {\n",
              "        vertical-align: middle;\n",
              "    }\n",
              "\n",
              "    .dataframe tbody tr th {\n",
              "        vertical-align: top;\n",
              "    }\n",
              "\n",
              "    .dataframe thead th {\n",
              "        text-align: right;\n",
              "    }\n",
              "</style>\n",
              "<table border=\"1\" class=\"dataframe\">\n",
              "  <thead>\n",
              "    <tr style=\"text-align: right;\">\n",
              "      <th></th>\n",
              "      <th>AAPL</th>\n",
              "      <th>IBM</th>\n",
              "      <th>MSFT</th>\n",
              "      <th>GOOG</th>\n",
              "    </tr>\n",
              "  </thead>\n",
              "  <tbody>\n",
              "    <tr>\n",
              "      <th>AAPL</th>\n",
              "      <td>1.000000</td>\n",
              "      <td>0.442041</td>\n",
              "      <td>0.737134</td>\n",
              "      <td>0.664354</td>\n",
              "    </tr>\n",
              "    <tr>\n",
              "      <th>IBM</th>\n",
              "      <td>0.442041</td>\n",
              "      <td>1.000000</td>\n",
              "      <td>0.515096</td>\n",
              "      <td>0.482614</td>\n",
              "    </tr>\n",
              "    <tr>\n",
              "      <th>MSFT</th>\n",
              "      <td>0.737134</td>\n",
              "      <td>0.515096</td>\n",
              "      <td>1.000000</td>\n",
              "      <td>0.774494</td>\n",
              "    </tr>\n",
              "    <tr>\n",
              "      <th>GOOG</th>\n",
              "      <td>0.664354</td>\n",
              "      <td>0.482614</td>\n",
              "      <td>0.774494</td>\n",
              "      <td>1.000000</td>\n",
              "    </tr>\n",
              "  </tbody>\n",
              "</table>\n",
              "</div>"
            ],
            "text/plain": [
              "          AAPL       IBM      MSFT      GOOG\n",
              "AAPL  1.000000  0.442041  0.737134  0.664354\n",
              "IBM   0.442041  1.000000  0.515096  0.482614\n",
              "MSFT  0.737134  0.515096  1.000000  0.774494\n",
              "GOOG  0.664354  0.482614  0.774494  1.000000"
            ]
          },
          "metadata": {},
          "execution_count": 257
        }
      ]
    },
    {
      "cell_type": "code",
      "metadata": {
        "colab": {
          "base_uri": "https://localhost:8080/",
          "height": 173
        },
        "id": "Oc4316xQwbf4",
        "outputId": "e5dab1c3-983c-49d2-da0b-b6ca62127fcd"
      },
      "source": [
        "returns.cov()"
      ],
      "execution_count": 258,
      "outputs": [
        {
          "output_type": "execute_result",
          "data": {
            "text/html": [
              "<div>\n",
              "<style scoped>\n",
              "    .dataframe tbody tr th:only-of-type {\n",
              "        vertical-align: middle;\n",
              "    }\n",
              "\n",
              "    .dataframe tbody tr th {\n",
              "        vertical-align: top;\n",
              "    }\n",
              "\n",
              "    .dataframe thead th {\n",
              "        text-align: right;\n",
              "    }\n",
              "</style>\n",
              "<table border=\"1\" class=\"dataframe\">\n",
              "  <thead>\n",
              "    <tr style=\"text-align: right;\">\n",
              "      <th></th>\n",
              "      <th>AAPL</th>\n",
              "      <th>IBM</th>\n",
              "      <th>MSFT</th>\n",
              "      <th>GOOG</th>\n",
              "    </tr>\n",
              "  </thead>\n",
              "  <tbody>\n",
              "    <tr>\n",
              "      <th>AAPL</th>\n",
              "      <td>0.000361</td>\n",
              "      <td>0.000138</td>\n",
              "      <td>0.000241</td>\n",
              "      <td>0.000213</td>\n",
              "    </tr>\n",
              "    <tr>\n",
              "      <th>IBM</th>\n",
              "      <td>0.000138</td>\n",
              "      <td>0.000268</td>\n",
              "      <td>0.000145</td>\n",
              "      <td>0.000133</td>\n",
              "    </tr>\n",
              "    <tr>\n",
              "      <th>MSFT</th>\n",
              "      <td>0.000241</td>\n",
              "      <td>0.000145</td>\n",
              "      <td>0.000295</td>\n",
              "      <td>0.000224</td>\n",
              "    </tr>\n",
              "    <tr>\n",
              "      <th>GOOG</th>\n",
              "      <td>0.000213</td>\n",
              "      <td>0.000133</td>\n",
              "      <td>0.000224</td>\n",
              "      <td>0.000284</td>\n",
              "    </tr>\n",
              "  </tbody>\n",
              "</table>\n",
              "</div>"
            ],
            "text/plain": [
              "          AAPL       IBM      MSFT      GOOG\n",
              "AAPL  0.000361  0.000138  0.000241  0.000213\n",
              "IBM   0.000138  0.000268  0.000145  0.000133\n",
              "MSFT  0.000241  0.000145  0.000295  0.000224\n",
              "GOOG  0.000213  0.000133  0.000224  0.000284"
            ]
          },
          "metadata": {},
          "execution_count": 258
        }
      ]
    },
    {
      "cell_type": "markdown",
      "metadata": {
        "id": "WbNKFrIFwnqV"
      },
      "source": [
        "Using DataFrame’s corrwith method, you can compute pairwise correlations between a DataFrame’s columns or rows with another Series or DataFrame\n",
        "\n",
        "Passing a Series returns a Series with the correlation value computed for each column:\n"
      ]
    },
    {
      "cell_type": "code",
      "metadata": {
        "colab": {
          "base_uri": "https://localhost:8080/"
        },
        "id": "1HOGA4pMxFk_",
        "outputId": "56bca0f1-6273-4bd9-8678-945bfa5ed7df"
      },
      "source": [
        "returns.corrwith(returns.IBM)"
      ],
      "execution_count": 259,
      "outputs": [
        {
          "output_type": "execute_result",
          "data": {
            "text/plain": [
              "AAPL    0.442041\n",
              "IBM     1.000000\n",
              "MSFT    0.515096\n",
              "GOOG    0.482614\n",
              "dtype: float64"
            ]
          },
          "metadata": {},
          "execution_count": 259
        }
      ]
    },
    {
      "cell_type": "markdown",
      "metadata": {
        "id": "nk7LY0e3xQbv"
      },
      "source": [
        "Passing a DataFrame computes the correlations of matching column names\n",
        "\n",
        "Here I compute correlations of percent changes with volume:"
      ]
    },
    {
      "cell_type": "code",
      "metadata": {
        "colab": {
          "base_uri": "https://localhost:8080/"
        },
        "id": "YaDDmO4axVdV",
        "outputId": "d76500ea-b633-4fe1-9ee4-80d8289acf53"
      },
      "source": [
        "returns.corrwith(volume)"
      ],
      "execution_count": 265,
      "outputs": [
        {
          "output_type": "execute_result",
          "data": {
            "text/plain": [
              "AAPL   -0.077212\n",
              "IBM    -0.103164\n",
              "MSFT   -0.057358\n",
              "GOOG   -0.122554\n",
              "dtype: float64"
            ]
          },
          "metadata": {},
          "execution_count": 265
        }
      ]
    },
    {
      "cell_type": "markdown",
      "metadata": {
        "id": "AP-J3YHHxYX_"
      },
      "source": [
        "## Unique Values, Value Counts, and Membership"
      ]
    },
    {
      "cell_type": "markdown",
      "metadata": {
        "id": "_LRAmIGU5Kzc"
      },
      "source": [
        "Another class of related methods extracts information about the values contained in a one-dimensional Series\n",
        "\n",
        "To illustrate these, consider this example:"
      ]
    },
    {
      "cell_type": "code",
      "metadata": {
        "id": "2NPGh_M55Rb_"
      },
      "source": [
        "obj = pd.Series(['c', 'a', 'd', 'a', 'a', 'b', 'b', 'c', 'c'])"
      ],
      "execution_count": 266,
      "outputs": []
    },
    {
      "cell_type": "markdown",
      "metadata": {
        "id": "4YcVlYyd5YW0"
      },
      "source": [
        "The first function is unique, which gives you an array of the unique values in a Series:"
      ]
    },
    {
      "cell_type": "code",
      "metadata": {
        "id": "fWUFknDI5XrV"
      },
      "source": [
        "uniques = obj.unique()"
      ],
      "execution_count": 268,
      "outputs": []
    },
    {
      "cell_type": "code",
      "metadata": {
        "colab": {
          "base_uri": "https://localhost:8080/"
        },
        "id": "CGgwnjvj5f7C",
        "outputId": "95b7496e-9667-46e7-994f-0b0719a4e6de"
      },
      "source": [
        "uniques"
      ],
      "execution_count": 270,
      "outputs": [
        {
          "output_type": "execute_result",
          "data": {
            "text/plain": [
              "array(['c', 'a', 'd', 'b'], dtype=object)"
            ]
          },
          "metadata": {},
          "execution_count": 270
        }
      ]
    },
    {
      "cell_type": "markdown",
      "metadata": {
        "id": "883wGStp5kXY"
      },
      "source": [
        "The unique values are not necessarily returned in sorted order, but could be sorted after the fact if needed (uniques. sort())\n",
        "\n",
        "Relatedly, value_counts computes a Series containing value frequencies:"
      ]
    },
    {
      "cell_type": "code",
      "metadata": {
        "colab": {
          "base_uri": "https://localhost:8080/"
        },
        "id": "YHcFsWYu5jzb",
        "outputId": "5c3be22c-db1f-43c8-aea5-88ecd9466612"
      },
      "source": [
        "obj.value_counts()"
      ],
      "execution_count": 272,
      "outputs": [
        {
          "output_type": "execute_result",
          "data": {
            "text/plain": [
              "c    3\n",
              "a    3\n",
              "b    2\n",
              "d    1\n",
              "dtype: int64"
            ]
          },
          "metadata": {},
          "execution_count": 272
        }
      ]
    },
    {
      "cell_type": "markdown",
      "metadata": {
        "id": "JDM2XSHj5xtp"
      },
      "source": [
        "The Series is sorted by value in descending order as a convenience\n",
        "\n",
        "value_counts is also available as a top-level pandas method that can be used with any array or sequence:"
      ]
    },
    {
      "cell_type": "code",
      "metadata": {
        "colab": {
          "base_uri": "https://localhost:8080/"
        },
        "id": "6UDmwHya5xCl",
        "outputId": "0c20bcca-88e0-4c2f-802f-2172ff8efaef"
      },
      "source": [
        "pd.value_counts(obj.values, sort=False)"
      ],
      "execution_count": 275,
      "outputs": [
        {
          "output_type": "execute_result",
          "data": {
            "text/plain": [
              "d    1\n",
              "a    3\n",
              "b    2\n",
              "c    3\n",
              "dtype: int64"
            ]
          },
          "metadata": {},
          "execution_count": 275
        }
      ]
    },
    {
      "cell_type": "markdown",
      "metadata": {
        "id": "b7rr8gbl6Fqn"
      },
      "source": [
        "**isin performs a vectorized set membership check** and can be useful in filtering a dataset down to a subset of values in a Series or column in a DataFrame:"
      ]
    },
    {
      "cell_type": "code",
      "metadata": {
        "colab": {
          "base_uri": "https://localhost:8080/"
        },
        "id": "qT0XtZTP6FOk",
        "outputId": "923444a1-2ba6-42b9-c165-32878960ea53"
      },
      "source": [
        "obj"
      ],
      "execution_count": 276,
      "outputs": [
        {
          "output_type": "execute_result",
          "data": {
            "text/plain": [
              "0    c\n",
              "1    a\n",
              "2    d\n",
              "3    a\n",
              "4    a\n",
              "5    b\n",
              "6    b\n",
              "7    c\n",
              "8    c\n",
              "dtype: object"
            ]
          },
          "metadata": {},
          "execution_count": 276
        }
      ]
    },
    {
      "cell_type": "code",
      "metadata": {
        "id": "wmpoEL8v6MQB"
      },
      "source": [
        "mask = obj.isin(['b', 'c'])"
      ],
      "execution_count": 277,
      "outputs": []
    },
    {
      "cell_type": "code",
      "metadata": {
        "colab": {
          "base_uri": "https://localhost:8080/"
        },
        "id": "OzCUFm_86Tai",
        "outputId": "82a95078-3fc3-4ded-d75c-d61b29a60e4c"
      },
      "source": [
        "mask"
      ],
      "execution_count": 278,
      "outputs": [
        {
          "output_type": "execute_result",
          "data": {
            "text/plain": [
              "0     True\n",
              "1    False\n",
              "2    False\n",
              "3    False\n",
              "4    False\n",
              "5     True\n",
              "6     True\n",
              "7     True\n",
              "8     True\n",
              "dtype: bool"
            ]
          },
          "metadata": {},
          "execution_count": 278
        }
      ]
    },
    {
      "cell_type": "code",
      "metadata": {
        "colab": {
          "base_uri": "https://localhost:8080/"
        },
        "id": "kQ554tna6Wbh",
        "outputId": "e2c58669-41f8-442d-8d43-362b7656fd6c"
      },
      "source": [
        "obj[mask]"
      ],
      "execution_count": 282,
      "outputs": [
        {
          "output_type": "execute_result",
          "data": {
            "text/plain": [
              "0    c\n",
              "5    b\n",
              "6    b\n",
              "7    c\n",
              "8    c\n",
              "dtype: object"
            ]
          },
          "metadata": {},
          "execution_count": 282
        }
      ]
    },
    {
      "cell_type": "markdown",
      "metadata": {
        "id": "de97-_rN6eFX"
      },
      "source": [
        "Related to isin is the **Index.get_indexer method, which gives you an index array from an array of possibly non-distinct values into another array of distinct values:**"
      ]
    },
    {
      "cell_type": "code",
      "metadata": {
        "id": "gbCuke0g6par"
      },
      "source": [
        "to_match = pd.Series(['c', 'a', 'b', 'b', 'c', 'a'])"
      ],
      "execution_count": 283,
      "outputs": []
    },
    {
      "cell_type": "code",
      "metadata": {
        "id": "8Rb2o7Hr6s4D"
      },
      "source": [
        "unique_vals = pd.Series(['c', 'b', 'a'])"
      ],
      "execution_count": 284,
      "outputs": []
    },
    {
      "cell_type": "code",
      "metadata": {
        "colab": {
          "base_uri": "https://localhost:8080/"
        },
        "id": "gUgU78Gu6wau",
        "outputId": "793c040f-caad-4664-c410-a07557a485a1"
      },
      "source": [
        "pd.Index(unique_vals).get_indexer(to_match)"
      ],
      "execution_count": 298,
      "outputs": [
        {
          "output_type": "execute_result",
          "data": {
            "text/plain": [
              "array([0, 2, 1, 1, 0, 2])"
            ]
          },
          "metadata": {},
          "execution_count": 298
        }
      ]
    },
    {
      "cell_type": "markdown",
      "metadata": {
        "id": "xauZn5rZ7UPS"
      },
      "source": [
        "In some cases, you may want to compute a histogram on multiple related columns in a DataFrame. Here’s an example:"
      ]
    },
    {
      "cell_type": "code",
      "metadata": {
        "id": "bRBE6kO07X8_"
      },
      "source": [
        "data = pd.DataFrame({'Qu1': [1, 3, 4, 3, 4],\n",
        "                     'Qu2': [2, 3, 1, 2, 3],\n",
        "                     'Qu3': [1, 5, 2, 4, 4]})"
      ],
      "execution_count": 295,
      "outputs": []
    },
    {
      "cell_type": "code",
      "metadata": {
        "colab": {
          "base_uri": "https://localhost:8080/",
          "height": 204
        },
        "id": "dcQklUxk7hRB",
        "outputId": "fa05d1b9-f9bf-41a0-c527-582c830dedf7"
      },
      "source": [
        "data"
      ],
      "execution_count": 296,
      "outputs": [
        {
          "output_type": "execute_result",
          "data": {
            "text/html": [
              "<div>\n",
              "<style scoped>\n",
              "    .dataframe tbody tr th:only-of-type {\n",
              "        vertical-align: middle;\n",
              "    }\n",
              "\n",
              "    .dataframe tbody tr th {\n",
              "        vertical-align: top;\n",
              "    }\n",
              "\n",
              "    .dataframe thead th {\n",
              "        text-align: right;\n",
              "    }\n",
              "</style>\n",
              "<table border=\"1\" class=\"dataframe\">\n",
              "  <thead>\n",
              "    <tr style=\"text-align: right;\">\n",
              "      <th></th>\n",
              "      <th>Qu1</th>\n",
              "      <th>Qu2</th>\n",
              "      <th>Qu3</th>\n",
              "    </tr>\n",
              "  </thead>\n",
              "  <tbody>\n",
              "    <tr>\n",
              "      <th>0</th>\n",
              "      <td>1</td>\n",
              "      <td>2</td>\n",
              "      <td>1</td>\n",
              "    </tr>\n",
              "    <tr>\n",
              "      <th>1</th>\n",
              "      <td>3</td>\n",
              "      <td>3</td>\n",
              "      <td>5</td>\n",
              "    </tr>\n",
              "    <tr>\n",
              "      <th>2</th>\n",
              "      <td>4</td>\n",
              "      <td>1</td>\n",
              "      <td>2</td>\n",
              "    </tr>\n",
              "    <tr>\n",
              "      <th>3</th>\n",
              "      <td>3</td>\n",
              "      <td>2</td>\n",
              "      <td>4</td>\n",
              "    </tr>\n",
              "    <tr>\n",
              "      <th>4</th>\n",
              "      <td>4</td>\n",
              "      <td>3</td>\n",
              "      <td>4</td>\n",
              "    </tr>\n",
              "  </tbody>\n",
              "</table>\n",
              "</div>"
            ],
            "text/plain": [
              "   Qu1  Qu2  Qu3\n",
              "0    1    2    1\n",
              "1    3    3    5\n",
              "2    4    1    2\n",
              "3    3    2    4\n",
              "4    4    3    4"
            ]
          },
          "metadata": {},
          "execution_count": 296
        }
      ]
    },
    {
      "cell_type": "markdown",
      "metadata": {
        "id": "wQyOa8X072VS"
      },
      "source": [
        "Passing pandas.value_counts to this DataFrame’s apply function gives:"
      ]
    },
    {
      "cell_type": "code",
      "metadata": {
        "id": "sdGiS1xo79Hi"
      },
      "source": [
        "result = data.apply(pd.value_counts).fillna(0)"
      ],
      "execution_count": 310,
      "outputs": []
    },
    {
      "cell_type": "code",
      "metadata": {
        "colab": {
          "base_uri": "https://localhost:8080/",
          "height": 204
        },
        "id": "jxBonQ0G8BGF",
        "outputId": "a95153be-9a91-4c8e-e8a1-5116f528fad2"
      },
      "source": [
        "result"
      ],
      "execution_count": 309,
      "outputs": [
        {
          "output_type": "execute_result",
          "data": {
            "text/html": [
              "<div>\n",
              "<style scoped>\n",
              "    .dataframe tbody tr th:only-of-type {\n",
              "        vertical-align: middle;\n",
              "    }\n",
              "\n",
              "    .dataframe tbody tr th {\n",
              "        vertical-align: top;\n",
              "    }\n",
              "\n",
              "    .dataframe thead th {\n",
              "        text-align: right;\n",
              "    }\n",
              "</style>\n",
              "<table border=\"1\" class=\"dataframe\">\n",
              "  <thead>\n",
              "    <tr style=\"text-align: right;\">\n",
              "      <th></th>\n",
              "      <th>Qu1</th>\n",
              "      <th>Qu2</th>\n",
              "      <th>Qu3</th>\n",
              "    </tr>\n",
              "  </thead>\n",
              "  <tbody>\n",
              "    <tr>\n",
              "      <th>1</th>\n",
              "      <td>1.0</td>\n",
              "      <td>1.0</td>\n",
              "      <td>1.0</td>\n",
              "    </tr>\n",
              "    <tr>\n",
              "      <th>2</th>\n",
              "      <td>NaN</td>\n",
              "      <td>2.0</td>\n",
              "      <td>1.0</td>\n",
              "    </tr>\n",
              "    <tr>\n",
              "      <th>3</th>\n",
              "      <td>2.0</td>\n",
              "      <td>2.0</td>\n",
              "      <td>NaN</td>\n",
              "    </tr>\n",
              "    <tr>\n",
              "      <th>4</th>\n",
              "      <td>2.0</td>\n",
              "      <td>NaN</td>\n",
              "      <td>2.0</td>\n",
              "    </tr>\n",
              "    <tr>\n",
              "      <th>5</th>\n",
              "      <td>NaN</td>\n",
              "      <td>NaN</td>\n",
              "      <td>1.0</td>\n",
              "    </tr>\n",
              "  </tbody>\n",
              "</table>\n",
              "</div>"
            ],
            "text/plain": [
              "   Qu1  Qu2  Qu3\n",
              "1  1.0  1.0  1.0\n",
              "2  NaN  2.0  1.0\n",
              "3  2.0  2.0  NaN\n",
              "4  2.0  NaN  2.0\n",
              "5  NaN  NaN  1.0"
            ]
          },
          "metadata": {},
          "execution_count": 309
        }
      ]
    },
    {
      "cell_type": "markdown",
      "metadata": {
        "id": "a6dQ_d4l8Tib"
      },
      "source": [
        "Here, the row labels in the result are the distinct values occurring in all of the columns\n",
        "\n",
        "The values are the respective counts of these values in each column"
      ]
    },
    {
      "cell_type": "markdown",
      "metadata": {
        "id": "ead2GZGv6pEp"
      },
      "source": [
        "See Table 5-9 for a reference on these methods"
      ]
    },
    {
      "cell_type": "markdown",
      "metadata": {
        "id": "TFH9MkG-6eBA"
      },
      "source": [
        "Table 5-9. Unique, value counts, and set membership methods\n",
        "<p align='center'>\n",
        "<img src='data:image/png;base64,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'>\n",
        "</p>"
      ]
    }
  ]
}