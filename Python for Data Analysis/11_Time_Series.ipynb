{
  "nbformat": 4,
  "nbformat_minor": 0,
  "metadata": {
    "colab": {
      "name": "11.Time Series.ipynb",
      "provenance": [],
      "collapsed_sections": [],
      "authorship_tag": "ABX9TyMh5hlAuGuDP0O5GjKmIHjZ"
    },
    "kernelspec": {
      "name": "python3",
      "display_name": "Python 3"
    },
    "language_info": {
      "name": "python"
    }
  },
  "cells": [
    {
      "cell_type": "markdown",
      "metadata": {
        "id": "eQbWPZGis-oP"
      },
      "source": [
        "#11.1 Date and Time Data Types and Tools"
      ]
    },
    {
      "cell_type": "markdown",
      "metadata": {
        "id": "gSmA_j_67px1"
      },
      "source": [
        "The Python standard library includes data types for date and time data, as well as calendar-related functionality\n",
        "\n",
        "The **datetime.datetime** type, or simply datetime, is widely used:"
      ]
    },
    {
      "cell_type": "code",
      "metadata": {
        "id": "3hfHI3zesitl"
      },
      "source": [
        "from datetime import datetime"
      ],
      "execution_count": 1,
      "outputs": []
    },
    {
      "cell_type": "code",
      "metadata": {
        "id": "2TfQ5fRH79ch"
      },
      "source": [
        "now = datetime.now()"
      ],
      "execution_count": 2,
      "outputs": []
    },
    {
      "cell_type": "code",
      "metadata": {
        "colab": {
          "base_uri": "https://localhost:8080/"
        },
        "id": "O-P1qCs48BvA",
        "outputId": "b2b0b513-5a78-4893-eca4-84293bf55993"
      },
      "source": [
        "now"
      ],
      "execution_count": 3,
      "outputs": [
        {
          "output_type": "execute_result",
          "data": {
            "text/plain": [
              "datetime.datetime(2021, 10, 9, 8, 55, 38, 726102)"
            ]
          },
          "metadata": {},
          "execution_count": 3
        }
      ]
    },
    {
      "cell_type": "code",
      "metadata": {
        "colab": {
          "base_uri": "https://localhost:8080/"
        },
        "id": "Mwx46Dw28J4W",
        "outputId": "a6102b83-e497-4342-a610-ebf154ff60fd"
      },
      "source": [
        "now.year, now.month, now.day"
      ],
      "execution_count": 4,
      "outputs": [
        {
          "output_type": "execute_result",
          "data": {
            "text/plain": [
              "(2021, 10, 9)"
            ]
          },
          "metadata": {},
          "execution_count": 4
        }
      ]
    },
    {
      "cell_type": "markdown",
      "metadata": {
        "id": "Cbpya_gJ8PNh"
      },
      "source": [
        "datetime stores both the date and time down to the **microsecond**\n",
        "\n",
        "**timedelta represents the temporal difference between two datetime objects:**"
      ]
    },
    {
      "cell_type": "code",
      "metadata": {
        "id": "6HM3Ni9a8dxw"
      },
      "source": [
        "delta = datetime(2011, 1, 7) - datetime(2008, 6, 24, 8, 15)"
      ],
      "execution_count": 5,
      "outputs": []
    },
    {
      "cell_type": "code",
      "metadata": {
        "colab": {
          "base_uri": "https://localhost:8080/"
        },
        "id": "D3Dkkabq8oF-",
        "outputId": "be858fd5-0e4c-4e3c-dee7-c86f3d3a450d"
      },
      "source": [
        "delta"
      ],
      "execution_count": 6,
      "outputs": [
        {
          "output_type": "execute_result",
          "data": {
            "text/plain": [
              "datetime.timedelta(days=926, seconds=56700)"
            ]
          },
          "metadata": {},
          "execution_count": 6
        }
      ]
    },
    {
      "cell_type": "code",
      "metadata": {
        "colab": {
          "base_uri": "https://localhost:8080/"
        },
        "id": "4aCI66twG5X6",
        "outputId": "4843503c-422c-4f47-8d39-90897bbb8a3d"
      },
      "source": [
        "delta.days"
      ],
      "execution_count": 7,
      "outputs": [
        {
          "output_type": "execute_result",
          "data": {
            "text/plain": [
              "926"
            ]
          },
          "metadata": {},
          "execution_count": 7
        }
      ]
    },
    {
      "cell_type": "code",
      "metadata": {
        "colab": {
          "base_uri": "https://localhost:8080/"
        },
        "id": "sNNiEp0KG6XZ",
        "outputId": "be7dd8ac-6026-4ac9-b8d7-2040959a0972"
      },
      "source": [
        "delta.seconds"
      ],
      "execution_count": 8,
      "outputs": [
        {
          "output_type": "execute_result",
          "data": {
            "text/plain": [
              "56700"
            ]
          },
          "metadata": {},
          "execution_count": 8
        }
      ]
    },
    {
      "cell_type": "markdown",
      "metadata": {
        "id": "edmYuyVk8t1S"
      },
      "source": [
        "You can **add** (or **subtract**) a timedelta or multiple thereof to a datetime object to yield a new shifted object:"
      ]
    },
    {
      "cell_type": "code",
      "metadata": {
        "id": "AoUAJISk82A-"
      },
      "source": [
        "from datetime import timedelta"
      ],
      "execution_count": 9,
      "outputs": []
    },
    {
      "cell_type": "code",
      "metadata": {
        "id": "MzMQATAM83eR"
      },
      "source": [
        "start = datetime(2011, 1, 7)"
      ],
      "execution_count": 10,
      "outputs": []
    },
    {
      "cell_type": "code",
      "metadata": {
        "colab": {
          "base_uri": "https://localhost:8080/"
        },
        "id": "J-l230Ex9FeE",
        "outputId": "035e997d-6521-47be-b5c9-5f127a63f581"
      },
      "source": [
        "start + timedelta(12)"
      ],
      "execution_count": 11,
      "outputs": [
        {
          "output_type": "execute_result",
          "data": {
            "text/plain": [
              "datetime.datetime(2011, 1, 19, 0, 0)"
            ]
          },
          "metadata": {},
          "execution_count": 11
        }
      ]
    },
    {
      "cell_type": "code",
      "metadata": {
        "colab": {
          "base_uri": "https://localhost:8080/"
        },
        "id": "blhk9q_N9LT_",
        "outputId": "c781b578-d842-4c23-b133-8fa3f0509f02"
      },
      "source": [
        "start - 2 * timedelta(12)"
      ],
      "execution_count": 12,
      "outputs": [
        {
          "output_type": "execute_result",
          "data": {
            "text/plain": [
              "datetime.datetime(2010, 12, 14, 0, 0)"
            ]
          },
          "metadata": {},
          "execution_count": 12
        }
      ]
    },
    {
      "cell_type": "markdown",
      "metadata": {
        "id": "lrN9XhkM9P_S"
      },
      "source": [
        "Table 11-1 summarizes the data types in the datetime module\n",
        "\n"
      ]
    },
    {
      "cell_type": "markdown",
      "metadata": {
        "id": "e78J335TGSG9"
      },
      "source": [
        "Table 11-1. Types in datetime module\n",
        "<p align='center'>\n",
        "<img src='data:image/png;base64,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'>\n",
        "</p>"
      ]
    },
    {
      "cell_type": "markdown",
      "metadata": {
        "id": "Ivyl4XmNGcA9"
      },
      "source": [
        "##Converting Between String and Datetime"
      ]
    },
    {
      "cell_type": "markdown",
      "metadata": {
        "id": "fmxiNV3fGhXl"
      },
      "source": [
        "You can format **datetime** objects and **pandas Timestamp** objects **as strings** using **str or the strftime** method, passing a format specification: "
      ]
    },
    {
      "cell_type": "code",
      "metadata": {
        "id": "k8m7Arv-HRlR"
      },
      "source": [
        "stamp = datetime(2011, 1, 3)"
      ],
      "execution_count": 13,
      "outputs": []
    },
    {
      "cell_type": "code",
      "metadata": {
        "colab": {
          "base_uri": "https://localhost:8080/",
          "height": 34
        },
        "id": "mZAbklhQHTzx",
        "outputId": "792cbd7d-53f5-4e91-df16-caa571569ed0"
      },
      "source": [
        "str(stamp)"
      ],
      "execution_count": 14,
      "outputs": [
        {
          "output_type": "execute_result",
          "data": {
            "application/vnd.google.colaboratory.intrinsic+json": {
              "type": "string"
            },
            "text/plain": [
              "'2011-01-03 00:00:00'"
            ]
          },
          "metadata": {},
          "execution_count": 14
        }
      ]
    },
    {
      "cell_type": "code",
      "metadata": {
        "colab": {
          "base_uri": "https://localhost:8080/",
          "height": 34
        },
        "id": "CYIYc3cnHWEl",
        "outputId": "07913c86-b534-4eae-8255-9b958664beb8"
      },
      "source": [
        "stamp.strftime('%Y-%m-%d')"
      ],
      "execution_count": 15,
      "outputs": [
        {
          "output_type": "execute_result",
          "data": {
            "application/vnd.google.colaboratory.intrinsic+json": {
              "type": "string"
            },
            "text/plain": [
              "'2011-01-03'"
            ]
          },
          "metadata": {},
          "execution_count": 15
        }
      ]
    },
    {
      "cell_type": "markdown",
      "metadata": {
        "id": "sAH5JiO0HcbJ"
      },
      "source": [
        "See Table 11-2 for a complete list of the format codes"
      ]
    },
    {
      "cell_type": "markdown",
      "metadata": {
        "id": "iHTACmDwHcuD"
      },
      "source": [
        "Table 11-2. Datetime format speciication (ISO C89 compatible)\n",
        "<p align='center'>\n",
        "<img src='data:image/png;base64,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'>\n",
        "</p>"
      ]
    },
    {
      "cell_type": "markdown",
      "metadata": {
        "id": "NmwTq8YrIVgT"
      },
      "source": [
        "You can use these same format codes to convert **strings to dates** using date **time.strptime:**"
      ]
    },
    {
      "cell_type": "code",
      "metadata": {
        "id": "MiHPasjQIche"
      },
      "source": [
        "value = '2011-01-03'"
      ],
      "execution_count": 16,
      "outputs": []
    },
    {
      "cell_type": "code",
      "metadata": {
        "colab": {
          "base_uri": "https://localhost:8080/"
        },
        "id": "ec6zVmNyId-f",
        "outputId": "58e1d139-0be0-4dc5-95a6-92abd5c7567e"
      },
      "source": [
        "datetime.strptime(value, '%Y-%m-%d')"
      ],
      "execution_count": 17,
      "outputs": [
        {
          "output_type": "execute_result",
          "data": {
            "text/plain": [
              "datetime.datetime(2011, 1, 3, 0, 0)"
            ]
          },
          "metadata": {},
          "execution_count": 17
        }
      ]
    },
    {
      "cell_type": "code",
      "metadata": {
        "id": "OAxrOoyjIpuw"
      },
      "source": [
        "datestrs = ['7/6/2011', '8/6/2011']"
      ],
      "execution_count": 18,
      "outputs": []
    },
    {
      "cell_type": "code",
      "metadata": {
        "colab": {
          "base_uri": "https://localhost:8080/"
        },
        "id": "o3OS_lPFIyvQ",
        "outputId": "b16d5580-bf11-42d7-d589-883c5de65b1e"
      },
      "source": [
        "[datetime.strptime(x, '%m/%d/%Y') for x in datestrs]"
      ],
      "execution_count": 19,
      "outputs": [
        {
          "output_type": "execute_result",
          "data": {
            "text/plain": [
              "[datetime.datetime(2011, 7, 6, 0, 0), datetime.datetime(2011, 8, 6, 0, 0)]"
            ]
          },
          "metadata": {},
          "execution_count": 19
        }
      ]
    },
    {
      "cell_type": "markdown",
      "metadata": {
        "id": "qzzkfNtOJO8G"
      },
      "source": [
        "datetime.strptime is a good way to parse a date with a known format\n",
        "\n",
        "However, it can be a bit annoying to have to write a format spec each time, especially for **common date formats**\n",
        "\n",
        "In this case, you can use the **parser.parse** method in the third-party **dateutil** package (this is installed automatically when you install pandas):"
      ]
    },
    {
      "cell_type": "code",
      "metadata": {
        "id": "5aNd-nJ7Jeco"
      },
      "source": [
        "from dateutil.parser import parse"
      ],
      "execution_count": 20,
      "outputs": []
    },
    {
      "cell_type": "code",
      "metadata": {
        "colab": {
          "base_uri": "https://localhost:8080/"
        },
        "id": "4MhyMiMtJgTt",
        "outputId": "4eb98e99-f47e-4a08-ef9f-7ecab1cdafea"
      },
      "source": [
        "parse('2011-01-03')"
      ],
      "execution_count": 21,
      "outputs": [
        {
          "output_type": "execute_result",
          "data": {
            "text/plain": [
              "datetime.datetime(2011, 1, 3, 0, 0)"
            ]
          },
          "metadata": {},
          "execution_count": 21
        }
      ]
    },
    {
      "cell_type": "markdown",
      "metadata": {
        "id": "h4i4vWO8Jlsg"
      },
      "source": [
        "dateutil is capable of parsing most human-intelligible date representations"
      ]
    },
    {
      "cell_type": "code",
      "metadata": {
        "colab": {
          "base_uri": "https://localhost:8080/"
        },
        "id": "rldttK_WJjKr",
        "outputId": "4d96f687-ab29-4262-fdbc-6aaa4845b030"
      },
      "source": [
        "parse('Jan 31, 1997 10:45 PM')"
      ],
      "execution_count": 22,
      "outputs": [
        {
          "output_type": "execute_result",
          "data": {
            "text/plain": [
              "datetime.datetime(1997, 1, 31, 22, 45)"
            ]
          },
          "metadata": {},
          "execution_count": 22
        }
      ]
    },
    {
      "cell_type": "markdown",
      "metadata": {
        "id": "ifYzgohOJpg4"
      },
      "source": [
        "strptimeIn international locales, **day appearing before month** is very common, so you can pass **dayfirst=True** to indicate this:"
      ]
    },
    {
      "cell_type": "code",
      "metadata": {
        "colab": {
          "base_uri": "https://localhost:8080/"
        },
        "id": "gcAKhbZzJiks",
        "outputId": "444f0e02-7f69-4697-b22d-565c5f855b3a"
      },
      "source": [
        "parse('6/12/2011', dayfirst=True)"
      ],
      "execution_count": 23,
      "outputs": [
        {
          "output_type": "execute_result",
          "data": {
            "text/plain": [
              "datetime.datetime(2011, 12, 6, 0, 0)"
            ]
          },
          "metadata": {},
          "execution_count": 23
        }
      ]
    },
    {
      "cell_type": "markdown",
      "metadata": {
        "id": "1Lqrz19yKBBP"
      },
      "source": [
        "pandas is generally oriented toward working with arrays of dates, whether used as an axis index or a column in a DataFrame\n",
        "\n",
        "The **to_datetime** method **parses many different kinds of date representations.** Standard date formats like **ISO 8601** can be parsed very quickly:"
      ]
    },
    {
      "cell_type": "code",
      "metadata": {
        "id": "8vjyJWZFKdqf"
      },
      "source": [
        "datestrs = ['2011-07-06 12:00:00', '2011-08-06 00:00:00']"
      ],
      "execution_count": 24,
      "outputs": []
    },
    {
      "cell_type": "code",
      "metadata": {
        "id": "ZOM6upR4Kmc2"
      },
      "source": [
        "import pandas as pd"
      ],
      "execution_count": 25,
      "outputs": []
    },
    {
      "cell_type": "code",
      "metadata": {
        "colab": {
          "base_uri": "https://localhost:8080/"
        },
        "id": "-1F0fjrQKjhx",
        "outputId": "5785d0d8-9044-41f1-8133-653a4542fb26"
      },
      "source": [
        "pd.to_datetime(datestrs)"
      ],
      "execution_count": 26,
      "outputs": [
        {
          "output_type": "execute_result",
          "data": {
            "text/plain": [
              "DatetimeIndex(['2011-07-06 12:00:00', '2011-08-06 00:00:00'], dtype='datetime64[ns]', freq=None)"
            ]
          },
          "metadata": {},
          "execution_count": 26
        }
      ]
    },
    {
      "cell_type": "markdown",
      "metadata": {
        "id": "LzoJWhinK9kM"
      },
      "source": [
        "It also handles values that should be considered missing (None, empty string, etc.):"
      ]
    },
    {
      "cell_type": "code",
      "metadata": {
        "id": "1paePsVQLBHl"
      },
      "source": [
        "idx = pd.to_datetime(datestrs + [None])"
      ],
      "execution_count": 27,
      "outputs": []
    },
    {
      "cell_type": "code",
      "metadata": {
        "colab": {
          "base_uri": "https://localhost:8080/"
        },
        "id": "8uCUcnCFLEej",
        "outputId": "89871c5c-8666-4983-bf3a-0a516871317e"
      },
      "source": [
        "idx"
      ],
      "execution_count": 28,
      "outputs": [
        {
          "output_type": "execute_result",
          "data": {
            "text/plain": [
              "DatetimeIndex(['2011-07-06 12:00:00', '2011-08-06 00:00:00', 'NaT'], dtype='datetime64[ns]', freq=None)"
            ]
          },
          "metadata": {},
          "execution_count": 28
        }
      ]
    },
    {
      "cell_type": "code",
      "metadata": {
        "colab": {
          "base_uri": "https://localhost:8080/"
        },
        "id": "ZKN9qFB1LGFn",
        "outputId": "47b5ac10-525a-468e-890b-149a668db67f"
      },
      "source": [
        "idx[2]"
      ],
      "execution_count": 29,
      "outputs": [
        {
          "output_type": "execute_result",
          "data": {
            "text/plain": [
              "NaT"
            ]
          },
          "metadata": {},
          "execution_count": 29
        }
      ]
    },
    {
      "cell_type": "code",
      "metadata": {
        "colab": {
          "base_uri": "https://localhost:8080/"
        },
        "id": "SCoW_wPRLITY",
        "outputId": "eadab337-ec10-4c9b-c047-44c2666a18eb"
      },
      "source": [
        "pd.isnull(idx)"
      ],
      "execution_count": 30,
      "outputs": [
        {
          "output_type": "execute_result",
          "data": {
            "text/plain": [
              "array([False, False,  True])"
            ]
          },
          "metadata": {},
          "execution_count": 30
        }
      ]
    },
    {
      "cell_type": "markdown",
      "metadata": {
        "id": "8NygyDueLKBC"
      },
      "source": [
        "NaT (Not a Time) is pandas’s null value for timestamp data"
      ]
    },
    {
      "cell_type": "markdown",
      "metadata": {
        "id": "ea33aYd7LRKC"
      },
      "source": [
        "**datetime objects also have a number of locale-specific formatting options for systems in other countries or languages**\n",
        "\n",
        "For example, the abbreviated month names will be different on German or French systems compared with English systems\n",
        "\n",
        "See Table 11-3 for a listing"
      ]
    },
    {
      "cell_type": "markdown",
      "metadata": {
        "id": "h_1ChwuCLY5d"
      },
      "source": [
        "Table 11-3. Locale-speciic date formatting\n",
        "<p align='center'>\n",
        "<img src='data:image/png;base64,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'>\n",
        "</p>"
      ]
    },
    {
      "cell_type": "markdown",
      "metadata": {
        "id": "5Go5CDxaLoNv"
      },
      "source": [
        "# 11.2 Time Series Basics"
      ]
    },
    {
      "cell_type": "markdown",
      "metadata": {
        "id": "RJhwOWrSL4Z8"
      },
      "source": [
        "A basic kind of time series object in pandas is a Series **indexed by timestamps,** which is often represented external to pandas as Python strings or datetime objects:"
      ]
    },
    {
      "cell_type": "code",
      "metadata": {
        "id": "p6mYWBnCL_gm"
      },
      "source": [
        "from datetime import datetime\n",
        "import numpy as np"
      ],
      "execution_count": 31,
      "outputs": []
    },
    {
      "cell_type": "code",
      "metadata": {
        "id": "4TQA6Fq3MBT6"
      },
      "source": [
        "dates = [datetime(2011, 1, 2), datetime(2011, 1, 5),\n",
        "         datetime(2011, 1, 7), datetime(2011, 1, 8),\n",
        "         datetime(2011, 1, 10), datetime(2011, 1, 12)]"
      ],
      "execution_count": 32,
      "outputs": []
    },
    {
      "cell_type": "code",
      "metadata": {
        "id": "GQNweZH8MLDJ"
      },
      "source": [
        "ts = pd.Series(np.random.randn(6), index=dates)"
      ],
      "execution_count": 33,
      "outputs": []
    },
    {
      "cell_type": "code",
      "metadata": {
        "colab": {
          "base_uri": "https://localhost:8080/"
        },
        "id": "6cVnxhp9MRnM",
        "outputId": "73d76be3-de91-4246-86cd-de89b4265a9e"
      },
      "source": [
        "ts"
      ],
      "execution_count": 34,
      "outputs": [
        {
          "output_type": "execute_result",
          "data": {
            "text/plain": [
              "2011-01-02   -1.627243\n",
              "2011-01-05    1.693687\n",
              "2011-01-07   -1.824543\n",
              "2011-01-08    0.985884\n",
              "2011-01-10    0.719644\n",
              "2011-01-12    1.496330\n",
              "dtype: float64"
            ]
          },
          "metadata": {},
          "execution_count": 34
        }
      ]
    },
    {
      "cell_type": "markdown",
      "metadata": {
        "id": "UesizGQyMUtz"
      },
      "source": [
        "Under the hood, **these datetime objects have been put in a DatetimeIndex:**"
      ]
    },
    {
      "cell_type": "code",
      "metadata": {
        "colab": {
          "base_uri": "https://localhost:8080/"
        },
        "id": "ELsLT6J7MXvg",
        "outputId": "f64017ae-30b6-4dd4-d7c3-bb77fecd536b"
      },
      "source": [
        "ts.index"
      ],
      "execution_count": 35,
      "outputs": [
        {
          "output_type": "execute_result",
          "data": {
            "text/plain": [
              "DatetimeIndex(['2011-01-02', '2011-01-05', '2011-01-07', '2011-01-08',\n",
              "               '2011-01-10', '2011-01-12'],\n",
              "              dtype='datetime64[ns]', freq=None)"
            ]
          },
          "metadata": {},
          "execution_count": 35
        }
      ]
    },
    {
      "cell_type": "markdown",
      "metadata": {
        "id": "x2cyB7LVMbxI"
      },
      "source": [
        "Like other Series, arithmetic operations between differently indexed time series automatically **align on the dates:**"
      ]
    },
    {
      "cell_type": "code",
      "metadata": {
        "colab": {
          "base_uri": "https://localhost:8080/"
        },
        "id": "XYlNMoUyMhcD",
        "outputId": "38ffa88f-0ad5-4212-d9d8-1d6179e793d0"
      },
      "source": [
        "ts + ts[::2]"
      ],
      "execution_count": 36,
      "outputs": [
        {
          "output_type": "execute_result",
          "data": {
            "text/plain": [
              "2011-01-02   -3.254485\n",
              "2011-01-05         NaN\n",
              "2011-01-07   -3.649087\n",
              "2011-01-08         NaN\n",
              "2011-01-10    1.439287\n",
              "2011-01-12         NaN\n",
              "dtype: float64"
            ]
          },
          "metadata": {},
          "execution_count": 36
        }
      ]
    },
    {
      "cell_type": "markdown",
      "metadata": {
        "id": "GCXf7YCsMs5E"
      },
      "source": [
        "Recall that ts[::2] selects every second element in ts\n",
        "\n",
        "**pandas stores timestamps using NumPy’s datetime64 data type** at the nanosecond resolution:"
      ]
    },
    {
      "cell_type": "code",
      "metadata": {
        "colab": {
          "base_uri": "https://localhost:8080/"
        },
        "id": "vp3hsl-oM3x3",
        "outputId": "008a01bc-e890-4861-935f-d87217f89e1d"
      },
      "source": [
        "ts.index.dtype"
      ],
      "execution_count": 37,
      "outputs": [
        {
          "output_type": "execute_result",
          "data": {
            "text/plain": [
              "dtype('<M8[ns]')"
            ]
          },
          "metadata": {},
          "execution_count": 37
        }
      ]
    },
    {
      "cell_type": "markdown",
      "metadata": {
        "id": "pHdGRnpnM5hY"
      },
      "source": [
        "Scalar values from a DatetimeIndex are **pandas Timestamp** objects:"
      ]
    },
    {
      "cell_type": "code",
      "metadata": {
        "id": "O7gBtvpvM_uS"
      },
      "source": [
        "stamp = ts.index[0]"
      ],
      "execution_count": 38,
      "outputs": []
    },
    {
      "cell_type": "code",
      "metadata": {
        "colab": {
          "base_uri": "https://localhost:8080/"
        },
        "id": "T3T1CBr9NBde",
        "outputId": "82fa5ddb-03f0-436b-f7ab-806c87301811"
      },
      "source": [
        "stamp"
      ],
      "execution_count": 39,
      "outputs": [
        {
          "output_type": "execute_result",
          "data": {
            "text/plain": [
              "Timestamp('2011-01-02 00:00:00')"
            ]
          },
          "metadata": {},
          "execution_count": 39
        }
      ]
    },
    {
      "cell_type": "markdown",
      "metadata": {
        "id": "WZIQ2T5sNH3F"
      },
      "source": [
        "**A Timestamp can be substituted anywhere you would use a datetime object**"
      ]
    },
    {
      "cell_type": "markdown",
      "metadata": {
        "id": "5_JYiWtNNOpv"
      },
      "source": [
        "## Indexing, Selection, Subsetting"
      ]
    },
    {
      "cell_type": "markdown",
      "metadata": {
        "id": "b1xkpk0ANQwS"
      },
      "source": [
        "Time series behaves like any other pandas.Series when you are indexing and selecting data based on label:"
      ]
    },
    {
      "cell_type": "code",
      "metadata": {
        "id": "WTMIn3TBNVYE"
      },
      "source": [
        "stamp = ts.index[2]"
      ],
      "execution_count": 40,
      "outputs": []
    },
    {
      "cell_type": "code",
      "metadata": {
        "colab": {
          "base_uri": "https://localhost:8080/"
        },
        "id": "oaXk2JhXNXL9",
        "outputId": "880aba65-ad16-4f40-c93a-4be6f26e98d4"
      },
      "source": [
        "ts[stamp]"
      ],
      "execution_count": 41,
      "outputs": [
        {
          "output_type": "execute_result",
          "data": {
            "text/plain": [
              "-1.8245432665551737"
            ]
          },
          "metadata": {},
          "execution_count": 41
        }
      ]
    },
    {
      "cell_type": "markdown",
      "metadata": {
        "id": "esrQtp_lNetJ"
      },
      "source": [
        "As a convenience, **you can also pass a string that is interpretable as a date:**"
      ]
    },
    {
      "cell_type": "code",
      "metadata": {
        "colab": {
          "base_uri": "https://localhost:8080/"
        },
        "id": "KZXiOE3aNhG3",
        "outputId": "38ea2c8f-39d0-430e-f78a-3fd72b0eb679"
      },
      "source": [
        "ts['1/10/2011']"
      ],
      "execution_count": 42,
      "outputs": [
        {
          "output_type": "execute_result",
          "data": {
            "text/plain": [
              "0.7196437343655472"
            ]
          },
          "metadata": {},
          "execution_count": 42
        }
      ]
    },
    {
      "cell_type": "code",
      "metadata": {
        "colab": {
          "base_uri": "https://localhost:8080/"
        },
        "id": "1F_mRKcUNijO",
        "outputId": "f3a30bc5-a44d-4a07-d678-a2044d9025c6"
      },
      "source": [
        "ts['20110110']"
      ],
      "execution_count": 43,
      "outputs": [
        {
          "output_type": "execute_result",
          "data": {
            "text/plain": [
              "0.7196437343655472"
            ]
          },
          "metadata": {},
          "execution_count": 43
        }
      ]
    },
    {
      "cell_type": "markdown",
      "metadata": {
        "id": "OgNvdwBlNkvP"
      },
      "source": [
        "For longer time series, **a year or only a year and month can be passed to easily select slices of data:**"
      ]
    },
    {
      "cell_type": "code",
      "metadata": {
        "id": "YWQMKvn3NtWp"
      },
      "source": [
        "longer_ts = pd.Series(np.random.randn(1000),\n",
        "                      index=pd.date_range('1/1/2000', periods=1000))"
      ],
      "execution_count": 44,
      "outputs": []
    },
    {
      "cell_type": "code",
      "metadata": {
        "colab": {
          "base_uri": "https://localhost:8080/"
        },
        "id": "xw39NnH2N0W2",
        "outputId": "e5919c1e-97be-493a-8bdc-1547b8c414a8"
      },
      "source": [
        "longer_ts"
      ],
      "execution_count": 45,
      "outputs": [
        {
          "output_type": "execute_result",
          "data": {
            "text/plain": [
              "2000-01-01    0.293130\n",
              "2000-01-02    1.870352\n",
              "2000-01-03   -0.016032\n",
              "2000-01-04    0.489818\n",
              "2000-01-05    0.363839\n",
              "                ...   \n",
              "2002-09-22   -0.016293\n",
              "2002-09-23    0.012525\n",
              "2002-09-24   -1.758766\n",
              "2002-09-25   -0.423042\n",
              "2002-09-26    0.813951\n",
              "Freq: D, Length: 1000, dtype: float64"
            ]
          },
          "metadata": {},
          "execution_count": 45
        }
      ]
    },
    {
      "cell_type": "code",
      "metadata": {
        "colab": {
          "base_uri": "https://localhost:8080/"
        },
        "id": "cSSicC6BN76z",
        "outputId": "b74847fe-c727-4d9f-c48d-4e53b607e31c"
      },
      "source": [
        "longer_ts['2001']"
      ],
      "execution_count": 46,
      "outputs": [
        {
          "output_type": "execute_result",
          "data": {
            "text/plain": [
              "2001-01-01    0.023349\n",
              "2001-01-02    0.282867\n",
              "2001-01-03   -0.253294\n",
              "2001-01-04   -0.029683\n",
              "2001-01-05    1.111213\n",
              "                ...   \n",
              "2001-12-27   -0.010196\n",
              "2001-12-28    0.681151\n",
              "2001-12-29    1.069765\n",
              "2001-12-30    0.455705\n",
              "2001-12-31   -0.253521\n",
              "Freq: D, Length: 365, dtype: float64"
            ]
          },
          "metadata": {},
          "execution_count": 46
        }
      ]
    },
    {
      "cell_type": "markdown",
      "metadata": {
        "id": "ZQEy9tvQN-u0"
      },
      "source": [
        "Here, the string '2001' is interpreted as a year and selects that time period\n",
        "\n",
        "**This also works if you specify the month:**"
      ]
    },
    {
      "cell_type": "code",
      "metadata": {
        "colab": {
          "base_uri": "https://localhost:8080/"
        },
        "id": "9M3FYxUyODrU",
        "outputId": "3a8fc3cf-1d57-424f-e72b-486ef797b03a"
      },
      "source": [
        "longer_ts['2001-05'][:5]"
      ],
      "execution_count": 47,
      "outputs": [
        {
          "output_type": "execute_result",
          "data": {
            "text/plain": [
              "2001-05-01   -0.748441\n",
              "2001-05-02    0.346626\n",
              "2001-05-03   -1.280260\n",
              "2001-05-04   -0.786601\n",
              "2001-05-05    2.606395\n",
              "Freq: D, dtype: float64"
            ]
          },
          "metadata": {},
          "execution_count": 47
        }
      ]
    },
    {
      "cell_type": "markdown",
      "metadata": {
        "id": "-Fifd6jrOHxc"
      },
      "source": [
        "**Slicing with datetime objects works as well:**"
      ]
    },
    {
      "cell_type": "code",
      "metadata": {
        "colab": {
          "base_uri": "https://localhost:8080/"
        },
        "id": "7x98kOWUOSzu",
        "outputId": "7827c69c-0318-44b1-cf46-a015b2da7d79"
      },
      "source": [
        "ts[datetime(2011, 1, 7):]"
      ],
      "execution_count": 48,
      "outputs": [
        {
          "output_type": "execute_result",
          "data": {
            "text/plain": [
              "2011-01-07   -1.824543\n",
              "2011-01-08    0.985884\n",
              "2011-01-10    0.719644\n",
              "2011-01-12    1.496330\n",
              "dtype: float64"
            ]
          },
          "metadata": {},
          "execution_count": 48
        }
      ]
    },
    {
      "cell_type": "markdown",
      "metadata": {
        "id": "z2P0uDIrOYOr"
      },
      "source": [
        "Because most time series data is ordered chronologically, **you can slice with time stamps not contained in a time series to perform a range query:**"
      ]
    },
    {
      "cell_type": "code",
      "metadata": {
        "colab": {
          "base_uri": "https://localhost:8080/"
        },
        "id": "76DQA9MEOdSw",
        "outputId": "6c52ed82-b7ce-4b53-ce9f-093f97d1fa58"
      },
      "source": [
        "ts"
      ],
      "execution_count": 49,
      "outputs": [
        {
          "output_type": "execute_result",
          "data": {
            "text/plain": [
              "2011-01-02   -1.627243\n",
              "2011-01-05    1.693687\n",
              "2011-01-07   -1.824543\n",
              "2011-01-08    0.985884\n",
              "2011-01-10    0.719644\n",
              "2011-01-12    1.496330\n",
              "dtype: float64"
            ]
          },
          "metadata": {},
          "execution_count": 49
        }
      ]
    },
    {
      "cell_type": "code",
      "metadata": {
        "colab": {
          "base_uri": "https://localhost:8080/"
        },
        "id": "h2kRkMCDOd3a",
        "outputId": "b4ccd0d6-e75e-4c6e-98ce-bd2c1d3d00e0"
      },
      "source": [
        "ts['1/6/2011':'1/11/2011']"
      ],
      "execution_count": 50,
      "outputs": [
        {
          "output_type": "execute_result",
          "data": {
            "text/plain": [
              "2011-01-07   -1.824543\n",
              "2011-01-08    0.985884\n",
              "2011-01-10    0.719644\n",
              "dtype: float64"
            ]
          },
          "metadata": {},
          "execution_count": 50
        }
      ]
    },
    {
      "cell_type": "markdown",
      "metadata": {
        "id": "unXSumr_OmTP"
      },
      "source": [
        "You can pass either a string date, datetime, or timestamp\n",
        "\n",
        "Remember that **slicing in this manner produces views on the source time series** like slicing NumPy arrays\n",
        "\n",
        "This means that no data is copied and **modifications on the slice will be reflected in the original data**\n",
        "\n",
        "There is an equivalent instance method, **truncate**, that **slices a Series between two dates:**"
      ]
    },
    {
      "cell_type": "code",
      "metadata": {
        "colab": {
          "base_uri": "https://localhost:8080/"
        },
        "id": "aG9UyvZqO-94",
        "outputId": "0bd645d7-2be4-41e6-d32f-2686c7d6d313"
      },
      "source": [
        "ts.truncate(after='1/9/2011')"
      ],
      "execution_count": 51,
      "outputs": [
        {
          "output_type": "execute_result",
          "data": {
            "text/plain": [
              "2011-01-02   -1.627243\n",
              "2011-01-05    1.693687\n",
              "2011-01-07   -1.824543\n",
              "2011-01-08    0.985884\n",
              "dtype: float64"
            ]
          },
          "metadata": {},
          "execution_count": 51
        }
      ]
    },
    {
      "cell_type": "markdown",
      "metadata": {
        "id": "AkENHt0DPEf1"
      },
      "source": [
        "All of this holds true for DataFrame as well, indexing on its rows:"
      ]
    },
    {
      "cell_type": "code",
      "metadata": {
        "id": "XFOR7UDGPGTD"
      },
      "source": [
        "dates = pd.date_range('1/1/2000', periods=100, freq='W-WED')"
      ],
      "execution_count": 52,
      "outputs": []
    },
    {
      "cell_type": "code",
      "metadata": {
        "id": "lCGcvv9DPLk-"
      },
      "source": [
        "long_df = pd.DataFrame(np.random.randn(100, 4),\n",
        "          index=dates,\n",
        "          columns=['Colorado', 'Texas',\n",
        "          'New York', 'Ohio'])"
      ],
      "execution_count": 53,
      "outputs": []
    },
    {
      "cell_type": "code",
      "metadata": {
        "colab": {
          "base_uri": "https://localhost:8080/",
          "height": 202
        },
        "id": "CsbrIaeKPUo_",
        "outputId": "ded01c3c-2b16-4985-9385-ce54e1d0dae4"
      },
      "source": [
        "long_df.loc['5-2001']"
      ],
      "execution_count": 54,
      "outputs": [
        {
          "output_type": "execute_result",
          "data": {
            "text/html": [
              "<div>\n",
              "<style scoped>\n",
              "    .dataframe tbody tr th:only-of-type {\n",
              "        vertical-align: middle;\n",
              "    }\n",
              "\n",
              "    .dataframe tbody tr th {\n",
              "        vertical-align: top;\n",
              "    }\n",
              "\n",
              "    .dataframe thead th {\n",
              "        text-align: right;\n",
              "    }\n",
              "</style>\n",
              "<table border=\"1\" class=\"dataframe\">\n",
              "  <thead>\n",
              "    <tr style=\"text-align: right;\">\n",
              "      <th></th>\n",
              "      <th>Colorado</th>\n",
              "      <th>Texas</th>\n",
              "      <th>New York</th>\n",
              "      <th>Ohio</th>\n",
              "    </tr>\n",
              "  </thead>\n",
              "  <tbody>\n",
              "    <tr>\n",
              "      <th>2001-05-02</th>\n",
              "      <td>-0.630789</td>\n",
              "      <td>-1.185495</td>\n",
              "      <td>-0.971282</td>\n",
              "      <td>-0.856489</td>\n",
              "    </tr>\n",
              "    <tr>\n",
              "      <th>2001-05-09</th>\n",
              "      <td>-0.395333</td>\n",
              "      <td>-1.015495</td>\n",
              "      <td>-0.286757</td>\n",
              "      <td>1.413851</td>\n",
              "    </tr>\n",
              "    <tr>\n",
              "      <th>2001-05-16</th>\n",
              "      <td>-1.982624</td>\n",
              "      <td>0.387804</td>\n",
              "      <td>2.218804</td>\n",
              "      <td>0.097286</td>\n",
              "    </tr>\n",
              "    <tr>\n",
              "      <th>2001-05-23</th>\n",
              "      <td>0.068267</td>\n",
              "      <td>-0.283791</td>\n",
              "      <td>0.414353</td>\n",
              "      <td>-1.363111</td>\n",
              "    </tr>\n",
              "    <tr>\n",
              "      <th>2001-05-30</th>\n",
              "      <td>0.624873</td>\n",
              "      <td>0.384564</td>\n",
              "      <td>1.327577</td>\n",
              "      <td>1.065558</td>\n",
              "    </tr>\n",
              "  </tbody>\n",
              "</table>\n",
              "</div>"
            ],
            "text/plain": [
              "            Colorado     Texas  New York      Ohio\n",
              "2001-05-02 -0.630789 -1.185495 -0.971282 -0.856489\n",
              "2001-05-09 -0.395333 -1.015495 -0.286757  1.413851\n",
              "2001-05-16 -1.982624  0.387804  2.218804  0.097286\n",
              "2001-05-23  0.068267 -0.283791  0.414353 -1.363111\n",
              "2001-05-30  0.624873  0.384564  1.327577  1.065558"
            ]
          },
          "metadata": {},
          "execution_count": 54
        }
      ]
    },
    {
      "cell_type": "markdown",
      "metadata": {
        "id": "9gZ9fBn-PohB"
      },
      "source": [
        "## Time Series with Duplicate Indices"
      ]
    },
    {
      "cell_type": "markdown",
      "metadata": {
        "id": "E2R2JYl3PqVb"
      },
      "source": [
        "In some applications, **there may be multiple data observations falling on a particular timestamp.** Here is an example:"
      ]
    },
    {
      "cell_type": "code",
      "metadata": {
        "id": "ruw8fwOZPvYf"
      },
      "source": [
        "dates = pd.DatetimeIndex(['1/1/2000', '1/2/2000', '1/2/2000',\n",
        "                          '1/2/2000', '1/3/2000'])"
      ],
      "execution_count": 55,
      "outputs": []
    },
    {
      "cell_type": "code",
      "metadata": {
        "id": "UdMSXY1BP-xZ"
      },
      "source": [
        "dup_ts = pd.Series(np.arange(5), index=dates)"
      ],
      "execution_count": 56,
      "outputs": []
    },
    {
      "cell_type": "code",
      "metadata": {
        "colab": {
          "base_uri": "https://localhost:8080/"
        },
        "id": "gUga86mbQDEo",
        "outputId": "d30868ca-ee98-43e6-f6c8-9336ac926d57"
      },
      "source": [
        "dup_ts"
      ],
      "execution_count": 57,
      "outputs": [
        {
          "output_type": "execute_result",
          "data": {
            "text/plain": [
              "2000-01-01    0\n",
              "2000-01-02    1\n",
              "2000-01-02    2\n",
              "2000-01-02    3\n",
              "2000-01-03    4\n",
              "dtype: int64"
            ]
          },
          "metadata": {},
          "execution_count": 57
        }
      ]
    },
    {
      "cell_type": "markdown",
      "metadata": {
        "id": "2SCGxLkiQFrH"
      },
      "source": [
        "We can tell that the index is not unique by checking its is_unique property:"
      ]
    },
    {
      "cell_type": "code",
      "metadata": {
        "colab": {
          "base_uri": "https://localhost:8080/"
        },
        "id": "u_nSYmvVQJEH",
        "outputId": "83e8575f-6229-4bfe-ebfb-3fe1f59942ad"
      },
      "source": [
        "dup_ts.index.is_unique"
      ],
      "execution_count": 58,
      "outputs": [
        {
          "output_type": "execute_result",
          "data": {
            "text/plain": [
              "False"
            ]
          },
          "metadata": {},
          "execution_count": 58
        }
      ]
    },
    {
      "cell_type": "markdown",
      "metadata": {
        "id": "O0abR2uQQOvj"
      },
      "source": [
        "Indexing into this time series will now **either produce scalar values** or **slices depending on whether a timestamp is duplicated:**"
      ]
    },
    {
      "cell_type": "code",
      "metadata": {
        "colab": {
          "base_uri": "https://localhost:8080/"
        },
        "id": "V1cy-_zpQOOD",
        "outputId": "4533697f-6067-4481-8a35-5649e9b90f97"
      },
      "source": [
        "dup_ts['1/3/2000'] # not duplicated"
      ],
      "execution_count": 59,
      "outputs": [
        {
          "output_type": "execute_result",
          "data": {
            "text/plain": [
              "4"
            ]
          },
          "metadata": {},
          "execution_count": 59
        }
      ]
    },
    {
      "cell_type": "code",
      "metadata": {
        "colab": {
          "base_uri": "https://localhost:8080/"
        },
        "id": "ZiFUpvikQerT",
        "outputId": "98a54d71-7c23-4e1f-f0fa-4d95bceea69f"
      },
      "source": [
        "dup_ts['1/2/2000'] # duplicated"
      ],
      "execution_count": 60,
      "outputs": [
        {
          "output_type": "execute_result",
          "data": {
            "text/plain": [
              "2000-01-02    1\n",
              "2000-01-02    2\n",
              "2000-01-02    3\n",
              "dtype: int64"
            ]
          },
          "metadata": {},
          "execution_count": 60
        }
      ]
    },
    {
      "cell_type": "markdown",
      "metadata": {
        "id": "aFIjX1TNQj7G"
      },
      "source": [
        "Suppose you wanted to **aggregate the data having non-unique timestamps**\n",
        " \n",
        "One way to do this is to use **groupby and pass level= 0:**"
      ]
    },
    {
      "cell_type": "code",
      "metadata": {
        "id": "578EKcnzQsJW"
      },
      "source": [
        "grouped = dup_ts.groupby(level=0)"
      ],
      "execution_count": 61,
      "outputs": []
    },
    {
      "cell_type": "code",
      "metadata": {
        "colab": {
          "base_uri": "https://localhost:8080/"
        },
        "id": "9FeMdQ2_Q1Bn",
        "outputId": "fbfec650-8a6a-4d8f-995d-862de055a88c"
      },
      "source": [
        "grouped.mean()"
      ],
      "execution_count": 62,
      "outputs": [
        {
          "output_type": "execute_result",
          "data": {
            "text/plain": [
              "2000-01-01    0\n",
              "2000-01-02    2\n",
              "2000-01-03    4\n",
              "dtype: int64"
            ]
          },
          "metadata": {},
          "execution_count": 62
        }
      ]
    },
    {
      "cell_type": "code",
      "metadata": {
        "colab": {
          "base_uri": "https://localhost:8080/"
        },
        "id": "2pzDd9l9Q7px",
        "outputId": "f6b9be5a-e0f0-49b8-988c-39bc73771cee"
      },
      "source": [
        "grouped.count()"
      ],
      "execution_count": 63,
      "outputs": [
        {
          "output_type": "execute_result",
          "data": {
            "text/plain": [
              "2000-01-01    1\n",
              "2000-01-02    3\n",
              "2000-01-03    1\n",
              "dtype: int64"
            ]
          },
          "metadata": {},
          "execution_count": 63
        }
      ]
    },
    {
      "cell_type": "markdown",
      "metadata": {
        "id": "EcM50qPoQr2X"
      },
      "source": [
        "# 11.3 Date Ranges, Frequencies, and Shifting"
      ]
    },
    {
      "cell_type": "markdown",
      "metadata": {
        "id": "wXAMEl8BZv_5"
      },
      "source": [
        "**Generic time series** in pandas are assumed to be **irregular;** that is, they have **no fixed frequency**\n",
        "\n",
        "It’s often desirable to work relative to a fixed frequency, such as daily, monthly, or every 15 minutes, even if that means introducing missing values into a time series\n",
        "\n",
        "Fortunately pandas has a full suite of standard time series frequencies and tools for **resampling, inferring frequencies, and generating fixed-frequency date ranges**\n",
        "\n",
        "For example, **you can convert the sample time series to be fixed daily frequency by calling resample:**"
      ]
    },
    {
      "cell_type": "code",
      "metadata": {
        "colab": {
          "base_uri": "https://localhost:8080/"
        },
        "id": "FP5mUqq5aKBu",
        "outputId": "af5660ef-5c9e-4b2e-c322-6f5fb83e6f0e"
      },
      "source": [
        "ts"
      ],
      "execution_count": 64,
      "outputs": [
        {
          "output_type": "execute_result",
          "data": {
            "text/plain": [
              "2011-01-02   -1.627243\n",
              "2011-01-05    1.693687\n",
              "2011-01-07   -1.824543\n",
              "2011-01-08    0.985884\n",
              "2011-01-10    0.719644\n",
              "2011-01-12    1.496330\n",
              "dtype: float64"
            ]
          },
          "metadata": {},
          "execution_count": 64
        }
      ]
    },
    {
      "cell_type": "code",
      "metadata": {
        "id": "eyT6jc5caK_E"
      },
      "source": [
        "resampler = ts.resample('D')"
      ],
      "execution_count": 65,
      "outputs": []
    },
    {
      "cell_type": "markdown",
      "metadata": {
        "id": "Mz0hsmw4aN7x"
      },
      "source": [
        "The string 'D' is interpreted as daily frequency\n",
        "\n"
      ]
    },
    {
      "cell_type": "markdown",
      "metadata": {
        "id": "ILrAkZgCaqFi"
      },
      "source": [
        "## Generating Date Ranges"
      ]
    },
    {
      "cell_type": "markdown",
      "metadata": {
        "id": "u72dh4iAby_P"
      },
      "source": [
        "**pandas.date_range** is responsible for **generating a DatetimeIndex with an indicated length according to a particular frequency:**\n",
        "\n"
      ]
    },
    {
      "cell_type": "code",
      "metadata": {
        "id": "xAklFmVmcymR"
      },
      "source": [
        "index = pd.date_range('2012-04-01', '2012-06-01')"
      ],
      "execution_count": 66,
      "outputs": []
    },
    {
      "cell_type": "code",
      "metadata": {
        "colab": {
          "base_uri": "https://localhost:8080/"
        },
        "id": "qCwgqJlmc2z2",
        "outputId": "886871c2-75fd-44e5-ee47-1307b8507ff9"
      },
      "source": [
        "index"
      ],
      "execution_count": 67,
      "outputs": [
        {
          "output_type": "execute_result",
          "data": {
            "text/plain": [
              "DatetimeIndex(['2012-04-01', '2012-04-02', '2012-04-03', '2012-04-04',\n",
              "               '2012-04-05', '2012-04-06', '2012-04-07', '2012-04-08',\n",
              "               '2012-04-09', '2012-04-10', '2012-04-11', '2012-04-12',\n",
              "               '2012-04-13', '2012-04-14', '2012-04-15', '2012-04-16',\n",
              "               '2012-04-17', '2012-04-18', '2012-04-19', '2012-04-20',\n",
              "               '2012-04-21', '2012-04-22', '2012-04-23', '2012-04-24',\n",
              "               '2012-04-25', '2012-04-26', '2012-04-27', '2012-04-28',\n",
              "               '2012-04-29', '2012-04-30', '2012-05-01', '2012-05-02',\n",
              "               '2012-05-03', '2012-05-04', '2012-05-05', '2012-05-06',\n",
              "               '2012-05-07', '2012-05-08', '2012-05-09', '2012-05-10',\n",
              "               '2012-05-11', '2012-05-12', '2012-05-13', '2012-05-14',\n",
              "               '2012-05-15', '2012-05-16', '2012-05-17', '2012-05-18',\n",
              "               '2012-05-19', '2012-05-20', '2012-05-21', '2012-05-22',\n",
              "               '2012-05-23', '2012-05-24', '2012-05-25', '2012-05-26',\n",
              "               '2012-05-27', '2012-05-28', '2012-05-29', '2012-05-30',\n",
              "               '2012-05-31', '2012-06-01'],\n",
              "              dtype='datetime64[ns]', freq='D')"
            ]
          },
          "metadata": {},
          "execution_count": 67
        }
      ]
    },
    {
      "cell_type": "markdown",
      "metadata": {
        "id": "djzL-cyAdA1_"
      },
      "source": [
        "**By default, date_range generates daily timestamps**\n",
        "\n",
        "If you pass only a **start or end date,** you must pass a number of **periods** to generate:"
      ]
    },
    {
      "cell_type": "code",
      "metadata": {
        "colab": {
          "base_uri": "https://localhost:8080/"
        },
        "id": "fkcVJnzVdV2j",
        "outputId": "5b441dce-eccc-4092-86dc-b7f00a7e1804"
      },
      "source": [
        "pd.date_range(start='2012-04-01', periods=20)"
      ],
      "execution_count": 68,
      "outputs": [
        {
          "output_type": "execute_result",
          "data": {
            "text/plain": [
              "DatetimeIndex(['2012-04-01', '2012-04-02', '2012-04-03', '2012-04-04',\n",
              "               '2012-04-05', '2012-04-06', '2012-04-07', '2012-04-08',\n",
              "               '2012-04-09', '2012-04-10', '2012-04-11', '2012-04-12',\n",
              "               '2012-04-13', '2012-04-14', '2012-04-15', '2012-04-16',\n",
              "               '2012-04-17', '2012-04-18', '2012-04-19', '2012-04-20'],\n",
              "              dtype='datetime64[ns]', freq='D')"
            ]
          },
          "metadata": {},
          "execution_count": 68
        }
      ]
    },
    {
      "cell_type": "code",
      "metadata": {
        "colab": {
          "base_uri": "https://localhost:8080/"
        },
        "id": "hsqbgc2tfJiG",
        "outputId": "104c6aaf-de14-4138-d14a-d0cf180c5c8b"
      },
      "source": [
        "pd.date_range(end='2012-06-01', periods=20)"
      ],
      "execution_count": 69,
      "outputs": [
        {
          "output_type": "execute_result",
          "data": {
            "text/plain": [
              "DatetimeIndex(['2012-05-13', '2012-05-14', '2012-05-15', '2012-05-16',\n",
              "               '2012-05-17', '2012-05-18', '2012-05-19', '2012-05-20',\n",
              "               '2012-05-21', '2012-05-22', '2012-05-23', '2012-05-24',\n",
              "               '2012-05-25', '2012-05-26', '2012-05-27', '2012-05-28',\n",
              "               '2012-05-29', '2012-05-30', '2012-05-31', '2012-06-01'],\n",
              "              dtype='datetime64[ns]', freq='D')"
            ]
          },
          "metadata": {},
          "execution_count": 69
        }
      ]
    },
    {
      "cell_type": "markdown",
      "metadata": {
        "id": "X9t5wjDigh8T"
      },
      "source": [
        "The start and end dates define strict boundaries for the generated date index\n",
        "\n",
        "For example, if you wanted a date index containing the last **business day** of each month, you would pass the **'BM' frequency** and only dates falling on or inside the date interval will be included:\n",
        "\n"
      ]
    },
    {
      "cell_type": "code",
      "metadata": {
        "colab": {
          "base_uri": "https://localhost:8080/"
        },
        "id": "1pGN_-pUg3BZ",
        "outputId": "63358622-ce7c-4232-bb68-e2143805e3f5"
      },
      "source": [
        "pd.date_range('2000-01-01', '2000-12-01', freq='BM')"
      ],
      "execution_count": 70,
      "outputs": [
        {
          "output_type": "execute_result",
          "data": {
            "text/plain": [
              "DatetimeIndex(['2000-01-31', '2000-02-29', '2000-03-31', '2000-04-28',\n",
              "               '2000-05-31', '2000-06-30', '2000-07-31', '2000-08-31',\n",
              "               '2000-09-29', '2000-10-31', '2000-11-30'],\n",
              "              dtype='datetime64[ns]', freq='BM')"
            ]
          },
          "metadata": {},
          "execution_count": 70
        }
      ]
    },
    {
      "cell_type": "markdown",
      "metadata": {
        "id": "tRMdT1Y6g8Zd"
      },
      "source": [
        "Table 11-4. Base time series frequencies (not comprehensive)\n",
        "<p align='center'>\n",
        "<img src='data:image/png;base64,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'>\n",
        "</p>"
      ]
    },
    {
      "cell_type": "markdown",
      "metadata": {
        "id": "9Dp0BpJmhfz3"
      },
      "source": [
        "date_range by default **preserves the time (if any) of the start or end timestamp:**"
      ]
    },
    {
      "cell_type": "code",
      "metadata": {
        "colab": {
          "base_uri": "https://localhost:8080/"
        },
        "id": "HRss2oQWhjNP",
        "outputId": "e4cfe4c8-c411-42dc-de56-407e5fc825a4"
      },
      "source": [
        "pd.date_range('2012-05-02 12:56:31', periods=5)"
      ],
      "execution_count": 71,
      "outputs": [
        {
          "output_type": "execute_result",
          "data": {
            "text/plain": [
              "DatetimeIndex(['2012-05-02 12:56:31', '2012-05-03 12:56:31',\n",
              "               '2012-05-04 12:56:31', '2012-05-05 12:56:31',\n",
              "               '2012-05-06 12:56:31'],\n",
              "              dtype='datetime64[ns]', freq='D')"
            ]
          },
          "metadata": {},
          "execution_count": 71
        }
      ]
    },
    {
      "cell_type": "markdown",
      "metadata": {
        "id": "r9Ll33QdhqZA"
      },
      "source": [
        "Sometimes you will have start or end dates with time information but want to generate a set of timestamps **normalized to midnight as a convention**\n",
        "\n",
        "To do this, there is a normalize option:"
      ]
    },
    {
      "cell_type": "code",
      "metadata": {
        "colab": {
          "base_uri": "https://localhost:8080/"
        },
        "id": "IGCpmsbMhza6",
        "outputId": "b0b8fd78-3d45-4779-a9d8-162741f71afe"
      },
      "source": [
        "pd.date_range('2012-05-02 12:56:31', periods=5, normalize=True)"
      ],
      "execution_count": 72,
      "outputs": [
        {
          "output_type": "execute_result",
          "data": {
            "text/plain": [
              "DatetimeIndex(['2012-05-02', '2012-05-03', '2012-05-04', '2012-05-05',\n",
              "               '2012-05-06'],\n",
              "              dtype='datetime64[ns]', freq='D')"
            ]
          },
          "metadata": {},
          "execution_count": 72
        }
      ]
    },
    {
      "cell_type": "markdown",
      "metadata": {
        "id": "XixFPpx4h9JZ"
      },
      "source": [
        "## Frequencies and Date Offsets"
      ]
    },
    {
      "cell_type": "markdown",
      "metadata": {
        "id": "Se9c2N3nRJE_"
      },
      "source": [
        "**Frequencies** in pandas are composed of a **base frequency and a multiplier**\n",
        "\n",
        "**Base frequencies** are typically referred to by a **string alias,** like **'M' for monthly or 'H' for hourly**\n",
        "\n",
        "For each base frequency, there is an object defined generally referred to as a **date offset**\n",
        "\n",
        "For example, hourly frequency can be represented with the Hour class:"
      ]
    },
    {
      "cell_type": "code",
      "metadata": {
        "id": "fTcwTakqRgqD"
      },
      "source": [
        "from pandas.tseries.offsets import Hour, Minute"
      ],
      "execution_count": 73,
      "outputs": []
    },
    {
      "cell_type": "code",
      "metadata": {
        "id": "k9yZn076RjMh"
      },
      "source": [
        "hour = Hour()"
      ],
      "execution_count": 74,
      "outputs": []
    },
    {
      "cell_type": "code",
      "metadata": {
        "colab": {
          "base_uri": "https://localhost:8080/"
        },
        "id": "VlmLM9kvRkyN",
        "outputId": "abe6dcaa-a553-4d7f-fcc3-7262bc99de17"
      },
      "source": [
        "hour"
      ],
      "execution_count": 75,
      "outputs": [
        {
          "output_type": "execute_result",
          "data": {
            "text/plain": [
              "<Hour>"
            ]
          },
          "metadata": {},
          "execution_count": 75
        }
      ]
    },
    {
      "cell_type": "markdown",
      "metadata": {
        "id": "KRcAtOEDRmMJ"
      },
      "source": [
        "You can define a multiple of an offset by passing an integer:"
      ]
    },
    {
      "cell_type": "code",
      "metadata": {
        "id": "ANx_J-YFRohe"
      },
      "source": [
        "four_hours = Hour(4)"
      ],
      "execution_count": 76,
      "outputs": []
    },
    {
      "cell_type": "code",
      "metadata": {
        "colab": {
          "base_uri": "https://localhost:8080/"
        },
        "id": "Csmn1y84RqW4",
        "outputId": "90e7be2c-1c60-47e6-9213-fb515bee1d77"
      },
      "source": [
        "four_hours"
      ],
      "execution_count": 77,
      "outputs": [
        {
          "output_type": "execute_result",
          "data": {
            "text/plain": [
              "<4 * Hours>"
            ]
          },
          "metadata": {},
          "execution_count": 77
        }
      ]
    },
    {
      "cell_type": "markdown",
      "metadata": {
        "id": "WVJEOlz6RrBJ"
      },
      "source": [
        "In most applications, you would never need to explicitly create one of these objects, **instead using a string alias like 'H' or ' 4H'**\n",
        "\n",
        "Putting an **integer before the base frequency** creates a multiple:"
      ]
    },
    {
      "cell_type": "code",
      "metadata": {
        "colab": {
          "base_uri": "https://localhost:8080/"
        },
        "id": "SkgO3MFnR_LZ",
        "outputId": "95e11998-da36-410a-cca7-6cbaeb9e9e09"
      },
      "source": [
        "pd.date_range('2000-01-01', '2000-01-03 23:59', freq='4h')"
      ],
      "execution_count": 90,
      "outputs": [
        {
          "output_type": "execute_result",
          "data": {
            "text/plain": [
              "DatetimeIndex(['2000-01-01 00:00:00', '2000-01-01 04:00:00',\n",
              "               '2000-01-01 08:00:00', '2000-01-01 12:00:00',\n",
              "               '2000-01-01 16:00:00', '2000-01-01 20:00:00',\n",
              "               '2000-01-02 00:00:00', '2000-01-02 04:00:00',\n",
              "               '2000-01-02 08:00:00', '2000-01-02 12:00:00',\n",
              "               '2000-01-02 16:00:00', '2000-01-02 20:00:00',\n",
              "               '2000-01-03 00:00:00', '2000-01-03 04:00:00',\n",
              "               '2000-01-03 08:00:00', '2000-01-03 12:00:00',\n",
              "               '2000-01-03 16:00:00', '2000-01-03 20:00:00'],\n",
              "              dtype='datetime64[ns]', freq='4H')"
            ]
          },
          "metadata": {},
          "execution_count": 90
        }
      ]
    },
    {
      "cell_type": "markdown",
      "metadata": {
        "id": "8voRGiygSH6D"
      },
      "source": [
        "Many offsets can be combined together by addition:"
      ]
    },
    {
      "cell_type": "code",
      "metadata": {
        "colab": {
          "base_uri": "https://localhost:8080/"
        },
        "id": "T0nhiIhGSKMw",
        "outputId": "d9d21706-b5f6-44b9-dbc5-606948177e12"
      },
      "source": [
        "Hour(2) + Minute(30)"
      ],
      "execution_count": 79,
      "outputs": [
        {
          "output_type": "execute_result",
          "data": {
            "text/plain": [
              "<150 * Minutes>"
            ]
          },
          "metadata": {},
          "execution_count": 79
        }
      ]
    },
    {
      "cell_type": "markdown",
      "metadata": {
        "id": "msB0e-kYSdHA"
      },
      "source": [
        "Similarly, you can pass frequency strings, like **'1h30min',** that will effectively be parsed to the same expression:"
      ]
    },
    {
      "cell_type": "code",
      "metadata": {
        "colab": {
          "base_uri": "https://localhost:8080/"
        },
        "id": "eeMMGHdvSmie",
        "outputId": "dfa8e248-2170-451d-ca65-2079fdba0b45"
      },
      "source": [
        "pd.date_range('2001-01-01', periods=10, freq='1h30min')"
      ],
      "execution_count": 92,
      "outputs": [
        {
          "output_type": "execute_result",
          "data": {
            "text/plain": [
              "DatetimeIndex(['2001-01-01 00:00:00', '2001-01-01 01:30:00',\n",
              "               '2001-01-01 03:00:00', '2001-01-01 04:30:00',\n",
              "               '2001-01-01 06:00:00', '2001-01-01 07:30:00',\n",
              "               '2001-01-01 09:00:00', '2001-01-01 10:30:00',\n",
              "               '2001-01-01 12:00:00', '2001-01-01 13:30:00'],\n",
              "              dtype='datetime64[ns]', freq='90T')"
            ]
          },
          "metadata": {},
          "execution_count": 92
        }
      ]
    },
    {
      "cell_type": "markdown",
      "metadata": {
        "id": "s2wsO66OSu0x"
      },
      "source": [
        "**Some frequencies describe points in time that are not evenly spaced**\n",
        "\n",
        "For example, **'M'** (calendar month end) and **'BM'** (last business/weekday of month) depend on the number of days in a month and, **in the latter case, whether the month ends on a weekend or not.** We refer to these as **anchored offsets**"
      ]
    },
    {
      "cell_type": "markdown",
      "metadata": {
        "id": "sXwr2unPTJcu"
      },
      "source": [
        "### Week of month dates"
      ]
    },
    {
      "cell_type": "markdown",
      "metadata": {
        "id": "9tJPC0FQTMWo"
      },
      "source": [
        "One useful frequency class is **“week of month,”** starting with **WOM.** **This enables you to get dates like the third Friday of each month:**"
      ]
    },
    {
      "cell_type": "code",
      "metadata": {
        "id": "uYfVD525TTWq"
      },
      "source": [
        "rng = pd.date_range('2012-01-01', '2012-09-01', freq='WOM-3FRI')"
      ],
      "execution_count": 93,
      "outputs": []
    },
    {
      "cell_type": "code",
      "metadata": {
        "colab": {
          "base_uri": "https://localhost:8080/"
        },
        "id": "HqaB0zxFTbSn",
        "outputId": "27cba61f-e81f-4eff-8cf2-c9ce3b3f7245"
      },
      "source": [
        "list(rng)"
      ],
      "execution_count": 98,
      "outputs": [
        {
          "output_type": "execute_result",
          "data": {
            "text/plain": [
              "[Timestamp('2012-01-20 00:00:00', freq='WOM-3FRI'),\n",
              " Timestamp('2012-02-17 00:00:00', freq='WOM-3FRI'),\n",
              " Timestamp('2012-03-16 00:00:00', freq='WOM-3FRI'),\n",
              " Timestamp('2012-04-20 00:00:00', freq='WOM-3FRI'),\n",
              " Timestamp('2012-05-18 00:00:00', freq='WOM-3FRI'),\n",
              " Timestamp('2012-06-15 00:00:00', freq='WOM-3FRI'),\n",
              " Timestamp('2012-07-20 00:00:00', freq='WOM-3FRI'),\n",
              " Timestamp('2012-08-17 00:00:00', freq='WOM-3FRI')]"
            ]
          },
          "metadata": {},
          "execution_count": 98
        }
      ]
    },
    {
      "cell_type": "markdown",
      "metadata": {
        "id": "PV28iaWcTjl1"
      },
      "source": [
        "## Shifting (Leading and Lagging) Data"
      ]
    },
    {
      "cell_type": "markdown",
      "metadata": {
        "id": "l2xFUCAETwh3"
      },
      "source": [
        "**“Shifting” refers to moving data backward and forward through time**\n",
        "\n",
        "Both Series and DataFrame have a **shift method** for doing **naive shifts forward or backward, leaving the index unmodified:**"
      ]
    },
    {
      "cell_type": "code",
      "metadata": {
        "id": "rEaP3Y5hT7zR"
      },
      "source": [
        "ts = pd.Series([1, 2, 3, 4],\n",
        "               index=pd.date_range('1/1/2000', periods=4, freq='M'))"
      ],
      "execution_count": 111,
      "outputs": []
    },
    {
      "cell_type": "code",
      "metadata": {
        "colab": {
          "base_uri": "https://localhost:8080/"
        },
        "id": "SgUsroSEUDKG",
        "outputId": "1bb10166-c240-4175-ae4b-72a8ba5f9b71"
      },
      "source": [
        "ts"
      ],
      "execution_count": 112,
      "outputs": [
        {
          "output_type": "execute_result",
          "data": {
            "text/plain": [
              "2000-01-31    1\n",
              "2000-02-29    2\n",
              "2000-03-31    3\n",
              "2000-04-30    4\n",
              "Freq: M, dtype: int64"
            ]
          },
          "metadata": {},
          "execution_count": 112
        }
      ]
    },
    {
      "cell_type": "code",
      "metadata": {
        "colab": {
          "base_uri": "https://localhost:8080/"
        },
        "id": "t-w6wFhkUGLF",
        "outputId": "49278f4e-b1bc-4386-fd7a-2b8ab1f24348"
      },
      "source": [
        "ts.shift(2)"
      ],
      "execution_count": 113,
      "outputs": [
        {
          "output_type": "execute_result",
          "data": {
            "text/plain": [
              "2000-01-31    NaN\n",
              "2000-02-29    NaN\n",
              "2000-03-31    1.0\n",
              "2000-04-30    2.0\n",
              "Freq: M, dtype: float64"
            ]
          },
          "metadata": {},
          "execution_count": 113
        }
      ]
    },
    {
      "cell_type": "code",
      "metadata": {
        "colab": {
          "base_uri": "https://localhost:8080/"
        },
        "id": "S7j58rK0UI5k",
        "outputId": "9f84efcd-9961-4e02-cef9-3274e0746bfa"
      },
      "source": [
        "ts.shift(-2)"
      ],
      "execution_count": 114,
      "outputs": [
        {
          "output_type": "execute_result",
          "data": {
            "text/plain": [
              "2000-01-31    3.0\n",
              "2000-02-29    4.0\n",
              "2000-03-31    NaN\n",
              "2000-04-30    NaN\n",
              "Freq: M, dtype: float64"
            ]
          },
          "metadata": {},
          "execution_count": 114
        }
      ]
    },
    {
      "cell_type": "markdown",
      "metadata": {
        "id": "VneN1lUIULMx"
      },
      "source": [
        "When we shift like this, **missing data is introduced either at the start or the end of the time series**\n",
        "\n",
        "A **common use** of shift is **computing percent changes in a time series or multiple time series** as DataFrame columns. This is expressed as:"
      ]
    },
    {
      "cell_type": "code",
      "metadata": {
        "colab": {
          "base_uri": "https://localhost:8080/"
        },
        "id": "xZjF1hXdUWTy",
        "outputId": "adb292e5-67e3-4efa-88c4-35257fb53e68"
      },
      "source": [
        "ts / ts.shift(1) - 1"
      ],
      "execution_count": 115,
      "outputs": [
        {
          "output_type": "execute_result",
          "data": {
            "text/plain": [
              "2000-01-31         NaN\n",
              "2000-02-29    1.000000\n",
              "2000-03-31    0.500000\n",
              "2000-04-30    0.333333\n",
              "Freq: M, dtype: float64"
            ]
          },
          "metadata": {},
          "execution_count": 115
        }
      ]
    },
    {
      "cell_type": "markdown",
      "metadata": {
        "id": "QSYekWl6Uzvt"
      },
      "source": [
        "Because naive shifts **leave the index unmodified, some data is discarded**\n",
        "\n",
        "Thus if the frequency is known, it can be passed to shift to advance the timestamps instead of simply the data:\n",
        "\n"
      ]
    },
    {
      "cell_type": "code",
      "metadata": {
        "colab": {
          "base_uri": "https://localhost:8080/"
        },
        "id": "-zIsXHw_VlRw",
        "outputId": "a701b48c-5b46-4983-94a6-4525d70e5051"
      },
      "source": [
        "ts.shift(2, freq='M')"
      ],
      "execution_count": 117,
      "outputs": [
        {
          "output_type": "execute_result",
          "data": {
            "text/plain": [
              "2000-03-31    1\n",
              "2000-04-30    2\n",
              "2000-05-31    3\n",
              "2000-06-30    4\n",
              "Freq: M, dtype: int64"
            ]
          },
          "metadata": {},
          "execution_count": 117
        }
      ]
    },
    {
      "cell_type": "markdown",
      "metadata": {
        "id": "0bPOV6vbV-BY"
      },
      "source": [
        "Other frequencies can be passed, too, giving you some flexibility in how to lead and lag the data:"
      ]
    },
    {
      "cell_type": "code",
      "metadata": {
        "colab": {
          "base_uri": "https://localhost:8080/"
        },
        "id": "jhSUYRpJWAJk",
        "outputId": "25fb6231-9ea7-40fa-f0c9-46748e576987"
      },
      "source": [
        "ts.shift(3, freq='D')"
      ],
      "execution_count": 118,
      "outputs": [
        {
          "output_type": "execute_result",
          "data": {
            "text/plain": [
              "2000-02-03    1\n",
              "2000-03-03    2\n",
              "2000-04-03    3\n",
              "2000-05-03    4\n",
              "dtype: int64"
            ]
          },
          "metadata": {},
          "execution_count": 118
        }
      ]
    },
    {
      "cell_type": "code",
      "metadata": {
        "colab": {
          "base_uri": "https://localhost:8080/"
        },
        "id": "RkI9F9WiWat1",
        "outputId": "ba41961d-c28d-4fb9-dcf2-370a45f91a7a"
      },
      "source": [
        "ts.shift(1, freq='90T')"
      ],
      "execution_count": 122,
      "outputs": [
        {
          "output_type": "execute_result",
          "data": {
            "text/plain": [
              "2000-01-31 01:30:00    1\n",
              "2000-02-29 01:30:00    2\n",
              "2000-03-31 01:30:00    3\n",
              "2000-04-30 01:30:00    4\n",
              "dtype: int64"
            ]
          },
          "metadata": {},
          "execution_count": 122
        }
      ]
    },
    {
      "cell_type": "markdown",
      "metadata": {
        "id": "3xvcoI77WhdU"
      },
      "source": [
        "The T here stands for minutes"
      ]
    },
    {
      "cell_type": "markdown",
      "metadata": {
        "id": "oi7iBptJWkWn"
      },
      "source": [
        "## Shifting dates with ofsets"
      ]
    },
    {
      "cell_type": "markdown",
      "metadata": {
        "id": "mXMjqNZ1iKFn"
      },
      "source": [
        "The pandas **date offsets** can also be used with **datetime** or **Timestamp** objects:"
      ]
    },
    {
      "cell_type": "code",
      "metadata": {
        "id": "_fAFaKEHWlsL"
      },
      "source": [
        "from pandas.tseries.offsets import Day, MonthEnd"
      ],
      "execution_count": 127,
      "outputs": []
    },
    {
      "cell_type": "code",
      "metadata": {
        "id": "YDhqxwZ3Wj7W"
      },
      "source": [
        "now = datetime(2011, 11, 17)"
      ],
      "execution_count": 125,
      "outputs": []
    },
    {
      "cell_type": "code",
      "metadata": {
        "colab": {
          "base_uri": "https://localhost:8080/"
        },
        "id": "jRZrC-S0ieJs",
        "outputId": "5d5bb956-18bf-4ac1-b9db-4d0d6cecbb6e"
      },
      "source": [
        "now + 3 * Day()"
      ],
      "execution_count": 129,
      "outputs": [
        {
          "output_type": "execute_result",
          "data": {
            "text/plain": [
              "Timestamp('2011-11-20 00:00:00')"
            ]
          },
          "metadata": {},
          "execution_count": 129
        }
      ]
    }
  ]
}