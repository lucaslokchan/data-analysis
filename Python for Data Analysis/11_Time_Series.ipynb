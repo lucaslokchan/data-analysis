{
  "nbformat": 4,
  "nbformat_minor": 0,
  "metadata": {
    "colab": {
      "name": "11.Time Series.ipynb",
      "provenance": [],
      "collapsed_sections": [],
      "authorship_tag": "ABX9TyM2yQGoMefvBdU1byhkesWl"
    },
    "kernelspec": {
      "name": "python3",
      "display_name": "Python 3"
    },
    "language_info": {
      "name": "python"
    }
  },
  "cells": [
    {
      "cell_type": "markdown",
      "metadata": {
        "id": "eQbWPZGis-oP"
      },
      "source": [
        "#11.1 Date and Time Data Types and Tools"
      ]
    },
    {
      "cell_type": "markdown",
      "metadata": {
        "id": "gSmA_j_67px1"
      },
      "source": [
        "The Python standard library includes data types for date and time data, as well as calendar-related functionality\n",
        "\n",
        "The **datetime.datetime** type, or simply datetime, is widely used:"
      ]
    },
    {
      "cell_type": "code",
      "metadata": {
        "id": "3hfHI3zesitl"
      },
      "source": [
        "from datetime import datetime"
      ],
      "execution_count": 1,
      "outputs": []
    },
    {
      "cell_type": "code",
      "metadata": {
        "id": "2TfQ5fRH79ch"
      },
      "source": [
        "now = datetime.now()"
      ],
      "execution_count": 15,
      "outputs": []
    },
    {
      "cell_type": "code",
      "metadata": {
        "colab": {
          "base_uri": "https://localhost:8080/"
        },
        "id": "O-P1qCs48BvA",
        "outputId": "7d81887f-d5a6-45e2-d6af-a166b26e5908"
      },
      "source": [
        "now"
      ],
      "execution_count": 18,
      "outputs": [
        {
          "output_type": "execute_result",
          "data": {
            "text/plain": [
              "datetime.datetime(2021, 10, 8, 13, 29, 26, 920993)"
            ]
          },
          "metadata": {},
          "execution_count": 18
        }
      ]
    },
    {
      "cell_type": "code",
      "metadata": {
        "colab": {
          "base_uri": "https://localhost:8080/"
        },
        "id": "Mwx46Dw28J4W",
        "outputId": "897b3312-0f06-4d7e-91e9-e984016ca0a8"
      },
      "source": [
        "now.year, now.month, now.day"
      ],
      "execution_count": 4,
      "outputs": [
        {
          "output_type": "execute_result",
          "data": {
            "text/plain": [
              "(2021, 10, 8)"
            ]
          },
          "metadata": {},
          "execution_count": 4
        }
      ]
    },
    {
      "cell_type": "markdown",
      "metadata": {
        "id": "Cbpya_gJ8PNh"
      },
      "source": [
        "datetime stores both the date and time down to the **microsecond**\n",
        "\n",
        "**timedelta represents the temporal difference between two datetime objects:**"
      ]
    },
    {
      "cell_type": "code",
      "metadata": {
        "id": "6HM3Ni9a8dxw"
      },
      "source": [
        "delta = datetime(2011, 1, 7) - datetime(2008, 6, 24, 8, 15)"
      ],
      "execution_count": 5,
      "outputs": []
    },
    {
      "cell_type": "code",
      "metadata": {
        "colab": {
          "base_uri": "https://localhost:8080/"
        },
        "id": "D3Dkkabq8oF-",
        "outputId": "411f766e-b73e-4b76-a205-77f66f9bcca7"
      },
      "source": [
        "delta"
      ],
      "execution_count": 6,
      "outputs": [
        {
          "output_type": "execute_result",
          "data": {
            "text/plain": [
              "datetime.timedelta(days=926, seconds=56700)"
            ]
          },
          "metadata": {},
          "execution_count": 6
        }
      ]
    },
    {
      "cell_type": "code",
      "metadata": {
        "colab": {
          "base_uri": "https://localhost:8080/"
        },
        "id": "4aCI66twG5X6",
        "outputId": "1a0d2e9a-5e93-4e18-ad58-8d3efba587e3"
      },
      "source": [
        "delta.days"
      ],
      "execution_count": 19,
      "outputs": [
        {
          "output_type": "execute_result",
          "data": {
            "text/plain": [
              "926"
            ]
          },
          "metadata": {},
          "execution_count": 19
        }
      ]
    },
    {
      "cell_type": "code",
      "metadata": {
        "colab": {
          "base_uri": "https://localhost:8080/"
        },
        "id": "sNNiEp0KG6XZ",
        "outputId": "e2eae65c-745a-4ff1-b465-b28e009ab6f9"
      },
      "source": [
        "delta.seconds"
      ],
      "execution_count": 20,
      "outputs": [
        {
          "output_type": "execute_result",
          "data": {
            "text/plain": [
              "56700"
            ]
          },
          "metadata": {},
          "execution_count": 20
        }
      ]
    },
    {
      "cell_type": "markdown",
      "metadata": {
        "id": "edmYuyVk8t1S"
      },
      "source": [
        "You can **add** (or **subtract**) a timedelta or multiple thereof to a datetime object to yield a new shifted object:"
      ]
    },
    {
      "cell_type": "code",
      "metadata": {
        "id": "AoUAJISk82A-"
      },
      "source": [
        "from datetime import timedelta"
      ],
      "execution_count": 7,
      "outputs": []
    },
    {
      "cell_type": "code",
      "metadata": {
        "id": "MzMQATAM83eR"
      },
      "source": [
        "start = datetime(2011, 1, 7)"
      ],
      "execution_count": 8,
      "outputs": []
    },
    {
      "cell_type": "code",
      "metadata": {
        "colab": {
          "base_uri": "https://localhost:8080/"
        },
        "id": "J-l230Ex9FeE",
        "outputId": "c7220e0a-c9e3-4d31-b9fb-30e6a7c33890"
      },
      "source": [
        "start + timedelta(12)"
      ],
      "execution_count": 9,
      "outputs": [
        {
          "output_type": "execute_result",
          "data": {
            "text/plain": [
              "datetime.datetime(2011, 1, 19, 0, 0)"
            ]
          },
          "metadata": {},
          "execution_count": 9
        }
      ]
    },
    {
      "cell_type": "code",
      "metadata": {
        "colab": {
          "base_uri": "https://localhost:8080/"
        },
        "id": "blhk9q_N9LT_",
        "outputId": "e5d33541-5fa9-4d11-d67f-81f3bd665908"
      },
      "source": [
        "start - 2 * timedelta(12)"
      ],
      "execution_count": 10,
      "outputs": [
        {
          "output_type": "execute_result",
          "data": {
            "text/plain": [
              "datetime.datetime(2010, 12, 14, 0, 0)"
            ]
          },
          "metadata": {},
          "execution_count": 10
        }
      ]
    },
    {
      "cell_type": "markdown",
      "metadata": {
        "id": "lrN9XhkM9P_S"
      },
      "source": [
        "Table 11-1 summarizes the data types in the datetime module\n",
        "\n"
      ]
    },
    {
      "cell_type": "markdown",
      "metadata": {
        "id": "e78J335TGSG9"
      },
      "source": [
        "Table 11-1. Types in datetime module\n",
        "<p align='center'>\n",
        "<img src='data:image/png;base64,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'>\n",
        "</p>"
      ]
    },
    {
      "cell_type": "markdown",
      "metadata": {
        "id": "Ivyl4XmNGcA9"
      },
      "source": [
        "##Converting Between String and Datetime"
      ]
    },
    {
      "cell_type": "markdown",
      "metadata": {
        "id": "fmxiNV3fGhXl"
      },
      "source": [
        "You can format **datetime** objects and **pandas Timestamp** objects **as strings** using **str or the strftime** method, passing a format specification: "
      ]
    },
    {
      "cell_type": "code",
      "metadata": {
        "id": "k8m7Arv-HRlR"
      },
      "source": [
        "stamp = datetime(2011, 1, 3)"
      ],
      "execution_count": 21,
      "outputs": []
    },
    {
      "cell_type": "code",
      "metadata": {
        "colab": {
          "base_uri": "https://localhost:8080/",
          "height": 34
        },
        "id": "mZAbklhQHTzx",
        "outputId": "45409f02-020a-4655-ac4c-ab03e43a2c61"
      },
      "source": [
        "str(stamp)"
      ],
      "execution_count": 22,
      "outputs": [
        {
          "output_type": "execute_result",
          "data": {
            "application/vnd.google.colaboratory.intrinsic+json": {
              "type": "string"
            },
            "text/plain": [
              "'2011-01-03 00:00:00'"
            ]
          },
          "metadata": {},
          "execution_count": 22
        }
      ]
    },
    {
      "cell_type": "code",
      "metadata": {
        "colab": {
          "base_uri": "https://localhost:8080/",
          "height": 34
        },
        "id": "CYIYc3cnHWEl",
        "outputId": "a6f45b75-c622-449f-bd42-2a5b5cb61d49"
      },
      "source": [
        "stamp.strftime('%Y-%m-%d')"
      ],
      "execution_count": 23,
      "outputs": [
        {
          "output_type": "execute_result",
          "data": {
            "application/vnd.google.colaboratory.intrinsic+json": {
              "type": "string"
            },
            "text/plain": [
              "'2011-01-03'"
            ]
          },
          "metadata": {},
          "execution_count": 23
        }
      ]
    },
    {
      "cell_type": "markdown",
      "metadata": {
        "id": "sAH5JiO0HcbJ"
      },
      "source": [
        "See Table 11-2 for a complete list of the format codes"
      ]
    },
    {
      "cell_type": "markdown",
      "metadata": {
        "id": "iHTACmDwHcuD"
      },
      "source": [
        "Table 11-2. Datetime format speciication (ISO C89 compatible)\n",
        "<p align='center'>\n",
        "<img src='data:image/png;base64,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'>\n",
        "</p>"
      ]
    },
    {
      "cell_type": "markdown",
      "metadata": {
        "id": "NmwTq8YrIVgT"
      },
      "source": [
        "You can use these same format codes to convert **strings to dates** using date **time.strptime:**"
      ]
    },
    {
      "cell_type": "code",
      "metadata": {
        "id": "MiHPasjQIche"
      },
      "source": [
        "value = '2011-01-03'"
      ],
      "execution_count": 26,
      "outputs": []
    },
    {
      "cell_type": "code",
      "metadata": {
        "colab": {
          "base_uri": "https://localhost:8080/"
        },
        "id": "ec6zVmNyId-f",
        "outputId": "8d16e0d6-8687-48a7-8cda-00e5c2fba6fb"
      },
      "source": [
        "datetime.strptime(value, '%Y-%m-%d')"
      ],
      "execution_count": 29,
      "outputs": [
        {
          "output_type": "execute_result",
          "data": {
            "text/plain": [
              "datetime.datetime(2011, 1, 3, 0, 0)"
            ]
          },
          "metadata": {},
          "execution_count": 29
        }
      ]
    },
    {
      "cell_type": "code",
      "metadata": {
        "id": "OAxrOoyjIpuw"
      },
      "source": [
        "datestrs = ['7/6/2011', '8/6/2011']"
      ],
      "execution_count": 31,
      "outputs": []
    },
    {
      "cell_type": "code",
      "metadata": {
        "colab": {
          "base_uri": "https://localhost:8080/"
        },
        "id": "o3OS_lPFIyvQ",
        "outputId": "96b19ae0-eb2c-4e5e-8fcb-834022ecb46c"
      },
      "source": [
        "[datetime.strptime(x, '%m/%d/%Y') for x in datestrs]"
      ],
      "execution_count": 32,
      "outputs": [
        {
          "output_type": "execute_result",
          "data": {
            "text/plain": [
              "[datetime.datetime(2011, 7, 6, 0, 0), datetime.datetime(2011, 8, 6, 0, 0)]"
            ]
          },
          "metadata": {},
          "execution_count": 32
        }
      ]
    },
    {
      "cell_type": "markdown",
      "metadata": {
        "id": "qzzkfNtOJO8G"
      },
      "source": [
        "datetime.strptime is a good way to parse a date with a known format\n",
        "\n",
        "However, it can be a bit annoying to have to write a format spec each time, especially for **common date formats**\n",
        "\n",
        "In this case, you can use the **parser.parse** method in the third-party **dateutil** package (this is installed automatically when you install pandas):"
      ]
    },
    {
      "cell_type": "code",
      "metadata": {
        "id": "5aNd-nJ7Jeco"
      },
      "source": [
        "from dateutil.parser import parse"
      ],
      "execution_count": 33,
      "outputs": []
    },
    {
      "cell_type": "code",
      "metadata": {
        "colab": {
          "base_uri": "https://localhost:8080/"
        },
        "id": "4MhyMiMtJgTt",
        "outputId": "915b32de-5e71-4bd5-a69f-56db13bc9f50"
      },
      "source": [
        "parse('2011-01-03')"
      ],
      "execution_count": 34,
      "outputs": [
        {
          "output_type": "execute_result",
          "data": {
            "text/plain": [
              "datetime.datetime(2011, 1, 3, 0, 0)"
            ]
          },
          "metadata": {},
          "execution_count": 34
        }
      ]
    },
    {
      "cell_type": "markdown",
      "metadata": {
        "id": "h4i4vWO8Jlsg"
      },
      "source": [
        "dateutil is capable of parsing most human-intelligible date representations"
      ]
    },
    {
      "cell_type": "code",
      "metadata": {
        "colab": {
          "base_uri": "https://localhost:8080/"
        },
        "id": "rldttK_WJjKr",
        "outputId": "2ebd72d9-7bdb-4c60-8650-a8590940acbe"
      },
      "source": [
        "parse('Jan 31, 1997 10:45 PM')"
      ],
      "execution_count": 35,
      "outputs": [
        {
          "output_type": "execute_result",
          "data": {
            "text/plain": [
              "datetime.datetime(1997, 1, 31, 22, 45)"
            ]
          },
          "metadata": {},
          "execution_count": 35
        }
      ]
    },
    {
      "cell_type": "markdown",
      "metadata": {
        "id": "ifYzgohOJpg4"
      },
      "source": [
        "strptimeIn international locales, **day appearing before month** is very common, so you can pass **dayfirst=True** to indicate this:"
      ]
    },
    {
      "cell_type": "code",
      "metadata": {
        "colab": {
          "base_uri": "https://localhost:8080/"
        },
        "id": "gcAKhbZzJiks",
        "outputId": "216c84c0-9b1d-4e89-d219-557eb237f83d"
      },
      "source": [
        "parse('6/12/2011', dayfirst=True)"
      ],
      "execution_count": 36,
      "outputs": [
        {
          "output_type": "execute_result",
          "data": {
            "text/plain": [
              "datetime.datetime(2011, 12, 6, 0, 0)"
            ]
          },
          "metadata": {},
          "execution_count": 36
        }
      ]
    },
    {
      "cell_type": "markdown",
      "metadata": {
        "id": "1Lqrz19yKBBP"
      },
      "source": [
        "pandas is generally oriented toward working with arrays of dates, whether used as an axis index or a column in a DataFrame\n",
        "\n",
        "The **to_datetime** method **parses many different kinds of date representations.** Standard date formats like **ISO 8601** can be parsed very quickly:"
      ]
    },
    {
      "cell_type": "code",
      "metadata": {
        "id": "8vjyJWZFKdqf"
      },
      "source": [
        "datestrs = ['2011-07-06 12:00:00', '2011-08-06 00:00:00']"
      ],
      "execution_count": 37,
      "outputs": []
    },
    {
      "cell_type": "code",
      "metadata": {
        "id": "ZOM6upR4Kmc2"
      },
      "source": [
        "import pandas as pd"
      ],
      "execution_count": 39,
      "outputs": []
    },
    {
      "cell_type": "code",
      "metadata": {
        "colab": {
          "base_uri": "https://localhost:8080/"
        },
        "id": "-1F0fjrQKjhx",
        "outputId": "12699e3c-5e4a-4eea-bc6c-0c3c8d555703"
      },
      "source": [
        "pd.to_datetime(datestrs)"
      ],
      "execution_count": 40,
      "outputs": [
        {
          "output_type": "execute_result",
          "data": {
            "text/plain": [
              "DatetimeIndex(['2011-07-06 12:00:00', '2011-08-06 00:00:00'], dtype='datetime64[ns]', freq=None)"
            ]
          },
          "metadata": {},
          "execution_count": 40
        }
      ]
    },
    {
      "cell_type": "markdown",
      "metadata": {
        "id": "LzoJWhinK9kM"
      },
      "source": [
        "It also handles values that should be considered missing (None, empty string, etc.):"
      ]
    },
    {
      "cell_type": "code",
      "metadata": {
        "id": "1paePsVQLBHl"
      },
      "source": [
        "idx = pd.to_datetime(datestrs + [None])"
      ],
      "execution_count": 41,
      "outputs": []
    },
    {
      "cell_type": "code",
      "metadata": {
        "colab": {
          "base_uri": "https://localhost:8080/"
        },
        "id": "8uCUcnCFLEej",
        "outputId": "5db7bcb8-8658-49b5-f28d-4606e8c5782f"
      },
      "source": [
        "idx"
      ],
      "execution_count": 42,
      "outputs": [
        {
          "output_type": "execute_result",
          "data": {
            "text/plain": [
              "DatetimeIndex(['2011-07-06 12:00:00', '2011-08-06 00:00:00', 'NaT'], dtype='datetime64[ns]', freq=None)"
            ]
          },
          "metadata": {},
          "execution_count": 42
        }
      ]
    },
    {
      "cell_type": "code",
      "metadata": {
        "colab": {
          "base_uri": "https://localhost:8080/"
        },
        "id": "ZKN9qFB1LGFn",
        "outputId": "279585d0-58ec-490b-b20e-0cf73f8bb55d"
      },
      "source": [
        "idx[2]"
      ],
      "execution_count": 43,
      "outputs": [
        {
          "output_type": "execute_result",
          "data": {
            "text/plain": [
              "NaT"
            ]
          },
          "metadata": {},
          "execution_count": 43
        }
      ]
    },
    {
      "cell_type": "code",
      "metadata": {
        "colab": {
          "base_uri": "https://localhost:8080/"
        },
        "id": "SCoW_wPRLITY",
        "outputId": "bd8fe198-4aff-41c4-c9c6-90989d214ffe"
      },
      "source": [
        "pd.isnull(idx)"
      ],
      "execution_count": 44,
      "outputs": [
        {
          "output_type": "execute_result",
          "data": {
            "text/plain": [
              "array([False, False,  True])"
            ]
          },
          "metadata": {},
          "execution_count": 44
        }
      ]
    },
    {
      "cell_type": "markdown",
      "metadata": {
        "id": "8NygyDueLKBC"
      },
      "source": [
        "NaT (Not a Time) is pandas’s null value for timestamp data"
      ]
    },
    {
      "cell_type": "markdown",
      "metadata": {
        "id": "ea33aYd7LRKC"
      },
      "source": [
        "**datetime objects also have a number of locale-specific formatting options for systems in other countries or languages**\n",
        "\n",
        "For example, the abbreviated month names will be different on German or French systems compared with English systems\n",
        "\n",
        "See Table 11-3 for a listing"
      ]
    },
    {
      "cell_type": "markdown",
      "metadata": {
        "id": "h_1ChwuCLY5d"
      },
      "source": [
        "Table 11-3. Locale-speciic date formatting\n",
        "<p align='center'>\n",
        "<img src='data:image/png;base64,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'>\n",
        "</p>"
      ]
    },
    {
      "cell_type": "markdown",
      "metadata": {
        "id": "5Go5CDxaLoNv"
      },
      "source": [
        "# 11.2 Time Series Basics"
      ]
    },
    {
      "cell_type": "markdown",
      "metadata": {
        "id": "RJhwOWrSL4Z8"
      },
      "source": [
        "A basic kind of time series object in pandas is a Series **indexed by timestamps,** which is often represented external to pandas as Python strings or datetime objects:"
      ]
    },
    {
      "cell_type": "code",
      "metadata": {
        "id": "p6mYWBnCL_gm"
      },
      "source": [
        "from datetime import datetime\n",
        "import numpy as np"
      ],
      "execution_count": 48,
      "outputs": []
    },
    {
      "cell_type": "code",
      "metadata": {
        "id": "4TQA6Fq3MBT6"
      },
      "source": [
        "dates = [datetime(2011, 1, 2), datetime(2011, 1, 5),\n",
        "         datetime(2011, 1, 7), datetime(2011, 1, 8),\n",
        "         datetime(2011, 1, 10), datetime(2011, 1, 12)]"
      ],
      "execution_count": 46,
      "outputs": []
    },
    {
      "cell_type": "code",
      "metadata": {
        "id": "GQNweZH8MLDJ"
      },
      "source": [
        "ts = pd.Series(np.random.randn(6), index=dates)"
      ],
      "execution_count": 49,
      "outputs": []
    },
    {
      "cell_type": "code",
      "metadata": {
        "colab": {
          "base_uri": "https://localhost:8080/"
        },
        "id": "6cVnxhp9MRnM",
        "outputId": "ee829041-a628-419e-bcd8-9184a356dbfe"
      },
      "source": [
        "ts"
      ],
      "execution_count": 50,
      "outputs": [
        {
          "output_type": "execute_result",
          "data": {
            "text/plain": [
              "2011-01-02   -1.529249\n",
              "2011-01-05   -0.803305\n",
              "2011-01-07    0.745483\n",
              "2011-01-08   -1.100441\n",
              "2011-01-10    0.140661\n",
              "2011-01-12   -0.174160\n",
              "dtype: float64"
            ]
          },
          "metadata": {},
          "execution_count": 50
        }
      ]
    },
    {
      "cell_type": "markdown",
      "metadata": {
        "id": "UesizGQyMUtz"
      },
      "source": [
        "Under the hood, **these datetime objects have been put in a DatetimeIndex:**"
      ]
    },
    {
      "cell_type": "code",
      "metadata": {
        "colab": {
          "base_uri": "https://localhost:8080/"
        },
        "id": "ELsLT6J7MXvg",
        "outputId": "47665199-6aae-46dc-8917-ac17560530c7"
      },
      "source": [
        "ts.index"
      ],
      "execution_count": 51,
      "outputs": [
        {
          "output_type": "execute_result",
          "data": {
            "text/plain": [
              "DatetimeIndex(['2011-01-02', '2011-01-05', '2011-01-07', '2011-01-08',\n",
              "               '2011-01-10', '2011-01-12'],\n",
              "              dtype='datetime64[ns]', freq=None)"
            ]
          },
          "metadata": {},
          "execution_count": 51
        }
      ]
    },
    {
      "cell_type": "markdown",
      "metadata": {
        "id": "x2cyB7LVMbxI"
      },
      "source": [
        ""
      ]
    }
  ]
}