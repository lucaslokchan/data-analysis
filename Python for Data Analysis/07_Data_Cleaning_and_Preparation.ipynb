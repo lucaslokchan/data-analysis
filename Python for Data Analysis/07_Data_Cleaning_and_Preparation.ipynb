{
  "nbformat": 4,
  "nbformat_minor": 0,
  "metadata": {
    "colab": {
      "name": "07.Data Cleaning and Preparation.ipynb",
      "provenance": [],
      "collapsed_sections": [],
      "authorship_tag": "ABX9TyPAbkuyqj8ysC1Uyd0llBAp"
    },
    "kernelspec": {
      "name": "python3",
      "display_name": "Python 3"
    },
    "language_info": {
      "name": "python"
    }
  },
  "cells": [
    {
      "cell_type": "markdown",
      "metadata": {
        "id": "0a-IVS5RNT9q"
      },
      "source": [
        "> During the course of doing data analysis and modeling, a significant amount of time is spent on data preparation: loading, cleaning, transforming, and rearranging. Such tasks are often reported to take up 80% or more of an analyst’s time"
      ]
    },
    {
      "cell_type": "markdown",
      "metadata": {
        "id": "UctUlLwYGTsb"
      },
      "source": [
        "# 7.1 Handling Missing Data"
      ]
    },
    {
      "cell_type": "markdown",
      "metadata": {
        "id": "ka1BD9brzwP0"
      },
      "source": [
        "For numeric data, pandas uses the floating-point value NaN (Not a Number) to represent missing data\n",
        "\n",
        "We call this a sentinel value that can be easily detected:"
      ]
    },
    {
      "cell_type": "code",
      "metadata": {
        "id": "adAo2jCC0FZx"
      },
      "source": [
        "import pandas as pd"
      ],
      "execution_count": 243,
      "outputs": []
    },
    {
      "cell_type": "code",
      "metadata": {
        "id": "obCDMnqI0G2C"
      },
      "source": [
        "import numpy as np"
      ],
      "execution_count": 244,
      "outputs": []
    },
    {
      "cell_type": "code",
      "metadata": {
        "id": "PW-Fmt7CGQHp"
      },
      "source": [
        "string_data = pd.Series(['aardvark', 'artichoke', np.nan, 'avocado'])"
      ],
      "execution_count": 245,
      "outputs": []
    },
    {
      "cell_type": "code",
      "metadata": {
        "colab": {
          "base_uri": "https://localhost:8080/"
        },
        "id": "-4gdA2G71sLS",
        "outputId": "2683b311-5fcd-4305-9b2f-ca0454513bd1"
      },
      "source": [
        "string_data"
      ],
      "execution_count": 246,
      "outputs": [
        {
          "output_type": "execute_result",
          "data": {
            "text/plain": [
              "0     aardvark\n",
              "1    artichoke\n",
              "2          NaN\n",
              "3      avocado\n",
              "dtype: object"
            ]
          },
          "metadata": {},
          "execution_count": 246
        }
      ]
    },
    {
      "cell_type": "code",
      "metadata": {
        "colab": {
          "base_uri": "https://localhost:8080/"
        },
        "id": "2yD81FbU1vr2",
        "outputId": "21caacf3-f9a9-4449-8a56-fe609e9e110b"
      },
      "source": [
        "string_data.isnull()"
      ],
      "execution_count": 247,
      "outputs": [
        {
          "output_type": "execute_result",
          "data": {
            "text/plain": [
              "0    False\n",
              "1    False\n",
              "2     True\n",
              "3    False\n",
              "dtype: bool"
            ]
          },
          "metadata": {},
          "execution_count": 247
        }
      ]
    },
    {
      "cell_type": "markdown",
      "metadata": {
        "id": "cu8aVfYW3_a_"
      },
      "source": [
        "In pandas, we’ve adopted a convention used in the R programming language by referring to missing data as NA, which stands for not available\n",
        "\n",
        "In statistics applications, NA data may either be data that does not exist or that exists but was not observed (through problems with data collection, for example)\n",
        "\n",
        "When cleaning up data for analysis, it is often important to do analysis on the missing data itself to identify data collection problems or potential biases in the data caused by missing data\n",
        "\n",
        "**The built-in Python None value is also treated as NA in object arrays:**"
      ]
    },
    {
      "cell_type": "code",
      "metadata": {
        "id": "xI7lzIaD4PnB"
      },
      "source": [
        "string_data[0] = None"
      ],
      "execution_count": 248,
      "outputs": []
    },
    {
      "cell_type": "code",
      "metadata": {
        "colab": {
          "base_uri": "https://localhost:8080/"
        },
        "id": "X2pCcTA04SP-",
        "outputId": "a31e51b1-9077-450b-cb67-55c4ed006d71"
      },
      "source": [
        "string_data.isnull()"
      ],
      "execution_count": 249,
      "outputs": [
        {
          "output_type": "execute_result",
          "data": {
            "text/plain": [
              "0     True\n",
              "1    False\n",
              "2     True\n",
              "3    False\n",
              "dtype: bool"
            ]
          },
          "metadata": {},
          "execution_count": 249
        }
      ]
    },
    {
      "cell_type": "markdown",
      "metadata": {
        "id": "zN-HFQG5St38"
      },
      "source": [
        "See Table 7-1 for a list of some functions related to missing data handling"
      ]
    },
    {
      "cell_type": "markdown",
      "metadata": {
        "id": "oWRD1dPmSxKv"
      },
      "source": [
        "Table 7-1. NA handling methods\n",
        "<p align='center'>\n",
        "<img src='data:image/png;base64,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'>\n",
        "</p>"
      ]
    },
    {
      "cell_type": "markdown",
      "metadata": {
        "id": "jpha-zPaS68F"
      },
      "source": [
        "## Filtering Out Missing Data"
      ]
    },
    {
      "cell_type": "markdown",
      "metadata": {
        "id": "RaIwnTH_TaVc"
      },
      "source": [
        "There are a few ways to filter out missing data. While you always have the option to do it by hand using pandas.isnull and boolean indexing, the dropna can be helpful\n",
        "\n",
        "On a Series, it returns the Series with only the non-null data and index values:"
      ]
    },
    {
      "cell_type": "code",
      "metadata": {
        "id": "qpkozv6pSvu6"
      },
      "source": [
        "from numpy import nan as NA"
      ],
      "execution_count": 250,
      "outputs": []
    },
    {
      "cell_type": "code",
      "metadata": {
        "id": "-0R9WRuOToNP"
      },
      "source": [
        "data = pd.Series([1, NA, 3.5, NA, 7])"
      ],
      "execution_count": 251,
      "outputs": []
    },
    {
      "cell_type": "code",
      "metadata": {
        "colab": {
          "base_uri": "https://localhost:8080/"
        },
        "id": "YbtW6OZNTrMg",
        "outputId": "08c36246-f60e-4b96-8092-19bea912cb10"
      },
      "source": [
        "data.dropna()"
      ],
      "execution_count": 252,
      "outputs": [
        {
          "output_type": "execute_result",
          "data": {
            "text/plain": [
              "0    1.0\n",
              "2    3.5\n",
              "4    7.0\n",
              "dtype: float64"
            ]
          },
          "metadata": {},
          "execution_count": 252
        }
      ]
    },
    {
      "cell_type": "markdown",
      "metadata": {
        "id": "XG15negeTuWw"
      },
      "source": [
        "This is equivalent to:"
      ]
    },
    {
      "cell_type": "code",
      "metadata": {
        "colab": {
          "base_uri": "https://localhost:8080/"
        },
        "id": "bzrbulwiTuEt",
        "outputId": "da08b31b-9d9a-42ad-e83b-229bb11ea9ad"
      },
      "source": [
        "data[data.notnull()]"
      ],
      "execution_count": 253,
      "outputs": [
        {
          "output_type": "execute_result",
          "data": {
            "text/plain": [
              "0    1.0\n",
              "2    3.5\n",
              "4    7.0\n",
              "dtype: float64"
            ]
          },
          "metadata": {},
          "execution_count": 253
        }
      ]
    },
    {
      "cell_type": "markdown",
      "metadata": {
        "id": "7hm5BZzvTxnp"
      },
      "source": [
        "With DataFrame objects, things are a bit more complex\n",
        "\n",
        "You may want to drop rows or columns that are all NA or only those containing any NAs. dropna by default drops any row containing a missing value:"
      ]
    },
    {
      "cell_type": "code",
      "metadata": {
        "id": "mDVtgSpdT_Ya"
      },
      "source": [
        "data = pd.DataFrame([[1., 6.5, 3.], [1., NA, NA],\n",
        "                     [NA, NA, NA], [NA, 6.5, 3.]])"
      ],
      "execution_count": 254,
      "outputs": []
    },
    {
      "cell_type": "code",
      "metadata": {
        "id": "99TWaYUYUPE3"
      },
      "source": [
        "cleaned = data.dropna()"
      ],
      "execution_count": 255,
      "outputs": []
    },
    {
      "cell_type": "code",
      "metadata": {
        "colab": {
          "base_uri": "https://localhost:8080/",
          "height": 173
        },
        "id": "0sByhiYDURE-",
        "outputId": "d2fc4792-189f-4a0a-ae2a-e728f4742600"
      },
      "source": [
        "data"
      ],
      "execution_count": 256,
      "outputs": [
        {
          "output_type": "execute_result",
          "data": {
            "text/html": [
              "<div>\n",
              "<style scoped>\n",
              "    .dataframe tbody tr th:only-of-type {\n",
              "        vertical-align: middle;\n",
              "    }\n",
              "\n",
              "    .dataframe tbody tr th {\n",
              "        vertical-align: top;\n",
              "    }\n",
              "\n",
              "    .dataframe thead th {\n",
              "        text-align: right;\n",
              "    }\n",
              "</style>\n",
              "<table border=\"1\" class=\"dataframe\">\n",
              "  <thead>\n",
              "    <tr style=\"text-align: right;\">\n",
              "      <th></th>\n",
              "      <th>0</th>\n",
              "      <th>1</th>\n",
              "      <th>2</th>\n",
              "    </tr>\n",
              "  </thead>\n",
              "  <tbody>\n",
              "    <tr>\n",
              "      <th>0</th>\n",
              "      <td>1.0</td>\n",
              "      <td>6.5</td>\n",
              "      <td>3.0</td>\n",
              "    </tr>\n",
              "    <tr>\n",
              "      <th>1</th>\n",
              "      <td>1.0</td>\n",
              "      <td>NaN</td>\n",
              "      <td>NaN</td>\n",
              "    </tr>\n",
              "    <tr>\n",
              "      <th>2</th>\n",
              "      <td>NaN</td>\n",
              "      <td>NaN</td>\n",
              "      <td>NaN</td>\n",
              "    </tr>\n",
              "    <tr>\n",
              "      <th>3</th>\n",
              "      <td>NaN</td>\n",
              "      <td>6.5</td>\n",
              "      <td>3.0</td>\n",
              "    </tr>\n",
              "  </tbody>\n",
              "</table>\n",
              "</div>"
            ],
            "text/plain": [
              "     0    1    2\n",
              "0  1.0  6.5  3.0\n",
              "1  1.0  NaN  NaN\n",
              "2  NaN  NaN  NaN\n",
              "3  NaN  6.5  3.0"
            ]
          },
          "metadata": {},
          "execution_count": 256
        }
      ]
    },
    {
      "cell_type": "code",
      "metadata": {
        "colab": {
          "base_uri": "https://localhost:8080/",
          "height": 80
        },
        "id": "gCCIVSHeUT8x",
        "outputId": "778518c9-57dc-4d58-b752-ab1df61abed3"
      },
      "source": [
        "cleaned"
      ],
      "execution_count": 257,
      "outputs": [
        {
          "output_type": "execute_result",
          "data": {
            "text/html": [
              "<div>\n",
              "<style scoped>\n",
              "    .dataframe tbody tr th:only-of-type {\n",
              "        vertical-align: middle;\n",
              "    }\n",
              "\n",
              "    .dataframe tbody tr th {\n",
              "        vertical-align: top;\n",
              "    }\n",
              "\n",
              "    .dataframe thead th {\n",
              "        text-align: right;\n",
              "    }\n",
              "</style>\n",
              "<table border=\"1\" class=\"dataframe\">\n",
              "  <thead>\n",
              "    <tr style=\"text-align: right;\">\n",
              "      <th></th>\n",
              "      <th>0</th>\n",
              "      <th>1</th>\n",
              "      <th>2</th>\n",
              "    </tr>\n",
              "  </thead>\n",
              "  <tbody>\n",
              "    <tr>\n",
              "      <th>0</th>\n",
              "      <td>1.0</td>\n",
              "      <td>6.5</td>\n",
              "      <td>3.0</td>\n",
              "    </tr>\n",
              "  </tbody>\n",
              "</table>\n",
              "</div>"
            ],
            "text/plain": [
              "     0    1    2\n",
              "0  1.0  6.5  3.0"
            ]
          },
          "metadata": {},
          "execution_count": 257
        }
      ]
    },
    {
      "cell_type": "markdown",
      "metadata": {
        "id": "7a2W0cRLUYnC"
      },
      "source": [
        "Passing how='all' will only drop rows that are all NA:"
      ]
    },
    {
      "cell_type": "code",
      "metadata": {
        "id": "hhneiyyqUbRh",
        "colab": {
          "base_uri": "https://localhost:8080/",
          "height": 142
        },
        "outputId": "e960cd3e-2498-46d3-be8a-caa500ca7dba"
      },
      "source": [
        "data.dropna(how='all')"
      ],
      "execution_count": 258,
      "outputs": [
        {
          "output_type": "execute_result",
          "data": {
            "text/html": [
              "<div>\n",
              "<style scoped>\n",
              "    .dataframe tbody tr th:only-of-type {\n",
              "        vertical-align: middle;\n",
              "    }\n",
              "\n",
              "    .dataframe tbody tr th {\n",
              "        vertical-align: top;\n",
              "    }\n",
              "\n",
              "    .dataframe thead th {\n",
              "        text-align: right;\n",
              "    }\n",
              "</style>\n",
              "<table border=\"1\" class=\"dataframe\">\n",
              "  <thead>\n",
              "    <tr style=\"text-align: right;\">\n",
              "      <th></th>\n",
              "      <th>0</th>\n",
              "      <th>1</th>\n",
              "      <th>2</th>\n",
              "    </tr>\n",
              "  </thead>\n",
              "  <tbody>\n",
              "    <tr>\n",
              "      <th>0</th>\n",
              "      <td>1.0</td>\n",
              "      <td>6.5</td>\n",
              "      <td>3.0</td>\n",
              "    </tr>\n",
              "    <tr>\n",
              "      <th>1</th>\n",
              "      <td>1.0</td>\n",
              "      <td>NaN</td>\n",
              "      <td>NaN</td>\n",
              "    </tr>\n",
              "    <tr>\n",
              "      <th>3</th>\n",
              "      <td>NaN</td>\n",
              "      <td>6.5</td>\n",
              "      <td>3.0</td>\n",
              "    </tr>\n",
              "  </tbody>\n",
              "</table>\n",
              "</div>"
            ],
            "text/plain": [
              "     0    1    2\n",
              "0  1.0  6.5  3.0\n",
              "1  1.0  NaN  NaN\n",
              "3  NaN  6.5  3.0"
            ]
          },
          "metadata": {},
          "execution_count": 258
        }
      ]
    },
    {
      "cell_type": "markdown",
      "metadata": {
        "id": "IGOc2G-SUdxv"
      },
      "source": [
        "To drop columns in the same way, pass axis=1:"
      ]
    },
    {
      "cell_type": "code",
      "metadata": {
        "id": "0quHPHD1VlLK"
      },
      "source": [
        "data[4] = NA"
      ],
      "execution_count": 259,
      "outputs": []
    },
    {
      "cell_type": "code",
      "metadata": {
        "colab": {
          "base_uri": "https://localhost:8080/",
          "height": 173
        },
        "id": "yHubSYT3Vmfi",
        "outputId": "706b6f58-684c-4caf-f533-a659f707c31e"
      },
      "source": [
        "data"
      ],
      "execution_count": 260,
      "outputs": [
        {
          "output_type": "execute_result",
          "data": {
            "text/html": [
              "<div>\n",
              "<style scoped>\n",
              "    .dataframe tbody tr th:only-of-type {\n",
              "        vertical-align: middle;\n",
              "    }\n",
              "\n",
              "    .dataframe tbody tr th {\n",
              "        vertical-align: top;\n",
              "    }\n",
              "\n",
              "    .dataframe thead th {\n",
              "        text-align: right;\n",
              "    }\n",
              "</style>\n",
              "<table border=\"1\" class=\"dataframe\">\n",
              "  <thead>\n",
              "    <tr style=\"text-align: right;\">\n",
              "      <th></th>\n",
              "      <th>0</th>\n",
              "      <th>1</th>\n",
              "      <th>2</th>\n",
              "      <th>4</th>\n",
              "    </tr>\n",
              "  </thead>\n",
              "  <tbody>\n",
              "    <tr>\n",
              "      <th>0</th>\n",
              "      <td>1.0</td>\n",
              "      <td>6.5</td>\n",
              "      <td>3.0</td>\n",
              "      <td>NaN</td>\n",
              "    </tr>\n",
              "    <tr>\n",
              "      <th>1</th>\n",
              "      <td>1.0</td>\n",
              "      <td>NaN</td>\n",
              "      <td>NaN</td>\n",
              "      <td>NaN</td>\n",
              "    </tr>\n",
              "    <tr>\n",
              "      <th>2</th>\n",
              "      <td>NaN</td>\n",
              "      <td>NaN</td>\n",
              "      <td>NaN</td>\n",
              "      <td>NaN</td>\n",
              "    </tr>\n",
              "    <tr>\n",
              "      <th>3</th>\n",
              "      <td>NaN</td>\n",
              "      <td>6.5</td>\n",
              "      <td>3.0</td>\n",
              "      <td>NaN</td>\n",
              "    </tr>\n",
              "  </tbody>\n",
              "</table>\n",
              "</div>"
            ],
            "text/plain": [
              "     0    1    2   4\n",
              "0  1.0  6.5  3.0 NaN\n",
              "1  1.0  NaN  NaN NaN\n",
              "2  NaN  NaN  NaN NaN\n",
              "3  NaN  6.5  3.0 NaN"
            ]
          },
          "metadata": {},
          "execution_count": 260
        }
      ]
    },
    {
      "cell_type": "code",
      "metadata": {
        "colab": {
          "base_uri": "https://localhost:8080/",
          "height": 173
        },
        "id": "3s-PWCo9VpuR",
        "outputId": "aed64121-a201-4934-c88f-afd5c5e0116e"
      },
      "source": [
        "data.dropna(axis=1, how='all')"
      ],
      "execution_count": 261,
      "outputs": [
        {
          "output_type": "execute_result",
          "data": {
            "text/html": [
              "<div>\n",
              "<style scoped>\n",
              "    .dataframe tbody tr th:only-of-type {\n",
              "        vertical-align: middle;\n",
              "    }\n",
              "\n",
              "    .dataframe tbody tr th {\n",
              "        vertical-align: top;\n",
              "    }\n",
              "\n",
              "    .dataframe thead th {\n",
              "        text-align: right;\n",
              "    }\n",
              "</style>\n",
              "<table border=\"1\" class=\"dataframe\">\n",
              "  <thead>\n",
              "    <tr style=\"text-align: right;\">\n",
              "      <th></th>\n",
              "      <th>0</th>\n",
              "      <th>1</th>\n",
              "      <th>2</th>\n",
              "    </tr>\n",
              "  </thead>\n",
              "  <tbody>\n",
              "    <tr>\n",
              "      <th>0</th>\n",
              "      <td>1.0</td>\n",
              "      <td>6.5</td>\n",
              "      <td>3.0</td>\n",
              "    </tr>\n",
              "    <tr>\n",
              "      <th>1</th>\n",
              "      <td>1.0</td>\n",
              "      <td>NaN</td>\n",
              "      <td>NaN</td>\n",
              "    </tr>\n",
              "    <tr>\n",
              "      <th>2</th>\n",
              "      <td>NaN</td>\n",
              "      <td>NaN</td>\n",
              "      <td>NaN</td>\n",
              "    </tr>\n",
              "    <tr>\n",
              "      <th>3</th>\n",
              "      <td>NaN</td>\n",
              "      <td>6.5</td>\n",
              "      <td>3.0</td>\n",
              "    </tr>\n",
              "  </tbody>\n",
              "</table>\n",
              "</div>"
            ],
            "text/plain": [
              "     0    1    2\n",
              "0  1.0  6.5  3.0\n",
              "1  1.0  NaN  NaN\n",
              "2  NaN  NaN  NaN\n",
              "3  NaN  6.5  3.0"
            ]
          },
          "metadata": {},
          "execution_count": 261
        }
      ]
    },
    {
      "cell_type": "markdown",
      "metadata": {
        "id": "5uwlo3N7VtKX"
      },
      "source": [
        "A related way to filter out DataFrame rows tends to concern time series data\n",
        "\n",
        "Suppose you want to keep only rows containing a certain number of observations. You can indicate this with the thresh argument:"
      ]
    },
    {
      "cell_type": "code",
      "metadata": {
        "id": "5DP_E-tYV5hp"
      },
      "source": [
        "df = pd.DataFrame(np.random.randn(7, 3))"
      ],
      "execution_count": 262,
      "outputs": []
    },
    {
      "cell_type": "code",
      "metadata": {
        "id": "7NSh3nLoV8or"
      },
      "source": [
        "df.iloc[:4, 1] = NA"
      ],
      "execution_count": 263,
      "outputs": []
    },
    {
      "cell_type": "code",
      "metadata": {
        "id": "CF7urwKcWAVi"
      },
      "source": [
        "df.iloc[:2, 2] = NA"
      ],
      "execution_count": 264,
      "outputs": []
    },
    {
      "cell_type": "code",
      "metadata": {
        "colab": {
          "base_uri": "https://localhost:8080/",
          "height": 266
        },
        "id": "Xm4zFwsnWIXh",
        "outputId": "d21c8b05-2a4b-4ff1-c9bd-7d0f36c0df11"
      },
      "source": [
        "df"
      ],
      "execution_count": 265,
      "outputs": [
        {
          "output_type": "execute_result",
          "data": {
            "text/html": [
              "<div>\n",
              "<style scoped>\n",
              "    .dataframe tbody tr th:only-of-type {\n",
              "        vertical-align: middle;\n",
              "    }\n",
              "\n",
              "    .dataframe tbody tr th {\n",
              "        vertical-align: top;\n",
              "    }\n",
              "\n",
              "    .dataframe thead th {\n",
              "        text-align: right;\n",
              "    }\n",
              "</style>\n",
              "<table border=\"1\" class=\"dataframe\">\n",
              "  <thead>\n",
              "    <tr style=\"text-align: right;\">\n",
              "      <th></th>\n",
              "      <th>0</th>\n",
              "      <th>1</th>\n",
              "      <th>2</th>\n",
              "    </tr>\n",
              "  </thead>\n",
              "  <tbody>\n",
              "    <tr>\n",
              "      <th>0</th>\n",
              "      <td>1.025788</td>\n",
              "      <td>NaN</td>\n",
              "      <td>NaN</td>\n",
              "    </tr>\n",
              "    <tr>\n",
              "      <th>1</th>\n",
              "      <td>0.436061</td>\n",
              "      <td>NaN</td>\n",
              "      <td>NaN</td>\n",
              "    </tr>\n",
              "    <tr>\n",
              "      <th>2</th>\n",
              "      <td>-1.290637</td>\n",
              "      <td>NaN</td>\n",
              "      <td>-1.298973</td>\n",
              "    </tr>\n",
              "    <tr>\n",
              "      <th>3</th>\n",
              "      <td>0.374550</td>\n",
              "      <td>NaN</td>\n",
              "      <td>-0.993157</td>\n",
              "    </tr>\n",
              "    <tr>\n",
              "      <th>4</th>\n",
              "      <td>1.583513</td>\n",
              "      <td>2.403418</td>\n",
              "      <td>1.215801</td>\n",
              "    </tr>\n",
              "    <tr>\n",
              "      <th>5</th>\n",
              "      <td>1.333067</td>\n",
              "      <td>-0.826944</td>\n",
              "      <td>0.408649</td>\n",
              "    </tr>\n",
              "    <tr>\n",
              "      <th>6</th>\n",
              "      <td>1.556253</td>\n",
              "      <td>0.110479</td>\n",
              "      <td>0.017437</td>\n",
              "    </tr>\n",
              "  </tbody>\n",
              "</table>\n",
              "</div>"
            ],
            "text/plain": [
              "          0         1         2\n",
              "0  1.025788       NaN       NaN\n",
              "1  0.436061       NaN       NaN\n",
              "2 -1.290637       NaN -1.298973\n",
              "3  0.374550       NaN -0.993157\n",
              "4  1.583513  2.403418  1.215801\n",
              "5  1.333067 -0.826944  0.408649\n",
              "6  1.556253  0.110479  0.017437"
            ]
          },
          "metadata": {},
          "execution_count": 265
        }
      ]
    },
    {
      "cell_type": "code",
      "metadata": {
        "colab": {
          "base_uri": "https://localhost:8080/",
          "height": 142
        },
        "id": "sPA4FRxeWNnH",
        "outputId": "018b01c9-82e4-4b68-8828-b49aa74f1eca"
      },
      "source": [
        "df.dropna()"
      ],
      "execution_count": 266,
      "outputs": [
        {
          "output_type": "execute_result",
          "data": {
            "text/html": [
              "<div>\n",
              "<style scoped>\n",
              "    .dataframe tbody tr th:only-of-type {\n",
              "        vertical-align: middle;\n",
              "    }\n",
              "\n",
              "    .dataframe tbody tr th {\n",
              "        vertical-align: top;\n",
              "    }\n",
              "\n",
              "    .dataframe thead th {\n",
              "        text-align: right;\n",
              "    }\n",
              "</style>\n",
              "<table border=\"1\" class=\"dataframe\">\n",
              "  <thead>\n",
              "    <tr style=\"text-align: right;\">\n",
              "      <th></th>\n",
              "      <th>0</th>\n",
              "      <th>1</th>\n",
              "      <th>2</th>\n",
              "    </tr>\n",
              "  </thead>\n",
              "  <tbody>\n",
              "    <tr>\n",
              "      <th>4</th>\n",
              "      <td>1.583513</td>\n",
              "      <td>2.403418</td>\n",
              "      <td>1.215801</td>\n",
              "    </tr>\n",
              "    <tr>\n",
              "      <th>5</th>\n",
              "      <td>1.333067</td>\n",
              "      <td>-0.826944</td>\n",
              "      <td>0.408649</td>\n",
              "    </tr>\n",
              "    <tr>\n",
              "      <th>6</th>\n",
              "      <td>1.556253</td>\n",
              "      <td>0.110479</td>\n",
              "      <td>0.017437</td>\n",
              "    </tr>\n",
              "  </tbody>\n",
              "</table>\n",
              "</div>"
            ],
            "text/plain": [
              "          0         1         2\n",
              "4  1.583513  2.403418  1.215801\n",
              "5  1.333067 -0.826944  0.408649\n",
              "6  1.556253  0.110479  0.017437"
            ]
          },
          "metadata": {},
          "execution_count": 266
        }
      ]
    },
    {
      "cell_type": "code",
      "metadata": {
        "colab": {
          "base_uri": "https://localhost:8080/",
          "height": 204
        },
        "id": "r9Q_dx4WWRoc",
        "outputId": "73ad96c9-92d0-4030-d019-12a982bfc7a8"
      },
      "source": [
        "df.dropna(thresh=2)"
      ],
      "execution_count": 267,
      "outputs": [
        {
          "output_type": "execute_result",
          "data": {
            "text/html": [
              "<div>\n",
              "<style scoped>\n",
              "    .dataframe tbody tr th:only-of-type {\n",
              "        vertical-align: middle;\n",
              "    }\n",
              "\n",
              "    .dataframe tbody tr th {\n",
              "        vertical-align: top;\n",
              "    }\n",
              "\n",
              "    .dataframe thead th {\n",
              "        text-align: right;\n",
              "    }\n",
              "</style>\n",
              "<table border=\"1\" class=\"dataframe\">\n",
              "  <thead>\n",
              "    <tr style=\"text-align: right;\">\n",
              "      <th></th>\n",
              "      <th>0</th>\n",
              "      <th>1</th>\n",
              "      <th>2</th>\n",
              "    </tr>\n",
              "  </thead>\n",
              "  <tbody>\n",
              "    <tr>\n",
              "      <th>2</th>\n",
              "      <td>-1.290637</td>\n",
              "      <td>NaN</td>\n",
              "      <td>-1.298973</td>\n",
              "    </tr>\n",
              "    <tr>\n",
              "      <th>3</th>\n",
              "      <td>0.374550</td>\n",
              "      <td>NaN</td>\n",
              "      <td>-0.993157</td>\n",
              "    </tr>\n",
              "    <tr>\n",
              "      <th>4</th>\n",
              "      <td>1.583513</td>\n",
              "      <td>2.403418</td>\n",
              "      <td>1.215801</td>\n",
              "    </tr>\n",
              "    <tr>\n",
              "      <th>5</th>\n",
              "      <td>1.333067</td>\n",
              "      <td>-0.826944</td>\n",
              "      <td>0.408649</td>\n",
              "    </tr>\n",
              "    <tr>\n",
              "      <th>6</th>\n",
              "      <td>1.556253</td>\n",
              "      <td>0.110479</td>\n",
              "      <td>0.017437</td>\n",
              "    </tr>\n",
              "  </tbody>\n",
              "</table>\n",
              "</div>"
            ],
            "text/plain": [
              "          0         1         2\n",
              "2 -1.290637       NaN -1.298973\n",
              "3  0.374550       NaN -0.993157\n",
              "4  1.583513  2.403418  1.215801\n",
              "5  1.333067 -0.826944  0.408649\n",
              "6  1.556253  0.110479  0.017437"
            ]
          },
          "metadata": {},
          "execution_count": 267
        }
      ]
    },
    {
      "cell_type": "markdown",
      "metadata": {
        "id": "A67vLIrNXEN7"
      },
      "source": [
        "## Filling In Missing Data"
      ]
    },
    {
      "cell_type": "markdown",
      "metadata": {
        "id": "2fhYjjvfXGXL"
      },
      "source": [
        "Rather than filtering out missing data (and potentially discarding other data along with it), you may want to fill in the “holes” in any number of ways\n",
        "\n",
        "For most purposes, **the fillna method is the workhorse function to use**\n",
        "\n",
        "Calling fillna with a constant replaces missing values with that value:"
      ]
    },
    {
      "cell_type": "code",
      "metadata": {
        "colab": {
          "base_uri": "https://localhost:8080/",
          "height": 266
        },
        "id": "jBiPpRt7Y9pZ",
        "outputId": "1baa5aa9-5c14-4891-cf0d-e9ab6bf29172"
      },
      "source": [
        "df.fillna(0)"
      ],
      "execution_count": 268,
      "outputs": [
        {
          "output_type": "execute_result",
          "data": {
            "text/html": [
              "<div>\n",
              "<style scoped>\n",
              "    .dataframe tbody tr th:only-of-type {\n",
              "        vertical-align: middle;\n",
              "    }\n",
              "\n",
              "    .dataframe tbody tr th {\n",
              "        vertical-align: top;\n",
              "    }\n",
              "\n",
              "    .dataframe thead th {\n",
              "        text-align: right;\n",
              "    }\n",
              "</style>\n",
              "<table border=\"1\" class=\"dataframe\">\n",
              "  <thead>\n",
              "    <tr style=\"text-align: right;\">\n",
              "      <th></th>\n",
              "      <th>0</th>\n",
              "      <th>1</th>\n",
              "      <th>2</th>\n",
              "    </tr>\n",
              "  </thead>\n",
              "  <tbody>\n",
              "    <tr>\n",
              "      <th>0</th>\n",
              "      <td>1.025788</td>\n",
              "      <td>0.000000</td>\n",
              "      <td>0.000000</td>\n",
              "    </tr>\n",
              "    <tr>\n",
              "      <th>1</th>\n",
              "      <td>0.436061</td>\n",
              "      <td>0.000000</td>\n",
              "      <td>0.000000</td>\n",
              "    </tr>\n",
              "    <tr>\n",
              "      <th>2</th>\n",
              "      <td>-1.290637</td>\n",
              "      <td>0.000000</td>\n",
              "      <td>-1.298973</td>\n",
              "    </tr>\n",
              "    <tr>\n",
              "      <th>3</th>\n",
              "      <td>0.374550</td>\n",
              "      <td>0.000000</td>\n",
              "      <td>-0.993157</td>\n",
              "    </tr>\n",
              "    <tr>\n",
              "      <th>4</th>\n",
              "      <td>1.583513</td>\n",
              "      <td>2.403418</td>\n",
              "      <td>1.215801</td>\n",
              "    </tr>\n",
              "    <tr>\n",
              "      <th>5</th>\n",
              "      <td>1.333067</td>\n",
              "      <td>-0.826944</td>\n",
              "      <td>0.408649</td>\n",
              "    </tr>\n",
              "    <tr>\n",
              "      <th>6</th>\n",
              "      <td>1.556253</td>\n",
              "      <td>0.110479</td>\n",
              "      <td>0.017437</td>\n",
              "    </tr>\n",
              "  </tbody>\n",
              "</table>\n",
              "</div>"
            ],
            "text/plain": [
              "          0         1         2\n",
              "0  1.025788  0.000000  0.000000\n",
              "1  0.436061  0.000000  0.000000\n",
              "2 -1.290637  0.000000 -1.298973\n",
              "3  0.374550  0.000000 -0.993157\n",
              "4  1.583513  2.403418  1.215801\n",
              "5  1.333067 -0.826944  0.408649\n",
              "6  1.556253  0.110479  0.017437"
            ]
          },
          "metadata": {},
          "execution_count": 268
        }
      ]
    },
    {
      "cell_type": "markdown",
      "metadata": {
        "id": "OHOhNGhMZDQW"
      },
      "source": [
        "Calling fillna with a dict, you can use a different fill value for each column:"
      ]
    },
    {
      "cell_type": "code",
      "metadata": {
        "colab": {
          "base_uri": "https://localhost:8080/",
          "height": 266
        },
        "id": "lecz00dYZC6x",
        "outputId": "a914d1fa-7be5-43d7-c530-281c478057e4"
      },
      "source": [
        "df.fillna({1: 0.5, 2: 0})"
      ],
      "execution_count": 269,
      "outputs": [
        {
          "output_type": "execute_result",
          "data": {
            "text/html": [
              "<div>\n",
              "<style scoped>\n",
              "    .dataframe tbody tr th:only-of-type {\n",
              "        vertical-align: middle;\n",
              "    }\n",
              "\n",
              "    .dataframe tbody tr th {\n",
              "        vertical-align: top;\n",
              "    }\n",
              "\n",
              "    .dataframe thead th {\n",
              "        text-align: right;\n",
              "    }\n",
              "</style>\n",
              "<table border=\"1\" class=\"dataframe\">\n",
              "  <thead>\n",
              "    <tr style=\"text-align: right;\">\n",
              "      <th></th>\n",
              "      <th>0</th>\n",
              "      <th>1</th>\n",
              "      <th>2</th>\n",
              "    </tr>\n",
              "  </thead>\n",
              "  <tbody>\n",
              "    <tr>\n",
              "      <th>0</th>\n",
              "      <td>1.025788</td>\n",
              "      <td>0.500000</td>\n",
              "      <td>0.000000</td>\n",
              "    </tr>\n",
              "    <tr>\n",
              "      <th>1</th>\n",
              "      <td>0.436061</td>\n",
              "      <td>0.500000</td>\n",
              "      <td>0.000000</td>\n",
              "    </tr>\n",
              "    <tr>\n",
              "      <th>2</th>\n",
              "      <td>-1.290637</td>\n",
              "      <td>0.500000</td>\n",
              "      <td>-1.298973</td>\n",
              "    </tr>\n",
              "    <tr>\n",
              "      <th>3</th>\n",
              "      <td>0.374550</td>\n",
              "      <td>0.500000</td>\n",
              "      <td>-0.993157</td>\n",
              "    </tr>\n",
              "    <tr>\n",
              "      <th>4</th>\n",
              "      <td>1.583513</td>\n",
              "      <td>2.403418</td>\n",
              "      <td>1.215801</td>\n",
              "    </tr>\n",
              "    <tr>\n",
              "      <th>5</th>\n",
              "      <td>1.333067</td>\n",
              "      <td>-0.826944</td>\n",
              "      <td>0.408649</td>\n",
              "    </tr>\n",
              "    <tr>\n",
              "      <th>6</th>\n",
              "      <td>1.556253</td>\n",
              "      <td>0.110479</td>\n",
              "      <td>0.017437</td>\n",
              "    </tr>\n",
              "  </tbody>\n",
              "</table>\n",
              "</div>"
            ],
            "text/plain": [
              "          0         1         2\n",
              "0  1.025788  0.500000  0.000000\n",
              "1  0.436061  0.500000  0.000000\n",
              "2 -1.290637  0.500000 -1.298973\n",
              "3  0.374550  0.500000 -0.993157\n",
              "4  1.583513  2.403418  1.215801\n",
              "5  1.333067 -0.826944  0.408649\n",
              "6  1.556253  0.110479  0.017437"
            ]
          },
          "metadata": {},
          "execution_count": 269
        }
      ]
    },
    {
      "cell_type": "markdown",
      "metadata": {
        "id": "C2JKO2eCZLy7"
      },
      "source": [
        "fillna returns a new object, but you can modify the existing object in-place:"
      ]
    },
    {
      "cell_type": "code",
      "metadata": {
        "id": "eVzRBjSmZNwe"
      },
      "source": [
        "_ = df.fillna(0, inplace=True)"
      ],
      "execution_count": 270,
      "outputs": []
    },
    {
      "cell_type": "code",
      "metadata": {
        "colab": {
          "base_uri": "https://localhost:8080/",
          "height": 266
        },
        "id": "rmt_UKLeZQcs",
        "outputId": "bf428cef-e3a1-48ae-c3ed-6a63ed4285b4"
      },
      "source": [
        "df"
      ],
      "execution_count": 271,
      "outputs": [
        {
          "output_type": "execute_result",
          "data": {
            "text/html": [
              "<div>\n",
              "<style scoped>\n",
              "    .dataframe tbody tr th:only-of-type {\n",
              "        vertical-align: middle;\n",
              "    }\n",
              "\n",
              "    .dataframe tbody tr th {\n",
              "        vertical-align: top;\n",
              "    }\n",
              "\n",
              "    .dataframe thead th {\n",
              "        text-align: right;\n",
              "    }\n",
              "</style>\n",
              "<table border=\"1\" class=\"dataframe\">\n",
              "  <thead>\n",
              "    <tr style=\"text-align: right;\">\n",
              "      <th></th>\n",
              "      <th>0</th>\n",
              "      <th>1</th>\n",
              "      <th>2</th>\n",
              "    </tr>\n",
              "  </thead>\n",
              "  <tbody>\n",
              "    <tr>\n",
              "      <th>0</th>\n",
              "      <td>1.025788</td>\n",
              "      <td>0.000000</td>\n",
              "      <td>0.000000</td>\n",
              "    </tr>\n",
              "    <tr>\n",
              "      <th>1</th>\n",
              "      <td>0.436061</td>\n",
              "      <td>0.000000</td>\n",
              "      <td>0.000000</td>\n",
              "    </tr>\n",
              "    <tr>\n",
              "      <th>2</th>\n",
              "      <td>-1.290637</td>\n",
              "      <td>0.000000</td>\n",
              "      <td>-1.298973</td>\n",
              "    </tr>\n",
              "    <tr>\n",
              "      <th>3</th>\n",
              "      <td>0.374550</td>\n",
              "      <td>0.000000</td>\n",
              "      <td>-0.993157</td>\n",
              "    </tr>\n",
              "    <tr>\n",
              "      <th>4</th>\n",
              "      <td>1.583513</td>\n",
              "      <td>2.403418</td>\n",
              "      <td>1.215801</td>\n",
              "    </tr>\n",
              "    <tr>\n",
              "      <th>5</th>\n",
              "      <td>1.333067</td>\n",
              "      <td>-0.826944</td>\n",
              "      <td>0.408649</td>\n",
              "    </tr>\n",
              "    <tr>\n",
              "      <th>6</th>\n",
              "      <td>1.556253</td>\n",
              "      <td>0.110479</td>\n",
              "      <td>0.017437</td>\n",
              "    </tr>\n",
              "  </tbody>\n",
              "</table>\n",
              "</div>"
            ],
            "text/plain": [
              "          0         1         2\n",
              "0  1.025788  0.000000  0.000000\n",
              "1  0.436061  0.000000  0.000000\n",
              "2 -1.290637  0.000000 -1.298973\n",
              "3  0.374550  0.000000 -0.993157\n",
              "4  1.583513  2.403418  1.215801\n",
              "5  1.333067 -0.826944  0.408649\n",
              "6  1.556253  0.110479  0.017437"
            ]
          },
          "metadata": {},
          "execution_count": 271
        }
      ]
    },
    {
      "cell_type": "markdown",
      "metadata": {
        "id": "HeXZJUdWZT98"
      },
      "source": [
        "The same interpolation methods available for reindexing can be used with fillna:"
      ]
    },
    {
      "cell_type": "code",
      "metadata": {
        "id": "KmO7ZOToZWE1"
      },
      "source": [
        "df = pd.DataFrame(np.random.randn(6, 3))"
      ],
      "execution_count": 272,
      "outputs": []
    },
    {
      "cell_type": "code",
      "metadata": {
        "colab": {
          "base_uri": "https://localhost:8080/",
          "height": 235
        },
        "id": "VOduNwM0Zeq2",
        "outputId": "604b435a-a655-420d-ac8b-a9ec61c5c3c8"
      },
      "source": [
        "df"
      ],
      "execution_count": 273,
      "outputs": [
        {
          "output_type": "execute_result",
          "data": {
            "text/html": [
              "<div>\n",
              "<style scoped>\n",
              "    .dataframe tbody tr th:only-of-type {\n",
              "        vertical-align: middle;\n",
              "    }\n",
              "\n",
              "    .dataframe tbody tr th {\n",
              "        vertical-align: top;\n",
              "    }\n",
              "\n",
              "    .dataframe thead th {\n",
              "        text-align: right;\n",
              "    }\n",
              "</style>\n",
              "<table border=\"1\" class=\"dataframe\">\n",
              "  <thead>\n",
              "    <tr style=\"text-align: right;\">\n",
              "      <th></th>\n",
              "      <th>0</th>\n",
              "      <th>1</th>\n",
              "      <th>2</th>\n",
              "    </tr>\n",
              "  </thead>\n",
              "  <tbody>\n",
              "    <tr>\n",
              "      <th>0</th>\n",
              "      <td>0.095644</td>\n",
              "      <td>1.438546</td>\n",
              "      <td>0.477098</td>\n",
              "    </tr>\n",
              "    <tr>\n",
              "      <th>1</th>\n",
              "      <td>0.683023</td>\n",
              "      <td>0.636339</td>\n",
              "      <td>0.864005</td>\n",
              "    </tr>\n",
              "    <tr>\n",
              "      <th>2</th>\n",
              "      <td>1.362805</td>\n",
              "      <td>-1.367751</td>\n",
              "      <td>-0.991794</td>\n",
              "    </tr>\n",
              "    <tr>\n",
              "      <th>3</th>\n",
              "      <td>-0.140143</td>\n",
              "      <td>-0.303706</td>\n",
              "      <td>0.874822</td>\n",
              "    </tr>\n",
              "    <tr>\n",
              "      <th>4</th>\n",
              "      <td>0.171003</td>\n",
              "      <td>1.010907</td>\n",
              "      <td>-0.637474</td>\n",
              "    </tr>\n",
              "    <tr>\n",
              "      <th>5</th>\n",
              "      <td>-0.158826</td>\n",
              "      <td>0.095757</td>\n",
              "      <td>-0.073167</td>\n",
              "    </tr>\n",
              "  </tbody>\n",
              "</table>\n",
              "</div>"
            ],
            "text/plain": [
              "          0         1         2\n",
              "0  0.095644  1.438546  0.477098\n",
              "1  0.683023  0.636339  0.864005\n",
              "2  1.362805 -1.367751 -0.991794\n",
              "3 -0.140143 -0.303706  0.874822\n",
              "4  0.171003  1.010907 -0.637474\n",
              "5 -0.158826  0.095757 -0.073167"
            ]
          },
          "metadata": {},
          "execution_count": 273
        }
      ]
    },
    {
      "cell_type": "code",
      "metadata": {
        "id": "mdSX0GmQZaJX"
      },
      "source": [
        "df.iloc[2:, 1] = NA"
      ],
      "execution_count": 274,
      "outputs": []
    },
    {
      "cell_type": "code",
      "metadata": {
        "id": "jpHRqHiIZlrl"
      },
      "source": [
        "df.iloc[4:, 2] = NA"
      ],
      "execution_count": 275,
      "outputs": []
    },
    {
      "cell_type": "code",
      "metadata": {
        "colab": {
          "base_uri": "https://localhost:8080/",
          "height": 235
        },
        "id": "p5Fjbkf0ZytH",
        "outputId": "3e5233e4-d5c8-46e7-860c-c2465f3d2fef"
      },
      "source": [
        "df"
      ],
      "execution_count": 276,
      "outputs": [
        {
          "output_type": "execute_result",
          "data": {
            "text/html": [
              "<div>\n",
              "<style scoped>\n",
              "    .dataframe tbody tr th:only-of-type {\n",
              "        vertical-align: middle;\n",
              "    }\n",
              "\n",
              "    .dataframe tbody tr th {\n",
              "        vertical-align: top;\n",
              "    }\n",
              "\n",
              "    .dataframe thead th {\n",
              "        text-align: right;\n",
              "    }\n",
              "</style>\n",
              "<table border=\"1\" class=\"dataframe\">\n",
              "  <thead>\n",
              "    <tr style=\"text-align: right;\">\n",
              "      <th></th>\n",
              "      <th>0</th>\n",
              "      <th>1</th>\n",
              "      <th>2</th>\n",
              "    </tr>\n",
              "  </thead>\n",
              "  <tbody>\n",
              "    <tr>\n",
              "      <th>0</th>\n",
              "      <td>0.095644</td>\n",
              "      <td>1.438546</td>\n",
              "      <td>0.477098</td>\n",
              "    </tr>\n",
              "    <tr>\n",
              "      <th>1</th>\n",
              "      <td>0.683023</td>\n",
              "      <td>0.636339</td>\n",
              "      <td>0.864005</td>\n",
              "    </tr>\n",
              "    <tr>\n",
              "      <th>2</th>\n",
              "      <td>1.362805</td>\n",
              "      <td>NaN</td>\n",
              "      <td>-0.991794</td>\n",
              "    </tr>\n",
              "    <tr>\n",
              "      <th>3</th>\n",
              "      <td>-0.140143</td>\n",
              "      <td>NaN</td>\n",
              "      <td>0.874822</td>\n",
              "    </tr>\n",
              "    <tr>\n",
              "      <th>4</th>\n",
              "      <td>0.171003</td>\n",
              "      <td>NaN</td>\n",
              "      <td>NaN</td>\n",
              "    </tr>\n",
              "    <tr>\n",
              "      <th>5</th>\n",
              "      <td>-0.158826</td>\n",
              "      <td>NaN</td>\n",
              "      <td>NaN</td>\n",
              "    </tr>\n",
              "  </tbody>\n",
              "</table>\n",
              "</div>"
            ],
            "text/plain": [
              "          0         1         2\n",
              "0  0.095644  1.438546  0.477098\n",
              "1  0.683023  0.636339  0.864005\n",
              "2  1.362805       NaN -0.991794\n",
              "3 -0.140143       NaN  0.874822\n",
              "4  0.171003       NaN       NaN\n",
              "5 -0.158826       NaN       NaN"
            ]
          },
          "metadata": {},
          "execution_count": 276
        }
      ]
    },
    {
      "cell_type": "code",
      "metadata": {
        "colab": {
          "base_uri": "https://localhost:8080/",
          "height": 235
        },
        "id": "oTZvF2oaZzkL",
        "outputId": "504dc678-1264-489f-8801-cbfef8a0b87e"
      },
      "source": [
        "df.fillna(method='ffill')"
      ],
      "execution_count": 277,
      "outputs": [
        {
          "output_type": "execute_result",
          "data": {
            "text/html": [
              "<div>\n",
              "<style scoped>\n",
              "    .dataframe tbody tr th:only-of-type {\n",
              "        vertical-align: middle;\n",
              "    }\n",
              "\n",
              "    .dataframe tbody tr th {\n",
              "        vertical-align: top;\n",
              "    }\n",
              "\n",
              "    .dataframe thead th {\n",
              "        text-align: right;\n",
              "    }\n",
              "</style>\n",
              "<table border=\"1\" class=\"dataframe\">\n",
              "  <thead>\n",
              "    <tr style=\"text-align: right;\">\n",
              "      <th></th>\n",
              "      <th>0</th>\n",
              "      <th>1</th>\n",
              "      <th>2</th>\n",
              "    </tr>\n",
              "  </thead>\n",
              "  <tbody>\n",
              "    <tr>\n",
              "      <th>0</th>\n",
              "      <td>0.095644</td>\n",
              "      <td>1.438546</td>\n",
              "      <td>0.477098</td>\n",
              "    </tr>\n",
              "    <tr>\n",
              "      <th>1</th>\n",
              "      <td>0.683023</td>\n",
              "      <td>0.636339</td>\n",
              "      <td>0.864005</td>\n",
              "    </tr>\n",
              "    <tr>\n",
              "      <th>2</th>\n",
              "      <td>1.362805</td>\n",
              "      <td>0.636339</td>\n",
              "      <td>-0.991794</td>\n",
              "    </tr>\n",
              "    <tr>\n",
              "      <th>3</th>\n",
              "      <td>-0.140143</td>\n",
              "      <td>0.636339</td>\n",
              "      <td>0.874822</td>\n",
              "    </tr>\n",
              "    <tr>\n",
              "      <th>4</th>\n",
              "      <td>0.171003</td>\n",
              "      <td>0.636339</td>\n",
              "      <td>0.874822</td>\n",
              "    </tr>\n",
              "    <tr>\n",
              "      <th>5</th>\n",
              "      <td>-0.158826</td>\n",
              "      <td>0.636339</td>\n",
              "      <td>0.874822</td>\n",
              "    </tr>\n",
              "  </tbody>\n",
              "</table>\n",
              "</div>"
            ],
            "text/plain": [
              "          0         1         2\n",
              "0  0.095644  1.438546  0.477098\n",
              "1  0.683023  0.636339  0.864005\n",
              "2  1.362805  0.636339 -0.991794\n",
              "3 -0.140143  0.636339  0.874822\n",
              "4  0.171003  0.636339  0.874822\n",
              "5 -0.158826  0.636339  0.874822"
            ]
          },
          "metadata": {},
          "execution_count": 277
        }
      ]
    },
    {
      "cell_type": "code",
      "metadata": {
        "colab": {
          "base_uri": "https://localhost:8080/",
          "height": 235
        },
        "id": "nXUH2B59Z5zQ",
        "outputId": "043fd601-081b-409b-fd8b-fb5b44108b44"
      },
      "source": [
        "df.fillna(method='ffill', limit=2)"
      ],
      "execution_count": 278,
      "outputs": [
        {
          "output_type": "execute_result",
          "data": {
            "text/html": [
              "<div>\n",
              "<style scoped>\n",
              "    .dataframe tbody tr th:only-of-type {\n",
              "        vertical-align: middle;\n",
              "    }\n",
              "\n",
              "    .dataframe tbody tr th {\n",
              "        vertical-align: top;\n",
              "    }\n",
              "\n",
              "    .dataframe thead th {\n",
              "        text-align: right;\n",
              "    }\n",
              "</style>\n",
              "<table border=\"1\" class=\"dataframe\">\n",
              "  <thead>\n",
              "    <tr style=\"text-align: right;\">\n",
              "      <th></th>\n",
              "      <th>0</th>\n",
              "      <th>1</th>\n",
              "      <th>2</th>\n",
              "    </tr>\n",
              "  </thead>\n",
              "  <tbody>\n",
              "    <tr>\n",
              "      <th>0</th>\n",
              "      <td>0.095644</td>\n",
              "      <td>1.438546</td>\n",
              "      <td>0.477098</td>\n",
              "    </tr>\n",
              "    <tr>\n",
              "      <th>1</th>\n",
              "      <td>0.683023</td>\n",
              "      <td>0.636339</td>\n",
              "      <td>0.864005</td>\n",
              "    </tr>\n",
              "    <tr>\n",
              "      <th>2</th>\n",
              "      <td>1.362805</td>\n",
              "      <td>0.636339</td>\n",
              "      <td>-0.991794</td>\n",
              "    </tr>\n",
              "    <tr>\n",
              "      <th>3</th>\n",
              "      <td>-0.140143</td>\n",
              "      <td>0.636339</td>\n",
              "      <td>0.874822</td>\n",
              "    </tr>\n",
              "    <tr>\n",
              "      <th>4</th>\n",
              "      <td>0.171003</td>\n",
              "      <td>NaN</td>\n",
              "      <td>0.874822</td>\n",
              "    </tr>\n",
              "    <tr>\n",
              "      <th>5</th>\n",
              "      <td>-0.158826</td>\n",
              "      <td>NaN</td>\n",
              "      <td>0.874822</td>\n",
              "    </tr>\n",
              "  </tbody>\n",
              "</table>\n",
              "</div>"
            ],
            "text/plain": [
              "          0         1         2\n",
              "0  0.095644  1.438546  0.477098\n",
              "1  0.683023  0.636339  0.864005\n",
              "2  1.362805  0.636339 -0.991794\n",
              "3 -0.140143  0.636339  0.874822\n",
              "4  0.171003       NaN  0.874822\n",
              "5 -0.158826       NaN  0.874822"
            ]
          },
          "metadata": {},
          "execution_count": 278
        }
      ]
    },
    {
      "cell_type": "markdown",
      "metadata": {
        "id": "wtklBgLVaAIG"
      },
      "source": [
        "With fillna you can do lots of other things with a little creativity. For example, **you might pass the mean or median value of a Series:**"
      ]
    },
    {
      "cell_type": "code",
      "metadata": {
        "id": "TO5Yt2yxaFUu"
      },
      "source": [
        "data = pd.Series([1., NA, 3.5, NA, 7])"
      ],
      "execution_count": 279,
      "outputs": []
    },
    {
      "cell_type": "code",
      "metadata": {
        "colab": {
          "base_uri": "https://localhost:8080/"
        },
        "id": "L0X1f8K9aJVD",
        "outputId": "c1c5cd6c-748b-4482-cc34-ed88ddea33df"
      },
      "source": [
        "data.fillna(data.mean())"
      ],
      "execution_count": 280,
      "outputs": [
        {
          "output_type": "execute_result",
          "data": {
            "text/plain": [
              "0    1.000000\n",
              "1    3.833333\n",
              "2    3.500000\n",
              "3    3.833333\n",
              "4    7.000000\n",
              "dtype: float64"
            ]
          },
          "metadata": {},
          "execution_count": 280
        }
      ]
    },
    {
      "cell_type": "markdown",
      "metadata": {
        "id": "bSmT1YCkaMo1"
      },
      "source": [
        "See Table 7-2 for a reference on fillna"
      ]
    },
    {
      "cell_type": "markdown",
      "metadata": {
        "id": "J4lFmuntaO7H"
      },
      "source": [
        "Table 7-2. illna function arguments\n",
        "<p align='center'>\n",
        "<img src='data:image/png;base64,iVBORw0KGgoAAAANSUhEUgAAAhAAAACjCAYAAADbwSd7AAAgAElEQVR4Aey9/1Ncx5kvfP6A88v8yA9UqJ2liq1SrZZo2Yq0XL2Quqikq3fBr1W6vLJ8WaQbLagcFXj9SthZIeXaoKwzXiewcXBuMhV7VrFHXubKMbFNbIgM2p2RxTiCAJZHEsggCQkQCDxgvsxwPm91n+4zfc6cGWb4IoTcVFFzZs7p7qc//XQ/n3766T4K5J9EQCIgEZAISAQkAhKBNBFQ0nxePi4RkAhIBCQCEgGJgEQAkkBIJZAISAQkAhIBiYBEIG0EJIFIGzKZQCIgEZAISAQkAhIBSSCkDkgEJAISAYmAREAikDYCtgTiyrf+EvJfYiB1QOqA1AGpA1IHpA4QHbD7kwRCkiVJFqUOSB2QOiB1QOpAUh2QBEIqSFIFkTMNOdOQOiB1QOqA1AE7HZAEQhIISSCkDkgdkDogdUDqQNo6IAmEVJq0lcaOicrf5AxF6oDUAakD3ywdkARCEghJIKQOSB2QOiB1QOpA2jogCYRUmrSVRs4yvlmzDNnesr2lDkgdsNOBtSUQf+fGV4sagDnM/PqQNEyUnHwbva/+J+bDER3rSBjzn/8Bw9//u3XGZzv6f9aFxblxTP1sJW2x2vSyw9l1OPmb1AupA1IHHhcdWEMC8Vfo+edPEdWi0KJLiF76F/Rs5tn9n/0PDLz7R3w93YfbxX+zCmP/N+j7dQgaNEQH/bj3cS/mIxoQuYl7x3atIt/lOuHf4vM3riKqTWH6tRQIxJP/jHufDWPx8zfRR9stzfSbua2l7Ouoh8vpqbz/uBgTWY9vni6vIYH4W1x95yawFMbidBQY9uHqn21iQP/iRdyfXgKWQmtEIJYQufAiur/1HfT97Aqi0LDU8zp619V4/Q3+9F++m5Jx6P6nDhAfiXbNwwgEabvU08vBYxPr+rrqoMRF9g2pA4+rDqwhgTiAoZ4ZYLoXE30zwEIPhv7rt6nx0o3THGZ+exajoftYoIa0CF/80o/ZyTAiw10Y+/QugPu4/0+7YDZmfAbPDDA37Lc+wZ33P8fC3AIiw37cOvnPuHNpGJHI15jvacb1/0sv+8q3voPek82YGpkFtFnMXfo1vvj2X+EKy0e7/gGGf9eH+fAClsY+w+1/KDLuieCYDWs6HcIiPxmsv/MveDCrCRglkJHI/r9+h6/G5wBtDgt95xD6C1L2X6HnyOu4//ldRCJRLI22Y7CeEAAR41cxcOF+bDkpDrdZLHz+Owz8t+8YeMfqS5agqnFDTE/L/N+YGJyGhoiOOcHqW3/J0rOy+4lMX2P+M4+OszROKRG4x3WAkfVKZ6yQz0p92Vw6ELMZsauVnUTJDfK1dzD4/gigjWD0mD771QmBBi0SBSLTmH3nOHpOfgIaLhG+gYn/vAni1U+LQCCKyOCnGP/sLl0e0CKzmPvsIqbuzgNYwNfvHNMH7r8/h9lFDUuD7bj1288R0aJYvFCPHm5QSeq7V1g+0D0nf/7/IPRyC776WqP1mPjVv+LLfzq0wiUZGwLxZ8dwd3gB0G7i7t//La4kkvG/vo7pBQ3aiB+3f/oG7p19EX8iBnn/LzEdJliOYfrjDzF2/lV8fpIQCBHjF80EwKgvwe0y7veMkUUVRC79FL27/xE3372KKGmCu/+JW6/+C24cLDWn/+t63J+MAuHPce9XH+ArUv5Xl3Dzu98WCMg85u3aQJIISSKkDkgdkDrw2OlAjDbErlZGIP7eh6814iWoR+/PerAkBFJyj0Js3f8J3Lw0BWAaU6+W4sqf/3+4N7KYHoHgBIWWC2D2U9z8zrf1OAxjeeC7CBEygyk8+OcncOUvTmF8IgqMfYjQX7IlCp6P1SvADe6aL2EQhnkIt6/NsfruTyjjtVqdFJjjSXid5vD1O/9oKGQ8xrvMBIDXh9f3u/+KKUKQmKeIp495WsT0/9PAVZeFt98Mpn92IEYgCK5/zmJhjDbYXIxazoBke0kdkDogdSA1HYjRhtjVCgjEt82k4diHmNc0I5CSGycjLsI6AzcZ1BSXMLhhL/ZgZolwkQ7c+AvuTudr+cxQ82d5OcRo/rc6c4wDN7D8Wev3FbNnGw8El4Mu2VTrZIKXy+8RGZ/+39QDgcgIJl/7vu4BicNOb+g4jL8lEoBDsWUZazmMUPD09gTiGCM5fHcNr1ME8+8/bxAInjY+r9SUUXZaiZPUAakDUgc2jw7EaEPsagUEghurr/DVu7/Al7/6T8yTJQkWSBlnUOKMszgjX0MCwcuJ1U2/IkZ0X/3GEYg/fx6jYxE9QJPLYSdj8U70vvgHzJH1HW0Gs80nYksvBhHQlS0O41QJhG3cCcmTt6ldPAQnEHpcSo8lADNels3TIeTgJdtK6oDUAakDqemA1WyR7+kTCD4rtuaWyD0uGlC6RXKdCAQvRxsBjWN4tQFfkv9/OYXPd7y0cQSCxTbQZZe/fUEnE3YykmBPshPi2Dk95mDxKm4fOMWeZ/ETzDMSb7RFAiA9EHJASG1AkDhJnKQOSB1IVQesJn9lBIIbRLoGTsBnOzISusfZfR4DYRAQfRfGFboEwj0YbHsoLLsw+Aw86RIGl2MM90/+30a8AAWHeyd4Pst9X7MljF0IvXuTBjDSYE4DKxsZjTI5GSD4HGLxI7MI//ofjDqlTCC0Ydyr2IkracVAfI8tUfFlKR4DoceWWMu2fk9VGeVzcuCSOiB1QOrA5tGBtSEQLOYhdq5BLNCPnEgZb1C+jT+9fAkRTd8BMfbJddMuDGObozaNmU/8mCER/ysiEN/Gn168iEVazmWM/KwRX/7s3zDyamV8TICVQPzZP+B2aBYA2Vnwe9z5X//DMNbpKTh395ODpAIY+4/rWCRLEl914cu/+w6ufCuxjN3//ecYa38HQz95GxMj8yzg8a/Rc/xDfVmD78L4zYvotSwjmJcgBA8E2XlxzY9xYRcG3dnx3/8NYbItJnIXUx+cxcCTJeYgzO/+FA++suzCmPwEN/76r+LaN769N0+HSK9tZb0kXlIHpA58c3VgDQgE9xAIWyfJmQHkVEoyz770L/hTnHH7S1z5s/8XA79j5zgM/hFTtxeMXRhXvvVf8Plr/4mvydkMkzcw4fNjju7weBHdVkOf1ANBGrYIX/ysHWFylgLZ5hgeQ/jdk/GxBNZ8iWE/3ozpMZJuAXPvHl8hgSBHWX+KCN2nuoSlySFMf/wGru0m5IErXgIZj/wbpqnc5NyFIO6eLGVp2PkQd8P6mQwD/wf6jg0ePEry5V4LFvho1O8epoO3ENXmLOdllOD6Oz2Yn1sCIsO49/39ZgJB2vQffo3JYXIOxCIWr/0BQ0fEcyBiZUsCwdtVfsZ0XGIhsZA68LjpwBoQiDVQCr6Nky8nGIZ1DfKWeemkwyAQqz1ZU7bJ4zYIyPpInZY6IHVgJTqwcQTiu/W419mGe++2YPQ/yEFSUUR6fon+zXz89aNMViSBEDw+crBYyWAh00i9kTogdUDUgQ0jEN3fP4evqAuenLY8hvAfXpdHH68nAZEEQhKI9dQvmbfUL6kD3zgd2DACIbIYeS1ZrdQBqQNSB6QOSB3YXDogCYRkzd841iwHqc01SMn2ku0ldeDR1AFJICSBkARC6oDUAakDUgekDqStA5JASKVJW2nkbODRnA3IdpHtInVA6sDD1AFJICSBkARC6oDUAakDUgekDqStA5JASKVJW2keJsOVZckZldQBqQNSBx5NHUiZQNg9KH+TCEgEJAISAYmAREAiwBGwfRsnvyk/JQISAYmAREAiIBGQCNghIAmEHSryN4mAREAiIBGQCEgEkiIgCURSeORNiYBEQCIgEZAISATsENgAAhFFeLgXwWCQ/V/DOH17pZ14m/A3bQr9536AvU4ViqJAyTyNzhktzYoMw1fmhFLmw0iaKVf++EaUmYK0Iz6UKU6U+YaxNODBE2o+ajvvp5Aw0SMRjPgqoCgV8I1ETHlGgi44lQK4guFEiVf2eyQIl1OB0xVExJrDdAdqc5x4wnMNS9Z78ruOgLVPKUVwBacBiDprbteVQrcSHVtJmpXKZ59OxMH+CfmrRGA9ENgAAhFG0FWgG1diYNlAvh6Ve/h5RjHRfhI56m7UvH0BXV0d+N37PZhMlz+YBsaHVYtHdBASCIQ26Ufj0R/CNzCbAJR5DLe5UFb4KoJxlponMRsaMc8NIRCL1+F7/jk0BsaRrposDX+EM2VPJSA8qWDBMXkIn0tDaDtTjkI7EpW0+CVMd/4QOUoBTpwPIaxFEb41xCYdos6a2zVplkluivqQ5DHTrZWkMWWw6i8iDqvOTGYgEUgZgQ0gEFy2tenwPLdH4/MeWqu2QinxYDBda2CqwEYMCBtRpqnS9l8EAmH/gPgrI6dOV8oEQky9IQRCFCDN6+TypoJFmgWu5vFkXpik+Sarh6izj+N4khQY4aaIg/CzvJQIrDMCkkCsKcCMQOxyIxTnj57HiP8XqMjLoN6XrLoA5heu4u3DO6AST4yaj0pPD8KUeIgDwgxCb38feSrx1mQgr/Is+sJRAGxg3VON2vJcmJc75jHoOQhFPYaWMfLsHELu/Ww5JZwgP7FM66At3iOAhRFqPoECIhPxtrx3HXNxOEYR7juLSlrfTBRUe9G/rNx6JtrYJzhTnANFyURh2QHsZEsYsJKJyB34m44ybAg+5n/bJQNYDI2Qp2iQtTs+HHJkocTdj0VomAs1o7ogU5ep5rcYmLNhiNoU+jzHdHnUIlR7e/X2ZMYzY/9RPEPzyEGxy697poTyae3nvkBzdRHVCbXwJN4bmGHImvXHWlfFRJpY+wl4UCwSyWdqu2RtL7apAnXX6+hb0ICEMrOMWf1jMuvLRFq4B57KfL2uBcfh7Z+yeGHi62HkQZf3RL20tKtYJ1p+JvYcP8n0MRflb17EZfcRZCsK1LwqvB1iy1ZCe4jyKeo+NPXNwO43k17S9Lk4crIahbR/7MHpjrusXgS/N1CerdL+fvhICTLiPLAb0XcTtKuIobyWCNggkDaB0Ia8OKBmYJf7qrBmO4HO2u1QtpxBYFYDolfh3k0GWzagO0tQc44NpoYQiTu8OJDrj4sDBcsgchsdDd9jxkOFs/hltI/MG7lvzAVbwlByUe7mZIBIomHxxlkccGRjv+s9BIKfIjg4DU27i4vnPsJA+D66G/dDVQ/DO7QQt7Y7dvE83h94gOnu11CsOnHAOwiNEwglC8WuixizxJFE+5uQr+SjLjAFQCc2jqpWTCAC+/xEjJMZEQ0Lfa9jl2M/Gq98iavuw3A4jsJ3Z9EEuTbRhpocJ4obg5i43YLqHCczxtwo2MsNbRTtNTug5NXA6++A9wRZ7tJjIEwDNWZxw3MIDscBuD7wI3jpCgbDU/rymMmYmsQCUiIQtxF07Yay/WUEpqPAQg+adm1BceOnGLn6JsocOTjkG7IYO758tR+N3Xdxu+U4ctSn4A7NAtyAUlk78XHDQTiU3XAFp2Cu0wz6mvbBUfwarox0w12WA8chH+5o9voT30/EulrbMIl8YjKuVwaGgl5og/AeyMH2U20Ynb2HnuCXmEMimU2ZGhgYpI61s1r8GronBtFSvR1qiRuhRSsxs9ZDkMe01Jd4PDHwz/4emtouMJ1SkV3+c7T538KJPAf0vgGhPa5jyHsY6vYX0T46jbGebtycm7f5TRPSDLNrBWrhKTT7P0BDaTaU/Cb0U87vR11eJvKq30QHK9duCfeh993bX9i0q6X95FeJgA0CaRMILF2Fe1eG2U0/3wXXVhWZtZ2g8yVtDN3v/x6dXUEEuy7g7ZrdUNWn4RkQDXziDh8/MIqDBrHH4/DX74WaXQ7Xex243PEb1BRmJhiAbGq9nj9pD3QyQGbPpz7CCDXsDxCoK4Cy/RUECcGy+VsKubFL2YYT7eMWAiE8zLDPONGOaT7Qq5U0GFB4Sr+c6URtZiZKPNehRbvRkJulX4sPmvITMU42aE8j6CqKtf9EK6ocOahouSPkHMVE63NwKIfgHSbEYgqBunw2kLK8E8k93Y4TGTGCquNiQyBm/ajbkoHtrsuIRURY5RZEMi4teifMOLnevdzsxiHHDtS0j0KDhvmgC1uVg/AMEv3VyZha0YIxI09ywbxPpV4MkyaeD6Auy4H8pl5EuQeCthsAWkd2TygftB/xdmIYUi/SfVv94fLaB31asUgin6ke1nSCXrCZPNUpniahzMRiCn8MA4NAUL3JQqn3po5xoB5ZSgma+mOtqadOIk+aBEIfnzTM07K2o7ZzAgCb/OQ2oJuIbLRHv05GTcuRTBbTb2IaTiC4/jJvAvUyLGC6/QVkKPvhDhF/HfMKxnkgADzsvvt/muFysrFCaDJ5KRFYDoH0CQRXfGO2rGGhuxE7DOMXX6Q27EUpn0Uaty0DufE7maxYo+GFQYzwh9EWVDqcKPWEWFS7hpnO08i0HYCEjB/WJYka9x5HgZqJwtMXMEY8MrsyoBv+BEIYA9dwYgJhGjCtA6slX20IvvJsWuYUxZ9HrovPibiK19a8hXvaTXhLs0CXYEhW1DCoyG3oRsxkzKK/qQQxt/oihr2HoDieQ+tEci+BefZlNzizHRkmwsXrZJWb/y5+WvROwF3Xu0xs25YDR/k5DFHyx2TPqkdgnjADVgY3ODzraC+a8h2xnRYMJzqztRpPdo+SEKF8vZ9wrxHvB7vR8McuW/2J7ydcGPJpwSKZfGIyazqTzk0gUFcEJfsQGv13aN9LKHM3X3phmVsw0Ns5tuNFz2crqlrvmaSJq4dJHkEvrZ4lMRdL2WbcLDgZ7XET4cCPkKfkoqzxIpsILNn8llhHzd6usL6MaOiRRQ9FeR963/0IFy3tKoojryUCiRBYAYEA9FnhFlS23Kau9O6GvbHlC2Lgw9fR+lO+vMDXpdks0pAkcQcyd3CSQBwolhiTL0Ktzx/bDtrqwl7FbgAyCnzIF2H0NZVCJaSm+5ME2/jmMRJ4Ayf2kvV+ghPHSKyvhsiIH+4TJXDyJSG6/msZ+OJqx2Y4+a/h0oXTyMx4Ae3TJDAjUX5imda8hXtsMDaWp5hMxsySymFNL7b1g6TLDHFtbwzofHanYxT3nG25TA6OG8V30LSNMzbjHGbElemr4S2y5sGX5SyBmhYjZdLZZPeE+ul14v2FfxbAFWi31R97DLgiWNogmQw8iS2GQtvTvt0DN4m5UffgVNstzFGyz2XlnzFiYGRtKT9OdgEHI82y8oiyiTpm2YKTtGwLTqIcJGaExkkI3kS738Q04rWJ1Fj1Pom8fJL2MPtu2NyuFgTNTSK/SQQYAisiEFi6Bs8TWXBUtmB09jJc2zMFV7K+Jqo6nkDtWx8hEAyiq6UOhYZx5Ngn7kBxg4uJQPB0fLASP7kB5mVs7KfheTnXjIZcNTZrp2JpWAy5UaLuRLXHj6HQO8Z5Bybjs9gPd0k2XTcNDPWh2TgfwjLwxVWVud7VctS9tA9quQ8jZAKdMD9xMLbmLdyzDMZxxdIfVuGB6G5ArngWgzggC9dR+lxstq7LYZXbTjquP/o5EPEEIhff//EplKgxgky3HRsxAXZ5Akg2w4/DTMeTeieEOsXrPSuLLkFZ9Yd7KGyMNU1mwSKZfKYqWdKZ+h57MDKM1poC6lFq+eAMUjo7w4LBo++BIJ5A8jePkdaTyDNNTiy/CW0o6pPZAzGF7obdUFLxQPBls4fdd4V2bZ2I+RMZEPJDIhCHwMoIBBZxx3cUDkcF3nirFluUJ9HUz12WgrHhxYkdjP9mYudmvqt7OERvgpgnX64QyzQyfaQuYnENf9K3dxa9jn4jSMxiZE0Yxep7iwZDciMR+30kztVsU3W61p4JpzPLCHo1D9xifuL1jD7Y8UOwmMtd3+nBYgAOeDFkH85BrCmLgeBxAzYxEIkMMl0bj63HaoMelHDyKWJEn8tAUVMvYuGbVuNng4lV74Q8DQPedRUtlVtYTA2PReABrnZ5kt9YjAFfH08WA0HXuG1iIGideJCsWA7L26Q/aRKIZPKJRSFZ28ceNLD64ByqHHYyx56lVxYCAVM787iE9Y2B4F4yQ3Z6YJhFZwR9MGpglZ3cEH8T04jXJl2bt/QJMT7CPP7Rcjeo75qxMRCQFxIBWwRWSCAAPcpeP21RjxTn+YdBlzR4dDw5cZIuL8R7B3Rjlo3Shg/RFWjD+fNBjBGjRKPeM6EWvoC3Oz5FsOtd1BVmwNiqONcHd2k21IJq/NzXRr0cQZK+tR9rfIYgr1SKn5MIen+N5nY/ujrPw1WWC7WoEd2zEf2AKSUPle4gxmbHcfPWfT2i21EB75ejuHH2KDK4oRRmfXforpcclHtDmLzxFioyFIaDZeCzk1C7Dk8J2Q3DA8YAfReNXX4igeAEYDuqPBcQeK8ee8mWNLp0wqP596C25RrC2jzG+/sxbNnWuOwujEQEgqz/HsqBHp1/G37XPqgcF3Fw5rs1cp6B+8o9zI4P4VZ4Rl9nJpgOxW8s1SFazgNByNo0ZgNnsEXRT73U65KFwtoWDISjiIyH0DPMCTMHnuOSbBfGYbi/GDXv0LCpk1p4Gi0D09AiY+jvuYU5QsjIAWUm/QkjSuNASFveiD/hkrvBDSySyMerQD+TtL12Hz0XujG2+AC9rz8Nh6MKLaO36a6ZeJlNmYIHXxuxJRuwCyM9AjGIyZ7/QHBsFuHeX6LUQTxSQ5iI++02NLENxWsTgYhA3xqciaL6CxidCKKxOCvxQXoPs+9+PW7TrjakxtKk8qtEYMUEAphBf9OTUPh2NAFLLdyLczXCmj1Zg1YLUdthjluHdhedZ/axtX0VziffRIh6zqII97+DGiM2gCxTZKOwrgOTtBwNkbEunK09gG30fARyPwPbDv87BuPOXxAEW+9L7RY+fHanfq4DObOh/KdoJYaAlCvuwVf0oMMIX3dUMlHwzFHsz+AkSzDmxpqrArXgezi2Pwe6IU+BQIB5OWjwInNJJsxPKJPIO9cPD1nrVsgW2ROoPSKcNWGqiwLF+Qx8w2T7qfgXwZi/AaVkz7uSg+L6NhaItpzcJEbjI5wqZGcuPP88jmQyXEyDM4m1iZ0jQPSwoXsGiwPNOErPnuA7WkSZyHUqBCIMLPaiqSiDbaM075NXlK045CO7Byx/2j34XzlIzxZQnPtQ335LN+x0tpqFPRUVKCZHnItnfiStkwrnoWZ9V4cJcxa0ungdzUf1cxTiA3S1eCwSyWepRsK2Z8Sexr8I9TO3gyCzKd9ZDDQ/q2+7ZvE42thFvFK6lelYom3YVn0R9VS8trSrWLboLaDOAzFI25K/0R79dEstPaPF0F8S10QILRlvBJ020pjjdOJ0jSyHtL3EzocoRNnTOxMTiIfZd69fRtMutu1eaFcRQnktEbBDYBUEwi47+ZtEQCKQDgK6Fy7mIUonrXx2MyPAljD4MuFmroqU/RuLgCQQ39imlxXfWASiCA/54aneCSXnJNpl0NrGNsdDKX0Gwz0hjEdI27fBVexEdvWH+rLtQylfFiIRWFsEJIFYWzxlbhKBFBHQt9mqecfg6bMe4ZxiFvKxzYXA/B/RkK8fZW8+ln5zVUNKKxHgCEgCwZGQnxIBiYBEQCIgEZAIpIyAJBApQyUflAhIBCQCEgGJgESAIyAJBEdCfkoEJAISAYmAREAikDICkkCkDJV8UCIgEZAISAQkAhIBjoAkEBwJ+SkRkAhIBCQCEgGJQMoISAKRMlTyQYmAREAiIBGQCEgEOAKSQHAk5KdEQCIgEZAISAQkAikjIAlEylDJByUCEgGJgERAIiAR4AhIAsGRkJ8SAYmAREAiIBGQCKSMgCQQKUMlH5QISAQkAhIBiYBEgCPwSBIIbbwb591von14nsu5yk8Nc4MdOPu6D93h9XxdZ5I3Aq6yBqtPLr65MI3clq7B84QTObUdmE4jWUqPWt6SmFKapA+lWsd5jLS/rL8ZU8lHXWAqaa7xN9eznaMID/ciGLyG8Ujc+z6pKFp4GD3BKwiNp9Y/9OeDCAbJv006LYzhHn4/iGBo3Ob14PEo2P8yjwHP01BzfojOadLXyNtV21BfnAPyFs+sugBiUie7Z5/7in9dTz1eViiLvohv71w2LX8gVd3mz1s+l6v/imSylLEeXx9Vudajrpswzw0kEPMYD32KPwRuYs4CXCQovm7XcnNFXy0deEV5pJIojXKWhtB2phyFruAqButUZOLPpDYALQ1/hDNlT8EVDOsJtXEEGp/D877rWORZrdXnBhEIbbQFlY4sFDcGEV6cxoMZ9qrzlOtlaedU23KZwTD2emvyumjy70B+Uy8M6cTXcdP7CpT8JvTTB6bR3fAEVLUYri79pfe8Onp/4nnyV8bzu/T91nA5+X0F+uvihfvGpaXexu/iRRSTgZ/j6PPnMbCoAdpttFRugVr8GrrDc5h6MBt7DXqye2KWK7m2tsl66vGy8llwW0YP7LNLrf/apyU8ztyP4/r5imRKWNqKbzyqcq24QuuQMA6jdSgj1Sw3kEAk7hDfCAKx5sZzuSZPjLeYcu2xF3O3XK85Bg+rjhaDkGo9kg7S0wi6iqDkVONs7xgi0Al28OYMA03DfNCFrcp2VJ3tpt6JyPgXuBj8khHw++iszYeibMeJ9lEL0Oxr0vLJM8vhZ6m3fSnmX5Nhk+yeOZf0v61n3mlLY8Ft2XawK2C5trFLk/i3uH6+IpkS57/SO4+qXCutz3qki8NoPQpJMU9JIFIEKrXH7AaKXBw5WY1CVYGi7sHpjrvQ2OCmzzLJzK9An/HPfYHm6iKoigK18CTeGyDGI4ygqwDKnmrUludCKXPDR78/i5cq86EqKrLL30BfmM1TtSn0eY4hj5ZXhGpvL8LUEy4OQBoWQm/hcJ7+ZkD+RkhdMYWZqNOFYERMB2jhHnhouQrUguPw9rM3SdIByKauyYBjOGTsP4pnCjKhKDkodvkxqc1j0HMQinoMLWOkXux75ml0zljc+tpddJ7ZByfF7Ck8vSQcCI4AACAASURBVDMDxgzaBs+4OpY146YNFqQUc0cV23YOI74KKEoFfMMB8+ydt6VdvafbcSJjG060j9vcNeMc/4BYfiT+NvklMo5r15IsPyxrJJaTYQnT7S8gI+MFtNPlCTsxBDnjsKmAb4TJHtcHKuD11cFp4CfkM8LwzizHyef3sP5Rj44xjsM8Rvy/QAXT56zaOpwSPSo0z374ypwwdCNRP0lHjyN34G86qvc1thRm1680iHWJANZ2sNFTimwy3WbQa4MelCgxr9JSyI1dShFcQbLgGMVE63NwKIfgHb5h1H+Yengt/XzYhzIlAzvLDulLe3ysimtiXUcyjzyP5wtJn81E4ekLxivJE44PpnyiCPedRSVtr0wUVHvRH46y/paOXBrmQs2opmNHJgprfouBOY10XLicmdhzvAbl2dko8w0LpduPfbH+vhfHa8uQTfr2SISOd24y7ioZyDt8GPsydKwTjw0RVo+9OP5Sha4b2RV48/JFGPlUvo0QkZP+hRFqPoECOl7vRs171zHH9cVG3+PGLzpGC2O+koldTT1YEGq8npfpE4jJC6hlHVVRC3Hk2D5kE3dq9hG4jdcSz2OkoxHl/DnnPtS33zJc9XEgcHcsBYMP3IIiqTtQ3vAJRoQ1YS3ci3M1JdRw0MYtb0THCF9dJWurn6ChfAcdbBTFiW3bnPqAzwewdUHVbqAgZOAUmv0foKE0O+ZyZgOo01jCmEFf0z44il/DlZFuuMty4Djkwx2NEQglC8WuixiL8O/ZKG34EJc/bkCpw4HtrsuYJQNG+0nkqPvR2H0Xt1uOI0d9Cu7QbNzsUhvz49z71xCeDqKxOAvqAS+GaN+zLh8JRkUbRXvNDt0dPTGIlurtUEvcCBFXNR0UE9R19jM0FOWg0HUJbGFER58bEccBuD7oxMcNB+FQdsMVnEK0vwn5ynbUdk4AGEf7iW1QK1owZmo3Vl+lACe8HfB7a5BHdKnMhxEkwpPrFyNtxLubEhZi2woEguhTXFuahIx9oc/FyuU3EvYHWg+bJQbeX9ggZ04fMyY8f+PTariMG/xCaGv+k+WTlsX6qeUW+yritAw2Ftz0enB8xHw43pkorH0Hfqbz+vKOhsUbZ3HAkY39rvcQCH6K4OC0QdJj/UusW5J+kkyPTRWexQ3PITio7voRvHQFg+FoAl0S62IlEIn0NJluC4JEe9GU72CxJZwwZKLEcx0aZtHfVMLGHLH+8X0gaf8VijO8VOoe1DZfYH22BE39s0Cy8UHIQ5toQ02Oky4hTtxuQXWOEyXufrpEatYBJB9XFnrQtGsLihs/xcjVN1HmyMEh35DR9oq6Dy7/XcPucBGS93cFavFP4B8jtmQCgboiKHn/CE/HBXhPFIDYEkJIzHKa21e/RyZ2P0eb/y2cyHNAUXJR3tTKxqitqGq9R+ODFvpexy7HfjRe+RJX3YfhcByF787XbIJip+/xbacNeXFALcKp9tuYHetHzGvJa7x+n+kTCNrBtqHK8wk+aToEh/oUGtr+AE/VdmaEopj0/xiFai7KXOfRefkC3q7ZDdUwZGQWS4LA3odrbyaUvS600uCuIII9w3S2rDfAFpQ1vI9A0I/WpqPYpmxBZcttff1UG0bL0W1QC57Fr1r96Op4B/WlW6EWNaJ7VgMWQ/AcyIZaWIM32/zo6nwXjRU7NohAZGCX+yqW+CyaDfpxRme+C66tWazjs4GAzsCndA+EWslmb4xAGLNA3bjqa+H30Fq1FUqpF8OE4M4HUJfF19HNA0hMpeYQcu+HwvIzdwzylJBuohVVjiyUem9Cg4b5QD2yFDZ4UL1IUNfwJbgKExOIjBPteoAmnaEzeWc6UZvJ8lu6CvcuJ8MxJjknFsouN0IkXo8+xzwQCfHkMx1uqMT8kmEhDhLcoLEZtcUQijmarrUphC5cRIh7i9jNhP2BBzPSIMdP0ep6EoryJFytl1hApB5oaQRJtrqwV5iNmsomX9aAQGjhEC5cCDGvVlwJhO3EvDPLkSsLbmbdE/PheO+HOzQHaNfhKcmEThQfIFBXAGX7KwiSvs//LHmb9BhJ+kkyPeZ5k89ZP+q2ZDDiLt7g16IuLZgxEdshoZ7epaTZVrd5EfST9X/a59kymKJA71N30FKRg8zaTsyI/TjOu8Z1gxMPqwdQLJCNB6zPmTwgycYHIwtOcohXhERVTSFQl29MrMw6kEyuCFvSOwjPIDH2epvSSQZre7XchxFBJQwRjAuxjZYYKchGOSEh5Bk6HvExDdC9O6kSCD75YfXj3lM6rqnIbehGFKy9SjwYJAVS/HJQ0TLE9MVO3+MJhI4Zx8Go3EO5WCGB0AdfXXAyiLIOTmcmLGiq9CwGuMeAgsYNGa+XYJj4T+wzTokYy+aGRp+d5qK69S4LyNKw2P86ihSd2en381DTPsbui4MRd3taCl2Tr5ZyxIFimYFVG/aiVNgRoGOwGw3d93QCYcz6GIEwvi9i2HsIiuM5tI5109mIMevSbsJbmgVHVSsmLANIrLpmmeOwF9Ldol6BmOHVZWZsOlldY4WZr6yDPJNX9zToAwKVnXYsm90SptkXyVrQqYR4zlhmD6JIybAQ73GDliaBEIuKuxZkj7tHfhDLT6DDpjawyWS5+yJ+NslT+8kip7WNxUws98y6J+ZjwVuUk5FGPjYY2VvyNukG0xvbfmLCSJTBjLluTBItRxEpxLQW+YUyEvb7zwKCZ4Hkl0g/WP8nBiocgqdkOw5VHEBmbgO657vRkJvDDKI5vRlrbqi590qU3VzvODmEuujjboLxwWgY5hWxG78mbMi9kL8Z06/1cS+rHoF5Yn3ZuEjrTZYwFBjta5RtvTDX04qJ3sbCuCPIYn42WT6W8VrUSzbeGTuT6D1CLrowzJdIqcd8mbYL+1GXl4HsstfgN7zw1rquz/e1JxATZJ3Xge21zbjMPQvM26AbMl4RMyj8V/Jpbhzyi/gsbyzOYFlKOtu2A5/maJ4BsCRr/8FlY4ZFUDiz8se7dvU6C8s21E1NOuPdZQiEUCZbc451HBE38ZqAfAcBdw32OlUW8a/LnAx7fe00NkCYZrTJ6poIaLEz0WdEGdksKLcBwWADcglBmjD2I+g5Jkkft85r4BmO16+UsBBw5oQ5kTcpUX2T/i7W3e5BsXzroM6eN7WBTR7L3Tf1M5v0Kf1kkTOujYRMLPfMuifmYzHAopyWPIzc434X8E12z4SRKIMZc7OsRqkJ+pVFfqGMhP0+0G4xgoL8QnHkUjfcB+G5fB5VjoN4s/3XKCVxD4G3UKawWayImd0YK8gUN1aZyrPIIaSLw0S4F8vCYlBNRIvHDyQYY0zPPtDHRWM5j42dhJjMLUMgUurvNnZIqI+5rmY9Md+z1FfUPXYdi4XT6+B0BdIjECAxJW+gPFuFWvgS2h4iiVh7AkGDcayGkH3na7pUmyyKGNOw+AHepPzmxjKSUQJBWCcHXyQYCdIYidfqwlKOoHBxnVJUJLsObYhkUUDOtA0Gz8okyx13U/VAzCLkfgoqWdsL3EComQUEjth0YAH7dfdAsLI40dQHxqfwY9dhqHyZwsCFjJxkhqUKM42YTsWRHSGduYOnioXYthaDYGlLoag0LmOyj9imEss3GzPjcZO+Gb/GLpa7L7S1vQyxrBJfWeRMho3lnrldxHwseItyMh0wZnFcMEvepknIGnggot0NyBU8hnqxiXTJIr/QDuY6c+GT63Zc21BX+3bU1D2H3K0uBGevoCF3J2rrnoXTmKGb9SuuXEGmuLFKEMuEI/ldSPdwPRCMQBjjoCBkXNsL95CojeLHvrg2Fupqxk/UVWs+lvFblE28FkU0ESXS15dpO5qWxP19iJo8B/M4mzJcty+rIhAxqRiApDGn9LXroqbeZc4NYKDw9fpYZssQCM64l1vCEO+bG1goao0vLeUIChfXKa3KQ930ThzwDrJlFy6aRQE5geBraphAZ+12tobI1nb5mlqiGAjTAGqW2dwxiAyC8lIZ+TqpXQxEKi5QXi/Kmugsy3A/W5e66MBIyKeKra4u4QAinoelvuLaeEI8LTOLJFjoAwhfy2SuYup1sBgEa1ty8dL6FHC2TWduJ9tHTPpm88Ry98W2tkme2k8WOZNhY7mXMt4mOZkOFL2OfhLMy/8seZv0mMdA2PUTE0aWuvC8ySfVrwyYxrmEumTRF7GMhHqaRLdFOci1NgRfeQ6ynFnIpPFELC5CUQRjYtavuH4uyhRnwMQCzfmIBELHJMH4YGTBYyD4mn0qMRB248q8vsNEPQzvkGXPQVzbG4UDCdvIavh5G/P6AGK8R2JdteZjGb9NsultzAPYY1Ja9c6MeVzbGQktZRm/r9/F2hOISBhfuMvgUItQ9fNmtAe6EAz60X7+Y/SbToFka2E8irmrAy1vXcTwkmWAp3U3A4jlgijZfSX7KdQ3X0BXMICWur0bFERpp/wRI+DPUX4OQyRWhEcwF55GywCJIh9Df88tzHHCYDBtpiTkPIBzVzFJo5iz2NadJNHl4qCrDcJ7wAlS9peT/ThbsdXARl/3y0G59waLXhaw5zKSQ4Fsd2EkqCudJTqwpc4Psh/E+GOdSXEchvuLUcuuET4wZkNhsS1GOuNiEXd8R+Ggu07uYdT/ExST7VDE08VljcPTol9JsNAHRBU5VW/CHziPur1ZDCeLQWDr8EZbGvKlcyHgbJvMOqjYPMQGx4zyJlzo8qPt3AfoEfscu+8obcDHXaRPvo+gsRWS5Mf75EE0fHwJgfbf4nxw1EJobco1/WSR0zRgmh4kDWF201NjmgLeoi7znUdKHirdQYzNjuPmrTC0uDYR8U3ST1I1pEy/lJxn4L5yD7PjQ7j11bUE/cqiL2IZCfU0iW5bYDTaTeHGji3/Gd9JArH+PCBQ6OeiTCslELwuduODIHOyXRhx408SufR8slBY24IBsg10PISe4Zl4vRLKRpL+HmeYCTE7lAO16GV0jN5Dd+N+qDxIOaGupkMguB7uQW3LNYS1eYz392N4btGy5J687bTJXlwI3sNiuBuvl2bDUdmCUYFLi9Vf6+t1IBBkZnkPwbOnsH+bfs4AWeNRtx1DM42WjVVBG7+E1yvIWQb6LNNZ+CN0TtoE0liUn+SQfBsnu197ANuIQaH5Z2BbsYvmH5Ngra8sg2cS5SedfqD5WX2fMNsBIe6hJrNu56FmDPNtnFYC4cjH3t3keOAM5FWeFc6BuAf/Kwf1rbWm7bOiEsbWzBS1CM8cexIZfD1/8Tqaj+ptonsGxHRky+NFvFJKCIcKZ/HLaOfrbUnqqo34UK4WoC7wwAw4NSBZ2FNRwfae56PS0yNE+LMoaWMHijk5/Ra5hbZT/GyAapw8Qs7KINs4zWdWxPC0EAhh/TAOC4QR8lQYWJ6uLUemnQfCpi1tJF3mJzPO8Q9bdCv+AdLxMNbpYkd0kz5XibfJrgXjz3xfcZbDY7pP2vcTnGHHTpNzOZ70fBE7CdPIJ9mFRU4rSRCTxt1LFW8LVuKZDgqPcLf2r5vGOQh0CUA81VPsJ0n0WBSdXJv7Kwl4njbWos26lIRAxOXD+z1pzsS6bZZFw0znaWTyHVF0BYQssfDzIMjTFsys/TzlelvyMaVLMj6YBI5gzN+A0mwSf5WD4vq22Bb9tOQSz5Mg4/xWHPLdNLZxxmLBxMITj31xBIIew/4RTvHzLsoOYCcnEAnHhnQIBGl88QwHBYrzGfiGZ5MSCJgwasMY2QpK7ZxlTBarvU7X6ROIdRJEZpsqAg/fTZWqZPbPscOHrNvs7B+2/Kpv0Yt38Vkek18lAhIBicA6I6AvYfAlzXUubJNkLwnEJmmomJibjUAQErDHOCgmVo/lrjREhs6h3CGc/7FcEnlfIiARkAisGQIa5ob70T8+Dy18E+2ufVCzT6DVtOy3ZoVtyowkgdh0zbbZCMSC+QVKKeGtITJ2Ca+X58YOB0spnXxIIiARkAisFQJhdDcUsyV2BfzI/4cUXrBWlVjXfCSBWFd4ZeYrQ0DDbPAV7HjIe5pXJqtMJRGQCEgEvpkISALxzWz3R7/WkZW8ZvvRr5aUUCIgEZAIPC4ISALxuLSkrIdEQCIgEZAISAQeIgKSQDxEsGVREgGJgERAIiAReFwQkATicWlJWQ+JgERAIiARkAg8RAQkgXiIYMuiJAISAYmAREAi8LggIAnE49KSsh4SAYmAREAiIBF4iAhIAvEQwZZFSQQkAhIBiYBE4HFBQBKIx6UlZT0kAhIBiYBEQCLwEBGQBOIhgi2LkghIBCQCEgGJwOOCgCQQ69KS7LXISmovXlka8OAJNR+1nffXRZpYplGE+99BzV7yFk/9DahbXV2Yt76+1/KGvVj69b6yvOkvYXHzGGl/mb11Mh91gamET9rfsLwx0v4h+atEQCIgEZAIJEFg4wjE7GdoKMqEWvgqusJLSUTchLe0m/CWZtFXbe9yX8VytdMm/Wg8+kP4BmZTqOw8httcKCt8FcFICo+Lj0x3oDYnA3knzmMgHIUWvoOb4/P0NdAjvgoo/JXejziB0EZbUOnIQnFjEOHFlZxYaSEQS0NoO1OOQlcQ6UIqwpv8ehrdDU9AVYvh6ppM/qi8KxGQCEgENgECG0cgqDFToWT/AO2T0U0AVRoiTrfjRMZWFBTkwFHViok0ki7/6MpfphX/vntemsWgPuIEInE9eH2W+7TUNxKEy6nAua4E4j46a/OhKNtxon10OQFXcH8eIx2NKM/LgKKocO79Ac71T0G++GcFUMokEgGJQEoIbByBgIbI+ACu0RlwSrJumoei/U3Id1ThzTer4MiqR2BeA7RRtNfsgLL9FQRnNYASqEwUNfViUTDYWrgHnsp8/Q1w6j409c0I9WbkgS4/kCUIZvS0KfR5jiFPVaCoRaj29iJssRy60dXT6MsX/LoCvpE5pOyBSFQWrUMujpysRiGVYw9Od9xd3oBpd9F5Zh+cigK18Ck8vTMDSpkPI7TWYYSaT6CA5rcbNe9dRzjoos8adShrxs3QWzhMDaf5jXlmoiGSBqG+wwFKHoz8lAK4gmEB8zW8jIzj2rXxdfByaFi8cRYHHE4U1/ngD/wODWW5UHJOon3iMSPna9gcMiuJgERgdQisjEBEr8K9O5OtoytQnCWoOceM1uI1eA+R1zD/BF3TZPDSEBnyoTLbieKmHszBagSJAbM6jska9yso3UZmU8zQqcVo6F6ngX11GFpSL2LYewjKLjeuXnVjl3IQnkGyTKBhobsROxQS6zCKidbjyHAche/OImAQiOsY8h6Guv1FtI9OY6ynGzfnLEyA4+d0sSWMKCbaTyJH3Y/G7ru43XIcOepTcIfil0NSMqikLQx5hi11S1IWTUNIwCk0+z9AQ2k2lPwm9BMVoMtVOSh0XYK5BVl+SgFOeDvg99Ygj7Q3JRAaFvpexy7HfjRe+RJX3YfhYHiZ6wFoY36ce/8awtNBNBZnQT3gxZAGmJ9LQCBIfZf1QMwh5C41XuurKDnYW/MO+sO6fi8OeHEoOwtFrkuYps01hyFfFbLVUjT1hZkcnLA5Ueaz4qohMtIOV2meUEYG8hv+CKI5y/+R1w7vhbLlDAKEnBJtG/LigLoFlS23lydxyxcgn5AISAQkAnEIrIxAaGPofv/36OwKIth1AW/X7IaqPg3PgG4odcKQhcL6i5hcHISvchvU4l+gjxrDKMLDvQgGL6HV9WRs3V0QTR/8srG/vpmV0YnWd36H4JiVaAiJHpnLcbSf2IbM2k7MzHSiNnMrqlrv6dJpg/AecMJR8Speq9iKnNoOTJM7hsHuR9BVAKXEg0ErbzDqZ13CuIfWqq1QSr0YJmnmA6jLciC/qRfWuWfKBtWQx2rokpRF02RAj/mYx6DnYKxtw5fgKrQjEDpWhGyFSKDI0lW4d3EPxDSCrqIYFhOtqHLkoKLljoUYGMAAIIZ+P5SMF9A+vWR5bjUEIoLx7o/R2vkpgsFP0fH2CyhUs/CE5xqLb+GEYS/q/WNYNBFmQAsPoycYRLDVhb2KDYHgerH/R/gtK6Oz1YfzwVHd+EfGESLp7f5D44iwmBu6XKaFcevmfUSivWjKdyCrLpAiCRFxlNcSAYmARGB5BFZGICz5asNelJoGxghGW2uQo+TjSNUBYyZmTiYO6GZiQJcAlK2oOHs1zhVvzuMR/EYH7myUem9CowO7E7kN3cyYR3XPA/WqPImmfrY8YRjsmwgHfoQ8JRdljRcxErFjERYCwQyFsX4vGhMLPKsmEMnKMupASEfitjWJFGfkhF0YrB6GAaReApViOU+XMeyWGszlplzfZT0QJqkBJltsqYVM+e+g9dntUPLKUfV0rkCYhbQmjITfGQ4ZFW/hBvVqCPfIJU3HPRiWT+KtMeS/iJDnaajUy/UZfGVOmGS0ZCu/SgQkAhKB1SCwIgKhha+j9aff09fc+RKDiUCQAZWt+SsObHddho1D3bzuLtZCXBfPK8dLb36E/k0SK6GN+FBO1uwNXJTYLJrUkc6klZh7n/wmGhYSY+A+gmwlE4WnPrIhERYCYRgPvoNAMMIipsSsmwyvaGyFmIBkSxjJyhLrkCqBSJYfu2fCkcV8zJnqQSp2BwF3DfY6VYa7viyWcn3j5LAAp01joPWnLEBRaFsjVkN/XptoQ00OkWE3XEGbraUmjMQyIhjrdOnbUtUdKHvpTfy+fyz1WAlDfj+GWp5FtvoEGrp7JYEQIZbXEgGJwJojsAICMYO+pn1QHU+g9q2PEAgG0dVSh0ILgdAmL6K+UI+TiMVDiPKLBszsgdCfmsdY9/twv1SuE5XsCnhC5hV0MbdH41rDTOdpZDqeQysNXotirOUYVOZSJzPz0ZYqOCi52BuL6YgzLPMYaT2JPEVY/jAqaCEQybwCRhr9ImWDGicPyyhZWaY0y7Utz68bDbmqsPtBID+GUeTEKFYZcz1mEXI/BTXvH+EJ3ECoObYd1fycKJOFMCUpi8aukFgM1Yni2rNoC3Qh2PUu6gr5UguXK4pJ/4/1AFIlU4iH4PctRFH4Wb/UEBnrxu/cL6KMBoTmotzTjzlyc9kljOvwlGQi40S7viRG0rDlILqUFleW/EEiIBGQCKwegRUQCGGQ5+WbjEfMnasWvoxPrpxDpSnAjCcSB3Q7AsGfI2vIn8JVmLEOWyJjZazNFTtAiq/pA9CXY0rQ1D8LLPbDXZKNHa+68bNdmTYxEELMQUKjZiEQYHEJPG7iYcRA2JVl0oFU29Yiu6YbQt3trt/jAZFi+5iIgYnUmMuNdjcg1zjMiwW30rMu0iEQ5jx1OeL7gDb6IZ7NIXE/H+FKMwmgLIGra8IcwGjCSKyR5VqbRNBVDIUTUZpO8HyI3i3qBXmAQF0BlB2N6F5gQZT0rAwnDngHzTJYipJfJQISAYnAShFYAYFgEd+OA3B94NcDu0zBYSz+wRhAeYAZcavSkEFDVt24bkF500foCnyEcy29NEp/aeh9/Kj+l/C1k/y7EGj7FaryMrClzm+zFGJkt/EX2hB85dl6ACWXhp4JkY1y35eYDb6C7cp+uEPT+m6LuF0Yg5js+Q8Ex2YR7v0lSh12UfQsUNBRAe8QmZ8m2RnBZWCfJsNrWmawGNSEhi5JWaY0FqMbJZ4Gh037LeKO7ygcdAfJPYz6f4JisvxDjSIvaw9qW64hrM1jvL8fw3OaeSmGByCWn8OXk/04W7E1FrxJl4tU5FS9CX/gPOr2ksO9bLatstm6o/wchuLiTvjumWzsd71HPW7B4Ptw7c1kcgqEme88irDA4aJGdLNdEbQJeKxDeRMudPnRdu4D9JBD1JZu4nc/+jF+5WvT8w/8Hu6qnaZdFawJE3xoWAy5UaIyGbs+grtyh9zGmQAt+bNEQCKwNgisgEAQj0AvztWUmPfjq4Wo7RiDNvkJTuVlYnu9n21pA5t5Z0EtcSO0KAQGCrEOipKBbQd/g1BUw2zfWRwtzBbiCLJRWOVG13hyT8XaQLKKXOiui0yUeK7HZn3clXzyLN6pzjW2GGp3fDjkyLCcA9GvLw/RGWYOiuvbbGIgNCwONOModXNvw4n2cUC7B/8rB5FN0jn3ob79lu36+eoJBDGWCcpKQiD0uJAC1AUexIMbuYW2U3vo9kW1sBonj+TCCPwTz5ygdXsGvuEFM4FAFOG+N1CerdIzMJ459iQy+ImaCCPkqTBwOV1bjkw7AoFZDDQ/qy+VGctNgqjaFPrP/UCIsSDegAzk1V7AJKKY7HwJecou1Ae4x4Eb9CyUuPuxaGQlxDqQcy+2VeLt0Bww2wvP0V1Cf1LhLKzGL7rYLgwjfbILeZBUMnTkPYmARGDtEVgRgVh7MWSOjy8CS5hufwEZ/ACtx7eismYSAYmAROAbhYAkEN+o5t6IypL1+T2WmfhGyCHLlAhIBCQCEoG1REASiLVEU+Zlg8ACph7MxpZ0bJ6QP0kEJAISAYnA5kNAEojN12ZSYomAREAiIBGQCGw4ApJAbHgTSAEkAhIBiYBEQCKw+RCQBGLztZmUWCIgEZAISAQkAhuOgCQQG94EUgCJgERAIiARkAhsPgQkgdh8bSYllghIBCQCEgGJwIYjIAnEhjeBFEAiIBGQCEgEJAKbDwFJIDZfm0mJJQISAYmAREAisOEISAKx4U0gBZAISAQkAhIBicDmQ0ASiM3XZlJiiYBEQCIgEZAIbDgCkkCsdROwVy9nnGiH+O5R/c2jCpyuoO2LrhKKIb6kaukaPE84Y68Bj9xCe/0+/SVMWfUIzAsvKkuYoeWGmL/l1rp8NZUnvBbbWrd1KZxlmvBV6QCmO1Cb48QTnmtYWk8ZEuWdFAfLW04T5fGo/27SgTSFTYpPmnnJxyUCEoFVIfAIEogowsO9+mvCg0EEg9cwHveK5VXVeX0T08FRgbLVhaBh0Ocx6DlI3y66KgKhjSPQ+Bye913HIiIYbalir8KexOLUFGZS4A9LPdTXQQAAIABJREFUwx/hTNlTcAXDOg6rGcxXgqSpPIFAmOq2kozTSJOMQCxeh+/559AYGE/7+O04bNMQyXjUhMM8httcKCt8FUH6Itp1IBBLQ2g7U47CdImtIfAKLkw6kGZ6Ez5pppWPSwQkAmuKwAoJhIbZ7kYUqZkodF0CM0VrJFgYQVeB8CrvCvhGHvHXeAs1554GRdkPN3lVM/27h9aqrXqdynwYEZ5f9jLhYMtwcrqYcVk2J/qA+ZXeABLmn1p+aT9lKk8gEGlntIoEyQjEqrJ1wakUxMjZKvLSk1rbeB0IxDphkbTqJh1I+qS8KRGQCDzCCKyQQCxhuvOHyFFUZJ9ow+S6VHAdBst1kdOcKTXQGTtQsGMLDngH9VnsTCdqMzPhdDqgGAQiinDfWVTmZUBRMlFQ7UV/OEoz08Y+wZniHPp7YdkB7FScKPMNA+AG1w2fiWQpOjlRj6FljOTBPB6Zp9EpuCV08sCeVRQohHwM+1CmZGBn2SEUO1Uo6h6c7rjLZt8a5kLNqC7I1GWp+S0G5mzcHJE78DcdRZ5K8s5HXWAKC6G3cJjWTYGadwyevik9T5Px4PUhpEq8Zm2fWY6Tz++BqihQC+vRMcaIpDaFPvcRZJPf8w7iyL4cAVehPchznmO6XGoRqr29CBPxmdHM2H8Uz9C65aDY5cckuWeSD8DcF2iuLmIynMR7AzOsgHmM+H+BClZHheAp/puIHfdAcTI8h5B7v+ClYgSz1IthjeMQ38ZOVwDDvgooyk6UVRTTpas4XJLU1/B+8Tp6vXA5Rbmt5IcRmD3P4qXKfKikv5e/gT6qp/xeNWrLcxn+K9BpK4HhslF9J21l1a0e+MqcrLzkeqKFe+AmsikZyDt8GPsyeD8SdARaYl0VH4OGyMh/oKmC4KBAYUuGpAwPxUaBWnAc3n5dz/W+thfHX6rQ9S/7CNx9U1ga9KBEyUFFyx2au0a/b0dt54SpNPlFIrAZEFghgSBVm8f4tYF1XF7YxATC+X3UntgOR1UryLCwFHJjl+Mgqr6/HZxAaBNtqMlxorgxiInbLajOceqvvNZG0V6zA0peDbz+DnhPEG8MH/i4cSEG1zw71T0ffCAaR/uJbVArWjBm0UJ7DwQx0KfQ7P8ADaXZUPKb0E94yEIPmnZtQXHjpxi5+ibKHDk45BuyuPZnccNzCA7HAbg+8CN46QoGw1FoY36ce/8awtNBNBZnQT3gxVCcgRbrI17zts9EYe078H/cgFKHA/lNvYhiCeHAj5Cn7ES1px1+bw3yyIBuEDNe4Sgm2k8iR92Pxu67uN1yHDnqU3CHZg0CoVCZO/Fxw0E4lN1wBacsBGIGfU374Ch+DVdGuuEuy4HjkA93NA2LN87igCMb+13vIRD8FMHBacRhy0UBoLePTq4A7pE6CM/gPBDtRVN+JqufiIO5jYFkuCxf3zgCQYy01YALMoPrmJKN0oYPcZm1w3bXZcwa97JQ7LqIsYiGFem0tXwTgbDTrZvxBEKx05MJBOqKoOT9IzwdFyz9yFTJxLoqPrYYgudANhz7XfggcBmXgjcRZn1VLX4N3RODaKneDrXEjdCixnRBgaO0AR9f/lDvV9tfQTD8JzTlO5BZ24kZLGG6/QVkGMRfLFBeSwQefQTSJxCswxuzrbiBew4hbxUKyGyWzcjUvO+hoeO2ETwYDf0GB7eRmTeb/Th3obLxE4yYYh34YMlnbWYwoyE3dtMZL8lDhXPvD3COsX/6pDaFft8ZlIkzROcz8A0v6BlFbqOj4Xts1qzCWfwy2kfmzYWk/S2KsZZjUJ31eM93DCr1ACxgxFcJteSXaH/rkD7rj0Qx0focHMoheIcXAUwhUJevG+7JdpzIyMAu91UaxEfJRwoEAtTLwdItXYV7l9PIQ6xGnJGjA3YmSjzXoXHPBR3QIpgPurBVYUaOGb04UjLrR92WDOhGRSyJX7PZdsYLaJ9eshho0ViK17zt2TKQdh2ekkzoJEEnR8ouN0IkypHWNYPd42WST3FWT/huAHVZjIQwHTYCXacJ5uyeaMDmu+DamsWwYW1GsbmPQF0BFGIQZmMemThsRXFoGVko9d6ERvMl/WMbTrSPA2MtqFA5+RNxSEQgWJswXPQ2Wb6+KyYQvO3AsKcEk8mmVrIlxhXqdDICYatbIj5J9ITinagfiQ0jXlt01bilYTZwBls4yeS/T7SiysHalPSeQD2ylBI09c8yAsHalxMFeu8WOmu3Q9dfVh7XZZ6v/JQIbBIE0icQWhjDPSS48X249vJBXawtG1gyDqPpwqcIBn4Pd9VOKI6j8N0hxpJMesha8VZUuC8gGPSj7c0aFKqZKGr4DLNGVnxwsCcQ2ng33m/tRFcwiK6O36CmMBPqEx4M0ND5MEKeCmQrW1Fa9xu0BboQ7OrEh+9cwDXigtfG4a/fCzW7HK73OnCZp2ezB0OEtC+YzE4XPu13YxcdMIbQfmI78puu4DZxP1PX9iz6m0rYNSlkEcPeQ1Acz+H9TxqRz5YBaPGiQTO5+a3GRTcg1OtBBzY+2zVXIs7ImfIXMf9al8nY3cHKy21At77SQjPWCQ4fKM1l6d/EPCNpEgje9oLRYIQhqy4Ane4J98Ti6azeEdv1ot2EtzRL9wpZjRa7Rw2xgIc27EWp0BY6drvR8McuuHdlwCAgrNw4bEV5WBlk5hkmbuuMUlQc3obchm7Mdzcg1zDEYn2sbWzBUtSHdOor1DElD4SxHBPT09aJKT1Wybi3Qp22toUgm71uifgkxuM28foJbRe3NCW2jXFtzY/fsCcWulcptuyj68tWVLXei/NGxe7d0ScPjufQOnGHxkbFdJmXJz8lApsDgfQJhFEvsSMbP8JwexoDC3ffxoxM/EA7g/6mJ6kBbZ3g1ilRZxbL4tdsYFOYwWEzyu31fkzHJoj8YWijLah0OFHqCTGviIaZztPIZLMH48G0L5jMJR4MzpHZaw7K33kXP8/PR23nKEYMApHYMHh9dTAF4gkDaiwGIn4Jw4h7yG1AMNiAXDpAcSxjFYnD3pS/iPkDSzAr9xaZgzbj8uNFRe4g4K7BXsMTxdrGVJ6oQ+K1KAeJexDuWQ2OeI+XTT6TPZfsniCfXjcxRoBcF8AVaKexA8aMnpWbEAt6nxnYkl/j8gfPwcE9UqUeBJor2IyUPCjUlS8TGH1phbhY6yvUMR4nVhn6kVhPfSNMPwzZEj+bVKeTyGaPp4hPYjyG6SQlZtyTEohEumpAYa2bfiNOPgHXZPf0uIfdaAheRENuLiUcRlHyQiKwiRB4KATC2nnjOpfh/tuNhm4epGYdHERUowgP/B4/Ld+hBzTxpRBGIKJkRifOPsSkhjuxCLU+f2y7aKsLexV99mB6PK0vM+hu2A3R1Z65bz9KMshsY5EtWxBDOp3QA/G7j19BrhjJLwxKyY0LJ2pP4ceuw1ATuEXjsDflL2JuNRD2QNhjPYuQ+ymoZP05cAMhYiA5uTOVJxoD8VqUw0Igot1oyFURm7WJ6QQZ05mRM6NNvTeCfHFY8ezjZNBvJHye3mbr3ZnfR93pXdjq6sIs0dOsatSd2pmgPlbDlQwXEkeRosdFqOOKCARdxkndA5FUp5MQCHvdEts7MR7D1jFArDNvR/qZRFeN51i/Nrxx+o10PBD6GMiCJ6luZqP0x/U4ooq7tYwC5YVEYFMg8IgQCL6sIcwYjIAx7sYW8KTBfZlwFJ/CW22EBATQUrfXMFL6QG7vwo8FollnluQ7D1YUykrrkg34NC6EDG6VOsEhHgmN15HUZ56RCR5fIMRAjJF1VR6TAOizFS6XOHhajQs5BIms5ZN6qNRA2UV0xBk508AqDshMRvUwvEMsbsQOC7pckoGipl7oC1QkYlA0ZmKea7CEwWMbGKYwxUeIArKYAP5cshgIGj9iEwNB6+aM7aYxsmd5F72O/sWYiysOW+N5/UIb8aFcJbtxtuuxD0Z7icQ1WRtbsDR5K5LUlxEePXAP0N3pTKesBtwkM9MxYzfPhL5+L8ZAGB4IHgORpk4nk81Ot0x1ToIHTZuoHwmVTKarxmO8bk+iqZ9PcACYyrCLgeBxLVYPJ4slIRMf03kxRoHyQiKwKRB4RAhEmksYJqNHcLYMJEmXMHhntgwGa9JcIoFguy8UvntAJBCRJBHrQ/AdyoEe2X0bftc+qAaxSWZcAGhD8JVnQ0niSdHXlXNQ7r2hL9+YsDTjqEfVZ6GwtgUD4Sgi4yH0DAsDKMGM7xrJeQbuK/cwOz6EW19dg/eAE47yc/hysh9nK8gZGGu0hIFF3PEdhUMtRn3HLUx0v4ZiEkwbF8y7/K4ExXEY7i9GzTs0RDx4lH3habQMTEOLjKG/5xbmwPJW8lDpDmJsdhw3b4VBAnt3KQK2Vp1ixkrhgamc/PDv9Hmxjdnau6MC3iFypoi5fcweqST15aQrpxoe/0W8V/dETKdYTAlpqyFTEDMRhumzsh1V565iku4WysKuph4s8HsGgcAKdZoRHzvZ7HQrbLcLg08yBOxIXyD9qOhldIzeQ3fj/lidxXbRBhPrqvCc3hccyKl8A1fGpjF+804KuzBU5FT9O25Msh0au15H3wIhnKQd9ckF36klFCUvJQKbBoFVEAi2pkuDJS8h0HYeLT0PYoOOMLDYL2E4UVx7Fm2BS+h87xWUZWcg79Qn+l58Bp/uItS3kHUF2nD+fBBjpP8tXEHDDgfbUtWFYPASWl1PxowUwuhrKoVKgyjfxIedn9JgzXZfMzqH54G5PrhLs6EWVOPnvjYEyImXJP/W/lUeiqUPYIZ7nUbb7zD2eJtnqBGM+RtQmk2i8XNQXN/GdqGQ/eYf4VQhO3vh+edxJDNFDwSYwTEC8mz0cPE6mo/qe9lpEKBoMOMMlLivn3g2tuKQ76ZlGycg7oVXFLIMNY1w3xsoJ3VTi/DMsSeRsWYEgoy/t9B2ip8P8RSe3mm3C4OQm3vwv3KQnhehOPehvv2WTprorDsLeyoq2NkX+aj09OhnRJjwsNZNhfNQM4aJDopnTCgqDYaMWrGNg1+cwZObzDVumoUKRhAaFgeacZTuJCIxRHf1OBqOpWk2nqS+IOd5nNXbg+ja6R8IOjWLgeZn9d1Ixm4LLjgjEI587N1NziXJQF7lWfM5EGI/x0p0OplsVvyJbn1us43ThkDQcxuEfmQ6T4XXj3wSHU+gq+Jj9Dl+bosChQUTa2MX8UopIcjmnVx6X89Cwd5C/bwO8SwUvrVbyUZ53LZoU6Hyi0TgkUZgFQQCiB14pEBR83Dw7RDpZpbo7PjDefTOlYHcbVtYDEMO9ta8YxykZCCm3UXnGfauB9JBn3wTIRoXGEW4/x3U7CWDGjFs+r+a9yI6JlngYOQegmdPYb9pu+g+NJC9/mRwGevC2doD2GZsBc3AtsP/jsENeQGCUeNVXjyg2wuNMxdWmdumSM5m8dw9v1qZddLKXc+rzW2zp7fpy5u0Sg/7wCbzZMEKGtsWutzyoDWZ/C4ReMQQWBWBWGldkneuleb6TU+nITJ0DuWOLahsuR3nJXis0Jm7hZ7+MUS0MIbaXShW81DdOrLKOkcRHvLDU70TSs5JtBu7gR4r5NKszGYmEBrmhvvRPz4PLXwT7WQpMPsEWvlppmkike7jSce4yA14y3PgqGzBaCyEJt0i5PMSgQ1HQBKIDW+CtRCAeFQu4fXyXKhFjegWDjdai9wfrTw0zHc3Ip97jlRh+WFVgurLP6Zjt1eV3+OQeDMTiDC6G4qNXVoPu10TEojIPXS9/j1kq0/Qpb7HQUtkHb65CEgC8Vi0vYbZ4CvYUfgS2lZ9muZjAYishETg0URg9jJcO4pxqo3F4zyaUkqpJAIpIbAhBCIlyeRD6SEQmcaDmfiDo9LLRD4tEZAIrC8CC5h6MLvK5bb1lVDmLhFIFQFJIFJFSj4nEZAISAQkAhIBiYCBgCQQBhTyQiIgEZAISAQkAhKBVBGQBCJVpORzEgGJgERAIiARkAgYCEgCYUAhLyQCEgGJgERAIiARSBUBSSBSRUo+JxGQCEgEJAISAYmAgYAkEAYU8kIiIBGQCEgEJAISgVQRkAQiVaTkcxIBiYBEQCIgEZAIGAhIAmFAIS8kAhIBiYBEQCIgEUgVAUkgUkUqpef465ZjL/gyXmOdUnq7h+Yx0v6y/tZIJR91AfIysEfhT3xr5FrLw3Hkb1mM5Z/wiODYI6ld0TdyKnC6gvobOlNLtQZPJcdNC/fiXE0JfYMjfUkcf1On6S2hYh7zGPA8DTXnh+ic3lxvglsa8OAJNR+1nffXANdHO4s109tUqxm5hfZ69iLCrHoE5jf7SzceNT1foTymfpxqY67kOesLJ1VsdXVhnmRlkkEcS9IvJ30CoYUx3BNEkLwCm/yHxh/yAJx+JR9eCm74noSr9RLD6BrGIyvvvNpoCyodWShuDCK8+CidNrk6xUveJhzHbxqBuI/O2nwoec/j/MA0NC2MWzfv6/0rYaePYjLwcxx9/jwGFleuZ8nbY33uapN+NB79IXwDs+tTwCOU68MlEBGMtlTBoe5HY/ckFqemMLO5VAPAPIbbXCgrfBXBCGnIR03PVyiPqR8vr6BLwx/hTNlTcAXDyz8sPjHdgdqcDOSdOI+BcBRa+A5ujlP6sMEEgs3c+Cu0lTIfRkTB6bWG2e5GFKmZKHRdQppV13Ob/QwNRZlQC19FV9huZqUhMh7CpT98isG5R6V3JDZ8cRCl+MPDHXhSFIo+JglEOmjFnk2CWzKviGngSZJHrCB59Qgh8HD78WZ+CRpvtMehDrwuwqepHwu/J7hcqd4kTWeSYXVjSfoeCKOiyQpewnTnD5GjqMg+0YZJI00aF5RBqVCyf4D2Sbt3PKy9sU5DugSPJpZJC/fAU5lP3w6oFhyHt3+KnoevN/ReHK8tQ7ZinnHr94TlEELWtCn0eY4hj7yNUi1CtbcXYQ0w53MAJ08+idjyif6mSYW7w3EPrVVboZR6MTx/FW8f3qG/tVB8syU1ZpnYc7wG5dnZKPMNA9pddJ7R3aJq4VN4emcG4gmkhoXQWziclwFCMk1vQaSKm4sjJ6tRSOXfg9Mdd9l7ASIY63TpSzVqIcqe3inIH4Nbr2cO9h/7HgpIHs79cAXG9TwWEtSFJI/cgb/pqI4bWQrq/AguJ1vC0IbgO5QDteRf8d4vnxLKTYKbNoPQ299n+WUgr/Is+sJR0hBwOVeAm5WYK7zdnTr2CTu9qHNzGPFVQMksx8nn9+i6VliPDv4Ka6I77iPIpu1yEEf25di0XwxremXU5yQqaZvmovzNi7hs5FOFt0NsimCL/yjaa3ZA2f4KguQtsbRfZ6KoqReLQp0M/X2pQsc0uwJvXr4Id3kuFIXg+zZCdKJgNSziOMTu7XkWL9G+piK7/A1cvuxGebYKhej321cxZ6kiwDC0w421i7HUJcgca+vlsUmqt9AwF2pGdUEmFCUThTW/xcCcZunT5rGBVsF2LGAYWPVHrLO1L5BlUdu8SCId38wjz+P5Qibf6QsY0wBxTFPUfWjqmwES1IUWH1fubQRdBVCcLuZl4G3pho/8btSB9NMAholukzHyzlV4SjKhVrRgjGS8dBXuXRnIrO3ETLLyOQZ2Ou3uoeMofWTuCzRXF7H+cxLvDczY9OtBva8ZY3YU4b6zrI9koqDai34yHhBExj7BmeIcvW3LDmCnwvq0iLmSiV1NPVjgMpIhK+iKLWUSLChOicvhSePSGTgyHRJ1mLVv/DjOc0v+uU4EghQ6j/FrA6tw3xMPwwCucbdLXD3EgZP6uOKeePg/JJBJ0wdRtfg1dE8MoqV6O9QSN0KLfJBQoBb/BP4x5mISBNeVoYC5sKKYaD+JHOqavIvbLceRoz4Fd2jWUDaeT7S/CflGzAQjDMpBeAbngWgvmvIzkd/Ui6h2FxfPfYSB8H10N+6Hqh6Gd2iBdRhCUvbB5b+LCFjZSgFOeDvg99YgjyimjQdKG/Pj3PvXEJ4OorE4C+oBL4aIk4gqrgK18BSa/R+goTQbSn4T+qOANtGGGupyewt+/1s4kecQDHkMEN45HPtd+IDnwY1TorpgFjc8h+BwHIDrAz+Cl65gcPISIxCXMR18BduVXagPTCBl3BDB2MXzeH/gAaa7X0Ox6sQB7yA0TgRWgJtukIS4DLGji9emTi/qHCMQxAjVvgP/xw0odTj0dsYSwoEfIU/ZiWpPe9L2i6FNRzGKk5L9PTS1XYD3BBnYiWH+OdpYOzmqWjFBEtniP4+F7kbsUEiswygmWo8jw3EUvjuLJleq3q7mfBUlF+VNrUzWrahqvQcgBQJhSqfAJLvjObROWCckHEMb3JYlEJb8E2CTVG8XevD/t3e9L3EfaXz/gH2zL/eFnLAE9kW4IMEXlnAkLyopAT1SgvQCoqXFhDbEu4Jpj5rA1XAUSw/DFQtFrpVezx5KuHi9ShqxMYdrW7koydJKcrGauI32TCrGq9F0P8f8eL7fZ+b7w03imRBHCPvdne/MPPN5fswzzzwz6azejppTX6Dw9QeoT2XR2DeNVT2BkE4bfCF9DLEFQYx4zRBdWLobaVfIgUgkn0Fr7xA+6ziIVKIWnfnbmO55Hsmq32FwbhHzE+OYEg5exFiKYTq49EOEAyGi2jafiUdiElxEvrMWCcrtWBjA0ZSWj8j+GQako6mD6PhsRI9pL9rHRH7ZHVzufBapmndwsTCOrvosUo19mF0VCwNuDzk9a9p+ZeRW88KNfjRnM6jtymNV2/5E5TH0jJzX+qMciOJ0D55LPo3jgzewPJ/H2JRwwMw/0/6TnQzpx6ym5wOaN0xaH20OhEcoeYvWFgYxh7yewAQzj/Ote9SKN1GG3S8ewgGxOhBKL71A24MO8bztPqivBAHmEbnJD8QolgMxMYMlKeDlqOuZQhFFrOROolwqIU3829DQNx36P/SZAsQiB2JCXsmhrVxNECvS2LB2FgfRktZ9rnyF9h0C451oGfwemO9HU7IKrcPS7HsY/TTZhWp6R2OcbBBRD/HK9xhs2YlEdRcmxY6S9vrDHAivQegVfPo1DIoEPzkJplHd9TV+wgqudR/UTsJdLA6+hnTiALomxfpQ1/O8e79FhYceB37S9YRBM/fRjbEsj6BtexpV7V/Ce0uPL/PmR+hp3I7ssXNYEON8ANwIi3TLIBYfBjeiiRI7udPAn9d1IDSOxStypaZ49CD88x0IWt0p2SXZWcBwaxUSFR0Yt+ZkA//iNfQ8l0Gq6W2807QD2dbzWBQsZWNSfKV2f0CubRcSZScwLDbv7wyjtSyJio5x3AtMLNwOadtB9aR+JLyV6Z3hEyhL7EXHuG2oSW9DcIvjiS4rBZs4uRW6u4Ocex0dFKvrgq3TvhoAPIpo2YIgRqximC7EtqXx1XpfvNaNWrmCzqvJv7Yb16R9EH0UETWW+dB+bSchhJdedIJ4JOaDVSheqgXRvfEOVGj8IvtnEJCjLvVV/C51Xjva0laWo7b7CorCSRt4BankEfQX1ILDt4ecnhX1XqIRPTOrALT8isXRLWGHyeYBSi+UA6FkQi/qOH3sWb1D85qmJ6wfS//MepzWNUPvPAcxME8zImIeNz4C4SVZfoL2fWUITjBKSMqOdmP0807UpzI40PEpRrqbkZWr3/9iaeYSxsZGMdDOw/BsFLKPL3Q5m6zHLmFGh43Y25v4SIyi8LMKO42Oi2gACQFQnOlBXUJ5zCajg6Qa5TJykPJPDhSn0FNXDrECnJPGxu8DukwYtyWh9Ok6ND2/UxrhFaFwyUPoK1iRG2bQScm80K3uu7wtpzJ5jUksSLf6hfAIC53xMmtFQSHlSAfCH6fCMoum/lmTCDYWYzKjt7TxT+3ciR2pJvRM68D2g+DGsbAnnPvBza7LxsAnW1PpOY4UgSCnmxlk7fDdH/98B4LkwJDHwGRO4JrOgUiAk5EH6ejvR2deT+BsfLHtGrjcx6Rj1KOQsC87PrUcQ6ETDDerDYMPVlncGMwysgFCbqcw09Por6YJ04oOjI22I8Pshk+vyCkUUcRwW7BAbXiTr18zVBdi22JYiGY8nk3piFYF6k9dQEEmiq9GjuVfebY48ci5D15aNqFY6ENDUiwkZlWfcnv2bmT/hoNr8Y1spYykSdvsn3ZTfNuLjrEhf8tT0s9lRtsvD2+NQ+oVfPL5KRYJ5vjNAEsjaKtMY1v9OxgpBKPPohtTbpZV5CWkHzuqZtbjtD7uDoQnHJbgWb9LgyQZyfd4uXJbg/bq08N65fTeZn6G02Qy0xSiQJlFrlFuCz4zdDO2AwEtbLV/wpf/eAWp2vcw+FEjEnXdyPU2+ZEErKCQex8t+8QenXB8ND/svuzvrO9AEu3aLHJdx7AvI6Ieos31HIjbVigzHEcBjYGH+MEzaDNy2yxsLIE6qiEVkpT0UfhSFJSKWxFrhRF0tbAjl8KLt3Gyv8fipsKkNFkbYzPGyXWLYxXjQNwPHQIG+rPqmVjaE0CELIm2ZBQu4W1ZyebZmGLbNWiw++RYWGVGvRDZoTFak9NmOBA+b/VKXsqhufDI5WIcCGtsBs0xDoSJswYgti2Or6VvXk5NGfYcP4vCmsa/5LFY/DJ0wy7jcr6mI6Dl2NU5hKHWKqhoQnT/6iTH+uNVdpTxQY5lN9pzgzEORLT96ulrM51AJvPCsV66/L7Mz0nueQPnQpwIk1/rYOLJsy3rFnYGDRZ/WRulPG58BMLrNYow9ftWciDUvrrvHG1KBILC+2Uvo+1EtTwDvCwiD+XNaDv+C6iVaBGrk12oTYp98RFMT/4V9VEOxL1xdFQk/eiHoewe0+UEPNn1KyQrf4Pu3FVMCmdlXQfiB4x37GXJVJbAs+ZNhSKDJqI530WORYU4/VWFbE4bzfTLJ/H72nKkDvVjToZi9bZILG4AVvPoqt2GyuYPkJu+jN76DGS0zTbGJeMWXO37k8yM5Shx3eJYxTjRQXXiAAAIBklEQVQQmo7/XwQiRpagjxVKY7wPHeM66ZIZMpOvlqE0MLXKDDm0yox6tlFlQvXIHAght1cs59mny8TE/10+xUYNLBxY1VBdiG2Lyxrpm15kyHZXUBh4HZUyoho9ltB+A44O78seA5dzESVaxFj700i+cAJv1FboLWC7Dhs4f7Tkgpwvf9vIt9VetUAdTk90BOLvn72FCh5FYjKv2hYLkU9xrDIlI8nmprItsy4C4YUHt5IDoVZfZXpfLSwHIkRgteSaRkTnQNC+YyAHwmxHhfnKkMlUqdwHudcnvGudcESrbQqJceEOKIzVt7G/7qmZFVrlSmaHzngZ7SHSfiDPjzC3WRQelANR1HuhIgfiP2Z4j49Frn7TKvOfSPXGl8OsPDOvklFF8fq4QSdbEt7M8Hnt0gVVJeImOrbr8jHwZ2PS5DjGOBC0z02yE8U/woc+LZpMeeQG2zJunF7tbD31dhf+WF0WkwNBePJ2bVzuKGeT8hz0lpPaKo2rZxtjGqAE3sqoZ/zUjpfKc6Cth/AoXTQ21HeY3C7pfXadvMzIMttjBfLRkitmC2JzIMJ0wZYNoy2GheiX85VI8mRkFHMyZyA4FmUDLR3EffAy4ORpR788g0yScqcoZyGkf6JVfGp6iacqx0bnQEh8dEJ0SB0vOmjQY9svlgMxLxI8yfYDfg6JiJjSnyW39LMklUehKAeC7CTr54nJgfAGbwme9bvPCF0gBZMMiPiNG0ZzElE1qJwSV7wOHuED0UR70JqUdU9h8HGb5JtGZL1TGFY7emWRoAQtmjToO+6qTGqRA/DtHK5+eBjpqAgEVjHbd1hfTnMTcyN/QI04Rmkn31DCXMPH+PZWHh827SghArGG4mwfGvWFWQtzF9BeU+7XY5AoPBJI1X+Ab27xEy0r0WOhTOjsS+i6eBPL30/j+m06hTGGNZnglfIntnVxA1QGdRYNPZO4dfUjNKU1Fp4xJQeiRNzEGO263Fjz5wdyIIiOGpw8fx0L8uSIzz91K+R2HOq/YSbzWjSZ8sgNX5QsTWNZnnIRRn5R8yjqFAbJL2/XxoWMaBWOdg8hd+Yk9nlyGFePJnHqgwlVwNZw26Un6mwzukcu4EzbL5GM0JFobKjvMLkt6gz+cuxp7ZeX/oj7bSZm7gS36zjJIq8k4kRW7CmMMF0o5RQG6bknh9dwa+KfGJtfxtKl91CX0rIjT1MFx4KofoXDkQjjpU6k9vKTgrZVTcYJP9lWOP9R/XPstEwnsr/Gx1fn9Wk2fQyVbPWeE+gXl7mtzSM/cR0/Wnpgz0+q35DTEXREXJ7Au4GR9mc9+SneuoShsZtYXRrHu3XbWBTUJ1blrAg7c1VeKBfZj19FPpmyaGHn8VA4MVzWrUZK+PoQWxh6xSGPwowiN/g3nB6bY8ZHl6efR+fQKHLnTqN/4rZH8PoOBK3ytqOh8yy+yp3Fx/2XjEup1NbANhxoP4Pc2BcY7j+N4ZnwZJQSsNiAVyxGsRaL8xfwVp2YTJPI1LyJQb3fZTKaVdCPgfLiTYy8dVCe5U9knsXJwetSsALvyfo6S14flRRHlORWgXcfhDrLrc7al2H3S4dxIB2+upLNrV3HueN0v0AzXn+xAgEHgu3riXsqXjqyH+l1tzCEg7iCwrk3vPshXn29AWVUT2MhPuQ4k3vRdETlHvB7JsS59NCxCMPC7uFIiEx8IynqDvKd+5Gg44VYHzd5bp7uQtj9Ao4c0HcqBAyNILoU3OyJ0lrtRSo9l7m4CIRNB7/HQ6/mUkfRP2c569Z4TDkzJ+xQ/HtHMdBc4R3lVY6iXomyMcW1G3CsfsyjW94PIXSpBa2eHJr02PXMPphQxToQ4o6GD9U9Eoksak78Fi+WheuI2b5JiyyLkFu1F053CKgIYWPflD7GGebwaNojbEGsAxGmC+JUSmRb1gTj8Swvjzsm5bZUFjUnz+lESn5PgT8WsTsY0EHRbyQvi1j9dy8Oy7tHROTmOytK5CeSeseIJSzR/Xsc1zKd2v0M9oo8LX7/TYDOJDKNvZjRxzj9eYvrndCZNcyPdKBOnijkeIgtirM4TndovPqqlp9p3L38LqqF82vNCR6d4mH1CnoPq/uDVJ5HVD9GLcv5tGj1ePhIHQh+QYYAIYv93d+AR1L8CzTE+dlKHPzLJO5pj8dnhB64HJSlLOziInGZzM6Df8ak0cEcvnqXLgcSJx5q0DYsrxYx0XTfHAIOARMBHY1SYVy1n5xuHlBHWc033TeHwJOFgOUUP1mD29zRPEQEYnMJdb05BBwCD4nAj9cxkZ/HWnEJ04PtqElWonmggOLdi+h4ap++SOch+3DVHQKPOwLOgdgwDjkHYsOgdA05BB5nBIpYGT+FXTJkKiKCu3CoW1/fu/Y4/SdtjzOGjrYnAgHnQGwYG50DsWFQuoYcAg4Bh4BDwCGwdRBwDsTW4bUbqUPAIeAQcAg4BDYMAedAbBiUriGHgEPAIeAQcAhsHQScA7F1eO1G6hBwCDgEHAIOgQ1DwDkQGwala8gh4BBwCDgEHAJbB4FQB+Lm6TO4+LOfu38OAycDTgacDDgZcDKwxWVA+ARhf6EORNiL7jeHgEPAIeAQcAg4BBwChIBzIAgJ9+kQcAg4BBwCDgGHQMkIOAeiZKjciw4Bh4BDwCHgEHAIEALOgSAk3KdDwCHgEHAIOAQcAiUj4ByIkqFyLzoEHAIOAYeAQ8AhQAg4B4KQcJ8OAYeAQ8Ah4BBwCJSMwP8AntGSzrHfEF0AAAAASUVORK5CYII='>\n",
        "</p>"
      ]
    },
    {
      "cell_type": "markdown",
      "metadata": {
        "id": "eaJs_wqaacvs"
      },
      "source": [
        "# 7.2 Data Transformation"
      ]
    },
    {
      "cell_type": "markdown",
      "metadata": {
        "id": "Uq3_7cHsafR0"
      },
      "source": [
        "## Removing Duplicates"
      ]
    },
    {
      "cell_type": "markdown",
      "metadata": {
        "id": "TkFWW2L-agYk"
      },
      "source": [
        "Duplicate rows may be found in a DataFrame for any number of reasons. Here is an example:"
      ]
    },
    {
      "cell_type": "code",
      "metadata": {
        "id": "7H6RqmRHaOkD"
      },
      "source": [
        "data = pd.DataFrame({'k1': ['one', 'two'] * 3 + ['two'],\n",
        "                     'k2': [1, 1, 2, 3, 3, 4, 4]})"
      ],
      "execution_count": 281,
      "outputs": []
    },
    {
      "cell_type": "code",
      "metadata": {
        "colab": {
          "base_uri": "https://localhost:8080/",
          "height": 266
        },
        "id": "oQ0_iqaUau6A",
        "outputId": "d34723f3-21b6-4bef-970f-1f1a16ea3ef5"
      },
      "source": [
        "data"
      ],
      "execution_count": 282,
      "outputs": [
        {
          "output_type": "execute_result",
          "data": {
            "text/html": [
              "<div>\n",
              "<style scoped>\n",
              "    .dataframe tbody tr th:only-of-type {\n",
              "        vertical-align: middle;\n",
              "    }\n",
              "\n",
              "    .dataframe tbody tr th {\n",
              "        vertical-align: top;\n",
              "    }\n",
              "\n",
              "    .dataframe thead th {\n",
              "        text-align: right;\n",
              "    }\n",
              "</style>\n",
              "<table border=\"1\" class=\"dataframe\">\n",
              "  <thead>\n",
              "    <tr style=\"text-align: right;\">\n",
              "      <th></th>\n",
              "      <th>k1</th>\n",
              "      <th>k2</th>\n",
              "    </tr>\n",
              "  </thead>\n",
              "  <tbody>\n",
              "    <tr>\n",
              "      <th>0</th>\n",
              "      <td>one</td>\n",
              "      <td>1</td>\n",
              "    </tr>\n",
              "    <tr>\n",
              "      <th>1</th>\n",
              "      <td>two</td>\n",
              "      <td>1</td>\n",
              "    </tr>\n",
              "    <tr>\n",
              "      <th>2</th>\n",
              "      <td>one</td>\n",
              "      <td>2</td>\n",
              "    </tr>\n",
              "    <tr>\n",
              "      <th>3</th>\n",
              "      <td>two</td>\n",
              "      <td>3</td>\n",
              "    </tr>\n",
              "    <tr>\n",
              "      <th>4</th>\n",
              "      <td>one</td>\n",
              "      <td>3</td>\n",
              "    </tr>\n",
              "    <tr>\n",
              "      <th>5</th>\n",
              "      <td>two</td>\n",
              "      <td>4</td>\n",
              "    </tr>\n",
              "    <tr>\n",
              "      <th>6</th>\n",
              "      <td>two</td>\n",
              "      <td>4</td>\n",
              "    </tr>\n",
              "  </tbody>\n",
              "</table>\n",
              "</div>"
            ],
            "text/plain": [
              "    k1  k2\n",
              "0  one   1\n",
              "1  two   1\n",
              "2  one   2\n",
              "3  two   3\n",
              "4  one   3\n",
              "5  two   4\n",
              "6  two   4"
            ]
          },
          "metadata": {},
          "execution_count": 282
        }
      ]
    },
    {
      "cell_type": "markdown",
      "metadata": {
        "id": "qM1kV0z-awZ8"
      },
      "source": [
        "The DataFrame method duplicated returns a boolean Series indicating **whether each row is a duplicate (has been observed in a previous row) or not:**"
      ]
    },
    {
      "cell_type": "code",
      "metadata": {
        "colab": {
          "base_uri": "https://localhost:8080/"
        },
        "id": "SFY312jdawFu",
        "outputId": "920acb99-5106-482c-92b2-1f618ed7ef3c"
      },
      "source": [
        "data.duplicated()"
      ],
      "execution_count": 283,
      "outputs": [
        {
          "output_type": "execute_result",
          "data": {
            "text/plain": [
              "0    False\n",
              "1    False\n",
              "2    False\n",
              "3    False\n",
              "4    False\n",
              "5    False\n",
              "6     True\n",
              "dtype: bool"
            ]
          },
          "metadata": {},
          "execution_count": 283
        }
      ]
    },
    {
      "cell_type": "markdown",
      "metadata": {
        "id": "f1iiutRBa8g5"
      },
      "source": [
        "Relatedly, drop_duplicates returns a DataFrame where the duplicated array is False:"
      ]
    },
    {
      "cell_type": "code",
      "metadata": {
        "colab": {
          "base_uri": "https://localhost:8080/",
          "height": 235
        },
        "id": "VCDZzm8gbsV-",
        "outputId": "88d0947d-8990-439b-9ac9-8cf6c3ceab70"
      },
      "source": [
        "data.drop_duplicates()"
      ],
      "execution_count": 284,
      "outputs": [
        {
          "output_type": "execute_result",
          "data": {
            "text/html": [
              "<div>\n",
              "<style scoped>\n",
              "    .dataframe tbody tr th:only-of-type {\n",
              "        vertical-align: middle;\n",
              "    }\n",
              "\n",
              "    .dataframe tbody tr th {\n",
              "        vertical-align: top;\n",
              "    }\n",
              "\n",
              "    .dataframe thead th {\n",
              "        text-align: right;\n",
              "    }\n",
              "</style>\n",
              "<table border=\"1\" class=\"dataframe\">\n",
              "  <thead>\n",
              "    <tr style=\"text-align: right;\">\n",
              "      <th></th>\n",
              "      <th>k1</th>\n",
              "      <th>k2</th>\n",
              "    </tr>\n",
              "  </thead>\n",
              "  <tbody>\n",
              "    <tr>\n",
              "      <th>0</th>\n",
              "      <td>one</td>\n",
              "      <td>1</td>\n",
              "    </tr>\n",
              "    <tr>\n",
              "      <th>1</th>\n",
              "      <td>two</td>\n",
              "      <td>1</td>\n",
              "    </tr>\n",
              "    <tr>\n",
              "      <th>2</th>\n",
              "      <td>one</td>\n",
              "      <td>2</td>\n",
              "    </tr>\n",
              "    <tr>\n",
              "      <th>3</th>\n",
              "      <td>two</td>\n",
              "      <td>3</td>\n",
              "    </tr>\n",
              "    <tr>\n",
              "      <th>4</th>\n",
              "      <td>one</td>\n",
              "      <td>3</td>\n",
              "    </tr>\n",
              "    <tr>\n",
              "      <th>5</th>\n",
              "      <td>two</td>\n",
              "      <td>4</td>\n",
              "    </tr>\n",
              "  </tbody>\n",
              "</table>\n",
              "</div>"
            ],
            "text/plain": [
              "    k1  k2\n",
              "0  one   1\n",
              "1  two   1\n",
              "2  one   2\n",
              "3  two   3\n",
              "4  one   3\n",
              "5  two   4"
            ]
          },
          "metadata": {},
          "execution_count": 284
        }
      ]
    },
    {
      "cell_type": "markdown",
      "metadata": {
        "id": "tVidzacebyMD"
      },
      "source": [
        "Both of these methods by default consider all of the columns; alternatively, **you can specify any subset of them to detect duplicates**\n",
        "\n",
        "Suppose we had an additional column of values and wanted to filter duplicates only based on the 'k1' column:"
      ]
    },
    {
      "cell_type": "code",
      "metadata": {
        "id": "7rUUl3I8H88J"
      },
      "source": [
        "data['v1'] = range(7)"
      ],
      "execution_count": 285,
      "outputs": []
    },
    {
      "cell_type": "code",
      "metadata": {
        "colab": {
          "base_uri": "https://localhost:8080/",
          "height": 266
        },
        "id": "5DZIDwxxIby-",
        "outputId": "3f4c2514-5fb8-4efc-e808-7ed5480c1319"
      },
      "source": [
        "data"
      ],
      "execution_count": 286,
      "outputs": [
        {
          "output_type": "execute_result",
          "data": {
            "text/html": [
              "<div>\n",
              "<style scoped>\n",
              "    .dataframe tbody tr th:only-of-type {\n",
              "        vertical-align: middle;\n",
              "    }\n",
              "\n",
              "    .dataframe tbody tr th {\n",
              "        vertical-align: top;\n",
              "    }\n",
              "\n",
              "    .dataframe thead th {\n",
              "        text-align: right;\n",
              "    }\n",
              "</style>\n",
              "<table border=\"1\" class=\"dataframe\">\n",
              "  <thead>\n",
              "    <tr style=\"text-align: right;\">\n",
              "      <th></th>\n",
              "      <th>k1</th>\n",
              "      <th>k2</th>\n",
              "      <th>v1</th>\n",
              "    </tr>\n",
              "  </thead>\n",
              "  <tbody>\n",
              "    <tr>\n",
              "      <th>0</th>\n",
              "      <td>one</td>\n",
              "      <td>1</td>\n",
              "      <td>0</td>\n",
              "    </tr>\n",
              "    <tr>\n",
              "      <th>1</th>\n",
              "      <td>two</td>\n",
              "      <td>1</td>\n",
              "      <td>1</td>\n",
              "    </tr>\n",
              "    <tr>\n",
              "      <th>2</th>\n",
              "      <td>one</td>\n",
              "      <td>2</td>\n",
              "      <td>2</td>\n",
              "    </tr>\n",
              "    <tr>\n",
              "      <th>3</th>\n",
              "      <td>two</td>\n",
              "      <td>3</td>\n",
              "      <td>3</td>\n",
              "    </tr>\n",
              "    <tr>\n",
              "      <th>4</th>\n",
              "      <td>one</td>\n",
              "      <td>3</td>\n",
              "      <td>4</td>\n",
              "    </tr>\n",
              "    <tr>\n",
              "      <th>5</th>\n",
              "      <td>two</td>\n",
              "      <td>4</td>\n",
              "      <td>5</td>\n",
              "    </tr>\n",
              "    <tr>\n",
              "      <th>6</th>\n",
              "      <td>two</td>\n",
              "      <td>4</td>\n",
              "      <td>6</td>\n",
              "    </tr>\n",
              "  </tbody>\n",
              "</table>\n",
              "</div>"
            ],
            "text/plain": [
              "    k1  k2  v1\n",
              "0  one   1   0\n",
              "1  two   1   1\n",
              "2  one   2   2\n",
              "3  two   3   3\n",
              "4  one   3   4\n",
              "5  two   4   5\n",
              "6  two   4   6"
            ]
          },
          "metadata": {},
          "execution_count": 286
        }
      ]
    },
    {
      "cell_type": "code",
      "metadata": {
        "colab": {
          "base_uri": "https://localhost:8080/",
          "height": 111
        },
        "id": "qAVc9hw0H_pu",
        "outputId": "2ccd387d-0ed0-4b67-9480-3bc88525bcc3"
      },
      "source": [
        "data.drop_duplicates(['k1'])"
      ],
      "execution_count": 287,
      "outputs": [
        {
          "output_type": "execute_result",
          "data": {
            "text/html": [
              "<div>\n",
              "<style scoped>\n",
              "    .dataframe tbody tr th:only-of-type {\n",
              "        vertical-align: middle;\n",
              "    }\n",
              "\n",
              "    .dataframe tbody tr th {\n",
              "        vertical-align: top;\n",
              "    }\n",
              "\n",
              "    .dataframe thead th {\n",
              "        text-align: right;\n",
              "    }\n",
              "</style>\n",
              "<table border=\"1\" class=\"dataframe\">\n",
              "  <thead>\n",
              "    <tr style=\"text-align: right;\">\n",
              "      <th></th>\n",
              "      <th>k1</th>\n",
              "      <th>k2</th>\n",
              "      <th>v1</th>\n",
              "    </tr>\n",
              "  </thead>\n",
              "  <tbody>\n",
              "    <tr>\n",
              "      <th>0</th>\n",
              "      <td>one</td>\n",
              "      <td>1</td>\n",
              "      <td>0</td>\n",
              "    </tr>\n",
              "    <tr>\n",
              "      <th>1</th>\n",
              "      <td>two</td>\n",
              "      <td>1</td>\n",
              "      <td>1</td>\n",
              "    </tr>\n",
              "  </tbody>\n",
              "</table>\n",
              "</div>"
            ],
            "text/plain": [
              "    k1  k2  v1\n",
              "0  one   1   0\n",
              "1  two   1   1"
            ]
          },
          "metadata": {},
          "execution_count": 287
        }
      ]
    },
    {
      "cell_type": "markdown",
      "metadata": {
        "id": "dU3_VstIIUZr"
      },
      "source": [
        "duplicated and drop_duplicates by default keep the first observed value combination\n",
        "\n",
        "Passing keep='last' will return the last one:"
      ]
    },
    {
      "cell_type": "code",
      "metadata": {
        "colab": {
          "base_uri": "https://localhost:8080/",
          "height": 235
        },
        "id": "g58aNXuoIK0r",
        "outputId": "d716546a-f9d7-4468-8b7b-a361fb157278"
      },
      "source": [
        "data.drop_duplicates(['k1', 'k2'], keep='last')"
      ],
      "execution_count": 288,
      "outputs": [
        {
          "output_type": "execute_result",
          "data": {
            "text/html": [
              "<div>\n",
              "<style scoped>\n",
              "    .dataframe tbody tr th:only-of-type {\n",
              "        vertical-align: middle;\n",
              "    }\n",
              "\n",
              "    .dataframe tbody tr th {\n",
              "        vertical-align: top;\n",
              "    }\n",
              "\n",
              "    .dataframe thead th {\n",
              "        text-align: right;\n",
              "    }\n",
              "</style>\n",
              "<table border=\"1\" class=\"dataframe\">\n",
              "  <thead>\n",
              "    <tr style=\"text-align: right;\">\n",
              "      <th></th>\n",
              "      <th>k1</th>\n",
              "      <th>k2</th>\n",
              "      <th>v1</th>\n",
              "    </tr>\n",
              "  </thead>\n",
              "  <tbody>\n",
              "    <tr>\n",
              "      <th>0</th>\n",
              "      <td>one</td>\n",
              "      <td>1</td>\n",
              "      <td>0</td>\n",
              "    </tr>\n",
              "    <tr>\n",
              "      <th>1</th>\n",
              "      <td>two</td>\n",
              "      <td>1</td>\n",
              "      <td>1</td>\n",
              "    </tr>\n",
              "    <tr>\n",
              "      <th>2</th>\n",
              "      <td>one</td>\n",
              "      <td>2</td>\n",
              "      <td>2</td>\n",
              "    </tr>\n",
              "    <tr>\n",
              "      <th>3</th>\n",
              "      <td>two</td>\n",
              "      <td>3</td>\n",
              "      <td>3</td>\n",
              "    </tr>\n",
              "    <tr>\n",
              "      <th>4</th>\n",
              "      <td>one</td>\n",
              "      <td>3</td>\n",
              "      <td>4</td>\n",
              "    </tr>\n",
              "    <tr>\n",
              "      <th>6</th>\n",
              "      <td>two</td>\n",
              "      <td>4</td>\n",
              "      <td>6</td>\n",
              "    </tr>\n",
              "  </tbody>\n",
              "</table>\n",
              "</div>"
            ],
            "text/plain": [
              "    k1  k2  v1\n",
              "0  one   1   0\n",
              "1  two   1   1\n",
              "2  one   2   2\n",
              "3  two   3   3\n",
              "4  one   3   4\n",
              "6  two   4   6"
            ]
          },
          "metadata": {},
          "execution_count": 288
        }
      ]
    },
    {
      "cell_type": "markdown",
      "metadata": {
        "id": "Qv1VwFlNJFZp"
      },
      "source": [
        "## Transforming Data Using a Function or Mapping"
      ]
    },
    {
      "cell_type": "markdown",
      "metadata": {
        "id": "0o_eQbfqJHyB"
      },
      "source": [
        "For many datasets, you may wish to perform some transformation based on the values in an array, Series, or column in a DataFrame\n",
        "\n",
        "Consider the following hypothetical data collected about various kinds of meat:"
      ]
    },
    {
      "cell_type": "code",
      "metadata": {
        "id": "K6NeboScJgMB"
      },
      "source": [
        "data = pd.DataFrame({'food': ['bacon', 'pulled pork', 'bacon',\n",
        "                              'Pastrami', 'corned beef', 'Bacon',\n",
        "                              'pastrami', 'honey ham', 'nova lox'],\n",
        "                              'ounces': [4, 3, 12, 6, 7.5, 8, 3, 5, 6]})"
      ],
      "execution_count": 289,
      "outputs": []
    },
    {
      "cell_type": "code",
      "metadata": {
        "colab": {
          "base_uri": "https://localhost:8080/",
          "height": 328
        },
        "id": "2-TcXPfgJqW4",
        "outputId": "1713e3f5-f3ac-4353-88d3-64fd842b8f16"
      },
      "source": [
        "data"
      ],
      "execution_count": 290,
      "outputs": [
        {
          "output_type": "execute_result",
          "data": {
            "text/html": [
              "<div>\n",
              "<style scoped>\n",
              "    .dataframe tbody tr th:only-of-type {\n",
              "        vertical-align: middle;\n",
              "    }\n",
              "\n",
              "    .dataframe tbody tr th {\n",
              "        vertical-align: top;\n",
              "    }\n",
              "\n",
              "    .dataframe thead th {\n",
              "        text-align: right;\n",
              "    }\n",
              "</style>\n",
              "<table border=\"1\" class=\"dataframe\">\n",
              "  <thead>\n",
              "    <tr style=\"text-align: right;\">\n",
              "      <th></th>\n",
              "      <th>food</th>\n",
              "      <th>ounces</th>\n",
              "    </tr>\n",
              "  </thead>\n",
              "  <tbody>\n",
              "    <tr>\n",
              "      <th>0</th>\n",
              "      <td>bacon</td>\n",
              "      <td>4.0</td>\n",
              "    </tr>\n",
              "    <tr>\n",
              "      <th>1</th>\n",
              "      <td>pulled pork</td>\n",
              "      <td>3.0</td>\n",
              "    </tr>\n",
              "    <tr>\n",
              "      <th>2</th>\n",
              "      <td>bacon</td>\n",
              "      <td>12.0</td>\n",
              "    </tr>\n",
              "    <tr>\n",
              "      <th>3</th>\n",
              "      <td>Pastrami</td>\n",
              "      <td>6.0</td>\n",
              "    </tr>\n",
              "    <tr>\n",
              "      <th>4</th>\n",
              "      <td>corned beef</td>\n",
              "      <td>7.5</td>\n",
              "    </tr>\n",
              "    <tr>\n",
              "      <th>5</th>\n",
              "      <td>Bacon</td>\n",
              "      <td>8.0</td>\n",
              "    </tr>\n",
              "    <tr>\n",
              "      <th>6</th>\n",
              "      <td>pastrami</td>\n",
              "      <td>3.0</td>\n",
              "    </tr>\n",
              "    <tr>\n",
              "      <th>7</th>\n",
              "      <td>honey ham</td>\n",
              "      <td>5.0</td>\n",
              "    </tr>\n",
              "    <tr>\n",
              "      <th>8</th>\n",
              "      <td>nova lox</td>\n",
              "      <td>6.0</td>\n",
              "    </tr>\n",
              "  </tbody>\n",
              "</table>\n",
              "</div>"
            ],
            "text/plain": [
              "          food  ounces\n",
              "0        bacon     4.0\n",
              "1  pulled pork     3.0\n",
              "2        bacon    12.0\n",
              "3     Pastrami     6.0\n",
              "4  corned beef     7.5\n",
              "5        Bacon     8.0\n",
              "6     pastrami     3.0\n",
              "7    honey ham     5.0\n",
              "8     nova lox     6.0"
            ]
          },
          "metadata": {},
          "execution_count": 290
        }
      ]
    },
    {
      "cell_type": "markdown",
      "metadata": {
        "id": "Eo0wdTYBJxKY"
      },
      "source": [
        "Suppose you wanted to add a column indicating the type of animal that each food came from\n",
        "\n",
        "Let’s write down a mapping of each distinct meat type to the kind of animal:"
      ]
    },
    {
      "cell_type": "code",
      "metadata": {
        "id": "yUb5BsFkJ_mo"
      },
      "source": [
        "meat_to_animal = {\n",
        "  'bacon': 'pig',\n",
        "  'pulled pork': 'pig',\n",
        "  'pastrami': 'cow',\n",
        "  'corned beef': 'cow',\n",
        "  'honey ham': 'pig',\n",
        "  'nova lox': 'salmon'\n",
        "}"
      ],
      "execution_count": 291,
      "outputs": []
    },
    {
      "cell_type": "markdown",
      "metadata": {
        "id": "ZJ42yK61KTFa"
      },
      "source": [
        "**The map method on a Series accepts a function or dict-like object containing a mapping**, but here we have a small problem in that some of the meats are capitalized and others are not\n",
        "\n",
        "Thus, we need to **convert each value to lowercase using the str.lower Series method:**"
      ]
    },
    {
      "cell_type": "code",
      "metadata": {
        "id": "A6W1Zd8_KeBZ"
      },
      "source": [
        "lowercased = data['food'].str.lower()"
      ],
      "execution_count": 292,
      "outputs": []
    },
    {
      "cell_type": "code",
      "metadata": {
        "colab": {
          "base_uri": "https://localhost:8080/"
        },
        "id": "_2igZQ1yKwjR",
        "outputId": "9f531682-1a70-4501-f272-6480ad89ca61"
      },
      "source": [
        "lowercased"
      ],
      "execution_count": 293,
      "outputs": [
        {
          "output_type": "execute_result",
          "data": {
            "text/plain": [
              "0          bacon\n",
              "1    pulled pork\n",
              "2          bacon\n",
              "3       pastrami\n",
              "4    corned beef\n",
              "5          bacon\n",
              "6       pastrami\n",
              "7      honey ham\n",
              "8       nova lox\n",
              "Name: food, dtype: object"
            ]
          },
          "metadata": {},
          "execution_count": 293
        }
      ]
    },
    {
      "cell_type": "code",
      "metadata": {
        "id": "feDHq-zkKxRL"
      },
      "source": [
        "data['animal'] = lowercased.map(meat_to_animal)"
      ],
      "execution_count": 294,
      "outputs": []
    },
    {
      "cell_type": "code",
      "metadata": {
        "colab": {
          "base_uri": "https://localhost:8080/",
          "height": 328
        },
        "id": "eV5nr-QfK2vJ",
        "outputId": "f54ddee4-5696-4551-e188-c491442881bf"
      },
      "source": [
        "data"
      ],
      "execution_count": 295,
      "outputs": [
        {
          "output_type": "execute_result",
          "data": {
            "text/html": [
              "<div>\n",
              "<style scoped>\n",
              "    .dataframe tbody tr th:only-of-type {\n",
              "        vertical-align: middle;\n",
              "    }\n",
              "\n",
              "    .dataframe tbody tr th {\n",
              "        vertical-align: top;\n",
              "    }\n",
              "\n",
              "    .dataframe thead th {\n",
              "        text-align: right;\n",
              "    }\n",
              "</style>\n",
              "<table border=\"1\" class=\"dataframe\">\n",
              "  <thead>\n",
              "    <tr style=\"text-align: right;\">\n",
              "      <th></th>\n",
              "      <th>food</th>\n",
              "      <th>ounces</th>\n",
              "      <th>animal</th>\n",
              "    </tr>\n",
              "  </thead>\n",
              "  <tbody>\n",
              "    <tr>\n",
              "      <th>0</th>\n",
              "      <td>bacon</td>\n",
              "      <td>4.0</td>\n",
              "      <td>pig</td>\n",
              "    </tr>\n",
              "    <tr>\n",
              "      <th>1</th>\n",
              "      <td>pulled pork</td>\n",
              "      <td>3.0</td>\n",
              "      <td>pig</td>\n",
              "    </tr>\n",
              "    <tr>\n",
              "      <th>2</th>\n",
              "      <td>bacon</td>\n",
              "      <td>12.0</td>\n",
              "      <td>pig</td>\n",
              "    </tr>\n",
              "    <tr>\n",
              "      <th>3</th>\n",
              "      <td>Pastrami</td>\n",
              "      <td>6.0</td>\n",
              "      <td>cow</td>\n",
              "    </tr>\n",
              "    <tr>\n",
              "      <th>4</th>\n",
              "      <td>corned beef</td>\n",
              "      <td>7.5</td>\n",
              "      <td>cow</td>\n",
              "    </tr>\n",
              "    <tr>\n",
              "      <th>5</th>\n",
              "      <td>Bacon</td>\n",
              "      <td>8.0</td>\n",
              "      <td>pig</td>\n",
              "    </tr>\n",
              "    <tr>\n",
              "      <th>6</th>\n",
              "      <td>pastrami</td>\n",
              "      <td>3.0</td>\n",
              "      <td>cow</td>\n",
              "    </tr>\n",
              "    <tr>\n",
              "      <th>7</th>\n",
              "      <td>honey ham</td>\n",
              "      <td>5.0</td>\n",
              "      <td>pig</td>\n",
              "    </tr>\n",
              "    <tr>\n",
              "      <th>8</th>\n",
              "      <td>nova lox</td>\n",
              "      <td>6.0</td>\n",
              "      <td>salmon</td>\n",
              "    </tr>\n",
              "  </tbody>\n",
              "</table>\n",
              "</div>"
            ],
            "text/plain": [
              "          food  ounces  animal\n",
              "0        bacon     4.0     pig\n",
              "1  pulled pork     3.0     pig\n",
              "2        bacon    12.0     pig\n",
              "3     Pastrami     6.0     cow\n",
              "4  corned beef     7.5     cow\n",
              "5        Bacon     8.0     pig\n",
              "6     pastrami     3.0     cow\n",
              "7    honey ham     5.0     pig\n",
              "8     nova lox     6.0  salmon"
            ]
          },
          "metadata": {},
          "execution_count": 295
        }
      ]
    },
    {
      "cell_type": "markdown",
      "metadata": {
        "id": "7V9nXdhlLDDB"
      },
      "source": [
        "We could also have passed a function that does all the work:"
      ]
    },
    {
      "cell_type": "code",
      "metadata": {
        "colab": {
          "base_uri": "https://localhost:8080/"
        },
        "id": "8JAvBIK5LCoc",
        "outputId": "54c29b21-7174-4d69-e5fe-6f81fbe1623a"
      },
      "source": [
        "data['food'].map(lambda x: meat_to_animal[x.lower()])"
      ],
      "execution_count": 296,
      "outputs": [
        {
          "output_type": "execute_result",
          "data": {
            "text/plain": [
              "0       pig\n",
              "1       pig\n",
              "2       pig\n",
              "3       cow\n",
              "4       cow\n",
              "5       pig\n",
              "6       cow\n",
              "7       pig\n",
              "8    salmon\n",
              "Name: food, dtype: object"
            ]
          },
          "metadata": {},
          "execution_count": 296
        }
      ]
    },
    {
      "cell_type": "markdown",
      "metadata": {
        "id": "gtbifwVELOwi"
      },
      "source": [
        "**Using map is a convenient way to perform element-wise transformations and other data cleaning–related operations**"
      ]
    },
    {
      "cell_type": "markdown",
      "metadata": {
        "id": "bIsmHjejLRR9"
      },
      "source": [
        "## Replacing Values"
      ]
    },
    {
      "cell_type": "markdown",
      "metadata": {
        "id": "TgWUELB_LUoh"
      },
      "source": [
        "Filling in missing data with the fillna method is a special case of more general value replacement\n",
        "\n",
        "As you’ve already seen, **map can be used to modify a subset of values in an object but replace provides a simpler and more flexible way to do so**\n",
        "\n",
        "Let’s consider this Series:\n"
      ]
    },
    {
      "cell_type": "code",
      "metadata": {
        "id": "Sm8C6uKXLTrM"
      },
      "source": [
        "data = pd.Series([1., -999., 2., -999., -1000., 3.])"
      ],
      "execution_count": 297,
      "outputs": []
    },
    {
      "cell_type": "code",
      "metadata": {
        "colab": {
          "base_uri": "https://localhost:8080/"
        },
        "id": "HC5db9QTMO6M",
        "outputId": "55893f41-b41b-49a9-cb82-de4179776c59"
      },
      "source": [
        "data"
      ],
      "execution_count": 298,
      "outputs": [
        {
          "output_type": "execute_result",
          "data": {
            "text/plain": [
              "0       1.0\n",
              "1    -999.0\n",
              "2       2.0\n",
              "3    -999.0\n",
              "4   -1000.0\n",
              "5       3.0\n",
              "dtype: float64"
            ]
          },
          "metadata": {},
          "execution_count": 298
        }
      ]
    },
    {
      "cell_type": "markdown",
      "metadata": {
        "id": "PPI1k3zDMQtK"
      },
      "source": [
        "The -999 values might be sentinel values for missing data\n",
        "\n",
        "To replace these with NA values that pandas understands, we can use replace, producing a new Series (unless you pass inplace=True):"
      ]
    },
    {
      "cell_type": "code",
      "metadata": {
        "colab": {
          "base_uri": "https://localhost:8080/"
        },
        "id": "h08_ZSuOMdyw",
        "outputId": "e08bda39-ebc8-4926-d3dd-67dc2f20d564"
      },
      "source": [
        "data.replace(-999, np.nan)"
      ],
      "execution_count": 299,
      "outputs": [
        {
          "output_type": "execute_result",
          "data": {
            "text/plain": [
              "0       1.0\n",
              "1       NaN\n",
              "2       2.0\n",
              "3       NaN\n",
              "4   -1000.0\n",
              "5       3.0\n",
              "dtype: float64"
            ]
          },
          "metadata": {},
          "execution_count": 299
        }
      ]
    },
    {
      "cell_type": "markdown",
      "metadata": {
        "id": "ggCTSaAoMh_I"
      },
      "source": [
        "If you want to replace **multiple values at once, you instead pass a list** and then the substitute value:"
      ]
    },
    {
      "cell_type": "code",
      "metadata": {
        "colab": {
          "base_uri": "https://localhost:8080/"
        },
        "id": "5UU7v3VzMlKG",
        "outputId": "2dc0b871-d957-4219-dd06-c7099c543a36"
      },
      "source": [
        "data.replace([-999, -1000], np.nan)"
      ],
      "execution_count": 300,
      "outputs": [
        {
          "output_type": "execute_result",
          "data": {
            "text/plain": [
              "0    1.0\n",
              "1    NaN\n",
              "2    2.0\n",
              "3    NaN\n",
              "4    NaN\n",
              "5    3.0\n",
              "dtype: float64"
            ]
          },
          "metadata": {},
          "execution_count": 300
        }
      ]
    },
    {
      "cell_type": "markdown",
      "metadata": {
        "id": "4F5Hv69yMp-5"
      },
      "source": [
        "To use a **different replacement for each value, pass a list of substitutes:**"
      ]
    },
    {
      "cell_type": "code",
      "metadata": {
        "colab": {
          "base_uri": "https://localhost:8080/"
        },
        "id": "2VjkIguvMsuu",
        "outputId": "7850de17-eda9-4747-fc99-38a7c45a7014"
      },
      "source": [
        "data.replace([-999, -1000], [np.nan, 0])"
      ],
      "execution_count": 301,
      "outputs": [
        {
          "output_type": "execute_result",
          "data": {
            "text/plain": [
              "0    1.0\n",
              "1    NaN\n",
              "2    2.0\n",
              "3    NaN\n",
              "4    0.0\n",
              "5    3.0\n",
              "dtype: float64"
            ]
          },
          "metadata": {},
          "execution_count": 301
        }
      ]
    },
    {
      "cell_type": "markdown",
      "metadata": {
        "id": "yPRUREWNMyT5"
      },
      "source": [
        "The argument passed can also be a dict:"
      ]
    },
    {
      "cell_type": "code",
      "metadata": {
        "colab": {
          "base_uri": "https://localhost:8080/"
        },
        "id": "JfGqvkyqMztp",
        "outputId": "957ffc5f-d833-4379-fc4e-7de024753a4f"
      },
      "source": [
        "data.replace({-999: np.nan, -1000: 0})"
      ],
      "execution_count": 302,
      "outputs": [
        {
          "output_type": "execute_result",
          "data": {
            "text/plain": [
              "0    1.0\n",
              "1    NaN\n",
              "2    2.0\n",
              "3    NaN\n",
              "4    0.0\n",
              "5    3.0\n",
              "dtype: float64"
            ]
          },
          "metadata": {},
          "execution_count": 302
        }
      ]
    },
    {
      "cell_type": "markdown",
      "metadata": {
        "id": "7eVOmjcPN7dx"
      },
      "source": [
        "The data.replace method is distinct from data.str.replace, which performs string substitution element-wise"
      ]
    },
    {
      "cell_type": "markdown",
      "metadata": {
        "id": "TRY8lTiQM7Sh"
      },
      "source": [
        "## Renaming Axis Indexes"
      ]
    },
    {
      "cell_type": "markdown",
      "metadata": {
        "id": "ST5r09SMM_Bp"
      },
      "source": [
        "Like values in a Series, axis labels can be similarly transformed by a function or mapping of some form to produce new, differently labeled objects\n",
        "\n",
        "You can also modify the axes in-place without creating a new data structure\n",
        "\n",
        "Here's a simple example:"
      ]
    },
    {
      "cell_type": "code",
      "metadata": {
        "id": "ntCI7Q9AN-_V"
      },
      "source": [
        "data = pd.DataFrame(np.arange(12).reshape((3, 4)),\n",
        "                    index=['Ohio', 'Colorado', 'New York'],\n",
        "                    columns=['one', 'two', 'three', 'four'])"
      ],
      "execution_count": 303,
      "outputs": []
    },
    {
      "cell_type": "code",
      "metadata": {
        "colab": {
          "base_uri": "https://localhost:8080/",
          "height": 142
        },
        "id": "1jW4j-mRPro5",
        "outputId": "d8bd1f36-6693-48a1-c80f-20af47ab92e1"
      },
      "source": [
        "data"
      ],
      "execution_count": 304,
      "outputs": [
        {
          "output_type": "execute_result",
          "data": {
            "text/html": [
              "<div>\n",
              "<style scoped>\n",
              "    .dataframe tbody tr th:only-of-type {\n",
              "        vertical-align: middle;\n",
              "    }\n",
              "\n",
              "    .dataframe tbody tr th {\n",
              "        vertical-align: top;\n",
              "    }\n",
              "\n",
              "    .dataframe thead th {\n",
              "        text-align: right;\n",
              "    }\n",
              "</style>\n",
              "<table border=\"1\" class=\"dataframe\">\n",
              "  <thead>\n",
              "    <tr style=\"text-align: right;\">\n",
              "      <th></th>\n",
              "      <th>one</th>\n",
              "      <th>two</th>\n",
              "      <th>three</th>\n",
              "      <th>four</th>\n",
              "    </tr>\n",
              "  </thead>\n",
              "  <tbody>\n",
              "    <tr>\n",
              "      <th>Ohio</th>\n",
              "      <td>0</td>\n",
              "      <td>1</td>\n",
              "      <td>2</td>\n",
              "      <td>3</td>\n",
              "    </tr>\n",
              "    <tr>\n",
              "      <th>Colorado</th>\n",
              "      <td>4</td>\n",
              "      <td>5</td>\n",
              "      <td>6</td>\n",
              "      <td>7</td>\n",
              "    </tr>\n",
              "    <tr>\n",
              "      <th>New York</th>\n",
              "      <td>8</td>\n",
              "      <td>9</td>\n",
              "      <td>10</td>\n",
              "      <td>11</td>\n",
              "    </tr>\n",
              "  </tbody>\n",
              "</table>\n",
              "</div>"
            ],
            "text/plain": [
              "          one  two  three  four\n",
              "Ohio        0    1      2     3\n",
              "Colorado    4    5      6     7\n",
              "New York    8    9     10    11"
            ]
          },
          "metadata": {},
          "execution_count": 304
        }
      ]
    },
    {
      "cell_type": "markdown",
      "metadata": {
        "id": "W2LTTRdLPiSq"
      },
      "source": [
        "Like a Series, the axis indexes have a map method:"
      ]
    },
    {
      "cell_type": "code",
      "metadata": {
        "id": "Koft_CscPhqO"
      },
      "source": [
        "transform = lambda x: x[:4].upper()"
      ],
      "execution_count": 305,
      "outputs": []
    },
    {
      "cell_type": "code",
      "metadata": {
        "colab": {
          "base_uri": "https://localhost:8080/"
        },
        "id": "HP5rZhQbX95r",
        "outputId": "380e66c3-a0d3-405c-f8a8-9feb09ca3a61"
      },
      "source": [
        "data.index.map(transform)"
      ],
      "execution_count": 306,
      "outputs": [
        {
          "output_type": "execute_result",
          "data": {
            "text/plain": [
              "Index(['OHIO', 'COLO', 'NEW '], dtype='object')"
            ]
          },
          "metadata": {},
          "execution_count": 306
        }
      ]
    },
    {
      "cell_type": "markdown",
      "metadata": {
        "id": "IXnKxOTVX7yH"
      },
      "source": [
        "You can assign to index, modifying the DataFrame in-place:"
      ]
    },
    {
      "cell_type": "code",
      "metadata": {
        "id": "UiZMTOfFYO_l"
      },
      "source": [
        "data.index = data.index.map(transform)"
      ],
      "execution_count": 307,
      "outputs": []
    },
    {
      "cell_type": "code",
      "metadata": {
        "colab": {
          "base_uri": "https://localhost:8080/",
          "height": 142
        },
        "id": "ZdygssQ1YSQ6",
        "outputId": "22171adb-e0b8-4245-8c4e-bb48f6511132"
      },
      "source": [
        "data"
      ],
      "execution_count": 308,
      "outputs": [
        {
          "output_type": "execute_result",
          "data": {
            "text/html": [
              "<div>\n",
              "<style scoped>\n",
              "    .dataframe tbody tr th:only-of-type {\n",
              "        vertical-align: middle;\n",
              "    }\n",
              "\n",
              "    .dataframe tbody tr th {\n",
              "        vertical-align: top;\n",
              "    }\n",
              "\n",
              "    .dataframe thead th {\n",
              "        text-align: right;\n",
              "    }\n",
              "</style>\n",
              "<table border=\"1\" class=\"dataframe\">\n",
              "  <thead>\n",
              "    <tr style=\"text-align: right;\">\n",
              "      <th></th>\n",
              "      <th>one</th>\n",
              "      <th>two</th>\n",
              "      <th>three</th>\n",
              "      <th>four</th>\n",
              "    </tr>\n",
              "  </thead>\n",
              "  <tbody>\n",
              "    <tr>\n",
              "      <th>OHIO</th>\n",
              "      <td>0</td>\n",
              "      <td>1</td>\n",
              "      <td>2</td>\n",
              "      <td>3</td>\n",
              "    </tr>\n",
              "    <tr>\n",
              "      <th>COLO</th>\n",
              "      <td>4</td>\n",
              "      <td>5</td>\n",
              "      <td>6</td>\n",
              "      <td>7</td>\n",
              "    </tr>\n",
              "    <tr>\n",
              "      <th>NEW</th>\n",
              "      <td>8</td>\n",
              "      <td>9</td>\n",
              "      <td>10</td>\n",
              "      <td>11</td>\n",
              "    </tr>\n",
              "  </tbody>\n",
              "</table>\n",
              "</div>"
            ],
            "text/plain": [
              "      one  two  three  four\n",
              "OHIO    0    1      2     3\n",
              "COLO    4    5      6     7\n",
              "NEW     8    9     10    11"
            ]
          },
          "metadata": {},
          "execution_count": 308
        }
      ]
    },
    {
      "cell_type": "markdown",
      "metadata": {
        "id": "RDhL4sfBYUsS"
      },
      "source": [
        "If you want to create a transformed version of a dataset **without modifying the original, a useful method is rename:**"
      ]
    },
    {
      "cell_type": "code",
      "metadata": {
        "colab": {
          "base_uri": "https://localhost:8080/",
          "height": 142
        },
        "id": "n5lmEZ21YazJ",
        "outputId": "b881aad3-c031-46a1-eead-7b0bb8c08102"
      },
      "source": [
        "data.rename(index=str.title, columns=str.upper)"
      ],
      "execution_count": 309,
      "outputs": [
        {
          "output_type": "execute_result",
          "data": {
            "text/html": [
              "<div>\n",
              "<style scoped>\n",
              "    .dataframe tbody tr th:only-of-type {\n",
              "        vertical-align: middle;\n",
              "    }\n",
              "\n",
              "    .dataframe tbody tr th {\n",
              "        vertical-align: top;\n",
              "    }\n",
              "\n",
              "    .dataframe thead th {\n",
              "        text-align: right;\n",
              "    }\n",
              "</style>\n",
              "<table border=\"1\" class=\"dataframe\">\n",
              "  <thead>\n",
              "    <tr style=\"text-align: right;\">\n",
              "      <th></th>\n",
              "      <th>ONE</th>\n",
              "      <th>TWO</th>\n",
              "      <th>THREE</th>\n",
              "      <th>FOUR</th>\n",
              "    </tr>\n",
              "  </thead>\n",
              "  <tbody>\n",
              "    <tr>\n",
              "      <th>Ohio</th>\n",
              "      <td>0</td>\n",
              "      <td>1</td>\n",
              "      <td>2</td>\n",
              "      <td>3</td>\n",
              "    </tr>\n",
              "    <tr>\n",
              "      <th>Colo</th>\n",
              "      <td>4</td>\n",
              "      <td>5</td>\n",
              "      <td>6</td>\n",
              "      <td>7</td>\n",
              "    </tr>\n",
              "    <tr>\n",
              "      <th>New</th>\n",
              "      <td>8</td>\n",
              "      <td>9</td>\n",
              "      <td>10</td>\n",
              "      <td>11</td>\n",
              "    </tr>\n",
              "  </tbody>\n",
              "</table>\n",
              "</div>"
            ],
            "text/plain": [
              "      ONE  TWO  THREE  FOUR\n",
              "Ohio    0    1      2     3\n",
              "Colo    4    5      6     7\n",
              "New     8    9     10    11"
            ]
          },
          "metadata": {},
          "execution_count": 309
        }
      ]
    },
    {
      "cell_type": "markdown",
      "metadata": {
        "id": "HcRucBowYjgF"
      },
      "source": [
        "Notably, **rename can be used in conjunction with a dict-like object** providing new values for a subset of the axis labels:"
      ]
    },
    {
      "cell_type": "code",
      "metadata": {
        "colab": {
          "base_uri": "https://localhost:8080/",
          "height": 142
        },
        "id": "O1H8jzUVYvo6",
        "outputId": "8787db44-3d72-4a49-febc-9b90e3503e07"
      },
      "source": [
        "data.rename(index={'OHIO': 'INDIANA'},\n",
        "            columns={'three': 'peekaboo'})"
      ],
      "execution_count": 310,
      "outputs": [
        {
          "output_type": "execute_result",
          "data": {
            "text/html": [
              "<div>\n",
              "<style scoped>\n",
              "    .dataframe tbody tr th:only-of-type {\n",
              "        vertical-align: middle;\n",
              "    }\n",
              "\n",
              "    .dataframe tbody tr th {\n",
              "        vertical-align: top;\n",
              "    }\n",
              "\n",
              "    .dataframe thead th {\n",
              "        text-align: right;\n",
              "    }\n",
              "</style>\n",
              "<table border=\"1\" class=\"dataframe\">\n",
              "  <thead>\n",
              "    <tr style=\"text-align: right;\">\n",
              "      <th></th>\n",
              "      <th>one</th>\n",
              "      <th>two</th>\n",
              "      <th>peekaboo</th>\n",
              "      <th>four</th>\n",
              "    </tr>\n",
              "  </thead>\n",
              "  <tbody>\n",
              "    <tr>\n",
              "      <th>INDIANA</th>\n",
              "      <td>0</td>\n",
              "      <td>1</td>\n",
              "      <td>2</td>\n",
              "      <td>3</td>\n",
              "    </tr>\n",
              "    <tr>\n",
              "      <th>COLO</th>\n",
              "      <td>4</td>\n",
              "      <td>5</td>\n",
              "      <td>6</td>\n",
              "      <td>7</td>\n",
              "    </tr>\n",
              "    <tr>\n",
              "      <th>NEW</th>\n",
              "      <td>8</td>\n",
              "      <td>9</td>\n",
              "      <td>10</td>\n",
              "      <td>11</td>\n",
              "    </tr>\n",
              "  </tbody>\n",
              "</table>\n",
              "</div>"
            ],
            "text/plain": [
              "         one  two  peekaboo  four\n",
              "INDIANA    0    1         2     3\n",
              "COLO       4    5         6     7\n",
              "NEW        8    9        10    11"
            ]
          },
          "metadata": {},
          "execution_count": 310
        }
      ]
    },
    {
      "cell_type": "markdown",
      "metadata": {
        "id": "eiXP-9QBY4hX"
      },
      "source": [
        "**rename saves you from the chore of copying the DataFrame manually and assigning to its index and columns attributes**\n",
        "\n",
        "Should you wish to modify a dataset in-place, pass inplace=True:"
      ]
    },
    {
      "cell_type": "code",
      "metadata": {
        "id": "i66C2pMnc9nD"
      },
      "source": [
        "data.rename(index={'OHIO': 'INDIANA'}, inplace=True)"
      ],
      "execution_count": 311,
      "outputs": []
    },
    {
      "cell_type": "code",
      "metadata": {
        "colab": {
          "base_uri": "https://localhost:8080/",
          "height": 142
        },
        "id": "LuwsZTledBlq",
        "outputId": "02a91918-a04b-46d1-fcf5-6c264ac93124"
      },
      "source": [
        "data"
      ],
      "execution_count": 312,
      "outputs": [
        {
          "output_type": "execute_result",
          "data": {
            "text/html": [
              "<div>\n",
              "<style scoped>\n",
              "    .dataframe tbody tr th:only-of-type {\n",
              "        vertical-align: middle;\n",
              "    }\n",
              "\n",
              "    .dataframe tbody tr th {\n",
              "        vertical-align: top;\n",
              "    }\n",
              "\n",
              "    .dataframe thead th {\n",
              "        text-align: right;\n",
              "    }\n",
              "</style>\n",
              "<table border=\"1\" class=\"dataframe\">\n",
              "  <thead>\n",
              "    <tr style=\"text-align: right;\">\n",
              "      <th></th>\n",
              "      <th>one</th>\n",
              "      <th>two</th>\n",
              "      <th>three</th>\n",
              "      <th>four</th>\n",
              "    </tr>\n",
              "  </thead>\n",
              "  <tbody>\n",
              "    <tr>\n",
              "      <th>INDIANA</th>\n",
              "      <td>0</td>\n",
              "      <td>1</td>\n",
              "      <td>2</td>\n",
              "      <td>3</td>\n",
              "    </tr>\n",
              "    <tr>\n",
              "      <th>COLO</th>\n",
              "      <td>4</td>\n",
              "      <td>5</td>\n",
              "      <td>6</td>\n",
              "      <td>7</td>\n",
              "    </tr>\n",
              "    <tr>\n",
              "      <th>NEW</th>\n",
              "      <td>8</td>\n",
              "      <td>9</td>\n",
              "      <td>10</td>\n",
              "      <td>11</td>\n",
              "    </tr>\n",
              "  </tbody>\n",
              "</table>\n",
              "</div>"
            ],
            "text/plain": [
              "         one  two  three  four\n",
              "INDIANA    0    1      2     3\n",
              "COLO       4    5      6     7\n",
              "NEW        8    9     10    11"
            ]
          },
          "metadata": {},
          "execution_count": 312
        }
      ]
    },
    {
      "cell_type": "markdown",
      "metadata": {
        "id": "VDi9r5jqdDAV"
      },
      "source": [
        "## Discretization and Binning"
      ]
    },
    {
      "cell_type": "markdown",
      "metadata": {
        "id": "xNsPB7DFdEl0"
      },
      "source": [
        "Continuous data is often discretized or otherwise separated into “bins” for analysis\n",
        "\n",
        "Suppose you have data about a group of people in a study, and you want to group them into discrete age buckets:"
      ]
    },
    {
      "cell_type": "code",
      "metadata": {
        "id": "JY0yOo94dNHt"
      },
      "source": [
        "ages = [20, 22, 25, 27, 21, 23, 37, 31, 61, 45, 41, 32]"
      ],
      "execution_count": 313,
      "outputs": []
    },
    {
      "cell_type": "markdown",
      "metadata": {
        "id": "3maCNVe4dQY_"
      },
      "source": [
        "Let’s **divide these into bins** of 18 to 25, 26 to 35, 36 to 60, and finally 61 and older\n",
        "\n",
        "To do so, you have to use **cut**, a function in pandas:"
      ]
    },
    {
      "cell_type": "code",
      "metadata": {
        "id": "v4aKjRYNdXr6"
      },
      "source": [
        "bins = [18, 25, 35, 60, 100]"
      ],
      "execution_count": 314,
      "outputs": []
    },
    {
      "cell_type": "code",
      "metadata": {
        "id": "s_0Yu0b5ddK2"
      },
      "source": [
        "cats = pd.cut(ages, bins)"
      ],
      "execution_count": 315,
      "outputs": []
    },
    {
      "cell_type": "code",
      "metadata": {
        "colab": {
          "base_uri": "https://localhost:8080/"
        },
        "id": "sPTcHeordfF9",
        "outputId": "b508f284-7a93-430f-890d-cff124da7dbd"
      },
      "source": [
        "cats"
      ],
      "execution_count": 316,
      "outputs": [
        {
          "output_type": "execute_result",
          "data": {
            "text/plain": [
              "[(18, 25], (18, 25], (18, 25], (25, 35], (18, 25], ..., (25, 35], (60, 100], (35, 60], (35, 60], (25, 35]]\n",
              "Length: 12\n",
              "Categories (4, interval[int64]): [(18, 25] < (25, 35] < (35, 60] < (60, 100]]"
            ]
          },
          "metadata": {},
          "execution_count": 316
        }
      ]
    },
    {
      "cell_type": "markdown",
      "metadata": {
        "id": "cDGdXzD0djOT"
      },
      "source": [
        "**The object pandas returns is a special Categorical object**. The output you see describes the bins computed by pandas.cut\n",
        "\n",
        "You can treat it like an array of strings indicating the bin name; **internally it contains a categories array specifying the distinct category names along with a labeling for the ages data in the codes attribute:**\n",
        "\n"
      ]
    },
    {
      "cell_type": "code",
      "metadata": {
        "colab": {
          "base_uri": "https://localhost:8080/"
        },
        "id": "ImYp9dWrhIr-",
        "outputId": "c7dfbd48-e7ef-4b0b-914e-ae929afdc3a2"
      },
      "source": [
        "cats.codes"
      ],
      "execution_count": 317,
      "outputs": [
        {
          "output_type": "execute_result",
          "data": {
            "text/plain": [
              "array([0, 0, 0, 1, 0, 0, 2, 1, 3, 2, 2, 1], dtype=int8)"
            ]
          },
          "metadata": {},
          "execution_count": 317
        }
      ]
    },
    {
      "cell_type": "code",
      "metadata": {
        "colab": {
          "base_uri": "https://localhost:8080/"
        },
        "id": "KEQSv_bGhJ0F",
        "outputId": "d14f33b2-ed38-467b-b074-1bb8afc72249"
      },
      "source": [
        "cats.categories"
      ],
      "execution_count": 318,
      "outputs": [
        {
          "output_type": "execute_result",
          "data": {
            "text/plain": [
              "IntervalIndex([(18, 25], (25, 35], (35, 60], (60, 100]],\n",
              "              closed='right',\n",
              "              dtype='interval[int64]')"
            ]
          },
          "metadata": {},
          "execution_count": 318
        }
      ]
    },
    {
      "cell_type": "code",
      "metadata": {
        "colab": {
          "base_uri": "https://localhost:8080/"
        },
        "id": "e1BWaiNYhu6z",
        "outputId": "ecb3802a-8c3b-4ae6-a11c-21b6bf72a54c"
      },
      "source": [
        "pd.value_counts(cats).values"
      ],
      "execution_count": 319,
      "outputs": [
        {
          "output_type": "execute_result",
          "data": {
            "text/plain": [
              "array([5, 3, 3, 1])"
            ]
          },
          "metadata": {},
          "execution_count": 319
        }
      ]
    },
    {
      "cell_type": "markdown",
      "metadata": {
        "id": "2MyqmSuuh2E9"
      },
      "source": [
        "Note that pd.value_counts(cats) are the bin counts for the result of pandas.cut\n",
        "\n",
        "Consistent with mathematical notation for intervals, **a parenthesis means that the side is open, while the square bracket means it is closed (inclusive)**\n",
        "\n",
        "You can change which side is closed by passing right= False:"
      ]
    },
    {
      "cell_type": "code",
      "metadata": {
        "colab": {
          "base_uri": "https://localhost:8080/"
        },
        "id": "oC8rc8rQixGY",
        "outputId": "eca455ec-7847-473d-8fc2-cec35bcd7e20"
      },
      "source": [
        "pd.cut(ages, [18, 26, 36, 61, 100], right=False)"
      ],
      "execution_count": 320,
      "outputs": [
        {
          "output_type": "execute_result",
          "data": {
            "text/plain": [
              "[[18, 26), [18, 26), [18, 26), [26, 36), [18, 26), ..., [26, 36), [61, 100), [36, 61), [36, 61), [26, 36)]\n",
              "Length: 12\n",
              "Categories (4, interval[int64]): [[18, 26) < [26, 36) < [36, 61) < [61, 100)]"
            ]
          },
          "metadata": {},
          "execution_count": 320
        }
      ]
    },
    {
      "cell_type": "markdown",
      "metadata": {
        "id": "tZ7FL3SujLAA"
      },
      "source": [
        "You can also pass your own bin names by passing a list or array to the labels option:"
      ]
    },
    {
      "cell_type": "code",
      "metadata": {
        "id": "eaB14_b-jNke"
      },
      "source": [
        "group_names = ['Youth', 'YoungAdult', 'MiddleAged', 'Senior']"
      ],
      "execution_count": 321,
      "outputs": []
    },
    {
      "cell_type": "code",
      "metadata": {
        "colab": {
          "base_uri": "https://localhost:8080/"
        },
        "id": "NYAgQu0NjTQf",
        "outputId": "d2a65670-a27e-428c-836e-4b99b9a32c68"
      },
      "source": [
        "pd.cut(ages, bins, labels=group_names)"
      ],
      "execution_count": 322,
      "outputs": [
        {
          "output_type": "execute_result",
          "data": {
            "text/plain": [
              "['Youth', 'Youth', 'Youth', 'YoungAdult', 'Youth', ..., 'YoungAdult', 'Senior', 'MiddleAged', 'MiddleAged', 'YoungAdult']\n",
              "Length: 12\n",
              "Categories (4, object): ['Youth' < 'YoungAdult' < 'MiddleAged' < 'Senior']"
            ]
          },
          "metadata": {},
          "execution_count": 322
        }
      ]
    },
    {
      "cell_type": "markdown",
      "metadata": {
        "id": "nOTPEj0ojrTa"
      },
      "source": [
        "**If you pass an integer number of bins** to cut instead of explicit bin edges, **it will compute equal-length bins based on the minimum and maximum values in the data**\n",
        "\n",
        "Consider the case of some uniformly distributed data chopped into fourths:"
      ]
    },
    {
      "cell_type": "code",
      "metadata": {
        "id": "FyHTK4x_j06m"
      },
      "source": [
        "data = np.random.rand(20)"
      ],
      "execution_count": 323,
      "outputs": []
    },
    {
      "cell_type": "code",
      "metadata": {
        "colab": {
          "base_uri": "https://localhost:8080/"
        },
        "id": "LXJgRhRMj27J",
        "outputId": "c32d0f41-d536-46ba-8abb-0978701b64a6"
      },
      "source": [
        "pd.cut(data, 4, precision=2)"
      ],
      "execution_count": 324,
      "outputs": [
        {
          "output_type": "execute_result",
          "data": {
            "text/plain": [
              "[(0.77, 1.0], (0.54, 0.77], (0.31, 0.54], (0.77, 1.0], (0.77, 1.0], ..., (0.077, 0.31], (0.77, 1.0], (0.31, 0.54], (0.31, 0.54], (0.54, 0.77]]\n",
              "Length: 20\n",
              "Categories (4, interval[float64]): [(0.077, 0.31] < (0.31, 0.54] < (0.54, 0.77] < (0.77, 1.0]]"
            ]
          },
          "metadata": {},
          "execution_count": 324
        }
      ]
    },
    {
      "cell_type": "markdown",
      "metadata": {
        "id": "Mlcgrstgj_Lt"
      },
      "source": [
        "The precision=2 option limits the decimal precision to two digits\n",
        "\n",
        "A closely related function, qcut, bins the data based on sample quantiles\n",
        "\n",
        "Depending on the distribution of the data, using cut will not usually result in each bin having the same number of data points\n",
        "\n",
        "Since qcut uses sample quantiles instead, by definition you will obtain roughly equal-size bins:"
      ]
    },
    {
      "cell_type": "code",
      "metadata": {
        "id": "DZ9PTlIukRf-"
      },
      "source": [
        "data = np.random.randn(1000) # Normally distributed"
      ],
      "execution_count": 325,
      "outputs": []
    },
    {
      "cell_type": "code",
      "metadata": {
        "id": "25NjntcQkU8a"
      },
      "source": [
        "cats = pd.qcut(data, 4) # Cut into quartiles"
      ],
      "execution_count": 326,
      "outputs": []
    },
    {
      "cell_type": "code",
      "metadata": {
        "colab": {
          "base_uri": "https://localhost:8080/"
        },
        "id": "J53z8VMpkX4y",
        "outputId": "d6557909-ed20-4b8e-d3da-40387f9b6efb"
      },
      "source": [
        "cats"
      ],
      "execution_count": 327,
      "outputs": [
        {
          "output_type": "execute_result",
          "data": {
            "text/plain": [
              "[(0.0354, 0.707], (0.0354, 0.707], (-3.6319999999999997, -0.619], (-0.619, 0.0354], (-3.6319999999999997, -0.619], ..., (0.0354, 0.707], (-3.6319999999999997, -0.619], (0.0354, 0.707], (-3.6319999999999997, -0.619], (0.707, 2.881]]\n",
              "Length: 1000\n",
              "Categories (4, interval[float64]): [(-3.6319999999999997, -0.619] < (-0.619, 0.0354] < (0.0354, 0.707] <\n",
              "                                    (0.707, 2.881]]"
            ]
          },
          "metadata": {},
          "execution_count": 327
        }
      ]
    },
    {
      "cell_type": "code",
      "metadata": {
        "colab": {
          "base_uri": "https://localhost:8080/"
        },
        "id": "Xjy1KEPzk8QQ",
        "outputId": "1ce0589e-b1a1-4c5c-bcc0-c6d0486dadf9"
      },
      "source": [
        "pd.value_counts(cats)"
      ],
      "execution_count": 328,
      "outputs": [
        {
          "output_type": "execute_result",
          "data": {
            "text/plain": [
              "(0.707, 2.881]                   250\n",
              "(0.0354, 0.707]                  250\n",
              "(-0.619, 0.0354]                 250\n",
              "(-3.6319999999999997, -0.619]    250\n",
              "dtype: int64"
            ]
          },
          "metadata": {},
          "execution_count": 328
        }
      ]
    },
    {
      "cell_type": "markdown",
      "metadata": {
        "id": "AP_ogOpgk_vK"
      },
      "source": [
        "Similar to cut you can pass your own quantiles (numbers between 0 and 1, inclusive):"
      ]
    },
    {
      "cell_type": "code",
      "metadata": {
        "colab": {
          "base_uri": "https://localhost:8080/"
        },
        "id": "jrBrk_5XlFYA",
        "outputId": "5d9e116b-9314-491a-b319-043aca94bf8e"
      },
      "source": [
        "pd.qcut(data, [0, 0.1, 0.5, 0.9, 1.])"
      ],
      "execution_count": 329,
      "outputs": [
        {
          "output_type": "execute_result",
          "data": {
            "text/plain": [
              "[(0.0354, 1.328], (0.0354, 1.328], (-1.223, 0.0354], (-1.223, 0.0354], (-1.223, 0.0354], ..., (0.0354, 1.328], (-3.6319999999999997, -1.223], (0.0354, 1.328], (-1.223, 0.0354], (1.328, 2.881]]\n",
              "Length: 1000\n",
              "Categories (4, interval[float64]): [(-3.6319999999999997, -1.223] < (-1.223, 0.0354] < (0.0354, 1.328] <\n",
              "                                    (1.328, 2.881]]"
            ]
          },
          "metadata": {},
          "execution_count": 329
        }
      ]
    },
    {
      "cell_type": "markdown",
      "metadata": {
        "id": "05A5HLgjlPgQ"
      },
      "source": [
        "These discretization functions are especially useful for quantile and group analysis"
      ]
    },
    {
      "cell_type": "markdown",
      "metadata": {
        "id": "TtO9CURMlRFR"
      },
      "source": [
        "## Detecting and Filtering Outliers"
      ]
    },
    {
      "cell_type": "markdown",
      "metadata": {
        "id": "plKRTQI7lTRu"
      },
      "source": [
        "Filtering or transforming outliers is largely a matter of applying array operations\n",
        "\n",
        "Consider a DataFrame with some normally distributed data:"
      ]
    },
    {
      "cell_type": "code",
      "metadata": {
        "id": "R2rQQIadlYoU"
      },
      "source": [
        "data = pd.DataFrame(np.random.randn(1000, 4))"
      ],
      "execution_count": 330,
      "outputs": []
    },
    {
      "cell_type": "code",
      "metadata": {
        "colab": {
          "base_uri": "https://localhost:8080/",
          "height": 297
        },
        "id": "IRreM0anlbHR",
        "outputId": "b6cff11a-591f-41ca-fc79-50035c44fe67"
      },
      "source": [
        "data.describe()"
      ],
      "execution_count": 331,
      "outputs": [
        {
          "output_type": "execute_result",
          "data": {
            "text/html": [
              "<div>\n",
              "<style scoped>\n",
              "    .dataframe tbody tr th:only-of-type {\n",
              "        vertical-align: middle;\n",
              "    }\n",
              "\n",
              "    .dataframe tbody tr th {\n",
              "        vertical-align: top;\n",
              "    }\n",
              "\n",
              "    .dataframe thead th {\n",
              "        text-align: right;\n",
              "    }\n",
              "</style>\n",
              "<table border=\"1\" class=\"dataframe\">\n",
              "  <thead>\n",
              "    <tr style=\"text-align: right;\">\n",
              "      <th></th>\n",
              "      <th>0</th>\n",
              "      <th>1</th>\n",
              "      <th>2</th>\n",
              "      <th>3</th>\n",
              "    </tr>\n",
              "  </thead>\n",
              "  <tbody>\n",
              "    <tr>\n",
              "      <th>count</th>\n",
              "      <td>1000.000000</td>\n",
              "      <td>1000.000000</td>\n",
              "      <td>1000.000000</td>\n",
              "      <td>1000.000000</td>\n",
              "    </tr>\n",
              "    <tr>\n",
              "      <th>mean</th>\n",
              "      <td>0.034066</td>\n",
              "      <td>0.048845</td>\n",
              "      <td>0.011025</td>\n",
              "      <td>-0.005823</td>\n",
              "    </tr>\n",
              "    <tr>\n",
              "      <th>std</th>\n",
              "      <td>1.018080</td>\n",
              "      <td>1.009296</td>\n",
              "      <td>0.997368</td>\n",
              "      <td>1.008561</td>\n",
              "    </tr>\n",
              "    <tr>\n",
              "      <th>min</th>\n",
              "      <td>-3.929146</td>\n",
              "      <td>-3.407598</td>\n",
              "      <td>-2.841289</td>\n",
              "      <td>-3.548090</td>\n",
              "    </tr>\n",
              "    <tr>\n",
              "      <th>25%</th>\n",
              "      <td>-0.656831</td>\n",
              "      <td>-0.612901</td>\n",
              "      <td>-0.639162</td>\n",
              "      <td>-0.667259</td>\n",
              "    </tr>\n",
              "    <tr>\n",
              "      <th>50%</th>\n",
              "      <td>0.048879</td>\n",
              "      <td>0.073402</td>\n",
              "      <td>-0.019457</td>\n",
              "      <td>-0.003365</td>\n",
              "    </tr>\n",
              "    <tr>\n",
              "      <th>75%</th>\n",
              "      <td>0.721818</td>\n",
              "      <td>0.767091</td>\n",
              "      <td>0.690757</td>\n",
              "      <td>0.667233</td>\n",
              "    </tr>\n",
              "    <tr>\n",
              "      <th>max</th>\n",
              "      <td>3.107870</td>\n",
              "      <td>2.630253</td>\n",
              "      <td>2.855052</td>\n",
              "      <td>3.192168</td>\n",
              "    </tr>\n",
              "  </tbody>\n",
              "</table>\n",
              "</div>"
            ],
            "text/plain": [
              "                 0            1            2            3\n",
              "count  1000.000000  1000.000000  1000.000000  1000.000000\n",
              "mean      0.034066     0.048845     0.011025    -0.005823\n",
              "std       1.018080     1.009296     0.997368     1.008561\n",
              "min      -3.929146    -3.407598    -2.841289    -3.548090\n",
              "25%      -0.656831    -0.612901    -0.639162    -0.667259\n",
              "50%       0.048879     0.073402    -0.019457    -0.003365\n",
              "75%       0.721818     0.767091     0.690757     0.667233\n",
              "max       3.107870     2.630253     2.855052     3.192168"
            ]
          },
          "metadata": {},
          "execution_count": 331
        }
      ]
    },
    {
      "cell_type": "markdown",
      "metadata": {
        "id": "Y54kEb0glqvD"
      },
      "source": [
        "Suppose you wanted to find values in one of the columns exceeding 3 in absolute value:"
      ]
    },
    {
      "cell_type": "code",
      "metadata": {
        "id": "XUowz0EKlvUa"
      },
      "source": [
        "col = data[2]"
      ],
      "execution_count": 332,
      "outputs": []
    },
    {
      "cell_type": "code",
      "metadata": {
        "colab": {
          "base_uri": "https://localhost:8080/"
        },
        "id": "VShH9RBel1o4",
        "outputId": "8ed5d20d-5cfd-4d46-ad40-5793bd70c68a"
      },
      "source": [
        "col[np.abs(col) > 3]"
      ],
      "execution_count": 333,
      "outputs": [
        {
          "output_type": "execute_result",
          "data": {
            "text/plain": [
              "Series([], Name: 2, dtype: float64)"
            ]
          },
          "metadata": {},
          "execution_count": 333
        }
      ]
    },
    {
      "cell_type": "markdown",
      "metadata": {
        "id": "TldBDiwOl8st"
      },
      "source": [
        "To select all rows having a value exceeding 3 or –3, you can use the any method on a boolean DataFrame:"
      ]
    },
    {
      "cell_type": "code",
      "metadata": {
        "colab": {
          "base_uri": "https://localhost:8080/",
          "height": 266
        },
        "id": "YLACRzfIl_o6",
        "outputId": "69295b3b-2a24-4362-8747-4ec00dc360d8"
      },
      "source": [
        "data[(np.abs(data) > 3).any(1)]"
      ],
      "execution_count": 334,
      "outputs": [
        {
          "output_type": "execute_result",
          "data": {
            "text/html": [
              "<div>\n",
              "<style scoped>\n",
              "    .dataframe tbody tr th:only-of-type {\n",
              "        vertical-align: middle;\n",
              "    }\n",
              "\n",
              "    .dataframe tbody tr th {\n",
              "        vertical-align: top;\n",
              "    }\n",
              "\n",
              "    .dataframe thead th {\n",
              "        text-align: right;\n",
              "    }\n",
              "</style>\n",
              "<table border=\"1\" class=\"dataframe\">\n",
              "  <thead>\n",
              "    <tr style=\"text-align: right;\">\n",
              "      <th></th>\n",
              "      <th>0</th>\n",
              "      <th>1</th>\n",
              "      <th>2</th>\n",
              "      <th>3</th>\n",
              "    </tr>\n",
              "  </thead>\n",
              "  <tbody>\n",
              "    <tr>\n",
              "      <th>59</th>\n",
              "      <td>-3.929146</td>\n",
              "      <td>-0.178411</td>\n",
              "      <td>0.394801</td>\n",
              "      <td>0.418571</td>\n",
              "    </tr>\n",
              "    <tr>\n",
              "      <th>272</th>\n",
              "      <td>-0.844894</td>\n",
              "      <td>1.163822</td>\n",
              "      <td>1.174635</td>\n",
              "      <td>3.192168</td>\n",
              "    </tr>\n",
              "    <tr>\n",
              "      <th>291</th>\n",
              "      <td>-0.559970</td>\n",
              "      <td>-3.407598</td>\n",
              "      <td>1.145049</td>\n",
              "      <td>0.382111</td>\n",
              "    </tr>\n",
              "    <tr>\n",
              "      <th>548</th>\n",
              "      <td>-3.431546</td>\n",
              "      <td>-1.012892</td>\n",
              "      <td>-0.185423</td>\n",
              "      <td>0.000102</td>\n",
              "    </tr>\n",
              "    <tr>\n",
              "      <th>613</th>\n",
              "      <td>0.960431</td>\n",
              "      <td>0.772824</td>\n",
              "      <td>-0.620691</td>\n",
              "      <td>-3.504356</td>\n",
              "    </tr>\n",
              "    <tr>\n",
              "      <th>848</th>\n",
              "      <td>3.107870</td>\n",
              "      <td>0.777681</td>\n",
              "      <td>0.009108</td>\n",
              "      <td>0.339043</td>\n",
              "    </tr>\n",
              "    <tr>\n",
              "      <th>974</th>\n",
              "      <td>-1.096388</td>\n",
              "      <td>0.078967</td>\n",
              "      <td>0.592753</td>\n",
              "      <td>-3.548090</td>\n",
              "    </tr>\n",
              "  </tbody>\n",
              "</table>\n",
              "</div>"
            ],
            "text/plain": [
              "            0         1         2         3\n",
              "59  -3.929146 -0.178411  0.394801  0.418571\n",
              "272 -0.844894  1.163822  1.174635  3.192168\n",
              "291 -0.559970 -3.407598  1.145049  0.382111\n",
              "548 -3.431546 -1.012892 -0.185423  0.000102\n",
              "613  0.960431  0.772824 -0.620691 -3.504356\n",
              "848  3.107870  0.777681  0.009108  0.339043\n",
              "974 -1.096388  0.078967  0.592753 -3.548090"
            ]
          },
          "metadata": {},
          "execution_count": 334
        }
      ]
    },
    {
      "cell_type": "markdown",
      "metadata": {
        "id": "e44DlYBfmT3n"
      },
      "source": [
        "Values can be set based on these criteria. Here is code to cap values outside the interval –3 to 3:"
      ]
    },
    {
      "cell_type": "code",
      "metadata": {
        "id": "9KeKIrYvmYHh"
      },
      "source": [
        "data[np.abs(data) > 3] = np.sign(data) * 3"
      ],
      "execution_count": 335,
      "outputs": []
    },
    {
      "cell_type": "code",
      "metadata": {
        "colab": {
          "base_uri": "https://localhost:8080/",
          "height": 297
        },
        "id": "iFdAGCl2mb3y",
        "outputId": "9da82db5-1819-44c1-e501-e0b3a1babd72"
      },
      "source": [
        "data.describe()"
      ],
      "execution_count": 336,
      "outputs": [
        {
          "output_type": "execute_result",
          "data": {
            "text/html": [
              "<div>\n",
              "<style scoped>\n",
              "    .dataframe tbody tr th:only-of-type {\n",
              "        vertical-align: middle;\n",
              "    }\n",
              "\n",
              "    .dataframe tbody tr th {\n",
              "        vertical-align: top;\n",
              "    }\n",
              "\n",
              "    .dataframe thead th {\n",
              "        text-align: right;\n",
              "    }\n",
              "</style>\n",
              "<table border=\"1\" class=\"dataframe\">\n",
              "  <thead>\n",
              "    <tr style=\"text-align: right;\">\n",
              "      <th></th>\n",
              "      <th>0</th>\n",
              "      <th>1</th>\n",
              "      <th>2</th>\n",
              "      <th>3</th>\n",
              "    </tr>\n",
              "  </thead>\n",
              "  <tbody>\n",
              "    <tr>\n",
              "      <th>count</th>\n",
              "      <td>1000.000000</td>\n",
              "      <td>1000.000000</td>\n",
              "      <td>1000.000000</td>\n",
              "      <td>1000.000000</td>\n",
              "    </tr>\n",
              "    <tr>\n",
              "      <th>mean</th>\n",
              "      <td>0.035318</td>\n",
              "      <td>0.049253</td>\n",
              "      <td>0.011025</td>\n",
              "      <td>-0.004963</td>\n",
              "    </tr>\n",
              "    <tr>\n",
              "      <th>std</th>\n",
              "      <td>1.013172</td>\n",
              "      <td>1.007980</td>\n",
              "      <td>0.997368</td>\n",
              "      <td>1.004558</td>\n",
              "    </tr>\n",
              "    <tr>\n",
              "      <th>min</th>\n",
              "      <td>-3.000000</td>\n",
              "      <td>-3.000000</td>\n",
              "      <td>-2.841289</td>\n",
              "      <td>-3.000000</td>\n",
              "    </tr>\n",
              "    <tr>\n",
              "      <th>25%</th>\n",
              "      <td>-0.656831</td>\n",
              "      <td>-0.612901</td>\n",
              "      <td>-0.639162</td>\n",
              "      <td>-0.667259</td>\n",
              "    </tr>\n",
              "    <tr>\n",
              "      <th>50%</th>\n",
              "      <td>0.048879</td>\n",
              "      <td>0.073402</td>\n",
              "      <td>-0.019457</td>\n",
              "      <td>-0.003365</td>\n",
              "    </tr>\n",
              "    <tr>\n",
              "      <th>75%</th>\n",
              "      <td>0.721818</td>\n",
              "      <td>0.767091</td>\n",
              "      <td>0.690757</td>\n",
              "      <td>0.667233</td>\n",
              "    </tr>\n",
              "    <tr>\n",
              "      <th>max</th>\n",
              "      <td>3.000000</td>\n",
              "      <td>2.630253</td>\n",
              "      <td>2.855052</td>\n",
              "      <td>3.000000</td>\n",
              "    </tr>\n",
              "  </tbody>\n",
              "</table>\n",
              "</div>"
            ],
            "text/plain": [
              "                 0            1            2            3\n",
              "count  1000.000000  1000.000000  1000.000000  1000.000000\n",
              "mean      0.035318     0.049253     0.011025    -0.004963\n",
              "std       1.013172     1.007980     0.997368     1.004558\n",
              "min      -3.000000    -3.000000    -2.841289    -3.000000\n",
              "25%      -0.656831    -0.612901    -0.639162    -0.667259\n",
              "50%       0.048879     0.073402    -0.019457    -0.003365\n",
              "75%       0.721818     0.767091     0.690757     0.667233\n",
              "max       3.000000     2.630253     2.855052     3.000000"
            ]
          },
          "metadata": {},
          "execution_count": 336
        }
      ]
    },
    {
      "cell_type": "markdown",
      "metadata": {
        "id": "_UiSJmeJmkDQ"
      },
      "source": [
        "The statement np.sign(data) produces 1 and –1 values based on whether the values in data are positive or negative:"
      ]
    },
    {
      "cell_type": "code",
      "metadata": {
        "colab": {
          "base_uri": "https://localhost:8080/",
          "height": 204
        },
        "id": "AQpZP4pjmnLL",
        "outputId": "92a8f067-5906-42cd-b42b-2af1e951b818"
      },
      "source": [
        "np.sign(data).head()"
      ],
      "execution_count": 337,
      "outputs": [
        {
          "output_type": "execute_result",
          "data": {
            "text/html": [
              "<div>\n",
              "<style scoped>\n",
              "    .dataframe tbody tr th:only-of-type {\n",
              "        vertical-align: middle;\n",
              "    }\n",
              "\n",
              "    .dataframe tbody tr th {\n",
              "        vertical-align: top;\n",
              "    }\n",
              "\n",
              "    .dataframe thead th {\n",
              "        text-align: right;\n",
              "    }\n",
              "</style>\n",
              "<table border=\"1\" class=\"dataframe\">\n",
              "  <thead>\n",
              "    <tr style=\"text-align: right;\">\n",
              "      <th></th>\n",
              "      <th>0</th>\n",
              "      <th>1</th>\n",
              "      <th>2</th>\n",
              "      <th>3</th>\n",
              "    </tr>\n",
              "  </thead>\n",
              "  <tbody>\n",
              "    <tr>\n",
              "      <th>0</th>\n",
              "      <td>-1.0</td>\n",
              "      <td>1.0</td>\n",
              "      <td>-1.0</td>\n",
              "      <td>1.0</td>\n",
              "    </tr>\n",
              "    <tr>\n",
              "      <th>1</th>\n",
              "      <td>1.0</td>\n",
              "      <td>1.0</td>\n",
              "      <td>1.0</td>\n",
              "      <td>-1.0</td>\n",
              "    </tr>\n",
              "    <tr>\n",
              "      <th>2</th>\n",
              "      <td>-1.0</td>\n",
              "      <td>-1.0</td>\n",
              "      <td>-1.0</td>\n",
              "      <td>1.0</td>\n",
              "    </tr>\n",
              "    <tr>\n",
              "      <th>3</th>\n",
              "      <td>1.0</td>\n",
              "      <td>-1.0</td>\n",
              "      <td>1.0</td>\n",
              "      <td>1.0</td>\n",
              "    </tr>\n",
              "    <tr>\n",
              "      <th>4</th>\n",
              "      <td>-1.0</td>\n",
              "      <td>-1.0</td>\n",
              "      <td>1.0</td>\n",
              "      <td>1.0</td>\n",
              "    </tr>\n",
              "  </tbody>\n",
              "</table>\n",
              "</div>"
            ],
            "text/plain": [
              "     0    1    2    3\n",
              "0 -1.0  1.0 -1.0  1.0\n",
              "1  1.0  1.0  1.0 -1.0\n",
              "2 -1.0 -1.0 -1.0  1.0\n",
              "3  1.0 -1.0  1.0  1.0\n",
              "4 -1.0 -1.0  1.0  1.0"
            ]
          },
          "metadata": {},
          "execution_count": 337
        }
      ]
    },
    {
      "cell_type": "markdown",
      "metadata": {
        "id": "dZ7DagQsmuU6"
      },
      "source": [
        "## Permutation and Random Sampling"
      ]
    },
    {
      "cell_type": "markdown",
      "metadata": {
        "id": "FS19IcYzmw8T"
      },
      "source": [
        "Permuting (randomly reordering) a Series or the rows in a DataFrame is easy to do using the numpy.random.permutation function\n",
        "\n",
        "Calling permutation with the length of the axis you want to permute produces an array of integers indicating the new ordering:"
      ]
    },
    {
      "cell_type": "code",
      "metadata": {
        "id": "1oLckxgom5g_"
      },
      "source": [
        "df = pd.DataFrame(np.arange(5 * 4).reshape((5, 4)))"
      ],
      "execution_count": 338,
      "outputs": []
    },
    {
      "cell_type": "code",
      "metadata": {
        "id": "VTEO9xPCnAYi"
      },
      "source": [
        "sampler = np.random.permutation(5)"
      ],
      "execution_count": 339,
      "outputs": []
    },
    {
      "cell_type": "code",
      "metadata": {
        "colab": {
          "base_uri": "https://localhost:8080/"
        },
        "id": "KGyN4u1cnFQ7",
        "outputId": "9200bab7-3f3f-4fbc-dc1b-ae88c5bd428c"
      },
      "source": [
        "sampler"
      ],
      "execution_count": 340,
      "outputs": [
        {
          "output_type": "execute_result",
          "data": {
            "text/plain": [
              "array([3, 1, 4, 0, 2])"
            ]
          },
          "metadata": {},
          "execution_count": 340
        }
      ]
    },
    {
      "cell_type": "markdown",
      "metadata": {
        "id": "kJmdF8GdnILe"
      },
      "source": [
        "That array can then be used in iloc-based indexing or the equivalent take function:"
      ]
    },
    {
      "cell_type": "code",
      "metadata": {
        "colab": {
          "base_uri": "https://localhost:8080/",
          "height": 204
        },
        "id": "Y-Ecro2DnM30",
        "outputId": "e59b7110-2f48-43ab-f9c5-118be23eadee"
      },
      "source": [
        "df"
      ],
      "execution_count": 341,
      "outputs": [
        {
          "output_type": "execute_result",
          "data": {
            "text/html": [
              "<div>\n",
              "<style scoped>\n",
              "    .dataframe tbody tr th:only-of-type {\n",
              "        vertical-align: middle;\n",
              "    }\n",
              "\n",
              "    .dataframe tbody tr th {\n",
              "        vertical-align: top;\n",
              "    }\n",
              "\n",
              "    .dataframe thead th {\n",
              "        text-align: right;\n",
              "    }\n",
              "</style>\n",
              "<table border=\"1\" class=\"dataframe\">\n",
              "  <thead>\n",
              "    <tr style=\"text-align: right;\">\n",
              "      <th></th>\n",
              "      <th>0</th>\n",
              "      <th>1</th>\n",
              "      <th>2</th>\n",
              "      <th>3</th>\n",
              "    </tr>\n",
              "  </thead>\n",
              "  <tbody>\n",
              "    <tr>\n",
              "      <th>0</th>\n",
              "      <td>0</td>\n",
              "      <td>1</td>\n",
              "      <td>2</td>\n",
              "      <td>3</td>\n",
              "    </tr>\n",
              "    <tr>\n",
              "      <th>1</th>\n",
              "      <td>4</td>\n",
              "      <td>5</td>\n",
              "      <td>6</td>\n",
              "      <td>7</td>\n",
              "    </tr>\n",
              "    <tr>\n",
              "      <th>2</th>\n",
              "      <td>8</td>\n",
              "      <td>9</td>\n",
              "      <td>10</td>\n",
              "      <td>11</td>\n",
              "    </tr>\n",
              "    <tr>\n",
              "      <th>3</th>\n",
              "      <td>12</td>\n",
              "      <td>13</td>\n",
              "      <td>14</td>\n",
              "      <td>15</td>\n",
              "    </tr>\n",
              "    <tr>\n",
              "      <th>4</th>\n",
              "      <td>16</td>\n",
              "      <td>17</td>\n",
              "      <td>18</td>\n",
              "      <td>19</td>\n",
              "    </tr>\n",
              "  </tbody>\n",
              "</table>\n",
              "</div>"
            ],
            "text/plain": [
              "    0   1   2   3\n",
              "0   0   1   2   3\n",
              "1   4   5   6   7\n",
              "2   8   9  10  11\n",
              "3  12  13  14  15\n",
              "4  16  17  18  19"
            ]
          },
          "metadata": {},
          "execution_count": 341
        }
      ]
    },
    {
      "cell_type": "code",
      "metadata": {
        "colab": {
          "base_uri": "https://localhost:8080/",
          "height": 204
        },
        "id": "Ifx2hP-mnNhp",
        "outputId": "9c566fe2-9bd5-4c8c-c952-9d2f07c23d0c"
      },
      "source": [
        "df.take(sampler)"
      ],
      "execution_count": 342,
      "outputs": [
        {
          "output_type": "execute_result",
          "data": {
            "text/html": [
              "<div>\n",
              "<style scoped>\n",
              "    .dataframe tbody tr th:only-of-type {\n",
              "        vertical-align: middle;\n",
              "    }\n",
              "\n",
              "    .dataframe tbody tr th {\n",
              "        vertical-align: top;\n",
              "    }\n",
              "\n",
              "    .dataframe thead th {\n",
              "        text-align: right;\n",
              "    }\n",
              "</style>\n",
              "<table border=\"1\" class=\"dataframe\">\n",
              "  <thead>\n",
              "    <tr style=\"text-align: right;\">\n",
              "      <th></th>\n",
              "      <th>0</th>\n",
              "      <th>1</th>\n",
              "      <th>2</th>\n",
              "      <th>3</th>\n",
              "    </tr>\n",
              "  </thead>\n",
              "  <tbody>\n",
              "    <tr>\n",
              "      <th>3</th>\n",
              "      <td>12</td>\n",
              "      <td>13</td>\n",
              "      <td>14</td>\n",
              "      <td>15</td>\n",
              "    </tr>\n",
              "    <tr>\n",
              "      <th>1</th>\n",
              "      <td>4</td>\n",
              "      <td>5</td>\n",
              "      <td>6</td>\n",
              "      <td>7</td>\n",
              "    </tr>\n",
              "    <tr>\n",
              "      <th>4</th>\n",
              "      <td>16</td>\n",
              "      <td>17</td>\n",
              "      <td>18</td>\n",
              "      <td>19</td>\n",
              "    </tr>\n",
              "    <tr>\n",
              "      <th>0</th>\n",
              "      <td>0</td>\n",
              "      <td>1</td>\n",
              "      <td>2</td>\n",
              "      <td>3</td>\n",
              "    </tr>\n",
              "    <tr>\n",
              "      <th>2</th>\n",
              "      <td>8</td>\n",
              "      <td>9</td>\n",
              "      <td>10</td>\n",
              "      <td>11</td>\n",
              "    </tr>\n",
              "  </tbody>\n",
              "</table>\n",
              "</div>"
            ],
            "text/plain": [
              "    0   1   2   3\n",
              "3  12  13  14  15\n",
              "1   4   5   6   7\n",
              "4  16  17  18  19\n",
              "0   0   1   2   3\n",
              "2   8   9  10  11"
            ]
          },
          "metadata": {},
          "execution_count": 342
        }
      ]
    },
    {
      "cell_type": "markdown",
      "metadata": {
        "id": "fsOxaxQWnX8i"
      },
      "source": [
        "**To select a random subset without replacement, you can use the sample method on Series and DataFrame:**"
      ]
    },
    {
      "cell_type": "code",
      "metadata": {
        "colab": {
          "base_uri": "https://localhost:8080/",
          "height": 142
        },
        "id": "ZL27aiXbna05",
        "outputId": "f58ee84e-7a0c-4d13-d190-f2ada9ea1a31"
      },
      "source": [
        "df.sample(n=3)"
      ],
      "execution_count": 343,
      "outputs": [
        {
          "output_type": "execute_result",
          "data": {
            "text/html": [
              "<div>\n",
              "<style scoped>\n",
              "    .dataframe tbody tr th:only-of-type {\n",
              "        vertical-align: middle;\n",
              "    }\n",
              "\n",
              "    .dataframe tbody tr th {\n",
              "        vertical-align: top;\n",
              "    }\n",
              "\n",
              "    .dataframe thead th {\n",
              "        text-align: right;\n",
              "    }\n",
              "</style>\n",
              "<table border=\"1\" class=\"dataframe\">\n",
              "  <thead>\n",
              "    <tr style=\"text-align: right;\">\n",
              "      <th></th>\n",
              "      <th>0</th>\n",
              "      <th>1</th>\n",
              "      <th>2</th>\n",
              "      <th>3</th>\n",
              "    </tr>\n",
              "  </thead>\n",
              "  <tbody>\n",
              "    <tr>\n",
              "      <th>1</th>\n",
              "      <td>4</td>\n",
              "      <td>5</td>\n",
              "      <td>6</td>\n",
              "      <td>7</td>\n",
              "    </tr>\n",
              "    <tr>\n",
              "      <th>3</th>\n",
              "      <td>12</td>\n",
              "      <td>13</td>\n",
              "      <td>14</td>\n",
              "      <td>15</td>\n",
              "    </tr>\n",
              "    <tr>\n",
              "      <th>4</th>\n",
              "      <td>16</td>\n",
              "      <td>17</td>\n",
              "      <td>18</td>\n",
              "      <td>19</td>\n",
              "    </tr>\n",
              "  </tbody>\n",
              "</table>\n",
              "</div>"
            ],
            "text/plain": [
              "    0   1   2   3\n",
              "1   4   5   6   7\n",
              "3  12  13  14  15\n",
              "4  16  17  18  19"
            ]
          },
          "metadata": {},
          "execution_count": 343
        }
      ]
    },
    {
      "cell_type": "markdown",
      "metadata": {
        "id": "HADHUdBjnisW"
      },
      "source": [
        "To generate a sample with replacement (to allow repeat choices), pass replace=True to sample:"
      ]
    },
    {
      "cell_type": "code",
      "metadata": {
        "id": "m8KNg5O2nluO"
      },
      "source": [
        "choices = pd.Series([5, 7, -1, 6, 4])"
      ],
      "execution_count": 344,
      "outputs": []
    },
    {
      "cell_type": "code",
      "metadata": {
        "id": "uCGBqYwanpsS"
      },
      "source": [
        "draws = choices.sample(n=10, replace=True)"
      ],
      "execution_count": 345,
      "outputs": []
    },
    {
      "cell_type": "code",
      "metadata": {
        "colab": {
          "base_uri": "https://localhost:8080/"
        },
        "id": "dsTehfq9ntIh",
        "outputId": "d5317fe1-0044-4fb3-a501-2c64b11b82af"
      },
      "source": [
        "draws"
      ],
      "execution_count": 346,
      "outputs": [
        {
          "output_type": "execute_result",
          "data": {
            "text/plain": [
              "4    4\n",
              "3    6\n",
              "3    6\n",
              "1    7\n",
              "2   -1\n",
              "1    7\n",
              "1    7\n",
              "0    5\n",
              "0    5\n",
              "3    6\n",
              "dtype: int64"
            ]
          },
          "metadata": {},
          "execution_count": 346
        }
      ]
    },
    {
      "cell_type": "markdown",
      "metadata": {
        "id": "cAbx1NRdny4x"
      },
      "source": [
        "## Computing Indicator/Dummy Variables"
      ]
    },
    {
      "cell_type": "markdown",
      "metadata": {
        "id": "QJKRmnWhn0vN"
      },
      "source": [
        "Another type of transformation for statistical modeling or machine learning applications is converting a categorical variable into a “dummy” or “indicator” matrix\n",
        "\n",
        "If a column in a DataFrame has k distinct values, you would derive a matrix or Data. Frame with k columns containing all 1s and 0s\n",
        "\n",
        "pandas has a get_dummies function for doing this, though devising one yourself is not difficult. Let’s return to an earlier example DataFrame:"
      ]
    },
    {
      "cell_type": "code",
      "metadata": {
        "id": "BPtJQL2Ureg8"
      },
      "source": [
        "df = pd.DataFrame({'key': ['b', 'b', 'a', 'c', 'a', 'b'],\n",
        "                   'data1': range(6)})"
      ],
      "execution_count": 350,
      "outputs": []
    },
    {
      "cell_type": "code",
      "metadata": {
        "colab": {
          "base_uri": "https://localhost:8080/",
          "height": 235
        },
        "id": "Al29PqwtrqYv",
        "outputId": "d65ccc79-91f0-4a12-9979-78e11279db94"
      },
      "source": [
        "df"
      ],
      "execution_count": 352,
      "outputs": [
        {
          "output_type": "execute_result",
          "data": {
            "text/html": [
              "<div>\n",
              "<style scoped>\n",
              "    .dataframe tbody tr th:only-of-type {\n",
              "        vertical-align: middle;\n",
              "    }\n",
              "\n",
              "    .dataframe tbody tr th {\n",
              "        vertical-align: top;\n",
              "    }\n",
              "\n",
              "    .dataframe thead th {\n",
              "        text-align: right;\n",
              "    }\n",
              "</style>\n",
              "<table border=\"1\" class=\"dataframe\">\n",
              "  <thead>\n",
              "    <tr style=\"text-align: right;\">\n",
              "      <th></th>\n",
              "      <th>key</th>\n",
              "      <th>data1</th>\n",
              "    </tr>\n",
              "  </thead>\n",
              "  <tbody>\n",
              "    <tr>\n",
              "      <th>0</th>\n",
              "      <td>b</td>\n",
              "      <td>0</td>\n",
              "    </tr>\n",
              "    <tr>\n",
              "      <th>1</th>\n",
              "      <td>b</td>\n",
              "      <td>1</td>\n",
              "    </tr>\n",
              "    <tr>\n",
              "      <th>2</th>\n",
              "      <td>a</td>\n",
              "      <td>2</td>\n",
              "    </tr>\n",
              "    <tr>\n",
              "      <th>3</th>\n",
              "      <td>c</td>\n",
              "      <td>3</td>\n",
              "    </tr>\n",
              "    <tr>\n",
              "      <th>4</th>\n",
              "      <td>a</td>\n",
              "      <td>4</td>\n",
              "    </tr>\n",
              "    <tr>\n",
              "      <th>5</th>\n",
              "      <td>b</td>\n",
              "      <td>5</td>\n",
              "    </tr>\n",
              "  </tbody>\n",
              "</table>\n",
              "</div>"
            ],
            "text/plain": [
              "  key  data1\n",
              "0   b      0\n",
              "1   b      1\n",
              "2   a      2\n",
              "3   c      3\n",
              "4   a      4\n",
              "5   b      5"
            ]
          },
          "metadata": {},
          "execution_count": 352
        }
      ]
    },
    {
      "cell_type": "code",
      "metadata": {
        "colab": {
          "base_uri": "https://localhost:8080/",
          "height": 235
        },
        "id": "rmAkPL4_rkCP",
        "outputId": "d65da62c-7c9d-43af-b007-5f4720877d2c"
      },
      "source": [
        "pd.get_dummies(df['key'])"
      ],
      "execution_count": 351,
      "outputs": [
        {
          "output_type": "execute_result",
          "data": {
            "text/html": [
              "<div>\n",
              "<style scoped>\n",
              "    .dataframe tbody tr th:only-of-type {\n",
              "        vertical-align: middle;\n",
              "    }\n",
              "\n",
              "    .dataframe tbody tr th {\n",
              "        vertical-align: top;\n",
              "    }\n",
              "\n",
              "    .dataframe thead th {\n",
              "        text-align: right;\n",
              "    }\n",
              "</style>\n",
              "<table border=\"1\" class=\"dataframe\">\n",
              "  <thead>\n",
              "    <tr style=\"text-align: right;\">\n",
              "      <th></th>\n",
              "      <th>a</th>\n",
              "      <th>b</th>\n",
              "      <th>c</th>\n",
              "    </tr>\n",
              "  </thead>\n",
              "  <tbody>\n",
              "    <tr>\n",
              "      <th>0</th>\n",
              "      <td>0</td>\n",
              "      <td>1</td>\n",
              "      <td>0</td>\n",
              "    </tr>\n",
              "    <tr>\n",
              "      <th>1</th>\n",
              "      <td>0</td>\n",
              "      <td>1</td>\n",
              "      <td>0</td>\n",
              "    </tr>\n",
              "    <tr>\n",
              "      <th>2</th>\n",
              "      <td>1</td>\n",
              "      <td>0</td>\n",
              "      <td>0</td>\n",
              "    </tr>\n",
              "    <tr>\n",
              "      <th>3</th>\n",
              "      <td>0</td>\n",
              "      <td>0</td>\n",
              "      <td>1</td>\n",
              "    </tr>\n",
              "    <tr>\n",
              "      <th>4</th>\n",
              "      <td>1</td>\n",
              "      <td>0</td>\n",
              "      <td>0</td>\n",
              "    </tr>\n",
              "    <tr>\n",
              "      <th>5</th>\n",
              "      <td>0</td>\n",
              "      <td>1</td>\n",
              "      <td>0</td>\n",
              "    </tr>\n",
              "  </tbody>\n",
              "</table>\n",
              "</div>"
            ],
            "text/plain": [
              "   a  b  c\n",
              "0  0  1  0\n",
              "1  0  1  0\n",
              "2  1  0  0\n",
              "3  0  0  1\n",
              "4  1  0  0\n",
              "5  0  1  0"
            ]
          },
          "metadata": {},
          "execution_count": 351
        }
      ]
    },
    {
      "cell_type": "markdown",
      "metadata": {
        "id": "Sbjqu7kHr5Ne"
      },
      "source": [
        "In some cases, you may want to add a prefix to the columns in the indicator DataFrame, which can then be merged with the other data.get_dummies has a prefix argument for doing this:"
      ]
    },
    {
      "cell_type": "code",
      "metadata": {
        "id": "HSYw86fjsUd7"
      },
      "source": [
        "dummies = pd.get_dummies(df['key'], prefix='key')"
      ],
      "execution_count": 353,
      "outputs": []
    }
  ]
}