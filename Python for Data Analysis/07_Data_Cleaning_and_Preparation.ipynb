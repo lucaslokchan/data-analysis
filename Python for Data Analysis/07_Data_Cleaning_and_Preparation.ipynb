{
  "nbformat": 4,
  "nbformat_minor": 0,
  "metadata": {
    "colab": {
      "name": "07.Data Cleaning and Preparation.ipynb",
      "provenance": [],
      "collapsed_sections": [],
      "authorship_tag": "ABX9TyPmKEzI265pqw8xRWqLWUCR"
    },
    "kernelspec": {
      "name": "python3",
      "display_name": "Python 3"
    },
    "language_info": {
      "name": "python"
    }
  },
  "cells": [
    {
      "cell_type": "markdown",
      "metadata": {
        "id": "0a-IVS5RNT9q"
      },
      "source": [
        "> During the course of doing data analysis and modeling, a significant amount of time is spent on data preparation: loading, cleaning, transforming, and rearranging. Such tasks are often reported to take up 80% or more of an analyst’s time"
      ]
    },
    {
      "cell_type": "markdown",
      "metadata": {
        "id": "UctUlLwYGTsb"
      },
      "source": [
        "# 7.1 Handling Missing Data"
      ]
    },
    {
      "cell_type": "code",
      "metadata": {
        "id": "PW-Fmt7CGQHp"
      },
      "source": [
        ""
      ],
      "execution_count": null,
      "outputs": []
    }
  ]
}