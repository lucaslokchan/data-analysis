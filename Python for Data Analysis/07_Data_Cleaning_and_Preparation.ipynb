{
  "nbformat": 4,
  "nbformat_minor": 0,
  "metadata": {
    "colab": {
      "name": "07.Data Cleaning and Preparation.ipynb",
      "provenance": [],
      "collapsed_sections": [],
      "authorship_tag": "ABX9TyNchxyXpNN5GDQ9ezcQR/JU"
    },
    "kernelspec": {
      "name": "python3",
      "display_name": "Python 3"
    },
    "language_info": {
      "name": "python"
    }
  },
  "cells": [
    {
      "cell_type": "markdown",
      "metadata": {
        "id": "0a-IVS5RNT9q"
      },
      "source": [
        "> During the course of doing data analysis and modeling, a significant amount of time is spent on data preparation: loading, cleaning, transforming, and rearranging. Such tasks are often reported to take up 80% or more of an analyst’s time"
      ]
    },
    {
      "cell_type": "markdown",
      "metadata": {
        "id": "UctUlLwYGTsb"
      },
      "source": [
        "# 7.1 Handling Missing Data"
      ]
    },
    {
      "cell_type": "markdown",
      "metadata": {
        "id": "ka1BD9brzwP0"
      },
      "source": [
        "For numeric data, pandas uses the floating-point value NaN (Not a Number) to represent missing data\n",
        "\n",
        "We call this a sentinel value that can be easily detected:"
      ]
    },
    {
      "cell_type": "code",
      "metadata": {
        "id": "adAo2jCC0FZx"
      },
      "source": [
        "import pandas as pd"
      ],
      "execution_count": 457,
      "outputs": []
    },
    {
      "cell_type": "code",
      "metadata": {
        "id": "obCDMnqI0G2C"
      },
      "source": [
        "import numpy as np"
      ],
      "execution_count": 458,
      "outputs": []
    },
    {
      "cell_type": "code",
      "metadata": {
        "id": "PW-Fmt7CGQHp"
      },
      "source": [
        "string_data = pd.Series(['aardvark', 'artichoke', np.nan, 'avocado'])"
      ],
      "execution_count": 459,
      "outputs": []
    },
    {
      "cell_type": "code",
      "metadata": {
        "colab": {
          "base_uri": "https://localhost:8080/"
        },
        "id": "-4gdA2G71sLS",
        "outputId": "ca8a6d00-c15b-4d61-f682-c7641cdf36a0"
      },
      "source": [
        "string_data"
      ],
      "execution_count": 460,
      "outputs": [
        {
          "output_type": "execute_result",
          "data": {
            "text/plain": [
              "0     aardvark\n",
              "1    artichoke\n",
              "2          NaN\n",
              "3      avocado\n",
              "dtype: object"
            ]
          },
          "metadata": {},
          "execution_count": 460
        }
      ]
    },
    {
      "cell_type": "code",
      "metadata": {
        "colab": {
          "base_uri": "https://localhost:8080/"
        },
        "id": "2yD81FbU1vr2",
        "outputId": "6da01b6e-4ab2-4720-e038-f2d0813e10ed"
      },
      "source": [
        "string_data.isnull()"
      ],
      "execution_count": 461,
      "outputs": [
        {
          "output_type": "execute_result",
          "data": {
            "text/plain": [
              "0    False\n",
              "1    False\n",
              "2     True\n",
              "3    False\n",
              "dtype: bool"
            ]
          },
          "metadata": {},
          "execution_count": 461
        }
      ]
    },
    {
      "cell_type": "markdown",
      "metadata": {
        "id": "cu8aVfYW3_a_"
      },
      "source": [
        "In pandas, we’ve adopted a convention used in the R programming language by referring to missing data as NA, which stands for not available\n",
        "\n",
        "In statistics applications, NA data may either be data that does not exist or that exists but was not observed (through problems with data collection, for example)\n",
        "\n",
        "When cleaning up data for analysis, it is often important to do analysis on the missing data itself to identify data collection problems or potential biases in the data caused by missing data\n",
        "\n",
        "**The built-in Python None value is also treated as NA in object arrays:**"
      ]
    },
    {
      "cell_type": "code",
      "metadata": {
        "id": "xI7lzIaD4PnB"
      },
      "source": [
        "string_data[0] = None"
      ],
      "execution_count": 462,
      "outputs": []
    },
    {
      "cell_type": "code",
      "metadata": {
        "colab": {
          "base_uri": "https://localhost:8080/"
        },
        "id": "X2pCcTA04SP-",
        "outputId": "3476676e-7aef-48cb-a38c-058cae799595"
      },
      "source": [
        "string_data.isnull()"
      ],
      "execution_count": 463,
      "outputs": [
        {
          "output_type": "execute_result",
          "data": {
            "text/plain": [
              "0     True\n",
              "1    False\n",
              "2     True\n",
              "3    False\n",
              "dtype: bool"
            ]
          },
          "metadata": {},
          "execution_count": 463
        }
      ]
    },
    {
      "cell_type": "markdown",
      "metadata": {
        "id": "zN-HFQG5St38"
      },
      "source": [
        "See Table 7-1 for a list of some functions related to missing data handling"
      ]
    },
    {
      "cell_type": "markdown",
      "metadata": {
        "id": "oWRD1dPmSxKv"
      },
      "source": [
        "Table 7-1. NA handling methods\n",
        "<p align='center'>\n",
        "<img src='data:image/png;base64,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'>\n",
        "</p>"
      ]
    },
    {
      "cell_type": "markdown",
      "metadata": {
        "id": "jpha-zPaS68F"
      },
      "source": [
        "## Filtering Out Missing Data"
      ]
    },
    {
      "cell_type": "markdown",
      "metadata": {
        "id": "RaIwnTH_TaVc"
      },
      "source": [
        "There are a few ways to filter out missing data. While you always have the option to do it by hand using pandas.isnull and boolean indexing, the dropna can be helpful\n",
        "\n",
        "On a Series, it returns the Series with only the non-null data and index values:"
      ]
    },
    {
      "cell_type": "code",
      "metadata": {
        "id": "qpkozv6pSvu6"
      },
      "source": [
        "from numpy import nan as NA"
      ],
      "execution_count": 464,
      "outputs": []
    },
    {
      "cell_type": "code",
      "metadata": {
        "id": "-0R9WRuOToNP"
      },
      "source": [
        "data = pd.Series([1, NA, 3.5, NA, 7])"
      ],
      "execution_count": 465,
      "outputs": []
    },
    {
      "cell_type": "code",
      "metadata": {
        "colab": {
          "base_uri": "https://localhost:8080/"
        },
        "id": "YbtW6OZNTrMg",
        "outputId": "4c019bc8-b31c-41e4-b728-3c166ed517c3"
      },
      "source": [
        "data.dropna()"
      ],
      "execution_count": 466,
      "outputs": [
        {
          "output_type": "execute_result",
          "data": {
            "text/plain": [
              "0    1.0\n",
              "2    3.5\n",
              "4    7.0\n",
              "dtype: float64"
            ]
          },
          "metadata": {},
          "execution_count": 466
        }
      ]
    },
    {
      "cell_type": "markdown",
      "metadata": {
        "id": "XG15negeTuWw"
      },
      "source": [
        "This is equivalent to:"
      ]
    },
    {
      "cell_type": "code",
      "metadata": {
        "colab": {
          "base_uri": "https://localhost:8080/"
        },
        "id": "bzrbulwiTuEt",
        "outputId": "ff6f0a6e-5387-4d01-ea3f-07cbbe4dc807"
      },
      "source": [
        "data[data.notnull()]"
      ],
      "execution_count": 467,
      "outputs": [
        {
          "output_type": "execute_result",
          "data": {
            "text/plain": [
              "0    1.0\n",
              "2    3.5\n",
              "4    7.0\n",
              "dtype: float64"
            ]
          },
          "metadata": {},
          "execution_count": 467
        }
      ]
    },
    {
      "cell_type": "markdown",
      "metadata": {
        "id": "7hm5BZzvTxnp"
      },
      "source": [
        "With DataFrame objects, things are a bit more complex\n",
        "\n",
        "You may want to drop rows or columns that are all NA or only those containing any NAs. dropna by default drops any row containing a missing value:"
      ]
    },
    {
      "cell_type": "code",
      "metadata": {
        "id": "mDVtgSpdT_Ya"
      },
      "source": [
        "data = pd.DataFrame([[1., 6.5, 3.], [1., NA, NA],\n",
        "                     [NA, NA, NA], [NA, 6.5, 3.]])"
      ],
      "execution_count": 468,
      "outputs": []
    },
    {
      "cell_type": "code",
      "metadata": {
        "id": "99TWaYUYUPE3"
      },
      "source": [
        "cleaned = data.dropna()"
      ],
      "execution_count": 469,
      "outputs": []
    },
    {
      "cell_type": "code",
      "metadata": {
        "colab": {
          "base_uri": "https://localhost:8080/",
          "height": 173
        },
        "id": "0sByhiYDURE-",
        "outputId": "02814d49-b37a-4554-c5b9-088e45dc9bb9"
      },
      "source": [
        "data"
      ],
      "execution_count": 470,
      "outputs": [
        {
          "output_type": "execute_result",
          "data": {
            "text/html": [
              "<div>\n",
              "<style scoped>\n",
              "    .dataframe tbody tr th:only-of-type {\n",
              "        vertical-align: middle;\n",
              "    }\n",
              "\n",
              "    .dataframe tbody tr th {\n",
              "        vertical-align: top;\n",
              "    }\n",
              "\n",
              "    .dataframe thead th {\n",
              "        text-align: right;\n",
              "    }\n",
              "</style>\n",
              "<table border=\"1\" class=\"dataframe\">\n",
              "  <thead>\n",
              "    <tr style=\"text-align: right;\">\n",
              "      <th></th>\n",
              "      <th>0</th>\n",
              "      <th>1</th>\n",
              "      <th>2</th>\n",
              "    </tr>\n",
              "  </thead>\n",
              "  <tbody>\n",
              "    <tr>\n",
              "      <th>0</th>\n",
              "      <td>1.0</td>\n",
              "      <td>6.5</td>\n",
              "      <td>3.0</td>\n",
              "    </tr>\n",
              "    <tr>\n",
              "      <th>1</th>\n",
              "      <td>1.0</td>\n",
              "      <td>NaN</td>\n",
              "      <td>NaN</td>\n",
              "    </tr>\n",
              "    <tr>\n",
              "      <th>2</th>\n",
              "      <td>NaN</td>\n",
              "      <td>NaN</td>\n",
              "      <td>NaN</td>\n",
              "    </tr>\n",
              "    <tr>\n",
              "      <th>3</th>\n",
              "      <td>NaN</td>\n",
              "      <td>6.5</td>\n",
              "      <td>3.0</td>\n",
              "    </tr>\n",
              "  </tbody>\n",
              "</table>\n",
              "</div>"
            ],
            "text/plain": [
              "     0    1    2\n",
              "0  1.0  6.5  3.0\n",
              "1  1.0  NaN  NaN\n",
              "2  NaN  NaN  NaN\n",
              "3  NaN  6.5  3.0"
            ]
          },
          "metadata": {},
          "execution_count": 470
        }
      ]
    },
    {
      "cell_type": "code",
      "metadata": {
        "colab": {
          "base_uri": "https://localhost:8080/",
          "height": 80
        },
        "id": "gCCIVSHeUT8x",
        "outputId": "c63d9bae-5888-4313-a82e-a1cd8fe2b96f"
      },
      "source": [
        "cleaned"
      ],
      "execution_count": 471,
      "outputs": [
        {
          "output_type": "execute_result",
          "data": {
            "text/html": [
              "<div>\n",
              "<style scoped>\n",
              "    .dataframe tbody tr th:only-of-type {\n",
              "        vertical-align: middle;\n",
              "    }\n",
              "\n",
              "    .dataframe tbody tr th {\n",
              "        vertical-align: top;\n",
              "    }\n",
              "\n",
              "    .dataframe thead th {\n",
              "        text-align: right;\n",
              "    }\n",
              "</style>\n",
              "<table border=\"1\" class=\"dataframe\">\n",
              "  <thead>\n",
              "    <tr style=\"text-align: right;\">\n",
              "      <th></th>\n",
              "      <th>0</th>\n",
              "      <th>1</th>\n",
              "      <th>2</th>\n",
              "    </tr>\n",
              "  </thead>\n",
              "  <tbody>\n",
              "    <tr>\n",
              "      <th>0</th>\n",
              "      <td>1.0</td>\n",
              "      <td>6.5</td>\n",
              "      <td>3.0</td>\n",
              "    </tr>\n",
              "  </tbody>\n",
              "</table>\n",
              "</div>"
            ],
            "text/plain": [
              "     0    1    2\n",
              "0  1.0  6.5  3.0"
            ]
          },
          "metadata": {},
          "execution_count": 471
        }
      ]
    },
    {
      "cell_type": "markdown",
      "metadata": {
        "id": "7a2W0cRLUYnC"
      },
      "source": [
        "Passing how='all' will only drop rows that are all NA:"
      ]
    },
    {
      "cell_type": "code",
      "metadata": {
        "id": "hhneiyyqUbRh",
        "colab": {
          "base_uri": "https://localhost:8080/",
          "height": 142
        },
        "outputId": "a73e088f-4822-4612-b048-d801c430cd30"
      },
      "source": [
        "data.dropna(how='all')"
      ],
      "execution_count": 472,
      "outputs": [
        {
          "output_type": "execute_result",
          "data": {
            "text/html": [
              "<div>\n",
              "<style scoped>\n",
              "    .dataframe tbody tr th:only-of-type {\n",
              "        vertical-align: middle;\n",
              "    }\n",
              "\n",
              "    .dataframe tbody tr th {\n",
              "        vertical-align: top;\n",
              "    }\n",
              "\n",
              "    .dataframe thead th {\n",
              "        text-align: right;\n",
              "    }\n",
              "</style>\n",
              "<table border=\"1\" class=\"dataframe\">\n",
              "  <thead>\n",
              "    <tr style=\"text-align: right;\">\n",
              "      <th></th>\n",
              "      <th>0</th>\n",
              "      <th>1</th>\n",
              "      <th>2</th>\n",
              "    </tr>\n",
              "  </thead>\n",
              "  <tbody>\n",
              "    <tr>\n",
              "      <th>0</th>\n",
              "      <td>1.0</td>\n",
              "      <td>6.5</td>\n",
              "      <td>3.0</td>\n",
              "    </tr>\n",
              "    <tr>\n",
              "      <th>1</th>\n",
              "      <td>1.0</td>\n",
              "      <td>NaN</td>\n",
              "      <td>NaN</td>\n",
              "    </tr>\n",
              "    <tr>\n",
              "      <th>3</th>\n",
              "      <td>NaN</td>\n",
              "      <td>6.5</td>\n",
              "      <td>3.0</td>\n",
              "    </tr>\n",
              "  </tbody>\n",
              "</table>\n",
              "</div>"
            ],
            "text/plain": [
              "     0    1    2\n",
              "0  1.0  6.5  3.0\n",
              "1  1.0  NaN  NaN\n",
              "3  NaN  6.5  3.0"
            ]
          },
          "metadata": {},
          "execution_count": 472
        }
      ]
    },
    {
      "cell_type": "markdown",
      "metadata": {
        "id": "IGOc2G-SUdxv"
      },
      "source": [
        "To drop columns in the same way, pass axis=1:"
      ]
    },
    {
      "cell_type": "code",
      "metadata": {
        "id": "0quHPHD1VlLK"
      },
      "source": [
        "data[4] = NA"
      ],
      "execution_count": 473,
      "outputs": []
    },
    {
      "cell_type": "code",
      "metadata": {
        "colab": {
          "base_uri": "https://localhost:8080/",
          "height": 173
        },
        "id": "yHubSYT3Vmfi",
        "outputId": "c565488e-7818-41f7-f05b-5bc12614b742"
      },
      "source": [
        "data"
      ],
      "execution_count": 474,
      "outputs": [
        {
          "output_type": "execute_result",
          "data": {
            "text/html": [
              "<div>\n",
              "<style scoped>\n",
              "    .dataframe tbody tr th:only-of-type {\n",
              "        vertical-align: middle;\n",
              "    }\n",
              "\n",
              "    .dataframe tbody tr th {\n",
              "        vertical-align: top;\n",
              "    }\n",
              "\n",
              "    .dataframe thead th {\n",
              "        text-align: right;\n",
              "    }\n",
              "</style>\n",
              "<table border=\"1\" class=\"dataframe\">\n",
              "  <thead>\n",
              "    <tr style=\"text-align: right;\">\n",
              "      <th></th>\n",
              "      <th>0</th>\n",
              "      <th>1</th>\n",
              "      <th>2</th>\n",
              "      <th>4</th>\n",
              "    </tr>\n",
              "  </thead>\n",
              "  <tbody>\n",
              "    <tr>\n",
              "      <th>0</th>\n",
              "      <td>1.0</td>\n",
              "      <td>6.5</td>\n",
              "      <td>3.0</td>\n",
              "      <td>NaN</td>\n",
              "    </tr>\n",
              "    <tr>\n",
              "      <th>1</th>\n",
              "      <td>1.0</td>\n",
              "      <td>NaN</td>\n",
              "      <td>NaN</td>\n",
              "      <td>NaN</td>\n",
              "    </tr>\n",
              "    <tr>\n",
              "      <th>2</th>\n",
              "      <td>NaN</td>\n",
              "      <td>NaN</td>\n",
              "      <td>NaN</td>\n",
              "      <td>NaN</td>\n",
              "    </tr>\n",
              "    <tr>\n",
              "      <th>3</th>\n",
              "      <td>NaN</td>\n",
              "      <td>6.5</td>\n",
              "      <td>3.0</td>\n",
              "      <td>NaN</td>\n",
              "    </tr>\n",
              "  </tbody>\n",
              "</table>\n",
              "</div>"
            ],
            "text/plain": [
              "     0    1    2   4\n",
              "0  1.0  6.5  3.0 NaN\n",
              "1  1.0  NaN  NaN NaN\n",
              "2  NaN  NaN  NaN NaN\n",
              "3  NaN  6.5  3.0 NaN"
            ]
          },
          "metadata": {},
          "execution_count": 474
        }
      ]
    },
    {
      "cell_type": "code",
      "metadata": {
        "colab": {
          "base_uri": "https://localhost:8080/",
          "height": 173
        },
        "id": "3s-PWCo9VpuR",
        "outputId": "4ae92462-6b34-4e19-f2d2-5ca52c2966c7"
      },
      "source": [
        "data.dropna(axis=1, how='all')"
      ],
      "execution_count": 475,
      "outputs": [
        {
          "output_type": "execute_result",
          "data": {
            "text/html": [
              "<div>\n",
              "<style scoped>\n",
              "    .dataframe tbody tr th:only-of-type {\n",
              "        vertical-align: middle;\n",
              "    }\n",
              "\n",
              "    .dataframe tbody tr th {\n",
              "        vertical-align: top;\n",
              "    }\n",
              "\n",
              "    .dataframe thead th {\n",
              "        text-align: right;\n",
              "    }\n",
              "</style>\n",
              "<table border=\"1\" class=\"dataframe\">\n",
              "  <thead>\n",
              "    <tr style=\"text-align: right;\">\n",
              "      <th></th>\n",
              "      <th>0</th>\n",
              "      <th>1</th>\n",
              "      <th>2</th>\n",
              "    </tr>\n",
              "  </thead>\n",
              "  <tbody>\n",
              "    <tr>\n",
              "      <th>0</th>\n",
              "      <td>1.0</td>\n",
              "      <td>6.5</td>\n",
              "      <td>3.0</td>\n",
              "    </tr>\n",
              "    <tr>\n",
              "      <th>1</th>\n",
              "      <td>1.0</td>\n",
              "      <td>NaN</td>\n",
              "      <td>NaN</td>\n",
              "    </tr>\n",
              "    <tr>\n",
              "      <th>2</th>\n",
              "      <td>NaN</td>\n",
              "      <td>NaN</td>\n",
              "      <td>NaN</td>\n",
              "    </tr>\n",
              "    <tr>\n",
              "      <th>3</th>\n",
              "      <td>NaN</td>\n",
              "      <td>6.5</td>\n",
              "      <td>3.0</td>\n",
              "    </tr>\n",
              "  </tbody>\n",
              "</table>\n",
              "</div>"
            ],
            "text/plain": [
              "     0    1    2\n",
              "0  1.0  6.5  3.0\n",
              "1  1.0  NaN  NaN\n",
              "2  NaN  NaN  NaN\n",
              "3  NaN  6.5  3.0"
            ]
          },
          "metadata": {},
          "execution_count": 475
        }
      ]
    },
    {
      "cell_type": "markdown",
      "metadata": {
        "id": "5uwlo3N7VtKX"
      },
      "source": [
        "A related way to filter out DataFrame rows tends to concern time series data\n",
        "\n",
        "Suppose you want to keep only rows containing a certain number of observations. You can indicate this with the thresh argument:"
      ]
    },
    {
      "cell_type": "code",
      "metadata": {
        "id": "5DP_E-tYV5hp"
      },
      "source": [
        "df = pd.DataFrame(np.random.randn(7, 3))"
      ],
      "execution_count": 476,
      "outputs": []
    },
    {
      "cell_type": "code",
      "metadata": {
        "id": "7NSh3nLoV8or"
      },
      "source": [
        "df.iloc[:4, 1] = NA"
      ],
      "execution_count": 477,
      "outputs": []
    },
    {
      "cell_type": "code",
      "metadata": {
        "id": "CF7urwKcWAVi"
      },
      "source": [
        "df.iloc[:2, 2] = NA"
      ],
      "execution_count": 478,
      "outputs": []
    },
    {
      "cell_type": "code",
      "metadata": {
        "colab": {
          "base_uri": "https://localhost:8080/",
          "height": 266
        },
        "id": "Xm4zFwsnWIXh",
        "outputId": "51274a51-f7e3-4a62-e716-e4e84525cdb6"
      },
      "source": [
        "df"
      ],
      "execution_count": 479,
      "outputs": [
        {
          "output_type": "execute_result",
          "data": {
            "text/html": [
              "<div>\n",
              "<style scoped>\n",
              "    .dataframe tbody tr th:only-of-type {\n",
              "        vertical-align: middle;\n",
              "    }\n",
              "\n",
              "    .dataframe tbody tr th {\n",
              "        vertical-align: top;\n",
              "    }\n",
              "\n",
              "    .dataframe thead th {\n",
              "        text-align: right;\n",
              "    }\n",
              "</style>\n",
              "<table border=\"1\" class=\"dataframe\">\n",
              "  <thead>\n",
              "    <tr style=\"text-align: right;\">\n",
              "      <th></th>\n",
              "      <th>0</th>\n",
              "      <th>1</th>\n",
              "      <th>2</th>\n",
              "    </tr>\n",
              "  </thead>\n",
              "  <tbody>\n",
              "    <tr>\n",
              "      <th>0</th>\n",
              "      <td>0.805598</td>\n",
              "      <td>NaN</td>\n",
              "      <td>NaN</td>\n",
              "    </tr>\n",
              "    <tr>\n",
              "      <th>1</th>\n",
              "      <td>0.690228</td>\n",
              "      <td>NaN</td>\n",
              "      <td>NaN</td>\n",
              "    </tr>\n",
              "    <tr>\n",
              "      <th>2</th>\n",
              "      <td>-0.435846</td>\n",
              "      <td>NaN</td>\n",
              "      <td>0.295062</td>\n",
              "    </tr>\n",
              "    <tr>\n",
              "      <th>3</th>\n",
              "      <td>-0.465821</td>\n",
              "      <td>NaN</td>\n",
              "      <td>1.513081</td>\n",
              "    </tr>\n",
              "    <tr>\n",
              "      <th>4</th>\n",
              "      <td>0.662444</td>\n",
              "      <td>-1.154032</td>\n",
              "      <td>0.318497</td>\n",
              "    </tr>\n",
              "    <tr>\n",
              "      <th>5</th>\n",
              "      <td>-0.704549</td>\n",
              "      <td>0.590201</td>\n",
              "      <td>-1.192582</td>\n",
              "    </tr>\n",
              "    <tr>\n",
              "      <th>6</th>\n",
              "      <td>-0.560851</td>\n",
              "      <td>1.051237</td>\n",
              "      <td>0.533652</td>\n",
              "    </tr>\n",
              "  </tbody>\n",
              "</table>\n",
              "</div>"
            ],
            "text/plain": [
              "          0         1         2\n",
              "0  0.805598       NaN       NaN\n",
              "1  0.690228       NaN       NaN\n",
              "2 -0.435846       NaN  0.295062\n",
              "3 -0.465821       NaN  1.513081\n",
              "4  0.662444 -1.154032  0.318497\n",
              "5 -0.704549  0.590201 -1.192582\n",
              "6 -0.560851  1.051237  0.533652"
            ]
          },
          "metadata": {},
          "execution_count": 479
        }
      ]
    },
    {
      "cell_type": "code",
      "metadata": {
        "colab": {
          "base_uri": "https://localhost:8080/",
          "height": 142
        },
        "id": "sPA4FRxeWNnH",
        "outputId": "ffdbaaca-7d13-44d9-8744-26e16fd3a4f8"
      },
      "source": [
        "df.dropna()"
      ],
      "execution_count": 480,
      "outputs": [
        {
          "output_type": "execute_result",
          "data": {
            "text/html": [
              "<div>\n",
              "<style scoped>\n",
              "    .dataframe tbody tr th:only-of-type {\n",
              "        vertical-align: middle;\n",
              "    }\n",
              "\n",
              "    .dataframe tbody tr th {\n",
              "        vertical-align: top;\n",
              "    }\n",
              "\n",
              "    .dataframe thead th {\n",
              "        text-align: right;\n",
              "    }\n",
              "</style>\n",
              "<table border=\"1\" class=\"dataframe\">\n",
              "  <thead>\n",
              "    <tr style=\"text-align: right;\">\n",
              "      <th></th>\n",
              "      <th>0</th>\n",
              "      <th>1</th>\n",
              "      <th>2</th>\n",
              "    </tr>\n",
              "  </thead>\n",
              "  <tbody>\n",
              "    <tr>\n",
              "      <th>4</th>\n",
              "      <td>0.662444</td>\n",
              "      <td>-1.154032</td>\n",
              "      <td>0.318497</td>\n",
              "    </tr>\n",
              "    <tr>\n",
              "      <th>5</th>\n",
              "      <td>-0.704549</td>\n",
              "      <td>0.590201</td>\n",
              "      <td>-1.192582</td>\n",
              "    </tr>\n",
              "    <tr>\n",
              "      <th>6</th>\n",
              "      <td>-0.560851</td>\n",
              "      <td>1.051237</td>\n",
              "      <td>0.533652</td>\n",
              "    </tr>\n",
              "  </tbody>\n",
              "</table>\n",
              "</div>"
            ],
            "text/plain": [
              "          0         1         2\n",
              "4  0.662444 -1.154032  0.318497\n",
              "5 -0.704549  0.590201 -1.192582\n",
              "6 -0.560851  1.051237  0.533652"
            ]
          },
          "metadata": {},
          "execution_count": 480
        }
      ]
    },
    {
      "cell_type": "code",
      "metadata": {
        "colab": {
          "base_uri": "https://localhost:8080/",
          "height": 204
        },
        "id": "r9Q_dx4WWRoc",
        "outputId": "32f371e6-26e6-4c9b-80da-70b5513437b2"
      },
      "source": [
        "df.dropna(thresh=2)"
      ],
      "execution_count": 481,
      "outputs": [
        {
          "output_type": "execute_result",
          "data": {
            "text/html": [
              "<div>\n",
              "<style scoped>\n",
              "    .dataframe tbody tr th:only-of-type {\n",
              "        vertical-align: middle;\n",
              "    }\n",
              "\n",
              "    .dataframe tbody tr th {\n",
              "        vertical-align: top;\n",
              "    }\n",
              "\n",
              "    .dataframe thead th {\n",
              "        text-align: right;\n",
              "    }\n",
              "</style>\n",
              "<table border=\"1\" class=\"dataframe\">\n",
              "  <thead>\n",
              "    <tr style=\"text-align: right;\">\n",
              "      <th></th>\n",
              "      <th>0</th>\n",
              "      <th>1</th>\n",
              "      <th>2</th>\n",
              "    </tr>\n",
              "  </thead>\n",
              "  <tbody>\n",
              "    <tr>\n",
              "      <th>2</th>\n",
              "      <td>-0.435846</td>\n",
              "      <td>NaN</td>\n",
              "      <td>0.295062</td>\n",
              "    </tr>\n",
              "    <tr>\n",
              "      <th>3</th>\n",
              "      <td>-0.465821</td>\n",
              "      <td>NaN</td>\n",
              "      <td>1.513081</td>\n",
              "    </tr>\n",
              "    <tr>\n",
              "      <th>4</th>\n",
              "      <td>0.662444</td>\n",
              "      <td>-1.154032</td>\n",
              "      <td>0.318497</td>\n",
              "    </tr>\n",
              "    <tr>\n",
              "      <th>5</th>\n",
              "      <td>-0.704549</td>\n",
              "      <td>0.590201</td>\n",
              "      <td>-1.192582</td>\n",
              "    </tr>\n",
              "    <tr>\n",
              "      <th>6</th>\n",
              "      <td>-0.560851</td>\n",
              "      <td>1.051237</td>\n",
              "      <td>0.533652</td>\n",
              "    </tr>\n",
              "  </tbody>\n",
              "</table>\n",
              "</div>"
            ],
            "text/plain": [
              "          0         1         2\n",
              "2 -0.435846       NaN  0.295062\n",
              "3 -0.465821       NaN  1.513081\n",
              "4  0.662444 -1.154032  0.318497\n",
              "5 -0.704549  0.590201 -1.192582\n",
              "6 -0.560851  1.051237  0.533652"
            ]
          },
          "metadata": {},
          "execution_count": 481
        }
      ]
    },
    {
      "cell_type": "markdown",
      "metadata": {
        "id": "A67vLIrNXEN7"
      },
      "source": [
        "## Filling In Missing Data"
      ]
    },
    {
      "cell_type": "markdown",
      "metadata": {
        "id": "2fhYjjvfXGXL"
      },
      "source": [
        "Rather than filtering out missing data (and potentially discarding other data along with it), you may want to fill in the “holes” in any number of ways\n",
        "\n",
        "For most purposes, **the fillna method is the workhorse function to use**\n",
        "\n",
        "Calling fillna with a constant replaces missing values with that value:"
      ]
    },
    {
      "cell_type": "code",
      "metadata": {
        "colab": {
          "base_uri": "https://localhost:8080/",
          "height": 266
        },
        "id": "jBiPpRt7Y9pZ",
        "outputId": "1ca6ce69-9562-40d2-eafb-b4917c7ed615"
      },
      "source": [
        "df.fillna(0)"
      ],
      "execution_count": 482,
      "outputs": [
        {
          "output_type": "execute_result",
          "data": {
            "text/html": [
              "<div>\n",
              "<style scoped>\n",
              "    .dataframe tbody tr th:only-of-type {\n",
              "        vertical-align: middle;\n",
              "    }\n",
              "\n",
              "    .dataframe tbody tr th {\n",
              "        vertical-align: top;\n",
              "    }\n",
              "\n",
              "    .dataframe thead th {\n",
              "        text-align: right;\n",
              "    }\n",
              "</style>\n",
              "<table border=\"1\" class=\"dataframe\">\n",
              "  <thead>\n",
              "    <tr style=\"text-align: right;\">\n",
              "      <th></th>\n",
              "      <th>0</th>\n",
              "      <th>1</th>\n",
              "      <th>2</th>\n",
              "    </tr>\n",
              "  </thead>\n",
              "  <tbody>\n",
              "    <tr>\n",
              "      <th>0</th>\n",
              "      <td>0.805598</td>\n",
              "      <td>0.000000</td>\n",
              "      <td>0.000000</td>\n",
              "    </tr>\n",
              "    <tr>\n",
              "      <th>1</th>\n",
              "      <td>0.690228</td>\n",
              "      <td>0.000000</td>\n",
              "      <td>0.000000</td>\n",
              "    </tr>\n",
              "    <tr>\n",
              "      <th>2</th>\n",
              "      <td>-0.435846</td>\n",
              "      <td>0.000000</td>\n",
              "      <td>0.295062</td>\n",
              "    </tr>\n",
              "    <tr>\n",
              "      <th>3</th>\n",
              "      <td>-0.465821</td>\n",
              "      <td>0.000000</td>\n",
              "      <td>1.513081</td>\n",
              "    </tr>\n",
              "    <tr>\n",
              "      <th>4</th>\n",
              "      <td>0.662444</td>\n",
              "      <td>-1.154032</td>\n",
              "      <td>0.318497</td>\n",
              "    </tr>\n",
              "    <tr>\n",
              "      <th>5</th>\n",
              "      <td>-0.704549</td>\n",
              "      <td>0.590201</td>\n",
              "      <td>-1.192582</td>\n",
              "    </tr>\n",
              "    <tr>\n",
              "      <th>6</th>\n",
              "      <td>-0.560851</td>\n",
              "      <td>1.051237</td>\n",
              "      <td>0.533652</td>\n",
              "    </tr>\n",
              "  </tbody>\n",
              "</table>\n",
              "</div>"
            ],
            "text/plain": [
              "          0         1         2\n",
              "0  0.805598  0.000000  0.000000\n",
              "1  0.690228  0.000000  0.000000\n",
              "2 -0.435846  0.000000  0.295062\n",
              "3 -0.465821  0.000000  1.513081\n",
              "4  0.662444 -1.154032  0.318497\n",
              "5 -0.704549  0.590201 -1.192582\n",
              "6 -0.560851  1.051237  0.533652"
            ]
          },
          "metadata": {},
          "execution_count": 482
        }
      ]
    },
    {
      "cell_type": "markdown",
      "metadata": {
        "id": "OHOhNGhMZDQW"
      },
      "source": [
        "Calling fillna with a dict, you can use a different fill value for each column:"
      ]
    },
    {
      "cell_type": "code",
      "metadata": {
        "colab": {
          "base_uri": "https://localhost:8080/",
          "height": 266
        },
        "id": "lecz00dYZC6x",
        "outputId": "32e604fa-e2aa-449f-a10e-da146f58e3fb"
      },
      "source": [
        "df.fillna({1: 0.5, 2: 0})"
      ],
      "execution_count": 483,
      "outputs": [
        {
          "output_type": "execute_result",
          "data": {
            "text/html": [
              "<div>\n",
              "<style scoped>\n",
              "    .dataframe tbody tr th:only-of-type {\n",
              "        vertical-align: middle;\n",
              "    }\n",
              "\n",
              "    .dataframe tbody tr th {\n",
              "        vertical-align: top;\n",
              "    }\n",
              "\n",
              "    .dataframe thead th {\n",
              "        text-align: right;\n",
              "    }\n",
              "</style>\n",
              "<table border=\"1\" class=\"dataframe\">\n",
              "  <thead>\n",
              "    <tr style=\"text-align: right;\">\n",
              "      <th></th>\n",
              "      <th>0</th>\n",
              "      <th>1</th>\n",
              "      <th>2</th>\n",
              "    </tr>\n",
              "  </thead>\n",
              "  <tbody>\n",
              "    <tr>\n",
              "      <th>0</th>\n",
              "      <td>0.805598</td>\n",
              "      <td>0.500000</td>\n",
              "      <td>0.000000</td>\n",
              "    </tr>\n",
              "    <tr>\n",
              "      <th>1</th>\n",
              "      <td>0.690228</td>\n",
              "      <td>0.500000</td>\n",
              "      <td>0.000000</td>\n",
              "    </tr>\n",
              "    <tr>\n",
              "      <th>2</th>\n",
              "      <td>-0.435846</td>\n",
              "      <td>0.500000</td>\n",
              "      <td>0.295062</td>\n",
              "    </tr>\n",
              "    <tr>\n",
              "      <th>3</th>\n",
              "      <td>-0.465821</td>\n",
              "      <td>0.500000</td>\n",
              "      <td>1.513081</td>\n",
              "    </tr>\n",
              "    <tr>\n",
              "      <th>4</th>\n",
              "      <td>0.662444</td>\n",
              "      <td>-1.154032</td>\n",
              "      <td>0.318497</td>\n",
              "    </tr>\n",
              "    <tr>\n",
              "      <th>5</th>\n",
              "      <td>-0.704549</td>\n",
              "      <td>0.590201</td>\n",
              "      <td>-1.192582</td>\n",
              "    </tr>\n",
              "    <tr>\n",
              "      <th>6</th>\n",
              "      <td>-0.560851</td>\n",
              "      <td>1.051237</td>\n",
              "      <td>0.533652</td>\n",
              "    </tr>\n",
              "  </tbody>\n",
              "</table>\n",
              "</div>"
            ],
            "text/plain": [
              "          0         1         2\n",
              "0  0.805598  0.500000  0.000000\n",
              "1  0.690228  0.500000  0.000000\n",
              "2 -0.435846  0.500000  0.295062\n",
              "3 -0.465821  0.500000  1.513081\n",
              "4  0.662444 -1.154032  0.318497\n",
              "5 -0.704549  0.590201 -1.192582\n",
              "6 -0.560851  1.051237  0.533652"
            ]
          },
          "metadata": {},
          "execution_count": 483
        }
      ]
    },
    {
      "cell_type": "markdown",
      "metadata": {
        "id": "C2JKO2eCZLy7"
      },
      "source": [
        "fillna returns a new object, but you can modify the existing object in-place:"
      ]
    },
    {
      "cell_type": "code",
      "metadata": {
        "id": "eVzRBjSmZNwe"
      },
      "source": [
        "_ = df.fillna(0, inplace=True)"
      ],
      "execution_count": 484,
      "outputs": []
    },
    {
      "cell_type": "code",
      "metadata": {
        "colab": {
          "base_uri": "https://localhost:8080/",
          "height": 266
        },
        "id": "rmt_UKLeZQcs",
        "outputId": "ac7cd049-b2b5-4880-fb15-21075ea7fbfe"
      },
      "source": [
        "df"
      ],
      "execution_count": 485,
      "outputs": [
        {
          "output_type": "execute_result",
          "data": {
            "text/html": [
              "<div>\n",
              "<style scoped>\n",
              "    .dataframe tbody tr th:only-of-type {\n",
              "        vertical-align: middle;\n",
              "    }\n",
              "\n",
              "    .dataframe tbody tr th {\n",
              "        vertical-align: top;\n",
              "    }\n",
              "\n",
              "    .dataframe thead th {\n",
              "        text-align: right;\n",
              "    }\n",
              "</style>\n",
              "<table border=\"1\" class=\"dataframe\">\n",
              "  <thead>\n",
              "    <tr style=\"text-align: right;\">\n",
              "      <th></th>\n",
              "      <th>0</th>\n",
              "      <th>1</th>\n",
              "      <th>2</th>\n",
              "    </tr>\n",
              "  </thead>\n",
              "  <tbody>\n",
              "    <tr>\n",
              "      <th>0</th>\n",
              "      <td>0.805598</td>\n",
              "      <td>0.000000</td>\n",
              "      <td>0.000000</td>\n",
              "    </tr>\n",
              "    <tr>\n",
              "      <th>1</th>\n",
              "      <td>0.690228</td>\n",
              "      <td>0.000000</td>\n",
              "      <td>0.000000</td>\n",
              "    </tr>\n",
              "    <tr>\n",
              "      <th>2</th>\n",
              "      <td>-0.435846</td>\n",
              "      <td>0.000000</td>\n",
              "      <td>0.295062</td>\n",
              "    </tr>\n",
              "    <tr>\n",
              "      <th>3</th>\n",
              "      <td>-0.465821</td>\n",
              "      <td>0.000000</td>\n",
              "      <td>1.513081</td>\n",
              "    </tr>\n",
              "    <tr>\n",
              "      <th>4</th>\n",
              "      <td>0.662444</td>\n",
              "      <td>-1.154032</td>\n",
              "      <td>0.318497</td>\n",
              "    </tr>\n",
              "    <tr>\n",
              "      <th>5</th>\n",
              "      <td>-0.704549</td>\n",
              "      <td>0.590201</td>\n",
              "      <td>-1.192582</td>\n",
              "    </tr>\n",
              "    <tr>\n",
              "      <th>6</th>\n",
              "      <td>-0.560851</td>\n",
              "      <td>1.051237</td>\n",
              "      <td>0.533652</td>\n",
              "    </tr>\n",
              "  </tbody>\n",
              "</table>\n",
              "</div>"
            ],
            "text/plain": [
              "          0         1         2\n",
              "0  0.805598  0.000000  0.000000\n",
              "1  0.690228  0.000000  0.000000\n",
              "2 -0.435846  0.000000  0.295062\n",
              "3 -0.465821  0.000000  1.513081\n",
              "4  0.662444 -1.154032  0.318497\n",
              "5 -0.704549  0.590201 -1.192582\n",
              "6 -0.560851  1.051237  0.533652"
            ]
          },
          "metadata": {},
          "execution_count": 485
        }
      ]
    },
    {
      "cell_type": "markdown",
      "metadata": {
        "id": "HeXZJUdWZT98"
      },
      "source": [
        "The same interpolation methods available for reindexing can be used with fillna:"
      ]
    },
    {
      "cell_type": "code",
      "metadata": {
        "id": "KmO7ZOToZWE1"
      },
      "source": [
        "df = pd.DataFrame(np.random.randn(6, 3))"
      ],
      "execution_count": 486,
      "outputs": []
    },
    {
      "cell_type": "code",
      "metadata": {
        "colab": {
          "base_uri": "https://localhost:8080/",
          "height": 235
        },
        "id": "VOduNwM0Zeq2",
        "outputId": "f05caf6a-a0be-461a-c0b8-6be06523da23"
      },
      "source": [
        "df"
      ],
      "execution_count": 487,
      "outputs": [
        {
          "output_type": "execute_result",
          "data": {
            "text/html": [
              "<div>\n",
              "<style scoped>\n",
              "    .dataframe tbody tr th:only-of-type {\n",
              "        vertical-align: middle;\n",
              "    }\n",
              "\n",
              "    .dataframe tbody tr th {\n",
              "        vertical-align: top;\n",
              "    }\n",
              "\n",
              "    .dataframe thead th {\n",
              "        text-align: right;\n",
              "    }\n",
              "</style>\n",
              "<table border=\"1\" class=\"dataframe\">\n",
              "  <thead>\n",
              "    <tr style=\"text-align: right;\">\n",
              "      <th></th>\n",
              "      <th>0</th>\n",
              "      <th>1</th>\n",
              "      <th>2</th>\n",
              "    </tr>\n",
              "  </thead>\n",
              "  <tbody>\n",
              "    <tr>\n",
              "      <th>0</th>\n",
              "      <td>0.282668</td>\n",
              "      <td>-0.779046</td>\n",
              "      <td>0.123671</td>\n",
              "    </tr>\n",
              "    <tr>\n",
              "      <th>1</th>\n",
              "      <td>0.374219</td>\n",
              "      <td>-0.856712</td>\n",
              "      <td>-0.210164</td>\n",
              "    </tr>\n",
              "    <tr>\n",
              "      <th>2</th>\n",
              "      <td>-1.198993</td>\n",
              "      <td>-1.376683</td>\n",
              "      <td>0.324627</td>\n",
              "    </tr>\n",
              "    <tr>\n",
              "      <th>3</th>\n",
              "      <td>-0.112781</td>\n",
              "      <td>-0.321285</td>\n",
              "      <td>1.040633</td>\n",
              "    </tr>\n",
              "    <tr>\n",
              "      <th>4</th>\n",
              "      <td>-0.575082</td>\n",
              "      <td>2.510140</td>\n",
              "      <td>-0.531395</td>\n",
              "    </tr>\n",
              "    <tr>\n",
              "      <th>5</th>\n",
              "      <td>-0.234213</td>\n",
              "      <td>-0.750339</td>\n",
              "      <td>-0.361803</td>\n",
              "    </tr>\n",
              "  </tbody>\n",
              "</table>\n",
              "</div>"
            ],
            "text/plain": [
              "          0         1         2\n",
              "0  0.282668 -0.779046  0.123671\n",
              "1  0.374219 -0.856712 -0.210164\n",
              "2 -1.198993 -1.376683  0.324627\n",
              "3 -0.112781 -0.321285  1.040633\n",
              "4 -0.575082  2.510140 -0.531395\n",
              "5 -0.234213 -0.750339 -0.361803"
            ]
          },
          "metadata": {},
          "execution_count": 487
        }
      ]
    },
    {
      "cell_type": "code",
      "metadata": {
        "id": "mdSX0GmQZaJX"
      },
      "source": [
        "df.iloc[2:, 1] = NA"
      ],
      "execution_count": 488,
      "outputs": []
    },
    {
      "cell_type": "code",
      "metadata": {
        "id": "jpHRqHiIZlrl"
      },
      "source": [
        "df.iloc[4:, 2] = NA"
      ],
      "execution_count": 489,
      "outputs": []
    },
    {
      "cell_type": "code",
      "metadata": {
        "colab": {
          "base_uri": "https://localhost:8080/",
          "height": 235
        },
        "id": "p5Fjbkf0ZytH",
        "outputId": "84da5013-c5c6-4ffd-fbc7-287c4d91831a"
      },
      "source": [
        "df"
      ],
      "execution_count": 490,
      "outputs": [
        {
          "output_type": "execute_result",
          "data": {
            "text/html": [
              "<div>\n",
              "<style scoped>\n",
              "    .dataframe tbody tr th:only-of-type {\n",
              "        vertical-align: middle;\n",
              "    }\n",
              "\n",
              "    .dataframe tbody tr th {\n",
              "        vertical-align: top;\n",
              "    }\n",
              "\n",
              "    .dataframe thead th {\n",
              "        text-align: right;\n",
              "    }\n",
              "</style>\n",
              "<table border=\"1\" class=\"dataframe\">\n",
              "  <thead>\n",
              "    <tr style=\"text-align: right;\">\n",
              "      <th></th>\n",
              "      <th>0</th>\n",
              "      <th>1</th>\n",
              "      <th>2</th>\n",
              "    </tr>\n",
              "  </thead>\n",
              "  <tbody>\n",
              "    <tr>\n",
              "      <th>0</th>\n",
              "      <td>0.282668</td>\n",
              "      <td>-0.779046</td>\n",
              "      <td>0.123671</td>\n",
              "    </tr>\n",
              "    <tr>\n",
              "      <th>1</th>\n",
              "      <td>0.374219</td>\n",
              "      <td>-0.856712</td>\n",
              "      <td>-0.210164</td>\n",
              "    </tr>\n",
              "    <tr>\n",
              "      <th>2</th>\n",
              "      <td>-1.198993</td>\n",
              "      <td>NaN</td>\n",
              "      <td>0.324627</td>\n",
              "    </tr>\n",
              "    <tr>\n",
              "      <th>3</th>\n",
              "      <td>-0.112781</td>\n",
              "      <td>NaN</td>\n",
              "      <td>1.040633</td>\n",
              "    </tr>\n",
              "    <tr>\n",
              "      <th>4</th>\n",
              "      <td>-0.575082</td>\n",
              "      <td>NaN</td>\n",
              "      <td>NaN</td>\n",
              "    </tr>\n",
              "    <tr>\n",
              "      <th>5</th>\n",
              "      <td>-0.234213</td>\n",
              "      <td>NaN</td>\n",
              "      <td>NaN</td>\n",
              "    </tr>\n",
              "  </tbody>\n",
              "</table>\n",
              "</div>"
            ],
            "text/plain": [
              "          0         1         2\n",
              "0  0.282668 -0.779046  0.123671\n",
              "1  0.374219 -0.856712 -0.210164\n",
              "2 -1.198993       NaN  0.324627\n",
              "3 -0.112781       NaN  1.040633\n",
              "4 -0.575082       NaN       NaN\n",
              "5 -0.234213       NaN       NaN"
            ]
          },
          "metadata": {},
          "execution_count": 490
        }
      ]
    },
    {
      "cell_type": "code",
      "metadata": {
        "colab": {
          "base_uri": "https://localhost:8080/",
          "height": 235
        },
        "id": "oTZvF2oaZzkL",
        "outputId": "3e6c156f-10ea-4296-f894-c74debd333dc"
      },
      "source": [
        "df.fillna(method='ffill')"
      ],
      "execution_count": 491,
      "outputs": [
        {
          "output_type": "execute_result",
          "data": {
            "text/html": [
              "<div>\n",
              "<style scoped>\n",
              "    .dataframe tbody tr th:only-of-type {\n",
              "        vertical-align: middle;\n",
              "    }\n",
              "\n",
              "    .dataframe tbody tr th {\n",
              "        vertical-align: top;\n",
              "    }\n",
              "\n",
              "    .dataframe thead th {\n",
              "        text-align: right;\n",
              "    }\n",
              "</style>\n",
              "<table border=\"1\" class=\"dataframe\">\n",
              "  <thead>\n",
              "    <tr style=\"text-align: right;\">\n",
              "      <th></th>\n",
              "      <th>0</th>\n",
              "      <th>1</th>\n",
              "      <th>2</th>\n",
              "    </tr>\n",
              "  </thead>\n",
              "  <tbody>\n",
              "    <tr>\n",
              "      <th>0</th>\n",
              "      <td>0.282668</td>\n",
              "      <td>-0.779046</td>\n",
              "      <td>0.123671</td>\n",
              "    </tr>\n",
              "    <tr>\n",
              "      <th>1</th>\n",
              "      <td>0.374219</td>\n",
              "      <td>-0.856712</td>\n",
              "      <td>-0.210164</td>\n",
              "    </tr>\n",
              "    <tr>\n",
              "      <th>2</th>\n",
              "      <td>-1.198993</td>\n",
              "      <td>-0.856712</td>\n",
              "      <td>0.324627</td>\n",
              "    </tr>\n",
              "    <tr>\n",
              "      <th>3</th>\n",
              "      <td>-0.112781</td>\n",
              "      <td>-0.856712</td>\n",
              "      <td>1.040633</td>\n",
              "    </tr>\n",
              "    <tr>\n",
              "      <th>4</th>\n",
              "      <td>-0.575082</td>\n",
              "      <td>-0.856712</td>\n",
              "      <td>1.040633</td>\n",
              "    </tr>\n",
              "    <tr>\n",
              "      <th>5</th>\n",
              "      <td>-0.234213</td>\n",
              "      <td>-0.856712</td>\n",
              "      <td>1.040633</td>\n",
              "    </tr>\n",
              "  </tbody>\n",
              "</table>\n",
              "</div>"
            ],
            "text/plain": [
              "          0         1         2\n",
              "0  0.282668 -0.779046  0.123671\n",
              "1  0.374219 -0.856712 -0.210164\n",
              "2 -1.198993 -0.856712  0.324627\n",
              "3 -0.112781 -0.856712  1.040633\n",
              "4 -0.575082 -0.856712  1.040633\n",
              "5 -0.234213 -0.856712  1.040633"
            ]
          },
          "metadata": {},
          "execution_count": 491
        }
      ]
    },
    {
      "cell_type": "code",
      "metadata": {
        "colab": {
          "base_uri": "https://localhost:8080/",
          "height": 235
        },
        "id": "nXUH2B59Z5zQ",
        "outputId": "0d6d6afb-a853-43b2-f497-08d845c41512"
      },
      "source": [
        "df.fillna(method='ffill', limit=2)"
      ],
      "execution_count": 492,
      "outputs": [
        {
          "output_type": "execute_result",
          "data": {
            "text/html": [
              "<div>\n",
              "<style scoped>\n",
              "    .dataframe tbody tr th:only-of-type {\n",
              "        vertical-align: middle;\n",
              "    }\n",
              "\n",
              "    .dataframe tbody tr th {\n",
              "        vertical-align: top;\n",
              "    }\n",
              "\n",
              "    .dataframe thead th {\n",
              "        text-align: right;\n",
              "    }\n",
              "</style>\n",
              "<table border=\"1\" class=\"dataframe\">\n",
              "  <thead>\n",
              "    <tr style=\"text-align: right;\">\n",
              "      <th></th>\n",
              "      <th>0</th>\n",
              "      <th>1</th>\n",
              "      <th>2</th>\n",
              "    </tr>\n",
              "  </thead>\n",
              "  <tbody>\n",
              "    <tr>\n",
              "      <th>0</th>\n",
              "      <td>0.282668</td>\n",
              "      <td>-0.779046</td>\n",
              "      <td>0.123671</td>\n",
              "    </tr>\n",
              "    <tr>\n",
              "      <th>1</th>\n",
              "      <td>0.374219</td>\n",
              "      <td>-0.856712</td>\n",
              "      <td>-0.210164</td>\n",
              "    </tr>\n",
              "    <tr>\n",
              "      <th>2</th>\n",
              "      <td>-1.198993</td>\n",
              "      <td>-0.856712</td>\n",
              "      <td>0.324627</td>\n",
              "    </tr>\n",
              "    <tr>\n",
              "      <th>3</th>\n",
              "      <td>-0.112781</td>\n",
              "      <td>-0.856712</td>\n",
              "      <td>1.040633</td>\n",
              "    </tr>\n",
              "    <tr>\n",
              "      <th>4</th>\n",
              "      <td>-0.575082</td>\n",
              "      <td>NaN</td>\n",
              "      <td>1.040633</td>\n",
              "    </tr>\n",
              "    <tr>\n",
              "      <th>5</th>\n",
              "      <td>-0.234213</td>\n",
              "      <td>NaN</td>\n",
              "      <td>1.040633</td>\n",
              "    </tr>\n",
              "  </tbody>\n",
              "</table>\n",
              "</div>"
            ],
            "text/plain": [
              "          0         1         2\n",
              "0  0.282668 -0.779046  0.123671\n",
              "1  0.374219 -0.856712 -0.210164\n",
              "2 -1.198993 -0.856712  0.324627\n",
              "3 -0.112781 -0.856712  1.040633\n",
              "4 -0.575082       NaN  1.040633\n",
              "5 -0.234213       NaN  1.040633"
            ]
          },
          "metadata": {},
          "execution_count": 492
        }
      ]
    },
    {
      "cell_type": "markdown",
      "metadata": {
        "id": "wtklBgLVaAIG"
      },
      "source": [
        "With fillna you can do lots of other things with a little creativity. For example, **you might pass the mean or median value of a Series:**"
      ]
    },
    {
      "cell_type": "code",
      "metadata": {
        "id": "TO5Yt2yxaFUu"
      },
      "source": [
        "data = pd.Series([1., NA, 3.5, NA, 7])"
      ],
      "execution_count": 493,
      "outputs": []
    },
    {
      "cell_type": "code",
      "metadata": {
        "colab": {
          "base_uri": "https://localhost:8080/"
        },
        "id": "L0X1f8K9aJVD",
        "outputId": "9c352708-ff52-4827-cfc2-d03fc17c86e4"
      },
      "source": [
        "data.fillna(data.mean())"
      ],
      "execution_count": 494,
      "outputs": [
        {
          "output_type": "execute_result",
          "data": {
            "text/plain": [
              "0    1.000000\n",
              "1    3.833333\n",
              "2    3.500000\n",
              "3    3.833333\n",
              "4    7.000000\n",
              "dtype: float64"
            ]
          },
          "metadata": {},
          "execution_count": 494
        }
      ]
    },
    {
      "cell_type": "markdown",
      "metadata": {
        "id": "bSmT1YCkaMo1"
      },
      "source": [
        "See Table 7-2 for a reference on fillna"
      ]
    },
    {
      "cell_type": "markdown",
      "metadata": {
        "id": "J4lFmuntaO7H"
      },
      "source": [
        "Table 7-2. illna function arguments\n",
        "<p align='center'>\n",
        "<img src='data:image/png;base64,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'>\n",
        "</p>"
      ]
    },
    {
      "cell_type": "markdown",
      "metadata": {
        "id": "eaJs_wqaacvs"
      },
      "source": [
        "# 7.2 Data Transformation"
      ]
    },
    {
      "cell_type": "markdown",
      "metadata": {
        "id": "Uq3_7cHsafR0"
      },
      "source": [
        "## Removing Duplicates"
      ]
    },
    {
      "cell_type": "markdown",
      "metadata": {
        "id": "TkFWW2L-agYk"
      },
      "source": [
        "Duplicate rows may be found in a DataFrame for any number of reasons. Here is an example:"
      ]
    },
    {
      "cell_type": "code",
      "metadata": {
        "id": "7H6RqmRHaOkD"
      },
      "source": [
        "data = pd.DataFrame({'k1': ['one', 'two'] * 3 + ['two'],\n",
        "                     'k2': [1, 1, 2, 3, 3, 4, 4]})"
      ],
      "execution_count": 495,
      "outputs": []
    },
    {
      "cell_type": "code",
      "metadata": {
        "colab": {
          "base_uri": "https://localhost:8080/",
          "height": 266
        },
        "id": "oQ0_iqaUau6A",
        "outputId": "e2390d18-f583-458f-eec6-78abc722d429"
      },
      "source": [
        "data"
      ],
      "execution_count": 496,
      "outputs": [
        {
          "output_type": "execute_result",
          "data": {
            "text/html": [
              "<div>\n",
              "<style scoped>\n",
              "    .dataframe tbody tr th:only-of-type {\n",
              "        vertical-align: middle;\n",
              "    }\n",
              "\n",
              "    .dataframe tbody tr th {\n",
              "        vertical-align: top;\n",
              "    }\n",
              "\n",
              "    .dataframe thead th {\n",
              "        text-align: right;\n",
              "    }\n",
              "</style>\n",
              "<table border=\"1\" class=\"dataframe\">\n",
              "  <thead>\n",
              "    <tr style=\"text-align: right;\">\n",
              "      <th></th>\n",
              "      <th>k1</th>\n",
              "      <th>k2</th>\n",
              "    </tr>\n",
              "  </thead>\n",
              "  <tbody>\n",
              "    <tr>\n",
              "      <th>0</th>\n",
              "      <td>one</td>\n",
              "      <td>1</td>\n",
              "    </tr>\n",
              "    <tr>\n",
              "      <th>1</th>\n",
              "      <td>two</td>\n",
              "      <td>1</td>\n",
              "    </tr>\n",
              "    <tr>\n",
              "      <th>2</th>\n",
              "      <td>one</td>\n",
              "      <td>2</td>\n",
              "    </tr>\n",
              "    <tr>\n",
              "      <th>3</th>\n",
              "      <td>two</td>\n",
              "      <td>3</td>\n",
              "    </tr>\n",
              "    <tr>\n",
              "      <th>4</th>\n",
              "      <td>one</td>\n",
              "      <td>3</td>\n",
              "    </tr>\n",
              "    <tr>\n",
              "      <th>5</th>\n",
              "      <td>two</td>\n",
              "      <td>4</td>\n",
              "    </tr>\n",
              "    <tr>\n",
              "      <th>6</th>\n",
              "      <td>two</td>\n",
              "      <td>4</td>\n",
              "    </tr>\n",
              "  </tbody>\n",
              "</table>\n",
              "</div>"
            ],
            "text/plain": [
              "    k1  k2\n",
              "0  one   1\n",
              "1  two   1\n",
              "2  one   2\n",
              "3  two   3\n",
              "4  one   3\n",
              "5  two   4\n",
              "6  two   4"
            ]
          },
          "metadata": {},
          "execution_count": 496
        }
      ]
    },
    {
      "cell_type": "markdown",
      "metadata": {
        "id": "qM1kV0z-awZ8"
      },
      "source": [
        "The DataFrame method duplicated returns a boolean Series indicating **whether each row is a duplicate (has been observed in a previous row) or not:**"
      ]
    },
    {
      "cell_type": "code",
      "metadata": {
        "colab": {
          "base_uri": "https://localhost:8080/"
        },
        "id": "SFY312jdawFu",
        "outputId": "68e5c100-500a-4490-8014-75b1af039cc2"
      },
      "source": [
        "data.duplicated()"
      ],
      "execution_count": 497,
      "outputs": [
        {
          "output_type": "execute_result",
          "data": {
            "text/plain": [
              "0    False\n",
              "1    False\n",
              "2    False\n",
              "3    False\n",
              "4    False\n",
              "5    False\n",
              "6     True\n",
              "dtype: bool"
            ]
          },
          "metadata": {},
          "execution_count": 497
        }
      ]
    },
    {
      "cell_type": "markdown",
      "metadata": {
        "id": "f1iiutRBa8g5"
      },
      "source": [
        "Relatedly, drop_duplicates returns a DataFrame where the duplicated array is False:"
      ]
    },
    {
      "cell_type": "code",
      "metadata": {
        "colab": {
          "base_uri": "https://localhost:8080/",
          "height": 235
        },
        "id": "VCDZzm8gbsV-",
        "outputId": "8950d876-6cd2-43e9-9725-87c266aedfe2"
      },
      "source": [
        "data.drop_duplicates()"
      ],
      "execution_count": 498,
      "outputs": [
        {
          "output_type": "execute_result",
          "data": {
            "text/html": [
              "<div>\n",
              "<style scoped>\n",
              "    .dataframe tbody tr th:only-of-type {\n",
              "        vertical-align: middle;\n",
              "    }\n",
              "\n",
              "    .dataframe tbody tr th {\n",
              "        vertical-align: top;\n",
              "    }\n",
              "\n",
              "    .dataframe thead th {\n",
              "        text-align: right;\n",
              "    }\n",
              "</style>\n",
              "<table border=\"1\" class=\"dataframe\">\n",
              "  <thead>\n",
              "    <tr style=\"text-align: right;\">\n",
              "      <th></th>\n",
              "      <th>k1</th>\n",
              "      <th>k2</th>\n",
              "    </tr>\n",
              "  </thead>\n",
              "  <tbody>\n",
              "    <tr>\n",
              "      <th>0</th>\n",
              "      <td>one</td>\n",
              "      <td>1</td>\n",
              "    </tr>\n",
              "    <tr>\n",
              "      <th>1</th>\n",
              "      <td>two</td>\n",
              "      <td>1</td>\n",
              "    </tr>\n",
              "    <tr>\n",
              "      <th>2</th>\n",
              "      <td>one</td>\n",
              "      <td>2</td>\n",
              "    </tr>\n",
              "    <tr>\n",
              "      <th>3</th>\n",
              "      <td>two</td>\n",
              "      <td>3</td>\n",
              "    </tr>\n",
              "    <tr>\n",
              "      <th>4</th>\n",
              "      <td>one</td>\n",
              "      <td>3</td>\n",
              "    </tr>\n",
              "    <tr>\n",
              "      <th>5</th>\n",
              "      <td>two</td>\n",
              "      <td>4</td>\n",
              "    </tr>\n",
              "  </tbody>\n",
              "</table>\n",
              "</div>"
            ],
            "text/plain": [
              "    k1  k2\n",
              "0  one   1\n",
              "1  two   1\n",
              "2  one   2\n",
              "3  two   3\n",
              "4  one   3\n",
              "5  two   4"
            ]
          },
          "metadata": {},
          "execution_count": 498
        }
      ]
    },
    {
      "cell_type": "markdown",
      "metadata": {
        "id": "tVidzacebyMD"
      },
      "source": [
        "Both of these methods by default consider all of the columns; alternatively, **you can specify any subset of them to detect duplicates**\n",
        "\n",
        "Suppose we had an additional column of values and wanted to filter duplicates only based on the 'k1' column:"
      ]
    },
    {
      "cell_type": "code",
      "metadata": {
        "id": "7rUUl3I8H88J"
      },
      "source": [
        "data['v1'] = range(7)"
      ],
      "execution_count": 499,
      "outputs": []
    },
    {
      "cell_type": "code",
      "metadata": {
        "colab": {
          "base_uri": "https://localhost:8080/",
          "height": 266
        },
        "id": "5DZIDwxxIby-",
        "outputId": "e90f9f7b-6bbc-41db-ba3b-ba3ec4f75b1b"
      },
      "source": [
        "data"
      ],
      "execution_count": 500,
      "outputs": [
        {
          "output_type": "execute_result",
          "data": {
            "text/html": [
              "<div>\n",
              "<style scoped>\n",
              "    .dataframe tbody tr th:only-of-type {\n",
              "        vertical-align: middle;\n",
              "    }\n",
              "\n",
              "    .dataframe tbody tr th {\n",
              "        vertical-align: top;\n",
              "    }\n",
              "\n",
              "    .dataframe thead th {\n",
              "        text-align: right;\n",
              "    }\n",
              "</style>\n",
              "<table border=\"1\" class=\"dataframe\">\n",
              "  <thead>\n",
              "    <tr style=\"text-align: right;\">\n",
              "      <th></th>\n",
              "      <th>k1</th>\n",
              "      <th>k2</th>\n",
              "      <th>v1</th>\n",
              "    </tr>\n",
              "  </thead>\n",
              "  <tbody>\n",
              "    <tr>\n",
              "      <th>0</th>\n",
              "      <td>one</td>\n",
              "      <td>1</td>\n",
              "      <td>0</td>\n",
              "    </tr>\n",
              "    <tr>\n",
              "      <th>1</th>\n",
              "      <td>two</td>\n",
              "      <td>1</td>\n",
              "      <td>1</td>\n",
              "    </tr>\n",
              "    <tr>\n",
              "      <th>2</th>\n",
              "      <td>one</td>\n",
              "      <td>2</td>\n",
              "      <td>2</td>\n",
              "    </tr>\n",
              "    <tr>\n",
              "      <th>3</th>\n",
              "      <td>two</td>\n",
              "      <td>3</td>\n",
              "      <td>3</td>\n",
              "    </tr>\n",
              "    <tr>\n",
              "      <th>4</th>\n",
              "      <td>one</td>\n",
              "      <td>3</td>\n",
              "      <td>4</td>\n",
              "    </tr>\n",
              "    <tr>\n",
              "      <th>5</th>\n",
              "      <td>two</td>\n",
              "      <td>4</td>\n",
              "      <td>5</td>\n",
              "    </tr>\n",
              "    <tr>\n",
              "      <th>6</th>\n",
              "      <td>two</td>\n",
              "      <td>4</td>\n",
              "      <td>6</td>\n",
              "    </tr>\n",
              "  </tbody>\n",
              "</table>\n",
              "</div>"
            ],
            "text/plain": [
              "    k1  k2  v1\n",
              "0  one   1   0\n",
              "1  two   1   1\n",
              "2  one   2   2\n",
              "3  two   3   3\n",
              "4  one   3   4\n",
              "5  two   4   5\n",
              "6  two   4   6"
            ]
          },
          "metadata": {},
          "execution_count": 500
        }
      ]
    },
    {
      "cell_type": "code",
      "metadata": {
        "colab": {
          "base_uri": "https://localhost:8080/",
          "height": 111
        },
        "id": "qAVc9hw0H_pu",
        "outputId": "fdc98d64-c479-4ec8-d63b-d583158d0754"
      },
      "source": [
        "data.drop_duplicates(['k1'])"
      ],
      "execution_count": 501,
      "outputs": [
        {
          "output_type": "execute_result",
          "data": {
            "text/html": [
              "<div>\n",
              "<style scoped>\n",
              "    .dataframe tbody tr th:only-of-type {\n",
              "        vertical-align: middle;\n",
              "    }\n",
              "\n",
              "    .dataframe tbody tr th {\n",
              "        vertical-align: top;\n",
              "    }\n",
              "\n",
              "    .dataframe thead th {\n",
              "        text-align: right;\n",
              "    }\n",
              "</style>\n",
              "<table border=\"1\" class=\"dataframe\">\n",
              "  <thead>\n",
              "    <tr style=\"text-align: right;\">\n",
              "      <th></th>\n",
              "      <th>k1</th>\n",
              "      <th>k2</th>\n",
              "      <th>v1</th>\n",
              "    </tr>\n",
              "  </thead>\n",
              "  <tbody>\n",
              "    <tr>\n",
              "      <th>0</th>\n",
              "      <td>one</td>\n",
              "      <td>1</td>\n",
              "      <td>0</td>\n",
              "    </tr>\n",
              "    <tr>\n",
              "      <th>1</th>\n",
              "      <td>two</td>\n",
              "      <td>1</td>\n",
              "      <td>1</td>\n",
              "    </tr>\n",
              "  </tbody>\n",
              "</table>\n",
              "</div>"
            ],
            "text/plain": [
              "    k1  k2  v1\n",
              "0  one   1   0\n",
              "1  two   1   1"
            ]
          },
          "metadata": {},
          "execution_count": 501
        }
      ]
    },
    {
      "cell_type": "markdown",
      "metadata": {
        "id": "dU3_VstIIUZr"
      },
      "source": [
        "duplicated and drop_duplicates by default keep the first observed value combination\n",
        "\n",
        "Passing keep='last' will return the last one:"
      ]
    },
    {
      "cell_type": "code",
      "metadata": {
        "colab": {
          "base_uri": "https://localhost:8080/",
          "height": 235
        },
        "id": "g58aNXuoIK0r",
        "outputId": "d4550eeb-6a65-4bd4-a02f-d5dd32d18ef3"
      },
      "source": [
        "data.drop_duplicates(['k1', 'k2'], keep='last')"
      ],
      "execution_count": 502,
      "outputs": [
        {
          "output_type": "execute_result",
          "data": {
            "text/html": [
              "<div>\n",
              "<style scoped>\n",
              "    .dataframe tbody tr th:only-of-type {\n",
              "        vertical-align: middle;\n",
              "    }\n",
              "\n",
              "    .dataframe tbody tr th {\n",
              "        vertical-align: top;\n",
              "    }\n",
              "\n",
              "    .dataframe thead th {\n",
              "        text-align: right;\n",
              "    }\n",
              "</style>\n",
              "<table border=\"1\" class=\"dataframe\">\n",
              "  <thead>\n",
              "    <tr style=\"text-align: right;\">\n",
              "      <th></th>\n",
              "      <th>k1</th>\n",
              "      <th>k2</th>\n",
              "      <th>v1</th>\n",
              "    </tr>\n",
              "  </thead>\n",
              "  <tbody>\n",
              "    <tr>\n",
              "      <th>0</th>\n",
              "      <td>one</td>\n",
              "      <td>1</td>\n",
              "      <td>0</td>\n",
              "    </tr>\n",
              "    <tr>\n",
              "      <th>1</th>\n",
              "      <td>two</td>\n",
              "      <td>1</td>\n",
              "      <td>1</td>\n",
              "    </tr>\n",
              "    <tr>\n",
              "      <th>2</th>\n",
              "      <td>one</td>\n",
              "      <td>2</td>\n",
              "      <td>2</td>\n",
              "    </tr>\n",
              "    <tr>\n",
              "      <th>3</th>\n",
              "      <td>two</td>\n",
              "      <td>3</td>\n",
              "      <td>3</td>\n",
              "    </tr>\n",
              "    <tr>\n",
              "      <th>4</th>\n",
              "      <td>one</td>\n",
              "      <td>3</td>\n",
              "      <td>4</td>\n",
              "    </tr>\n",
              "    <tr>\n",
              "      <th>6</th>\n",
              "      <td>two</td>\n",
              "      <td>4</td>\n",
              "      <td>6</td>\n",
              "    </tr>\n",
              "  </tbody>\n",
              "</table>\n",
              "</div>"
            ],
            "text/plain": [
              "    k1  k2  v1\n",
              "0  one   1   0\n",
              "1  two   1   1\n",
              "2  one   2   2\n",
              "3  two   3   3\n",
              "4  one   3   4\n",
              "6  two   4   6"
            ]
          },
          "metadata": {},
          "execution_count": 502
        }
      ]
    },
    {
      "cell_type": "markdown",
      "metadata": {
        "id": "Qv1VwFlNJFZp"
      },
      "source": [
        "## Transforming Data Using a Function or Mapping"
      ]
    },
    {
      "cell_type": "markdown",
      "metadata": {
        "id": "0o_eQbfqJHyB"
      },
      "source": [
        "For many datasets, you may wish to perform some transformation based on the values in an array, Series, or column in a DataFrame\n",
        "\n",
        "Consider the following hypothetical data collected about various kinds of meat:"
      ]
    },
    {
      "cell_type": "code",
      "metadata": {
        "id": "K6NeboScJgMB"
      },
      "source": [
        "data = pd.DataFrame({'food': ['bacon', 'pulled pork', 'bacon',\n",
        "                              'Pastrami', 'corned beef', 'Bacon',\n",
        "                              'pastrami', 'honey ham', 'nova lox'],\n",
        "                              'ounces': [4, 3, 12, 6, 7.5, 8, 3, 5, 6]})"
      ],
      "execution_count": 503,
      "outputs": []
    },
    {
      "cell_type": "code",
      "metadata": {
        "colab": {
          "base_uri": "https://localhost:8080/",
          "height": 328
        },
        "id": "2-TcXPfgJqW4",
        "outputId": "85e0bc2a-3652-4d31-c64c-dc9a36c3005b"
      },
      "source": [
        "data"
      ],
      "execution_count": 504,
      "outputs": [
        {
          "output_type": "execute_result",
          "data": {
            "text/html": [
              "<div>\n",
              "<style scoped>\n",
              "    .dataframe tbody tr th:only-of-type {\n",
              "        vertical-align: middle;\n",
              "    }\n",
              "\n",
              "    .dataframe tbody tr th {\n",
              "        vertical-align: top;\n",
              "    }\n",
              "\n",
              "    .dataframe thead th {\n",
              "        text-align: right;\n",
              "    }\n",
              "</style>\n",
              "<table border=\"1\" class=\"dataframe\">\n",
              "  <thead>\n",
              "    <tr style=\"text-align: right;\">\n",
              "      <th></th>\n",
              "      <th>food</th>\n",
              "      <th>ounces</th>\n",
              "    </tr>\n",
              "  </thead>\n",
              "  <tbody>\n",
              "    <tr>\n",
              "      <th>0</th>\n",
              "      <td>bacon</td>\n",
              "      <td>4.0</td>\n",
              "    </tr>\n",
              "    <tr>\n",
              "      <th>1</th>\n",
              "      <td>pulled pork</td>\n",
              "      <td>3.0</td>\n",
              "    </tr>\n",
              "    <tr>\n",
              "      <th>2</th>\n",
              "      <td>bacon</td>\n",
              "      <td>12.0</td>\n",
              "    </tr>\n",
              "    <tr>\n",
              "      <th>3</th>\n",
              "      <td>Pastrami</td>\n",
              "      <td>6.0</td>\n",
              "    </tr>\n",
              "    <tr>\n",
              "      <th>4</th>\n",
              "      <td>corned beef</td>\n",
              "      <td>7.5</td>\n",
              "    </tr>\n",
              "    <tr>\n",
              "      <th>5</th>\n",
              "      <td>Bacon</td>\n",
              "      <td>8.0</td>\n",
              "    </tr>\n",
              "    <tr>\n",
              "      <th>6</th>\n",
              "      <td>pastrami</td>\n",
              "      <td>3.0</td>\n",
              "    </tr>\n",
              "    <tr>\n",
              "      <th>7</th>\n",
              "      <td>honey ham</td>\n",
              "      <td>5.0</td>\n",
              "    </tr>\n",
              "    <tr>\n",
              "      <th>8</th>\n",
              "      <td>nova lox</td>\n",
              "      <td>6.0</td>\n",
              "    </tr>\n",
              "  </tbody>\n",
              "</table>\n",
              "</div>"
            ],
            "text/plain": [
              "          food  ounces\n",
              "0        bacon     4.0\n",
              "1  pulled pork     3.0\n",
              "2        bacon    12.0\n",
              "3     Pastrami     6.0\n",
              "4  corned beef     7.5\n",
              "5        Bacon     8.0\n",
              "6     pastrami     3.0\n",
              "7    honey ham     5.0\n",
              "8     nova lox     6.0"
            ]
          },
          "metadata": {},
          "execution_count": 504
        }
      ]
    },
    {
      "cell_type": "markdown",
      "metadata": {
        "id": "Eo0wdTYBJxKY"
      },
      "source": [
        "Suppose you wanted to add a column indicating the type of animal that each food came from\n",
        "\n",
        "Let’s write down a mapping of each distinct meat type to the kind of animal:"
      ]
    },
    {
      "cell_type": "code",
      "metadata": {
        "id": "yUb5BsFkJ_mo"
      },
      "source": [
        "meat_to_animal = {\n",
        "  'bacon': 'pig',\n",
        "  'pulled pork': 'pig',\n",
        "  'pastrami': 'cow',\n",
        "  'corned beef': 'cow',\n",
        "  'honey ham': 'pig',\n",
        "  'nova lox': 'salmon'\n",
        "}"
      ],
      "execution_count": 505,
      "outputs": []
    },
    {
      "cell_type": "markdown",
      "metadata": {
        "id": "ZJ42yK61KTFa"
      },
      "source": [
        "**The map method on a Series accepts a function or dict-like object containing a mapping**, but here we have a small problem in that some of the meats are capitalized and others are not\n",
        "\n",
        "Thus, we need to **convert each value to lowercase using the str.lower Series method:**"
      ]
    },
    {
      "cell_type": "code",
      "metadata": {
        "id": "A6W1Zd8_KeBZ"
      },
      "source": [
        "lowercased = data['food'].str.lower()"
      ],
      "execution_count": 506,
      "outputs": []
    },
    {
      "cell_type": "code",
      "metadata": {
        "colab": {
          "base_uri": "https://localhost:8080/"
        },
        "id": "_2igZQ1yKwjR",
        "outputId": "26871230-3523-41e1-e297-f051c6352af1"
      },
      "source": [
        "lowercased"
      ],
      "execution_count": 507,
      "outputs": [
        {
          "output_type": "execute_result",
          "data": {
            "text/plain": [
              "0          bacon\n",
              "1    pulled pork\n",
              "2          bacon\n",
              "3       pastrami\n",
              "4    corned beef\n",
              "5          bacon\n",
              "6       pastrami\n",
              "7      honey ham\n",
              "8       nova lox\n",
              "Name: food, dtype: object"
            ]
          },
          "metadata": {},
          "execution_count": 507
        }
      ]
    },
    {
      "cell_type": "code",
      "metadata": {
        "id": "feDHq-zkKxRL"
      },
      "source": [
        "data['animal'] = lowercased.map(meat_to_animal)"
      ],
      "execution_count": 508,
      "outputs": []
    },
    {
      "cell_type": "code",
      "metadata": {
        "colab": {
          "base_uri": "https://localhost:8080/",
          "height": 328
        },
        "id": "eV5nr-QfK2vJ",
        "outputId": "6abacd44-22a4-45c5-b821-6222641ab5a7"
      },
      "source": [
        "data"
      ],
      "execution_count": 509,
      "outputs": [
        {
          "output_type": "execute_result",
          "data": {
            "text/html": [
              "<div>\n",
              "<style scoped>\n",
              "    .dataframe tbody tr th:only-of-type {\n",
              "        vertical-align: middle;\n",
              "    }\n",
              "\n",
              "    .dataframe tbody tr th {\n",
              "        vertical-align: top;\n",
              "    }\n",
              "\n",
              "    .dataframe thead th {\n",
              "        text-align: right;\n",
              "    }\n",
              "</style>\n",
              "<table border=\"1\" class=\"dataframe\">\n",
              "  <thead>\n",
              "    <tr style=\"text-align: right;\">\n",
              "      <th></th>\n",
              "      <th>food</th>\n",
              "      <th>ounces</th>\n",
              "      <th>animal</th>\n",
              "    </tr>\n",
              "  </thead>\n",
              "  <tbody>\n",
              "    <tr>\n",
              "      <th>0</th>\n",
              "      <td>bacon</td>\n",
              "      <td>4.0</td>\n",
              "      <td>pig</td>\n",
              "    </tr>\n",
              "    <tr>\n",
              "      <th>1</th>\n",
              "      <td>pulled pork</td>\n",
              "      <td>3.0</td>\n",
              "      <td>pig</td>\n",
              "    </tr>\n",
              "    <tr>\n",
              "      <th>2</th>\n",
              "      <td>bacon</td>\n",
              "      <td>12.0</td>\n",
              "      <td>pig</td>\n",
              "    </tr>\n",
              "    <tr>\n",
              "      <th>3</th>\n",
              "      <td>Pastrami</td>\n",
              "      <td>6.0</td>\n",
              "      <td>cow</td>\n",
              "    </tr>\n",
              "    <tr>\n",
              "      <th>4</th>\n",
              "      <td>corned beef</td>\n",
              "      <td>7.5</td>\n",
              "      <td>cow</td>\n",
              "    </tr>\n",
              "    <tr>\n",
              "      <th>5</th>\n",
              "      <td>Bacon</td>\n",
              "      <td>8.0</td>\n",
              "      <td>pig</td>\n",
              "    </tr>\n",
              "    <tr>\n",
              "      <th>6</th>\n",
              "      <td>pastrami</td>\n",
              "      <td>3.0</td>\n",
              "      <td>cow</td>\n",
              "    </tr>\n",
              "    <tr>\n",
              "      <th>7</th>\n",
              "      <td>honey ham</td>\n",
              "      <td>5.0</td>\n",
              "      <td>pig</td>\n",
              "    </tr>\n",
              "    <tr>\n",
              "      <th>8</th>\n",
              "      <td>nova lox</td>\n",
              "      <td>6.0</td>\n",
              "      <td>salmon</td>\n",
              "    </tr>\n",
              "  </tbody>\n",
              "</table>\n",
              "</div>"
            ],
            "text/plain": [
              "          food  ounces  animal\n",
              "0        bacon     4.0     pig\n",
              "1  pulled pork     3.0     pig\n",
              "2        bacon    12.0     pig\n",
              "3     Pastrami     6.0     cow\n",
              "4  corned beef     7.5     cow\n",
              "5        Bacon     8.0     pig\n",
              "6     pastrami     3.0     cow\n",
              "7    honey ham     5.0     pig\n",
              "8     nova lox     6.0  salmon"
            ]
          },
          "metadata": {},
          "execution_count": 509
        }
      ]
    },
    {
      "cell_type": "markdown",
      "metadata": {
        "id": "7V9nXdhlLDDB"
      },
      "source": [
        "We could also have passed a function that does all the work:"
      ]
    },
    {
      "cell_type": "code",
      "metadata": {
        "colab": {
          "base_uri": "https://localhost:8080/"
        },
        "id": "8JAvBIK5LCoc",
        "outputId": "08fa21ed-09b0-4a09-e844-29ffe2999f83"
      },
      "source": [
        "data['food'].map(lambda x: meat_to_animal[x.lower()])"
      ],
      "execution_count": 510,
      "outputs": [
        {
          "output_type": "execute_result",
          "data": {
            "text/plain": [
              "0       pig\n",
              "1       pig\n",
              "2       pig\n",
              "3       cow\n",
              "4       cow\n",
              "5       pig\n",
              "6       cow\n",
              "7       pig\n",
              "8    salmon\n",
              "Name: food, dtype: object"
            ]
          },
          "metadata": {},
          "execution_count": 510
        }
      ]
    },
    {
      "cell_type": "markdown",
      "metadata": {
        "id": "gtbifwVELOwi"
      },
      "source": [
        "**Using map is a convenient way to perform element-wise transformations and other data cleaning–related operations**"
      ]
    },
    {
      "cell_type": "markdown",
      "metadata": {
        "id": "bIsmHjejLRR9"
      },
      "source": [
        "## Replacing Values"
      ]
    },
    {
      "cell_type": "markdown",
      "metadata": {
        "id": "TgWUELB_LUoh"
      },
      "source": [
        "Filling in missing data with the fillna method is a special case of more general value replacement\n",
        "\n",
        "As you’ve already seen, **map can be used to modify a subset of values in an object but replace provides a simpler and more flexible way to do so**\n",
        "\n",
        "Let’s consider this Series:\n"
      ]
    },
    {
      "cell_type": "code",
      "metadata": {
        "id": "Sm8C6uKXLTrM"
      },
      "source": [
        "data = pd.Series([1., -999., 2., -999., -1000., 3.])"
      ],
      "execution_count": 511,
      "outputs": []
    },
    {
      "cell_type": "code",
      "metadata": {
        "colab": {
          "base_uri": "https://localhost:8080/"
        },
        "id": "HC5db9QTMO6M",
        "outputId": "82b0ff80-58f7-4c34-8dbe-ceacdf623d45"
      },
      "source": [
        "data"
      ],
      "execution_count": 512,
      "outputs": [
        {
          "output_type": "execute_result",
          "data": {
            "text/plain": [
              "0       1.0\n",
              "1    -999.0\n",
              "2       2.0\n",
              "3    -999.0\n",
              "4   -1000.0\n",
              "5       3.0\n",
              "dtype: float64"
            ]
          },
          "metadata": {},
          "execution_count": 512
        }
      ]
    },
    {
      "cell_type": "markdown",
      "metadata": {
        "id": "PPI1k3zDMQtK"
      },
      "source": [
        "The -999 values might be sentinel values for missing data\n",
        "\n",
        "To replace these with NA values that pandas understands, we can use replace, producing a new Series (unless you pass inplace=True):"
      ]
    },
    {
      "cell_type": "code",
      "metadata": {
        "colab": {
          "base_uri": "https://localhost:8080/"
        },
        "id": "h08_ZSuOMdyw",
        "outputId": "19288c0a-5cc2-448a-e761-a8c46cdd077a"
      },
      "source": [
        "data.replace(-999, np.nan)"
      ],
      "execution_count": 513,
      "outputs": [
        {
          "output_type": "execute_result",
          "data": {
            "text/plain": [
              "0       1.0\n",
              "1       NaN\n",
              "2       2.0\n",
              "3       NaN\n",
              "4   -1000.0\n",
              "5       3.0\n",
              "dtype: float64"
            ]
          },
          "metadata": {},
          "execution_count": 513
        }
      ]
    },
    {
      "cell_type": "markdown",
      "metadata": {
        "id": "ggCTSaAoMh_I"
      },
      "source": [
        "If you want to replace **multiple values at once, you instead pass a list** and then the substitute value:"
      ]
    },
    {
      "cell_type": "code",
      "metadata": {
        "colab": {
          "base_uri": "https://localhost:8080/"
        },
        "id": "5UU7v3VzMlKG",
        "outputId": "8b5598e0-f092-43ba-9ed7-634703fb2e10"
      },
      "source": [
        "data.replace([-999, -1000], np.nan)"
      ],
      "execution_count": 514,
      "outputs": [
        {
          "output_type": "execute_result",
          "data": {
            "text/plain": [
              "0    1.0\n",
              "1    NaN\n",
              "2    2.0\n",
              "3    NaN\n",
              "4    NaN\n",
              "5    3.0\n",
              "dtype: float64"
            ]
          },
          "metadata": {},
          "execution_count": 514
        }
      ]
    },
    {
      "cell_type": "markdown",
      "metadata": {
        "id": "4F5Hv69yMp-5"
      },
      "source": [
        "To use a **different replacement for each value, pass a list of substitutes:**"
      ]
    },
    {
      "cell_type": "code",
      "metadata": {
        "colab": {
          "base_uri": "https://localhost:8080/"
        },
        "id": "2VjkIguvMsuu",
        "outputId": "7497edda-81bc-40cb-e411-0513efcd358a"
      },
      "source": [
        "data.replace([-999, -1000], [np.nan, 0])"
      ],
      "execution_count": 515,
      "outputs": [
        {
          "output_type": "execute_result",
          "data": {
            "text/plain": [
              "0    1.0\n",
              "1    NaN\n",
              "2    2.0\n",
              "3    NaN\n",
              "4    0.0\n",
              "5    3.0\n",
              "dtype: float64"
            ]
          },
          "metadata": {},
          "execution_count": 515
        }
      ]
    },
    {
      "cell_type": "markdown",
      "metadata": {
        "id": "yPRUREWNMyT5"
      },
      "source": [
        "The argument passed can also be a dict:"
      ]
    },
    {
      "cell_type": "code",
      "metadata": {
        "colab": {
          "base_uri": "https://localhost:8080/"
        },
        "id": "JfGqvkyqMztp",
        "outputId": "9a5791ce-e0b7-4869-d366-f58efbbfad31"
      },
      "source": [
        "data.replace({-999: np.nan, -1000: 0})"
      ],
      "execution_count": 516,
      "outputs": [
        {
          "output_type": "execute_result",
          "data": {
            "text/plain": [
              "0    1.0\n",
              "1    NaN\n",
              "2    2.0\n",
              "3    NaN\n",
              "4    0.0\n",
              "5    3.0\n",
              "dtype: float64"
            ]
          },
          "metadata": {},
          "execution_count": 516
        }
      ]
    },
    {
      "cell_type": "markdown",
      "metadata": {
        "id": "7eVOmjcPN7dx"
      },
      "source": [
        "The data.replace method is distinct from data.str.replace, which performs string substitution element-wise"
      ]
    },
    {
      "cell_type": "markdown",
      "metadata": {
        "id": "TRY8lTiQM7Sh"
      },
      "source": [
        "## Renaming Axis Indexes"
      ]
    },
    {
      "cell_type": "markdown",
      "metadata": {
        "id": "ST5r09SMM_Bp"
      },
      "source": [
        "Like values in a Series, axis labels can be similarly transformed by a function or mapping of some form to produce new, differently labeled objects\n",
        "\n",
        "You can also modify the axes in-place without creating a new data structure\n",
        "\n",
        "Here's a simple example:"
      ]
    },
    {
      "cell_type": "code",
      "metadata": {
        "id": "ntCI7Q9AN-_V"
      },
      "source": [
        "data = pd.DataFrame(np.arange(12).reshape((3, 4)),\n",
        "                    index=['Ohio', 'Colorado', 'New York'],\n",
        "                    columns=['one', 'two', 'three', 'four'])"
      ],
      "execution_count": 517,
      "outputs": []
    },
    {
      "cell_type": "code",
      "metadata": {
        "colab": {
          "base_uri": "https://localhost:8080/",
          "height": 142
        },
        "id": "1jW4j-mRPro5",
        "outputId": "e5e4a0ad-6fdd-47a7-c112-b055c58c1489"
      },
      "source": [
        "data"
      ],
      "execution_count": 518,
      "outputs": [
        {
          "output_type": "execute_result",
          "data": {
            "text/html": [
              "<div>\n",
              "<style scoped>\n",
              "    .dataframe tbody tr th:only-of-type {\n",
              "        vertical-align: middle;\n",
              "    }\n",
              "\n",
              "    .dataframe tbody tr th {\n",
              "        vertical-align: top;\n",
              "    }\n",
              "\n",
              "    .dataframe thead th {\n",
              "        text-align: right;\n",
              "    }\n",
              "</style>\n",
              "<table border=\"1\" class=\"dataframe\">\n",
              "  <thead>\n",
              "    <tr style=\"text-align: right;\">\n",
              "      <th></th>\n",
              "      <th>one</th>\n",
              "      <th>two</th>\n",
              "      <th>three</th>\n",
              "      <th>four</th>\n",
              "    </tr>\n",
              "  </thead>\n",
              "  <tbody>\n",
              "    <tr>\n",
              "      <th>Ohio</th>\n",
              "      <td>0</td>\n",
              "      <td>1</td>\n",
              "      <td>2</td>\n",
              "      <td>3</td>\n",
              "    </tr>\n",
              "    <tr>\n",
              "      <th>Colorado</th>\n",
              "      <td>4</td>\n",
              "      <td>5</td>\n",
              "      <td>6</td>\n",
              "      <td>7</td>\n",
              "    </tr>\n",
              "    <tr>\n",
              "      <th>New York</th>\n",
              "      <td>8</td>\n",
              "      <td>9</td>\n",
              "      <td>10</td>\n",
              "      <td>11</td>\n",
              "    </tr>\n",
              "  </tbody>\n",
              "</table>\n",
              "</div>"
            ],
            "text/plain": [
              "          one  two  three  four\n",
              "Ohio        0    1      2     3\n",
              "Colorado    4    5      6     7\n",
              "New York    8    9     10    11"
            ]
          },
          "metadata": {},
          "execution_count": 518
        }
      ]
    },
    {
      "cell_type": "markdown",
      "metadata": {
        "id": "W2LTTRdLPiSq"
      },
      "source": [
        "Like a Series, the axis indexes have a map method:"
      ]
    },
    {
      "cell_type": "code",
      "metadata": {
        "id": "Koft_CscPhqO"
      },
      "source": [
        "transform = lambda x: x[:4].upper()"
      ],
      "execution_count": 519,
      "outputs": []
    },
    {
      "cell_type": "code",
      "metadata": {
        "colab": {
          "base_uri": "https://localhost:8080/"
        },
        "id": "HP5rZhQbX95r",
        "outputId": "b6889949-5ec2-4a85-d925-586488dc05d8"
      },
      "source": [
        "data.index.map(transform)"
      ],
      "execution_count": 520,
      "outputs": [
        {
          "output_type": "execute_result",
          "data": {
            "text/plain": [
              "Index(['OHIO', 'COLO', 'NEW '], dtype='object')"
            ]
          },
          "metadata": {},
          "execution_count": 520
        }
      ]
    },
    {
      "cell_type": "markdown",
      "metadata": {
        "id": "IXnKxOTVX7yH"
      },
      "source": [
        "You can assign to index, modifying the DataFrame in-place:"
      ]
    },
    {
      "cell_type": "code",
      "metadata": {
        "id": "UiZMTOfFYO_l"
      },
      "source": [
        "data.index = data.index.map(transform)"
      ],
      "execution_count": 521,
      "outputs": []
    },
    {
      "cell_type": "code",
      "metadata": {
        "colab": {
          "base_uri": "https://localhost:8080/",
          "height": 142
        },
        "id": "ZdygssQ1YSQ6",
        "outputId": "7670b218-cc5a-41c0-da5a-c6e8e50ea2d1"
      },
      "source": [
        "data"
      ],
      "execution_count": 522,
      "outputs": [
        {
          "output_type": "execute_result",
          "data": {
            "text/html": [
              "<div>\n",
              "<style scoped>\n",
              "    .dataframe tbody tr th:only-of-type {\n",
              "        vertical-align: middle;\n",
              "    }\n",
              "\n",
              "    .dataframe tbody tr th {\n",
              "        vertical-align: top;\n",
              "    }\n",
              "\n",
              "    .dataframe thead th {\n",
              "        text-align: right;\n",
              "    }\n",
              "</style>\n",
              "<table border=\"1\" class=\"dataframe\">\n",
              "  <thead>\n",
              "    <tr style=\"text-align: right;\">\n",
              "      <th></th>\n",
              "      <th>one</th>\n",
              "      <th>two</th>\n",
              "      <th>three</th>\n",
              "      <th>four</th>\n",
              "    </tr>\n",
              "  </thead>\n",
              "  <tbody>\n",
              "    <tr>\n",
              "      <th>OHIO</th>\n",
              "      <td>0</td>\n",
              "      <td>1</td>\n",
              "      <td>2</td>\n",
              "      <td>3</td>\n",
              "    </tr>\n",
              "    <tr>\n",
              "      <th>COLO</th>\n",
              "      <td>4</td>\n",
              "      <td>5</td>\n",
              "      <td>6</td>\n",
              "      <td>7</td>\n",
              "    </tr>\n",
              "    <tr>\n",
              "      <th>NEW</th>\n",
              "      <td>8</td>\n",
              "      <td>9</td>\n",
              "      <td>10</td>\n",
              "      <td>11</td>\n",
              "    </tr>\n",
              "  </tbody>\n",
              "</table>\n",
              "</div>"
            ],
            "text/plain": [
              "      one  two  three  four\n",
              "OHIO    0    1      2     3\n",
              "COLO    4    5      6     7\n",
              "NEW     8    9     10    11"
            ]
          },
          "metadata": {},
          "execution_count": 522
        }
      ]
    },
    {
      "cell_type": "markdown",
      "metadata": {
        "id": "RDhL4sfBYUsS"
      },
      "source": [
        "If you want to create a transformed version of a dataset **without modifying the original, a useful method is rename:**"
      ]
    },
    {
      "cell_type": "code",
      "metadata": {
        "colab": {
          "base_uri": "https://localhost:8080/",
          "height": 142
        },
        "id": "n5lmEZ21YazJ",
        "outputId": "b53c5fd5-da0c-4ffd-9635-2d77b61e27b5"
      },
      "source": [
        "data.rename(index=str.title, columns=str.upper)"
      ],
      "execution_count": 523,
      "outputs": [
        {
          "output_type": "execute_result",
          "data": {
            "text/html": [
              "<div>\n",
              "<style scoped>\n",
              "    .dataframe tbody tr th:only-of-type {\n",
              "        vertical-align: middle;\n",
              "    }\n",
              "\n",
              "    .dataframe tbody tr th {\n",
              "        vertical-align: top;\n",
              "    }\n",
              "\n",
              "    .dataframe thead th {\n",
              "        text-align: right;\n",
              "    }\n",
              "</style>\n",
              "<table border=\"1\" class=\"dataframe\">\n",
              "  <thead>\n",
              "    <tr style=\"text-align: right;\">\n",
              "      <th></th>\n",
              "      <th>ONE</th>\n",
              "      <th>TWO</th>\n",
              "      <th>THREE</th>\n",
              "      <th>FOUR</th>\n",
              "    </tr>\n",
              "  </thead>\n",
              "  <tbody>\n",
              "    <tr>\n",
              "      <th>Ohio</th>\n",
              "      <td>0</td>\n",
              "      <td>1</td>\n",
              "      <td>2</td>\n",
              "      <td>3</td>\n",
              "    </tr>\n",
              "    <tr>\n",
              "      <th>Colo</th>\n",
              "      <td>4</td>\n",
              "      <td>5</td>\n",
              "      <td>6</td>\n",
              "      <td>7</td>\n",
              "    </tr>\n",
              "    <tr>\n",
              "      <th>New</th>\n",
              "      <td>8</td>\n",
              "      <td>9</td>\n",
              "      <td>10</td>\n",
              "      <td>11</td>\n",
              "    </tr>\n",
              "  </tbody>\n",
              "</table>\n",
              "</div>"
            ],
            "text/plain": [
              "      ONE  TWO  THREE  FOUR\n",
              "Ohio    0    1      2     3\n",
              "Colo    4    5      6     7\n",
              "New     8    9     10    11"
            ]
          },
          "metadata": {},
          "execution_count": 523
        }
      ]
    },
    {
      "cell_type": "markdown",
      "metadata": {
        "id": "HcRucBowYjgF"
      },
      "source": [
        "Notably, **rename can be used in conjunction with a dict-like object** providing new values for a subset of the axis labels:"
      ]
    },
    {
      "cell_type": "code",
      "metadata": {
        "colab": {
          "base_uri": "https://localhost:8080/",
          "height": 142
        },
        "id": "O1H8jzUVYvo6",
        "outputId": "7fd32ee4-f81b-438f-c600-ed12b774fd41"
      },
      "source": [
        "data.rename(index={'OHIO': 'INDIANA'},\n",
        "            columns={'three': 'peekaboo'})"
      ],
      "execution_count": 524,
      "outputs": [
        {
          "output_type": "execute_result",
          "data": {
            "text/html": [
              "<div>\n",
              "<style scoped>\n",
              "    .dataframe tbody tr th:only-of-type {\n",
              "        vertical-align: middle;\n",
              "    }\n",
              "\n",
              "    .dataframe tbody tr th {\n",
              "        vertical-align: top;\n",
              "    }\n",
              "\n",
              "    .dataframe thead th {\n",
              "        text-align: right;\n",
              "    }\n",
              "</style>\n",
              "<table border=\"1\" class=\"dataframe\">\n",
              "  <thead>\n",
              "    <tr style=\"text-align: right;\">\n",
              "      <th></th>\n",
              "      <th>one</th>\n",
              "      <th>two</th>\n",
              "      <th>peekaboo</th>\n",
              "      <th>four</th>\n",
              "    </tr>\n",
              "  </thead>\n",
              "  <tbody>\n",
              "    <tr>\n",
              "      <th>INDIANA</th>\n",
              "      <td>0</td>\n",
              "      <td>1</td>\n",
              "      <td>2</td>\n",
              "      <td>3</td>\n",
              "    </tr>\n",
              "    <tr>\n",
              "      <th>COLO</th>\n",
              "      <td>4</td>\n",
              "      <td>5</td>\n",
              "      <td>6</td>\n",
              "      <td>7</td>\n",
              "    </tr>\n",
              "    <tr>\n",
              "      <th>NEW</th>\n",
              "      <td>8</td>\n",
              "      <td>9</td>\n",
              "      <td>10</td>\n",
              "      <td>11</td>\n",
              "    </tr>\n",
              "  </tbody>\n",
              "</table>\n",
              "</div>"
            ],
            "text/plain": [
              "         one  two  peekaboo  four\n",
              "INDIANA    0    1         2     3\n",
              "COLO       4    5         6     7\n",
              "NEW        8    9        10    11"
            ]
          },
          "metadata": {},
          "execution_count": 524
        }
      ]
    },
    {
      "cell_type": "markdown",
      "metadata": {
        "id": "eiXP-9QBY4hX"
      },
      "source": [
        "**rename saves you from the chore of copying the DataFrame manually and assigning to its index and columns attributes**\n",
        "\n",
        "Should you wish to modify a dataset in-place, pass inplace=True:"
      ]
    },
    {
      "cell_type": "code",
      "metadata": {
        "id": "i66C2pMnc9nD"
      },
      "source": [
        "data.rename(index={'OHIO': 'INDIANA'}, inplace=True)"
      ],
      "execution_count": 525,
      "outputs": []
    },
    {
      "cell_type": "code",
      "metadata": {
        "colab": {
          "base_uri": "https://localhost:8080/",
          "height": 142
        },
        "id": "LuwsZTledBlq",
        "outputId": "7970cad5-138c-4fb4-d490-8c9768bd8e16"
      },
      "source": [
        "data"
      ],
      "execution_count": 526,
      "outputs": [
        {
          "output_type": "execute_result",
          "data": {
            "text/html": [
              "<div>\n",
              "<style scoped>\n",
              "    .dataframe tbody tr th:only-of-type {\n",
              "        vertical-align: middle;\n",
              "    }\n",
              "\n",
              "    .dataframe tbody tr th {\n",
              "        vertical-align: top;\n",
              "    }\n",
              "\n",
              "    .dataframe thead th {\n",
              "        text-align: right;\n",
              "    }\n",
              "</style>\n",
              "<table border=\"1\" class=\"dataframe\">\n",
              "  <thead>\n",
              "    <tr style=\"text-align: right;\">\n",
              "      <th></th>\n",
              "      <th>one</th>\n",
              "      <th>two</th>\n",
              "      <th>three</th>\n",
              "      <th>four</th>\n",
              "    </tr>\n",
              "  </thead>\n",
              "  <tbody>\n",
              "    <tr>\n",
              "      <th>INDIANA</th>\n",
              "      <td>0</td>\n",
              "      <td>1</td>\n",
              "      <td>2</td>\n",
              "      <td>3</td>\n",
              "    </tr>\n",
              "    <tr>\n",
              "      <th>COLO</th>\n",
              "      <td>4</td>\n",
              "      <td>5</td>\n",
              "      <td>6</td>\n",
              "      <td>7</td>\n",
              "    </tr>\n",
              "    <tr>\n",
              "      <th>NEW</th>\n",
              "      <td>8</td>\n",
              "      <td>9</td>\n",
              "      <td>10</td>\n",
              "      <td>11</td>\n",
              "    </tr>\n",
              "  </tbody>\n",
              "</table>\n",
              "</div>"
            ],
            "text/plain": [
              "         one  two  three  four\n",
              "INDIANA    0    1      2     3\n",
              "COLO       4    5      6     7\n",
              "NEW        8    9     10    11"
            ]
          },
          "metadata": {},
          "execution_count": 526
        }
      ]
    },
    {
      "cell_type": "markdown",
      "metadata": {
        "id": "VDi9r5jqdDAV"
      },
      "source": [
        "## Discretization and Binning"
      ]
    },
    {
      "cell_type": "markdown",
      "metadata": {
        "id": "xNsPB7DFdEl0"
      },
      "source": [
        "Continuous data is often discretized or otherwise separated into “bins” for analysis\n",
        "\n",
        "Suppose you have data about a group of people in a study, and you want to group them into discrete age buckets:"
      ]
    },
    {
      "cell_type": "code",
      "metadata": {
        "id": "JY0yOo94dNHt"
      },
      "source": [
        "ages = [20, 22, 25, 27, 21, 23, 37, 31, 61, 45, 41, 32]"
      ],
      "execution_count": 527,
      "outputs": []
    },
    {
      "cell_type": "markdown",
      "metadata": {
        "id": "3maCNVe4dQY_"
      },
      "source": [
        "Let’s **divide these into bins** of 18 to 25, 26 to 35, 36 to 60, and finally 61 and older\n",
        "\n",
        "To do so, you have to use **cut**, a function in pandas:"
      ]
    },
    {
      "cell_type": "code",
      "metadata": {
        "id": "v4aKjRYNdXr6"
      },
      "source": [
        "bins = [18, 25, 35, 60, 100]"
      ],
      "execution_count": 528,
      "outputs": []
    },
    {
      "cell_type": "code",
      "metadata": {
        "id": "s_0Yu0b5ddK2"
      },
      "source": [
        "cats = pd.cut(ages, bins)"
      ],
      "execution_count": 529,
      "outputs": []
    },
    {
      "cell_type": "code",
      "metadata": {
        "colab": {
          "base_uri": "https://localhost:8080/"
        },
        "id": "sPTcHeordfF9",
        "outputId": "7468b527-f472-4e05-e155-90cdce5337fd"
      },
      "source": [
        "cats"
      ],
      "execution_count": 530,
      "outputs": [
        {
          "output_type": "execute_result",
          "data": {
            "text/plain": [
              "[(18, 25], (18, 25], (18, 25], (25, 35], (18, 25], ..., (25, 35], (60, 100], (35, 60], (35, 60], (25, 35]]\n",
              "Length: 12\n",
              "Categories (4, interval[int64, right]): [(18, 25] < (25, 35] < (35, 60] < (60, 100]]"
            ]
          },
          "metadata": {},
          "execution_count": 530
        }
      ]
    },
    {
      "cell_type": "markdown",
      "metadata": {
        "id": "cDGdXzD0djOT"
      },
      "source": [
        "**The object pandas returns is a special Categorical object**. The output you see describes the bins computed by pandas.cut\n",
        "\n",
        "You can treat it like an array of strings indicating the bin name; **internally it contains a categories array specifying the distinct category names along with a labeling for the ages data in the codes attribute:**\n",
        "\n"
      ]
    },
    {
      "cell_type": "code",
      "metadata": {
        "colab": {
          "base_uri": "https://localhost:8080/"
        },
        "id": "ImYp9dWrhIr-",
        "outputId": "8eba14bd-20c6-4bda-a646-595d2f5728e1"
      },
      "source": [
        "cats.codes"
      ],
      "execution_count": 531,
      "outputs": [
        {
          "output_type": "execute_result",
          "data": {
            "text/plain": [
              "array([0, 0, 0, 1, 0, 0, 2, 1, 3, 2, 2, 1], dtype=int8)"
            ]
          },
          "metadata": {},
          "execution_count": 531
        }
      ]
    },
    {
      "cell_type": "code",
      "metadata": {
        "colab": {
          "base_uri": "https://localhost:8080/"
        },
        "id": "KEQSv_bGhJ0F",
        "outputId": "784bb7c0-c7f9-4ac2-dbfa-c0ca43fea11d"
      },
      "source": [
        "cats.categories"
      ],
      "execution_count": 532,
      "outputs": [
        {
          "output_type": "execute_result",
          "data": {
            "text/plain": [
              "IntervalIndex([(18, 25], (25, 35], (35, 60], (60, 100]], dtype='interval[int64, right]')"
            ]
          },
          "metadata": {},
          "execution_count": 532
        }
      ]
    },
    {
      "cell_type": "code",
      "metadata": {
        "colab": {
          "base_uri": "https://localhost:8080/"
        },
        "id": "e1BWaiNYhu6z",
        "outputId": "2a32308a-08dd-46cc-f19f-66e38874c056"
      },
      "source": [
        "pd.value_counts(cats).values"
      ],
      "execution_count": 533,
      "outputs": [
        {
          "output_type": "execute_result",
          "data": {
            "text/plain": [
              "array([5, 3, 3, 1])"
            ]
          },
          "metadata": {},
          "execution_count": 533
        }
      ]
    },
    {
      "cell_type": "markdown",
      "metadata": {
        "id": "2MyqmSuuh2E9"
      },
      "source": [
        "Note that pd.value_counts(cats) are the bin counts for the result of pandas.cut\n",
        "\n",
        "Consistent with mathematical notation for intervals, **a parenthesis means that the side is open, while the square bracket means it is closed (inclusive)**\n",
        "\n",
        "You can change which side is closed by passing right= False:"
      ]
    },
    {
      "cell_type": "code",
      "metadata": {
        "colab": {
          "base_uri": "https://localhost:8080/"
        },
        "id": "oC8rc8rQixGY",
        "outputId": "fddaabb0-81af-4224-a0b7-675e224d7f20"
      },
      "source": [
        "pd.cut(ages, [18, 26, 36, 61, 100], right=False)"
      ],
      "execution_count": 534,
      "outputs": [
        {
          "output_type": "execute_result",
          "data": {
            "text/plain": [
              "[[18, 26), [18, 26), [18, 26), [26, 36), [18, 26), ..., [26, 36), [61, 100), [36, 61), [36, 61), [26, 36)]\n",
              "Length: 12\n",
              "Categories (4, interval[int64, left]): [[18, 26) < [26, 36) < [36, 61) < [61, 100)]"
            ]
          },
          "metadata": {},
          "execution_count": 534
        }
      ]
    },
    {
      "cell_type": "markdown",
      "metadata": {
        "id": "tZ7FL3SujLAA"
      },
      "source": [
        "You can also pass your own bin names by passing a list or array to the labels option:"
      ]
    },
    {
      "cell_type": "code",
      "metadata": {
        "id": "eaB14_b-jNke"
      },
      "source": [
        "group_names = ['Youth', 'YoungAdult', 'MiddleAged', 'Senior']"
      ],
      "execution_count": 535,
      "outputs": []
    },
    {
      "cell_type": "code",
      "metadata": {
        "colab": {
          "base_uri": "https://localhost:8080/"
        },
        "id": "NYAgQu0NjTQf",
        "outputId": "74f4dde6-03db-427e-cff6-ff4e61554de9"
      },
      "source": [
        "pd.cut(ages, bins, labels=group_names)"
      ],
      "execution_count": 536,
      "outputs": [
        {
          "output_type": "execute_result",
          "data": {
            "text/plain": [
              "['Youth', 'Youth', 'Youth', 'YoungAdult', 'Youth', ..., 'YoungAdult', 'Senior', 'MiddleAged', 'MiddleAged', 'YoungAdult']\n",
              "Length: 12\n",
              "Categories (4, object): ['Youth' < 'YoungAdult' < 'MiddleAged' < 'Senior']"
            ]
          },
          "metadata": {},
          "execution_count": 536
        }
      ]
    },
    {
      "cell_type": "markdown",
      "metadata": {
        "id": "nOTPEj0ojrTa"
      },
      "source": [
        "**If you pass an integer number of bins** to cut instead of explicit bin edges, **it will compute equal-length bins based on the minimum and maximum values in the data**\n",
        "\n",
        "Consider the case of some uniformly distributed data chopped into fourths:"
      ]
    },
    {
      "cell_type": "code",
      "metadata": {
        "id": "FyHTK4x_j06m"
      },
      "source": [
        "data = np.random.rand(20)"
      ],
      "execution_count": 537,
      "outputs": []
    },
    {
      "cell_type": "code",
      "metadata": {
        "colab": {
          "base_uri": "https://localhost:8080/"
        },
        "id": "LXJgRhRMj27J",
        "outputId": "66840a55-4be0-444e-a97b-d2e91f0d3a6e"
      },
      "source": [
        "pd.cut(data, 4, precision=2)"
      ],
      "execution_count": 538,
      "outputs": [
        {
          "output_type": "execute_result",
          "data": {
            "text/plain": [
              "[(0.11, 0.33], (0.33, 0.55], (0.77, 0.99], (0.77, 0.99], (0.11, 0.33], ..., (0.33, 0.55], (0.55, 0.77], (0.77, 0.99], (0.55, 0.77], (0.77, 0.99]]\n",
              "Length: 20\n",
              "Categories (4, interval[float64, right]): [(0.11, 0.33] < (0.33, 0.55] < (0.55, 0.77] <\n",
              "                                           (0.77, 0.99]]"
            ]
          },
          "metadata": {},
          "execution_count": 538
        }
      ]
    },
    {
      "cell_type": "markdown",
      "metadata": {
        "id": "Mlcgrstgj_Lt"
      },
      "source": [
        "The precision=2 option limits the decimal precision to two digits\n",
        "\n",
        "A closely related function, qcut, bins the data based on sample quantiles\n",
        "\n",
        "Depending on the distribution of the data, using cut will not usually result in each bin having the same number of data points\n",
        "\n",
        "Since qcut uses sample quantiles instead, by definition you will obtain roughly equal-size bins:"
      ]
    },
    {
      "cell_type": "code",
      "metadata": {
        "id": "DZ9PTlIukRf-"
      },
      "source": [
        "data = np.random.randn(1000) # Normally distributed"
      ],
      "execution_count": 539,
      "outputs": []
    },
    {
      "cell_type": "code",
      "metadata": {
        "id": "25NjntcQkU8a"
      },
      "source": [
        "cats = pd.qcut(data, 4) # Cut into quartiles"
      ],
      "execution_count": 540,
      "outputs": []
    },
    {
      "cell_type": "code",
      "metadata": {
        "colab": {
          "base_uri": "https://localhost:8080/"
        },
        "id": "J53z8VMpkX4y",
        "outputId": "b67e51c0-0ff9-4c07-986f-afa9da965d32"
      },
      "source": [
        "cats"
      ],
      "execution_count": 541,
      "outputs": [
        {
          "output_type": "execute_result",
          "data": {
            "text/plain": [
              "[(0.691, 3.466], (-0.00976, 0.691], (-0.642, -0.00976], (-4.372000000000001, -0.642], (-4.372000000000001, -0.642], ..., (-4.372000000000001, -0.642], (-0.642, -0.00976], (-4.372000000000001, -0.642], (-4.372000000000001, -0.642], (-4.372000000000001, -0.642]]\n",
              "Length: 1000\n",
              "Categories (4, interval[float64, right]): [(-4.372000000000001, -0.642] < (-0.642, -0.00976] < (-0.00976, 0.691] <\n",
              "                                           (0.691, 3.466]]"
            ]
          },
          "metadata": {},
          "execution_count": 541
        }
      ]
    },
    {
      "cell_type": "code",
      "metadata": {
        "colab": {
          "base_uri": "https://localhost:8080/"
        },
        "id": "Xjy1KEPzk8QQ",
        "outputId": "a13fa35e-ad3c-4f28-93f7-05d32269c464"
      },
      "source": [
        "pd.value_counts(cats)"
      ],
      "execution_count": 542,
      "outputs": [
        {
          "output_type": "execute_result",
          "data": {
            "text/plain": [
              "(-4.372000000000001, -0.642]    250\n",
              "(-0.642, -0.00976]              250\n",
              "(-0.00976, 0.691]               250\n",
              "(0.691, 3.466]                  250\n",
              "dtype: int64"
            ]
          },
          "metadata": {},
          "execution_count": 542
        }
      ]
    },
    {
      "cell_type": "markdown",
      "metadata": {
        "id": "AP_ogOpgk_vK"
      },
      "source": [
        "Similar to cut you can pass your own quantiles (numbers between 0 and 1, inclusive):"
      ]
    },
    {
      "cell_type": "code",
      "metadata": {
        "colab": {
          "base_uri": "https://localhost:8080/"
        },
        "id": "jrBrk_5XlFYA",
        "outputId": "e07c9dcd-58e1-4841-a4c3-39cce9fdfe59"
      },
      "source": [
        "pd.qcut(data, [0, 0.1, 0.5, 0.9, 1.])"
      ],
      "execution_count": 543,
      "outputs": [
        {
          "output_type": "execute_result",
          "data": {
            "text/plain": [
              "[(1.232, 3.466], (-0.00976, 1.232], (-1.272, -0.00976], (-1.272, -0.00976], (-1.272, -0.00976], ..., (-1.272, -0.00976], (-1.272, -0.00976], (-1.272, -0.00976], (-1.272, -0.00976], (-1.272, -0.00976]]\n",
              "Length: 1000\n",
              "Categories (4, interval[float64, right]): [(-4.372000000000001, -1.272] < (-1.272, -0.00976] < (-0.00976, 1.232] <\n",
              "                                           (1.232, 3.466]]"
            ]
          },
          "metadata": {},
          "execution_count": 543
        }
      ]
    },
    {
      "cell_type": "markdown",
      "metadata": {
        "id": "05A5HLgjlPgQ"
      },
      "source": [
        "These discretization functions are especially useful for quantile and group analysis"
      ]
    },
    {
      "cell_type": "markdown",
      "metadata": {
        "id": "TtO9CURMlRFR"
      },
      "source": [
        "## Detecting and Filtering Outliers"
      ]
    },
    {
      "cell_type": "markdown",
      "metadata": {
        "id": "plKRTQI7lTRu"
      },
      "source": [
        "Filtering or transforming outliers is largely a matter of applying array operations\n",
        "\n",
        "Consider a DataFrame with some normally distributed data:"
      ]
    },
    {
      "cell_type": "code",
      "metadata": {
        "id": "R2rQQIadlYoU"
      },
      "source": [
        "data = pd.DataFrame(np.random.randn(1000, 4))"
      ],
      "execution_count": 544,
      "outputs": []
    },
    {
      "cell_type": "code",
      "metadata": {
        "colab": {
          "base_uri": "https://localhost:8080/",
          "height": 297
        },
        "id": "IRreM0anlbHR",
        "outputId": "55aa9f60-2e63-4d53-ab60-6a9f209b1615"
      },
      "source": [
        "data.describe()"
      ],
      "execution_count": 545,
      "outputs": [
        {
          "output_type": "execute_result",
          "data": {
            "text/html": [
              "<div>\n",
              "<style scoped>\n",
              "    .dataframe tbody tr th:only-of-type {\n",
              "        vertical-align: middle;\n",
              "    }\n",
              "\n",
              "    .dataframe tbody tr th {\n",
              "        vertical-align: top;\n",
              "    }\n",
              "\n",
              "    .dataframe thead th {\n",
              "        text-align: right;\n",
              "    }\n",
              "</style>\n",
              "<table border=\"1\" class=\"dataframe\">\n",
              "  <thead>\n",
              "    <tr style=\"text-align: right;\">\n",
              "      <th></th>\n",
              "      <th>0</th>\n",
              "      <th>1</th>\n",
              "      <th>2</th>\n",
              "      <th>3</th>\n",
              "    </tr>\n",
              "  </thead>\n",
              "  <tbody>\n",
              "    <tr>\n",
              "      <th>count</th>\n",
              "      <td>1000.000000</td>\n",
              "      <td>1000.000000</td>\n",
              "      <td>1000.000000</td>\n",
              "      <td>1000.000000</td>\n",
              "    </tr>\n",
              "    <tr>\n",
              "      <th>mean</th>\n",
              "      <td>0.021375</td>\n",
              "      <td>0.110542</td>\n",
              "      <td>-0.007422</td>\n",
              "      <td>-0.035444</td>\n",
              "    </tr>\n",
              "    <tr>\n",
              "      <th>std</th>\n",
              "      <td>1.013010</td>\n",
              "      <td>0.999196</td>\n",
              "      <td>1.028026</td>\n",
              "      <td>0.981644</td>\n",
              "    </tr>\n",
              "    <tr>\n",
              "      <th>min</th>\n",
              "      <td>-3.008278</td>\n",
              "      <td>-3.608371</td>\n",
              "      <td>-3.906384</td>\n",
              "      <td>-3.905226</td>\n",
              "    </tr>\n",
              "    <tr>\n",
              "      <th>25%</th>\n",
              "      <td>-0.652974</td>\n",
              "      <td>-0.552737</td>\n",
              "      <td>-0.703602</td>\n",
              "      <td>-0.693881</td>\n",
              "    </tr>\n",
              "    <tr>\n",
              "      <th>50%</th>\n",
              "      <td>-0.017616</td>\n",
              "      <td>0.120589</td>\n",
              "      <td>-0.031515</td>\n",
              "      <td>-0.052645</td>\n",
              "    </tr>\n",
              "    <tr>\n",
              "      <th>75%</th>\n",
              "      <td>0.704082</td>\n",
              "      <td>0.801096</td>\n",
              "      <td>0.693352</td>\n",
              "      <td>0.638054</td>\n",
              "    </tr>\n",
              "    <tr>\n",
              "      <th>max</th>\n",
              "      <td>3.545353</td>\n",
              "      <td>3.172034</td>\n",
              "      <td>3.810528</td>\n",
              "      <td>3.091671</td>\n",
              "    </tr>\n",
              "  </tbody>\n",
              "</table>\n",
              "</div>"
            ],
            "text/plain": [
              "                 0            1            2            3\n",
              "count  1000.000000  1000.000000  1000.000000  1000.000000\n",
              "mean      0.021375     0.110542    -0.007422    -0.035444\n",
              "std       1.013010     0.999196     1.028026     0.981644\n",
              "min      -3.008278    -3.608371    -3.906384    -3.905226\n",
              "25%      -0.652974    -0.552737    -0.703602    -0.693881\n",
              "50%      -0.017616     0.120589    -0.031515    -0.052645\n",
              "75%       0.704082     0.801096     0.693352     0.638054\n",
              "max       3.545353     3.172034     3.810528     3.091671"
            ]
          },
          "metadata": {},
          "execution_count": 545
        }
      ]
    },
    {
      "cell_type": "markdown",
      "metadata": {
        "id": "Y54kEb0glqvD"
      },
      "source": [
        "Suppose you wanted to find values in one of the columns exceeding 3 in absolute value:"
      ]
    },
    {
      "cell_type": "code",
      "metadata": {
        "id": "XUowz0EKlvUa"
      },
      "source": [
        "col = data[2]"
      ],
      "execution_count": 546,
      "outputs": []
    },
    {
      "cell_type": "code",
      "metadata": {
        "colab": {
          "base_uri": "https://localhost:8080/"
        },
        "id": "VShH9RBel1o4",
        "outputId": "e3a6da4c-bf91-46f6-d6f4-9bc31ba21d6f"
      },
      "source": [
        "col[np.abs(col) > 3]"
      ],
      "execution_count": 547,
      "outputs": [
        {
          "output_type": "execute_result",
          "data": {
            "text/plain": [
              "119   -3.100382\n",
              "314   -3.057493\n",
              "334   -3.004711\n",
              "480   -3.906384\n",
              "680    3.810528\n",
              "Name: 2, dtype: float64"
            ]
          },
          "metadata": {},
          "execution_count": 547
        }
      ]
    },
    {
      "cell_type": "markdown",
      "metadata": {
        "id": "TldBDiwOl8st"
      },
      "source": [
        "To select all rows having a value exceeding 3 or –3, you can use the any method on a boolean DataFrame:"
      ]
    },
    {
      "cell_type": "code",
      "metadata": {
        "colab": {
          "base_uri": "https://localhost:8080/",
          "height": 514
        },
        "id": "YLACRzfIl_o6",
        "outputId": "1d92dbfd-faa5-436c-f670-39168ab5fcfa"
      },
      "source": [
        "data[(np.abs(data) > 3).any(1)]"
      ],
      "execution_count": 548,
      "outputs": [
        {
          "output_type": "execute_result",
          "data": {
            "text/html": [
              "<div>\n",
              "<style scoped>\n",
              "    .dataframe tbody tr th:only-of-type {\n",
              "        vertical-align: middle;\n",
              "    }\n",
              "\n",
              "    .dataframe tbody tr th {\n",
              "        vertical-align: top;\n",
              "    }\n",
              "\n",
              "    .dataframe thead th {\n",
              "        text-align: right;\n",
              "    }\n",
              "</style>\n",
              "<table border=\"1\" class=\"dataframe\">\n",
              "  <thead>\n",
              "    <tr style=\"text-align: right;\">\n",
              "      <th></th>\n",
              "      <th>0</th>\n",
              "      <th>1</th>\n",
              "      <th>2</th>\n",
              "      <th>3</th>\n",
              "    </tr>\n",
              "  </thead>\n",
              "  <tbody>\n",
              "    <tr>\n",
              "      <th>15</th>\n",
              "      <td>-0.394042</td>\n",
              "      <td>-0.597632</td>\n",
              "      <td>-0.817740</td>\n",
              "      <td>3.091671</td>\n",
              "    </tr>\n",
              "    <tr>\n",
              "      <th>119</th>\n",
              "      <td>-0.404500</td>\n",
              "      <td>0.100172</td>\n",
              "      <td>-3.100382</td>\n",
              "      <td>0.000533</td>\n",
              "    </tr>\n",
              "    <tr>\n",
              "      <th>185</th>\n",
              "      <td>3.545353</td>\n",
              "      <td>0.327730</td>\n",
              "      <td>1.553019</td>\n",
              "      <td>0.128495</td>\n",
              "    </tr>\n",
              "    <tr>\n",
              "      <th>208</th>\n",
              "      <td>-0.754816</td>\n",
              "      <td>-0.795940</td>\n",
              "      <td>-0.815245</td>\n",
              "      <td>-3.905226</td>\n",
              "    </tr>\n",
              "    <tr>\n",
              "      <th>295</th>\n",
              "      <td>-3.007264</td>\n",
              "      <td>0.748167</td>\n",
              "      <td>0.637201</td>\n",
              "      <td>-0.052415</td>\n",
              "    </tr>\n",
              "    <tr>\n",
              "      <th>310</th>\n",
              "      <td>1.748223</td>\n",
              "      <td>3.172034</td>\n",
              "      <td>-0.157486</td>\n",
              "      <td>-0.917096</td>\n",
              "    </tr>\n",
              "    <tr>\n",
              "      <th>314</th>\n",
              "      <td>1.138655</td>\n",
              "      <td>0.449840</td>\n",
              "      <td>-3.057493</td>\n",
              "      <td>0.535409</td>\n",
              "    </tr>\n",
              "    <tr>\n",
              "      <th>334</th>\n",
              "      <td>1.055364</td>\n",
              "      <td>0.886904</td>\n",
              "      <td>-3.004711</td>\n",
              "      <td>-0.276604</td>\n",
              "    </tr>\n",
              "    <tr>\n",
              "      <th>480</th>\n",
              "      <td>0.244166</td>\n",
              "      <td>0.506415</td>\n",
              "      <td>-3.906384</td>\n",
              "      <td>0.081174</td>\n",
              "    </tr>\n",
              "    <tr>\n",
              "      <th>499</th>\n",
              "      <td>-3.008278</td>\n",
              "      <td>-1.269887</td>\n",
              "      <td>-1.287872</td>\n",
              "      <td>-0.008329</td>\n",
              "    </tr>\n",
              "    <tr>\n",
              "      <th>522</th>\n",
              "      <td>3.133537</td>\n",
              "      <td>2.006008</td>\n",
              "      <td>0.438792</td>\n",
              "      <td>-0.942205</td>\n",
              "    </tr>\n",
              "    <tr>\n",
              "      <th>647</th>\n",
              "      <td>-0.420140</td>\n",
              "      <td>-3.608371</td>\n",
              "      <td>0.996963</td>\n",
              "      <td>1.147400</td>\n",
              "    </tr>\n",
              "    <tr>\n",
              "      <th>680</th>\n",
              "      <td>0.681815</td>\n",
              "      <td>-0.131117</td>\n",
              "      <td>3.810528</td>\n",
              "      <td>0.640073</td>\n",
              "    </tr>\n",
              "    <tr>\n",
              "      <th>807</th>\n",
              "      <td>-3.001799</td>\n",
              "      <td>0.275389</td>\n",
              "      <td>0.578773</td>\n",
              "      <td>0.325758</td>\n",
              "    </tr>\n",
              "    <tr>\n",
              "      <th>812</th>\n",
              "      <td>3.400009</td>\n",
              "      <td>-1.089623</td>\n",
              "      <td>1.671635</td>\n",
              "      <td>-0.132407</td>\n",
              "    </tr>\n",
              "  </tbody>\n",
              "</table>\n",
              "</div>"
            ],
            "text/plain": [
              "            0         1         2         3\n",
              "15  -0.394042 -0.597632 -0.817740  3.091671\n",
              "119 -0.404500  0.100172 -3.100382  0.000533\n",
              "185  3.545353  0.327730  1.553019  0.128495\n",
              "208 -0.754816 -0.795940 -0.815245 -3.905226\n",
              "295 -3.007264  0.748167  0.637201 -0.052415\n",
              "310  1.748223  3.172034 -0.157486 -0.917096\n",
              "314  1.138655  0.449840 -3.057493  0.535409\n",
              "334  1.055364  0.886904 -3.004711 -0.276604\n",
              "480  0.244166  0.506415 -3.906384  0.081174\n",
              "499 -3.008278 -1.269887 -1.287872 -0.008329\n",
              "522  3.133537  2.006008  0.438792 -0.942205\n",
              "647 -0.420140 -3.608371  0.996963  1.147400\n",
              "680  0.681815 -0.131117  3.810528  0.640073\n",
              "807 -3.001799  0.275389  0.578773  0.325758\n",
              "812  3.400009 -1.089623  1.671635 -0.132407"
            ]
          },
          "metadata": {},
          "execution_count": 548
        }
      ]
    },
    {
      "cell_type": "markdown",
      "metadata": {
        "id": "e44DlYBfmT3n"
      },
      "source": [
        "Values can be set based on these criteria. Here is code to cap values outside the interval –3 to 3:"
      ]
    },
    {
      "cell_type": "code",
      "metadata": {
        "id": "9KeKIrYvmYHh"
      },
      "source": [
        "data[np.abs(data) > 3] = np.sign(data) * 3"
      ],
      "execution_count": 549,
      "outputs": []
    },
    {
      "cell_type": "code",
      "metadata": {
        "colab": {
          "base_uri": "https://localhost:8080/",
          "height": 297
        },
        "id": "iFdAGCl2mb3y",
        "outputId": "60d2db25-d428-4b2e-9baa-c5508274af4f"
      },
      "source": [
        "data.describe()"
      ],
      "execution_count": 550,
      "outputs": [
        {
          "output_type": "execute_result",
          "data": {
            "text/html": [
              "<div>\n",
              "<style scoped>\n",
              "    .dataframe tbody tr th:only-of-type {\n",
              "        vertical-align: middle;\n",
              "    }\n",
              "\n",
              "    .dataframe tbody tr th {\n",
              "        vertical-align: top;\n",
              "    }\n",
              "\n",
              "    .dataframe thead th {\n",
              "        text-align: right;\n",
              "    }\n",
              "</style>\n",
              "<table border=\"1\" class=\"dataframe\">\n",
              "  <thead>\n",
              "    <tr style=\"text-align: right;\">\n",
              "      <th></th>\n",
              "      <th>0</th>\n",
              "      <th>1</th>\n",
              "      <th>2</th>\n",
              "      <th>3</th>\n",
              "    </tr>\n",
              "  </thead>\n",
              "  <tbody>\n",
              "    <tr>\n",
              "      <th>count</th>\n",
              "      <td>1000.000000</td>\n",
              "      <td>1000.000000</td>\n",
              "      <td>1000.000000</td>\n",
              "      <td>1000.000000</td>\n",
              "    </tr>\n",
              "    <tr>\n",
              "      <th>mean</th>\n",
              "      <td>0.020313</td>\n",
              "      <td>0.110978</td>\n",
              "      <td>-0.007164</td>\n",
              "      <td>-0.034630</td>\n",
              "    </tr>\n",
              "    <tr>\n",
              "      <th>std</th>\n",
              "      <td>1.009541</td>\n",
              "      <td>0.996599</td>\n",
              "      <td>1.021793</td>\n",
              "      <td>0.978195</td>\n",
              "    </tr>\n",
              "    <tr>\n",
              "      <th>min</th>\n",
              "      <td>-3.000000</td>\n",
              "      <td>-3.000000</td>\n",
              "      <td>-3.000000</td>\n",
              "      <td>-3.000000</td>\n",
              "    </tr>\n",
              "    <tr>\n",
              "      <th>25%</th>\n",
              "      <td>-0.652974</td>\n",
              "      <td>-0.552737</td>\n",
              "      <td>-0.703602</td>\n",
              "      <td>-0.693881</td>\n",
              "    </tr>\n",
              "    <tr>\n",
              "      <th>50%</th>\n",
              "      <td>-0.017616</td>\n",
              "      <td>0.120589</td>\n",
              "      <td>-0.031515</td>\n",
              "      <td>-0.052645</td>\n",
              "    </tr>\n",
              "    <tr>\n",
              "      <th>75%</th>\n",
              "      <td>0.704082</td>\n",
              "      <td>0.801096</td>\n",
              "      <td>0.693352</td>\n",
              "      <td>0.638054</td>\n",
              "    </tr>\n",
              "    <tr>\n",
              "      <th>max</th>\n",
              "      <td>3.000000</td>\n",
              "      <td>3.000000</td>\n",
              "      <td>3.000000</td>\n",
              "      <td>3.000000</td>\n",
              "    </tr>\n",
              "  </tbody>\n",
              "</table>\n",
              "</div>"
            ],
            "text/plain": [
              "                 0            1            2            3\n",
              "count  1000.000000  1000.000000  1000.000000  1000.000000\n",
              "mean      0.020313     0.110978    -0.007164    -0.034630\n",
              "std       1.009541     0.996599     1.021793     0.978195\n",
              "min      -3.000000    -3.000000    -3.000000    -3.000000\n",
              "25%      -0.652974    -0.552737    -0.703602    -0.693881\n",
              "50%      -0.017616     0.120589    -0.031515    -0.052645\n",
              "75%       0.704082     0.801096     0.693352     0.638054\n",
              "max       3.000000     3.000000     3.000000     3.000000"
            ]
          },
          "metadata": {},
          "execution_count": 550
        }
      ]
    },
    {
      "cell_type": "markdown",
      "metadata": {
        "id": "_UiSJmeJmkDQ"
      },
      "source": [
        "The statement np.sign(data) produces 1 and –1 values based on whether the values in data are positive or negative:"
      ]
    },
    {
      "cell_type": "code",
      "metadata": {
        "colab": {
          "base_uri": "https://localhost:8080/",
          "height": 204
        },
        "id": "AQpZP4pjmnLL",
        "outputId": "97cb54eb-124d-43fd-83b5-948f81b1238f"
      },
      "source": [
        "np.sign(data).head()"
      ],
      "execution_count": 551,
      "outputs": [
        {
          "output_type": "execute_result",
          "data": {
            "text/html": [
              "<div>\n",
              "<style scoped>\n",
              "    .dataframe tbody tr th:only-of-type {\n",
              "        vertical-align: middle;\n",
              "    }\n",
              "\n",
              "    .dataframe tbody tr th {\n",
              "        vertical-align: top;\n",
              "    }\n",
              "\n",
              "    .dataframe thead th {\n",
              "        text-align: right;\n",
              "    }\n",
              "</style>\n",
              "<table border=\"1\" class=\"dataframe\">\n",
              "  <thead>\n",
              "    <tr style=\"text-align: right;\">\n",
              "      <th></th>\n",
              "      <th>0</th>\n",
              "      <th>1</th>\n",
              "      <th>2</th>\n",
              "      <th>3</th>\n",
              "    </tr>\n",
              "  </thead>\n",
              "  <tbody>\n",
              "    <tr>\n",
              "      <th>0</th>\n",
              "      <td>1.0</td>\n",
              "      <td>1.0</td>\n",
              "      <td>1.0</td>\n",
              "      <td>1.0</td>\n",
              "    </tr>\n",
              "    <tr>\n",
              "      <th>1</th>\n",
              "      <td>1.0</td>\n",
              "      <td>-1.0</td>\n",
              "      <td>-1.0</td>\n",
              "      <td>-1.0</td>\n",
              "    </tr>\n",
              "    <tr>\n",
              "      <th>2</th>\n",
              "      <td>1.0</td>\n",
              "      <td>-1.0</td>\n",
              "      <td>1.0</td>\n",
              "      <td>-1.0</td>\n",
              "    </tr>\n",
              "    <tr>\n",
              "      <th>3</th>\n",
              "      <td>-1.0</td>\n",
              "      <td>-1.0</td>\n",
              "      <td>1.0</td>\n",
              "      <td>1.0</td>\n",
              "    </tr>\n",
              "    <tr>\n",
              "      <th>4</th>\n",
              "      <td>-1.0</td>\n",
              "      <td>-1.0</td>\n",
              "      <td>-1.0</td>\n",
              "      <td>1.0</td>\n",
              "    </tr>\n",
              "  </tbody>\n",
              "</table>\n",
              "</div>"
            ],
            "text/plain": [
              "     0    1    2    3\n",
              "0  1.0  1.0  1.0  1.0\n",
              "1  1.0 -1.0 -1.0 -1.0\n",
              "2  1.0 -1.0  1.0 -1.0\n",
              "3 -1.0 -1.0  1.0  1.0\n",
              "4 -1.0 -1.0 -1.0  1.0"
            ]
          },
          "metadata": {},
          "execution_count": 551
        }
      ]
    },
    {
      "cell_type": "markdown",
      "metadata": {
        "id": "dZ7DagQsmuU6"
      },
      "source": [
        "## Permutation and Random Sampling"
      ]
    },
    {
      "cell_type": "markdown",
      "metadata": {
        "id": "FS19IcYzmw8T"
      },
      "source": [
        "Permuting (randomly reordering) a Series or the rows in a DataFrame is easy to do using the numpy.random.permutation function\n",
        "\n",
        "Calling permutation with the length of the axis you want to permute produces an array of integers indicating the new ordering:"
      ]
    },
    {
      "cell_type": "code",
      "metadata": {
        "id": "1oLckxgom5g_"
      },
      "source": [
        "df = pd.DataFrame(np.arange(5 * 4).reshape((5, 4)))"
      ],
      "execution_count": 552,
      "outputs": []
    },
    {
      "cell_type": "code",
      "metadata": {
        "id": "VTEO9xPCnAYi"
      },
      "source": [
        "sampler = np.random.permutation(5)"
      ],
      "execution_count": 553,
      "outputs": []
    },
    {
      "cell_type": "code",
      "metadata": {
        "colab": {
          "base_uri": "https://localhost:8080/"
        },
        "id": "KGyN4u1cnFQ7",
        "outputId": "275f7f1b-09ca-4b22-947f-881a982ca01a"
      },
      "source": [
        "sampler"
      ],
      "execution_count": 554,
      "outputs": [
        {
          "output_type": "execute_result",
          "data": {
            "text/plain": [
              "array([3, 0, 1, 2, 4])"
            ]
          },
          "metadata": {},
          "execution_count": 554
        }
      ]
    },
    {
      "cell_type": "markdown",
      "metadata": {
        "id": "kJmdF8GdnILe"
      },
      "source": [
        "That array can then be used in iloc-based indexing or the equivalent take function:"
      ]
    },
    {
      "cell_type": "code",
      "metadata": {
        "colab": {
          "base_uri": "https://localhost:8080/",
          "height": 204
        },
        "id": "Y-Ecro2DnM30",
        "outputId": "7c94bcee-6abe-4899-837b-5e0336e55dfd"
      },
      "source": [
        "df"
      ],
      "execution_count": 555,
      "outputs": [
        {
          "output_type": "execute_result",
          "data": {
            "text/html": [
              "<div>\n",
              "<style scoped>\n",
              "    .dataframe tbody tr th:only-of-type {\n",
              "        vertical-align: middle;\n",
              "    }\n",
              "\n",
              "    .dataframe tbody tr th {\n",
              "        vertical-align: top;\n",
              "    }\n",
              "\n",
              "    .dataframe thead th {\n",
              "        text-align: right;\n",
              "    }\n",
              "</style>\n",
              "<table border=\"1\" class=\"dataframe\">\n",
              "  <thead>\n",
              "    <tr style=\"text-align: right;\">\n",
              "      <th></th>\n",
              "      <th>0</th>\n",
              "      <th>1</th>\n",
              "      <th>2</th>\n",
              "      <th>3</th>\n",
              "    </tr>\n",
              "  </thead>\n",
              "  <tbody>\n",
              "    <tr>\n",
              "      <th>0</th>\n",
              "      <td>0</td>\n",
              "      <td>1</td>\n",
              "      <td>2</td>\n",
              "      <td>3</td>\n",
              "    </tr>\n",
              "    <tr>\n",
              "      <th>1</th>\n",
              "      <td>4</td>\n",
              "      <td>5</td>\n",
              "      <td>6</td>\n",
              "      <td>7</td>\n",
              "    </tr>\n",
              "    <tr>\n",
              "      <th>2</th>\n",
              "      <td>8</td>\n",
              "      <td>9</td>\n",
              "      <td>10</td>\n",
              "      <td>11</td>\n",
              "    </tr>\n",
              "    <tr>\n",
              "      <th>3</th>\n",
              "      <td>12</td>\n",
              "      <td>13</td>\n",
              "      <td>14</td>\n",
              "      <td>15</td>\n",
              "    </tr>\n",
              "    <tr>\n",
              "      <th>4</th>\n",
              "      <td>16</td>\n",
              "      <td>17</td>\n",
              "      <td>18</td>\n",
              "      <td>19</td>\n",
              "    </tr>\n",
              "  </tbody>\n",
              "</table>\n",
              "</div>"
            ],
            "text/plain": [
              "    0   1   2   3\n",
              "0   0   1   2   3\n",
              "1   4   5   6   7\n",
              "2   8   9  10  11\n",
              "3  12  13  14  15\n",
              "4  16  17  18  19"
            ]
          },
          "metadata": {},
          "execution_count": 555
        }
      ]
    },
    {
      "cell_type": "code",
      "metadata": {
        "colab": {
          "base_uri": "https://localhost:8080/",
          "height": 204
        },
        "id": "Ifx2hP-mnNhp",
        "outputId": "06a47e1c-d761-46fa-d123-f53a93e98e95"
      },
      "source": [
        "df.take(sampler)"
      ],
      "execution_count": 556,
      "outputs": [
        {
          "output_type": "execute_result",
          "data": {
            "text/html": [
              "<div>\n",
              "<style scoped>\n",
              "    .dataframe tbody tr th:only-of-type {\n",
              "        vertical-align: middle;\n",
              "    }\n",
              "\n",
              "    .dataframe tbody tr th {\n",
              "        vertical-align: top;\n",
              "    }\n",
              "\n",
              "    .dataframe thead th {\n",
              "        text-align: right;\n",
              "    }\n",
              "</style>\n",
              "<table border=\"1\" class=\"dataframe\">\n",
              "  <thead>\n",
              "    <tr style=\"text-align: right;\">\n",
              "      <th></th>\n",
              "      <th>0</th>\n",
              "      <th>1</th>\n",
              "      <th>2</th>\n",
              "      <th>3</th>\n",
              "    </tr>\n",
              "  </thead>\n",
              "  <tbody>\n",
              "    <tr>\n",
              "      <th>3</th>\n",
              "      <td>12</td>\n",
              "      <td>13</td>\n",
              "      <td>14</td>\n",
              "      <td>15</td>\n",
              "    </tr>\n",
              "    <tr>\n",
              "      <th>0</th>\n",
              "      <td>0</td>\n",
              "      <td>1</td>\n",
              "      <td>2</td>\n",
              "      <td>3</td>\n",
              "    </tr>\n",
              "    <tr>\n",
              "      <th>1</th>\n",
              "      <td>4</td>\n",
              "      <td>5</td>\n",
              "      <td>6</td>\n",
              "      <td>7</td>\n",
              "    </tr>\n",
              "    <tr>\n",
              "      <th>2</th>\n",
              "      <td>8</td>\n",
              "      <td>9</td>\n",
              "      <td>10</td>\n",
              "      <td>11</td>\n",
              "    </tr>\n",
              "    <tr>\n",
              "      <th>4</th>\n",
              "      <td>16</td>\n",
              "      <td>17</td>\n",
              "      <td>18</td>\n",
              "      <td>19</td>\n",
              "    </tr>\n",
              "  </tbody>\n",
              "</table>\n",
              "</div>"
            ],
            "text/plain": [
              "    0   1   2   3\n",
              "3  12  13  14  15\n",
              "0   0   1   2   3\n",
              "1   4   5   6   7\n",
              "2   8   9  10  11\n",
              "4  16  17  18  19"
            ]
          },
          "metadata": {},
          "execution_count": 556
        }
      ]
    },
    {
      "cell_type": "markdown",
      "metadata": {
        "id": "fsOxaxQWnX8i"
      },
      "source": [
        "**To select a random subset without replacement, you can use the sample method on Series and DataFrame:**"
      ]
    },
    {
      "cell_type": "code",
      "metadata": {
        "colab": {
          "base_uri": "https://localhost:8080/",
          "height": 142
        },
        "id": "ZL27aiXbna05",
        "outputId": "f9fb0e47-dfde-488f-f8d6-197901a9e2e3"
      },
      "source": [
        "df.sample(n=3)"
      ],
      "execution_count": 557,
      "outputs": [
        {
          "output_type": "execute_result",
          "data": {
            "text/html": [
              "<div>\n",
              "<style scoped>\n",
              "    .dataframe tbody tr th:only-of-type {\n",
              "        vertical-align: middle;\n",
              "    }\n",
              "\n",
              "    .dataframe tbody tr th {\n",
              "        vertical-align: top;\n",
              "    }\n",
              "\n",
              "    .dataframe thead th {\n",
              "        text-align: right;\n",
              "    }\n",
              "</style>\n",
              "<table border=\"1\" class=\"dataframe\">\n",
              "  <thead>\n",
              "    <tr style=\"text-align: right;\">\n",
              "      <th></th>\n",
              "      <th>0</th>\n",
              "      <th>1</th>\n",
              "      <th>2</th>\n",
              "      <th>3</th>\n",
              "    </tr>\n",
              "  </thead>\n",
              "  <tbody>\n",
              "    <tr>\n",
              "      <th>2</th>\n",
              "      <td>8</td>\n",
              "      <td>9</td>\n",
              "      <td>10</td>\n",
              "      <td>11</td>\n",
              "    </tr>\n",
              "    <tr>\n",
              "      <th>4</th>\n",
              "      <td>16</td>\n",
              "      <td>17</td>\n",
              "      <td>18</td>\n",
              "      <td>19</td>\n",
              "    </tr>\n",
              "    <tr>\n",
              "      <th>1</th>\n",
              "      <td>4</td>\n",
              "      <td>5</td>\n",
              "      <td>6</td>\n",
              "      <td>7</td>\n",
              "    </tr>\n",
              "  </tbody>\n",
              "</table>\n",
              "</div>"
            ],
            "text/plain": [
              "    0   1   2   3\n",
              "2   8   9  10  11\n",
              "4  16  17  18  19\n",
              "1   4   5   6   7"
            ]
          },
          "metadata": {},
          "execution_count": 557
        }
      ]
    },
    {
      "cell_type": "markdown",
      "metadata": {
        "id": "HADHUdBjnisW"
      },
      "source": [
        "To generate a sample with replacement (to allow repeat choices), pass replace=True to sample:"
      ]
    },
    {
      "cell_type": "code",
      "metadata": {
        "id": "m8KNg5O2nluO"
      },
      "source": [
        "choices = pd.Series([5, 7, -1, 6, 4])"
      ],
      "execution_count": 558,
      "outputs": []
    },
    {
      "cell_type": "code",
      "metadata": {
        "id": "uCGBqYwanpsS"
      },
      "source": [
        "draws = choices.sample(n=10, replace=True)"
      ],
      "execution_count": 559,
      "outputs": []
    },
    {
      "cell_type": "code",
      "metadata": {
        "colab": {
          "base_uri": "https://localhost:8080/"
        },
        "id": "dsTehfq9ntIh",
        "outputId": "8fb6ca25-2723-4bf5-8aec-2a645c19f864"
      },
      "source": [
        "draws"
      ],
      "execution_count": 560,
      "outputs": [
        {
          "output_type": "execute_result",
          "data": {
            "text/plain": [
              "0    5\n",
              "2   -1\n",
              "4    4\n",
              "3    6\n",
              "0    5\n",
              "3    6\n",
              "4    4\n",
              "2   -1\n",
              "1    7\n",
              "2   -1\n",
              "dtype: int64"
            ]
          },
          "metadata": {},
          "execution_count": 560
        }
      ]
    },
    {
      "cell_type": "markdown",
      "metadata": {
        "id": "cAbx1NRdny4x"
      },
      "source": [
        "## Computing Indicator/Dummy Variables"
      ]
    },
    {
      "cell_type": "markdown",
      "metadata": {
        "id": "QJKRmnWhn0vN"
      },
      "source": [
        "Another type of transformation for statistical modeling or machine learning applications is converting a categorical variable into a “dummy” or “indicator” matrix\n",
        "\n",
        "If a column in a DataFrame has k distinct values, you would derive a matrix or Data. Frame with k columns containing all 1s and 0s\n",
        "\n",
        "pandas has a get_dummies function for doing this, though devising one yourself is not difficult. Let’s return to an earlier example DataFrame:"
      ]
    },
    {
      "cell_type": "code",
      "metadata": {
        "id": "BPtJQL2Ureg8"
      },
      "source": [
        "df = pd.DataFrame({'key': ['b', 'b', 'a', 'c', 'a', 'b'],\n",
        "                   'data1': range(6)})"
      ],
      "execution_count": 561,
      "outputs": []
    },
    {
      "cell_type": "code",
      "metadata": {
        "colab": {
          "base_uri": "https://localhost:8080/",
          "height": 235
        },
        "id": "Al29PqwtrqYv",
        "outputId": "e110ba72-b9e1-443b-9206-6d9dd6337637"
      },
      "source": [
        "df"
      ],
      "execution_count": 562,
      "outputs": [
        {
          "output_type": "execute_result",
          "data": {
            "text/html": [
              "<div>\n",
              "<style scoped>\n",
              "    .dataframe tbody tr th:only-of-type {\n",
              "        vertical-align: middle;\n",
              "    }\n",
              "\n",
              "    .dataframe tbody tr th {\n",
              "        vertical-align: top;\n",
              "    }\n",
              "\n",
              "    .dataframe thead th {\n",
              "        text-align: right;\n",
              "    }\n",
              "</style>\n",
              "<table border=\"1\" class=\"dataframe\">\n",
              "  <thead>\n",
              "    <tr style=\"text-align: right;\">\n",
              "      <th></th>\n",
              "      <th>key</th>\n",
              "      <th>data1</th>\n",
              "    </tr>\n",
              "  </thead>\n",
              "  <tbody>\n",
              "    <tr>\n",
              "      <th>0</th>\n",
              "      <td>b</td>\n",
              "      <td>0</td>\n",
              "    </tr>\n",
              "    <tr>\n",
              "      <th>1</th>\n",
              "      <td>b</td>\n",
              "      <td>1</td>\n",
              "    </tr>\n",
              "    <tr>\n",
              "      <th>2</th>\n",
              "      <td>a</td>\n",
              "      <td>2</td>\n",
              "    </tr>\n",
              "    <tr>\n",
              "      <th>3</th>\n",
              "      <td>c</td>\n",
              "      <td>3</td>\n",
              "    </tr>\n",
              "    <tr>\n",
              "      <th>4</th>\n",
              "      <td>a</td>\n",
              "      <td>4</td>\n",
              "    </tr>\n",
              "    <tr>\n",
              "      <th>5</th>\n",
              "      <td>b</td>\n",
              "      <td>5</td>\n",
              "    </tr>\n",
              "  </tbody>\n",
              "</table>\n",
              "</div>"
            ],
            "text/plain": [
              "  key  data1\n",
              "0   b      0\n",
              "1   b      1\n",
              "2   a      2\n",
              "3   c      3\n",
              "4   a      4\n",
              "5   b      5"
            ]
          },
          "metadata": {},
          "execution_count": 562
        }
      ]
    },
    {
      "cell_type": "code",
      "metadata": {
        "colab": {
          "base_uri": "https://localhost:8080/",
          "height": 235
        },
        "id": "rmAkPL4_rkCP",
        "outputId": "1f79df41-ec8f-4efd-eeec-bec00f8544cf"
      },
      "source": [
        "pd.get_dummies(df['key'])"
      ],
      "execution_count": 563,
      "outputs": [
        {
          "output_type": "execute_result",
          "data": {
            "text/html": [
              "<div>\n",
              "<style scoped>\n",
              "    .dataframe tbody tr th:only-of-type {\n",
              "        vertical-align: middle;\n",
              "    }\n",
              "\n",
              "    .dataframe tbody tr th {\n",
              "        vertical-align: top;\n",
              "    }\n",
              "\n",
              "    .dataframe thead th {\n",
              "        text-align: right;\n",
              "    }\n",
              "</style>\n",
              "<table border=\"1\" class=\"dataframe\">\n",
              "  <thead>\n",
              "    <tr style=\"text-align: right;\">\n",
              "      <th></th>\n",
              "      <th>a</th>\n",
              "      <th>b</th>\n",
              "      <th>c</th>\n",
              "    </tr>\n",
              "  </thead>\n",
              "  <tbody>\n",
              "    <tr>\n",
              "      <th>0</th>\n",
              "      <td>0</td>\n",
              "      <td>1</td>\n",
              "      <td>0</td>\n",
              "    </tr>\n",
              "    <tr>\n",
              "      <th>1</th>\n",
              "      <td>0</td>\n",
              "      <td>1</td>\n",
              "      <td>0</td>\n",
              "    </tr>\n",
              "    <tr>\n",
              "      <th>2</th>\n",
              "      <td>1</td>\n",
              "      <td>0</td>\n",
              "      <td>0</td>\n",
              "    </tr>\n",
              "    <tr>\n",
              "      <th>3</th>\n",
              "      <td>0</td>\n",
              "      <td>0</td>\n",
              "      <td>1</td>\n",
              "    </tr>\n",
              "    <tr>\n",
              "      <th>4</th>\n",
              "      <td>1</td>\n",
              "      <td>0</td>\n",
              "      <td>0</td>\n",
              "    </tr>\n",
              "    <tr>\n",
              "      <th>5</th>\n",
              "      <td>0</td>\n",
              "      <td>1</td>\n",
              "      <td>0</td>\n",
              "    </tr>\n",
              "  </tbody>\n",
              "</table>\n",
              "</div>"
            ],
            "text/plain": [
              "   a  b  c\n",
              "0  0  1  0\n",
              "1  0  1  0\n",
              "2  1  0  0\n",
              "3  0  0  1\n",
              "4  1  0  0\n",
              "5  0  1  0"
            ]
          },
          "metadata": {},
          "execution_count": 563
        }
      ]
    },
    {
      "cell_type": "markdown",
      "metadata": {
        "id": "Sbjqu7kHr5Ne"
      },
      "source": [
        "In some cases, you may want to add a prefix to the columns in the indicator DataFrame, which can then be merged with the other data.get_dummies has a prefix argument for doing this:"
      ]
    },
    {
      "cell_type": "code",
      "metadata": {
        "id": "HSYw86fjsUd7"
      },
      "source": [
        "dummies = pd.get_dummies(df['key'], prefix='key')"
      ],
      "execution_count": 564,
      "outputs": []
    },
    {
      "cell_type": "code",
      "metadata": {
        "id": "hfgc7kPlXB7U"
      },
      "source": [
        "df_with_dummy = df[['data1']].join(dummies)"
      ],
      "execution_count": 565,
      "outputs": []
    },
    {
      "cell_type": "code",
      "metadata": {
        "colab": {
          "base_uri": "https://localhost:8080/",
          "height": 235
        },
        "id": "oSyotTjLXIsT",
        "outputId": "2c75928f-b5f1-44c9-89db-3ab88da907da"
      },
      "source": [
        "df_with_dummy"
      ],
      "execution_count": 566,
      "outputs": [
        {
          "output_type": "execute_result",
          "data": {
            "text/html": [
              "<div>\n",
              "<style scoped>\n",
              "    .dataframe tbody tr th:only-of-type {\n",
              "        vertical-align: middle;\n",
              "    }\n",
              "\n",
              "    .dataframe tbody tr th {\n",
              "        vertical-align: top;\n",
              "    }\n",
              "\n",
              "    .dataframe thead th {\n",
              "        text-align: right;\n",
              "    }\n",
              "</style>\n",
              "<table border=\"1\" class=\"dataframe\">\n",
              "  <thead>\n",
              "    <tr style=\"text-align: right;\">\n",
              "      <th></th>\n",
              "      <th>data1</th>\n",
              "      <th>key_a</th>\n",
              "      <th>key_b</th>\n",
              "      <th>key_c</th>\n",
              "    </tr>\n",
              "  </thead>\n",
              "  <tbody>\n",
              "    <tr>\n",
              "      <th>0</th>\n",
              "      <td>0</td>\n",
              "      <td>0</td>\n",
              "      <td>1</td>\n",
              "      <td>0</td>\n",
              "    </tr>\n",
              "    <tr>\n",
              "      <th>1</th>\n",
              "      <td>1</td>\n",
              "      <td>0</td>\n",
              "      <td>1</td>\n",
              "      <td>0</td>\n",
              "    </tr>\n",
              "    <tr>\n",
              "      <th>2</th>\n",
              "      <td>2</td>\n",
              "      <td>1</td>\n",
              "      <td>0</td>\n",
              "      <td>0</td>\n",
              "    </tr>\n",
              "    <tr>\n",
              "      <th>3</th>\n",
              "      <td>3</td>\n",
              "      <td>0</td>\n",
              "      <td>0</td>\n",
              "      <td>1</td>\n",
              "    </tr>\n",
              "    <tr>\n",
              "      <th>4</th>\n",
              "      <td>4</td>\n",
              "      <td>1</td>\n",
              "      <td>0</td>\n",
              "      <td>0</td>\n",
              "    </tr>\n",
              "    <tr>\n",
              "      <th>5</th>\n",
              "      <td>5</td>\n",
              "      <td>0</td>\n",
              "      <td>1</td>\n",
              "      <td>0</td>\n",
              "    </tr>\n",
              "  </tbody>\n",
              "</table>\n",
              "</div>"
            ],
            "text/plain": [
              "   data1  key_a  key_b  key_c\n",
              "0      0      0      1      0\n",
              "1      1      0      1      0\n",
              "2      2      1      0      0\n",
              "3      3      0      0      1\n",
              "4      4      1      0      0\n",
              "5      5      0      1      0"
            ]
          },
          "metadata": {},
          "execution_count": 566
        }
      ]
    },
    {
      "cell_type": "markdown",
      "metadata": {
        "id": "uNVMr-R1XSHB"
      },
      "source": [
        "If a row in a DataFrame belongs to **multiple categories**, things are a bit more complicated\n",
        "\n",
        "Let’s look at the MovieLens 1M dataset:"
      ]
    },
    {
      "cell_type": "code",
      "metadata": {
        "colab": {
          "base_uri": "https://localhost:8080/"
        },
        "id": "1QmTzdxpXnG_",
        "outputId": "69deaf64-ca12-4f1e-e72f-62ddfe64752a"
      },
      "source": [
        "import urllib.request \n",
        "url = 'https://raw.githubusercontent.com/wesm/pydata-book/2nd-edition/datasets/movielens/movies.dat'\n",
        "filename = 'movies.dat'\n",
        "urllib.request.urlretrieve(url, filename)"
      ],
      "execution_count": 567,
      "outputs": [
        {
          "output_type": "execute_result",
          "data": {
            "text/plain": [
              "('movies.dat', <http.client.HTTPMessage at 0x7fbe2f173290>)"
            ]
          },
          "metadata": {},
          "execution_count": 567
        }
      ]
    },
    {
      "cell_type": "code",
      "metadata": {
        "id": "QcXoKt-2Xgwh"
      },
      "source": [
        "mnames = ['movie_id', 'title', 'genres']"
      ],
      "execution_count": 568,
      "outputs": []
    },
    {
      "cell_type": "code",
      "metadata": {
        "colab": {
          "base_uri": "https://localhost:8080/"
        },
        "id": "2D2R1GKTYdVl",
        "outputId": "687b65b5-f44e-4d08-a0db-7e7399389554"
      },
      "source": [
        "movies = pd.read_table('movies.dat', sep='::',\n",
        "                       header=None, names=mnames, encoding='ISO-8859-1')"
      ],
      "execution_count": 569,
      "outputs": [
        {
          "output_type": "stream",
          "name": "stderr",
          "text": [
            "/usr/local/lib/python3.7/dist-packages/pandas/util/_decorators.py:311: ParserWarning: Falling back to the 'python' engine because the 'c' engine does not support regex separators (separators > 1 char and different from '\\s+' are interpreted as regex); you can avoid this warning by specifying engine='python'.\n",
            "  return func(*args, **kwargs)\n"
          ]
        }
      ]
    },
    {
      "cell_type": "code",
      "metadata": {
        "colab": {
          "base_uri": "https://localhost:8080/",
          "height": 359
        },
        "id": "Ku5e26toYrmn",
        "outputId": "885e9369-0c87-441a-c745-06cad4554ff5"
      },
      "source": [
        "movies[:10]"
      ],
      "execution_count": 570,
      "outputs": [
        {
          "output_type": "execute_result",
          "data": {
            "text/html": [
              "<div>\n",
              "<style scoped>\n",
              "    .dataframe tbody tr th:only-of-type {\n",
              "        vertical-align: middle;\n",
              "    }\n",
              "\n",
              "    .dataframe tbody tr th {\n",
              "        vertical-align: top;\n",
              "    }\n",
              "\n",
              "    .dataframe thead th {\n",
              "        text-align: right;\n",
              "    }\n",
              "</style>\n",
              "<table border=\"1\" class=\"dataframe\">\n",
              "  <thead>\n",
              "    <tr style=\"text-align: right;\">\n",
              "      <th></th>\n",
              "      <th>movie_id</th>\n",
              "      <th>title</th>\n",
              "      <th>genres</th>\n",
              "    </tr>\n",
              "  </thead>\n",
              "  <tbody>\n",
              "    <tr>\n",
              "      <th>0</th>\n",
              "      <td>1</td>\n",
              "      <td>Toy Story (1995)</td>\n",
              "      <td>Animation|Children's|Comedy</td>\n",
              "    </tr>\n",
              "    <tr>\n",
              "      <th>1</th>\n",
              "      <td>2</td>\n",
              "      <td>Jumanji (1995)</td>\n",
              "      <td>Adventure|Children's|Fantasy</td>\n",
              "    </tr>\n",
              "    <tr>\n",
              "      <th>2</th>\n",
              "      <td>3</td>\n",
              "      <td>Grumpier Old Men (1995)</td>\n",
              "      <td>Comedy|Romance</td>\n",
              "    </tr>\n",
              "    <tr>\n",
              "      <th>3</th>\n",
              "      <td>4</td>\n",
              "      <td>Waiting to Exhale (1995)</td>\n",
              "      <td>Comedy|Drama</td>\n",
              "    </tr>\n",
              "    <tr>\n",
              "      <th>4</th>\n",
              "      <td>5</td>\n",
              "      <td>Father of the Bride Part II (1995)</td>\n",
              "      <td>Comedy</td>\n",
              "    </tr>\n",
              "    <tr>\n",
              "      <th>5</th>\n",
              "      <td>6</td>\n",
              "      <td>Heat (1995)</td>\n",
              "      <td>Action|Crime|Thriller</td>\n",
              "    </tr>\n",
              "    <tr>\n",
              "      <th>6</th>\n",
              "      <td>7</td>\n",
              "      <td>Sabrina (1995)</td>\n",
              "      <td>Comedy|Romance</td>\n",
              "    </tr>\n",
              "    <tr>\n",
              "      <th>7</th>\n",
              "      <td>8</td>\n",
              "      <td>Tom and Huck (1995)</td>\n",
              "      <td>Adventure|Children's</td>\n",
              "    </tr>\n",
              "    <tr>\n",
              "      <th>8</th>\n",
              "      <td>9</td>\n",
              "      <td>Sudden Death (1995)</td>\n",
              "      <td>Action</td>\n",
              "    </tr>\n",
              "    <tr>\n",
              "      <th>9</th>\n",
              "      <td>10</td>\n",
              "      <td>GoldenEye (1995)</td>\n",
              "      <td>Action|Adventure|Thriller</td>\n",
              "    </tr>\n",
              "  </tbody>\n",
              "</table>\n",
              "</div>"
            ],
            "text/plain": [
              "   movie_id                               title                        genres\n",
              "0         1                    Toy Story (1995)   Animation|Children's|Comedy\n",
              "1         2                      Jumanji (1995)  Adventure|Children's|Fantasy\n",
              "2         3             Grumpier Old Men (1995)                Comedy|Romance\n",
              "3         4            Waiting to Exhale (1995)                  Comedy|Drama\n",
              "4         5  Father of the Bride Part II (1995)                        Comedy\n",
              "5         6                         Heat (1995)         Action|Crime|Thriller\n",
              "6         7                      Sabrina (1995)                Comedy|Romance\n",
              "7         8                 Tom and Huck (1995)          Adventure|Children's\n",
              "8         9                 Sudden Death (1995)                        Action\n",
              "9        10                    GoldenEye (1995)     Action|Adventure|Thriller"
            ]
          },
          "metadata": {},
          "execution_count": 570
        }
      ]
    },
    {
      "cell_type": "markdown",
      "metadata": {
        "id": "TSz1-D_LY1IW"
      },
      "source": [
        "Adding indicator variables for each genre requires a little bit of wrangling\n",
        "\n",
        "First, we extract the list of unique genres in the dataset:"
      ]
    },
    {
      "cell_type": "code",
      "metadata": {
        "id": "jOdDy5tGY6bG"
      },
      "source": [
        "all_genres =[]"
      ],
      "execution_count": 571,
      "outputs": []
    },
    {
      "cell_type": "code",
      "metadata": {
        "id": "js0FwjV7Y8Oi"
      },
      "source": [
        "for x in movies.genres:\n",
        "  all_genres.extend(x.split('|'))"
      ],
      "execution_count": 572,
      "outputs": []
    },
    {
      "cell_type": "code",
      "metadata": {
        "id": "BhAFljqiZMdN"
      },
      "source": [
        "genres = pd.unique(all_genres)"
      ],
      "execution_count": 573,
      "outputs": []
    },
    {
      "cell_type": "code",
      "metadata": {
        "colab": {
          "base_uri": "https://localhost:8080/"
        },
        "id": "u7DiBOquZRCQ",
        "outputId": "b8f8cb22-bc2c-46ab-82d8-0a9ddfccfa38"
      },
      "source": [
        "genres"
      ],
      "execution_count": 574,
      "outputs": [
        {
          "output_type": "execute_result",
          "data": {
            "text/plain": [
              "array(['Animation', \"Children's\", 'Comedy', 'Adventure', 'Fantasy',\n",
              "       'Romance', 'Drama', 'Action', 'Crime', 'Thriller', 'Horror',\n",
              "       'Sci-Fi', 'Documentary', 'War', 'Musical', 'Mystery', 'Film-Noir',\n",
              "       'Western'], dtype=object)"
            ]
          },
          "metadata": {},
          "execution_count": 574
        }
      ]
    },
    {
      "cell_type": "markdown",
      "metadata": {
        "id": "CvFdi527ZT3g"
      },
      "source": [
        "One way to construct the indicator DataFrame is to start with a DataFrame of all zeros:"
      ]
    },
    {
      "cell_type": "code",
      "metadata": {
        "id": "z6sVVbW5ZXPe"
      },
      "source": [
        "zero_matrix = np.zeros((len(movies), len(genres)))"
      ],
      "execution_count": 575,
      "outputs": []
    },
    {
      "cell_type": "code",
      "metadata": {
        "id": "-UixERmFZcCe"
      },
      "source": [
        "dummies = pd.DataFrame(zero_matrix, columns=genres)"
      ],
      "execution_count": 576,
      "outputs": []
    },
    {
      "cell_type": "markdown",
      "metadata": {
        "id": "ePYkTRJRZ28V"
      },
      "source": [
        "Now, **iterate through each movie and set entries in each row of dummies to 1**\n",
        "\n",
        "To do this, we **use the dummies.columns to compute the column indices for each genre:**"
      ]
    },
    {
      "cell_type": "code",
      "metadata": {
        "id": "zx6br_TqbGwc"
      },
      "source": [
        "gen = movies.genres[0]"
      ],
      "execution_count": 577,
      "outputs": []
    },
    {
      "cell_type": "code",
      "metadata": {
        "colab": {
          "base_uri": "https://localhost:8080/"
        },
        "id": "hKhBbh1UbOSO",
        "outputId": "3970fe25-5810-459c-9676-e7b7c9717070"
      },
      "source": [
        "gen.split('|')"
      ],
      "execution_count": 578,
      "outputs": [
        {
          "output_type": "execute_result",
          "data": {
            "text/plain": [
              "['Animation', \"Children's\", 'Comedy']"
            ]
          },
          "metadata": {},
          "execution_count": 578
        }
      ]
    },
    {
      "cell_type": "code",
      "metadata": {
        "colab": {
          "base_uri": "https://localhost:8080/"
        },
        "id": "ykK5RD_nbRZO",
        "outputId": "3334577b-0a15-45cb-9502-ae7c240c677e"
      },
      "source": [
        "dummies.columns.get_indexer(gen.split('|'))"
      ],
      "execution_count": 579,
      "outputs": [
        {
          "output_type": "execute_result",
          "data": {
            "text/plain": [
              "array([0, 1, 2])"
            ]
          },
          "metadata": {},
          "execution_count": 579
        }
      ]
    },
    {
      "cell_type": "markdown",
      "metadata": {
        "id": "08LtG3HIb9E2"
      },
      "source": [
        "Then, we can use .iloc to set values based on these indices:"
      ]
    },
    {
      "cell_type": "code",
      "metadata": {
        "id": "sfKwwIFDcARe"
      },
      "source": [
        "for i, gen in enumerate(movies.genres):\n",
        "  indices = dummies.columns.get_indexer(gen.split('|'))\n",
        "  dummies.iloc[1, indices] = 1"
      ],
      "execution_count": 580,
      "outputs": []
    },
    {
      "cell_type": "markdown",
      "metadata": {
        "id": "CnPESw4icdUf"
      },
      "source": [
        "Then, as before, you can combine this with movies:"
      ]
    },
    {
      "cell_type": "code",
      "metadata": {
        "id": "pUyOFKSLcfje"
      },
      "source": [
        "movies_windic = movies.join(dummies.add_prefix('Genre_'))"
      ],
      "execution_count": 581,
      "outputs": []
    },
    {
      "cell_type": "code",
      "metadata": {
        "colab": {
          "base_uri": "https://localhost:8080/"
        },
        "id": "vjMqq8EAckIL",
        "outputId": "ff0cf113-b8b7-4719-cca3-dd183b6f3372"
      },
      "source": [
        "movies_windic.iloc[0]"
      ],
      "execution_count": 582,
      "outputs": [
        {
          "output_type": "execute_result",
          "data": {
            "text/plain": [
              "movie_id                                       1\n",
              "title                           Toy Story (1995)\n",
              "genres               Animation|Children's|Comedy\n",
              "Genre_Animation                              0.0\n",
              "Genre_Children's                             0.0\n",
              "Genre_Comedy                                 0.0\n",
              "Genre_Adventure                              0.0\n",
              "Genre_Fantasy                                0.0\n",
              "Genre_Romance                                0.0\n",
              "Genre_Drama                                  0.0\n",
              "Genre_Action                                 0.0\n",
              "Genre_Crime                                  0.0\n",
              "Genre_Thriller                               0.0\n",
              "Genre_Horror                                 0.0\n",
              "Genre_Sci-Fi                                 0.0\n",
              "Genre_Documentary                            0.0\n",
              "Genre_War                                    0.0\n",
              "Genre_Musical                                0.0\n",
              "Genre_Mystery                                0.0\n",
              "Genre_Film-Noir                              0.0\n",
              "Genre_Western                                0.0\n",
              "Name: 0, dtype: object"
            ]
          },
          "metadata": {},
          "execution_count": 582
        }
      ]
    },
    {
      "cell_type": "markdown",
      "metadata": {
        "id": "bfiMmlpYcynT"
      },
      "source": [
        "**For much larger data**, this method of constructing indicator variables with multiple membership is not especially speedy\n",
        "\n",
        "**It would be better to write a lower-level function that writes directly to a NumPy array, and then wrap the result in a DataFrame**"
      ]
    },
    {
      "cell_type": "markdown",
      "metadata": {
        "id": "ZXOxksCRc6jo"
      },
      "source": [
        "A useful recipe for statistical applications is to combine get_dummies with a discretization function like cut:"
      ]
    },
    {
      "cell_type": "code",
      "metadata": {
        "id": "ELiPFNOmdKu-"
      },
      "source": [
        "np.random.seed(12345)"
      ],
      "execution_count": 583,
      "outputs": []
    },
    {
      "cell_type": "code",
      "metadata": {
        "id": "Jw-4WDyBdM69"
      },
      "source": [
        "values = np.random.rand(10)"
      ],
      "execution_count": 584,
      "outputs": []
    },
    {
      "cell_type": "code",
      "metadata": {
        "colab": {
          "base_uri": "https://localhost:8080/"
        },
        "id": "dm3D3chxdSzg",
        "outputId": "fa477a27-b1c2-47b1-f8ff-3178d4fd542a"
      },
      "source": [
        "values"
      ],
      "execution_count": 585,
      "outputs": [
        {
          "output_type": "execute_result",
          "data": {
            "text/plain": [
              "array([0.92961609, 0.31637555, 0.18391881, 0.20456028, 0.56772503,\n",
              "       0.5955447 , 0.96451452, 0.6531771 , 0.74890664, 0.65356987])"
            ]
          },
          "metadata": {},
          "execution_count": 585
        }
      ]
    },
    {
      "cell_type": "code",
      "metadata": {
        "id": "HstSM0fIdUAw"
      },
      "source": [
        "bins = [0, 0.2, 0.4, 0.6, 0.8, 1]"
      ],
      "execution_count": 586,
      "outputs": []
    },
    {
      "cell_type": "code",
      "metadata": {
        "colab": {
          "base_uri": "https://localhost:8080/",
          "height": 359
        },
        "id": "PIOFB8kadb2u",
        "outputId": "5f2d8ffc-2385-48a6-ce4a-0517a910f1a9"
      },
      "source": [
        "pd.get_dummies(pd.cut(values, bins))"
      ],
      "execution_count": 587,
      "outputs": [
        {
          "output_type": "execute_result",
          "data": {
            "text/html": [
              "<div>\n",
              "<style scoped>\n",
              "    .dataframe tbody tr th:only-of-type {\n",
              "        vertical-align: middle;\n",
              "    }\n",
              "\n",
              "    .dataframe tbody tr th {\n",
              "        vertical-align: top;\n",
              "    }\n",
              "\n",
              "    .dataframe thead th {\n",
              "        text-align: right;\n",
              "    }\n",
              "</style>\n",
              "<table border=\"1\" class=\"dataframe\">\n",
              "  <thead>\n",
              "    <tr style=\"text-align: right;\">\n",
              "      <th></th>\n",
              "      <th>(0.0, 0.2]</th>\n",
              "      <th>(0.2, 0.4]</th>\n",
              "      <th>(0.4, 0.6]</th>\n",
              "      <th>(0.6, 0.8]</th>\n",
              "      <th>(0.8, 1.0]</th>\n",
              "    </tr>\n",
              "  </thead>\n",
              "  <tbody>\n",
              "    <tr>\n",
              "      <th>0</th>\n",
              "      <td>0</td>\n",
              "      <td>0</td>\n",
              "      <td>0</td>\n",
              "      <td>0</td>\n",
              "      <td>1</td>\n",
              "    </tr>\n",
              "    <tr>\n",
              "      <th>1</th>\n",
              "      <td>0</td>\n",
              "      <td>1</td>\n",
              "      <td>0</td>\n",
              "      <td>0</td>\n",
              "      <td>0</td>\n",
              "    </tr>\n",
              "    <tr>\n",
              "      <th>2</th>\n",
              "      <td>1</td>\n",
              "      <td>0</td>\n",
              "      <td>0</td>\n",
              "      <td>0</td>\n",
              "      <td>0</td>\n",
              "    </tr>\n",
              "    <tr>\n",
              "      <th>3</th>\n",
              "      <td>0</td>\n",
              "      <td>1</td>\n",
              "      <td>0</td>\n",
              "      <td>0</td>\n",
              "      <td>0</td>\n",
              "    </tr>\n",
              "    <tr>\n",
              "      <th>4</th>\n",
              "      <td>0</td>\n",
              "      <td>0</td>\n",
              "      <td>1</td>\n",
              "      <td>0</td>\n",
              "      <td>0</td>\n",
              "    </tr>\n",
              "    <tr>\n",
              "      <th>5</th>\n",
              "      <td>0</td>\n",
              "      <td>0</td>\n",
              "      <td>1</td>\n",
              "      <td>0</td>\n",
              "      <td>0</td>\n",
              "    </tr>\n",
              "    <tr>\n",
              "      <th>6</th>\n",
              "      <td>0</td>\n",
              "      <td>0</td>\n",
              "      <td>0</td>\n",
              "      <td>0</td>\n",
              "      <td>1</td>\n",
              "    </tr>\n",
              "    <tr>\n",
              "      <th>7</th>\n",
              "      <td>0</td>\n",
              "      <td>0</td>\n",
              "      <td>0</td>\n",
              "      <td>1</td>\n",
              "      <td>0</td>\n",
              "    </tr>\n",
              "    <tr>\n",
              "      <th>8</th>\n",
              "      <td>0</td>\n",
              "      <td>0</td>\n",
              "      <td>0</td>\n",
              "      <td>1</td>\n",
              "      <td>0</td>\n",
              "    </tr>\n",
              "    <tr>\n",
              "      <th>9</th>\n",
              "      <td>0</td>\n",
              "      <td>0</td>\n",
              "      <td>0</td>\n",
              "      <td>1</td>\n",
              "      <td>0</td>\n",
              "    </tr>\n",
              "  </tbody>\n",
              "</table>\n",
              "</div>"
            ],
            "text/plain": [
              "   (0.0, 0.2]  (0.2, 0.4]  (0.4, 0.6]  (0.6, 0.8]  (0.8, 1.0]\n",
              "0           0           0           0           0           1\n",
              "1           0           1           0           0           0\n",
              "2           1           0           0           0           0\n",
              "3           0           1           0           0           0\n",
              "4           0           0           1           0           0\n",
              "5           0           0           1           0           0\n",
              "6           0           0           0           0           1\n",
              "7           0           0           0           1           0\n",
              "8           0           0           0           1           0\n",
              "9           0           0           0           1           0"
            ]
          },
          "metadata": {},
          "execution_count": 587
        }
      ]
    },
    {
      "cell_type": "markdown",
      "metadata": {
        "id": "Q6PK6xqad28T"
      },
      "source": [
        "# 7.3 String Manipulation"
      ]
    },
    {
      "cell_type": "markdown",
      "metadata": {
        "id": "V8QRQpUCeoc-"
      },
      "source": [
        "## String Object Methods"
      ]
    },
    {
      "cell_type": "code",
      "metadata": {
        "id": "6SmD9424eD-O"
      },
      "source": [
        "val = 'a,b, guido'"
      ],
      "execution_count": 588,
      "outputs": []
    },
    {
      "cell_type": "code",
      "metadata": {
        "colab": {
          "base_uri": "https://localhost:8080/"
        },
        "id": "u5tXV2Fwez8C",
        "outputId": "5b5032bb-13c7-4154-850f-68db4bebbe92"
      },
      "source": [
        "val.split(',')"
      ],
      "execution_count": 589,
      "outputs": [
        {
          "output_type": "execute_result",
          "data": {
            "text/plain": [
              "['a', 'b', ' guido']"
            ]
          },
          "metadata": {},
          "execution_count": 589
        }
      ]
    },
    {
      "cell_type": "markdown",
      "metadata": {
        "id": "dBjTyvuFe45-"
      },
      "source": [
        "split is often combined with **strip to trim whitespace** (including line breaks):"
      ]
    },
    {
      "cell_type": "code",
      "metadata": {
        "id": "N_Q27IZEe95v"
      },
      "source": [
        "pieces = [x.strip() for x in val.split(',')]"
      ],
      "execution_count": 590,
      "outputs": []
    },
    {
      "cell_type": "code",
      "metadata": {
        "colab": {
          "base_uri": "https://localhost:8080/"
        },
        "id": "2crecUuwfDkz",
        "outputId": "f038f948-4972-4d6e-c189-bfad75e6e350"
      },
      "source": [
        "pieces"
      ],
      "execution_count": 591,
      "outputs": [
        {
          "output_type": "execute_result",
          "data": {
            "text/plain": [
              "['a', 'b', 'guido']"
            ]
          },
          "metadata": {},
          "execution_count": 591
        }
      ]
    },
    {
      "cell_type": "markdown",
      "metadata": {
        "id": "_m8TG4G1fGe8"
      },
      "source": [
        "These substrings could be concatenated together with a two-colon delimiter using addition:"
      ]
    },
    {
      "cell_type": "code",
      "metadata": {
        "id": "Q41BS0PlfKaN"
      },
      "source": [
        "first, second, third = pieces"
      ],
      "execution_count": 592,
      "outputs": []
    },
    {
      "cell_type": "code",
      "metadata": {
        "colab": {
          "base_uri": "https://localhost:8080/",
          "height": 35
        },
        "id": "cXr7XyyhfOcN",
        "outputId": "f9cc25b0-810f-4462-a755-67476de63003"
      },
      "source": [
        "first + '::' + second + '::' + third"
      ],
      "execution_count": 593,
      "outputs": [
        {
          "output_type": "execute_result",
          "data": {
            "application/vnd.google.colaboratory.intrinsic+json": {
              "type": "string"
            },
            "text/plain": [
              "'a::b::guido'"
            ]
          },
          "metadata": {},
          "execution_count": 593
        }
      ]
    },
    {
      "cell_type": "markdown",
      "metadata": {
        "id": "3sHVQfNyfTqP"
      },
      "source": [
        "But this isn’t a practical generic method. A faster and more Pythonic way is to pass a list or tuple to the join method on the string '::':"
      ]
    },
    {
      "cell_type": "code",
      "metadata": {
        "colab": {
          "base_uri": "https://localhost:8080/",
          "height": 35
        },
        "id": "hDkn6t5LfbDR",
        "outputId": "682d31af-a5e8-423b-b954-456e1a86aba0"
      },
      "source": [
        "'::'.join(pieces)"
      ],
      "execution_count": 594,
      "outputs": [
        {
          "output_type": "execute_result",
          "data": {
            "application/vnd.google.colaboratory.intrinsic+json": {
              "type": "string"
            },
            "text/plain": [
              "'a::b::guido'"
            ]
          },
          "metadata": {},
          "execution_count": 594
        }
      ]
    },
    {
      "cell_type": "markdown",
      "metadata": {
        "id": "KEyef-O_feZw"
      },
      "source": [
        "Other methods are concerned with locating substrings\n",
        "\n",
        "Using Python’s in keyword is the best way to detect a substring, though index and find can also be used:"
      ]
    },
    {
      "cell_type": "code",
      "metadata": {
        "colab": {
          "base_uri": "https://localhost:8080/"
        },
        "id": "xAp91jY5fkHZ",
        "outputId": "aeb8f08d-4dfa-4ae2-8336-b298c646782a"
      },
      "source": [
        "'guido' in val"
      ],
      "execution_count": 595,
      "outputs": [
        {
          "output_type": "execute_result",
          "data": {
            "text/plain": [
              "True"
            ]
          },
          "metadata": {},
          "execution_count": 595
        }
      ]
    },
    {
      "cell_type": "code",
      "metadata": {
        "colab": {
          "base_uri": "https://localhost:8080/"
        },
        "id": "zMO8HeoEfltx",
        "outputId": "62c42645-2b68-4955-eb16-f8b9f703e07f"
      },
      "source": [
        "val.index(',')"
      ],
      "execution_count": 596,
      "outputs": [
        {
          "output_type": "execute_result",
          "data": {
            "text/plain": [
              "1"
            ]
          },
          "metadata": {},
          "execution_count": 596
        }
      ]
    },
    {
      "cell_type": "code",
      "metadata": {
        "colab": {
          "base_uri": "https://localhost:8080/"
        },
        "id": "ZkUjRd3Kfp7v",
        "outputId": "29e1b7e8-f2a1-44e3-f015-38b8729a341b"
      },
      "source": [
        "val.find(':')"
      ],
      "execution_count": 597,
      "outputs": [
        {
          "output_type": "execute_result",
          "data": {
            "text/plain": [
              "-1"
            ]
          },
          "metadata": {},
          "execution_count": 597
        }
      ]
    },
    {
      "cell_type": "markdown",
      "metadata": {
        "id": "EK0DvFuZiP_0"
      },
      "source": [
        "Note the difference between **find and index is that index raises an exception if the string isn’t found (versus returning –1)**:\n",
        "\n",
        "Relatedly, count returns the number of occurrences of a particular substring:"
      ]
    },
    {
      "cell_type": "code",
      "metadata": {
        "colab": {
          "base_uri": "https://localhost:8080/"
        },
        "id": "tnmcMuR4ifW0",
        "outputId": "de208c46-c871-4087-c208-caaf08e970f3"
      },
      "source": [
        "val.count(',')"
      ],
      "execution_count": 598,
      "outputs": [
        {
          "output_type": "execute_result",
          "data": {
            "text/plain": [
              "2"
            ]
          },
          "metadata": {},
          "execution_count": 598
        }
      ]
    },
    {
      "cell_type": "markdown",
      "metadata": {
        "id": "DEXpVtLvihGY"
      },
      "source": [
        "**replace will substitute occurrences of one pattern for another**\n",
        "\n",
        "It is commonly used to delete patterns, too, by passing an empty string:"
      ]
    },
    {
      "cell_type": "code",
      "metadata": {
        "colab": {
          "base_uri": "https://localhost:8080/",
          "height": 35
        },
        "id": "xqr0zMVJil8m",
        "outputId": "74701af4-7106-450e-8a5d-8c331ee59e72"
      },
      "source": [
        "val.replace(',', '::')"
      ],
      "execution_count": 599,
      "outputs": [
        {
          "output_type": "execute_result",
          "data": {
            "application/vnd.google.colaboratory.intrinsic+json": {
              "type": "string"
            },
            "text/plain": [
              "'a::b:: guido'"
            ]
          },
          "metadata": {},
          "execution_count": 599
        }
      ]
    },
    {
      "cell_type": "code",
      "metadata": {
        "colab": {
          "base_uri": "https://localhost:8080/",
          "height": 35
        },
        "id": "U_rlW48OiowB",
        "outputId": "0b54f4b4-9037-4e0b-fcf3-ef8e08b09ed4"
      },
      "source": [
        "val.replace(',', '')"
      ],
      "execution_count": 600,
      "outputs": [
        {
          "output_type": "execute_result",
          "data": {
            "application/vnd.google.colaboratory.intrinsic+json": {
              "type": "string"
            },
            "text/plain": [
              "'ab guido'"
            ]
          },
          "metadata": {},
          "execution_count": 600
        }
      ]
    },
    {
      "cell_type": "markdown",
      "metadata": {
        "id": "gEhGSrpIizUT"
      },
      "source": [
        "See Table 7-3 for a listing of some of Python’s string methods"
      ]
    },
    {
      "cell_type": "markdown",
      "metadata": {
        "id": "4-Bzcnegi3g3"
      },
      "source": [
        "Table 7-3. Python built-in string methods\n",
        "<p align='center'>\n",
        "<img src='data:image/png;base64,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'>\n",
        "</p>"
      ]
    },
    {
      "cell_type": "markdown",
      "metadata": {
        "id": "iy97BnPojQED"
      },
      "source": [
        "## Regular Expressions"
      ]
    },
    {
      "cell_type": "markdown",
      "metadata": {
        "id": "P0uFY_fRmsT7"
      },
      "source": [
        "Regular expressions provide a flexible way to search or match (often more complex) string patterns in text\n",
        "\n",
        "A single expression, commonly called a **regex, is a string formed according to the regular expression language**\n",
        "\n",
        "**Python’s built-in re module is responsible for applying regular expressions to strings;** I’ll give a number of examples of its use here\n",
        "\n",
        "The re module functions fall into **three categories: pattern matching, substitution, and splitting**\n",
        "\n",
        "Suppose we wanted to split a string with a variable number of whitespace characters **(tabs, spaces, and newlines)**. **The regex describing one or more whitespace characters is \\s+:**"
      ]
    },
    {
      "cell_type": "code",
      "metadata": {
        "id": "-VWtUUZbi3Ke"
      },
      "source": [
        "import re"
      ],
      "execution_count": 601,
      "outputs": []
    },
    {
      "cell_type": "code",
      "metadata": {
        "id": "Yui0Ly_tp3A_"
      },
      "source": [
        "text = 'foo bar\\t baz \\tqux'"
      ],
      "execution_count": 602,
      "outputs": []
    },
    {
      "cell_type": "code",
      "metadata": {
        "colab": {
          "base_uri": "https://localhost:8080/"
        },
        "id": "vCBOz8zjp7Ze",
        "outputId": "6940eeb2-0fe7-4997-f33d-a0585a7484ed"
      },
      "source": [
        "re.split('\\s+', text)"
      ],
      "execution_count": 603,
      "outputs": [
        {
          "output_type": "execute_result",
          "data": {
            "text/plain": [
              "['foo', 'bar', 'baz', 'qux']"
            ]
          },
          "metadata": {},
          "execution_count": 603
        }
      ]
    },
    {
      "cell_type": "markdown",
      "metadata": {
        "id": "OnZ-GpYAqHO9"
      },
      "source": [
        "When you call re.split('\\s+', text), the regular expression is first compiled, and then its split method is called on the passed text\n",
        "\n",
        "You can compile the regex yourself with **re.compile, forming a reusable regex object:**"
      ]
    },
    {
      "cell_type": "code",
      "metadata": {
        "id": "KkBYWDa5qGWQ"
      },
      "source": [
        "regex = re.compile('\\s+')"
      ],
      "execution_count": 604,
      "outputs": []
    },
    {
      "cell_type": "code",
      "metadata": {
        "colab": {
          "base_uri": "https://localhost:8080/"
        },
        "id": "Ak7EbMZ5qgMt",
        "outputId": "585b81b9-a41b-4604-d4df-02dd77249964"
      },
      "source": [
        "regex.split(text)"
      ],
      "execution_count": 605,
      "outputs": [
        {
          "output_type": "execute_result",
          "data": {
            "text/plain": [
              "['foo', 'bar', 'baz', 'qux']"
            ]
          },
          "metadata": {},
          "execution_count": 605
        }
      ]
    },
    {
      "cell_type": "markdown",
      "metadata": {
        "id": "gtdj9ZDxqiOw"
      },
      "source": [
        "If, instead, you wanted to **get a list of all patterns matching the regex**, you can use the **findall** method:"
      ]
    },
    {
      "cell_type": "code",
      "metadata": {
        "colab": {
          "base_uri": "https://localhost:8080/"
        },
        "id": "CWF9_xPASflu",
        "outputId": "af902f60-52b1-43e4-9e32-13125321e7c8"
      },
      "source": [
        "regex.findall(text)"
      ],
      "execution_count": 606,
      "outputs": [
        {
          "output_type": "execute_result",
          "data": {
            "text/plain": [
              "[' ', '\\t ', ' \\t']"
            ]
          },
          "metadata": {},
          "execution_count": 606
        }
      ]
    },
    {
      "cell_type": "markdown",
      "metadata": {
        "id": "1s7v7cisSkn2"
      },
      "source": [
        "To avoid unwanted escaping with \\ in a regular expression, **use raw string literals** like r'C:\\x' instead of the equivalent 'C:\\ \\x'"
      ]
    },
    {
      "cell_type": "markdown",
      "metadata": {
        "id": "aTPbkiMpSoy0"
      },
      "source": [
        "**Creating a regex object with re.compile is highly recommended if you intend to apply the same expression to many strings;** doing so will save CPU cycles\n",
        "\n",
        "match and search are closely related to findall. While **findall returns all matches in a string, search returns only the first match**. More rigidly, **match only matches at the beginning of the string.**\n",
        "\n",
        "As a less trivial example, let’s consider a block of text and a regular expression capable of identifying most email addresses:"
      ]
    },
    {
      "cell_type": "code",
      "metadata": {
        "id": "M7atfFf2Sof-"
      },
      "source": [
        "text = \"\"\"Dave dave@google.com\n",
        "Steve steve@gmail.com\n",
        "Rob rob@gmail.com\n",
        "Ryan ryan@yahoo.com\n",
        "\"\"\"\n",
        "\n",
        "pattern = r'[A-Z0-9._%+-]+@[A-Z0-9.-]+\\.[A-Z]{2,4}'\n",
        "\n",
        "# re.IGNORECASE makes the regex case-insensitive\n",
        "regex = re.compile(pattern, flags=re.IGNORECASE)"
      ],
      "execution_count": 607,
      "outputs": []
    },
    {
      "cell_type": "markdown",
      "metadata": {
        "id": "4rq_ddoRTi1e"
      },
      "source": [
        "Using findall on the text produces a list of the email addresses:"
      ]
    },
    {
      "cell_type": "code",
      "metadata": {
        "colab": {
          "base_uri": "https://localhost:8080/"
        },
        "id": "4f7Bt6mhTI2t",
        "outputId": "70bd80e9-7aaf-49d6-c7fb-07b50e2ed47d"
      },
      "source": [
        "regex.findall(text)"
      ],
      "execution_count": 608,
      "outputs": [
        {
          "output_type": "execute_result",
          "data": {
            "text/plain": [
              "['dave@google.com', 'steve@gmail.com', 'rob@gmail.com', 'ryan@yahoo.com']"
            ]
          },
          "metadata": {},
          "execution_count": 608
        }
      ]
    },
    {
      "cell_type": "markdown",
      "metadata": {
        "id": "ZWqn3uMhTvfr"
      },
      "source": [
        "search returns a special match object for the first email address in the text\n",
        "\n",
        "For the preceding regex, the match object can only tell us the start and end position of the pattern in the string:"
      ]
    },
    {
      "cell_type": "code",
      "metadata": {
        "id": "fZzj-XbpT_6F"
      },
      "source": [
        "m = regex.search(text)"
      ],
      "execution_count": 609,
      "outputs": []
    },
    {
      "cell_type": "code",
      "metadata": {
        "colab": {
          "base_uri": "https://localhost:8080/"
        },
        "id": "yWy_38dEUCoG",
        "outputId": "106efad1-d179-41d9-d40b-362a4223c461"
      },
      "source": [
        "m"
      ],
      "execution_count": 610,
      "outputs": [
        {
          "output_type": "execute_result",
          "data": {
            "text/plain": [
              "<re.Match object; span=(5, 20), match='dave@google.com'>"
            ]
          },
          "metadata": {},
          "execution_count": 610
        }
      ]
    },
    {
      "cell_type": "code",
      "metadata": {
        "colab": {
          "base_uri": "https://localhost:8080/",
          "height": 35
        },
        "id": "ele6bH2IULsW",
        "outputId": "59321d42-3ab7-41dc-d936-95a7a6bce878"
      },
      "source": [
        "text[m.start():m.end()]"
      ],
      "execution_count": 611,
      "outputs": [
        {
          "output_type": "execute_result",
          "data": {
            "application/vnd.google.colaboratory.intrinsic+json": {
              "type": "string"
            },
            "text/plain": [
              "'dave@google.com'"
            ]
          },
          "metadata": {},
          "execution_count": 611
        }
      ]
    },
    {
      "cell_type": "markdown",
      "metadata": {
        "id": "QzTxnaPnUSNO"
      },
      "source": [
        "regex.match returns None, as it only will match if the pattern occurs at the start of the string:"
      ]
    },
    {
      "cell_type": "code",
      "metadata": {
        "colab": {
          "base_uri": "https://localhost:8080/"
        },
        "id": "UGthSHf_UYN2",
        "outputId": "3040bf4a-5c47-48c9-db41-be6e25f4cee4"
      },
      "source": [
        "print(regex.match(text))"
      ],
      "execution_count": 612,
      "outputs": [
        {
          "output_type": "stream",
          "name": "stdout",
          "text": [
            "None\n"
          ]
        }
      ]
    },
    {
      "cell_type": "markdown",
      "metadata": {
        "id": "vJ8Cu_tNUbiX"
      },
      "source": [
        "Relatedly, **sub will return a new string with occurrences of the pattern replaced by the a new string:**"
      ]
    },
    {
      "cell_type": "code",
      "metadata": {
        "colab": {
          "base_uri": "https://localhost:8080/"
        },
        "id": "wt1cksb0UbV2",
        "outputId": "2c0ca785-0146-4c6c-c9ac-9dc9f3397914"
      },
      "source": [
        "print(regex.sub('REDACTED', text))"
      ],
      "execution_count": 613,
      "outputs": [
        {
          "output_type": "stream",
          "name": "stdout",
          "text": [
            "Dave REDACTED\n",
            "Steve REDACTED\n",
            "Rob REDACTED\n",
            "Ryan REDACTED\n",
            "\n"
          ]
        }
      ]
    },
    {
      "cell_type": "markdown",
      "metadata": {
        "id": "5vd2MuvfUv6j"
      },
      "source": [
        "Suppose you wanted to find email addresses and simultaneously **segment** each address into its three components: **username, domain name, and domain** suffix\n",
        "\n",
        "To do this, put parentheses around the parts of the pattern to segment:"
      ]
    },
    {
      "cell_type": "code",
      "metadata": {
        "id": "zLPWefOrVxdu"
      },
      "source": [
        "pattern = r'([A-Z0-9._%+-]+)@([A-Z0-9.-]+)\\.([A-Z]{2,4})'"
      ],
      "execution_count": 614,
      "outputs": []
    },
    {
      "cell_type": "code",
      "metadata": {
        "id": "uDoIWUVMWQWs"
      },
      "source": [
        "regex = re.compile(pattern, flags=re.IGNORECASE)"
      ],
      "execution_count": 615,
      "outputs": []
    },
    {
      "cell_type": "markdown",
      "metadata": {
        "id": "OyyO9uboWVOv"
      },
      "source": [
        "A match object produced by this modified regex returns a tuple of the pattern components with its groups method:"
      ]
    },
    {
      "cell_type": "code",
      "metadata": {
        "id": "S4gykoUBWbDI"
      },
      "source": [
        "m = regex.match('wesm@bright.net')"
      ],
      "execution_count": 616,
      "outputs": []
    },
    {
      "cell_type": "code",
      "metadata": {
        "colab": {
          "base_uri": "https://localhost:8080/"
        },
        "id": "ChWcvA_qWi34",
        "outputId": "87949e71-e4a5-4bda-8520-60286e51732e"
      },
      "source": [
        "m.groups()"
      ],
      "execution_count": 617,
      "outputs": [
        {
          "output_type": "execute_result",
          "data": {
            "text/plain": [
              "('wesm', 'bright', 'net')"
            ]
          },
          "metadata": {},
          "execution_count": 617
        }
      ]
    },
    {
      "cell_type": "markdown",
      "metadata": {
        "id": "ja7O0R4IWus3"
      },
      "source": [
        "findall returns a list of tuples when the pattern has groups:"
      ]
    },
    {
      "cell_type": "code",
      "metadata": {
        "colab": {
          "base_uri": "https://localhost:8080/"
        },
        "id": "Ppk4tIaZWve-",
        "outputId": "55edc432-eb6e-4c6e-c14c-e034e40ac955"
      },
      "source": [
        "regex.findall(text)"
      ],
      "execution_count": 618,
      "outputs": [
        {
          "output_type": "execute_result",
          "data": {
            "text/plain": [
              "[('dave', 'google', 'com'),\n",
              " ('steve', 'gmail', 'com'),\n",
              " ('rob', 'gmail', 'com'),\n",
              " ('ryan', 'yahoo', 'com')]"
            ]
          },
          "metadata": {},
          "execution_count": 618
        }
      ]
    },
    {
      "cell_type": "markdown",
      "metadata": {
        "id": "ngVAvRbWXAVx"
      },
      "source": [
        "sub also has access to groups in each match using special symbols like \\1 and \\2\n",
        "\n",
        "The symbol **\\1 corresponds to the first matched group, \\2 corresponds to the second, and so forth:**"
      ]
    },
    {
      "cell_type": "code",
      "metadata": {
        "colab": {
          "base_uri": "https://localhost:8080/"
        },
        "id": "FDIpncsLXLlP",
        "outputId": "5cd0550a-2e9c-4475-c2c6-80019ae441d0"
      },
      "source": [
        "print(regex.sub(r'Username: \\1, Doman: \\2, Suffix: \\3', text))"
      ],
      "execution_count": 619,
      "outputs": [
        {
          "output_type": "stream",
          "name": "stdout",
          "text": [
            "Dave Username: dave, Doman: google, Suffix: com\n",
            "Steve Username: steve, Doman: gmail, Suffix: com\n",
            "Rob Username: rob, Doman: gmail, Suffix: com\n",
            "Ryan Username: ryan, Doman: yahoo, Suffix: com\n",
            "\n"
          ]
        }
      ]
    },
    {
      "cell_type": "markdown",
      "metadata": {
        "id": "IkFpUL6NXfkY"
      },
      "source": [
        "There is much more to regular expressions in Python, most of which is outside the book’s scope. Table 7-4 provides a brief summary"
      ]
    },
    {
      "cell_type": "markdown",
      "metadata": {
        "id": "49vrFmYMXizc"
      },
      "source": [
        "Table 7-4. Regular expression methods\n",
        "<p align='center'>\n",
        "<img src='data:image/png;base64,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'>\n",
        "</p>"
      ]
    },
    {
      "cell_type": "markdown",
      "metadata": {
        "id": "rB3bYS7_Xuih"
      },
      "source": [
        "## Vectorized String Functions in pandas"
      ]
    },
    {
      "cell_type": "markdown",
      "metadata": {
        "id": "RXLmO0tKXwfq"
      },
      "source": [
        "Cleaning up a messy dataset for analysis often requires a lot of string munging and regularization\n",
        "\n",
        "To complicate matters, a column containing strings will sometimes have missing data:"
      ]
    },
    {
      "cell_type": "code",
      "metadata": {
        "id": "3GAFKz5HYNIP"
      },
      "source": [
        "data = {'Dave': 'dave@google.com', 'Steve': 'steve@gmail.com',\n",
        "        'Rob': 'rob@gmail.com', 'Wes': np.nan}"
      ],
      "execution_count": 620,
      "outputs": []
    },
    {
      "cell_type": "code",
      "metadata": {
        "id": "ujAeQYnhYVM1"
      },
      "source": [
        "data = pd.Series(data)"
      ],
      "execution_count": 621,
      "outputs": []
    },
    {
      "cell_type": "code",
      "metadata": {
        "colab": {
          "base_uri": "https://localhost:8080/"
        },
        "id": "uz3Q8NZQYXal",
        "outputId": "80fcc08a-3618-4af6-fc31-6977b6285207"
      },
      "source": [
        "data"
      ],
      "execution_count": 622,
      "outputs": [
        {
          "output_type": "execute_result",
          "data": {
            "text/plain": [
              "Dave     dave@google.com\n",
              "Steve    steve@gmail.com\n",
              "Rob        rob@gmail.com\n",
              "Wes                  NaN\n",
              "dtype: object"
            ]
          },
          "metadata": {},
          "execution_count": 622
        }
      ]
    },
    {
      "cell_type": "code",
      "metadata": {
        "colab": {
          "base_uri": "https://localhost:8080/"
        },
        "id": "af4QoyJ8YatF",
        "outputId": "f01421b2-f1f1-4f81-a241-81b2423179af"
      },
      "source": [
        "data.isnull()"
      ],
      "execution_count": 623,
      "outputs": [
        {
          "output_type": "execute_result",
          "data": {
            "text/plain": [
              "Dave     False\n",
              "Steve    False\n",
              "Rob      False\n",
              "Wes       True\n",
              "dtype: bool"
            ]
          },
          "metadata": {},
          "execution_count": 623
        }
      ]
    },
    {
      "cell_type": "markdown",
      "metadata": {
        "id": "I8gaEcALYgit"
      },
      "source": [
        "You can apply string and regular expression methods can be applied (passing a lambda or other function) to each value using data.map, but it will fail on the NA (null) values\n",
        "\n",
        "To cope with this, **Series has array-oriented methods for string operations that skip NA values**\n",
        "\n",
        "These are accessed through Series’s str attribute; for example, **we could check whether each email address has 'gmail' in it with str.contains:**"
      ]
    },
    {
      "cell_type": "code",
      "metadata": {
        "colab": {
          "base_uri": "https://localhost:8080/"
        },
        "id": "y0IuLKH_e0JH",
        "outputId": "c18c0391-2f0d-419f-8d55-85491e9a8c1c"
      },
      "source": [
        "data.str.contains('gmail')"
      ],
      "execution_count": 624,
      "outputs": [
        {
          "output_type": "execute_result",
          "data": {
            "text/plain": [
              "Dave     False\n",
              "Steve     True\n",
              "Rob       True\n",
              "Wes        NaN\n",
              "dtype: object"
            ]
          },
          "metadata": {},
          "execution_count": 624
        }
      ]
    },
    {
      "cell_type": "markdown",
      "metadata": {
        "id": "RD9rlCDPe42k"
      },
      "source": [
        "Regular expressions can be used, too, along with any re options like IGNORECASE:"
      ]
    },
    {
      "cell_type": "code",
      "metadata": {
        "colab": {
          "base_uri": "https://localhost:8080/",
          "height": 35
        },
        "id": "OCzDEVBme9Rx",
        "outputId": "b97ab087-2eee-44cf-ba55-db9f17291020"
      },
      "source": [
        "pattern"
      ],
      "execution_count": 625,
      "outputs": [
        {
          "output_type": "execute_result",
          "data": {
            "application/vnd.google.colaboratory.intrinsic+json": {
              "type": "string"
            },
            "text/plain": [
              "'([A-Z0-9._%+-]+)@([A-Z0-9.-]+)\\\\.([A-Z]{2,4})'"
            ]
          },
          "metadata": {},
          "execution_count": 625
        }
      ]
    },
    {
      "cell_type": "code",
      "metadata": {
        "colab": {
          "base_uri": "https://localhost:8080/"
        },
        "id": "qX7F76kkfAOh",
        "outputId": "8eeeb72a-5d32-4b07-fd6a-612297955235"
      },
      "source": [
        "data.str.findall(pattern, flags=re.IGNORECASE)"
      ],
      "execution_count": 626,
      "outputs": [
        {
          "output_type": "execute_result",
          "data": {
            "text/plain": [
              "Dave     [(dave, google, com)]\n",
              "Steve    [(steve, gmail, com)]\n",
              "Rob        [(rob, gmail, com)]\n",
              "Wes                        NaN\n",
              "dtype: object"
            ]
          },
          "metadata": {},
          "execution_count": 626
        }
      ]
    },
    {
      "cell_type": "markdown",
      "metadata": {
        "id": "XZxQn6xnfG8f"
      },
      "source": [
        "There are a couple of ways to do vectorized element retrieval. Either use str.get or index into the str attribute:"
      ]
    },
    {
      "cell_type": "code",
      "metadata": {
        "id": "1qDqSiA4fkxF"
      },
      "source": [
        "matches = data.str.match(pattern, flags=re.IGNORECASE)"
      ],
      "execution_count": 627,
      "outputs": []
    },
    {
      "cell_type": "code",
      "metadata": {
        "colab": {
          "base_uri": "https://localhost:8080/"
        },
        "id": "64D7-wgBfp8q",
        "outputId": "d2f2ecb5-6180-4531-ff6a-7ca5af0063c6"
      },
      "source": [
        "matches"
      ],
      "execution_count": 628,
      "outputs": [
        {
          "output_type": "execute_result",
          "data": {
            "text/plain": [
              "Dave     True\n",
              "Steve    True\n",
              "Rob      True\n",
              "Wes       NaN\n",
              "dtype: object"
            ]
          },
          "metadata": {},
          "execution_count": 628
        }
      ]
    },
    {
      "cell_type": "markdown",
      "metadata": {
        "id": "0oE7ydaefyFq"
      },
      "source": [
        "To access elements in the embedded lists, we can pass an index to either of these functions:"
      ]
    },
    {
      "cell_type": "code",
      "metadata": {
        "id": "JbAYwAdFf1Tu"
      },
      "source": [
        "#matches.str.get(1)"
      ],
      "execution_count": 636,
      "outputs": []
    },
    {
      "cell_type": "markdown",
      "metadata": {
        "id": "dTI8TTdLo4zU"
      },
      "source": [
        "\n",
        "\n",
        "```\n",
        "#Book Output\n",
        "Dave NaN\n",
        "Rob NaN\n",
        "Steve NaN\n",
        "Wes NaN\n",
        "dtype: float64\n",
        "\n",
        "AttributeError: Can only use .str accessor with string values!\n",
        "```\n",
        "\n"
      ]
    },
    {
      "cell_type": "code",
      "metadata": {
        "id": "6EaYrjWbgQlG"
      },
      "source": [
        "#matches.str[0]"
      ],
      "execution_count": 637,
      "outputs": []
    },
    {
      "cell_type": "markdown",
      "metadata": {
        "id": "57i5CJQWo6xe"
      },
      "source": [
        "\n",
        "\n",
        "```\n",
        "#Book Output\n",
        "Dave NaN\n",
        "Rob NaN\n",
        "Steve NaN\n",
        "Wes NaN\n",
        "dtype: float64\n",
        "\n",
        "AttributeError: Can only use .str accessor with string values!\n",
        "```\n",
        "\n"
      ]
    },
    {
      "cell_type": "markdown",
      "metadata": {
        "id": "dHY6hvvBn-4g"
      },
      "source": [
        "You can similarly slice strings using this syntax:"
      ]
    },
    {
      "cell_type": "code",
      "metadata": {
        "colab": {
          "base_uri": "https://localhost:8080/"
        },
        "id": "Df8X7dTQn82D",
        "outputId": "688079ae-3e7f-4375-e998-8976cf9c7ce7"
      },
      "source": [
        "data.str[:5]"
      ],
      "execution_count": 631,
      "outputs": [
        {
          "output_type": "execute_result",
          "data": {
            "text/plain": [
              "Dave     dave@\n",
              "Steve    steve\n",
              "Rob      rob@g\n",
              "Wes        NaN\n",
              "dtype: object"
            ]
          },
          "metadata": {},
          "execution_count": 631
        }
      ]
    },
    {
      "cell_type": "markdown",
      "metadata": {
        "id": "ALJAMUYioBSI"
      },
      "source": [
        "See Table 7-5 for more pandas string methods"
      ]
    },
    {
      "cell_type": "markdown",
      "metadata": {
        "id": "mUHbcPpDoDZb"
      },
      "source": [
        "Table 7-5. Partial listing of vectorized string methods\n",
        "<p align='center'>\n",
        "<img src='data:image/png;base64,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'>\n",
        "</p>"
      ]
    }
  ]
}